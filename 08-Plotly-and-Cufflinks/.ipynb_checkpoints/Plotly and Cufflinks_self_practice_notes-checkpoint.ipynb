{
 "cells": [
  {
   "cell_type": "code",
   "execution_count": 1,
   "id": "9dea74f3",
   "metadata": {},
   "outputs": [],
   "source": [
    "import pandas as pd\n",
    "import numpy as np\n",
    "from plotly import __version__\n",
    "import plotly.offline"
   ]
  },
  {
   "cell_type": "code",
   "execution_count": 2,
   "id": "3877e7a1",
   "metadata": {},
   "outputs": [
    {
     "name": "stdout",
     "output_type": "stream",
     "text": [
      "5.7.0\n"
     ]
    }
   ],
   "source": [
    "print(__version__)"
   ]
  },
  {
   "cell_type": "code",
   "execution_count": 3,
   "id": "f0a95003",
   "metadata": {},
   "outputs": [],
   "source": [
    "import cufflinks as cf\n",
    "from plotly.offline import download_plotlyjs, init_notebook_mode, iplot"
   ]
  },
  {
   "cell_type": "code",
   "execution_count": 4,
   "id": "b71003cb",
   "metadata": {},
   "outputs": [
    {
     "data": {
      "text/html": [
       "        <script type=\"text/javascript\">\n",
       "        window.PlotlyConfig = {MathJaxConfig: 'local'};\n",
       "        if (window.MathJax) {MathJax.Hub.Config({SVG: {font: \"STIX-Web\"}});}\n",
       "        if (typeof require !== 'undefined') {\n",
       "        require.undef(\"plotly\");\n",
       "        requirejs.config({\n",
       "            paths: {\n",
       "                'plotly': ['https://cdn.plot.ly/plotly-2.11.1.min']\n",
       "            }\n",
       "        });\n",
       "        require(['plotly'], function(Plotly) {\n",
       "            window._Plotly = Plotly;\n",
       "        });\n",
       "        }\n",
       "        </script>\n",
       "        "
      ]
     },
     "metadata": {},
     "output_type": "display_data"
    }
   ],
   "source": [
    "init_notebook_mode(connected=True)"
   ]
  },
  {
   "cell_type": "code",
   "execution_count": 5,
   "id": "61b8f7be",
   "metadata": {},
   "outputs": [
    {
     "data": {
      "text/html": [
       "        <script type=\"text/javascript\">\n",
       "        window.PlotlyConfig = {MathJaxConfig: 'local'};\n",
       "        if (window.MathJax) {MathJax.Hub.Config({SVG: {font: \"STIX-Web\"}});}\n",
       "        if (typeof require !== 'undefined') {\n",
       "        require.undef(\"plotly\");\n",
       "        requirejs.config({\n",
       "            paths: {\n",
       "                'plotly': ['https://cdn.plot.ly/plotly-2.11.1.min']\n",
       "            }\n",
       "        });\n",
       "        require(['plotly'], function(Plotly) {\n",
       "            window._Plotly = Plotly;\n",
       "        });\n",
       "        }\n",
       "        </script>\n",
       "        "
      ]
     },
     "metadata": {},
     "output_type": "display_data"
    }
   ],
   "source": [
    "cf.go_offline()"
   ]
  },
  {
   "cell_type": "code",
   "execution_count": 6,
   "id": "607086e0",
   "metadata": {},
   "outputs": [],
   "source": [
    "#Data\n",
    "df = pd.DataFrame(np.random.randn(100,4), columns='A B C D'.split())"
   ]
  },
  {
   "cell_type": "code",
   "execution_count": 7,
   "id": "ed8251f0",
   "metadata": {},
   "outputs": [
    {
     "data": {
      "text/html": [
       "<div>\n",
       "<style scoped>\n",
       "    .dataframe tbody tr th:only-of-type {\n",
       "        vertical-align: middle;\n",
       "    }\n",
       "\n",
       "    .dataframe tbody tr th {\n",
       "        vertical-align: top;\n",
       "    }\n",
       "\n",
       "    .dataframe thead th {\n",
       "        text-align: right;\n",
       "    }\n",
       "</style>\n",
       "<table border=\"1\" class=\"dataframe\">\n",
       "  <thead>\n",
       "    <tr style=\"text-align: right;\">\n",
       "      <th></th>\n",
       "      <th>A</th>\n",
       "      <th>B</th>\n",
       "      <th>C</th>\n",
       "      <th>D</th>\n",
       "    </tr>\n",
       "  </thead>\n",
       "  <tbody>\n",
       "    <tr>\n",
       "      <th>0</th>\n",
       "      <td>0.406730</td>\n",
       "      <td>1.097376</td>\n",
       "      <td>-0.959748</td>\n",
       "      <td>-0.377524</td>\n",
       "    </tr>\n",
       "    <tr>\n",
       "      <th>1</th>\n",
       "      <td>-0.392282</td>\n",
       "      <td>1.864279</td>\n",
       "      <td>1.036782</td>\n",
       "      <td>1.546933</td>\n",
       "    </tr>\n",
       "    <tr>\n",
       "      <th>2</th>\n",
       "      <td>0.758489</td>\n",
       "      <td>1.246114</td>\n",
       "      <td>1.179364</td>\n",
       "      <td>0.797584</td>\n",
       "    </tr>\n",
       "    <tr>\n",
       "      <th>3</th>\n",
       "      <td>-0.944040</td>\n",
       "      <td>1.477672</td>\n",
       "      <td>-1.184791</td>\n",
       "      <td>-1.021524</td>\n",
       "    </tr>\n",
       "    <tr>\n",
       "      <th>4</th>\n",
       "      <td>-0.727463</td>\n",
       "      <td>-0.632198</td>\n",
       "      <td>-0.808439</td>\n",
       "      <td>0.046174</td>\n",
       "    </tr>\n",
       "  </tbody>\n",
       "</table>\n",
       "</div>"
      ],
      "text/plain": [
       "          A         B         C         D\n",
       "0  0.406730  1.097376 -0.959748 -0.377524\n",
       "1 -0.392282  1.864279  1.036782  1.546933\n",
       "2  0.758489  1.246114  1.179364  0.797584\n",
       "3 -0.944040  1.477672 -1.184791 -1.021524\n",
       "4 -0.727463 -0.632198 -0.808439  0.046174"
      ]
     },
     "execution_count": 7,
     "metadata": {},
     "output_type": "execute_result"
    }
   ],
   "source": [
    "df.head()"
   ]
  },
  {
   "cell_type": "code",
   "execution_count": 8,
   "id": "4c8064d6",
   "metadata": {},
   "outputs": [
    {
     "data": {
      "text/html": [
       "<div>\n",
       "<style scoped>\n",
       "    .dataframe tbody tr th:only-of-type {\n",
       "        vertical-align: middle;\n",
       "    }\n",
       "\n",
       "    .dataframe tbody tr th {\n",
       "        vertical-align: top;\n",
       "    }\n",
       "\n",
       "    .dataframe thead th {\n",
       "        text-align: right;\n",
       "    }\n",
       "</style>\n",
       "<table border=\"1\" class=\"dataframe\">\n",
       "  <thead>\n",
       "    <tr style=\"text-align: right;\">\n",
       "      <th></th>\n",
       "      <th>Category</th>\n",
       "      <th>Value</th>\n",
       "    </tr>\n",
       "  </thead>\n",
       "  <tbody>\n",
       "    <tr>\n",
       "      <th>0</th>\n",
       "      <td>A</td>\n",
       "      <td>32</td>\n",
       "    </tr>\n",
       "    <tr>\n",
       "      <th>1</th>\n",
       "      <td>B</td>\n",
       "      <td>43</td>\n",
       "    </tr>\n",
       "    <tr>\n",
       "      <th>2</th>\n",
       "      <td>C</td>\n",
       "      <td>50</td>\n",
       "    </tr>\n",
       "  </tbody>\n",
       "</table>\n",
       "</div>"
      ],
      "text/plain": [
       "  Category  Value\n",
       "0        A     32\n",
       "1        B     43\n",
       "2        C     50"
      ]
     },
     "execution_count": 8,
     "metadata": {},
     "output_type": "execute_result"
    }
   ],
   "source": [
    "df2 = pd.DataFrame({'Category':['A', 'B', 'C'],'Value':[32,43,50]})\n",
    "df2"
   ]
  },
  {
   "cell_type": "code",
   "execution_count": 9,
   "id": "e5345e3f",
   "metadata": {},
   "outputs": [
    {
     "data": {
      "text/plain": [
       "<AxesSubplot:>"
      ]
     },
     "execution_count": 9,
     "metadata": {},
     "output_type": "execute_result"
    },
    {
     "data": {
      "image/png": "[encoded data removed]",
      "text/plain": [
       "<Figure size 432x288 with 1 Axes>"
      ]
     },
     "metadata": {
      "needs_background": "light"
     },
     "output_type": "display_data"
    }
   ],
   "source": [
    "df.plot()"
   ]
  },
  {
   "cell_type": "code",
   "execution_count": 10,
   "id": "2d31c7ed",
   "metadata": {},
   "outputs": [
    {
     "data": {
      "application/vnd.plotly.v1+json": {
       "config": {
        "linkText": "Export to plot.ly",
        "plotlyServerURL": "https://plot.ly",
        "showLink": true
       },
       "data": [
        {
         "line": {
          "color": "rgba(255, 153, 51, 1.0)",
          "dash": "solid",
          "shape": "linear",
          "width": 1.3
         },
         "mode": "lines",
         "name": "A",
         "text": "",
         "type": "scatter",
         "x": [
          0,
          1,
          2,
          3,
          4,
          5,
          6,
          7,
          8,
          9,
          10,
          11,
          12,
          13,
          14,
          15,
          16,
          17,
          18,
          19,
          20,
          21,
          22,
          23,
          24,
          25,
          26,
          27,
          28,
          29,
          30,
          31,
          32,
          33,
          34,
          35,
          36,
          37,
          38,
          39,
          40,
          41,
          42,
          43,
          44,
          45,
          46,
          47,
          48,
          49,
          50,
          51,
          52,
          53,
          54,
          55,
          56,
          57,
          58,
          59,
          60,
          61,
          62,
          63,
          64,
          65,
          66,
          67,
          68,
          69,
          70,
          71,
          72,
          73,
          74,
          75,
          76,
          77,
          78,
          79,
          80,
          81,
          82,
          83,
          84,
          85,
          86,
          87,
          88,
          89,
          90,
          91,
          92,
          93,
          94,
          95,
          96,
          97,
          98,
          99
         ],
         "y": [
          0.406730039480157,
          -0.39228221499578964,
          0.7584886923840094,
          -0.9440396101168271,
          -0.727462876129729,
          0.4839174053257021,
          0.3627206584336743,
          1.168876137696794,
          1.2510313986768908,
          -0.8539452754949033,
          0.055427781643683255,
          -0.6784544917630049,
          0.8326820808182758,
          0.28424683461318606,
          -0.14757676900957287,
          0.11439817628276706,
          -0.18475712704423441,
          0.0038164459887509153,
          0.34990494510895703,
          -0.4378365112671588,
          -0.319660271111292,
          -0.3137996100294566,
          0.7818668395960702,
          1.233186915064355,
          -0.6435088591199211,
          -0.7662361903303532,
          0.6315312339735785,
          -1.5985204957973767,
          -1.8108208438232374,
          2.851513981870026,
          -0.0364816577569318,
          -0.07999396186412067,
          -1.4714556943251862,
          -0.47159853321598855,
          -1.4583382229612358,
          0.5500685036145431,
          -0.5124116539500457,
          -0.4612840603123584,
          1.2075325846345708,
          0.27937512403424236,
          0.4729467860759181,
          0.694237909442264,
          -0.22313437477461176,
          -2.1673385397595584,
          1.3640671084533982,
          1.4328639494199835,
          -1.3186427873817268,
          -1.0994996582162526,
          -0.41552140832138207,
          -1.1080560081519106,
          0.2813001247748424,
          -0.7580111392673803,
          -0.7788585603184489,
          1.2751150122692931,
          2.00579679912336,
          0.47791604052873227,
          0.12635847592401317,
          0.4544312374061017,
          -0.701182543768695,
          -0.31650116074208257,
          1.40877730233643,
          -0.30667471652084766,
          0.8587407419478714,
          1.9907280644550456,
          -0.34251402756783583,
          0.8082078562811572,
          0.15996260259357092,
          0.004165864484431415,
          1.226249713622541,
          1.448104818376337,
          -0.571107037470229,
          1.0776789911239473,
          -0.1018710678062574,
          1.1137520194408075,
          0.305546217332669,
          -0.43272160683972544,
          0.5002141172314987,
          1.384830376450365,
          1.3439169146885883,
          -0.801316865757186,
          0.6946582118008514,
          1.1900960545880286,
          0.15796941300637093,
          1.1856772524598995,
          -1.3348503021181104,
          0.26021804126709724,
          0.7641069566280589,
          0.5619839963840547,
          0.9919306452669481,
          -0.42193016475058465,
          1.6278652681325925,
          0.040967833820687465,
          0.4341660540644965,
          1.2258119652660264,
          0.16250938553896713,
          0.7601085688053791,
          -0.9805826865572652,
          2.3002686917555693,
          1.301006005581953,
          1.754526468354843
         ]
        },
        {
         "line": {
          "color": "rgba(55, 128, 191, 1.0)",
          "dash": "solid",
          "shape": "linear",
          "width": 1.3
         },
         "mode": "lines",
         "name": "B",
         "text": "",
         "type": "scatter",
         "x": [
          0,
          1,
          2,
          3,
          4,
          5,
          6,
          7,
          8,
          9,
          10,
          11,
          12,
          13,
          14,
          15,
          16,
          17,
          18,
          19,
          20,
          21,
          22,
          23,
          24,
          25,
          26,
          27,
          28,
          29,
          30,
          31,
          32,
          33,
          34,
          35,
          36,
          37,
          38,
          39,
          40,
          41,
          42,
          43,
          44,
          45,
          46,
          47,
          48,
          49,
          50,
          51,
          52,
          53,
          54,
          55,
          56,
          57,
          58,
          59,
          60,
          61,
          62,
          63,
          64,
          65,
          66,
          67,
          68,
          69,
          70,
          71,
          72,
          73,
          74,
          75,
          76,
          77,
          78,
          79,
          80,
          81,
          82,
          83,
          84,
          85,
          86,
          87,
          88,
          89,
          90,
          91,
          92,
          93,
          94,
          95,
          96,
          97,
          98,
          99
         ],
         "y": [
          1.097376166904293,
          1.8642792306676408,
          1.2461137578017065,
          1.477672212271986,
          -0.6321980447209725,
          -0.701592290165167,
          -1.9910127251039769,
          -0.16971343962788965,
          1.541150001898701,
          -1.6226902596728239,
          -0.19448210077836395,
          -0.47549319984974325,
          0.7803436367159594,
          2.08048633199042,
          -0.8719472680505037,
          -0.37442017918715675,
          -0.4891452026651608,
          -0.5970083414206725,
          -0.16973314267358802,
          0.06428229010088789,
          0.4494812462908728,
          -0.07193734454633495,
          0.9309418106438704,
          -0.9753354844829426,
          -0.22601455757081423,
          0.18748715389366605,
          -0.1312877215837846,
          0.2381938795614643,
          -1.7590016804188497,
          0.6731156410468611,
          -0.7597413854750319,
          -0.8841013551192329,
          0.3929846598823091,
          0.11017410931895902,
          0.18683594785406676,
          -0.2029225971205222,
          -1.0052515203199146,
          -0.8693936292685707,
          -0.5374583078325221,
          0.5430544806259738,
          -1.3965788668301606,
          -1.1651248251003146,
          -0.8524306919840188,
          1.128249186662589,
          0.6442598329163325,
          1.0213495698127613,
          -0.23049466510995706,
          0.07953191198925529,
          -1.4659932409105514,
          1.2955320882347134,
          -0.8377201170388314,
          -0.4065340844831503,
          -1.5343531136588566,
          0.5484422875986819,
          0.09010716670491731,
          -2.249789437139244,
          -0.4964833178001253,
          0.9236763626726683,
          0.8452213396049112,
          -1.2927235441395513,
          1.7141323156631694,
          2.0912246513019284,
          0.25670750122387975,
          -1.1156603606229654,
          1.9235857811875827,
          -0.8710707446693985,
          1.3740453390524754,
          -0.35252170079482553,
          0.3105335666082955,
          -0.8699675452643268,
          -1.5648524283832677,
          0.5259596252560428,
          -0.11867843751372183,
          -0.4825495127875421,
          0.47010600603079233,
          0.6759767650864442,
          -0.1813265244137657,
          0.23745839470300278,
          1.9769665072823797,
          0.5902013388082753,
          1.710003116764618,
          0.03506191983633523,
          0.36609790401099235,
          -0.44103957812685,
          0.014828666517463394,
          0.21150895973385886,
          1.5565405830025982,
          2.401094575846921,
          -0.28780392140728167,
          -1.93983090406157,
          0.4842455485607953,
          1.0815228442886557,
          -0.36042455727396383,
          -0.6162822329956089,
          0.7698723634388819,
          -0.26264604843217976,
          -0.5313630021704862,
          -0.9796202663756749,
          0.07779045872360635,
          0.45828456864812617
         ]
        },
        {
         "line": {
          "color": "rgba(50, 171, 96, 1.0)",
          "dash": "solid",
          "shape": "linear",
          "width": 1.3
         },
         "mode": "lines",
         "name": "C",
         "text": "",
         "type": "scatter",
         "x": [
          0,
          1,
          2,
          3,
          4,
          5,
          6,
          7,
          8,
          9,
          10,
          11,
          12,
          13,
          14,
          15,
          16,
          17,
          18,
          19,
          20,
          21,
          22,
          23,
          24,
          25,
          26,
          27,
          28,
          29,
          30,
          31,
          32,
          33,
          34,
          35,
          36,
          37,
          38,
          39,
          40,
          41,
          42,
          43,
          44,
          45,
          46,
          47,
          48,
          49,
          50,
          51,
          52,
          53,
          54,
          55,
          56,
          57,
          58,
          59,
          60,
          61,
          62,
          63,
          64,
          65,
          66,
          67,
          68,
          69,
          70,
          71,
          72,
          73,
          74,
          75,
          76,
          77,
          78,
          79,
          80,
          81,
          82,
          83,
          84,
          85,
          86,
          87,
          88,
          89,
          90,
          91,
          92,
          93,
          94,
          95,
          96,
          97,
          98,
          99
         ],
         "y": [
          -0.959747881609686,
          1.0367821198208023,
          1.1793643986088211,
          -1.1847910685272307,
          -0.8084386447856533,
          0.17988019416163548,
          0.3980228918066277,
          -1.08082996218518,
          -0.5666268107303905,
          -0.3844724301983165,
          -0.25922695615111,
          -0.19240029331781172,
          -0.9262680677710405,
          1.5202632748089229,
          -0.5488602253956538,
          1.5444815479525467,
          -1.02807514380886,
          -1.3369806920411973,
          -1.2355219454915394,
          -0.3650483311232349,
          -1.0378418608531532,
          -0.33723343966111063,
          0.612532028665151,
          2.264398042000688,
          1.5526885092866494,
          -1.041815130520541,
          -1.4449717477082784,
          -0.6765598716890142,
          -0.1188794303229958,
          -0.2296694432837657,
          -0.10692238325046478,
          -1.4796792755911248,
          0.046884110499893085,
          -0.6400552792075027,
          -1.6148675005152104,
          -0.8181027964469965,
          -0.23619986103989418,
          -1.3309197760816576,
          -1.346254717197355,
          0.715404419869758,
          0.9801234758543126,
          -0.9296905800722829,
          0.4679481363201032,
          -1.1818051412191242,
          0.9154701140210872,
          1.3932319048211754,
          0.5444851638530489,
          1.4537859430819797,
          0.24489743804102446,
          0.19791287590021447,
          -0.6698998391357807,
          -1.3978800295772889,
          0.3794789816172494,
          -1.2597528308744037,
          0.7911117770587406,
          0.8860111458984627,
          1.100997847227812,
          1.2227346621855006,
          0.23813988698570066,
          0.7369555603898272,
          0.12729412239022272,
          0.4941300636382026,
          0.3001154465893416,
          -0.8522656780053931,
          -1.2428088551637078,
          -0.4331463496663254,
          0.16852650488740917,
          -0.6155703411818955,
          -0.7470558852677666,
          -0.17081111977622232,
          -1.0108532874031082,
          0.30111657698245825,
          -1.4004351460905673,
          -0.617479520524966,
          1.096583802392027,
          0.38027555293067633,
          -2.4770444913214926,
          0.5124599056022963,
          -0.7864323172889783,
          -2.012404930830048,
          -0.5239455987265228,
          0.28855396935654365,
          -2.180575119874746,
          0.22409243129740206,
          1.6110071750508808,
          -0.1732752241703584,
          1.2478975671405141,
          -0.048669124542163676,
          -1.0065265236213345,
          0.3888443659165873,
          -0.27466355453413027,
          -0.5211709616199443,
          -2.213711402445004,
          1.6586733594573306,
          -0.22848418615931423,
          0.057267395731893815,
          0.3821345869931526,
          2.2275703180856756,
          0.2072166861025222,
          0.12301242491396328
         ]
        },
        {
         "line": {
          "color": "rgba(128, 0, 128, 1.0)",
          "dash": "solid",
          "shape": "linear",
          "width": 1.3
         },
         "mode": "lines",
         "name": "D",
         "text": "",
         "type": "scatter",
         "x": [
          0,
          1,
          2,
          3,
          4,
          5,
          6,
          7,
          8,
          9,
          10,
          11,
          12,
          13,
          14,
          15,
          16,
          17,
          18,
          19,
          20,
          21,
          22,
          23,
          24,
          25,
          26,
          27,
          28,
          29,
          30,
          31,
          32,
          33,
          34,
          35,
          36,
          37,
          38,
          39,
          40,
          41,
          42,
          43,
          44,
          45,
          46,
          47,
          48,
          49,
          50,
          51,
          52,
          53,
          54,
          55,
          56,
          57,
          58,
          59,
          60,
          61,
          62,
          63,
          64,
          65,
          66,
          67,
          68,
          69,
          70,
          71,
          72,
          73,
          74,
          75,
          76,
          77,
          78,
          79,
          80,
          81,
          82,
          83,
          84,
          85,
          86,
          87,
          88,
          89,
          90,
          91,
          92,
          93,
          94,
          95,
          96,
          97,
          98,
          99
         ],
         "y": [
          -0.3775237105476041,
          1.5469330558820853,
          0.7975837377689529,
          -1.0215237358858384,
          0.046174419806248125,
          -0.4546700022403752,
          -0.976645584975092,
          0.45717773411839563,
          -1.3606088988003922,
          -1.764923821143453,
          1.3491715340900854,
          1.0404434348743121,
          2.231620580687955,
          -0.9592701447679857,
          0.02481391863717533,
          1.1543392090813562,
          -0.5448617030321711,
          0.981060386509627,
          -1.3971884449374945,
          0.051944384918920075,
          0.5191578103580838,
          -0.2079011438790017,
          2.4598800535048064,
          -0.3064029027419856,
          1.7368796898541534,
          2.0259377554560363,
          0.05077977396190428,
          2.3636997814467824,
          -0.9001904283819676,
          -0.4615461008048252,
          1.580150496138963,
          -1.4459977513748663,
          0.7849704949260711,
          0.9370021432027721,
          -1.0438536510350638,
          1.0642048533773578,
          -0.5047233858253104,
          -1.2985658864810619,
          -0.9347355102775656,
          -1.7435021361118295,
          0.6540645036517425,
          -0.5406342471593872,
          0.8175495870482,
          -0.28795761265237857,
          -0.6040342612099427,
          -0.000273981036672952,
          -0.03040250123411199,
          -1.3474981929133365,
          1.326316641128734,
          -1.4048711185810525,
          0.3496708975244264,
          1.175758589037626,
          0.5407612368541103,
          -1.5947823321895451,
          -0.2814276918443059,
          -0.4266535186520008,
          -0.11651375400559504,
          0.7395628814325849,
          -0.21127926389675677,
          -1.6285256466392641,
          2.715790717037815,
          -0.4381836055540097,
          -0.7167752813344342,
          1.6344080173541937,
          1.092247657456989,
          1.1918526512537928,
          1.4797193451776989,
          -0.042073357485148864,
          1.4353536465377565,
          0.566212208762207,
          -1.0469684943619808,
          1.2965361364755423,
          -0.7693246295679306,
          1.4043778339323014,
          -0.022019816215365234,
          -0.2565755827695688,
          -0.9516114323200353,
          0.4100799957427423,
          0.27899071689190635,
          -0.643630880672682,
          1.3788949433245734,
          1.7421489253733558,
          0.47087130008510547,
          0.1086939483089091,
          -0.796358241377402,
          0.43141768585008794,
          0.4935046381639671,
          2.2923780110911194,
          0.4553633293911215,
          1.2470448067482276,
          0.5680883081761456,
          -0.17640134522893047,
          0.6490268225007355,
          -0.844411924817917,
          -1.556331856145653,
          -0.6893983779063737,
          -0.9099102769233144,
          -1.0202975535224497,
          -0.8373455223524954,
          -0.0428262147603727
         ]
        }
       ],
       "layout": {
        "legend": {
         "bgcolor": "#F5F6F9",
         "font": {
          "color": "#4D5663"
         }
        },
        "paper_bgcolor": "#F5F6F9",
        "plot_bgcolor": "#F5F6F9",
        "template": {
         "data": {
          "bar": [
           {
            "error_x": {
             "color": "#2a3f5f"
            },
            "error_y": {
             "color": "#2a3f5f"
            },
            "marker": {
             "line": {
              "color": "#E5ECF6",
              "width": 0.5
             },
             "pattern": {
              "fillmode": "overlay",
              "size": 10,
              "solidity": 0.2
             }
            },
            "type": "bar"
           }
          ],
          "barpolar": [
           {
            "marker": {
             "line": {
              "color": "#E5ECF6",
              "width": 0.5
             },
             "pattern": {
              "fillmode": "overlay",
              "size": 10,
              "solidity": 0.2
             }
            },
            "type": "barpolar"
           }
          ],
          "carpet": [
           {
            "aaxis": {
             "endlinecolor": "#2a3f5f",
             "gridcolor": "white",
             "linecolor": "white",
             "minorgridcolor": "white",
             "startlinecolor": "#2a3f5f"
            },
            "baxis": {
             "endlinecolor": "#2a3f5f",
             "gridcolor": "white",
             "linecolor": "white",
             "minorgridcolor": "white",
             "startlinecolor": "#2a3f5f"
            },
            "type": "carpet"
           }
          ],
          "choropleth": [
           {
            "colorbar": {
             "outlinewidth": 0,
             "ticks": ""
            },
            "type": "choropleth"
           }
          ],
          "contour": [
           {
            "colorbar": {
             "outlinewidth": 0,
             "ticks": ""
            },
            "colorscale": [
             [
              0,
              "#0d0887"
             ],
             [
              0.1111111111111111,
              "#46039f"
             ],
             [
              0.2222222222222222,
              "#7201a8"
             ],
             [
              0.3333333333333333,
              "#9c179e"
             ],
             [
              0.4444444444444444,
              "#bd3786"
             ],
             [
              0.5555555555555556,
              "#d8576b"
             ],
             [
              0.6666666666666666,
              "#ed7953"
             ],
             [
              0.7777777777777778,
              "#fb9f3a"
             ],
             [
              0.8888888888888888,
              "#fdca26"
             ],
             [
              1,
              "#f0f921"
             ]
            ],
            "type": "contour"
           }
          ],
          "contourcarpet": [
           {
            "colorbar": {
             "outlinewidth": 0,
             "ticks": ""
            },
            "type": "contourcarpet"
           }
          ],
          "heatmap": [
           {
            "colorbar": {
             "outlinewidth": 0,
             "ticks": ""
            },
            "colorscale": [
             [
              0,
              "#0d0887"
             ],
             [
              0.1111111111111111,
              "#46039f"
             ],
             [
              0.2222222222222222,
              "#7201a8"
             ],
             [
              0.3333333333333333,
              "#9c179e"
             ],
             [
              0.4444444444444444,
              "#bd3786"
             ],
             [
              0.5555555555555556,
              "#d8576b"
             ],
             [
              0.6666666666666666,
              "#ed7953"
             ],
             [
              0.7777777777777778,
              "#fb9f3a"
             ],
             [
              0.8888888888888888,
              "#fdca26"
             ],
             [
              1,
              "#f0f921"
             ]
            ],
            "type": "heatmap"
           }
          ],
          "heatmapgl": [
           {
            "colorbar": {
             "outlinewidth": 0,
             "ticks": ""
            },
            "colorscale": [
             [
              0,
              "#0d0887"
             ],
             [
              0.1111111111111111,
              "#46039f"
             ],
             [
              0.2222222222222222,
              "#7201a8"
             ],
             [
              0.3333333333333333,
              "#9c179e"
             ],
             [
              0.4444444444444444,
              "#bd3786"
             ],
             [
              0.5555555555555556,
              "#d8576b"
             ],
             [
              0.6666666666666666,
              "#ed7953"
             ],
             [
              0.7777777777777778,
              "#fb9f3a"
             ],
             [
              0.8888888888888888,
              "#fdca26"
             ],
             [
              1,
              "#f0f921"
             ]
            ],
            "type": "heatmapgl"
           }
          ],
          "histogram": [
           {
            "marker": {
             "pattern": {
              "fillmode": "overlay",
              "size": 10,
              "solidity": 0.2
             }
            },
            "type": "histogram"
           }
          ],
          "histogram2d": [
           {
            "colorbar": {
             "outlinewidth": 0,
             "ticks": ""
            },
            "colorscale": [
             [
              0,
              "#0d0887"
             ],
             [
              0.1111111111111111,
              "#46039f"
             ],
             [
              0.2222222222222222,
              "#7201a8"
             ],
             [
              0.3333333333333333,
              "#9c179e"
             ],
             [
              0.4444444444444444,
              "#bd3786"
             ],
             [
              0.5555555555555556,
              "#d8576b"
             ],
             [
              0.6666666666666666,
              "#ed7953"
             ],
             [
              0.7777777777777778,
              "#fb9f3a"
             ],
             [
              0.8888888888888888,
              "#fdca26"
             ],
             [
              1,
              "#f0f921"
             ]
            ],
            "type": "histogram2d"
           }
          ],
          "histogram2dcontour": [
           {
            "colorbar": {
             "outlinewidth": 0,
             "ticks": ""
            },
            "colorscale": [
             [
              0,
              "#0d0887"
             ],
             [
              0.1111111111111111,
              "#46039f"
             ],
             [
              0.2222222222222222,
              "#7201a8"
             ],
             [
              0.3333333333333333,
              "#9c179e"
             ],
             [
              0.4444444444444444,
              "#bd3786"
             ],
             [
              0.5555555555555556,
              "#d8576b"
             ],
             [
              0.6666666666666666,
              "#ed7953"
             ],
             [
              0.7777777777777778,
              "#fb9f3a"
             ],
             [
              0.8888888888888888,
              "#fdca26"
             ],
             [
              1,
              "#f0f921"
             ]
            ],
            "type": "histogram2dcontour"
           }
          ],
          "mesh3d": [
           {
            "colorbar": {
             "outlinewidth": 0,
             "ticks": ""
            },
            "type": "mesh3d"
           }
          ],
          "parcoords": [
           {
            "line": {
             "colorbar": {
              "outlinewidth": 0,
              "ticks": ""
             }
            },
            "type": "parcoords"
           }
          ],
          "pie": [
           {
            "automargin": true,
            "type": "pie"
           }
          ],
          "scatter": [
           {
            "fillpattern": {
             "fillmode": "overlay",
             "size": 10,
             "solidity": 0.2
            },
            "type": "scatter"
           }
          ],
          "scatter3d": [
           {
            "line": {
             "colorbar": {
              "outlinewidth": 0,
              "ticks": ""
             }
            },
            "marker": {
             "colorbar": {
              "outlinewidth": 0,
              "ticks": ""
             }
            },
            "type": "scatter3d"
           }
          ],
          "scattercarpet": [
           {
            "marker": {
             "colorbar": {
              "outlinewidth": 0,
              "ticks": ""
             }
            },
            "type": "scattercarpet"
           }
          ],
          "scattergeo": [
           {
            "marker": {
             "colorbar": {
              "outlinewidth": 0,
              "ticks": ""
             }
            },
            "type": "scattergeo"
           }
          ],
          "scattergl": [
           {
            "marker": {
             "colorbar": {
              "outlinewidth": 0,
              "ticks": ""
             }
            },
            "type": "scattergl"
           }
          ],
          "scattermapbox": [
           {
            "marker": {
             "colorbar": {
              "outlinewidth": 0,
              "ticks": ""
             }
            },
            "type": "scattermapbox"
           }
          ],
          "scatterpolar": [
           {
            "marker": {
             "colorbar": {
              "outlinewidth": 0,
              "ticks": ""
             }
            },
            "type": "scatterpolar"
           }
          ],
          "scatterpolargl": [
           {
            "marker": {
             "colorbar": {
              "outlinewidth": 0,
              "ticks": ""
             }
            },
            "type": "scatterpolargl"
           }
          ],
          "scatterternary": [
           {
            "marker": {
             "colorbar": {
              "outlinewidth": 0,
              "ticks": ""
             }
            },
            "type": "scatterternary"
           }
          ],
          "surface": [
           {
            "colorbar": {
             "outlinewidth": 0,
             "ticks": ""
            },
            "colorscale": [
             [
              0,
              "#0d0887"
             ],
             [
              0.1111111111111111,
              "#46039f"
             ],
             [
              0.2222222222222222,
              "#7201a8"
             ],
             [
              0.3333333333333333,
              "#9c179e"
             ],
             [
              0.4444444444444444,
              "#bd3786"
             ],
             [
              0.5555555555555556,
              "#d8576b"
             ],
             [
              0.6666666666666666,
              "#ed7953"
             ],
             [
              0.7777777777777778,
              "#fb9f3a"
             ],
             [
              0.8888888888888888,
              "#fdca26"
             ],
             [
              1,
              "#f0f921"
             ]
            ],
            "type": "surface"
           }
          ],
          "table": [
           {
            "cells": {
             "fill": {
              "color": "#EBF0F8"
             },
             "line": {
              "color": "white"
             }
            },
            "header": {
             "fill": {
              "color": "#C8D4E3"
             },
             "line": {
              "color": "white"
             }
            },
            "type": "table"
           }
          ]
         },
         "layout": {
          "annotationdefaults": {
           "arrowcolor": "#2a3f5f",
           "arrowhead": 0,
           "arrowwidth": 1
          },
          "autotypenumbers": "strict",
          "coloraxis": {
           "colorbar": {
            "outlinewidth": 0,
            "ticks": ""
           }
          },
          "colorscale": {
           "diverging": [
            [
             0,
             "#8e0152"
            ],
            [
             0.1,
             "#c51b7d"
            ],
            [
             0.2,
             "#de77ae"
            ],
            [
             0.3,
             "#f1b6da"
            ],
            [
             0.4,
             "#fde0ef"
            ],
            [
             0.5,
             "#f7f7f7"
            ],
            [
             0.6,
             "#e6f5d0"
            ],
            [
             0.7,
             "#b8e186"
            ],
            [
             0.8,
             "#7fbc41"
            ],
            [
             0.9,
             "#4d9221"
            ],
            [
             1,
             "#276419"
            ]
           ],
           "sequential": [
            [
             0,
             "#0d0887"
            ],
            [
             0.1111111111111111,
             "#46039f"
            ],
            [
             0.2222222222222222,
             "#7201a8"
            ],
            [
             0.3333333333333333,
             "#9c179e"
            ],
            [
             0.4444444444444444,
             "#bd3786"
            ],
            [
             0.5555555555555556,
             "#d8576b"
            ],
            [
             0.6666666666666666,
             "#ed7953"
            ],
            [
             0.7777777777777778,
             "#fb9f3a"
            ],
            [
             0.8888888888888888,
             "#fdca26"
            ],
            [
             1,
             "#f0f921"
            ]
           ],
           "sequentialminus": [
            [
             0,
             "#0d0887"
            ],
            [
             0.1111111111111111,
             "#46039f"
            ],
            [
             0.2222222222222222,
             "#7201a8"
            ],
            [
             0.3333333333333333,
             "#9c179e"
            ],
            [
             0.4444444444444444,
             "#bd3786"
            ],
            [
             0.5555555555555556,
             "#d8576b"
            ],
            [
             0.6666666666666666,
             "#ed7953"
            ],
            [
             0.7777777777777778,
             "#fb9f3a"
            ],
            [
             0.8888888888888888,
             "#fdca26"
            ],
            [
             1,
             "#f0f921"
            ]
           ]
          },
          "colorway": [
           "#636efa",
           "#EF553B",
           "#00cc96",
           "#ab63fa",
           "#FFA15A",
           "#19d3f3",
           "#FF6692",
           "#B6E880",
           "#FF97FF",
           "#FECB52"
          ],
          "font": {
           "color": "#2a3f5f"
          },
          "geo": {
           "bgcolor": "white",
           "lakecolor": "white",
           "landcolor": "#E5ECF6",
           "showlakes": true,
           "showland": true,
           "subunitcolor": "white"
          },
          "hoverlabel": {
           "align": "left"
          },
          "hovermode": "closest",
          "mapbox": {
           "style": "light"
          },
          "paper_bgcolor": "white",
          "plot_bgcolor": "#E5ECF6",
          "polar": {
           "angularaxis": {
            "gridcolor": "white",
            "linecolor": "white",
            "ticks": ""
           },
           "bgcolor": "#E5ECF6",
           "radialaxis": {
            "gridcolor": "white",
            "linecolor": "white",
            "ticks": ""
           }
          },
          "scene": {
           "xaxis": {
            "backgroundcolor": "#E5ECF6",
            "gridcolor": "white",
            "gridwidth": 2,
            "linecolor": "white",
            "showbackground": true,
            "ticks": "",
            "zerolinecolor": "white"
           },
           "yaxis": {
            "backgroundcolor": "#E5ECF6",
            "gridcolor": "white",
            "gridwidth": 2,
            "linecolor": "white",
            "showbackground": true,
            "ticks": "",
            "zerolinecolor": "white"
           },
           "zaxis": {
            "backgroundcolor": "#E5ECF6",
            "gridcolor": "white",
            "gridwidth": 2,
            "linecolor": "white",
            "showbackground": true,
            "ticks": "",
            "zerolinecolor": "white"
           }
          },
          "shapedefaults": {
           "line": {
            "color": "#2a3f5f"
           }
          },
          "ternary": {
           "aaxis": {
            "gridcolor": "white",
            "linecolor": "white",
            "ticks": ""
           },
           "baxis": {
            "gridcolor": "white",
            "linecolor": "white",
            "ticks": ""
           },
           "bgcolor": "#E5ECF6",
           "caxis": {
            "gridcolor": "white",
            "linecolor": "white",
            "ticks": ""
           }
          },
          "title": {
           "x": 0.05
          },
          "xaxis": {
           "automargin": true,
           "gridcolor": "white",
           "linecolor": "white",
           "ticks": "",
           "title": {
            "standoff": 15
           },
           "zerolinecolor": "white",
           "zerolinewidth": 2
          },
          "yaxis": {
           "automargin": true,
           "gridcolor": "white",
           "linecolor": "white",
           "ticks": "",
           "title": {
            "standoff": 15
           },
           "zerolinecolor": "white",
           "zerolinewidth": 2
          }
         }
        },
        "title": {
         "font": {
          "color": "#4D5663"
         }
        },
        "xaxis": {
         "gridcolor": "#E1E5ED",
         "showgrid": true,
         "tickfont": {
          "color": "#4D5663"
         },
         "title": {
          "font": {
           "color": "#4D5663"
          },
          "text": ""
         },
         "zerolinecolor": "#E1E5ED"
        },
        "yaxis": {
         "gridcolor": "#E1E5ED",
         "showgrid": true,
         "tickfont": {
          "color": "#4D5663"
         },
         "title": {
          "font": {
           "color": "#4D5663"
          },
          "text": ""
         },
         "zerolinecolor": "#E1E5ED"
        }
       }
      },
      "text/html": [
       "<div>                            <div id=\"2946a890-a5a1-4d45-9141-e6d2e044bfa5\" class=\"plotly-graph-div\" style=\"height:525px; width:100%;\"></div>            <script type=\"text/javascript\">                require([\"plotly\"], function(Plotly) {                    window.PLOTLYENV=window.PLOTLYENV || {};\n",
       "                    window.PLOTLYENV.BASE_URL='https://plot.ly';                                    if (document.getElementById(\"2946a890-a5a1-4d45-9141-e6d2e044bfa5\")) {                    Plotly.newPlot(                        \"2946a890-a5a1-4d45-9141-e6d2e044bfa5\",                        [{\"line\":{\"color\":\"rgba(255, 153, 51, 1.0)\",\"dash\":\"solid\",\"shape\":\"linear\",\"width\":1.3},\"mode\":\"lines\",\"name\":\"A\",\"text\":\"\",\"x\":[0,1,2,3,4,5,6,7,8,9,10,11,12,13,14,15,16,17,18,19,20,21,22,23,24,25,26,27,28,29,30,31,32,33,34,35,36,37,38,39,40,41,42,43,44,45,46,47,48,49,50,51,52,53,54,55,56,57,58,59,60,61,62,63,64,65,66,67,68,69,70,71,72,73,74,75,76,77,78,79,80,81,82,83,84,85,86,87,88,89,90,91,92,93,94,95,96,97,98,99],\"y\":[0.406730039480157,-0.39228221499578964,0.7584886923840094,-0.9440396101168271,-0.727462876129729,0.4839174053257021,0.3627206584336743,1.168876137696794,1.2510313986768908,-0.8539452754949033,0.055427781643683255,-0.6784544917630049,0.8326820808182758,0.28424683461318606,-0.14757676900957287,0.11439817628276706,-0.18475712704423441,0.0038164459887509153,0.34990494510895703,-0.4378365112671588,-0.319660271111292,-0.3137996100294566,0.7818668395960702,1.233186915064355,-0.6435088591199211,-0.7662361903303532,0.6315312339735785,-1.5985204957973767,-1.8108208438232374,2.851513981870026,-0.0364816577569318,-0.07999396186412067,-1.4714556943251862,-0.47159853321598855,-1.4583382229612358,0.5500685036145431,-0.5124116539500457,-0.4612840603123584,1.2075325846345708,0.27937512403424236,0.4729467860759181,0.694237909442264,-0.22313437477461176,-2.1673385397595584,1.3640671084533982,1.4328639494199835,-1.3186427873817268,-1.0994996582162526,-0.41552140832138207,-1.1080560081519106,0.2813001247748424,-0.7580111392673803,-0.7788585603184489,1.2751150122692931,2.00579679912336,0.47791604052873227,0.12635847592401317,0.4544312374061017,-0.701182543768695,-0.31650116074208257,1.40877730233643,-0.30667471652084766,0.8587407419478714,1.9907280644550456,-0.34251402756783583,0.8082078562811572,0.15996260259357092,0.004165864484431415,1.226249713622541,1.448104818376337,-0.571107037470229,1.0776789911239473,-0.1018710678062574,1.1137520194408075,0.305546217332669,-0.43272160683972544,0.5002141172314987,1.384830376450365,1.3439169146885883,-0.801316865757186,0.6946582118008514,1.1900960545880286,0.15796941300637093,1.1856772524598995,-1.3348503021181104,0.26021804126709724,0.7641069566280589,0.5619839963840547,0.9919306452669481,-0.42193016475058465,1.6278652681325925,0.040967833820687465,0.4341660540644965,1.2258119652660264,0.16250938553896713,0.7601085688053791,-0.9805826865572652,2.3002686917555693,1.301006005581953,1.754526468354843],\"type\":\"scatter\"},{\"line\":{\"color\":\"rgba(55, 128, 191, 1.0)\",\"dash\":\"solid\",\"shape\":\"linear\",\"width\":1.3},\"mode\":\"lines\",\"name\":\"B\",\"text\":\"\",\"x\":[0,1,2,3,4,5,6,7,8,9,10,11,12,13,14,15,16,17,18,19,20,21,22,23,24,25,26,27,28,29,30,31,32,33,34,35,36,37,38,39,40,41,42,43,44,45,46,47,48,49,50,51,52,53,54,55,56,57,58,59,60,61,62,63,64,65,66,67,68,69,70,71,72,73,74,75,76,77,78,79,80,81,82,83,84,85,86,87,88,89,90,91,92,93,94,95,96,97,98,99],\"y\":[1.097376166904293,1.8642792306676408,1.2461137578017065,1.477672212271986,-0.6321980447209725,-0.701592290165167,-1.9910127251039769,-0.16971343962788965,1.541150001898701,-1.6226902596728239,-0.19448210077836395,-0.47549319984974325,0.7803436367159594,2.08048633199042,-0.8719472680505037,-0.37442017918715675,-0.4891452026651608,-0.5970083414206725,-0.16973314267358802,0.06428229010088789,0.4494812462908728,-0.07193734454633495,0.9309418106438704,-0.9753354844829426,-0.22601455757081423,0.18748715389366605,-0.1312877215837846,0.2381938795614643,-1.7590016804188497,0.6731156410468611,-0.7597413854750319,-0.8841013551192329,0.3929846598823091,0.11017410931895902,0.18683594785406676,-0.2029225971205222,-1.0052515203199146,-0.8693936292685707,-0.5374583078325221,0.5430544806259738,-1.3965788668301606,-1.1651248251003146,-0.8524306919840188,1.128249186662589,0.6442598329163325,1.0213495698127613,-0.23049466510995706,0.07953191198925529,-1.4659932409105514,1.2955320882347134,-0.8377201170388314,-0.4065340844831503,-1.5343531136588566,0.5484422875986819,0.09010716670491731,-2.249789437139244,-0.4964833178001253,0.9236763626726683,0.8452213396049112,-1.2927235441395513,1.7141323156631694,2.0912246513019284,0.25670750122387975,-1.1156603606229654,1.9235857811875827,-0.8710707446693985,1.3740453390524754,-0.35252170079482553,0.3105335666082955,-0.8699675452643268,-1.5648524283832677,0.5259596252560428,-0.11867843751372183,-0.4825495127875421,0.47010600603079233,0.6759767650864442,-0.1813265244137657,0.23745839470300278,1.9769665072823797,0.5902013388082753,1.710003116764618,0.03506191983633523,0.36609790401099235,-0.44103957812685,0.014828666517463394,0.21150895973385886,1.5565405830025982,2.401094575846921,-0.28780392140728167,-1.93983090406157,0.4842455485607953,1.0815228442886557,-0.36042455727396383,-0.6162822329956089,0.7698723634388819,-0.26264604843217976,-0.5313630021704862,-0.9796202663756749,0.07779045872360635,0.45828456864812617],\"type\":\"scatter\"},{\"line\":{\"color\":\"rgba(50, 171, 96, 1.0)\",\"dash\":\"solid\",\"shape\":\"linear\",\"width\":1.3},\"mode\":\"lines\",\"name\":\"C\",\"text\":\"\",\"x\":[0,1,2,3,4,5,6,7,8,9,10,11,12,13,14,15,16,17,18,19,20,21,22,23,24,25,26,27,28,29,30,31,32,33,34,35,36,37,38,39,40,41,42,43,44,45,46,47,48,49,50,51,52,53,54,55,56,57,58,59,60,61,62,63,64,65,66,67,68,69,70,71,72,73,74,75,76,77,78,79,80,81,82,83,84,85,86,87,88,89,90,91,92,93,94,95,96,97,98,99],\"y\":[-0.959747881609686,1.0367821198208023,1.1793643986088211,-1.1847910685272307,-0.8084386447856533,0.17988019416163548,0.3980228918066277,-1.08082996218518,-0.5666268107303905,-0.3844724301983165,-0.25922695615111,-0.19240029331781172,-0.9262680677710405,1.5202632748089229,-0.5488602253956538,1.5444815479525467,-1.02807514380886,-1.3369806920411973,-1.2355219454915394,-0.3650483311232349,-1.0378418608531532,-0.33723343966111063,0.612532028665151,2.264398042000688,1.5526885092866494,-1.041815130520541,-1.4449717477082784,-0.6765598716890142,-0.1188794303229958,-0.2296694432837657,-0.10692238325046478,-1.4796792755911248,0.046884110499893085,-0.6400552792075027,-1.6148675005152104,-0.8181027964469965,-0.23619986103989418,-1.3309197760816576,-1.346254717197355,0.715404419869758,0.9801234758543126,-0.9296905800722829,0.4679481363201032,-1.1818051412191242,0.9154701140210872,1.3932319048211754,0.5444851638530489,1.4537859430819797,0.24489743804102446,0.19791287590021447,-0.6698998391357807,-1.3978800295772889,0.3794789816172494,-1.2597528308744037,0.7911117770587406,0.8860111458984627,1.100997847227812,1.2227346621855006,0.23813988698570066,0.7369555603898272,0.12729412239022272,0.4941300636382026,0.3001154465893416,-0.8522656780053931,-1.2428088551637078,-0.4331463496663254,0.16852650488740917,-0.6155703411818955,-0.7470558852677666,-0.17081111977622232,-1.0108532874031082,0.30111657698245825,-1.4004351460905673,-0.617479520524966,1.096583802392027,0.38027555293067633,-2.4770444913214926,0.5124599056022963,-0.7864323172889783,-2.012404930830048,-0.5239455987265228,0.28855396935654365,-2.180575119874746,0.22409243129740206,1.6110071750508808,-0.1732752241703584,1.2478975671405141,-0.048669124542163676,-1.0065265236213345,0.3888443659165873,-0.27466355453413027,-0.5211709616199443,-2.213711402445004,1.6586733594573306,-0.22848418615931423,0.057267395731893815,0.3821345869931526,2.2275703180856756,0.2072166861025222,0.12301242491396328],\"type\":\"scatter\"},{\"line\":{\"color\":\"rgba(128, 0, 128, 1.0)\",\"dash\":\"solid\",\"shape\":\"linear\",\"width\":1.3},\"mode\":\"lines\",\"name\":\"D\",\"text\":\"\",\"x\":[0,1,2,3,4,5,6,7,8,9,10,11,12,13,14,15,16,17,18,19,20,21,22,23,24,25,26,27,28,29,30,31,32,33,34,35,36,37,38,39,40,41,42,43,44,45,46,47,48,49,50,51,52,53,54,55,56,57,58,59,60,61,62,63,64,65,66,67,68,69,70,71,72,73,74,75,76,77,78,79,80,81,82,83,84,85,86,87,88,89,90,91,92,93,94,95,96,97,98,99],\"y\":[-0.3775237105476041,1.5469330558820853,0.7975837377689529,-1.0215237358858384,0.046174419806248125,-0.4546700022403752,-0.976645584975092,0.45717773411839563,-1.3606088988003922,-1.764923821143453,1.3491715340900854,1.0404434348743121,2.231620580687955,-0.9592701447679857,0.02481391863717533,1.1543392090813562,-0.5448617030321711,0.981060386509627,-1.3971884449374945,0.051944384918920075,0.5191578103580838,-0.2079011438790017,2.4598800535048064,-0.3064029027419856,1.7368796898541534,2.0259377554560363,0.05077977396190428,2.3636997814467824,-0.9001904283819676,-0.4615461008048252,1.580150496138963,-1.4459977513748663,0.7849704949260711,0.9370021432027721,-1.0438536510350638,1.0642048533773578,-0.5047233858253104,-1.2985658864810619,-0.9347355102775656,-1.7435021361118295,0.6540645036517425,-0.5406342471593872,0.8175495870482,-0.28795761265237857,-0.6040342612099427,-0.000273981036672952,-0.03040250123411199,-1.3474981929133365,1.326316641128734,-1.4048711185810525,0.3496708975244264,1.175758589037626,0.5407612368541103,-1.5947823321895451,-0.2814276918443059,-0.4266535186520008,-0.11651375400559504,0.7395628814325849,-0.21127926389675677,-1.6285256466392641,2.715790717037815,-0.4381836055540097,-0.7167752813344342,1.6344080173541937,1.092247657456989,1.1918526512537928,1.4797193451776989,-0.042073357485148864,1.4353536465377565,0.566212208762207,-1.0469684943619808,1.2965361364755423,-0.7693246295679306,1.4043778339323014,-0.022019816215365234,-0.2565755827695688,-0.9516114323200353,0.4100799957427423,0.27899071689190635,-0.643630880672682,1.3788949433245734,1.7421489253733558,0.47087130008510547,0.1086939483089091,-0.796358241377402,0.43141768585008794,0.4935046381639671,2.2923780110911194,0.4553633293911215,1.2470448067482276,0.5680883081761456,-0.17640134522893047,0.6490268225007355,-0.844411924817917,-1.556331856145653,-0.6893983779063737,-0.9099102769233144,-1.0202975535224497,-0.8373455223524954,-0.0428262147603727],\"type\":\"scatter\"}],                        {\"legend\":{\"bgcolor\":\"#F5F6F9\",\"font\":{\"color\":\"#4D5663\"}},\"paper_bgcolor\":\"#F5F6F9\",\"plot_bgcolor\":\"#F5F6F9\",\"template\":{\"data\":{\"barpolar\":[{\"marker\":{\"line\":{\"color\":\"#E5ECF6\",\"width\":0.5},\"pattern\":{\"fillmode\":\"overlay\",\"size\":10,\"solidity\":0.2}},\"type\":\"barpolar\"}],\"bar\":[{\"error_x\":{\"color\":\"#2a3f5f\"},\"error_y\":{\"color\":\"#2a3f5f\"},\"marker\":{\"line\":{\"color\":\"#E5ECF6\",\"width\":0.5},\"pattern\":{\"fillmode\":\"overlay\",\"size\":10,\"solidity\":0.2}},\"type\":\"bar\"}],\"carpet\":[{\"aaxis\":{\"endlinecolor\":\"#2a3f5f\",\"gridcolor\":\"white\",\"linecolor\":\"white\",\"minorgridcolor\":\"white\",\"startlinecolor\":\"#2a3f5f\"},\"baxis\":{\"endlinecolor\":\"#2a3f5f\",\"gridcolor\":\"white\",\"linecolor\":\"white\",\"minorgridcolor\":\"white\",\"startlinecolor\":\"#2a3f5f\"},\"type\":\"carpet\"}],\"choropleth\":[{\"colorbar\":{\"outlinewidth\":0,\"ticks\":\"\"},\"type\":\"choropleth\"}],\"contourcarpet\":[{\"colorbar\":{\"outlinewidth\":0,\"ticks\":\"\"},\"type\":\"contourcarpet\"}],\"contour\":[{\"colorbar\":{\"outlinewidth\":0,\"ticks\":\"\"},\"colorscale\":[[0.0,\"#0d0887\"],[0.1111111111111111,\"#46039f\"],[0.2222222222222222,\"#7201a8\"],[0.3333333333333333,\"#9c179e\"],[0.4444444444444444,\"#bd3786\"],[0.5555555555555556,\"#d8576b\"],[0.6666666666666666,\"#ed7953\"],[0.7777777777777778,\"#fb9f3a\"],[0.8888888888888888,\"#fdca26\"],[1.0,\"#f0f921\"]],\"type\":\"contour\"}],\"heatmapgl\":[{\"colorbar\":{\"outlinewidth\":0,\"ticks\":\"\"},\"colorscale\":[[0.0,\"#0d0887\"],[0.1111111111111111,\"#46039f\"],[0.2222222222222222,\"#7201a8\"],[0.3333333333333333,\"#9c179e\"],[0.4444444444444444,\"#bd3786\"],[0.5555555555555556,\"#d8576b\"],[0.6666666666666666,\"#ed7953\"],[0.7777777777777778,\"#fb9f3a\"],[0.8888888888888888,\"#fdca26\"],[1.0,\"#f0f921\"]],\"type\":\"heatmapgl\"}],\"heatmap\":[{\"colorbar\":{\"outlinewidth\":0,\"ticks\":\"\"},\"colorscale\":[[0.0,\"#0d0887\"],[0.1111111111111111,\"#46039f\"],[0.2222222222222222,\"#7201a8\"],[0.3333333333333333,\"#9c179e\"],[0.4444444444444444,\"#bd3786\"],[0.5555555555555556,\"#d8576b\"],[0.6666666666666666,\"#ed7953\"],[0.7777777777777778,\"#fb9f3a\"],[0.8888888888888888,\"#fdca26\"],[1.0,\"#f0f921\"]],\"type\":\"heatmap\"}],\"histogram2dcontour\":[{\"colorbar\":{\"outlinewidth\":0,\"ticks\":\"\"},\"colorscale\":[[0.0,\"#0d0887\"],[0.1111111111111111,\"#46039f\"],[0.2222222222222222,\"#7201a8\"],[0.3333333333333333,\"#9c179e\"],[0.4444444444444444,\"#bd3786\"],[0.5555555555555556,\"#d8576b\"],[0.6666666666666666,\"#ed7953\"],[0.7777777777777778,\"#fb9f3a\"],[0.8888888888888888,\"#fdca26\"],[1.0,\"#f0f921\"]],\"type\":\"histogram2dcontour\"}],\"histogram2d\":[{\"colorbar\":{\"outlinewidth\":0,\"ticks\":\"\"},\"colorscale\":[[0.0,\"#0d0887\"],[0.1111111111111111,\"#46039f\"],[0.2222222222222222,\"#7201a8\"],[0.3333333333333333,\"#9c179e\"],[0.4444444444444444,\"#bd3786\"],[0.5555555555555556,\"#d8576b\"],[0.6666666666666666,\"#ed7953\"],[0.7777777777777778,\"#fb9f3a\"],[0.8888888888888888,\"#fdca26\"],[1.0,\"#f0f921\"]],\"type\":\"histogram2d\"}],\"histogram\":[{\"marker\":{\"pattern\":{\"fillmode\":\"overlay\",\"size\":10,\"solidity\":0.2}},\"type\":\"histogram\"}],\"mesh3d\":[{\"colorbar\":{\"outlinewidth\":0,\"ticks\":\"\"},\"type\":\"mesh3d\"}],\"parcoords\":[{\"line\":{\"colorbar\":{\"outlinewidth\":0,\"ticks\":\"\"}},\"type\":\"parcoords\"}],\"pie\":[{\"automargin\":true,\"type\":\"pie\"}],\"scatter3d\":[{\"line\":{\"colorbar\":{\"outlinewidth\":0,\"ticks\":\"\"}},\"marker\":{\"colorbar\":{\"outlinewidth\":0,\"ticks\":\"\"}},\"type\":\"scatter3d\"}],\"scattercarpet\":[{\"marker\":{\"colorbar\":{\"outlinewidth\":0,\"ticks\":\"\"}},\"type\":\"scattercarpet\"}],\"scattergeo\":[{\"marker\":{\"colorbar\":{\"outlinewidth\":0,\"ticks\":\"\"}},\"type\":\"scattergeo\"}],\"scattergl\":[{\"marker\":{\"colorbar\":{\"outlinewidth\":0,\"ticks\":\"\"}},\"type\":\"scattergl\"}],\"scattermapbox\":[{\"marker\":{\"colorbar\":{\"outlinewidth\":0,\"ticks\":\"\"}},\"type\":\"scattermapbox\"}],\"scatterpolargl\":[{\"marker\":{\"colorbar\":{\"outlinewidth\":0,\"ticks\":\"\"}},\"type\":\"scatterpolargl\"}],\"scatterpolar\":[{\"marker\":{\"colorbar\":{\"outlinewidth\":0,\"ticks\":\"\"}},\"type\":\"scatterpolar\"}],\"scatter\":[{\"fillpattern\":{\"fillmode\":\"overlay\",\"size\":10,\"solidity\":0.2},\"type\":\"scatter\"}],\"scatterternary\":[{\"marker\":{\"colorbar\":{\"outlinewidth\":0,\"ticks\":\"\"}},\"type\":\"scatterternary\"}],\"surface\":[{\"colorbar\":{\"outlinewidth\":0,\"ticks\":\"\"},\"colorscale\":[[0.0,\"#0d0887\"],[0.1111111111111111,\"#46039f\"],[0.2222222222222222,\"#7201a8\"],[0.3333333333333333,\"#9c179e\"],[0.4444444444444444,\"#bd3786\"],[0.5555555555555556,\"#d8576b\"],[0.6666666666666666,\"#ed7953\"],[0.7777777777777778,\"#fb9f3a\"],[0.8888888888888888,\"#fdca26\"],[1.0,\"#f0f921\"]],\"type\":\"surface\"}],\"table\":[{\"cells\":{\"fill\":{\"color\":\"#EBF0F8\"},\"line\":{\"color\":\"white\"}},\"header\":{\"fill\":{\"color\":\"#C8D4E3\"},\"line\":{\"color\":\"white\"}},\"type\":\"table\"}]},\"layout\":{\"annotationdefaults\":{\"arrowcolor\":\"#2a3f5f\",\"arrowhead\":0,\"arrowwidth\":1},\"autotypenumbers\":\"strict\",\"coloraxis\":{\"colorbar\":{\"outlinewidth\":0,\"ticks\":\"\"}},\"colorscale\":{\"diverging\":[[0,\"#8e0152\"],[0.1,\"#c51b7d\"],[0.2,\"#de77ae\"],[0.3,\"#f1b6da\"],[0.4,\"#fde0ef\"],[0.5,\"#f7f7f7\"],[0.6,\"#e6f5d0\"],[0.7,\"#b8e186\"],[0.8,\"#7fbc41\"],[0.9,\"#4d9221\"],[1,\"#276419\"]],\"sequential\":[[0.0,\"#0d0887\"],[0.1111111111111111,\"#46039f\"],[0.2222222222222222,\"#7201a8\"],[0.3333333333333333,\"#9c179e\"],[0.4444444444444444,\"#bd3786\"],[0.5555555555555556,\"#d8576b\"],[0.6666666666666666,\"#ed7953\"],[0.7777777777777778,\"#fb9f3a\"],[0.8888888888888888,\"#fdca26\"],[1.0,\"#f0f921\"]],\"sequentialminus\":[[0.0,\"#0d0887\"],[0.1111111111111111,\"#46039f\"],[0.2222222222222222,\"#7201a8\"],[0.3333333333333333,\"#9c179e\"],[0.4444444444444444,\"#bd3786\"],[0.5555555555555556,\"#d8576b\"],[0.6666666666666666,\"#ed7953\"],[0.7777777777777778,\"#fb9f3a\"],[0.8888888888888888,\"#fdca26\"],[1.0,\"#f0f921\"]]},\"colorway\":[\"#636efa\",\"#EF553B\",\"#00cc96\",\"#ab63fa\",\"#FFA15A\",\"#19d3f3\",\"#FF6692\",\"#B6E880\",\"#FF97FF\",\"#FECB52\"],\"font\":{\"color\":\"#2a3f5f\"},\"geo\":{\"bgcolor\":\"white\",\"lakecolor\":\"white\",\"landcolor\":\"#E5ECF6\",\"showlakes\":true,\"showland\":true,\"subunitcolor\":\"white\"},\"hoverlabel\":{\"align\":\"left\"},\"hovermode\":\"closest\",\"mapbox\":{\"style\":\"light\"},\"paper_bgcolor\":\"white\",\"plot_bgcolor\":\"#E5ECF6\",\"polar\":{\"angularaxis\":{\"gridcolor\":\"white\",\"linecolor\":\"white\",\"ticks\":\"\"},\"bgcolor\":\"#E5ECF6\",\"radialaxis\":{\"gridcolor\":\"white\",\"linecolor\":\"white\",\"ticks\":\"\"}},\"scene\":{\"xaxis\":{\"backgroundcolor\":\"#E5ECF6\",\"gridcolor\":\"white\",\"gridwidth\":2,\"linecolor\":\"white\",\"showbackground\":true,\"ticks\":\"\",\"zerolinecolor\":\"white\"},\"yaxis\":{\"backgroundcolor\":\"#E5ECF6\",\"gridcolor\":\"white\",\"gridwidth\":2,\"linecolor\":\"white\",\"showbackground\":true,\"ticks\":\"\",\"zerolinecolor\":\"white\"},\"zaxis\":{\"backgroundcolor\":\"#E5ECF6\",\"gridcolor\":\"white\",\"gridwidth\":2,\"linecolor\":\"white\",\"showbackground\":true,\"ticks\":\"\",\"zerolinecolor\":\"white\"}},\"shapedefaults\":{\"line\":{\"color\":\"#2a3f5f\"}},\"ternary\":{\"aaxis\":{\"gridcolor\":\"white\",\"linecolor\":\"white\",\"ticks\":\"\"},\"baxis\":{\"gridcolor\":\"white\",\"linecolor\":\"white\",\"ticks\":\"\"},\"bgcolor\":\"#E5ECF6\",\"caxis\":{\"gridcolor\":\"white\",\"linecolor\":\"white\",\"ticks\":\"\"}},\"title\":{\"x\":0.05},\"xaxis\":{\"automargin\":true,\"gridcolor\":\"white\",\"linecolor\":\"white\",\"ticks\":\"\",\"title\":{\"standoff\":15},\"zerolinecolor\":\"white\",\"zerolinewidth\":2},\"yaxis\":{\"automargin\":true,\"gridcolor\":\"white\",\"linecolor\":\"white\",\"ticks\":\"\",\"title\":{\"standoff\":15},\"zerolinecolor\":\"white\",\"zerolinewidth\":2}}},\"title\":{\"font\":{\"color\":\"#4D5663\"}},\"xaxis\":{\"gridcolor\":\"#E1E5ED\",\"showgrid\":true,\"tickfont\":{\"color\":\"#4D5663\"},\"title\":{\"font\":{\"color\":\"#4D5663\"},\"text\":\"\"},\"zerolinecolor\":\"#E1E5ED\"},\"yaxis\":{\"gridcolor\":\"#E1E5ED\",\"showgrid\":true,\"tickfont\":{\"color\":\"#4D5663\"},\"title\":{\"font\":{\"color\":\"#4D5663\"},\"text\":\"\"},\"zerolinecolor\":\"#E1E5ED\"}},                        {\"showLink\": true, \"linkText\": \"Export to plot.ly\", \"plotlyServerURL\": \"https://plot.ly\", \"responsive\": true}                    ).then(function(){\n",
       "                            \n",
       "var gd = document.getElementById('2946a890-a5a1-4d45-9141-e6d2e044bfa5');\n",
       "var x = new MutationObserver(function (mutations, observer) {{\n",
       "        var display = window.getComputedStyle(gd).display;\n",
       "        if (!display || display === 'none') {{\n",
       "            console.log([gd, 'removed!']);\n",
       "            Plotly.purge(gd);\n",
       "            observer.disconnect();\n",
       "        }}\n",
       "}});\n",
       "\n",
       "// Listen for the removal of the full notebook cells\n",
       "var notebookContainer = gd.closest('#notebook-container');\n",
       "if (notebookContainer) {{\n",
       "    x.observe(notebookContainer, {childList: true});\n",
       "}}\n",
       "\n",
       "// Listen for the clearing of the current output cell\n",
       "var outputEl = gd.closest('.output');\n",
       "if (outputEl) {{\n",
       "    x.observe(outputEl, {childList: true});\n",
       "}}\n",
       "\n",
       "                        })                };                });            </script>        </div>"
      ]
     },
     "metadata": {},
     "output_type": "display_data"
    }
   ],
   "source": [
    "df.iplot()"
   ]
  },
  {
   "cell_type": "code",
   "execution_count": 11,
   "id": "73bc2c64",
   "metadata": {},
   "outputs": [
    {
     "data": {
      "application/vnd.plotly.v1+json": {
       "config": {
        "linkText": "Export to plot.ly",
        "plotlyServerURL": "https://plot.ly",
        "showLink": true
       },
       "data": [
        {
         "line": {
          "color": "rgba(255, 153, 51, 1.0)",
          "dash": "solid",
          "shape": "linear",
          "width": 1.3
         },
         "mode": "lines",
         "name": "B",
         "text": "",
         "type": "scatter",
         "x": [
          0.406730039480157,
          -0.39228221499578964,
          0.7584886923840094,
          -0.9440396101168271,
          -0.727462876129729,
          0.4839174053257021,
          0.3627206584336743,
          1.168876137696794,
          1.2510313986768908,
          -0.8539452754949033,
          0.055427781643683255,
          -0.6784544917630049,
          0.8326820808182758,
          0.28424683461318606,
          -0.14757676900957287,
          0.11439817628276706,
          -0.18475712704423441,
          0.0038164459887509153,
          0.34990494510895703,
          -0.4378365112671588,
          -0.319660271111292,
          -0.3137996100294566,
          0.7818668395960702,
          1.233186915064355,
          -0.6435088591199211,
          -0.7662361903303532,
          0.6315312339735785,
          -1.5985204957973767,
          -1.8108208438232374,
          2.851513981870026,
          -0.0364816577569318,
          -0.07999396186412067,
          -1.4714556943251862,
          -0.47159853321598855,
          -1.4583382229612358,
          0.5500685036145431,
          -0.5124116539500457,
          -0.4612840603123584,
          1.2075325846345708,
          0.27937512403424236,
          0.4729467860759181,
          0.694237909442264,
          -0.22313437477461176,
          -2.1673385397595584,
          1.3640671084533982,
          1.4328639494199835,
          -1.3186427873817268,
          -1.0994996582162526,
          -0.41552140832138207,
          -1.1080560081519106,
          0.2813001247748424,
          -0.7580111392673803,
          -0.7788585603184489,
          1.2751150122692931,
          2.00579679912336,
          0.47791604052873227,
          0.12635847592401317,
          0.4544312374061017,
          -0.701182543768695,
          -0.31650116074208257,
          1.40877730233643,
          -0.30667471652084766,
          0.8587407419478714,
          1.9907280644550456,
          -0.34251402756783583,
          0.8082078562811572,
          0.15996260259357092,
          0.004165864484431415,
          1.226249713622541,
          1.448104818376337,
          -0.571107037470229,
          1.0776789911239473,
          -0.1018710678062574,
          1.1137520194408075,
          0.305546217332669,
          -0.43272160683972544,
          0.5002141172314987,
          1.384830376450365,
          1.3439169146885883,
          -0.801316865757186,
          0.6946582118008514,
          1.1900960545880286,
          0.15796941300637093,
          1.1856772524598995,
          -1.3348503021181104,
          0.26021804126709724,
          0.7641069566280589,
          0.5619839963840547,
          0.9919306452669481,
          -0.42193016475058465,
          1.6278652681325925,
          0.040967833820687465,
          0.4341660540644965,
          1.2258119652660264,
          0.16250938553896713,
          0.7601085688053791,
          -0.9805826865572652,
          2.3002686917555693,
          1.301006005581953,
          1.754526468354843
         ],
         "y": [
          1.097376166904293,
          1.8642792306676408,
          1.2461137578017065,
          1.477672212271986,
          -0.6321980447209725,
          -0.701592290165167,
          -1.9910127251039769,
          -0.16971343962788965,
          1.541150001898701,
          -1.6226902596728239,
          -0.19448210077836395,
          -0.47549319984974325,
          0.7803436367159594,
          2.08048633199042,
          -0.8719472680505037,
          -0.37442017918715675,
          -0.4891452026651608,
          -0.5970083414206725,
          -0.16973314267358802,
          0.06428229010088789,
          0.4494812462908728,
          -0.07193734454633495,
          0.9309418106438704,
          -0.9753354844829426,
          -0.22601455757081423,
          0.18748715389366605,
          -0.1312877215837846,
          0.2381938795614643,
          -1.7590016804188497,
          0.6731156410468611,
          -0.7597413854750319,
          -0.8841013551192329,
          0.3929846598823091,
          0.11017410931895902,
          0.18683594785406676,
          -0.2029225971205222,
          -1.0052515203199146,
          -0.8693936292685707,
          -0.5374583078325221,
          0.5430544806259738,
          -1.3965788668301606,
          -1.1651248251003146,
          -0.8524306919840188,
          1.128249186662589,
          0.6442598329163325,
          1.0213495698127613,
          -0.23049466510995706,
          0.07953191198925529,
          -1.4659932409105514,
          1.2955320882347134,
          -0.8377201170388314,
          -0.4065340844831503,
          -1.5343531136588566,
          0.5484422875986819,
          0.09010716670491731,
          -2.249789437139244,
          -0.4964833178001253,
          0.9236763626726683,
          0.8452213396049112,
          -1.2927235441395513,
          1.7141323156631694,
          2.0912246513019284,
          0.25670750122387975,
          -1.1156603606229654,
          1.9235857811875827,
          -0.8710707446693985,
          1.3740453390524754,
          -0.35252170079482553,
          0.3105335666082955,
          -0.8699675452643268,
          -1.5648524283832677,
          0.5259596252560428,
          -0.11867843751372183,
          -0.4825495127875421,
          0.47010600603079233,
          0.6759767650864442,
          -0.1813265244137657,
          0.23745839470300278,
          1.9769665072823797,
          0.5902013388082753,
          1.710003116764618,
          0.03506191983633523,
          0.36609790401099235,
          -0.44103957812685,
          0.014828666517463394,
          0.21150895973385886,
          1.5565405830025982,
          2.401094575846921,
          -0.28780392140728167,
          -1.93983090406157,
          0.4842455485607953,
          1.0815228442886557,
          -0.36042455727396383,
          -0.6162822329956089,
          0.7698723634388819,
          -0.26264604843217976,
          -0.5313630021704862,
          -0.9796202663756749,
          0.07779045872360635,
          0.45828456864812617
         ]
        }
       ],
       "layout": {
        "legend": {
         "bgcolor": "#F5F6F9",
         "font": {
          "color": "#4D5663"
         }
        },
        "paper_bgcolor": "#F5F6F9",
        "plot_bgcolor": "#F5F6F9",
        "template": {
         "data": {
          "bar": [
           {
            "error_x": {
             "color": "#2a3f5f"
            },
            "error_y": {
             "color": "#2a3f5f"
            },
            "marker": {
             "line": {
              "color": "#E5ECF6",
              "width": 0.5
             },
             "pattern": {
              "fillmode": "overlay",
              "size": 10,
              "solidity": 0.2
             }
            },
            "type": "bar"
           }
          ],
          "barpolar": [
           {
            "marker": {
             "line": {
              "color": "#E5ECF6",
              "width": 0.5
             },
             "pattern": {
              "fillmode": "overlay",
              "size": 10,
              "solidity": 0.2
             }
            },
            "type": "barpolar"
           }
          ],
          "carpet": [
           {
            "aaxis": {
             "endlinecolor": "#2a3f5f",
             "gridcolor": "white",
             "linecolor": "white",
             "minorgridcolor": "white",
             "startlinecolor": "#2a3f5f"
            },
            "baxis": {
             "endlinecolor": "#2a3f5f",
             "gridcolor": "white",
             "linecolor": "white",
             "minorgridcolor": "white",
             "startlinecolor": "#2a3f5f"
            },
            "type": "carpet"
           }
          ],
          "choropleth": [
           {
            "colorbar": {
             "outlinewidth": 0,
             "ticks": ""
            },
            "type": "choropleth"
           }
          ],
          "contour": [
           {
            "colorbar": {
             "outlinewidth": 0,
             "ticks": ""
            },
            "colorscale": [
             [
              0,
              "#0d0887"
             ],
             [
              0.1111111111111111,
              "#46039f"
             ],
             [
              0.2222222222222222,
              "#7201a8"
             ],
             [
              0.3333333333333333,
              "#9c179e"
             ],
             [
              0.4444444444444444,
              "#bd3786"
             ],
             [
              0.5555555555555556,
              "#d8576b"
             ],
             [
              0.6666666666666666,
              "#ed7953"
             ],
             [
              0.7777777777777778,
              "#fb9f3a"
             ],
             [
              0.8888888888888888,
              "#fdca26"
             ],
             [
              1,
              "#f0f921"
             ]
            ],
            "type": "contour"
           }
          ],
          "contourcarpet": [
           {
            "colorbar": {
             "outlinewidth": 0,
             "ticks": ""
            },
            "type": "contourcarpet"
           }
          ],
          "heatmap": [
           {
            "colorbar": {
             "outlinewidth": 0,
             "ticks": ""
            },
            "colorscale": [
             [
              0,
              "#0d0887"
             ],
             [
              0.1111111111111111,
              "#46039f"
             ],
             [
              0.2222222222222222,
              "#7201a8"
             ],
             [
              0.3333333333333333,
              "#9c179e"
             ],
             [
              0.4444444444444444,
              "#bd3786"
             ],
             [
              0.5555555555555556,
              "#d8576b"
             ],
             [
              0.6666666666666666,
              "#ed7953"
             ],
             [
              0.7777777777777778,
              "#fb9f3a"
             ],
             [
              0.8888888888888888,
              "#fdca26"
             ],
             [
              1,
              "#f0f921"
             ]
            ],
            "type": "heatmap"
           }
          ],
          "heatmapgl": [
           {
            "colorbar": {
             "outlinewidth": 0,
             "ticks": ""
            },
            "colorscale": [
             [
              0,
              "#0d0887"
             ],
             [
              0.1111111111111111,
              "#46039f"
             ],
             [
              0.2222222222222222,
              "#7201a8"
             ],
             [
              0.3333333333333333,
              "#9c179e"
             ],
             [
              0.4444444444444444,
              "#bd3786"
             ],
             [
              0.5555555555555556,
              "#d8576b"
             ],
             [
              0.6666666666666666,
              "#ed7953"
             ],
             [
              0.7777777777777778,
              "#fb9f3a"
             ],
             [
              0.8888888888888888,
              "#fdca26"
             ],
             [
              1,
              "#f0f921"
             ]
            ],
            "type": "heatmapgl"
           }
          ],
          "histogram": [
           {
            "marker": {
             "pattern": {
              "fillmode": "overlay",
              "size": 10,
              "solidity": 0.2
             }
            },
            "type": "histogram"
           }
          ],
          "histogram2d": [
           {
            "colorbar": {
             "outlinewidth": 0,
             "ticks": ""
            },
            "colorscale": [
             [
              0,
              "#0d0887"
             ],
             [
              0.1111111111111111,
              "#46039f"
             ],
             [
              0.2222222222222222,
              "#7201a8"
             ],
             [
              0.3333333333333333,
              "#9c179e"
             ],
             [
              0.4444444444444444,
              "#bd3786"
             ],
             [
              0.5555555555555556,
              "#d8576b"
             ],
             [
              0.6666666666666666,
              "#ed7953"
             ],
             [
              0.7777777777777778,
              "#fb9f3a"
             ],
             [
              0.8888888888888888,
              "#fdca26"
             ],
             [
              1,
              "#f0f921"
             ]
            ],
            "type": "histogram2d"
           }
          ],
          "histogram2dcontour": [
           {
            "colorbar": {
             "outlinewidth": 0,
             "ticks": ""
            },
            "colorscale": [
             [
              0,
              "#0d0887"
             ],
             [
              0.1111111111111111,
              "#46039f"
             ],
             [
              0.2222222222222222,
              "#7201a8"
             ],
             [
              0.3333333333333333,
              "#9c179e"
             ],
             [
              0.4444444444444444,
              "#bd3786"
             ],
             [
              0.5555555555555556,
              "#d8576b"
             ],
             [
              0.6666666666666666,
              "#ed7953"
             ],
             [
              0.7777777777777778,
              "#fb9f3a"
             ],
             [
              0.8888888888888888,
              "#fdca26"
             ],
             [
              1,
              "#f0f921"
             ]
            ],
            "type": "histogram2dcontour"
           }
          ],
          "mesh3d": [
           {
            "colorbar": {
             "outlinewidth": 0,
             "ticks": ""
            },
            "type": "mesh3d"
           }
          ],
          "parcoords": [
           {
            "line": {
             "colorbar": {
              "outlinewidth": 0,
              "ticks": ""
             }
            },
            "type": "parcoords"
           }
          ],
          "pie": [
           {
            "automargin": true,
            "type": "pie"
           }
          ],
          "scatter": [
           {
            "fillpattern": {
             "fillmode": "overlay",
             "size": 10,
             "solidity": 0.2
            },
            "type": "scatter"
           }
          ],
          "scatter3d": [
           {
            "line": {
             "colorbar": {
              "outlinewidth": 0,
              "ticks": ""
             }
            },
            "marker": {
             "colorbar": {
              "outlinewidth": 0,
              "ticks": ""
             }
            },
            "type": "scatter3d"
           }
          ],
          "scattercarpet": [
           {
            "marker": {
             "colorbar": {
              "outlinewidth": 0,
              "ticks": ""
             }
            },
            "type": "scattercarpet"
           }
          ],
          "scattergeo": [
           {
            "marker": {
             "colorbar": {
              "outlinewidth": 0,
              "ticks": ""
             }
            },
            "type": "scattergeo"
           }
          ],
          "scattergl": [
           {
            "marker": {
             "colorbar": {
              "outlinewidth": 0,
              "ticks": ""
             }
            },
            "type": "scattergl"
           }
          ],
          "scattermapbox": [
           {
            "marker": {
             "colorbar": {
              "outlinewidth": 0,
              "ticks": ""
             }
            },
            "type": "scattermapbox"
           }
          ],
          "scatterpolar": [
           {
            "marker": {
             "colorbar": {
              "outlinewidth": 0,
              "ticks": ""
             }
            },
            "type": "scatterpolar"
           }
          ],
          "scatterpolargl": [
           {
            "marker": {
             "colorbar": {
              "outlinewidth": 0,
              "ticks": ""
             }
            },
            "type": "scatterpolargl"
           }
          ],
          "scatterternary": [
           {
            "marker": {
             "colorbar": {
              "outlinewidth": 0,
              "ticks": ""
             }
            },
            "type": "scatterternary"
           }
          ],
          "surface": [
           {
            "colorbar": {
             "outlinewidth": 0,
             "ticks": ""
            },
            "colorscale": [
             [
              0,
              "#0d0887"
             ],
             [
              0.1111111111111111,
              "#46039f"
             ],
             [
              0.2222222222222222,
              "#7201a8"
             ],
             [
              0.3333333333333333,
              "#9c179e"
             ],
             [
              0.4444444444444444,
              "#bd3786"
             ],
             [
              0.5555555555555556,
              "#d8576b"
             ],
             [
              0.6666666666666666,
              "#ed7953"
             ],
             [
              0.7777777777777778,
              "#fb9f3a"
             ],
             [
              0.8888888888888888,
              "#fdca26"
             ],
             [
              1,
              "#f0f921"
             ]
            ],
            "type": "surface"
           }
          ],
          "table": [
           {
            "cells": {
             "fill": {
              "color": "#EBF0F8"
             },
             "line": {
              "color": "white"
             }
            },
            "header": {
             "fill": {
              "color": "#C8D4E3"
             },
             "line": {
              "color": "white"
             }
            },
            "type": "table"
           }
          ]
         },
         "layout": {
          "annotationdefaults": {
           "arrowcolor": "#2a3f5f",
           "arrowhead": 0,
           "arrowwidth": 1
          },
          "autotypenumbers": "strict",
          "coloraxis": {
           "colorbar": {
            "outlinewidth": 0,
            "ticks": ""
           }
          },
          "colorscale": {
           "diverging": [
            [
             0,
             "#8e0152"
            ],
            [
             0.1,
             "#c51b7d"
            ],
            [
             0.2,
             "#de77ae"
            ],
            [
             0.3,
             "#f1b6da"
            ],
            [
             0.4,
             "#fde0ef"
            ],
            [
             0.5,
             "#f7f7f7"
            ],
            [
             0.6,
             "#e6f5d0"
            ],
            [
             0.7,
             "#b8e186"
            ],
            [
             0.8,
             "#7fbc41"
            ],
            [
             0.9,
             "#4d9221"
            ],
            [
             1,
             "#276419"
            ]
           ],
           "sequential": [
            [
             0,
             "#0d0887"
            ],
            [
             0.1111111111111111,
             "#46039f"
            ],
            [
             0.2222222222222222,
             "#7201a8"
            ],
            [
             0.3333333333333333,
             "#9c179e"
            ],
            [
             0.4444444444444444,
             "#bd3786"
            ],
            [
             0.5555555555555556,
             "#d8576b"
            ],
            [
             0.6666666666666666,
             "#ed7953"
            ],
            [
             0.7777777777777778,
             "#fb9f3a"
            ],
            [
             0.8888888888888888,
             "#fdca26"
            ],
            [
             1,
             "#f0f921"
            ]
           ],
           "sequentialminus": [
            [
             0,
             "#0d0887"
            ],
            [
             0.1111111111111111,
             "#46039f"
            ],
            [
             0.2222222222222222,
             "#7201a8"
            ],
            [
             0.3333333333333333,
             "#9c179e"
            ],
            [
             0.4444444444444444,
             "#bd3786"
            ],
            [
             0.5555555555555556,
             "#d8576b"
            ],
            [
             0.6666666666666666,
             "#ed7953"
            ],
            [
             0.7777777777777778,
             "#fb9f3a"
            ],
            [
             0.8888888888888888,
             "#fdca26"
            ],
            [
             1,
             "#f0f921"
            ]
           ]
          },
          "colorway": [
           "#636efa",
           "#EF553B",
           "#00cc96",
           "#ab63fa",
           "#FFA15A",
           "#19d3f3",
           "#FF6692",
           "#B6E880",
           "#FF97FF",
           "#FECB52"
          ],
          "font": {
           "color": "#2a3f5f"
          },
          "geo": {
           "bgcolor": "white",
           "lakecolor": "white",
           "landcolor": "#E5ECF6",
           "showlakes": true,
           "showland": true,
           "subunitcolor": "white"
          },
          "hoverlabel": {
           "align": "left"
          },
          "hovermode": "closest",
          "mapbox": {
           "style": "light"
          },
          "paper_bgcolor": "white",
          "plot_bgcolor": "#E5ECF6",
          "polar": {
           "angularaxis": {
            "gridcolor": "white",
            "linecolor": "white",
            "ticks": ""
           },
           "bgcolor": "#E5ECF6",
           "radialaxis": {
            "gridcolor": "white",
            "linecolor": "white",
            "ticks": ""
           }
          },
          "scene": {
           "xaxis": {
            "backgroundcolor": "#E5ECF6",
            "gridcolor": "white",
            "gridwidth": 2,
            "linecolor": "white",
            "showbackground": true,
            "ticks": "",
            "zerolinecolor": "white"
           },
           "yaxis": {
            "backgroundcolor": "#E5ECF6",
            "gridcolor": "white",
            "gridwidth": 2,
            "linecolor": "white",
            "showbackground": true,
            "ticks": "",
            "zerolinecolor": "white"
           },
           "zaxis": {
            "backgroundcolor": "#E5ECF6",
            "gridcolor": "white",
            "gridwidth": 2,
            "linecolor": "white",
            "showbackground": true,
            "ticks": "",
            "zerolinecolor": "white"
           }
          },
          "shapedefaults": {
           "line": {
            "color": "#2a3f5f"
           }
          },
          "ternary": {
           "aaxis": {
            "gridcolor": "white",
            "linecolor": "white",
            "ticks": ""
           },
           "baxis": {
            "gridcolor": "white",
            "linecolor": "white",
            "ticks": ""
           },
           "bgcolor": "#E5ECF6",
           "caxis": {
            "gridcolor": "white",
            "linecolor": "white",
            "ticks": ""
           }
          },
          "title": {
           "x": 0.05
          },
          "xaxis": {
           "automargin": true,
           "gridcolor": "white",
           "linecolor": "white",
           "ticks": "",
           "title": {
            "standoff": 15
           },
           "zerolinecolor": "white",
           "zerolinewidth": 2
          },
          "yaxis": {
           "automargin": true,
           "gridcolor": "white",
           "linecolor": "white",
           "ticks": "",
           "title": {
            "standoff": 15
           },
           "zerolinecolor": "white",
           "zerolinewidth": 2
          }
         }
        },
        "title": {
         "font": {
          "color": "#4D5663"
         }
        },
        "xaxis": {
         "gridcolor": "#E1E5ED",
         "showgrid": true,
         "tickfont": {
          "color": "#4D5663"
         },
         "title": {
          "font": {
           "color": "#4D5663"
          },
          "text": ""
         },
         "zerolinecolor": "#E1E5ED"
        },
        "yaxis": {
         "gridcolor": "#E1E5ED",
         "showgrid": true,
         "tickfont": {
          "color": "#4D5663"
         },
         "title": {
          "font": {
           "color": "#4D5663"
          },
          "text": ""
         },
         "zerolinecolor": "#E1E5ED"
        }
       }
      },
      "text/html": [
       "<div>                            <div id=\"538f40fa-cab6-4e63-9f19-829b7791dfe0\" class=\"plotly-graph-div\" style=\"height:525px; width:100%;\"></div>            <script type=\"text/javascript\">                require([\"plotly\"], function(Plotly) {                    window.PLOTLYENV=window.PLOTLYENV || {};\n",
       "                    window.PLOTLYENV.BASE_URL='https://plot.ly';                                    if (document.getElementById(\"538f40fa-cab6-4e63-9f19-829b7791dfe0\")) {                    Plotly.newPlot(                        \"538f40fa-cab6-4e63-9f19-829b7791dfe0\",                        [{\"line\":{\"color\":\"rgba(255, 153, 51, 1.0)\",\"dash\":\"solid\",\"shape\":\"linear\",\"width\":1.3},\"mode\":\"lines\",\"name\":\"B\",\"text\":\"\",\"x\":[0.406730039480157,-0.39228221499578964,0.7584886923840094,-0.9440396101168271,-0.727462876129729,0.4839174053257021,0.3627206584336743,1.168876137696794,1.2510313986768908,-0.8539452754949033,0.055427781643683255,-0.6784544917630049,0.8326820808182758,0.28424683461318606,-0.14757676900957287,0.11439817628276706,-0.18475712704423441,0.0038164459887509153,0.34990494510895703,-0.4378365112671588,-0.319660271111292,-0.3137996100294566,0.7818668395960702,1.233186915064355,-0.6435088591199211,-0.7662361903303532,0.6315312339735785,-1.5985204957973767,-1.8108208438232374,2.851513981870026,-0.0364816577569318,-0.07999396186412067,-1.4714556943251862,-0.47159853321598855,-1.4583382229612358,0.5500685036145431,-0.5124116539500457,-0.4612840603123584,1.2075325846345708,0.27937512403424236,0.4729467860759181,0.694237909442264,-0.22313437477461176,-2.1673385397595584,1.3640671084533982,1.4328639494199835,-1.3186427873817268,-1.0994996582162526,-0.41552140832138207,-1.1080560081519106,0.2813001247748424,-0.7580111392673803,-0.7788585603184489,1.2751150122692931,2.00579679912336,0.47791604052873227,0.12635847592401317,0.4544312374061017,-0.701182543768695,-0.31650116074208257,1.40877730233643,-0.30667471652084766,0.8587407419478714,1.9907280644550456,-0.34251402756783583,0.8082078562811572,0.15996260259357092,0.004165864484431415,1.226249713622541,1.448104818376337,-0.571107037470229,1.0776789911239473,-0.1018710678062574,1.1137520194408075,0.305546217332669,-0.43272160683972544,0.5002141172314987,1.384830376450365,1.3439169146885883,-0.801316865757186,0.6946582118008514,1.1900960545880286,0.15796941300637093,1.1856772524598995,-1.3348503021181104,0.26021804126709724,0.7641069566280589,0.5619839963840547,0.9919306452669481,-0.42193016475058465,1.6278652681325925,0.040967833820687465,0.4341660540644965,1.2258119652660264,0.16250938553896713,0.7601085688053791,-0.9805826865572652,2.3002686917555693,1.301006005581953,1.754526468354843],\"y\":[1.097376166904293,1.8642792306676408,1.2461137578017065,1.477672212271986,-0.6321980447209725,-0.701592290165167,-1.9910127251039769,-0.16971343962788965,1.541150001898701,-1.6226902596728239,-0.19448210077836395,-0.47549319984974325,0.7803436367159594,2.08048633199042,-0.8719472680505037,-0.37442017918715675,-0.4891452026651608,-0.5970083414206725,-0.16973314267358802,0.06428229010088789,0.4494812462908728,-0.07193734454633495,0.9309418106438704,-0.9753354844829426,-0.22601455757081423,0.18748715389366605,-0.1312877215837846,0.2381938795614643,-1.7590016804188497,0.6731156410468611,-0.7597413854750319,-0.8841013551192329,0.3929846598823091,0.11017410931895902,0.18683594785406676,-0.2029225971205222,-1.0052515203199146,-0.8693936292685707,-0.5374583078325221,0.5430544806259738,-1.3965788668301606,-1.1651248251003146,-0.8524306919840188,1.128249186662589,0.6442598329163325,1.0213495698127613,-0.23049466510995706,0.07953191198925529,-1.4659932409105514,1.2955320882347134,-0.8377201170388314,-0.4065340844831503,-1.5343531136588566,0.5484422875986819,0.09010716670491731,-2.249789437139244,-0.4964833178001253,0.9236763626726683,0.8452213396049112,-1.2927235441395513,1.7141323156631694,2.0912246513019284,0.25670750122387975,-1.1156603606229654,1.9235857811875827,-0.8710707446693985,1.3740453390524754,-0.35252170079482553,0.3105335666082955,-0.8699675452643268,-1.5648524283832677,0.5259596252560428,-0.11867843751372183,-0.4825495127875421,0.47010600603079233,0.6759767650864442,-0.1813265244137657,0.23745839470300278,1.9769665072823797,0.5902013388082753,1.710003116764618,0.03506191983633523,0.36609790401099235,-0.44103957812685,0.014828666517463394,0.21150895973385886,1.5565405830025982,2.401094575846921,-0.28780392140728167,-1.93983090406157,0.4842455485607953,1.0815228442886557,-0.36042455727396383,-0.6162822329956089,0.7698723634388819,-0.26264604843217976,-0.5313630021704862,-0.9796202663756749,0.07779045872360635,0.45828456864812617],\"type\":\"scatter\"}],                        {\"legend\":{\"bgcolor\":\"#F5F6F9\",\"font\":{\"color\":\"#4D5663\"}},\"paper_bgcolor\":\"#F5F6F9\",\"plot_bgcolor\":\"#F5F6F9\",\"template\":{\"data\":{\"barpolar\":[{\"marker\":{\"line\":{\"color\":\"#E5ECF6\",\"width\":0.5},\"pattern\":{\"fillmode\":\"overlay\",\"size\":10,\"solidity\":0.2}},\"type\":\"barpolar\"}],\"bar\":[{\"error_x\":{\"color\":\"#2a3f5f\"},\"error_y\":{\"color\":\"#2a3f5f\"},\"marker\":{\"line\":{\"color\":\"#E5ECF6\",\"width\":0.5},\"pattern\":{\"fillmode\":\"overlay\",\"size\":10,\"solidity\":0.2}},\"type\":\"bar\"}],\"carpet\":[{\"aaxis\":{\"endlinecolor\":\"#2a3f5f\",\"gridcolor\":\"white\",\"linecolor\":\"white\",\"minorgridcolor\":\"white\",\"startlinecolor\":\"#2a3f5f\"},\"baxis\":{\"endlinecolor\":\"#2a3f5f\",\"gridcolor\":\"white\",\"linecolor\":\"white\",\"minorgridcolor\":\"white\",\"startlinecolor\":\"#2a3f5f\"},\"type\":\"carpet\"}],\"choropleth\":[{\"colorbar\":{\"outlinewidth\":0,\"ticks\":\"\"},\"type\":\"choropleth\"}],\"contourcarpet\":[{\"colorbar\":{\"outlinewidth\":0,\"ticks\":\"\"},\"type\":\"contourcarpet\"}],\"contour\":[{\"colorbar\":{\"outlinewidth\":0,\"ticks\":\"\"},\"colorscale\":[[0.0,\"#0d0887\"],[0.1111111111111111,\"#46039f\"],[0.2222222222222222,\"#7201a8\"],[0.3333333333333333,\"#9c179e\"],[0.4444444444444444,\"#bd3786\"],[0.5555555555555556,\"#d8576b\"],[0.6666666666666666,\"#ed7953\"],[0.7777777777777778,\"#fb9f3a\"],[0.8888888888888888,\"#fdca26\"],[1.0,\"#f0f921\"]],\"type\":\"contour\"}],\"heatmapgl\":[{\"colorbar\":{\"outlinewidth\":0,\"ticks\":\"\"},\"colorscale\":[[0.0,\"#0d0887\"],[0.1111111111111111,\"#46039f\"],[0.2222222222222222,\"#7201a8\"],[0.3333333333333333,\"#9c179e\"],[0.4444444444444444,\"#bd3786\"],[0.5555555555555556,\"#d8576b\"],[0.6666666666666666,\"#ed7953\"],[0.7777777777777778,\"#fb9f3a\"],[0.8888888888888888,\"#fdca26\"],[1.0,\"#f0f921\"]],\"type\":\"heatmapgl\"}],\"heatmap\":[{\"colorbar\":{\"outlinewidth\":0,\"ticks\":\"\"},\"colorscale\":[[0.0,\"#0d0887\"],[0.1111111111111111,\"#46039f\"],[0.2222222222222222,\"#7201a8\"],[0.3333333333333333,\"#9c179e\"],[0.4444444444444444,\"#bd3786\"],[0.5555555555555556,\"#d8576b\"],[0.6666666666666666,\"#ed7953\"],[0.7777777777777778,\"#fb9f3a\"],[0.8888888888888888,\"#fdca26\"],[1.0,\"#f0f921\"]],\"type\":\"heatmap\"}],\"histogram2dcontour\":[{\"colorbar\":{\"outlinewidth\":0,\"ticks\":\"\"},\"colorscale\":[[0.0,\"#0d0887\"],[0.1111111111111111,\"#46039f\"],[0.2222222222222222,\"#7201a8\"],[0.3333333333333333,\"#9c179e\"],[0.4444444444444444,\"#bd3786\"],[0.5555555555555556,\"#d8576b\"],[0.6666666666666666,\"#ed7953\"],[0.7777777777777778,\"#fb9f3a\"],[0.8888888888888888,\"#fdca26\"],[1.0,\"#f0f921\"]],\"type\":\"histogram2dcontour\"}],\"histogram2d\":[{\"colorbar\":{\"outlinewidth\":0,\"ticks\":\"\"},\"colorscale\":[[0.0,\"#0d0887\"],[0.1111111111111111,\"#46039f\"],[0.2222222222222222,\"#7201a8\"],[0.3333333333333333,\"#9c179e\"],[0.4444444444444444,\"#bd3786\"],[0.5555555555555556,\"#d8576b\"],[0.6666666666666666,\"#ed7953\"],[0.7777777777777778,\"#fb9f3a\"],[0.8888888888888888,\"#fdca26\"],[1.0,\"#f0f921\"]],\"type\":\"histogram2d\"}],\"histogram\":[{\"marker\":{\"pattern\":{\"fillmode\":\"overlay\",\"size\":10,\"solidity\":0.2}},\"type\":\"histogram\"}],\"mesh3d\":[{\"colorbar\":{\"outlinewidth\":0,\"ticks\":\"\"},\"type\":\"mesh3d\"}],\"parcoords\":[{\"line\":{\"colorbar\":{\"outlinewidth\":0,\"ticks\":\"\"}},\"type\":\"parcoords\"}],\"pie\":[{\"automargin\":true,\"type\":\"pie\"}],\"scatter3d\":[{\"line\":{\"colorbar\":{\"outlinewidth\":0,\"ticks\":\"\"}},\"marker\":{\"colorbar\":{\"outlinewidth\":0,\"ticks\":\"\"}},\"type\":\"scatter3d\"}],\"scattercarpet\":[{\"marker\":{\"colorbar\":{\"outlinewidth\":0,\"ticks\":\"\"}},\"type\":\"scattercarpet\"}],\"scattergeo\":[{\"marker\":{\"colorbar\":{\"outlinewidth\":0,\"ticks\":\"\"}},\"type\":\"scattergeo\"}],\"scattergl\":[{\"marker\":{\"colorbar\":{\"outlinewidth\":0,\"ticks\":\"\"}},\"type\":\"scattergl\"}],\"scattermapbox\":[{\"marker\":{\"colorbar\":{\"outlinewidth\":0,\"ticks\":\"\"}},\"type\":\"scattermapbox\"}],\"scatterpolargl\":[{\"marker\":{\"colorbar\":{\"outlinewidth\":0,\"ticks\":\"\"}},\"type\":\"scatterpolargl\"}],\"scatterpolar\":[{\"marker\":{\"colorbar\":{\"outlinewidth\":0,\"ticks\":\"\"}},\"type\":\"scatterpolar\"}],\"scatter\":[{\"fillpattern\":{\"fillmode\":\"overlay\",\"size\":10,\"solidity\":0.2},\"type\":\"scatter\"}],\"scatterternary\":[{\"marker\":{\"colorbar\":{\"outlinewidth\":0,\"ticks\":\"\"}},\"type\":\"scatterternary\"}],\"surface\":[{\"colorbar\":{\"outlinewidth\":0,\"ticks\":\"\"},\"colorscale\":[[0.0,\"#0d0887\"],[0.1111111111111111,\"#46039f\"],[0.2222222222222222,\"#7201a8\"],[0.3333333333333333,\"#9c179e\"],[0.4444444444444444,\"#bd3786\"],[0.5555555555555556,\"#d8576b\"],[0.6666666666666666,\"#ed7953\"],[0.7777777777777778,\"#fb9f3a\"],[0.8888888888888888,\"#fdca26\"],[1.0,\"#f0f921\"]],\"type\":\"surface\"}],\"table\":[{\"cells\":{\"fill\":{\"color\":\"#EBF0F8\"},\"line\":{\"color\":\"white\"}},\"header\":{\"fill\":{\"color\":\"#C8D4E3\"},\"line\":{\"color\":\"white\"}},\"type\":\"table\"}]},\"layout\":{\"annotationdefaults\":{\"arrowcolor\":\"#2a3f5f\",\"arrowhead\":0,\"arrowwidth\":1},\"autotypenumbers\":\"strict\",\"coloraxis\":{\"colorbar\":{\"outlinewidth\":0,\"ticks\":\"\"}},\"colorscale\":{\"diverging\":[[0,\"#8e0152\"],[0.1,\"#c51b7d\"],[0.2,\"#de77ae\"],[0.3,\"#f1b6da\"],[0.4,\"#fde0ef\"],[0.5,\"#f7f7f7\"],[0.6,\"#e6f5d0\"],[0.7,\"#b8e186\"],[0.8,\"#7fbc41\"],[0.9,\"#4d9221\"],[1,\"#276419\"]],\"sequential\":[[0.0,\"#0d0887\"],[0.1111111111111111,\"#46039f\"],[0.2222222222222222,\"#7201a8\"],[0.3333333333333333,\"#9c179e\"],[0.4444444444444444,\"#bd3786\"],[0.5555555555555556,\"#d8576b\"],[0.6666666666666666,\"#ed7953\"],[0.7777777777777778,\"#fb9f3a\"],[0.8888888888888888,\"#fdca26\"],[1.0,\"#f0f921\"]],\"sequentialminus\":[[0.0,\"#0d0887\"],[0.1111111111111111,\"#46039f\"],[0.2222222222222222,\"#7201a8\"],[0.3333333333333333,\"#9c179e\"],[0.4444444444444444,\"#bd3786\"],[0.5555555555555556,\"#d8576b\"],[0.6666666666666666,\"#ed7953\"],[0.7777777777777778,\"#fb9f3a\"],[0.8888888888888888,\"#fdca26\"],[1.0,\"#f0f921\"]]},\"colorway\":[\"#636efa\",\"#EF553B\",\"#00cc96\",\"#ab63fa\",\"#FFA15A\",\"#19d3f3\",\"#FF6692\",\"#B6E880\",\"#FF97FF\",\"#FECB52\"],\"font\":{\"color\":\"#2a3f5f\"},\"geo\":{\"bgcolor\":\"white\",\"lakecolor\":\"white\",\"landcolor\":\"#E5ECF6\",\"showlakes\":true,\"showland\":true,\"subunitcolor\":\"white\"},\"hoverlabel\":{\"align\":\"left\"},\"hovermode\":\"closest\",\"mapbox\":{\"style\":\"light\"},\"paper_bgcolor\":\"white\",\"plot_bgcolor\":\"#E5ECF6\",\"polar\":{\"angularaxis\":{\"gridcolor\":\"white\",\"linecolor\":\"white\",\"ticks\":\"\"},\"bgcolor\":\"#E5ECF6\",\"radialaxis\":{\"gridcolor\":\"white\",\"linecolor\":\"white\",\"ticks\":\"\"}},\"scene\":{\"xaxis\":{\"backgroundcolor\":\"#E5ECF6\",\"gridcolor\":\"white\",\"gridwidth\":2,\"linecolor\":\"white\",\"showbackground\":true,\"ticks\":\"\",\"zerolinecolor\":\"white\"},\"yaxis\":{\"backgroundcolor\":\"#E5ECF6\",\"gridcolor\":\"white\",\"gridwidth\":2,\"linecolor\":\"white\",\"showbackground\":true,\"ticks\":\"\",\"zerolinecolor\":\"white\"},\"zaxis\":{\"backgroundcolor\":\"#E5ECF6\",\"gridcolor\":\"white\",\"gridwidth\":2,\"linecolor\":\"white\",\"showbackground\":true,\"ticks\":\"\",\"zerolinecolor\":\"white\"}},\"shapedefaults\":{\"line\":{\"color\":\"#2a3f5f\"}},\"ternary\":{\"aaxis\":{\"gridcolor\":\"white\",\"linecolor\":\"white\",\"ticks\":\"\"},\"baxis\":{\"gridcolor\":\"white\",\"linecolor\":\"white\",\"ticks\":\"\"},\"bgcolor\":\"#E5ECF6\",\"caxis\":{\"gridcolor\":\"white\",\"linecolor\":\"white\",\"ticks\":\"\"}},\"title\":{\"x\":0.05},\"xaxis\":{\"automargin\":true,\"gridcolor\":\"white\",\"linecolor\":\"white\",\"ticks\":\"\",\"title\":{\"standoff\":15},\"zerolinecolor\":\"white\",\"zerolinewidth\":2},\"yaxis\":{\"automargin\":true,\"gridcolor\":\"white\",\"linecolor\":\"white\",\"ticks\":\"\",\"title\":{\"standoff\":15},\"zerolinecolor\":\"white\",\"zerolinewidth\":2}}},\"title\":{\"font\":{\"color\":\"#4D5663\"}},\"xaxis\":{\"gridcolor\":\"#E1E5ED\",\"showgrid\":true,\"tickfont\":{\"color\":\"#4D5663\"},\"title\":{\"font\":{\"color\":\"#4D5663\"},\"text\":\"\"},\"zerolinecolor\":\"#E1E5ED\"},\"yaxis\":{\"gridcolor\":\"#E1E5ED\",\"showgrid\":true,\"tickfont\":{\"color\":\"#4D5663\"},\"title\":{\"font\":{\"color\":\"#4D5663\"},\"text\":\"\"},\"zerolinecolor\":\"#E1E5ED\"}},                        {\"showLink\": true, \"linkText\": \"Export to plot.ly\", \"plotlyServerURL\": \"https://plot.ly\", \"responsive\": true}                    ).then(function(){\n",
       "                            \n",
       "var gd = document.getElementById('538f40fa-cab6-4e63-9f19-829b7791dfe0');\n",
       "var x = new MutationObserver(function (mutations, observer) {{\n",
       "        var display = window.getComputedStyle(gd).display;\n",
       "        if (!display || display === 'none') {{\n",
       "            console.log([gd, 'removed!']);\n",
       "            Plotly.purge(gd);\n",
       "            observer.disconnect();\n",
       "        }}\n",
       "}});\n",
       "\n",
       "// Listen for the removal of the full notebook cells\n",
       "var notebookContainer = gd.closest('#notebook-container');\n",
       "if (notebookContainer) {{\n",
       "    x.observe(notebookContainer, {childList: true});\n",
       "}}\n",
       "\n",
       "// Listen for the clearing of the current output cell\n",
       "var outputEl = gd.closest('.output');\n",
       "if (outputEl) {{\n",
       "    x.observe(outputEl, {childList: true});\n",
       "}}\n",
       "\n",
       "                        })                };                });            </script>        </div>"
      ]
     },
     "metadata": {},
     "output_type": "display_data"
    }
   ],
   "source": [
    "#Plotly Scatterplot\n",
    "df.iplot(kind='scatter', x='A', y='B')"
   ]
  },
  {
   "cell_type": "code",
   "execution_count": 12,
   "id": "d96a98a3",
   "metadata": {},
   "outputs": [
    {
     "data": {
      "application/vnd.plotly.v1+json": {
       "config": {
        "linkText": "Export to plot.ly",
        "plotlyServerURL": "https://plot.ly",
        "showLink": true
       },
       "data": [
        {
         "line": {
          "color": "rgba(255, 153, 51, 1.0)",
          "dash": "solid",
          "shape": "linear",
          "width": 1.3
         },
         "marker": {
          "size": 20,
          "symbol": "circle"
         },
         "mode": "markers",
         "name": "B",
         "text": "",
         "type": "scatter",
         "x": [
          0.406730039480157,
          -0.39228221499578964,
          0.7584886923840094,
          -0.9440396101168271,
          -0.727462876129729,
          0.4839174053257021,
          0.3627206584336743,
          1.168876137696794,
          1.2510313986768908,
          -0.8539452754949033,
          0.055427781643683255,
          -0.6784544917630049,
          0.8326820808182758,
          0.28424683461318606,
          -0.14757676900957287,
          0.11439817628276706,
          -0.18475712704423441,
          0.0038164459887509153,
          0.34990494510895703,
          -0.4378365112671588,
          -0.319660271111292,
          -0.3137996100294566,
          0.7818668395960702,
          1.233186915064355,
          -0.6435088591199211,
          -0.7662361903303532,
          0.6315312339735785,
          -1.5985204957973767,
          -1.8108208438232374,
          2.851513981870026,
          -0.0364816577569318,
          -0.07999396186412067,
          -1.4714556943251862,
          -0.47159853321598855,
          -1.4583382229612358,
          0.5500685036145431,
          -0.5124116539500457,
          -0.4612840603123584,
          1.2075325846345708,
          0.27937512403424236,
          0.4729467860759181,
          0.694237909442264,
          -0.22313437477461176,
          -2.1673385397595584,
          1.3640671084533982,
          1.4328639494199835,
          -1.3186427873817268,
          -1.0994996582162526,
          -0.41552140832138207,
          -1.1080560081519106,
          0.2813001247748424,
          -0.7580111392673803,
          -0.7788585603184489,
          1.2751150122692931,
          2.00579679912336,
          0.47791604052873227,
          0.12635847592401317,
          0.4544312374061017,
          -0.701182543768695,
          -0.31650116074208257,
          1.40877730233643,
          -0.30667471652084766,
          0.8587407419478714,
          1.9907280644550456,
          -0.34251402756783583,
          0.8082078562811572,
          0.15996260259357092,
          0.004165864484431415,
          1.226249713622541,
          1.448104818376337,
          -0.571107037470229,
          1.0776789911239473,
          -0.1018710678062574,
          1.1137520194408075,
          0.305546217332669,
          -0.43272160683972544,
          0.5002141172314987,
          1.384830376450365,
          1.3439169146885883,
          -0.801316865757186,
          0.6946582118008514,
          1.1900960545880286,
          0.15796941300637093,
          1.1856772524598995,
          -1.3348503021181104,
          0.26021804126709724,
          0.7641069566280589,
          0.5619839963840547,
          0.9919306452669481,
          -0.42193016475058465,
          1.6278652681325925,
          0.040967833820687465,
          0.4341660540644965,
          1.2258119652660264,
          0.16250938553896713,
          0.7601085688053791,
          -0.9805826865572652,
          2.3002686917555693,
          1.301006005581953,
          1.754526468354843
         ],
         "y": [
          1.097376166904293,
          1.8642792306676408,
          1.2461137578017065,
          1.477672212271986,
          -0.6321980447209725,
          -0.701592290165167,
          -1.9910127251039769,
          -0.16971343962788965,
          1.541150001898701,
          -1.6226902596728239,
          -0.19448210077836395,
          -0.47549319984974325,
          0.7803436367159594,
          2.08048633199042,
          -0.8719472680505037,
          -0.37442017918715675,
          -0.4891452026651608,
          -0.5970083414206725,
          -0.16973314267358802,
          0.06428229010088789,
          0.4494812462908728,
          -0.07193734454633495,
          0.9309418106438704,
          -0.9753354844829426,
          -0.22601455757081423,
          0.18748715389366605,
          -0.1312877215837846,
          0.2381938795614643,
          -1.7590016804188497,
          0.6731156410468611,
          -0.7597413854750319,
          -0.8841013551192329,
          0.3929846598823091,
          0.11017410931895902,
          0.18683594785406676,
          -0.2029225971205222,
          -1.0052515203199146,
          -0.8693936292685707,
          -0.5374583078325221,
          0.5430544806259738,
          -1.3965788668301606,
          -1.1651248251003146,
          -0.8524306919840188,
          1.128249186662589,
          0.6442598329163325,
          1.0213495698127613,
          -0.23049466510995706,
          0.07953191198925529,
          -1.4659932409105514,
          1.2955320882347134,
          -0.8377201170388314,
          -0.4065340844831503,
          -1.5343531136588566,
          0.5484422875986819,
          0.09010716670491731,
          -2.249789437139244,
          -0.4964833178001253,
          0.9236763626726683,
          0.8452213396049112,
          -1.2927235441395513,
          1.7141323156631694,
          2.0912246513019284,
          0.25670750122387975,
          -1.1156603606229654,
          1.9235857811875827,
          -0.8710707446693985,
          1.3740453390524754,
          -0.35252170079482553,
          0.3105335666082955,
          -0.8699675452643268,
          -1.5648524283832677,
          0.5259596252560428,
          -0.11867843751372183,
          -0.4825495127875421,
          0.47010600603079233,
          0.6759767650864442,
          -0.1813265244137657,
          0.23745839470300278,
          1.9769665072823797,
          0.5902013388082753,
          1.710003116764618,
          0.03506191983633523,
          0.36609790401099235,
          -0.44103957812685,
          0.014828666517463394,
          0.21150895973385886,
          1.5565405830025982,
          2.401094575846921,
          -0.28780392140728167,
          -1.93983090406157,
          0.4842455485607953,
          1.0815228442886557,
          -0.36042455727396383,
          -0.6162822329956089,
          0.7698723634388819,
          -0.26264604843217976,
          -0.5313630021704862,
          -0.9796202663756749,
          0.07779045872360635,
          0.45828456864812617
         ]
        }
       ],
       "layout": {
        "legend": {
         "bgcolor": "#F5F6F9",
         "font": {
          "color": "#4D5663"
         }
        },
        "paper_bgcolor": "#F5F6F9",
        "plot_bgcolor": "#F5F6F9",
        "template": {
         "data": {
          "bar": [
           {
            "error_x": {
             "color": "#2a3f5f"
            },
            "error_y": {
             "color": "#2a3f5f"
            },
            "marker": {
             "line": {
              "color": "#E5ECF6",
              "width": 0.5
             },
             "pattern": {
              "fillmode": "overlay",
              "size": 10,
              "solidity": 0.2
             }
            },
            "type": "bar"
           }
          ],
          "barpolar": [
           {
            "marker": {
             "line": {
              "color": "#E5ECF6",
              "width": 0.5
             },
             "pattern": {
              "fillmode": "overlay",
              "size": 10,
              "solidity": 0.2
             }
            },
            "type": "barpolar"
           }
          ],
          "carpet": [
           {
            "aaxis": {
             "endlinecolor": "#2a3f5f",
             "gridcolor": "white",
             "linecolor": "white",
             "minorgridcolor": "white",
             "startlinecolor": "#2a3f5f"
            },
            "baxis": {
             "endlinecolor": "#2a3f5f",
             "gridcolor": "white",
             "linecolor": "white",
             "minorgridcolor": "white",
             "startlinecolor": "#2a3f5f"
            },
            "type": "carpet"
           }
          ],
          "choropleth": [
           {
            "colorbar": {
             "outlinewidth": 0,
             "ticks": ""
            },
            "type": "choropleth"
           }
          ],
          "contour": [
           {
            "colorbar": {
             "outlinewidth": 0,
             "ticks": ""
            },
            "colorscale": [
             [
              0,
              "#0d0887"
             ],
             [
              0.1111111111111111,
              "#46039f"
             ],
             [
              0.2222222222222222,
              "#7201a8"
             ],
             [
              0.3333333333333333,
              "#9c179e"
             ],
             [
              0.4444444444444444,
              "#bd3786"
             ],
             [
              0.5555555555555556,
              "#d8576b"
             ],
             [
              0.6666666666666666,
              "#ed7953"
             ],
             [
              0.7777777777777778,
              "#fb9f3a"
             ],
             [
              0.8888888888888888,
              "#fdca26"
             ],
             [
              1,
              "#f0f921"
             ]
            ],
            "type": "contour"
           }
          ],
          "contourcarpet": [
           {
            "colorbar": {
             "outlinewidth": 0,
             "ticks": ""
            },
            "type": "contourcarpet"
           }
          ],
          "heatmap": [
           {
            "colorbar": {
             "outlinewidth": 0,
             "ticks": ""
            },
            "colorscale": [
             [
              0,
              "#0d0887"
             ],
             [
              0.1111111111111111,
              "#46039f"
             ],
             [
              0.2222222222222222,
              "#7201a8"
             ],
             [
              0.3333333333333333,
              "#9c179e"
             ],
             [
              0.4444444444444444,
              "#bd3786"
             ],
             [
              0.5555555555555556,
              "#d8576b"
             ],
             [
              0.6666666666666666,
              "#ed7953"
             ],
             [
              0.7777777777777778,
              "#fb9f3a"
             ],
             [
              0.8888888888888888,
              "#fdca26"
             ],
             [
              1,
              "#f0f921"
             ]
            ],
            "type": "heatmap"
           }
          ],
          "heatmapgl": [
           {
            "colorbar": {
             "outlinewidth": 0,
             "ticks": ""
            },
            "colorscale": [
             [
              0,
              "#0d0887"
             ],
             [
              0.1111111111111111,
              "#46039f"
             ],
             [
              0.2222222222222222,
              "#7201a8"
             ],
             [
              0.3333333333333333,
              "#9c179e"
             ],
             [
              0.4444444444444444,
              "#bd3786"
             ],
             [
              0.5555555555555556,
              "#d8576b"
             ],
             [
              0.6666666666666666,
              "#ed7953"
             ],
             [
              0.7777777777777778,
              "#fb9f3a"
             ],
             [
              0.8888888888888888,
              "#fdca26"
             ],
             [
              1,
              "#f0f921"
             ]
            ],
            "type": "heatmapgl"
           }
          ],
          "histogram": [
           {
            "marker": {
             "pattern": {
              "fillmode": "overlay",
              "size": 10,
              "solidity": 0.2
             }
            },
            "type": "histogram"
           }
          ],
          "histogram2d": [
           {
            "colorbar": {
             "outlinewidth": 0,
             "ticks": ""
            },
            "colorscale": [
             [
              0,
              "#0d0887"
             ],
             [
              0.1111111111111111,
              "#46039f"
             ],
             [
              0.2222222222222222,
              "#7201a8"
             ],
             [
              0.3333333333333333,
              "#9c179e"
             ],
             [
              0.4444444444444444,
              "#bd3786"
             ],
             [
              0.5555555555555556,
              "#d8576b"
             ],
             [
              0.6666666666666666,
              "#ed7953"
             ],
             [
              0.7777777777777778,
              "#fb9f3a"
             ],
             [
              0.8888888888888888,
              "#fdca26"
             ],
             [
              1,
              "#f0f921"
             ]
            ],
            "type": "histogram2d"
           }
          ],
          "histogram2dcontour": [
           {
            "colorbar": {
             "outlinewidth": 0,
             "ticks": ""
            },
            "colorscale": [
             [
              0,
              "#0d0887"
             ],
             [
              0.1111111111111111,
              "#46039f"
             ],
             [
              0.2222222222222222,
              "#7201a8"
             ],
             [
              0.3333333333333333,
              "#9c179e"
             ],
             [
              0.4444444444444444,
              "#bd3786"
             ],
             [
              0.5555555555555556,
              "#d8576b"
             ],
             [
              0.6666666666666666,
              "#ed7953"
             ],
             [
              0.7777777777777778,
              "#fb9f3a"
             ],
             [
              0.8888888888888888,
              "#fdca26"
             ],
             [
              1,
              "#f0f921"
             ]
            ],
            "type": "histogram2dcontour"
           }
          ],
          "mesh3d": [
           {
            "colorbar": {
             "outlinewidth": 0,
             "ticks": ""
            },
            "type": "mesh3d"
           }
          ],
          "parcoords": [
           {
            "line": {
             "colorbar": {
              "outlinewidth": 0,
              "ticks": ""
             }
            },
            "type": "parcoords"
           }
          ],
          "pie": [
           {
            "automargin": true,
            "type": "pie"
           }
          ],
          "scatter": [
           {
            "fillpattern": {
             "fillmode": "overlay",
             "size": 10,
             "solidity": 0.2
            },
            "type": "scatter"
           }
          ],
          "scatter3d": [
           {
            "line": {
             "colorbar": {
              "outlinewidth": 0,
              "ticks": ""
             }
            },
            "marker": {
             "colorbar": {
              "outlinewidth": 0,
              "ticks": ""
             }
            },
            "type": "scatter3d"
           }
          ],
          "scattercarpet": [
           {
            "marker": {
             "colorbar": {
              "outlinewidth": 0,
              "ticks": ""
             }
            },
            "type": "scattercarpet"
           }
          ],
          "scattergeo": [
           {
            "marker": {
             "colorbar": {
              "outlinewidth": 0,
              "ticks": ""
             }
            },
            "type": "scattergeo"
           }
          ],
          "scattergl": [
           {
            "marker": {
             "colorbar": {
              "outlinewidth": 0,
              "ticks": ""
             }
            },
            "type": "scattergl"
           }
          ],
          "scattermapbox": [
           {
            "marker": {
             "colorbar": {
              "outlinewidth": 0,
              "ticks": ""
             }
            },
            "type": "scattermapbox"
           }
          ],
          "scatterpolar": [
           {
            "marker": {
             "colorbar": {
              "outlinewidth": 0,
              "ticks": ""
             }
            },
            "type": "scatterpolar"
           }
          ],
          "scatterpolargl": [
           {
            "marker": {
             "colorbar": {
              "outlinewidth": 0,
              "ticks": ""
             }
            },
            "type": "scatterpolargl"
           }
          ],
          "scatterternary": [
           {
            "marker": {
             "colorbar": {
              "outlinewidth": 0,
              "ticks": ""
             }
            },
            "type": "scatterternary"
           }
          ],
          "surface": [
           {
            "colorbar": {
             "outlinewidth": 0,
             "ticks": ""
            },
            "colorscale": [
             [
              0,
              "#0d0887"
             ],
             [
              0.1111111111111111,
              "#46039f"
             ],
             [
              0.2222222222222222,
              "#7201a8"
             ],
             [
              0.3333333333333333,
              "#9c179e"
             ],
             [
              0.4444444444444444,
              "#bd3786"
             ],
             [
              0.5555555555555556,
              "#d8576b"
             ],
             [
              0.6666666666666666,
              "#ed7953"
             ],
             [
              0.7777777777777778,
              "#fb9f3a"
             ],
             [
              0.8888888888888888,
              "#fdca26"
             ],
             [
              1,
              "#f0f921"
             ]
            ],
            "type": "surface"
           }
          ],
          "table": [
           {
            "cells": {
             "fill": {
              "color": "#EBF0F8"
             },
             "line": {
              "color": "white"
             }
            },
            "header": {
             "fill": {
              "color": "#C8D4E3"
             },
             "line": {
              "color": "white"
             }
            },
            "type": "table"
           }
          ]
         },
         "layout": {
          "annotationdefaults": {
           "arrowcolor": "#2a3f5f",
           "arrowhead": 0,
           "arrowwidth": 1
          },
          "autotypenumbers": "strict",
          "coloraxis": {
           "colorbar": {
            "outlinewidth": 0,
            "ticks": ""
           }
          },
          "colorscale": {
           "diverging": [
            [
             0,
             "#8e0152"
            ],
            [
             0.1,
             "#c51b7d"
            ],
            [
             0.2,
             "#de77ae"
            ],
            [
             0.3,
             "#f1b6da"
            ],
            [
             0.4,
             "#fde0ef"
            ],
            [
             0.5,
             "#f7f7f7"
            ],
            [
             0.6,
             "#e6f5d0"
            ],
            [
             0.7,
             "#b8e186"
            ],
            [
             0.8,
             "#7fbc41"
            ],
            [
             0.9,
             "#4d9221"
            ],
            [
             1,
             "#276419"
            ]
           ],
           "sequential": [
            [
             0,
             "#0d0887"
            ],
            [
             0.1111111111111111,
             "#46039f"
            ],
            [
             0.2222222222222222,
             "#7201a8"
            ],
            [
             0.3333333333333333,
             "#9c179e"
            ],
            [
             0.4444444444444444,
             "#bd3786"
            ],
            [
             0.5555555555555556,
             "#d8576b"
            ],
            [
             0.6666666666666666,
             "#ed7953"
            ],
            [
             0.7777777777777778,
             "#fb9f3a"
            ],
            [
             0.8888888888888888,
             "#fdca26"
            ],
            [
             1,
             "#f0f921"
            ]
           ],
           "sequentialminus": [
            [
             0,
             "#0d0887"
            ],
            [
             0.1111111111111111,
             "#46039f"
            ],
            [
             0.2222222222222222,
             "#7201a8"
            ],
            [
             0.3333333333333333,
             "#9c179e"
            ],
            [
             0.4444444444444444,
             "#bd3786"
            ],
            [
             0.5555555555555556,
             "#d8576b"
            ],
            [
             0.6666666666666666,
             "#ed7953"
            ],
            [
             0.7777777777777778,
             "#fb9f3a"
            ],
            [
             0.8888888888888888,
             "#fdca26"
            ],
            [
             1,
             "#f0f921"
            ]
           ]
          },
          "colorway": [
           "#636efa",
           "#EF553B",
           "#00cc96",
           "#ab63fa",
           "#FFA15A",
           "#19d3f3",
           "#FF6692",
           "#B6E880",
           "#FF97FF",
           "#FECB52"
          ],
          "font": {
           "color": "#2a3f5f"
          },
          "geo": {
           "bgcolor": "white",
           "lakecolor": "white",
           "landcolor": "#E5ECF6",
           "showlakes": true,
           "showland": true,
           "subunitcolor": "white"
          },
          "hoverlabel": {
           "align": "left"
          },
          "hovermode": "closest",
          "mapbox": {
           "style": "light"
          },
          "paper_bgcolor": "white",
          "plot_bgcolor": "#E5ECF6",
          "polar": {
           "angularaxis": {
            "gridcolor": "white",
            "linecolor": "white",
            "ticks": ""
           },
           "bgcolor": "#E5ECF6",
           "radialaxis": {
            "gridcolor": "white",
            "linecolor": "white",
            "ticks": ""
           }
          },
          "scene": {
           "xaxis": {
            "backgroundcolor": "#E5ECF6",
            "gridcolor": "white",
            "gridwidth": 2,
            "linecolor": "white",
            "showbackground": true,
            "ticks": "",
            "zerolinecolor": "white"
           },
           "yaxis": {
            "backgroundcolor": "#E5ECF6",
            "gridcolor": "white",
            "gridwidth": 2,
            "linecolor": "white",
            "showbackground": true,
            "ticks": "",
            "zerolinecolor": "white"
           },
           "zaxis": {
            "backgroundcolor": "#E5ECF6",
            "gridcolor": "white",
            "gridwidth": 2,
            "linecolor": "white",
            "showbackground": true,
            "ticks": "",
            "zerolinecolor": "white"
           }
          },
          "shapedefaults": {
           "line": {
            "color": "#2a3f5f"
           }
          },
          "ternary": {
           "aaxis": {
            "gridcolor": "white",
            "linecolor": "white",
            "ticks": ""
           },
           "baxis": {
            "gridcolor": "white",
            "linecolor": "white",
            "ticks": ""
           },
           "bgcolor": "#E5ECF6",
           "caxis": {
            "gridcolor": "white",
            "linecolor": "white",
            "ticks": ""
           }
          },
          "title": {
           "x": 0.05
          },
          "xaxis": {
           "automargin": true,
           "gridcolor": "white",
           "linecolor": "white",
           "ticks": "",
           "title": {
            "standoff": 15
           },
           "zerolinecolor": "white",
           "zerolinewidth": 2
          },
          "yaxis": {
           "automargin": true,
           "gridcolor": "white",
           "linecolor": "white",
           "ticks": "",
           "title": {
            "standoff": 15
           },
           "zerolinecolor": "white",
           "zerolinewidth": 2
          }
         }
        },
        "title": {
         "font": {
          "color": "#4D5663"
         }
        },
        "xaxis": {
         "gridcolor": "#E1E5ED",
         "showgrid": true,
         "tickfont": {
          "color": "#4D5663"
         },
         "title": {
          "font": {
           "color": "#4D5663"
          },
          "text": ""
         },
         "zerolinecolor": "#E1E5ED"
        },
        "yaxis": {
         "gridcolor": "#E1E5ED",
         "showgrid": true,
         "tickfont": {
          "color": "#4D5663"
         },
         "title": {
          "font": {
           "color": "#4D5663"
          },
          "text": ""
         },
         "zerolinecolor": "#E1E5ED"
        }
       }
      },
      "text/html": [
       "<div>                            <div id=\"7e7df2f3-3434-4ef8-bcc9-4efbaad789a3\" class=\"plotly-graph-div\" style=\"height:525px; width:100%;\"></div>            <script type=\"text/javascript\">                require([\"plotly\"], function(Plotly) {                    window.PLOTLYENV=window.PLOTLYENV || {};\n",
       "                    window.PLOTLYENV.BASE_URL='https://plot.ly';                                    if (document.getElementById(\"7e7df2f3-3434-4ef8-bcc9-4efbaad789a3\")) {                    Plotly.newPlot(                        \"7e7df2f3-3434-4ef8-bcc9-4efbaad789a3\",                        [{\"line\":{\"color\":\"rgba(255, 153, 51, 1.0)\",\"dash\":\"solid\",\"shape\":\"linear\",\"width\":1.3},\"marker\":{\"size\":20,\"symbol\":\"circle\"},\"mode\":\"markers\",\"name\":\"B\",\"text\":\"\",\"x\":[0.406730039480157,-0.39228221499578964,0.7584886923840094,-0.9440396101168271,-0.727462876129729,0.4839174053257021,0.3627206584336743,1.168876137696794,1.2510313986768908,-0.8539452754949033,0.055427781643683255,-0.6784544917630049,0.8326820808182758,0.28424683461318606,-0.14757676900957287,0.11439817628276706,-0.18475712704423441,0.0038164459887509153,0.34990494510895703,-0.4378365112671588,-0.319660271111292,-0.3137996100294566,0.7818668395960702,1.233186915064355,-0.6435088591199211,-0.7662361903303532,0.6315312339735785,-1.5985204957973767,-1.8108208438232374,2.851513981870026,-0.0364816577569318,-0.07999396186412067,-1.4714556943251862,-0.47159853321598855,-1.4583382229612358,0.5500685036145431,-0.5124116539500457,-0.4612840603123584,1.2075325846345708,0.27937512403424236,0.4729467860759181,0.694237909442264,-0.22313437477461176,-2.1673385397595584,1.3640671084533982,1.4328639494199835,-1.3186427873817268,-1.0994996582162526,-0.41552140832138207,-1.1080560081519106,0.2813001247748424,-0.7580111392673803,-0.7788585603184489,1.2751150122692931,2.00579679912336,0.47791604052873227,0.12635847592401317,0.4544312374061017,-0.701182543768695,-0.31650116074208257,1.40877730233643,-0.30667471652084766,0.8587407419478714,1.9907280644550456,-0.34251402756783583,0.8082078562811572,0.15996260259357092,0.004165864484431415,1.226249713622541,1.448104818376337,-0.571107037470229,1.0776789911239473,-0.1018710678062574,1.1137520194408075,0.305546217332669,-0.43272160683972544,0.5002141172314987,1.384830376450365,1.3439169146885883,-0.801316865757186,0.6946582118008514,1.1900960545880286,0.15796941300637093,1.1856772524598995,-1.3348503021181104,0.26021804126709724,0.7641069566280589,0.5619839963840547,0.9919306452669481,-0.42193016475058465,1.6278652681325925,0.040967833820687465,0.4341660540644965,1.2258119652660264,0.16250938553896713,0.7601085688053791,-0.9805826865572652,2.3002686917555693,1.301006005581953,1.754526468354843],\"y\":[1.097376166904293,1.8642792306676408,1.2461137578017065,1.477672212271986,-0.6321980447209725,-0.701592290165167,-1.9910127251039769,-0.16971343962788965,1.541150001898701,-1.6226902596728239,-0.19448210077836395,-0.47549319984974325,0.7803436367159594,2.08048633199042,-0.8719472680505037,-0.37442017918715675,-0.4891452026651608,-0.5970083414206725,-0.16973314267358802,0.06428229010088789,0.4494812462908728,-0.07193734454633495,0.9309418106438704,-0.9753354844829426,-0.22601455757081423,0.18748715389366605,-0.1312877215837846,0.2381938795614643,-1.7590016804188497,0.6731156410468611,-0.7597413854750319,-0.8841013551192329,0.3929846598823091,0.11017410931895902,0.18683594785406676,-0.2029225971205222,-1.0052515203199146,-0.8693936292685707,-0.5374583078325221,0.5430544806259738,-1.3965788668301606,-1.1651248251003146,-0.8524306919840188,1.128249186662589,0.6442598329163325,1.0213495698127613,-0.23049466510995706,0.07953191198925529,-1.4659932409105514,1.2955320882347134,-0.8377201170388314,-0.4065340844831503,-1.5343531136588566,0.5484422875986819,0.09010716670491731,-2.249789437139244,-0.4964833178001253,0.9236763626726683,0.8452213396049112,-1.2927235441395513,1.7141323156631694,2.0912246513019284,0.25670750122387975,-1.1156603606229654,1.9235857811875827,-0.8710707446693985,1.3740453390524754,-0.35252170079482553,0.3105335666082955,-0.8699675452643268,-1.5648524283832677,0.5259596252560428,-0.11867843751372183,-0.4825495127875421,0.47010600603079233,0.6759767650864442,-0.1813265244137657,0.23745839470300278,1.9769665072823797,0.5902013388082753,1.710003116764618,0.03506191983633523,0.36609790401099235,-0.44103957812685,0.014828666517463394,0.21150895973385886,1.5565405830025982,2.401094575846921,-0.28780392140728167,-1.93983090406157,0.4842455485607953,1.0815228442886557,-0.36042455727396383,-0.6162822329956089,0.7698723634388819,-0.26264604843217976,-0.5313630021704862,-0.9796202663756749,0.07779045872360635,0.45828456864812617],\"type\":\"scatter\"}],                        {\"legend\":{\"bgcolor\":\"#F5F6F9\",\"font\":{\"color\":\"#4D5663\"}},\"paper_bgcolor\":\"#F5F6F9\",\"plot_bgcolor\":\"#F5F6F9\",\"template\":{\"data\":{\"barpolar\":[{\"marker\":{\"line\":{\"color\":\"#E5ECF6\",\"width\":0.5},\"pattern\":{\"fillmode\":\"overlay\",\"size\":10,\"solidity\":0.2}},\"type\":\"barpolar\"}],\"bar\":[{\"error_x\":{\"color\":\"#2a3f5f\"},\"error_y\":{\"color\":\"#2a3f5f\"},\"marker\":{\"line\":{\"color\":\"#E5ECF6\",\"width\":0.5},\"pattern\":{\"fillmode\":\"overlay\",\"size\":10,\"solidity\":0.2}},\"type\":\"bar\"}],\"carpet\":[{\"aaxis\":{\"endlinecolor\":\"#2a3f5f\",\"gridcolor\":\"white\",\"linecolor\":\"white\",\"minorgridcolor\":\"white\",\"startlinecolor\":\"#2a3f5f\"},\"baxis\":{\"endlinecolor\":\"#2a3f5f\",\"gridcolor\":\"white\",\"linecolor\":\"white\",\"minorgridcolor\":\"white\",\"startlinecolor\":\"#2a3f5f\"},\"type\":\"carpet\"}],\"choropleth\":[{\"colorbar\":{\"outlinewidth\":0,\"ticks\":\"\"},\"type\":\"choropleth\"}],\"contourcarpet\":[{\"colorbar\":{\"outlinewidth\":0,\"ticks\":\"\"},\"type\":\"contourcarpet\"}],\"contour\":[{\"colorbar\":{\"outlinewidth\":0,\"ticks\":\"\"},\"colorscale\":[[0.0,\"#0d0887\"],[0.1111111111111111,\"#46039f\"],[0.2222222222222222,\"#7201a8\"],[0.3333333333333333,\"#9c179e\"],[0.4444444444444444,\"#bd3786\"],[0.5555555555555556,\"#d8576b\"],[0.6666666666666666,\"#ed7953\"],[0.7777777777777778,\"#fb9f3a\"],[0.8888888888888888,\"#fdca26\"],[1.0,\"#f0f921\"]],\"type\":\"contour\"}],\"heatmapgl\":[{\"colorbar\":{\"outlinewidth\":0,\"ticks\":\"\"},\"colorscale\":[[0.0,\"#0d0887\"],[0.1111111111111111,\"#46039f\"],[0.2222222222222222,\"#7201a8\"],[0.3333333333333333,\"#9c179e\"],[0.4444444444444444,\"#bd3786\"],[0.5555555555555556,\"#d8576b\"],[0.6666666666666666,\"#ed7953\"],[0.7777777777777778,\"#fb9f3a\"],[0.8888888888888888,\"#fdca26\"],[1.0,\"#f0f921\"]],\"type\":\"heatmapgl\"}],\"heatmap\":[{\"colorbar\":{\"outlinewidth\":0,\"ticks\":\"\"},\"colorscale\":[[0.0,\"#0d0887\"],[0.1111111111111111,\"#46039f\"],[0.2222222222222222,\"#7201a8\"],[0.3333333333333333,\"#9c179e\"],[0.4444444444444444,\"#bd3786\"],[0.5555555555555556,\"#d8576b\"],[0.6666666666666666,\"#ed7953\"],[0.7777777777777778,\"#fb9f3a\"],[0.8888888888888888,\"#fdca26\"],[1.0,\"#f0f921\"]],\"type\":\"heatmap\"}],\"histogram2dcontour\":[{\"colorbar\":{\"outlinewidth\":0,\"ticks\":\"\"},\"colorscale\":[[0.0,\"#0d0887\"],[0.1111111111111111,\"#46039f\"],[0.2222222222222222,\"#7201a8\"],[0.3333333333333333,\"#9c179e\"],[0.4444444444444444,\"#bd3786\"],[0.5555555555555556,\"#d8576b\"],[0.6666666666666666,\"#ed7953\"],[0.7777777777777778,\"#fb9f3a\"],[0.8888888888888888,\"#fdca26\"],[1.0,\"#f0f921\"]],\"type\":\"histogram2dcontour\"}],\"histogram2d\":[{\"colorbar\":{\"outlinewidth\":0,\"ticks\":\"\"},\"colorscale\":[[0.0,\"#0d0887\"],[0.1111111111111111,\"#46039f\"],[0.2222222222222222,\"#7201a8\"],[0.3333333333333333,\"#9c179e\"],[0.4444444444444444,\"#bd3786\"],[0.5555555555555556,\"#d8576b\"],[0.6666666666666666,\"#ed7953\"],[0.7777777777777778,\"#fb9f3a\"],[0.8888888888888888,\"#fdca26\"],[1.0,\"#f0f921\"]],\"type\":\"histogram2d\"}],\"histogram\":[{\"marker\":{\"pattern\":{\"fillmode\":\"overlay\",\"size\":10,\"solidity\":0.2}},\"type\":\"histogram\"}],\"mesh3d\":[{\"colorbar\":{\"outlinewidth\":0,\"ticks\":\"\"},\"type\":\"mesh3d\"}],\"parcoords\":[{\"line\":{\"colorbar\":{\"outlinewidth\":0,\"ticks\":\"\"}},\"type\":\"parcoords\"}],\"pie\":[{\"automargin\":true,\"type\":\"pie\"}],\"scatter3d\":[{\"line\":{\"colorbar\":{\"outlinewidth\":0,\"ticks\":\"\"}},\"marker\":{\"colorbar\":{\"outlinewidth\":0,\"ticks\":\"\"}},\"type\":\"scatter3d\"}],\"scattercarpet\":[{\"marker\":{\"colorbar\":{\"outlinewidth\":0,\"ticks\":\"\"}},\"type\":\"scattercarpet\"}],\"scattergeo\":[{\"marker\":{\"colorbar\":{\"outlinewidth\":0,\"ticks\":\"\"}},\"type\":\"scattergeo\"}],\"scattergl\":[{\"marker\":{\"colorbar\":{\"outlinewidth\":0,\"ticks\":\"\"}},\"type\":\"scattergl\"}],\"scattermapbox\":[{\"marker\":{\"colorbar\":{\"outlinewidth\":0,\"ticks\":\"\"}},\"type\":\"scattermapbox\"}],\"scatterpolargl\":[{\"marker\":{\"colorbar\":{\"outlinewidth\":0,\"ticks\":\"\"}},\"type\":\"scatterpolargl\"}],\"scatterpolar\":[{\"marker\":{\"colorbar\":{\"outlinewidth\":0,\"ticks\":\"\"}},\"type\":\"scatterpolar\"}],\"scatter\":[{\"fillpattern\":{\"fillmode\":\"overlay\",\"size\":10,\"solidity\":0.2},\"type\":\"scatter\"}],\"scatterternary\":[{\"marker\":{\"colorbar\":{\"outlinewidth\":0,\"ticks\":\"\"}},\"type\":\"scatterternary\"}],\"surface\":[{\"colorbar\":{\"outlinewidth\":0,\"ticks\":\"\"},\"colorscale\":[[0.0,\"#0d0887\"],[0.1111111111111111,\"#46039f\"],[0.2222222222222222,\"#7201a8\"],[0.3333333333333333,\"#9c179e\"],[0.4444444444444444,\"#bd3786\"],[0.5555555555555556,\"#d8576b\"],[0.6666666666666666,\"#ed7953\"],[0.7777777777777778,\"#fb9f3a\"],[0.8888888888888888,\"#fdca26\"],[1.0,\"#f0f921\"]],\"type\":\"surface\"}],\"table\":[{\"cells\":{\"fill\":{\"color\":\"#EBF0F8\"},\"line\":{\"color\":\"white\"}},\"header\":{\"fill\":{\"color\":\"#C8D4E3\"},\"line\":{\"color\":\"white\"}},\"type\":\"table\"}]},\"layout\":{\"annotationdefaults\":{\"arrowcolor\":\"#2a3f5f\",\"arrowhead\":0,\"arrowwidth\":1},\"autotypenumbers\":\"strict\",\"coloraxis\":{\"colorbar\":{\"outlinewidth\":0,\"ticks\":\"\"}},\"colorscale\":{\"diverging\":[[0,\"#8e0152\"],[0.1,\"#c51b7d\"],[0.2,\"#de77ae\"],[0.3,\"#f1b6da\"],[0.4,\"#fde0ef\"],[0.5,\"#f7f7f7\"],[0.6,\"#e6f5d0\"],[0.7,\"#b8e186\"],[0.8,\"#7fbc41\"],[0.9,\"#4d9221\"],[1,\"#276419\"]],\"sequential\":[[0.0,\"#0d0887\"],[0.1111111111111111,\"#46039f\"],[0.2222222222222222,\"#7201a8\"],[0.3333333333333333,\"#9c179e\"],[0.4444444444444444,\"#bd3786\"],[0.5555555555555556,\"#d8576b\"],[0.6666666666666666,\"#ed7953\"],[0.7777777777777778,\"#fb9f3a\"],[0.8888888888888888,\"#fdca26\"],[1.0,\"#f0f921\"]],\"sequentialminus\":[[0.0,\"#0d0887\"],[0.1111111111111111,\"#46039f\"],[0.2222222222222222,\"#7201a8\"],[0.3333333333333333,\"#9c179e\"],[0.4444444444444444,\"#bd3786\"],[0.5555555555555556,\"#d8576b\"],[0.6666666666666666,\"#ed7953\"],[0.7777777777777778,\"#fb9f3a\"],[0.8888888888888888,\"#fdca26\"],[1.0,\"#f0f921\"]]},\"colorway\":[\"#636efa\",\"#EF553B\",\"#00cc96\",\"#ab63fa\",\"#FFA15A\",\"#19d3f3\",\"#FF6692\",\"#B6E880\",\"#FF97FF\",\"#FECB52\"],\"font\":{\"color\":\"#2a3f5f\"},\"geo\":{\"bgcolor\":\"white\",\"lakecolor\":\"white\",\"landcolor\":\"#E5ECF6\",\"showlakes\":true,\"showland\":true,\"subunitcolor\":\"white\"},\"hoverlabel\":{\"align\":\"left\"},\"hovermode\":\"closest\",\"mapbox\":{\"style\":\"light\"},\"paper_bgcolor\":\"white\",\"plot_bgcolor\":\"#E5ECF6\",\"polar\":{\"angularaxis\":{\"gridcolor\":\"white\",\"linecolor\":\"white\",\"ticks\":\"\"},\"bgcolor\":\"#E5ECF6\",\"radialaxis\":{\"gridcolor\":\"white\",\"linecolor\":\"white\",\"ticks\":\"\"}},\"scene\":{\"xaxis\":{\"backgroundcolor\":\"#E5ECF6\",\"gridcolor\":\"white\",\"gridwidth\":2,\"linecolor\":\"white\",\"showbackground\":true,\"ticks\":\"\",\"zerolinecolor\":\"white\"},\"yaxis\":{\"backgroundcolor\":\"#E5ECF6\",\"gridcolor\":\"white\",\"gridwidth\":2,\"linecolor\":\"white\",\"showbackground\":true,\"ticks\":\"\",\"zerolinecolor\":\"white\"},\"zaxis\":{\"backgroundcolor\":\"#E5ECF6\",\"gridcolor\":\"white\",\"gridwidth\":2,\"linecolor\":\"white\",\"showbackground\":true,\"ticks\":\"\",\"zerolinecolor\":\"white\"}},\"shapedefaults\":{\"line\":{\"color\":\"#2a3f5f\"}},\"ternary\":{\"aaxis\":{\"gridcolor\":\"white\",\"linecolor\":\"white\",\"ticks\":\"\"},\"baxis\":{\"gridcolor\":\"white\",\"linecolor\":\"white\",\"ticks\":\"\"},\"bgcolor\":\"#E5ECF6\",\"caxis\":{\"gridcolor\":\"white\",\"linecolor\":\"white\",\"ticks\":\"\"}},\"title\":{\"x\":0.05},\"xaxis\":{\"automargin\":true,\"gridcolor\":\"white\",\"linecolor\":\"white\",\"ticks\":\"\",\"title\":{\"standoff\":15},\"zerolinecolor\":\"white\",\"zerolinewidth\":2},\"yaxis\":{\"automargin\":true,\"gridcolor\":\"white\",\"linecolor\":\"white\",\"ticks\":\"\",\"title\":{\"standoff\":15},\"zerolinecolor\":\"white\",\"zerolinewidth\":2}}},\"title\":{\"font\":{\"color\":\"#4D5663\"}},\"xaxis\":{\"gridcolor\":\"#E1E5ED\",\"showgrid\":true,\"tickfont\":{\"color\":\"#4D5663\"},\"title\":{\"font\":{\"color\":\"#4D5663\"},\"text\":\"\"},\"zerolinecolor\":\"#E1E5ED\"},\"yaxis\":{\"gridcolor\":\"#E1E5ED\",\"showgrid\":true,\"tickfont\":{\"color\":\"#4D5663\"},\"title\":{\"font\":{\"color\":\"#4D5663\"},\"text\":\"\"},\"zerolinecolor\":\"#E1E5ED\"}},                        {\"showLink\": true, \"linkText\": \"Export to plot.ly\", \"plotlyServerURL\": \"https://plot.ly\", \"responsive\": true}                    ).then(function(){\n",
       "                            \n",
       "var gd = document.getElementById('7e7df2f3-3434-4ef8-bcc9-4efbaad789a3');\n",
       "var x = new MutationObserver(function (mutations, observer) {{\n",
       "        var display = window.getComputedStyle(gd).display;\n",
       "        if (!display || display === 'none') {{\n",
       "            console.log([gd, 'removed!']);\n",
       "            Plotly.purge(gd);\n",
       "            observer.disconnect();\n",
       "        }}\n",
       "}});\n",
       "\n",
       "// Listen for the removal of the full notebook cells\n",
       "var notebookContainer = gd.closest('#notebook-container');\n",
       "if (notebookContainer) {{\n",
       "    x.observe(notebookContainer, {childList: true});\n",
       "}}\n",
       "\n",
       "// Listen for the clearing of the current output cell\n",
       "var outputEl = gd.closest('.output');\n",
       "if (outputEl) {{\n",
       "    x.observe(outputEl, {childList: true});\n",
       "}}\n",
       "\n",
       "                        })                };                });            </script>        </div>"
      ]
     },
     "metadata": {},
     "output_type": "display_data"
    }
   ],
   "source": [
    "df.iplot(kind='scatter', x='A', y='B', mode=\"markers\", size=20) # with marker"
   ]
  },
  {
   "cell_type": "code",
   "execution_count": 16,
   "id": "06fb8c10",
   "metadata": {},
   "outputs": [
    {
     "data": {
      "application/vnd.plotly.v1+json": {
       "config": {
        "linkText": "Export to plot.ly",
        "plotlyServerURL": "https://plot.ly",
        "showLink": true
       },
       "data": [
        {
         "marker": {
          "color": "rgba(255, 153, 51, 0.6)",
          "line": {
           "color": "rgba(255, 153, 51, 1.0)",
           "width": 1
          }
         },
         "name": "Value",
         "orientation": "v",
         "text": "",
         "type": "bar",
         "x": [
          "A",
          "B",
          "C"
         ],
         "y": [
          32,
          43,
          50
         ]
        }
       ],
       "layout": {
        "legend": {
         "bgcolor": "#F5F6F9",
         "font": {
          "color": "#4D5663"
         }
        },
        "paper_bgcolor": "#F5F6F9",
        "plot_bgcolor": "#F5F6F9",
        "template": {
         "data": {
          "bar": [
           {
            "error_x": {
             "color": "#2a3f5f"
            },
            "error_y": {
             "color": "#2a3f5f"
            },
            "marker": {
             "line": {
              "color": "#E5ECF6",
              "width": 0.5
             },
             "pattern": {
              "fillmode": "overlay",
              "size": 10,
              "solidity": 0.2
             }
            },
            "type": "bar"
           }
          ],
          "barpolar": [
           {
            "marker": {
             "line": {
              "color": "#E5ECF6",
              "width": 0.5
             },
             "pattern": {
              "fillmode": "overlay",
              "size": 10,
              "solidity": 0.2
             }
            },
            "type": "barpolar"
           }
          ],
          "carpet": [
           {
            "aaxis": {
             "endlinecolor": "#2a3f5f",
             "gridcolor": "white",
             "linecolor": "white",
             "minorgridcolor": "white",
             "startlinecolor": "#2a3f5f"
            },
            "baxis": {
             "endlinecolor": "#2a3f5f",
             "gridcolor": "white",
             "linecolor": "white",
             "minorgridcolor": "white",
             "startlinecolor": "#2a3f5f"
            },
            "type": "carpet"
           }
          ],
          "choropleth": [
           {
            "colorbar": {
             "outlinewidth": 0,
             "ticks": ""
            },
            "type": "choropleth"
           }
          ],
          "contour": [
           {
            "colorbar": {
             "outlinewidth": 0,
             "ticks": ""
            },
            "colorscale": [
             [
              0,
              "#0d0887"
             ],
             [
              0.1111111111111111,
              "#46039f"
             ],
             [
              0.2222222222222222,
              "#7201a8"
             ],
             [
              0.3333333333333333,
              "#9c179e"
             ],
             [
              0.4444444444444444,
              "#bd3786"
             ],
             [
              0.5555555555555556,
              "#d8576b"
             ],
             [
              0.6666666666666666,
              "#ed7953"
             ],
             [
              0.7777777777777778,
              "#fb9f3a"
             ],
             [
              0.8888888888888888,
              "#fdca26"
             ],
             [
              1,
              "#f0f921"
             ]
            ],
            "type": "contour"
           }
          ],
          "contourcarpet": [
           {
            "colorbar": {
             "outlinewidth": 0,
             "ticks": ""
            },
            "type": "contourcarpet"
           }
          ],
          "heatmap": [
           {
            "colorbar": {
             "outlinewidth": 0,
             "ticks": ""
            },
            "colorscale": [
             [
              0,
              "#0d0887"
             ],
             [
              0.1111111111111111,
              "#46039f"
             ],
             [
              0.2222222222222222,
              "#7201a8"
             ],
             [
              0.3333333333333333,
              "#9c179e"
             ],
             [
              0.4444444444444444,
              "#bd3786"
             ],
             [
              0.5555555555555556,
              "#d8576b"
             ],
             [
              0.6666666666666666,
              "#ed7953"
             ],
             [
              0.7777777777777778,
              "#fb9f3a"
             ],
             [
              0.8888888888888888,
              "#fdca26"
             ],
             [
              1,
              "#f0f921"
             ]
            ],
            "type": "heatmap"
           }
          ],
          "heatmapgl": [
           {
            "colorbar": {
             "outlinewidth": 0,
             "ticks": ""
            },
            "colorscale": [
             [
              0,
              "#0d0887"
             ],
             [
              0.1111111111111111,
              "#46039f"
             ],
             [
              0.2222222222222222,
              "#7201a8"
             ],
             [
              0.3333333333333333,
              "#9c179e"
             ],
             [
              0.4444444444444444,
              "#bd3786"
             ],
             [
              0.5555555555555556,
              "#d8576b"
             ],
             [
              0.6666666666666666,
              "#ed7953"
             ],
             [
              0.7777777777777778,
              "#fb9f3a"
             ],
             [
              0.8888888888888888,
              "#fdca26"
             ],
             [
              1,
              "#f0f921"
             ]
            ],
            "type": "heatmapgl"
           }
          ],
          "histogram": [
           {
            "marker": {
             "pattern": {
              "fillmode": "overlay",
              "size": 10,
              "solidity": 0.2
             }
            },
            "type": "histogram"
           }
          ],
          "histogram2d": [
           {
            "colorbar": {
             "outlinewidth": 0,
             "ticks": ""
            },
            "colorscale": [
             [
              0,
              "#0d0887"
             ],
             [
              0.1111111111111111,
              "#46039f"
             ],
             [
              0.2222222222222222,
              "#7201a8"
             ],
             [
              0.3333333333333333,
              "#9c179e"
             ],
             [
              0.4444444444444444,
              "#bd3786"
             ],
             [
              0.5555555555555556,
              "#d8576b"
             ],
             [
              0.6666666666666666,
              "#ed7953"
             ],
             [
              0.7777777777777778,
              "#fb9f3a"
             ],
             [
              0.8888888888888888,
              "#fdca26"
             ],
             [
              1,
              "#f0f921"
             ]
            ],
            "type": "histogram2d"
           }
          ],
          "histogram2dcontour": [
           {
            "colorbar": {
             "outlinewidth": 0,
             "ticks": ""
            },
            "colorscale": [
             [
              0,
              "#0d0887"
             ],
             [
              0.1111111111111111,
              "#46039f"
             ],
             [
              0.2222222222222222,
              "#7201a8"
             ],
             [
              0.3333333333333333,
              "#9c179e"
             ],
             [
              0.4444444444444444,
              "#bd3786"
             ],
             [
              0.5555555555555556,
              "#d8576b"
             ],
             [
              0.6666666666666666,
              "#ed7953"
             ],
             [
              0.7777777777777778,
              "#fb9f3a"
             ],
             [
              0.8888888888888888,
              "#fdca26"
             ],
             [
              1,
              "#f0f921"
             ]
            ],
            "type": "histogram2dcontour"
           }
          ],
          "mesh3d": [
           {
            "colorbar": {
             "outlinewidth": 0,
             "ticks": ""
            },
            "type": "mesh3d"
           }
          ],
          "parcoords": [
           {
            "line": {
             "colorbar": {
              "outlinewidth": 0,
              "ticks": ""
             }
            },
            "type": "parcoords"
           }
          ],
          "pie": [
           {
            "automargin": true,
            "type": "pie"
           }
          ],
          "scatter": [
           {
            "fillpattern": {
             "fillmode": "overlay",
             "size": 10,
             "solidity": 0.2
            },
            "type": "scatter"
           }
          ],
          "scatter3d": [
           {
            "line": {
             "colorbar": {
              "outlinewidth": 0,
              "ticks": ""
             }
            },
            "marker": {
             "colorbar": {
              "outlinewidth": 0,
              "ticks": ""
             }
            },
            "type": "scatter3d"
           }
          ],
          "scattercarpet": [
           {
            "marker": {
             "colorbar": {
              "outlinewidth": 0,
              "ticks": ""
             }
            },
            "type": "scattercarpet"
           }
          ],
          "scattergeo": [
           {
            "marker": {
             "colorbar": {
              "outlinewidth": 0,
              "ticks": ""
             }
            },
            "type": "scattergeo"
           }
          ],
          "scattergl": [
           {
            "marker": {
             "colorbar": {
              "outlinewidth": 0,
              "ticks": ""
             }
            },
            "type": "scattergl"
           }
          ],
          "scattermapbox": [
           {
            "marker": {
             "colorbar": {
              "outlinewidth": 0,
              "ticks": ""
             }
            },
            "type": "scattermapbox"
           }
          ],
          "scatterpolar": [
           {
            "marker": {
             "colorbar": {
              "outlinewidth": 0,
              "ticks": ""
             }
            },
            "type": "scatterpolar"
           }
          ],
          "scatterpolargl": [
           {
            "marker": {
             "colorbar": {
              "outlinewidth": 0,
              "ticks": ""
             }
            },
            "type": "scatterpolargl"
           }
          ],
          "scatterternary": [
           {
            "marker": {
             "colorbar": {
              "outlinewidth": 0,
              "ticks": ""
             }
            },
            "type": "scatterternary"
           }
          ],
          "surface": [
           {
            "colorbar": {
             "outlinewidth": 0,
             "ticks": ""
            },
            "colorscale": [
             [
              0,
              "#0d0887"
             ],
             [
              0.1111111111111111,
              "#46039f"
             ],
             [
              0.2222222222222222,
              "#7201a8"
             ],
             [
              0.3333333333333333,
              "#9c179e"
             ],
             [
              0.4444444444444444,
              "#bd3786"
             ],
             [
              0.5555555555555556,
              "#d8576b"
             ],
             [
              0.6666666666666666,
              "#ed7953"
             ],
             [
              0.7777777777777778,
              "#fb9f3a"
             ],
             [
              0.8888888888888888,
              "#fdca26"
             ],
             [
              1,
              "#f0f921"
             ]
            ],
            "type": "surface"
           }
          ],
          "table": [
           {
            "cells": {
             "fill": {
              "color": "#EBF0F8"
             },
             "line": {
              "color": "white"
             }
            },
            "header": {
             "fill": {
              "color": "#C8D4E3"
             },
             "line": {
              "color": "white"
             }
            },
            "type": "table"
           }
          ]
         },
         "layout": {
          "annotationdefaults": {
           "arrowcolor": "#2a3f5f",
           "arrowhead": 0,
           "arrowwidth": 1
          },
          "autotypenumbers": "strict",
          "coloraxis": {
           "colorbar": {
            "outlinewidth": 0,
            "ticks": ""
           }
          },
          "colorscale": {
           "diverging": [
            [
             0,
             "#8e0152"
            ],
            [
             0.1,
             "#c51b7d"
            ],
            [
             0.2,
             "#de77ae"
            ],
            [
             0.3,
             "#f1b6da"
            ],
            [
             0.4,
             "#fde0ef"
            ],
            [
             0.5,
             "#f7f7f7"
            ],
            [
             0.6,
             "#e6f5d0"
            ],
            [
             0.7,
             "#b8e186"
            ],
            [
             0.8,
             "#7fbc41"
            ],
            [
             0.9,
             "#4d9221"
            ],
            [
             1,
             "#276419"
            ]
           ],
           "sequential": [
            [
             0,
             "#0d0887"
            ],
            [
             0.1111111111111111,
             "#46039f"
            ],
            [
             0.2222222222222222,
             "#7201a8"
            ],
            [
             0.3333333333333333,
             "#9c179e"
            ],
            [
             0.4444444444444444,
             "#bd3786"
            ],
            [
             0.5555555555555556,
             "#d8576b"
            ],
            [
             0.6666666666666666,
             "#ed7953"
            ],
            [
             0.7777777777777778,
             "#fb9f3a"
            ],
            [
             0.8888888888888888,
             "#fdca26"
            ],
            [
             1,
             "#f0f921"
            ]
           ],
           "sequentialminus": [
            [
             0,
             "#0d0887"
            ],
            [
             0.1111111111111111,
             "#46039f"
            ],
            [
             0.2222222222222222,
             "#7201a8"
            ],
            [
             0.3333333333333333,
             "#9c179e"
            ],
            [
             0.4444444444444444,
             "#bd3786"
            ],
            [
             0.5555555555555556,
             "#d8576b"
            ],
            [
             0.6666666666666666,
             "#ed7953"
            ],
            [
             0.7777777777777778,
             "#fb9f3a"
            ],
            [
             0.8888888888888888,
             "#fdca26"
            ],
            [
             1,
             "#f0f921"
            ]
           ]
          },
          "colorway": [
           "#636efa",
           "#EF553B",
           "#00cc96",
           "#ab63fa",
           "#FFA15A",
           "#19d3f3",
           "#FF6692",
           "#B6E880",
           "#FF97FF",
           "#FECB52"
          ],
          "font": {
           "color": "#2a3f5f"
          },
          "geo": {
           "bgcolor": "white",
           "lakecolor": "white",
           "landcolor": "#E5ECF6",
           "showlakes": true,
           "showland": true,
           "subunitcolor": "white"
          },
          "hoverlabel": {
           "align": "left"
          },
          "hovermode": "closest",
          "mapbox": {
           "style": "light"
          },
          "paper_bgcolor": "white",
          "plot_bgcolor": "#E5ECF6",
          "polar": {
           "angularaxis": {
            "gridcolor": "white",
            "linecolor": "white",
            "ticks": ""
           },
           "bgcolor": "#E5ECF6",
           "radialaxis": {
            "gridcolor": "white",
            "linecolor": "white",
            "ticks": ""
           }
          },
          "scene": {
           "xaxis": {
            "backgroundcolor": "#E5ECF6",
            "gridcolor": "white",
            "gridwidth": 2,
            "linecolor": "white",
            "showbackground": true,
            "ticks": "",
            "zerolinecolor": "white"
           },
           "yaxis": {
            "backgroundcolor": "#E5ECF6",
            "gridcolor": "white",
            "gridwidth": 2,
            "linecolor": "white",
            "showbackground": true,
            "ticks": "",
            "zerolinecolor": "white"
           },
           "zaxis": {
            "backgroundcolor": "#E5ECF6",
            "gridcolor": "white",
            "gridwidth": 2,
            "linecolor": "white",
            "showbackground": true,
            "ticks": "",
            "zerolinecolor": "white"
           }
          },
          "shapedefaults": {
           "line": {
            "color": "#2a3f5f"
           }
          },
          "ternary": {
           "aaxis": {
            "gridcolor": "white",
            "linecolor": "white",
            "ticks": ""
           },
           "baxis": {
            "gridcolor": "white",
            "linecolor": "white",
            "ticks": ""
           },
           "bgcolor": "#E5ECF6",
           "caxis": {
            "gridcolor": "white",
            "linecolor": "white",
            "ticks": ""
           }
          },
          "title": {
           "x": 0.05
          },
          "xaxis": {
           "automargin": true,
           "gridcolor": "white",
           "linecolor": "white",
           "ticks": "",
           "title": {
            "standoff": 15
           },
           "zerolinecolor": "white",
           "zerolinewidth": 2
          },
          "yaxis": {
           "automargin": true,
           "gridcolor": "white",
           "linecolor": "white",
           "ticks": "",
           "title": {
            "standoff": 15
           },
           "zerolinecolor": "white",
           "zerolinewidth": 2
          }
         }
        },
        "title": {
         "font": {
          "color": "#4D5663"
         }
        },
        "xaxis": {
         "gridcolor": "#E1E5ED",
         "showgrid": true,
         "tickfont": {
          "color": "#4D5663"
         },
         "title": {
          "font": {
           "color": "#4D5663"
          },
          "text": ""
         },
         "zerolinecolor": "#E1E5ED"
        },
        "yaxis": {
         "gridcolor": "#E1E5ED",
         "showgrid": true,
         "tickfont": {
          "color": "#4D5663"
         },
         "title": {
          "font": {
           "color": "#4D5663"
          },
          "text": ""
         },
         "zerolinecolor": "#E1E5ED"
        }
       }
      },
      "text/html": [
       "<div>                            <div id=\"3a78c779-c4ae-4d61-bc00-af5bbfb47927\" class=\"plotly-graph-div\" style=\"height:525px; width:100%;\"></div>            <script type=\"text/javascript\">                require([\"plotly\"], function(Plotly) {                    window.PLOTLYENV=window.PLOTLYENV || {};\n",
       "                    window.PLOTLYENV.BASE_URL='https://plot.ly';                                    if (document.getElementById(\"3a78c779-c4ae-4d61-bc00-af5bbfb47927\")) {                    Plotly.newPlot(                        \"3a78c779-c4ae-4d61-bc00-af5bbfb47927\",                        [{\"marker\":{\"color\":\"rgba(255, 153, 51, 0.6)\",\"line\":{\"color\":\"rgba(255, 153, 51, 1.0)\",\"width\":1}},\"name\":\"Value\",\"orientation\":\"v\",\"text\":\"\",\"x\":[\"A\",\"B\",\"C\"],\"y\":[32,43,50],\"type\":\"bar\"}],                        {\"legend\":{\"bgcolor\":\"#F5F6F9\",\"font\":{\"color\":\"#4D5663\"}},\"paper_bgcolor\":\"#F5F6F9\",\"plot_bgcolor\":\"#F5F6F9\",\"template\":{\"data\":{\"barpolar\":[{\"marker\":{\"line\":{\"color\":\"#E5ECF6\",\"width\":0.5},\"pattern\":{\"fillmode\":\"overlay\",\"size\":10,\"solidity\":0.2}},\"type\":\"barpolar\"}],\"bar\":[{\"error_x\":{\"color\":\"#2a3f5f\"},\"error_y\":{\"color\":\"#2a3f5f\"},\"marker\":{\"line\":{\"color\":\"#E5ECF6\",\"width\":0.5},\"pattern\":{\"fillmode\":\"overlay\",\"size\":10,\"solidity\":0.2}},\"type\":\"bar\"}],\"carpet\":[{\"aaxis\":{\"endlinecolor\":\"#2a3f5f\",\"gridcolor\":\"white\",\"linecolor\":\"white\",\"minorgridcolor\":\"white\",\"startlinecolor\":\"#2a3f5f\"},\"baxis\":{\"endlinecolor\":\"#2a3f5f\",\"gridcolor\":\"white\",\"linecolor\":\"white\",\"minorgridcolor\":\"white\",\"startlinecolor\":\"#2a3f5f\"},\"type\":\"carpet\"}],\"choropleth\":[{\"colorbar\":{\"outlinewidth\":0,\"ticks\":\"\"},\"type\":\"choropleth\"}],\"contourcarpet\":[{\"colorbar\":{\"outlinewidth\":0,\"ticks\":\"\"},\"type\":\"contourcarpet\"}],\"contour\":[{\"colorbar\":{\"outlinewidth\":0,\"ticks\":\"\"},\"colorscale\":[[0.0,\"#0d0887\"],[0.1111111111111111,\"#46039f\"],[0.2222222222222222,\"#7201a8\"],[0.3333333333333333,\"#9c179e\"],[0.4444444444444444,\"#bd3786\"],[0.5555555555555556,\"#d8576b\"],[0.6666666666666666,\"#ed7953\"],[0.7777777777777778,\"#fb9f3a\"],[0.8888888888888888,\"#fdca26\"],[1.0,\"#f0f921\"]],\"type\":\"contour\"}],\"heatmapgl\":[{\"colorbar\":{\"outlinewidth\":0,\"ticks\":\"\"},\"colorscale\":[[0.0,\"#0d0887\"],[0.1111111111111111,\"#46039f\"],[0.2222222222222222,\"#7201a8\"],[0.3333333333333333,\"#9c179e\"],[0.4444444444444444,\"#bd3786\"],[0.5555555555555556,\"#d8576b\"],[0.6666666666666666,\"#ed7953\"],[0.7777777777777778,\"#fb9f3a\"],[0.8888888888888888,\"#fdca26\"],[1.0,\"#f0f921\"]],\"type\":\"heatmapgl\"}],\"heatmap\":[{\"colorbar\":{\"outlinewidth\":0,\"ticks\":\"\"},\"colorscale\":[[0.0,\"#0d0887\"],[0.1111111111111111,\"#46039f\"],[0.2222222222222222,\"#7201a8\"],[0.3333333333333333,\"#9c179e\"],[0.4444444444444444,\"#bd3786\"],[0.5555555555555556,\"#d8576b\"],[0.6666666666666666,\"#ed7953\"],[0.7777777777777778,\"#fb9f3a\"],[0.8888888888888888,\"#fdca26\"],[1.0,\"#f0f921\"]],\"type\":\"heatmap\"}],\"histogram2dcontour\":[{\"colorbar\":{\"outlinewidth\":0,\"ticks\":\"\"},\"colorscale\":[[0.0,\"#0d0887\"],[0.1111111111111111,\"#46039f\"],[0.2222222222222222,\"#7201a8\"],[0.3333333333333333,\"#9c179e\"],[0.4444444444444444,\"#bd3786\"],[0.5555555555555556,\"#d8576b\"],[0.6666666666666666,\"#ed7953\"],[0.7777777777777778,\"#fb9f3a\"],[0.8888888888888888,\"#fdca26\"],[1.0,\"#f0f921\"]],\"type\":\"histogram2dcontour\"}],\"histogram2d\":[{\"colorbar\":{\"outlinewidth\":0,\"ticks\":\"\"},\"colorscale\":[[0.0,\"#0d0887\"],[0.1111111111111111,\"#46039f\"],[0.2222222222222222,\"#7201a8\"],[0.3333333333333333,\"#9c179e\"],[0.4444444444444444,\"#bd3786\"],[0.5555555555555556,\"#d8576b\"],[0.6666666666666666,\"#ed7953\"],[0.7777777777777778,\"#fb9f3a\"],[0.8888888888888888,\"#fdca26\"],[1.0,\"#f0f921\"]],\"type\":\"histogram2d\"}],\"histogram\":[{\"marker\":{\"pattern\":{\"fillmode\":\"overlay\",\"size\":10,\"solidity\":0.2}},\"type\":\"histogram\"}],\"mesh3d\":[{\"colorbar\":{\"outlinewidth\":0,\"ticks\":\"\"},\"type\":\"mesh3d\"}],\"parcoords\":[{\"line\":{\"colorbar\":{\"outlinewidth\":0,\"ticks\":\"\"}},\"type\":\"parcoords\"}],\"pie\":[{\"automargin\":true,\"type\":\"pie\"}],\"scatter3d\":[{\"line\":{\"colorbar\":{\"outlinewidth\":0,\"ticks\":\"\"}},\"marker\":{\"colorbar\":{\"outlinewidth\":0,\"ticks\":\"\"}},\"type\":\"scatter3d\"}],\"scattercarpet\":[{\"marker\":{\"colorbar\":{\"outlinewidth\":0,\"ticks\":\"\"}},\"type\":\"scattercarpet\"}],\"scattergeo\":[{\"marker\":{\"colorbar\":{\"outlinewidth\":0,\"ticks\":\"\"}},\"type\":\"scattergeo\"}],\"scattergl\":[{\"marker\":{\"colorbar\":{\"outlinewidth\":0,\"ticks\":\"\"}},\"type\":\"scattergl\"}],\"scattermapbox\":[{\"marker\":{\"colorbar\":{\"outlinewidth\":0,\"ticks\":\"\"}},\"type\":\"scattermapbox\"}],\"scatterpolargl\":[{\"marker\":{\"colorbar\":{\"outlinewidth\":0,\"ticks\":\"\"}},\"type\":\"scatterpolargl\"}],\"scatterpolar\":[{\"marker\":{\"colorbar\":{\"outlinewidth\":0,\"ticks\":\"\"}},\"type\":\"scatterpolar\"}],\"scatter\":[{\"fillpattern\":{\"fillmode\":\"overlay\",\"size\":10,\"solidity\":0.2},\"type\":\"scatter\"}],\"scatterternary\":[{\"marker\":{\"colorbar\":{\"outlinewidth\":0,\"ticks\":\"\"}},\"type\":\"scatterternary\"}],\"surface\":[{\"colorbar\":{\"outlinewidth\":0,\"ticks\":\"\"},\"colorscale\":[[0.0,\"#0d0887\"],[0.1111111111111111,\"#46039f\"],[0.2222222222222222,\"#7201a8\"],[0.3333333333333333,\"#9c179e\"],[0.4444444444444444,\"#bd3786\"],[0.5555555555555556,\"#d8576b\"],[0.6666666666666666,\"#ed7953\"],[0.7777777777777778,\"#fb9f3a\"],[0.8888888888888888,\"#fdca26\"],[1.0,\"#f0f921\"]],\"type\":\"surface\"}],\"table\":[{\"cells\":{\"fill\":{\"color\":\"#EBF0F8\"},\"line\":{\"color\":\"white\"}},\"header\":{\"fill\":{\"color\":\"#C8D4E3\"},\"line\":{\"color\":\"white\"}},\"type\":\"table\"}]},\"layout\":{\"annotationdefaults\":{\"arrowcolor\":\"#2a3f5f\",\"arrowhead\":0,\"arrowwidth\":1},\"autotypenumbers\":\"strict\",\"coloraxis\":{\"colorbar\":{\"outlinewidth\":0,\"ticks\":\"\"}},\"colorscale\":{\"diverging\":[[0,\"#8e0152\"],[0.1,\"#c51b7d\"],[0.2,\"#de77ae\"],[0.3,\"#f1b6da\"],[0.4,\"#fde0ef\"],[0.5,\"#f7f7f7\"],[0.6,\"#e6f5d0\"],[0.7,\"#b8e186\"],[0.8,\"#7fbc41\"],[0.9,\"#4d9221\"],[1,\"#276419\"]],\"sequential\":[[0.0,\"#0d0887\"],[0.1111111111111111,\"#46039f\"],[0.2222222222222222,\"#7201a8\"],[0.3333333333333333,\"#9c179e\"],[0.4444444444444444,\"#bd3786\"],[0.5555555555555556,\"#d8576b\"],[0.6666666666666666,\"#ed7953\"],[0.7777777777777778,\"#fb9f3a\"],[0.8888888888888888,\"#fdca26\"],[1.0,\"#f0f921\"]],\"sequentialminus\":[[0.0,\"#0d0887\"],[0.1111111111111111,\"#46039f\"],[0.2222222222222222,\"#7201a8\"],[0.3333333333333333,\"#9c179e\"],[0.4444444444444444,\"#bd3786\"],[0.5555555555555556,\"#d8576b\"],[0.6666666666666666,\"#ed7953\"],[0.7777777777777778,\"#fb9f3a\"],[0.8888888888888888,\"#fdca26\"],[1.0,\"#f0f921\"]]},\"colorway\":[\"#636efa\",\"#EF553B\",\"#00cc96\",\"#ab63fa\",\"#FFA15A\",\"#19d3f3\",\"#FF6692\",\"#B6E880\",\"#FF97FF\",\"#FECB52\"],\"font\":{\"color\":\"#2a3f5f\"},\"geo\":{\"bgcolor\":\"white\",\"lakecolor\":\"white\",\"landcolor\":\"#E5ECF6\",\"showlakes\":true,\"showland\":true,\"subunitcolor\":\"white\"},\"hoverlabel\":{\"align\":\"left\"},\"hovermode\":\"closest\",\"mapbox\":{\"style\":\"light\"},\"paper_bgcolor\":\"white\",\"plot_bgcolor\":\"#E5ECF6\",\"polar\":{\"angularaxis\":{\"gridcolor\":\"white\",\"linecolor\":\"white\",\"ticks\":\"\"},\"bgcolor\":\"#E5ECF6\",\"radialaxis\":{\"gridcolor\":\"white\",\"linecolor\":\"white\",\"ticks\":\"\"}},\"scene\":{\"xaxis\":{\"backgroundcolor\":\"#E5ECF6\",\"gridcolor\":\"white\",\"gridwidth\":2,\"linecolor\":\"white\",\"showbackground\":true,\"ticks\":\"\",\"zerolinecolor\":\"white\"},\"yaxis\":{\"backgroundcolor\":\"#E5ECF6\",\"gridcolor\":\"white\",\"gridwidth\":2,\"linecolor\":\"white\",\"showbackground\":true,\"ticks\":\"\",\"zerolinecolor\":\"white\"},\"zaxis\":{\"backgroundcolor\":\"#E5ECF6\",\"gridcolor\":\"white\",\"gridwidth\":2,\"linecolor\":\"white\",\"showbackground\":true,\"ticks\":\"\",\"zerolinecolor\":\"white\"}},\"shapedefaults\":{\"line\":{\"color\":\"#2a3f5f\"}},\"ternary\":{\"aaxis\":{\"gridcolor\":\"white\",\"linecolor\":\"white\",\"ticks\":\"\"},\"baxis\":{\"gridcolor\":\"white\",\"linecolor\":\"white\",\"ticks\":\"\"},\"bgcolor\":\"#E5ECF6\",\"caxis\":{\"gridcolor\":\"white\",\"linecolor\":\"white\",\"ticks\":\"\"}},\"title\":{\"x\":0.05},\"xaxis\":{\"automargin\":true,\"gridcolor\":\"white\",\"linecolor\":\"white\",\"ticks\":\"\",\"title\":{\"standoff\":15},\"zerolinecolor\":\"white\",\"zerolinewidth\":2},\"yaxis\":{\"automargin\":true,\"gridcolor\":\"white\",\"linecolor\":\"white\",\"ticks\":\"\",\"title\":{\"standoff\":15},\"zerolinecolor\":\"white\",\"zerolinewidth\":2}}},\"title\":{\"font\":{\"color\":\"#4D5663\"}},\"xaxis\":{\"gridcolor\":\"#E1E5ED\",\"showgrid\":true,\"tickfont\":{\"color\":\"#4D5663\"},\"title\":{\"font\":{\"color\":\"#4D5663\"},\"text\":\"\"},\"zerolinecolor\":\"#E1E5ED\"},\"yaxis\":{\"gridcolor\":\"#E1E5ED\",\"showgrid\":true,\"tickfont\":{\"color\":\"#4D5663\"},\"title\":{\"font\":{\"color\":\"#4D5663\"},\"text\":\"\"},\"zerolinecolor\":\"#E1E5ED\"}},                        {\"showLink\": true, \"linkText\": \"Export to plot.ly\", \"plotlyServerURL\": \"https://plot.ly\", \"responsive\": true}                    ).then(function(){\n",
       "                            \n",
       "var gd = document.getElementById('3a78c779-c4ae-4d61-bc00-af5bbfb47927');\n",
       "var x = new MutationObserver(function (mutations, observer) {{\n",
       "        var display = window.getComputedStyle(gd).display;\n",
       "        if (!display || display === 'none') {{\n",
       "            console.log([gd, 'removed!']);\n",
       "            Plotly.purge(gd);\n",
       "            observer.disconnect();\n",
       "        }}\n",
       "}});\n",
       "\n",
       "// Listen for the removal of the full notebook cells\n",
       "var notebookContainer = gd.closest('#notebook-container');\n",
       "if (notebookContainer) {{\n",
       "    x.observe(notebookContainer, {childList: true});\n",
       "}}\n",
       "\n",
       "// Listen for the clearing of the current output cell\n",
       "var outputEl = gd.closest('.output');\n",
       "if (outputEl) {{\n",
       "    x.observe(outputEl, {childList: true});\n",
       "}}\n",
       "\n",
       "                        })                };                });            </script>        </div>"
      ]
     },
     "metadata": {},
     "output_type": "display_data"
    }
   ],
   "source": [
    "df2.iplot(kind='bar', x='Category', y='Value')"
   ]
  },
  {
   "cell_type": "code",
   "execution_count": 17,
   "id": "40805136",
   "metadata": {},
   "outputs": [
    {
     "data": {
      "application/vnd.plotly.v1+json": {
       "config": {
        "linkText": "Export to plot.ly",
        "plotlyServerURL": "https://plot.ly",
        "showLink": true
       },
       "data": [
        {
         "marker": {
          "color": "rgba(255, 153, 51, 0.6)",
          "line": {
           "color": "rgba(255, 153, 51, 1.0)",
           "width": 1
          }
         },
         "name": "A",
         "orientation": "v",
         "text": "",
         "type": "bar",
         "x": [
          0,
          1,
          2,
          3,
          4,
          5,
          6,
          7,
          8,
          9,
          10,
          11,
          12,
          13,
          14,
          15,
          16,
          17,
          18,
          19,
          20,
          21,
          22,
          23,
          24,
          25,
          26,
          27,
          28,
          29,
          30,
          31,
          32,
          33,
          34,
          35,
          36,
          37,
          38,
          39,
          40,
          41,
          42,
          43,
          44,
          45,
          46,
          47,
          48,
          49,
          50,
          51,
          52,
          53,
          54,
          55,
          56,
          57,
          58,
          59,
          60,
          61,
          62,
          63,
          64,
          65,
          66,
          67,
          68,
          69,
          70,
          71,
          72,
          73,
          74,
          75,
          76,
          77,
          78,
          79,
          80,
          81,
          82,
          83,
          84,
          85,
          86,
          87,
          88,
          89,
          90,
          91,
          92,
          93,
          94,
          95,
          96,
          97,
          98,
          99
         ],
         "y": [
          0.406730039480157,
          -0.39228221499578964,
          0.7584886923840094,
          -0.9440396101168271,
          -0.727462876129729,
          0.4839174053257021,
          0.3627206584336743,
          1.168876137696794,
          1.2510313986768908,
          -0.8539452754949033,
          0.055427781643683255,
          -0.6784544917630049,
          0.8326820808182758,
          0.28424683461318606,
          -0.14757676900957287,
          0.11439817628276706,
          -0.18475712704423441,
          0.0038164459887509153,
          0.34990494510895703,
          -0.4378365112671588,
          -0.319660271111292,
          -0.3137996100294566,
          0.7818668395960702,
          1.233186915064355,
          -0.6435088591199211,
          -0.7662361903303532,
          0.6315312339735785,
          -1.5985204957973767,
          -1.8108208438232374,
          2.851513981870026,
          -0.0364816577569318,
          -0.07999396186412067,
          -1.4714556943251862,
          -0.47159853321598855,
          -1.4583382229612358,
          0.5500685036145431,
          -0.5124116539500457,
          -0.4612840603123584,
          1.2075325846345708,
          0.27937512403424236,
          0.4729467860759181,
          0.694237909442264,
          -0.22313437477461176,
          -2.1673385397595584,
          1.3640671084533982,
          1.4328639494199835,
          -1.3186427873817268,
          -1.0994996582162526,
          -0.41552140832138207,
          -1.1080560081519106,
          0.2813001247748424,
          -0.7580111392673803,
          -0.7788585603184489,
          1.2751150122692931,
          2.00579679912336,
          0.47791604052873227,
          0.12635847592401317,
          0.4544312374061017,
          -0.701182543768695,
          -0.31650116074208257,
          1.40877730233643,
          -0.30667471652084766,
          0.8587407419478714,
          1.9907280644550456,
          -0.34251402756783583,
          0.8082078562811572,
          0.15996260259357092,
          0.004165864484431415,
          1.226249713622541,
          1.448104818376337,
          -0.571107037470229,
          1.0776789911239473,
          -0.1018710678062574,
          1.1137520194408075,
          0.305546217332669,
          -0.43272160683972544,
          0.5002141172314987,
          1.384830376450365,
          1.3439169146885883,
          -0.801316865757186,
          0.6946582118008514,
          1.1900960545880286,
          0.15796941300637093,
          1.1856772524598995,
          -1.3348503021181104,
          0.26021804126709724,
          0.7641069566280589,
          0.5619839963840547,
          0.9919306452669481,
          -0.42193016475058465,
          1.6278652681325925,
          0.040967833820687465,
          0.4341660540644965,
          1.2258119652660264,
          0.16250938553896713,
          0.7601085688053791,
          -0.9805826865572652,
          2.3002686917555693,
          1.301006005581953,
          1.754526468354843
         ]
        },
        {
         "marker": {
          "color": "rgba(55, 128, 191, 0.6)",
          "line": {
           "color": "rgba(55, 128, 191, 1.0)",
           "width": 1
          }
         },
         "name": "B",
         "orientation": "v",
         "text": "",
         "type": "bar",
         "x": [
          0,
          1,
          2,
          3,
          4,
          5,
          6,
          7,
          8,
          9,
          10,
          11,
          12,
          13,
          14,
          15,
          16,
          17,
          18,
          19,
          20,
          21,
          22,
          23,
          24,
          25,
          26,
          27,
          28,
          29,
          30,
          31,
          32,
          33,
          34,
          35,
          36,
          37,
          38,
          39,
          40,
          41,
          42,
          43,
          44,
          45,
          46,
          47,
          48,
          49,
          50,
          51,
          52,
          53,
          54,
          55,
          56,
          57,
          58,
          59,
          60,
          61,
          62,
          63,
          64,
          65,
          66,
          67,
          68,
          69,
          70,
          71,
          72,
          73,
          74,
          75,
          76,
          77,
          78,
          79,
          80,
          81,
          82,
          83,
          84,
          85,
          86,
          87,
          88,
          89,
          90,
          91,
          92,
          93,
          94,
          95,
          96,
          97,
          98,
          99
         ],
         "y": [
          1.097376166904293,
          1.8642792306676408,
          1.2461137578017065,
          1.477672212271986,
          -0.6321980447209725,
          -0.701592290165167,
          -1.9910127251039769,
          -0.16971343962788965,
          1.541150001898701,
          -1.6226902596728239,
          -0.19448210077836395,
          -0.47549319984974325,
          0.7803436367159594,
          2.08048633199042,
          -0.8719472680505037,
          -0.37442017918715675,
          -0.4891452026651608,
          -0.5970083414206725,
          -0.16973314267358802,
          0.06428229010088789,
          0.4494812462908728,
          -0.07193734454633495,
          0.9309418106438704,
          -0.9753354844829426,
          -0.22601455757081423,
          0.18748715389366605,
          -0.1312877215837846,
          0.2381938795614643,
          -1.7590016804188497,
          0.6731156410468611,
          -0.7597413854750319,
          -0.8841013551192329,
          0.3929846598823091,
          0.11017410931895902,
          0.18683594785406676,
          -0.2029225971205222,
          -1.0052515203199146,
          -0.8693936292685707,
          -0.5374583078325221,
          0.5430544806259738,
          -1.3965788668301606,
          -1.1651248251003146,
          -0.8524306919840188,
          1.128249186662589,
          0.6442598329163325,
          1.0213495698127613,
          -0.23049466510995706,
          0.07953191198925529,
          -1.4659932409105514,
          1.2955320882347134,
          -0.8377201170388314,
          -0.4065340844831503,
          -1.5343531136588566,
          0.5484422875986819,
          0.09010716670491731,
          -2.249789437139244,
          -0.4964833178001253,
          0.9236763626726683,
          0.8452213396049112,
          -1.2927235441395513,
          1.7141323156631694,
          2.0912246513019284,
          0.25670750122387975,
          -1.1156603606229654,
          1.9235857811875827,
          -0.8710707446693985,
          1.3740453390524754,
          -0.35252170079482553,
          0.3105335666082955,
          -0.8699675452643268,
          -1.5648524283832677,
          0.5259596252560428,
          -0.11867843751372183,
          -0.4825495127875421,
          0.47010600603079233,
          0.6759767650864442,
          -0.1813265244137657,
          0.23745839470300278,
          1.9769665072823797,
          0.5902013388082753,
          1.710003116764618,
          0.03506191983633523,
          0.36609790401099235,
          -0.44103957812685,
          0.014828666517463394,
          0.21150895973385886,
          1.5565405830025982,
          2.401094575846921,
          -0.28780392140728167,
          -1.93983090406157,
          0.4842455485607953,
          1.0815228442886557,
          -0.36042455727396383,
          -0.6162822329956089,
          0.7698723634388819,
          -0.26264604843217976,
          -0.5313630021704862,
          -0.9796202663756749,
          0.07779045872360635,
          0.45828456864812617
         ]
        },
        {
         "marker": {
          "color": "rgba(50, 171, 96, 0.6)",
          "line": {
           "color": "rgba(50, 171, 96, 1.0)",
           "width": 1
          }
         },
         "name": "C",
         "orientation": "v",
         "text": "",
         "type": "bar",
         "x": [
          0,
          1,
          2,
          3,
          4,
          5,
          6,
          7,
          8,
          9,
          10,
          11,
          12,
          13,
          14,
          15,
          16,
          17,
          18,
          19,
          20,
          21,
          22,
          23,
          24,
          25,
          26,
          27,
          28,
          29,
          30,
          31,
          32,
          33,
          34,
          35,
          36,
          37,
          38,
          39,
          40,
          41,
          42,
          43,
          44,
          45,
          46,
          47,
          48,
          49,
          50,
          51,
          52,
          53,
          54,
          55,
          56,
          57,
          58,
          59,
          60,
          61,
          62,
          63,
          64,
          65,
          66,
          67,
          68,
          69,
          70,
          71,
          72,
          73,
          74,
          75,
          76,
          77,
          78,
          79,
          80,
          81,
          82,
          83,
          84,
          85,
          86,
          87,
          88,
          89,
          90,
          91,
          92,
          93,
          94,
          95,
          96,
          97,
          98,
          99
         ],
         "y": [
          -0.959747881609686,
          1.0367821198208023,
          1.1793643986088211,
          -1.1847910685272307,
          -0.8084386447856533,
          0.17988019416163548,
          0.3980228918066277,
          -1.08082996218518,
          -0.5666268107303905,
          -0.3844724301983165,
          -0.25922695615111,
          -0.19240029331781172,
          -0.9262680677710405,
          1.5202632748089229,
          -0.5488602253956538,
          1.5444815479525467,
          -1.02807514380886,
          -1.3369806920411973,
          -1.2355219454915394,
          -0.3650483311232349,
          -1.0378418608531532,
          -0.33723343966111063,
          0.612532028665151,
          2.264398042000688,
          1.5526885092866494,
          -1.041815130520541,
          -1.4449717477082784,
          -0.6765598716890142,
          -0.1188794303229958,
          -0.2296694432837657,
          -0.10692238325046478,
          -1.4796792755911248,
          0.046884110499893085,
          -0.6400552792075027,
          -1.6148675005152104,
          -0.8181027964469965,
          -0.23619986103989418,
          -1.3309197760816576,
          -1.346254717197355,
          0.715404419869758,
          0.9801234758543126,
          -0.9296905800722829,
          0.4679481363201032,
          -1.1818051412191242,
          0.9154701140210872,
          1.3932319048211754,
          0.5444851638530489,
          1.4537859430819797,
          0.24489743804102446,
          0.19791287590021447,
          -0.6698998391357807,
          -1.3978800295772889,
          0.3794789816172494,
          -1.2597528308744037,
          0.7911117770587406,
          0.8860111458984627,
          1.100997847227812,
          1.2227346621855006,
          0.23813988698570066,
          0.7369555603898272,
          0.12729412239022272,
          0.4941300636382026,
          0.3001154465893416,
          -0.8522656780053931,
          -1.2428088551637078,
          -0.4331463496663254,
          0.16852650488740917,
          -0.6155703411818955,
          -0.7470558852677666,
          -0.17081111977622232,
          -1.0108532874031082,
          0.30111657698245825,
          -1.4004351460905673,
          -0.617479520524966,
          1.096583802392027,
          0.38027555293067633,
          -2.4770444913214926,
          0.5124599056022963,
          -0.7864323172889783,
          -2.012404930830048,
          -0.5239455987265228,
          0.28855396935654365,
          -2.180575119874746,
          0.22409243129740206,
          1.6110071750508808,
          -0.1732752241703584,
          1.2478975671405141,
          -0.048669124542163676,
          -1.0065265236213345,
          0.3888443659165873,
          -0.27466355453413027,
          -0.5211709616199443,
          -2.213711402445004,
          1.6586733594573306,
          -0.22848418615931423,
          0.057267395731893815,
          0.3821345869931526,
          2.2275703180856756,
          0.2072166861025222,
          0.12301242491396328
         ]
        },
        {
         "marker": {
          "color": "rgba(128, 0, 128, 0.6)",
          "line": {
           "color": "rgba(128, 0, 128, 1.0)",
           "width": 1
          }
         },
         "name": "D",
         "orientation": "v",
         "text": "",
         "type": "bar",
         "x": [
          0,
          1,
          2,
          3,
          4,
          5,
          6,
          7,
          8,
          9,
          10,
          11,
          12,
          13,
          14,
          15,
          16,
          17,
          18,
          19,
          20,
          21,
          22,
          23,
          24,
          25,
          26,
          27,
          28,
          29,
          30,
          31,
          32,
          33,
          34,
          35,
          36,
          37,
          38,
          39,
          40,
          41,
          42,
          43,
          44,
          45,
          46,
          47,
          48,
          49,
          50,
          51,
          52,
          53,
          54,
          55,
          56,
          57,
          58,
          59,
          60,
          61,
          62,
          63,
          64,
          65,
          66,
          67,
          68,
          69,
          70,
          71,
          72,
          73,
          74,
          75,
          76,
          77,
          78,
          79,
          80,
          81,
          82,
          83,
          84,
          85,
          86,
          87,
          88,
          89,
          90,
          91,
          92,
          93,
          94,
          95,
          96,
          97,
          98,
          99
         ],
         "y": [
          -0.3775237105476041,
          1.5469330558820853,
          0.7975837377689529,
          -1.0215237358858384,
          0.046174419806248125,
          -0.4546700022403752,
          -0.976645584975092,
          0.45717773411839563,
          -1.3606088988003922,
          -1.764923821143453,
          1.3491715340900854,
          1.0404434348743121,
          2.231620580687955,
          -0.9592701447679857,
          0.02481391863717533,
          1.1543392090813562,
          -0.5448617030321711,
          0.981060386509627,
          -1.3971884449374945,
          0.051944384918920075,
          0.5191578103580838,
          -0.2079011438790017,
          2.4598800535048064,
          -0.3064029027419856,
          1.7368796898541534,
          2.0259377554560363,
          0.05077977396190428,
          2.3636997814467824,
          -0.9001904283819676,
          -0.4615461008048252,
          1.580150496138963,
          -1.4459977513748663,
          0.7849704949260711,
          0.9370021432027721,
          -1.0438536510350638,
          1.0642048533773578,
          -0.5047233858253104,
          -1.2985658864810619,
          -0.9347355102775656,
          -1.7435021361118295,
          0.6540645036517425,
          -0.5406342471593872,
          0.8175495870482,
          -0.28795761265237857,
          -0.6040342612099427,
          -0.000273981036672952,
          -0.03040250123411199,
          -1.3474981929133365,
          1.326316641128734,
          -1.4048711185810525,
          0.3496708975244264,
          1.175758589037626,
          0.5407612368541103,
          -1.5947823321895451,
          -0.2814276918443059,
          -0.4266535186520008,
          -0.11651375400559504,
          0.7395628814325849,
          -0.21127926389675677,
          -1.6285256466392641,
          2.715790717037815,
          -0.4381836055540097,
          -0.7167752813344342,
          1.6344080173541937,
          1.092247657456989,
          1.1918526512537928,
          1.4797193451776989,
          -0.042073357485148864,
          1.4353536465377565,
          0.566212208762207,
          -1.0469684943619808,
          1.2965361364755423,
          -0.7693246295679306,
          1.4043778339323014,
          -0.022019816215365234,
          -0.2565755827695688,
          -0.9516114323200353,
          0.4100799957427423,
          0.27899071689190635,
          -0.643630880672682,
          1.3788949433245734,
          1.7421489253733558,
          0.47087130008510547,
          0.1086939483089091,
          -0.796358241377402,
          0.43141768585008794,
          0.4935046381639671,
          2.2923780110911194,
          0.4553633293911215,
          1.2470448067482276,
          0.5680883081761456,
          -0.17640134522893047,
          0.6490268225007355,
          -0.844411924817917,
          -1.556331856145653,
          -0.6893983779063737,
          -0.9099102769233144,
          -1.0202975535224497,
          -0.8373455223524954,
          -0.0428262147603727
         ]
        }
       ],
       "layout": {
        "legend": {
         "bgcolor": "#F5F6F9",
         "font": {
          "color": "#4D5663"
         }
        },
        "paper_bgcolor": "#F5F6F9",
        "plot_bgcolor": "#F5F6F9",
        "template": {
         "data": {
          "bar": [
           {
            "error_x": {
             "color": "#2a3f5f"
            },
            "error_y": {
             "color": "#2a3f5f"
            },
            "marker": {
             "line": {
              "color": "#E5ECF6",
              "width": 0.5
             },
             "pattern": {
              "fillmode": "overlay",
              "size": 10,
              "solidity": 0.2
             }
            },
            "type": "bar"
           }
          ],
          "barpolar": [
           {
            "marker": {
             "line": {
              "color": "#E5ECF6",
              "width": 0.5
             },
             "pattern": {
              "fillmode": "overlay",
              "size": 10,
              "solidity": 0.2
             }
            },
            "type": "barpolar"
           }
          ],
          "carpet": [
           {
            "aaxis": {
             "endlinecolor": "#2a3f5f",
             "gridcolor": "white",
             "linecolor": "white",
             "minorgridcolor": "white",
             "startlinecolor": "#2a3f5f"
            },
            "baxis": {
             "endlinecolor": "#2a3f5f",
             "gridcolor": "white",
             "linecolor": "white",
             "minorgridcolor": "white",
             "startlinecolor": "#2a3f5f"
            },
            "type": "carpet"
           }
          ],
          "choropleth": [
           {
            "colorbar": {
             "outlinewidth": 0,
             "ticks": ""
            },
            "type": "choropleth"
           }
          ],
          "contour": [
           {
            "colorbar": {
             "outlinewidth": 0,
             "ticks": ""
            },
            "colorscale": [
             [
              0,
              "#0d0887"
             ],
             [
              0.1111111111111111,
              "#46039f"
             ],
             [
              0.2222222222222222,
              "#7201a8"
             ],
             [
              0.3333333333333333,
              "#9c179e"
             ],
             [
              0.4444444444444444,
              "#bd3786"
             ],
             [
              0.5555555555555556,
              "#d8576b"
             ],
             [
              0.6666666666666666,
              "#ed7953"
             ],
             [
              0.7777777777777778,
              "#fb9f3a"
             ],
             [
              0.8888888888888888,
              "#fdca26"
             ],
             [
              1,
              "#f0f921"
             ]
            ],
            "type": "contour"
           }
          ],
          "contourcarpet": [
           {
            "colorbar": {
             "outlinewidth": 0,
             "ticks": ""
            },
            "type": "contourcarpet"
           }
          ],
          "heatmap": [
           {
            "colorbar": {
             "outlinewidth": 0,
             "ticks": ""
            },
            "colorscale": [
             [
              0,
              "#0d0887"
             ],
             [
              0.1111111111111111,
              "#46039f"
             ],
             [
              0.2222222222222222,
              "#7201a8"
             ],
             [
              0.3333333333333333,
              "#9c179e"
             ],
             [
              0.4444444444444444,
              "#bd3786"
             ],
             [
              0.5555555555555556,
              "#d8576b"
             ],
             [
              0.6666666666666666,
              "#ed7953"
             ],
             [
              0.7777777777777778,
              "#fb9f3a"
             ],
             [
              0.8888888888888888,
              "#fdca26"
             ],
             [
              1,
              "#f0f921"
             ]
            ],
            "type": "heatmap"
           }
          ],
          "heatmapgl": [
           {
            "colorbar": {
             "outlinewidth": 0,
             "ticks": ""
            },
            "colorscale": [
             [
              0,
              "#0d0887"
             ],
             [
              0.1111111111111111,
              "#46039f"
             ],
             [
              0.2222222222222222,
              "#7201a8"
             ],
             [
              0.3333333333333333,
              "#9c179e"
             ],
             [
              0.4444444444444444,
              "#bd3786"
             ],
             [
              0.5555555555555556,
              "#d8576b"
             ],
             [
              0.6666666666666666,
              "#ed7953"
             ],
             [
              0.7777777777777778,
              "#fb9f3a"
             ],
             [
              0.8888888888888888,
              "#fdca26"
             ],
             [
              1,
              "#f0f921"
             ]
            ],
            "type": "heatmapgl"
           }
          ],
          "histogram": [
           {
            "marker": {
             "pattern": {
              "fillmode": "overlay",
              "size": 10,
              "solidity": 0.2
             }
            },
            "type": "histogram"
           }
          ],
          "histogram2d": [
           {
            "colorbar": {
             "outlinewidth": 0,
             "ticks": ""
            },
            "colorscale": [
             [
              0,
              "#0d0887"
             ],
             [
              0.1111111111111111,
              "#46039f"
             ],
             [
              0.2222222222222222,
              "#7201a8"
             ],
             [
              0.3333333333333333,
              "#9c179e"
             ],
             [
              0.4444444444444444,
              "#bd3786"
             ],
             [
              0.5555555555555556,
              "#d8576b"
             ],
             [
              0.6666666666666666,
              "#ed7953"
             ],
             [
              0.7777777777777778,
              "#fb9f3a"
             ],
             [
              0.8888888888888888,
              "#fdca26"
             ],
             [
              1,
              "#f0f921"
             ]
            ],
            "type": "histogram2d"
           }
          ],
          "histogram2dcontour": [
           {
            "colorbar": {
             "outlinewidth": 0,
             "ticks": ""
            },
            "colorscale": [
             [
              0,
              "#0d0887"
             ],
             [
              0.1111111111111111,
              "#46039f"
             ],
             [
              0.2222222222222222,
              "#7201a8"
             ],
             [
              0.3333333333333333,
              "#9c179e"
             ],
             [
              0.4444444444444444,
              "#bd3786"
             ],
             [
              0.5555555555555556,
              "#d8576b"
             ],
             [
              0.6666666666666666,
              "#ed7953"
             ],
             [
              0.7777777777777778,
              "#fb9f3a"
             ],
             [
              0.8888888888888888,
              "#fdca26"
             ],
             [
              1,
              "#f0f921"
             ]
            ],
            "type": "histogram2dcontour"
           }
          ],
          "mesh3d": [
           {
            "colorbar": {
             "outlinewidth": 0,
             "ticks": ""
            },
            "type": "mesh3d"
           }
          ],
          "parcoords": [
           {
            "line": {
             "colorbar": {
              "outlinewidth": 0,
              "ticks": ""
             }
            },
            "type": "parcoords"
           }
          ],
          "pie": [
           {
            "automargin": true,
            "type": "pie"
           }
          ],
          "scatter": [
           {
            "fillpattern": {
             "fillmode": "overlay",
             "size": 10,
             "solidity": 0.2
            },
            "type": "scatter"
           }
          ],
          "scatter3d": [
           {
            "line": {
             "colorbar": {
              "outlinewidth": 0,
              "ticks": ""
             }
            },
            "marker": {
             "colorbar": {
              "outlinewidth": 0,
              "ticks": ""
             }
            },
            "type": "scatter3d"
           }
          ],
          "scattercarpet": [
           {
            "marker": {
             "colorbar": {
              "outlinewidth": 0,
              "ticks": ""
             }
            },
            "type": "scattercarpet"
           }
          ],
          "scattergeo": [
           {
            "marker": {
             "colorbar": {
              "outlinewidth": 0,
              "ticks": ""
             }
            },
            "type": "scattergeo"
           }
          ],
          "scattergl": [
           {
            "marker": {
             "colorbar": {
              "outlinewidth": 0,
              "ticks": ""
             }
            },
            "type": "scattergl"
           }
          ],
          "scattermapbox": [
           {
            "marker": {
             "colorbar": {
              "outlinewidth": 0,
              "ticks": ""
             }
            },
            "type": "scattermapbox"
           }
          ],
          "scatterpolar": [
           {
            "marker": {
             "colorbar": {
              "outlinewidth": 0,
              "ticks": ""
             }
            },
            "type": "scatterpolar"
           }
          ],
          "scatterpolargl": [
           {
            "marker": {
             "colorbar": {
              "outlinewidth": 0,
              "ticks": ""
             }
            },
            "type": "scatterpolargl"
           }
          ],
          "scatterternary": [
           {
            "marker": {
             "colorbar": {
              "outlinewidth": 0,
              "ticks": ""
             }
            },
            "type": "scatterternary"
           }
          ],
          "surface": [
           {
            "colorbar": {
             "outlinewidth": 0,
             "ticks": ""
            },
            "colorscale": [
             [
              0,
              "#0d0887"
             ],
             [
              0.1111111111111111,
              "#46039f"
             ],
             [
              0.2222222222222222,
              "#7201a8"
             ],
             [
              0.3333333333333333,
              "#9c179e"
             ],
             [
              0.4444444444444444,
              "#bd3786"
             ],
             [
              0.5555555555555556,
              "#d8576b"
             ],
             [
              0.6666666666666666,
              "#ed7953"
             ],
             [
              0.7777777777777778,
              "#fb9f3a"
             ],
             [
              0.8888888888888888,
              "#fdca26"
             ],
             [
              1,
              "#f0f921"
             ]
            ],
            "type": "surface"
           }
          ],
          "table": [
           {
            "cells": {
             "fill": {
              "color": "#EBF0F8"
             },
             "line": {
              "color": "white"
             }
            },
            "header": {
             "fill": {
              "color": "#C8D4E3"
             },
             "line": {
              "color": "white"
             }
            },
            "type": "table"
           }
          ]
         },
         "layout": {
          "annotationdefaults": {
           "arrowcolor": "#2a3f5f",
           "arrowhead": 0,
           "arrowwidth": 1
          },
          "autotypenumbers": "strict",
          "coloraxis": {
           "colorbar": {
            "outlinewidth": 0,
            "ticks": ""
           }
          },
          "colorscale": {
           "diverging": [
            [
             0,
             "#8e0152"
            ],
            [
             0.1,
             "#c51b7d"
            ],
            [
             0.2,
             "#de77ae"
            ],
            [
             0.3,
             "#f1b6da"
            ],
            [
             0.4,
             "#fde0ef"
            ],
            [
             0.5,
             "#f7f7f7"
            ],
            [
             0.6,
             "#e6f5d0"
            ],
            [
             0.7,
             "#b8e186"
            ],
            [
             0.8,
             "#7fbc41"
            ],
            [
             0.9,
             "#4d9221"
            ],
            [
             1,
             "#276419"
            ]
           ],
           "sequential": [
            [
             0,
             "#0d0887"
            ],
            [
             0.1111111111111111,
             "#46039f"
            ],
            [
             0.2222222222222222,
             "#7201a8"
            ],
            [
             0.3333333333333333,
             "#9c179e"
            ],
            [
             0.4444444444444444,
             "#bd3786"
            ],
            [
             0.5555555555555556,
             "#d8576b"
            ],
            [
             0.6666666666666666,
             "#ed7953"
            ],
            [
             0.7777777777777778,
             "#fb9f3a"
            ],
            [
             0.8888888888888888,
             "#fdca26"
            ],
            [
             1,
             "#f0f921"
            ]
           ],
           "sequentialminus": [
            [
             0,
             "#0d0887"
            ],
            [
             0.1111111111111111,
             "#46039f"
            ],
            [
             0.2222222222222222,
             "#7201a8"
            ],
            [
             0.3333333333333333,
             "#9c179e"
            ],
            [
             0.4444444444444444,
             "#bd3786"
            ],
            [
             0.5555555555555556,
             "#d8576b"
            ],
            [
             0.6666666666666666,
             "#ed7953"
            ],
            [
             0.7777777777777778,
             "#fb9f3a"
            ],
            [
             0.8888888888888888,
             "#fdca26"
            ],
            [
             1,
             "#f0f921"
            ]
           ]
          },
          "colorway": [
           "#636efa",
           "#EF553B",
           "#00cc96",
           "#ab63fa",
           "#FFA15A",
           "#19d3f3",
           "#FF6692",
           "#B6E880",
           "#FF97FF",
           "#FECB52"
          ],
          "font": {
           "color": "#2a3f5f"
          },
          "geo": {
           "bgcolor": "white",
           "lakecolor": "white",
           "landcolor": "#E5ECF6",
           "showlakes": true,
           "showland": true,
           "subunitcolor": "white"
          },
          "hoverlabel": {
           "align": "left"
          },
          "hovermode": "closest",
          "mapbox": {
           "style": "light"
          },
          "paper_bgcolor": "white",
          "plot_bgcolor": "#E5ECF6",
          "polar": {
           "angularaxis": {
            "gridcolor": "white",
            "linecolor": "white",
            "ticks": ""
           },
           "bgcolor": "#E5ECF6",
           "radialaxis": {
            "gridcolor": "white",
            "linecolor": "white",
            "ticks": ""
           }
          },
          "scene": {
           "xaxis": {
            "backgroundcolor": "#E5ECF6",
            "gridcolor": "white",
            "gridwidth": 2,
            "linecolor": "white",
            "showbackground": true,
            "ticks": "",
            "zerolinecolor": "white"
           },
           "yaxis": {
            "backgroundcolor": "#E5ECF6",
            "gridcolor": "white",
            "gridwidth": 2,
            "linecolor": "white",
            "showbackground": true,
            "ticks": "",
            "zerolinecolor": "white"
           },
           "zaxis": {
            "backgroundcolor": "#E5ECF6",
            "gridcolor": "white",
            "gridwidth": 2,
            "linecolor": "white",
            "showbackground": true,
            "ticks": "",
            "zerolinecolor": "white"
           }
          },
          "shapedefaults": {
           "line": {
            "color": "#2a3f5f"
           }
          },
          "ternary": {
           "aaxis": {
            "gridcolor": "white",
            "linecolor": "white",
            "ticks": ""
           },
           "baxis": {
            "gridcolor": "white",
            "linecolor": "white",
            "ticks": ""
           },
           "bgcolor": "#E5ECF6",
           "caxis": {
            "gridcolor": "white",
            "linecolor": "white",
            "ticks": ""
           }
          },
          "title": {
           "x": 0.05
          },
          "xaxis": {
           "automargin": true,
           "gridcolor": "white",
           "linecolor": "white",
           "ticks": "",
           "title": {
            "standoff": 15
           },
           "zerolinecolor": "white",
           "zerolinewidth": 2
          },
          "yaxis": {
           "automargin": true,
           "gridcolor": "white",
           "linecolor": "white",
           "ticks": "",
           "title": {
            "standoff": 15
           },
           "zerolinecolor": "white",
           "zerolinewidth": 2
          }
         }
        },
        "title": {
         "font": {
          "color": "#4D5663"
         }
        },
        "xaxis": {
         "gridcolor": "#E1E5ED",
         "showgrid": true,
         "tickfont": {
          "color": "#4D5663"
         },
         "title": {
          "font": {
           "color": "#4D5663"
          },
          "text": ""
         },
         "zerolinecolor": "#E1E5ED"
        },
        "yaxis": {
         "gridcolor": "#E1E5ED",
         "showgrid": true,
         "tickfont": {
          "color": "#4D5663"
         },
         "title": {
          "font": {
           "color": "#4D5663"
          },
          "text": ""
         },
         "zerolinecolor": "#E1E5ED"
        }
       }
      },
      "text/html": [
       "<div>                            <div id=\"00283635-c552-420e-9562-0436ae4dcde2\" class=\"plotly-graph-div\" style=\"height:525px; width:100%;\"></div>            <script type=\"text/javascript\">                require([\"plotly\"], function(Plotly) {                    window.PLOTLYENV=window.PLOTLYENV || {};\n",
       "                    window.PLOTLYENV.BASE_URL='https://plot.ly';                                    if (document.getElementById(\"00283635-c552-420e-9562-0436ae4dcde2\")) {                    Plotly.newPlot(                        \"00283635-c552-420e-9562-0436ae4dcde2\",                        [{\"marker\":{\"color\":\"rgba(255, 153, 51, 0.6)\",\"line\":{\"color\":\"rgba(255, 153, 51, 1.0)\",\"width\":1}},\"name\":\"A\",\"orientation\":\"v\",\"text\":\"\",\"x\":[0,1,2,3,4,5,6,7,8,9,10,11,12,13,14,15,16,17,18,19,20,21,22,23,24,25,26,27,28,29,30,31,32,33,34,35,36,37,38,39,40,41,42,43,44,45,46,47,48,49,50,51,52,53,54,55,56,57,58,59,60,61,62,63,64,65,66,67,68,69,70,71,72,73,74,75,76,77,78,79,80,81,82,83,84,85,86,87,88,89,90,91,92,93,94,95,96,97,98,99],\"y\":[0.406730039480157,-0.39228221499578964,0.7584886923840094,-0.9440396101168271,-0.727462876129729,0.4839174053257021,0.3627206584336743,1.168876137696794,1.2510313986768908,-0.8539452754949033,0.055427781643683255,-0.6784544917630049,0.8326820808182758,0.28424683461318606,-0.14757676900957287,0.11439817628276706,-0.18475712704423441,0.0038164459887509153,0.34990494510895703,-0.4378365112671588,-0.319660271111292,-0.3137996100294566,0.7818668395960702,1.233186915064355,-0.6435088591199211,-0.7662361903303532,0.6315312339735785,-1.5985204957973767,-1.8108208438232374,2.851513981870026,-0.0364816577569318,-0.07999396186412067,-1.4714556943251862,-0.47159853321598855,-1.4583382229612358,0.5500685036145431,-0.5124116539500457,-0.4612840603123584,1.2075325846345708,0.27937512403424236,0.4729467860759181,0.694237909442264,-0.22313437477461176,-2.1673385397595584,1.3640671084533982,1.4328639494199835,-1.3186427873817268,-1.0994996582162526,-0.41552140832138207,-1.1080560081519106,0.2813001247748424,-0.7580111392673803,-0.7788585603184489,1.2751150122692931,2.00579679912336,0.47791604052873227,0.12635847592401317,0.4544312374061017,-0.701182543768695,-0.31650116074208257,1.40877730233643,-0.30667471652084766,0.8587407419478714,1.9907280644550456,-0.34251402756783583,0.8082078562811572,0.15996260259357092,0.004165864484431415,1.226249713622541,1.448104818376337,-0.571107037470229,1.0776789911239473,-0.1018710678062574,1.1137520194408075,0.305546217332669,-0.43272160683972544,0.5002141172314987,1.384830376450365,1.3439169146885883,-0.801316865757186,0.6946582118008514,1.1900960545880286,0.15796941300637093,1.1856772524598995,-1.3348503021181104,0.26021804126709724,0.7641069566280589,0.5619839963840547,0.9919306452669481,-0.42193016475058465,1.6278652681325925,0.040967833820687465,0.4341660540644965,1.2258119652660264,0.16250938553896713,0.7601085688053791,-0.9805826865572652,2.3002686917555693,1.301006005581953,1.754526468354843],\"type\":\"bar\"},{\"marker\":{\"color\":\"rgba(55, 128, 191, 0.6)\",\"line\":{\"color\":\"rgba(55, 128, 191, 1.0)\",\"width\":1}},\"name\":\"B\",\"orientation\":\"v\",\"text\":\"\",\"x\":[0,1,2,3,4,5,6,7,8,9,10,11,12,13,14,15,16,17,18,19,20,21,22,23,24,25,26,27,28,29,30,31,32,33,34,35,36,37,38,39,40,41,42,43,44,45,46,47,48,49,50,51,52,53,54,55,56,57,58,59,60,61,62,63,64,65,66,67,68,69,70,71,72,73,74,75,76,77,78,79,80,81,82,83,84,85,86,87,88,89,90,91,92,93,94,95,96,97,98,99],\"y\":[1.097376166904293,1.8642792306676408,1.2461137578017065,1.477672212271986,-0.6321980447209725,-0.701592290165167,-1.9910127251039769,-0.16971343962788965,1.541150001898701,-1.6226902596728239,-0.19448210077836395,-0.47549319984974325,0.7803436367159594,2.08048633199042,-0.8719472680505037,-0.37442017918715675,-0.4891452026651608,-0.5970083414206725,-0.16973314267358802,0.06428229010088789,0.4494812462908728,-0.07193734454633495,0.9309418106438704,-0.9753354844829426,-0.22601455757081423,0.18748715389366605,-0.1312877215837846,0.2381938795614643,-1.7590016804188497,0.6731156410468611,-0.7597413854750319,-0.8841013551192329,0.3929846598823091,0.11017410931895902,0.18683594785406676,-0.2029225971205222,-1.0052515203199146,-0.8693936292685707,-0.5374583078325221,0.5430544806259738,-1.3965788668301606,-1.1651248251003146,-0.8524306919840188,1.128249186662589,0.6442598329163325,1.0213495698127613,-0.23049466510995706,0.07953191198925529,-1.4659932409105514,1.2955320882347134,-0.8377201170388314,-0.4065340844831503,-1.5343531136588566,0.5484422875986819,0.09010716670491731,-2.249789437139244,-0.4964833178001253,0.9236763626726683,0.8452213396049112,-1.2927235441395513,1.7141323156631694,2.0912246513019284,0.25670750122387975,-1.1156603606229654,1.9235857811875827,-0.8710707446693985,1.3740453390524754,-0.35252170079482553,0.3105335666082955,-0.8699675452643268,-1.5648524283832677,0.5259596252560428,-0.11867843751372183,-0.4825495127875421,0.47010600603079233,0.6759767650864442,-0.1813265244137657,0.23745839470300278,1.9769665072823797,0.5902013388082753,1.710003116764618,0.03506191983633523,0.36609790401099235,-0.44103957812685,0.014828666517463394,0.21150895973385886,1.5565405830025982,2.401094575846921,-0.28780392140728167,-1.93983090406157,0.4842455485607953,1.0815228442886557,-0.36042455727396383,-0.6162822329956089,0.7698723634388819,-0.26264604843217976,-0.5313630021704862,-0.9796202663756749,0.07779045872360635,0.45828456864812617],\"type\":\"bar\"},{\"marker\":{\"color\":\"rgba(50, 171, 96, 0.6)\",\"line\":{\"color\":\"rgba(50, 171, 96, 1.0)\",\"width\":1}},\"name\":\"C\",\"orientation\":\"v\",\"text\":\"\",\"x\":[0,1,2,3,4,5,6,7,8,9,10,11,12,13,14,15,16,17,18,19,20,21,22,23,24,25,26,27,28,29,30,31,32,33,34,35,36,37,38,39,40,41,42,43,44,45,46,47,48,49,50,51,52,53,54,55,56,57,58,59,60,61,62,63,64,65,66,67,68,69,70,71,72,73,74,75,76,77,78,79,80,81,82,83,84,85,86,87,88,89,90,91,92,93,94,95,96,97,98,99],\"y\":[-0.959747881609686,1.0367821198208023,1.1793643986088211,-1.1847910685272307,-0.8084386447856533,0.17988019416163548,0.3980228918066277,-1.08082996218518,-0.5666268107303905,-0.3844724301983165,-0.25922695615111,-0.19240029331781172,-0.9262680677710405,1.5202632748089229,-0.5488602253956538,1.5444815479525467,-1.02807514380886,-1.3369806920411973,-1.2355219454915394,-0.3650483311232349,-1.0378418608531532,-0.33723343966111063,0.612532028665151,2.264398042000688,1.5526885092866494,-1.041815130520541,-1.4449717477082784,-0.6765598716890142,-0.1188794303229958,-0.2296694432837657,-0.10692238325046478,-1.4796792755911248,0.046884110499893085,-0.6400552792075027,-1.6148675005152104,-0.8181027964469965,-0.23619986103989418,-1.3309197760816576,-1.346254717197355,0.715404419869758,0.9801234758543126,-0.9296905800722829,0.4679481363201032,-1.1818051412191242,0.9154701140210872,1.3932319048211754,0.5444851638530489,1.4537859430819797,0.24489743804102446,0.19791287590021447,-0.6698998391357807,-1.3978800295772889,0.3794789816172494,-1.2597528308744037,0.7911117770587406,0.8860111458984627,1.100997847227812,1.2227346621855006,0.23813988698570066,0.7369555603898272,0.12729412239022272,0.4941300636382026,0.3001154465893416,-0.8522656780053931,-1.2428088551637078,-0.4331463496663254,0.16852650488740917,-0.6155703411818955,-0.7470558852677666,-0.17081111977622232,-1.0108532874031082,0.30111657698245825,-1.4004351460905673,-0.617479520524966,1.096583802392027,0.38027555293067633,-2.4770444913214926,0.5124599056022963,-0.7864323172889783,-2.012404930830048,-0.5239455987265228,0.28855396935654365,-2.180575119874746,0.22409243129740206,1.6110071750508808,-0.1732752241703584,1.2478975671405141,-0.048669124542163676,-1.0065265236213345,0.3888443659165873,-0.27466355453413027,-0.5211709616199443,-2.213711402445004,1.6586733594573306,-0.22848418615931423,0.057267395731893815,0.3821345869931526,2.2275703180856756,0.2072166861025222,0.12301242491396328],\"type\":\"bar\"},{\"marker\":{\"color\":\"rgba(128, 0, 128, 0.6)\",\"line\":{\"color\":\"rgba(128, 0, 128, 1.0)\",\"width\":1}},\"name\":\"D\",\"orientation\":\"v\",\"text\":\"\",\"x\":[0,1,2,3,4,5,6,7,8,9,10,11,12,13,14,15,16,17,18,19,20,21,22,23,24,25,26,27,28,29,30,31,32,33,34,35,36,37,38,39,40,41,42,43,44,45,46,47,48,49,50,51,52,53,54,55,56,57,58,59,60,61,62,63,64,65,66,67,68,69,70,71,72,73,74,75,76,77,78,79,80,81,82,83,84,85,86,87,88,89,90,91,92,93,94,95,96,97,98,99],\"y\":[-0.3775237105476041,1.5469330558820853,0.7975837377689529,-1.0215237358858384,0.046174419806248125,-0.4546700022403752,-0.976645584975092,0.45717773411839563,-1.3606088988003922,-1.764923821143453,1.3491715340900854,1.0404434348743121,2.231620580687955,-0.9592701447679857,0.02481391863717533,1.1543392090813562,-0.5448617030321711,0.981060386509627,-1.3971884449374945,0.051944384918920075,0.5191578103580838,-0.2079011438790017,2.4598800535048064,-0.3064029027419856,1.7368796898541534,2.0259377554560363,0.05077977396190428,2.3636997814467824,-0.9001904283819676,-0.4615461008048252,1.580150496138963,-1.4459977513748663,0.7849704949260711,0.9370021432027721,-1.0438536510350638,1.0642048533773578,-0.5047233858253104,-1.2985658864810619,-0.9347355102775656,-1.7435021361118295,0.6540645036517425,-0.5406342471593872,0.8175495870482,-0.28795761265237857,-0.6040342612099427,-0.000273981036672952,-0.03040250123411199,-1.3474981929133365,1.326316641128734,-1.4048711185810525,0.3496708975244264,1.175758589037626,0.5407612368541103,-1.5947823321895451,-0.2814276918443059,-0.4266535186520008,-0.11651375400559504,0.7395628814325849,-0.21127926389675677,-1.6285256466392641,2.715790717037815,-0.4381836055540097,-0.7167752813344342,1.6344080173541937,1.092247657456989,1.1918526512537928,1.4797193451776989,-0.042073357485148864,1.4353536465377565,0.566212208762207,-1.0469684943619808,1.2965361364755423,-0.7693246295679306,1.4043778339323014,-0.022019816215365234,-0.2565755827695688,-0.9516114323200353,0.4100799957427423,0.27899071689190635,-0.643630880672682,1.3788949433245734,1.7421489253733558,0.47087130008510547,0.1086939483089091,-0.796358241377402,0.43141768585008794,0.4935046381639671,2.2923780110911194,0.4553633293911215,1.2470448067482276,0.5680883081761456,-0.17640134522893047,0.6490268225007355,-0.844411924817917,-1.556331856145653,-0.6893983779063737,-0.9099102769233144,-1.0202975535224497,-0.8373455223524954,-0.0428262147603727],\"type\":\"bar\"}],                        {\"legend\":{\"bgcolor\":\"#F5F6F9\",\"font\":{\"color\":\"#4D5663\"}},\"paper_bgcolor\":\"#F5F6F9\",\"plot_bgcolor\":\"#F5F6F9\",\"template\":{\"data\":{\"barpolar\":[{\"marker\":{\"line\":{\"color\":\"#E5ECF6\",\"width\":0.5},\"pattern\":{\"fillmode\":\"overlay\",\"size\":10,\"solidity\":0.2}},\"type\":\"barpolar\"}],\"bar\":[{\"error_x\":{\"color\":\"#2a3f5f\"},\"error_y\":{\"color\":\"#2a3f5f\"},\"marker\":{\"line\":{\"color\":\"#E5ECF6\",\"width\":0.5},\"pattern\":{\"fillmode\":\"overlay\",\"size\":10,\"solidity\":0.2}},\"type\":\"bar\"}],\"carpet\":[{\"aaxis\":{\"endlinecolor\":\"#2a3f5f\",\"gridcolor\":\"white\",\"linecolor\":\"white\",\"minorgridcolor\":\"white\",\"startlinecolor\":\"#2a3f5f\"},\"baxis\":{\"endlinecolor\":\"#2a3f5f\",\"gridcolor\":\"white\",\"linecolor\":\"white\",\"minorgridcolor\":\"white\",\"startlinecolor\":\"#2a3f5f\"},\"type\":\"carpet\"}],\"choropleth\":[{\"colorbar\":{\"outlinewidth\":0,\"ticks\":\"\"},\"type\":\"choropleth\"}],\"contourcarpet\":[{\"colorbar\":{\"outlinewidth\":0,\"ticks\":\"\"},\"type\":\"contourcarpet\"}],\"contour\":[{\"colorbar\":{\"outlinewidth\":0,\"ticks\":\"\"},\"colorscale\":[[0.0,\"#0d0887\"],[0.1111111111111111,\"#46039f\"],[0.2222222222222222,\"#7201a8\"],[0.3333333333333333,\"#9c179e\"],[0.4444444444444444,\"#bd3786\"],[0.5555555555555556,\"#d8576b\"],[0.6666666666666666,\"#ed7953\"],[0.7777777777777778,\"#fb9f3a\"],[0.8888888888888888,\"#fdca26\"],[1.0,\"#f0f921\"]],\"type\":\"contour\"}],\"heatmapgl\":[{\"colorbar\":{\"outlinewidth\":0,\"ticks\":\"\"},\"colorscale\":[[0.0,\"#0d0887\"],[0.1111111111111111,\"#46039f\"],[0.2222222222222222,\"#7201a8\"],[0.3333333333333333,\"#9c179e\"],[0.4444444444444444,\"#bd3786\"],[0.5555555555555556,\"#d8576b\"],[0.6666666666666666,\"#ed7953\"],[0.7777777777777778,\"#fb9f3a\"],[0.8888888888888888,\"#fdca26\"],[1.0,\"#f0f921\"]],\"type\":\"heatmapgl\"}],\"heatmap\":[{\"colorbar\":{\"outlinewidth\":0,\"ticks\":\"\"},\"colorscale\":[[0.0,\"#0d0887\"],[0.1111111111111111,\"#46039f\"],[0.2222222222222222,\"#7201a8\"],[0.3333333333333333,\"#9c179e\"],[0.4444444444444444,\"#bd3786\"],[0.5555555555555556,\"#d8576b\"],[0.6666666666666666,\"#ed7953\"],[0.7777777777777778,\"#fb9f3a\"],[0.8888888888888888,\"#fdca26\"],[1.0,\"#f0f921\"]],\"type\":\"heatmap\"}],\"histogram2dcontour\":[{\"colorbar\":{\"outlinewidth\":0,\"ticks\":\"\"},\"colorscale\":[[0.0,\"#0d0887\"],[0.1111111111111111,\"#46039f\"],[0.2222222222222222,\"#7201a8\"],[0.3333333333333333,\"#9c179e\"],[0.4444444444444444,\"#bd3786\"],[0.5555555555555556,\"#d8576b\"],[0.6666666666666666,\"#ed7953\"],[0.7777777777777778,\"#fb9f3a\"],[0.8888888888888888,\"#fdca26\"],[1.0,\"#f0f921\"]],\"type\":\"histogram2dcontour\"}],\"histogram2d\":[{\"colorbar\":{\"outlinewidth\":0,\"ticks\":\"\"},\"colorscale\":[[0.0,\"#0d0887\"],[0.1111111111111111,\"#46039f\"],[0.2222222222222222,\"#7201a8\"],[0.3333333333333333,\"#9c179e\"],[0.4444444444444444,\"#bd3786\"],[0.5555555555555556,\"#d8576b\"],[0.6666666666666666,\"#ed7953\"],[0.7777777777777778,\"#fb9f3a\"],[0.8888888888888888,\"#fdca26\"],[1.0,\"#f0f921\"]],\"type\":\"histogram2d\"}],\"histogram\":[{\"marker\":{\"pattern\":{\"fillmode\":\"overlay\",\"size\":10,\"solidity\":0.2}},\"type\":\"histogram\"}],\"mesh3d\":[{\"colorbar\":{\"outlinewidth\":0,\"ticks\":\"\"},\"type\":\"mesh3d\"}],\"parcoords\":[{\"line\":{\"colorbar\":{\"outlinewidth\":0,\"ticks\":\"\"}},\"type\":\"parcoords\"}],\"pie\":[{\"automargin\":true,\"type\":\"pie\"}],\"scatter3d\":[{\"line\":{\"colorbar\":{\"outlinewidth\":0,\"ticks\":\"\"}},\"marker\":{\"colorbar\":{\"outlinewidth\":0,\"ticks\":\"\"}},\"type\":\"scatter3d\"}],\"scattercarpet\":[{\"marker\":{\"colorbar\":{\"outlinewidth\":0,\"ticks\":\"\"}},\"type\":\"scattercarpet\"}],\"scattergeo\":[{\"marker\":{\"colorbar\":{\"outlinewidth\":0,\"ticks\":\"\"}},\"type\":\"scattergeo\"}],\"scattergl\":[{\"marker\":{\"colorbar\":{\"outlinewidth\":0,\"ticks\":\"\"}},\"type\":\"scattergl\"}],\"scattermapbox\":[{\"marker\":{\"colorbar\":{\"outlinewidth\":0,\"ticks\":\"\"}},\"type\":\"scattermapbox\"}],\"scatterpolargl\":[{\"marker\":{\"colorbar\":{\"outlinewidth\":0,\"ticks\":\"\"}},\"type\":\"scatterpolargl\"}],\"scatterpolar\":[{\"marker\":{\"colorbar\":{\"outlinewidth\":0,\"ticks\":\"\"}},\"type\":\"scatterpolar\"}],\"scatter\":[{\"fillpattern\":{\"fillmode\":\"overlay\",\"size\":10,\"solidity\":0.2},\"type\":\"scatter\"}],\"scatterternary\":[{\"marker\":{\"colorbar\":{\"outlinewidth\":0,\"ticks\":\"\"}},\"type\":\"scatterternary\"}],\"surface\":[{\"colorbar\":{\"outlinewidth\":0,\"ticks\":\"\"},\"colorscale\":[[0.0,\"#0d0887\"],[0.1111111111111111,\"#46039f\"],[0.2222222222222222,\"#7201a8\"],[0.3333333333333333,\"#9c179e\"],[0.4444444444444444,\"#bd3786\"],[0.5555555555555556,\"#d8576b\"],[0.6666666666666666,\"#ed7953\"],[0.7777777777777778,\"#fb9f3a\"],[0.8888888888888888,\"#fdca26\"],[1.0,\"#f0f921\"]],\"type\":\"surface\"}],\"table\":[{\"cells\":{\"fill\":{\"color\":\"#EBF0F8\"},\"line\":{\"color\":\"white\"}},\"header\":{\"fill\":{\"color\":\"#C8D4E3\"},\"line\":{\"color\":\"white\"}},\"type\":\"table\"}]},\"layout\":{\"annotationdefaults\":{\"arrowcolor\":\"#2a3f5f\",\"arrowhead\":0,\"arrowwidth\":1},\"autotypenumbers\":\"strict\",\"coloraxis\":{\"colorbar\":{\"outlinewidth\":0,\"ticks\":\"\"}},\"colorscale\":{\"diverging\":[[0,\"#8e0152\"],[0.1,\"#c51b7d\"],[0.2,\"#de77ae\"],[0.3,\"#f1b6da\"],[0.4,\"#fde0ef\"],[0.5,\"#f7f7f7\"],[0.6,\"#e6f5d0\"],[0.7,\"#b8e186\"],[0.8,\"#7fbc41\"],[0.9,\"#4d9221\"],[1,\"#276419\"]],\"sequential\":[[0.0,\"#0d0887\"],[0.1111111111111111,\"#46039f\"],[0.2222222222222222,\"#7201a8\"],[0.3333333333333333,\"#9c179e\"],[0.4444444444444444,\"#bd3786\"],[0.5555555555555556,\"#d8576b\"],[0.6666666666666666,\"#ed7953\"],[0.7777777777777778,\"#fb9f3a\"],[0.8888888888888888,\"#fdca26\"],[1.0,\"#f0f921\"]],\"sequentialminus\":[[0.0,\"#0d0887\"],[0.1111111111111111,\"#46039f\"],[0.2222222222222222,\"#7201a8\"],[0.3333333333333333,\"#9c179e\"],[0.4444444444444444,\"#bd3786\"],[0.5555555555555556,\"#d8576b\"],[0.6666666666666666,\"#ed7953\"],[0.7777777777777778,\"#fb9f3a\"],[0.8888888888888888,\"#fdca26\"],[1.0,\"#f0f921\"]]},\"colorway\":[\"#636efa\",\"#EF553B\",\"#00cc96\",\"#ab63fa\",\"#FFA15A\",\"#19d3f3\",\"#FF6692\",\"#B6E880\",\"#FF97FF\",\"#FECB52\"],\"font\":{\"color\":\"#2a3f5f\"},\"geo\":{\"bgcolor\":\"white\",\"lakecolor\":\"white\",\"landcolor\":\"#E5ECF6\",\"showlakes\":true,\"showland\":true,\"subunitcolor\":\"white\"},\"hoverlabel\":{\"align\":\"left\"},\"hovermode\":\"closest\",\"mapbox\":{\"style\":\"light\"},\"paper_bgcolor\":\"white\",\"plot_bgcolor\":\"#E5ECF6\",\"polar\":{\"angularaxis\":{\"gridcolor\":\"white\",\"linecolor\":\"white\",\"ticks\":\"\"},\"bgcolor\":\"#E5ECF6\",\"radialaxis\":{\"gridcolor\":\"white\",\"linecolor\":\"white\",\"ticks\":\"\"}},\"scene\":{\"xaxis\":{\"backgroundcolor\":\"#E5ECF6\",\"gridcolor\":\"white\",\"gridwidth\":2,\"linecolor\":\"white\",\"showbackground\":true,\"ticks\":\"\",\"zerolinecolor\":\"white\"},\"yaxis\":{\"backgroundcolor\":\"#E5ECF6\",\"gridcolor\":\"white\",\"gridwidth\":2,\"linecolor\":\"white\",\"showbackground\":true,\"ticks\":\"\",\"zerolinecolor\":\"white\"},\"zaxis\":{\"backgroundcolor\":\"#E5ECF6\",\"gridcolor\":\"white\",\"gridwidth\":2,\"linecolor\":\"white\",\"showbackground\":true,\"ticks\":\"\",\"zerolinecolor\":\"white\"}},\"shapedefaults\":{\"line\":{\"color\":\"#2a3f5f\"}},\"ternary\":{\"aaxis\":{\"gridcolor\":\"white\",\"linecolor\":\"white\",\"ticks\":\"\"},\"baxis\":{\"gridcolor\":\"white\",\"linecolor\":\"white\",\"ticks\":\"\"},\"bgcolor\":\"#E5ECF6\",\"caxis\":{\"gridcolor\":\"white\",\"linecolor\":\"white\",\"ticks\":\"\"}},\"title\":{\"x\":0.05},\"xaxis\":{\"automargin\":true,\"gridcolor\":\"white\",\"linecolor\":\"white\",\"ticks\":\"\",\"title\":{\"standoff\":15},\"zerolinecolor\":\"white\",\"zerolinewidth\":2},\"yaxis\":{\"automargin\":true,\"gridcolor\":\"white\",\"linecolor\":\"white\",\"ticks\":\"\",\"title\":{\"standoff\":15},\"zerolinecolor\":\"white\",\"zerolinewidth\":2}}},\"title\":{\"font\":{\"color\":\"#4D5663\"}},\"xaxis\":{\"gridcolor\":\"#E1E5ED\",\"showgrid\":true,\"tickfont\":{\"color\":\"#4D5663\"},\"title\":{\"font\":{\"color\":\"#4D5663\"},\"text\":\"\"},\"zerolinecolor\":\"#E1E5ED\"},\"yaxis\":{\"gridcolor\":\"#E1E5ED\",\"showgrid\":true,\"tickfont\":{\"color\":\"#4D5663\"},\"title\":{\"font\":{\"color\":\"#4D5663\"},\"text\":\"\"},\"zerolinecolor\":\"#E1E5ED\"}},                        {\"showLink\": true, \"linkText\": \"Export to plot.ly\", \"plotlyServerURL\": \"https://plot.ly\", \"responsive\": true}                    ).then(function(){\n",
       "                            \n",
       "var gd = document.getElementById('00283635-c552-420e-9562-0436ae4dcde2');\n",
       "var x = new MutationObserver(function (mutations, observer) {{\n",
       "        var display = window.getComputedStyle(gd).display;\n",
       "        if (!display || display === 'none') {{\n",
       "            console.log([gd, 'removed!']);\n",
       "            Plotly.purge(gd);\n",
       "            observer.disconnect();\n",
       "        }}\n",
       "}});\n",
       "\n",
       "// Listen for the removal of the full notebook cells\n",
       "var notebookContainer = gd.closest('#notebook-container');\n",
       "if (notebookContainer) {{\n",
       "    x.observe(notebookContainer, {childList: true});\n",
       "}}\n",
       "\n",
       "// Listen for the clearing of the current output cell\n",
       "var outputEl = gd.closest('.output');\n",
       "if (outputEl) {{\n",
       "    x.observe(outputEl, {childList: true});\n",
       "}}\n",
       "\n",
       "                        })                };                });            </script>        </div>"
      ]
     },
     "metadata": {},
     "output_type": "display_data"
    }
   ],
   "source": [
    "df.iplot(kind='bar')"
   ]
  },
  {
   "cell_type": "code",
   "execution_count": 18,
   "id": "94d4a2ac",
   "metadata": {},
   "outputs": [
    {
     "data": {
      "application/vnd.plotly.v1+json": {
       "config": {
        "linkText": "Export to plot.ly",
        "plotlyServerURL": "https://plot.ly",
        "showLink": true
       },
       "data": [
        {
         "marker": {
          "color": "rgba(255, 153, 51, 0.6)",
          "line": {
           "color": "rgba(255, 153, 51, 1.0)",
           "width": 1
          }
         },
         "name": "None",
         "orientation": "v",
         "text": "",
         "type": "bar",
         "x": [
          "A",
          "B",
          "C",
          "D"
         ],
         "y": [
          22.74631604923641,
          3.138346158100856,
          -13.912860299402002,
          14.210677772341462
         ]
        }
       ],
       "layout": {
        "legend": {
         "bgcolor": "#F5F6F9",
         "font": {
          "color": "#4D5663"
         }
        },
        "paper_bgcolor": "#F5F6F9",
        "plot_bgcolor": "#F5F6F9",
        "template": {
         "data": {
          "bar": [
           {
            "error_x": {
             "color": "#2a3f5f"
            },
            "error_y": {
             "color": "#2a3f5f"
            },
            "marker": {
             "line": {
              "color": "#E5ECF6",
              "width": 0.5
             },
             "pattern": {
              "fillmode": "overlay",
              "size": 10,
              "solidity": 0.2
             }
            },
            "type": "bar"
           }
          ],
          "barpolar": [
           {
            "marker": {
             "line": {
              "color": "#E5ECF6",
              "width": 0.5
             },
             "pattern": {
              "fillmode": "overlay",
              "size": 10,
              "solidity": 0.2
             }
            },
            "type": "barpolar"
           }
          ],
          "carpet": [
           {
            "aaxis": {
             "endlinecolor": "#2a3f5f",
             "gridcolor": "white",
             "linecolor": "white",
             "minorgridcolor": "white",
             "startlinecolor": "#2a3f5f"
            },
            "baxis": {
             "endlinecolor": "#2a3f5f",
             "gridcolor": "white",
             "linecolor": "white",
             "minorgridcolor": "white",
             "startlinecolor": "#2a3f5f"
            },
            "type": "carpet"
           }
          ],
          "choropleth": [
           {
            "colorbar": {
             "outlinewidth": 0,
             "ticks": ""
            },
            "type": "choropleth"
           }
          ],
          "contour": [
           {
            "colorbar": {
             "outlinewidth": 0,
             "ticks": ""
            },
            "colorscale": [
             [
              0,
              "#0d0887"
             ],
             [
              0.1111111111111111,
              "#46039f"
             ],
             [
              0.2222222222222222,
              "#7201a8"
             ],
             [
              0.3333333333333333,
              "#9c179e"
             ],
             [
              0.4444444444444444,
              "#bd3786"
             ],
             [
              0.5555555555555556,
              "#d8576b"
             ],
             [
              0.6666666666666666,
              "#ed7953"
             ],
             [
              0.7777777777777778,
              "#fb9f3a"
             ],
             [
              0.8888888888888888,
              "#fdca26"
             ],
             [
              1,
              "#f0f921"
             ]
            ],
            "type": "contour"
           }
          ],
          "contourcarpet": [
           {
            "colorbar": {
             "outlinewidth": 0,
             "ticks": ""
            },
            "type": "contourcarpet"
           }
          ],
          "heatmap": [
           {
            "colorbar": {
             "outlinewidth": 0,
             "ticks": ""
            },
            "colorscale": [
             [
              0,
              "#0d0887"
             ],
             [
              0.1111111111111111,
              "#46039f"
             ],
             [
              0.2222222222222222,
              "#7201a8"
             ],
             [
              0.3333333333333333,
              "#9c179e"
             ],
             [
              0.4444444444444444,
              "#bd3786"
             ],
             [
              0.5555555555555556,
              "#d8576b"
             ],
             [
              0.6666666666666666,
              "#ed7953"
             ],
             [
              0.7777777777777778,
              "#fb9f3a"
             ],
             [
              0.8888888888888888,
              "#fdca26"
             ],
             [
              1,
              "#f0f921"
             ]
            ],
            "type": "heatmap"
           }
          ],
          "heatmapgl": [
           {
            "colorbar": {
             "outlinewidth": 0,
             "ticks": ""
            },
            "colorscale": [
             [
              0,
              "#0d0887"
             ],
             [
              0.1111111111111111,
              "#46039f"
             ],
             [
              0.2222222222222222,
              "#7201a8"
             ],
             [
              0.3333333333333333,
              "#9c179e"
             ],
             [
              0.4444444444444444,
              "#bd3786"
             ],
             [
              0.5555555555555556,
              "#d8576b"
             ],
             [
              0.6666666666666666,
              "#ed7953"
             ],
             [
              0.7777777777777778,
              "#fb9f3a"
             ],
             [
              0.8888888888888888,
              "#fdca26"
             ],
             [
              1,
              "#f0f921"
             ]
            ],
            "type": "heatmapgl"
           }
          ],
          "histogram": [
           {
            "marker": {
             "pattern": {
              "fillmode": "overlay",
              "size": 10,
              "solidity": 0.2
             }
            },
            "type": "histogram"
           }
          ],
          "histogram2d": [
           {
            "colorbar": {
             "outlinewidth": 0,
             "ticks": ""
            },
            "colorscale": [
             [
              0,
              "#0d0887"
             ],
             [
              0.1111111111111111,
              "#46039f"
             ],
             [
              0.2222222222222222,
              "#7201a8"
             ],
             [
              0.3333333333333333,
              "#9c179e"
             ],
             [
              0.4444444444444444,
              "#bd3786"
             ],
             [
              0.5555555555555556,
              "#d8576b"
             ],
             [
              0.6666666666666666,
              "#ed7953"
             ],
             [
              0.7777777777777778,
              "#fb9f3a"
             ],
             [
              0.8888888888888888,
              "#fdca26"
             ],
             [
              1,
              "#f0f921"
             ]
            ],
            "type": "histogram2d"
           }
          ],
          "histogram2dcontour": [
           {
            "colorbar": {
             "outlinewidth": 0,
             "ticks": ""
            },
            "colorscale": [
             [
              0,
              "#0d0887"
             ],
             [
              0.1111111111111111,
              "#46039f"
             ],
             [
              0.2222222222222222,
              "#7201a8"
             ],
             [
              0.3333333333333333,
              "#9c179e"
             ],
             [
              0.4444444444444444,
              "#bd3786"
             ],
             [
              0.5555555555555556,
              "#d8576b"
             ],
             [
              0.6666666666666666,
              "#ed7953"
             ],
             [
              0.7777777777777778,
              "#fb9f3a"
             ],
             [
              0.8888888888888888,
              "#fdca26"
             ],
             [
              1,
              "#f0f921"
             ]
            ],
            "type": "histogram2dcontour"
           }
          ],
          "mesh3d": [
           {
            "colorbar": {
             "outlinewidth": 0,
             "ticks": ""
            },
            "type": "mesh3d"
           }
          ],
          "parcoords": [
           {
            "line": {
             "colorbar": {
              "outlinewidth": 0,
              "ticks": ""
             }
            },
            "type": "parcoords"
           }
          ],
          "pie": [
           {
            "automargin": true,
            "type": "pie"
           }
          ],
          "scatter": [
           {
            "fillpattern": {
             "fillmode": "overlay",
             "size": 10,
             "solidity": 0.2
            },
            "type": "scatter"
           }
          ],
          "scatter3d": [
           {
            "line": {
             "colorbar": {
              "outlinewidth": 0,
              "ticks": ""
             }
            },
            "marker": {
             "colorbar": {
              "outlinewidth": 0,
              "ticks": ""
             }
            },
            "type": "scatter3d"
           }
          ],
          "scattercarpet": [
           {
            "marker": {
             "colorbar": {
              "outlinewidth": 0,
              "ticks": ""
             }
            },
            "type": "scattercarpet"
           }
          ],
          "scattergeo": [
           {
            "marker": {
             "colorbar": {
              "outlinewidth": 0,
              "ticks": ""
             }
            },
            "type": "scattergeo"
           }
          ],
          "scattergl": [
           {
            "marker": {
             "colorbar": {
              "outlinewidth": 0,
              "ticks": ""
             }
            },
            "type": "scattergl"
           }
          ],
          "scattermapbox": [
           {
            "marker": {
             "colorbar": {
              "outlinewidth": 0,
              "ticks": ""
             }
            },
            "type": "scattermapbox"
           }
          ],
          "scatterpolar": [
           {
            "marker": {
             "colorbar": {
              "outlinewidth": 0,
              "ticks": ""
             }
            },
            "type": "scatterpolar"
           }
          ],
          "scatterpolargl": [
           {
            "marker": {
             "colorbar": {
              "outlinewidth": 0,
              "ticks": ""
             }
            },
            "type": "scatterpolargl"
           }
          ],
          "scatterternary": [
           {
            "marker": {
             "colorbar": {
              "outlinewidth": 0,
              "ticks": ""
             }
            },
            "type": "scatterternary"
           }
          ],
          "surface": [
           {
            "colorbar": {
             "outlinewidth": 0,
             "ticks": ""
            },
            "colorscale": [
             [
              0,
              "#0d0887"
             ],
             [
              0.1111111111111111,
              "#46039f"
             ],
             [
              0.2222222222222222,
              "#7201a8"
             ],
             [
              0.3333333333333333,
              "#9c179e"
             ],
             [
              0.4444444444444444,
              "#bd3786"
             ],
             [
              0.5555555555555556,
              "#d8576b"
             ],
             [
              0.6666666666666666,
              "#ed7953"
             ],
             [
              0.7777777777777778,
              "#fb9f3a"
             ],
             [
              0.8888888888888888,
              "#fdca26"
             ],
             [
              1,
              "#f0f921"
             ]
            ],
            "type": "surface"
           }
          ],
          "table": [
           {
            "cells": {
             "fill": {
              "color": "#EBF0F8"
             },
             "line": {
              "color": "white"
             }
            },
            "header": {
             "fill": {
              "color": "#C8D4E3"
             },
             "line": {
              "color": "white"
             }
            },
            "type": "table"
           }
          ]
         },
         "layout": {
          "annotationdefaults": {
           "arrowcolor": "#2a3f5f",
           "arrowhead": 0,
           "arrowwidth": 1
          },
          "autotypenumbers": "strict",
          "coloraxis": {
           "colorbar": {
            "outlinewidth": 0,
            "ticks": ""
           }
          },
          "colorscale": {
           "diverging": [
            [
             0,
             "#8e0152"
            ],
            [
             0.1,
             "#c51b7d"
            ],
            [
             0.2,
             "#de77ae"
            ],
            [
             0.3,
             "#f1b6da"
            ],
            [
             0.4,
             "#fde0ef"
            ],
            [
             0.5,
             "#f7f7f7"
            ],
            [
             0.6,
             "#e6f5d0"
            ],
            [
             0.7,
             "#b8e186"
            ],
            [
             0.8,
             "#7fbc41"
            ],
            [
             0.9,
             "#4d9221"
            ],
            [
             1,
             "#276419"
            ]
           ],
           "sequential": [
            [
             0,
             "#0d0887"
            ],
            [
             0.1111111111111111,
             "#46039f"
            ],
            [
             0.2222222222222222,
             "#7201a8"
            ],
            [
             0.3333333333333333,
             "#9c179e"
            ],
            [
             0.4444444444444444,
             "#bd3786"
            ],
            [
             0.5555555555555556,
             "#d8576b"
            ],
            [
             0.6666666666666666,
             "#ed7953"
            ],
            [
             0.7777777777777778,
             "#fb9f3a"
            ],
            [
             0.8888888888888888,
             "#fdca26"
            ],
            [
             1,
             "#f0f921"
            ]
           ],
           "sequentialminus": [
            [
             0,
             "#0d0887"
            ],
            [
             0.1111111111111111,
             "#46039f"
            ],
            [
             0.2222222222222222,
             "#7201a8"
            ],
            [
             0.3333333333333333,
             "#9c179e"
            ],
            [
             0.4444444444444444,
             "#bd3786"
            ],
            [
             0.5555555555555556,
             "#d8576b"
            ],
            [
             0.6666666666666666,
             "#ed7953"
            ],
            [
             0.7777777777777778,
             "#fb9f3a"
            ],
            [
             0.8888888888888888,
             "#fdca26"
            ],
            [
             1,
             "#f0f921"
            ]
           ]
          },
          "colorway": [
           "#636efa",
           "#EF553B",
           "#00cc96",
           "#ab63fa",
           "#FFA15A",
           "#19d3f3",
           "#FF6692",
           "#B6E880",
           "#FF97FF",
           "#FECB52"
          ],
          "font": {
           "color": "#2a3f5f"
          },
          "geo": {
           "bgcolor": "white",
           "lakecolor": "white",
           "landcolor": "#E5ECF6",
           "showlakes": true,
           "showland": true,
           "subunitcolor": "white"
          },
          "hoverlabel": {
           "align": "left"
          },
          "hovermode": "closest",
          "mapbox": {
           "style": "light"
          },
          "paper_bgcolor": "white",
          "plot_bgcolor": "#E5ECF6",
          "polar": {
           "angularaxis": {
            "gridcolor": "white",
            "linecolor": "white",
            "ticks": ""
           },
           "bgcolor": "#E5ECF6",
           "radialaxis": {
            "gridcolor": "white",
            "linecolor": "white",
            "ticks": ""
           }
          },
          "scene": {
           "xaxis": {
            "backgroundcolor": "#E5ECF6",
            "gridcolor": "white",
            "gridwidth": 2,
            "linecolor": "white",
            "showbackground": true,
            "ticks": "",
            "zerolinecolor": "white"
           },
           "yaxis": {
            "backgroundcolor": "#E5ECF6",
            "gridcolor": "white",
            "gridwidth": 2,
            "linecolor": "white",
            "showbackground": true,
            "ticks": "",
            "zerolinecolor": "white"
           },
           "zaxis": {
            "backgroundcolor": "#E5ECF6",
            "gridcolor": "white",
            "gridwidth": 2,
            "linecolor": "white",
            "showbackground": true,
            "ticks": "",
            "zerolinecolor": "white"
           }
          },
          "shapedefaults": {
           "line": {
            "color": "#2a3f5f"
           }
          },
          "ternary": {
           "aaxis": {
            "gridcolor": "white",
            "linecolor": "white",
            "ticks": ""
           },
           "baxis": {
            "gridcolor": "white",
            "linecolor": "white",
            "ticks": ""
           },
           "bgcolor": "#E5ECF6",
           "caxis": {
            "gridcolor": "white",
            "linecolor": "white",
            "ticks": ""
           }
          },
          "title": {
           "x": 0.05
          },
          "xaxis": {
           "automargin": true,
           "gridcolor": "white",
           "linecolor": "white",
           "ticks": "",
           "title": {
            "standoff": 15
           },
           "zerolinecolor": "white",
           "zerolinewidth": 2
          },
          "yaxis": {
           "automargin": true,
           "gridcolor": "white",
           "linecolor": "white",
           "ticks": "",
           "title": {
            "standoff": 15
           },
           "zerolinecolor": "white",
           "zerolinewidth": 2
          }
         }
        },
        "title": {
         "font": {
          "color": "#4D5663"
         }
        },
        "xaxis": {
         "gridcolor": "#E1E5ED",
         "showgrid": true,
         "tickfont": {
          "color": "#4D5663"
         },
         "title": {
          "font": {
           "color": "#4D5663"
          },
          "text": ""
         },
         "zerolinecolor": "#E1E5ED"
        },
        "yaxis": {
         "gridcolor": "#E1E5ED",
         "showgrid": true,
         "tickfont": {
          "color": "#4D5663"
         },
         "title": {
          "font": {
           "color": "#4D5663"
          },
          "text": ""
         },
         "zerolinecolor": "#E1E5ED"
        }
       }
      },
      "text/html": [
       "<div>                            <div id=\"522c9b23-c143-4986-8c40-e0bb9d169fba\" class=\"plotly-graph-div\" style=\"height:525px; width:100%;\"></div>            <script type=\"text/javascript\">                require([\"plotly\"], function(Plotly) {                    window.PLOTLYENV=window.PLOTLYENV || {};\n",
       "                    window.PLOTLYENV.BASE_URL='https://plot.ly';                                    if (document.getElementById(\"522c9b23-c143-4986-8c40-e0bb9d169fba\")) {                    Plotly.newPlot(                        \"522c9b23-c143-4986-8c40-e0bb9d169fba\",                        [{\"marker\":{\"color\":\"rgba(255, 153, 51, 0.6)\",\"line\":{\"color\":\"rgba(255, 153, 51, 1.0)\",\"width\":1}},\"name\":\"None\",\"orientation\":\"v\",\"text\":\"\",\"x\":[\"A\",\"B\",\"C\",\"D\"],\"y\":[22.74631604923641,3.138346158100856,-13.912860299402002,14.210677772341462],\"type\":\"bar\"}],                        {\"legend\":{\"bgcolor\":\"#F5F6F9\",\"font\":{\"color\":\"#4D5663\"}},\"paper_bgcolor\":\"#F5F6F9\",\"plot_bgcolor\":\"#F5F6F9\",\"template\":{\"data\":{\"barpolar\":[{\"marker\":{\"line\":{\"color\":\"#E5ECF6\",\"width\":0.5},\"pattern\":{\"fillmode\":\"overlay\",\"size\":10,\"solidity\":0.2}},\"type\":\"barpolar\"}],\"bar\":[{\"error_x\":{\"color\":\"#2a3f5f\"},\"error_y\":{\"color\":\"#2a3f5f\"},\"marker\":{\"line\":{\"color\":\"#E5ECF6\",\"width\":0.5},\"pattern\":{\"fillmode\":\"overlay\",\"size\":10,\"solidity\":0.2}},\"type\":\"bar\"}],\"carpet\":[{\"aaxis\":{\"endlinecolor\":\"#2a3f5f\",\"gridcolor\":\"white\",\"linecolor\":\"white\",\"minorgridcolor\":\"white\",\"startlinecolor\":\"#2a3f5f\"},\"baxis\":{\"endlinecolor\":\"#2a3f5f\",\"gridcolor\":\"white\",\"linecolor\":\"white\",\"minorgridcolor\":\"white\",\"startlinecolor\":\"#2a3f5f\"},\"type\":\"carpet\"}],\"choropleth\":[{\"colorbar\":{\"outlinewidth\":0,\"ticks\":\"\"},\"type\":\"choropleth\"}],\"contourcarpet\":[{\"colorbar\":{\"outlinewidth\":0,\"ticks\":\"\"},\"type\":\"contourcarpet\"}],\"contour\":[{\"colorbar\":{\"outlinewidth\":0,\"ticks\":\"\"},\"colorscale\":[[0.0,\"#0d0887\"],[0.1111111111111111,\"#46039f\"],[0.2222222222222222,\"#7201a8\"],[0.3333333333333333,\"#9c179e\"],[0.4444444444444444,\"#bd3786\"],[0.5555555555555556,\"#d8576b\"],[0.6666666666666666,\"#ed7953\"],[0.7777777777777778,\"#fb9f3a\"],[0.8888888888888888,\"#fdca26\"],[1.0,\"#f0f921\"]],\"type\":\"contour\"}],\"heatmapgl\":[{\"colorbar\":{\"outlinewidth\":0,\"ticks\":\"\"},\"colorscale\":[[0.0,\"#0d0887\"],[0.1111111111111111,\"#46039f\"],[0.2222222222222222,\"#7201a8\"],[0.3333333333333333,\"#9c179e\"],[0.4444444444444444,\"#bd3786\"],[0.5555555555555556,\"#d8576b\"],[0.6666666666666666,\"#ed7953\"],[0.7777777777777778,\"#fb9f3a\"],[0.8888888888888888,\"#fdca26\"],[1.0,\"#f0f921\"]],\"type\":\"heatmapgl\"}],\"heatmap\":[{\"colorbar\":{\"outlinewidth\":0,\"ticks\":\"\"},\"colorscale\":[[0.0,\"#0d0887\"],[0.1111111111111111,\"#46039f\"],[0.2222222222222222,\"#7201a8\"],[0.3333333333333333,\"#9c179e\"],[0.4444444444444444,\"#bd3786\"],[0.5555555555555556,\"#d8576b\"],[0.6666666666666666,\"#ed7953\"],[0.7777777777777778,\"#fb9f3a\"],[0.8888888888888888,\"#fdca26\"],[1.0,\"#f0f921\"]],\"type\":\"heatmap\"}],\"histogram2dcontour\":[{\"colorbar\":{\"outlinewidth\":0,\"ticks\":\"\"},\"colorscale\":[[0.0,\"#0d0887\"],[0.1111111111111111,\"#46039f\"],[0.2222222222222222,\"#7201a8\"],[0.3333333333333333,\"#9c179e\"],[0.4444444444444444,\"#bd3786\"],[0.5555555555555556,\"#d8576b\"],[0.6666666666666666,\"#ed7953\"],[0.7777777777777778,\"#fb9f3a\"],[0.8888888888888888,\"#fdca26\"],[1.0,\"#f0f921\"]],\"type\":\"histogram2dcontour\"}],\"histogram2d\":[{\"colorbar\":{\"outlinewidth\":0,\"ticks\":\"\"},\"colorscale\":[[0.0,\"#0d0887\"],[0.1111111111111111,\"#46039f\"],[0.2222222222222222,\"#7201a8\"],[0.3333333333333333,\"#9c179e\"],[0.4444444444444444,\"#bd3786\"],[0.5555555555555556,\"#d8576b\"],[0.6666666666666666,\"#ed7953\"],[0.7777777777777778,\"#fb9f3a\"],[0.8888888888888888,\"#fdca26\"],[1.0,\"#f0f921\"]],\"type\":\"histogram2d\"}],\"histogram\":[{\"marker\":{\"pattern\":{\"fillmode\":\"overlay\",\"size\":10,\"solidity\":0.2}},\"type\":\"histogram\"}],\"mesh3d\":[{\"colorbar\":{\"outlinewidth\":0,\"ticks\":\"\"},\"type\":\"mesh3d\"}],\"parcoords\":[{\"line\":{\"colorbar\":{\"outlinewidth\":0,\"ticks\":\"\"}},\"type\":\"parcoords\"}],\"pie\":[{\"automargin\":true,\"type\":\"pie\"}],\"scatter3d\":[{\"line\":{\"colorbar\":{\"outlinewidth\":0,\"ticks\":\"\"}},\"marker\":{\"colorbar\":{\"outlinewidth\":0,\"ticks\":\"\"}},\"type\":\"scatter3d\"}],\"scattercarpet\":[{\"marker\":{\"colorbar\":{\"outlinewidth\":0,\"ticks\":\"\"}},\"type\":\"scattercarpet\"}],\"scattergeo\":[{\"marker\":{\"colorbar\":{\"outlinewidth\":0,\"ticks\":\"\"}},\"type\":\"scattergeo\"}],\"scattergl\":[{\"marker\":{\"colorbar\":{\"outlinewidth\":0,\"ticks\":\"\"}},\"type\":\"scattergl\"}],\"scattermapbox\":[{\"marker\":{\"colorbar\":{\"outlinewidth\":0,\"ticks\":\"\"}},\"type\":\"scattermapbox\"}],\"scatterpolargl\":[{\"marker\":{\"colorbar\":{\"outlinewidth\":0,\"ticks\":\"\"}},\"type\":\"scatterpolargl\"}],\"scatterpolar\":[{\"marker\":{\"colorbar\":{\"outlinewidth\":0,\"ticks\":\"\"}},\"type\":\"scatterpolar\"}],\"scatter\":[{\"fillpattern\":{\"fillmode\":\"overlay\",\"size\":10,\"solidity\":0.2},\"type\":\"scatter\"}],\"scatterternary\":[{\"marker\":{\"colorbar\":{\"outlinewidth\":0,\"ticks\":\"\"}},\"type\":\"scatterternary\"}],\"surface\":[{\"colorbar\":{\"outlinewidth\":0,\"ticks\":\"\"},\"colorscale\":[[0.0,\"#0d0887\"],[0.1111111111111111,\"#46039f\"],[0.2222222222222222,\"#7201a8\"],[0.3333333333333333,\"#9c179e\"],[0.4444444444444444,\"#bd3786\"],[0.5555555555555556,\"#d8576b\"],[0.6666666666666666,\"#ed7953\"],[0.7777777777777778,\"#fb9f3a\"],[0.8888888888888888,\"#fdca26\"],[1.0,\"#f0f921\"]],\"type\":\"surface\"}],\"table\":[{\"cells\":{\"fill\":{\"color\":\"#EBF0F8\"},\"line\":{\"color\":\"white\"}},\"header\":{\"fill\":{\"color\":\"#C8D4E3\"},\"line\":{\"color\":\"white\"}},\"type\":\"table\"}]},\"layout\":{\"annotationdefaults\":{\"arrowcolor\":\"#2a3f5f\",\"arrowhead\":0,\"arrowwidth\":1},\"autotypenumbers\":\"strict\",\"coloraxis\":{\"colorbar\":{\"outlinewidth\":0,\"ticks\":\"\"}},\"colorscale\":{\"diverging\":[[0,\"#8e0152\"],[0.1,\"#c51b7d\"],[0.2,\"#de77ae\"],[0.3,\"#f1b6da\"],[0.4,\"#fde0ef\"],[0.5,\"#f7f7f7\"],[0.6,\"#e6f5d0\"],[0.7,\"#b8e186\"],[0.8,\"#7fbc41\"],[0.9,\"#4d9221\"],[1,\"#276419\"]],\"sequential\":[[0.0,\"#0d0887\"],[0.1111111111111111,\"#46039f\"],[0.2222222222222222,\"#7201a8\"],[0.3333333333333333,\"#9c179e\"],[0.4444444444444444,\"#bd3786\"],[0.5555555555555556,\"#d8576b\"],[0.6666666666666666,\"#ed7953\"],[0.7777777777777778,\"#fb9f3a\"],[0.8888888888888888,\"#fdca26\"],[1.0,\"#f0f921\"]],\"sequentialminus\":[[0.0,\"#0d0887\"],[0.1111111111111111,\"#46039f\"],[0.2222222222222222,\"#7201a8\"],[0.3333333333333333,\"#9c179e\"],[0.4444444444444444,\"#bd3786\"],[0.5555555555555556,\"#d8576b\"],[0.6666666666666666,\"#ed7953\"],[0.7777777777777778,\"#fb9f3a\"],[0.8888888888888888,\"#fdca26\"],[1.0,\"#f0f921\"]]},\"colorway\":[\"#636efa\",\"#EF553B\",\"#00cc96\",\"#ab63fa\",\"#FFA15A\",\"#19d3f3\",\"#FF6692\",\"#B6E880\",\"#FF97FF\",\"#FECB52\"],\"font\":{\"color\":\"#2a3f5f\"},\"geo\":{\"bgcolor\":\"white\",\"lakecolor\":\"white\",\"landcolor\":\"#E5ECF6\",\"showlakes\":true,\"showland\":true,\"subunitcolor\":\"white\"},\"hoverlabel\":{\"align\":\"left\"},\"hovermode\":\"closest\",\"mapbox\":{\"style\":\"light\"},\"paper_bgcolor\":\"white\",\"plot_bgcolor\":\"#E5ECF6\",\"polar\":{\"angularaxis\":{\"gridcolor\":\"white\",\"linecolor\":\"white\",\"ticks\":\"\"},\"bgcolor\":\"#E5ECF6\",\"radialaxis\":{\"gridcolor\":\"white\",\"linecolor\":\"white\",\"ticks\":\"\"}},\"scene\":{\"xaxis\":{\"backgroundcolor\":\"#E5ECF6\",\"gridcolor\":\"white\",\"gridwidth\":2,\"linecolor\":\"white\",\"showbackground\":true,\"ticks\":\"\",\"zerolinecolor\":\"white\"},\"yaxis\":{\"backgroundcolor\":\"#E5ECF6\",\"gridcolor\":\"white\",\"gridwidth\":2,\"linecolor\":\"white\",\"showbackground\":true,\"ticks\":\"\",\"zerolinecolor\":\"white\"},\"zaxis\":{\"backgroundcolor\":\"#E5ECF6\",\"gridcolor\":\"white\",\"gridwidth\":2,\"linecolor\":\"white\",\"showbackground\":true,\"ticks\":\"\",\"zerolinecolor\":\"white\"}},\"shapedefaults\":{\"line\":{\"color\":\"#2a3f5f\"}},\"ternary\":{\"aaxis\":{\"gridcolor\":\"white\",\"linecolor\":\"white\",\"ticks\":\"\"},\"baxis\":{\"gridcolor\":\"white\",\"linecolor\":\"white\",\"ticks\":\"\"},\"bgcolor\":\"#E5ECF6\",\"caxis\":{\"gridcolor\":\"white\",\"linecolor\":\"white\",\"ticks\":\"\"}},\"title\":{\"x\":0.05},\"xaxis\":{\"automargin\":true,\"gridcolor\":\"white\",\"linecolor\":\"white\",\"ticks\":\"\",\"title\":{\"standoff\":15},\"zerolinecolor\":\"white\",\"zerolinewidth\":2},\"yaxis\":{\"automargin\":true,\"gridcolor\":\"white\",\"linecolor\":\"white\",\"ticks\":\"\",\"title\":{\"standoff\":15},\"zerolinecolor\":\"white\",\"zerolinewidth\":2}}},\"title\":{\"font\":{\"color\":\"#4D5663\"}},\"xaxis\":{\"gridcolor\":\"#E1E5ED\",\"showgrid\":true,\"tickfont\":{\"color\":\"#4D5663\"},\"title\":{\"font\":{\"color\":\"#4D5663\"},\"text\":\"\"},\"zerolinecolor\":\"#E1E5ED\"},\"yaxis\":{\"gridcolor\":\"#E1E5ED\",\"showgrid\":true,\"tickfont\":{\"color\":\"#4D5663\"},\"title\":{\"font\":{\"color\":\"#4D5663\"},\"text\":\"\"},\"zerolinecolor\":\"#E1E5ED\"}},                        {\"showLink\": true, \"linkText\": \"Export to plot.ly\", \"plotlyServerURL\": \"https://plot.ly\", \"responsive\": true}                    ).then(function(){\n",
       "                            \n",
       "var gd = document.getElementById('522c9b23-c143-4986-8c40-e0bb9d169fba');\n",
       "var x = new MutationObserver(function (mutations, observer) {{\n",
       "        var display = window.getComputedStyle(gd).display;\n",
       "        if (!display || display === 'none') {{\n",
       "            console.log([gd, 'removed!']);\n",
       "            Plotly.purge(gd);\n",
       "            observer.disconnect();\n",
       "        }}\n",
       "}});\n",
       "\n",
       "// Listen for the removal of the full notebook cells\n",
       "var notebookContainer = gd.closest('#notebook-container');\n",
       "if (notebookContainer) {{\n",
       "    x.observe(notebookContainer, {childList: true});\n",
       "}}\n",
       "\n",
       "// Listen for the clearing of the current output cell\n",
       "var outputEl = gd.closest('.output');\n",
       "if (outputEl) {{\n",
       "    x.observe(outputEl, {childList: true});\n",
       "}}\n",
       "\n",
       "                        })                };                });            </script>        </div>"
      ]
     },
     "metadata": {},
     "output_type": "display_data"
    }
   ],
   "source": [
    "df.sum().iplot(kind='bar')"
   ]
  },
  {
   "cell_type": "code",
   "execution_count": 20,
   "id": "031d97e8",
   "metadata": {},
   "outputs": [
    {
     "data": {
      "application/vnd.plotly.v1+json": {
       "config": {
        "linkText": "Export to plot.ly",
        "plotlyServerURL": "https://plot.ly",
        "showLink": true
       },
       "data": [
        {
         "boxpoints": false,
         "line": {
          "width": 1.3
         },
         "marker": {
          "color": "rgba(255, 153, 51, 1.0)"
         },
         "name": "A",
         "orientation": "v",
         "type": "box",
         "y": [
          0.406730039480157,
          -0.39228221499578964,
          0.7584886923840094,
          -0.9440396101168271,
          -0.727462876129729,
          0.4839174053257021,
          0.3627206584336743,
          1.168876137696794,
          1.2510313986768908,
          -0.8539452754949033,
          0.055427781643683255,
          -0.6784544917630049,
          0.8326820808182758,
          0.28424683461318606,
          -0.14757676900957287,
          0.11439817628276706,
          -0.18475712704423441,
          0.0038164459887509153,
          0.34990494510895703,
          -0.4378365112671588,
          -0.319660271111292,
          -0.3137996100294566,
          0.7818668395960702,
          1.233186915064355,
          -0.6435088591199211,
          -0.7662361903303532,
          0.6315312339735785,
          -1.5985204957973767,
          -1.8108208438232374,
          2.851513981870026,
          -0.0364816577569318,
          -0.07999396186412067,
          -1.4714556943251862,
          -0.47159853321598855,
          -1.4583382229612358,
          0.5500685036145431,
          -0.5124116539500457,
          -0.4612840603123584,
          1.2075325846345708,
          0.27937512403424236,
          0.4729467860759181,
          0.694237909442264,
          -0.22313437477461176,
          -2.1673385397595584,
          1.3640671084533982,
          1.4328639494199835,
          -1.3186427873817268,
          -1.0994996582162526,
          -0.41552140832138207,
          -1.1080560081519106,
          0.2813001247748424,
          -0.7580111392673803,
          -0.7788585603184489,
          1.2751150122692931,
          2.00579679912336,
          0.47791604052873227,
          0.12635847592401317,
          0.4544312374061017,
          -0.701182543768695,
          -0.31650116074208257,
          1.40877730233643,
          -0.30667471652084766,
          0.8587407419478714,
          1.9907280644550456,
          -0.34251402756783583,
          0.8082078562811572,
          0.15996260259357092,
          0.004165864484431415,
          1.226249713622541,
          1.448104818376337,
          -0.571107037470229,
          1.0776789911239473,
          -0.1018710678062574,
          1.1137520194408075,
          0.305546217332669,
          -0.43272160683972544,
          0.5002141172314987,
          1.384830376450365,
          1.3439169146885883,
          -0.801316865757186,
          0.6946582118008514,
          1.1900960545880286,
          0.15796941300637093,
          1.1856772524598995,
          -1.3348503021181104,
          0.26021804126709724,
          0.7641069566280589,
          0.5619839963840547,
          0.9919306452669481,
          -0.42193016475058465,
          1.6278652681325925,
          0.040967833820687465,
          0.4341660540644965,
          1.2258119652660264,
          0.16250938553896713,
          0.7601085688053791,
          -0.9805826865572652,
          2.3002686917555693,
          1.301006005581953,
          1.754526468354843
         ]
        },
        {
         "boxpoints": false,
         "line": {
          "width": 1.3
         },
         "marker": {
          "color": "rgba(55, 128, 191, 1.0)"
         },
         "name": "B",
         "orientation": "v",
         "type": "box",
         "y": [
          1.097376166904293,
          1.8642792306676408,
          1.2461137578017065,
          1.477672212271986,
          -0.6321980447209725,
          -0.701592290165167,
          -1.9910127251039769,
          -0.16971343962788965,
          1.541150001898701,
          -1.6226902596728239,
          -0.19448210077836395,
          -0.47549319984974325,
          0.7803436367159594,
          2.08048633199042,
          -0.8719472680505037,
          -0.37442017918715675,
          -0.4891452026651608,
          -0.5970083414206725,
          -0.16973314267358802,
          0.06428229010088789,
          0.4494812462908728,
          -0.07193734454633495,
          0.9309418106438704,
          -0.9753354844829426,
          -0.22601455757081423,
          0.18748715389366605,
          -0.1312877215837846,
          0.2381938795614643,
          -1.7590016804188497,
          0.6731156410468611,
          -0.7597413854750319,
          -0.8841013551192329,
          0.3929846598823091,
          0.11017410931895902,
          0.18683594785406676,
          -0.2029225971205222,
          -1.0052515203199146,
          -0.8693936292685707,
          -0.5374583078325221,
          0.5430544806259738,
          -1.3965788668301606,
          -1.1651248251003146,
          -0.8524306919840188,
          1.128249186662589,
          0.6442598329163325,
          1.0213495698127613,
          -0.23049466510995706,
          0.07953191198925529,
          -1.4659932409105514,
          1.2955320882347134,
          -0.8377201170388314,
          -0.4065340844831503,
          -1.5343531136588566,
          0.5484422875986819,
          0.09010716670491731,
          -2.249789437139244,
          -0.4964833178001253,
          0.9236763626726683,
          0.8452213396049112,
          -1.2927235441395513,
          1.7141323156631694,
          2.0912246513019284,
          0.25670750122387975,
          -1.1156603606229654,
          1.9235857811875827,
          -0.8710707446693985,
          1.3740453390524754,
          -0.35252170079482553,
          0.3105335666082955,
          -0.8699675452643268,
          -1.5648524283832677,
          0.5259596252560428,
          -0.11867843751372183,
          -0.4825495127875421,
          0.47010600603079233,
          0.6759767650864442,
          -0.1813265244137657,
          0.23745839470300278,
          1.9769665072823797,
          0.5902013388082753,
          1.710003116764618,
          0.03506191983633523,
          0.36609790401099235,
          -0.44103957812685,
          0.014828666517463394,
          0.21150895973385886,
          1.5565405830025982,
          2.401094575846921,
          -0.28780392140728167,
          -1.93983090406157,
          0.4842455485607953,
          1.0815228442886557,
          -0.36042455727396383,
          -0.6162822329956089,
          0.7698723634388819,
          -0.26264604843217976,
          -0.5313630021704862,
          -0.9796202663756749,
          0.07779045872360635,
          0.45828456864812617
         ]
        },
        {
         "boxpoints": false,
         "line": {
          "width": 1.3
         },
         "marker": {
          "color": "rgba(50, 171, 96, 1.0)"
         },
         "name": "C",
         "orientation": "v",
         "type": "box",
         "y": [
          -0.959747881609686,
          1.0367821198208023,
          1.1793643986088211,
          -1.1847910685272307,
          -0.8084386447856533,
          0.17988019416163548,
          0.3980228918066277,
          -1.08082996218518,
          -0.5666268107303905,
          -0.3844724301983165,
          -0.25922695615111,
          -0.19240029331781172,
          -0.9262680677710405,
          1.5202632748089229,
          -0.5488602253956538,
          1.5444815479525467,
          -1.02807514380886,
          -1.3369806920411973,
          -1.2355219454915394,
          -0.3650483311232349,
          -1.0378418608531532,
          -0.33723343966111063,
          0.612532028665151,
          2.264398042000688,
          1.5526885092866494,
          -1.041815130520541,
          -1.4449717477082784,
          -0.6765598716890142,
          -0.1188794303229958,
          -0.2296694432837657,
          -0.10692238325046478,
          -1.4796792755911248,
          0.046884110499893085,
          -0.6400552792075027,
          -1.6148675005152104,
          -0.8181027964469965,
          -0.23619986103989418,
          -1.3309197760816576,
          -1.346254717197355,
          0.715404419869758,
          0.9801234758543126,
          -0.9296905800722829,
          0.4679481363201032,
          -1.1818051412191242,
          0.9154701140210872,
          1.3932319048211754,
          0.5444851638530489,
          1.4537859430819797,
          0.24489743804102446,
          0.19791287590021447,
          -0.6698998391357807,
          -1.3978800295772889,
          0.3794789816172494,
          -1.2597528308744037,
          0.7911117770587406,
          0.8860111458984627,
          1.100997847227812,
          1.2227346621855006,
          0.23813988698570066,
          0.7369555603898272,
          0.12729412239022272,
          0.4941300636382026,
          0.3001154465893416,
          -0.8522656780053931,
          -1.2428088551637078,
          -0.4331463496663254,
          0.16852650488740917,
          -0.6155703411818955,
          -0.7470558852677666,
          -0.17081111977622232,
          -1.0108532874031082,
          0.30111657698245825,
          -1.4004351460905673,
          -0.617479520524966,
          1.096583802392027,
          0.38027555293067633,
          -2.4770444913214926,
          0.5124599056022963,
          -0.7864323172889783,
          -2.012404930830048,
          -0.5239455987265228,
          0.28855396935654365,
          -2.180575119874746,
          0.22409243129740206,
          1.6110071750508808,
          -0.1732752241703584,
          1.2478975671405141,
          -0.048669124542163676,
          -1.0065265236213345,
          0.3888443659165873,
          -0.27466355453413027,
          -0.5211709616199443,
          -2.213711402445004,
          1.6586733594573306,
          -0.22848418615931423,
          0.057267395731893815,
          0.3821345869931526,
          2.2275703180856756,
          0.2072166861025222,
          0.12301242491396328
         ]
        },
        {
         "boxpoints": false,
         "line": {
          "width": 1.3
         },
         "marker": {
          "color": "rgba(128, 0, 128, 1.0)"
         },
         "name": "D",
         "orientation": "v",
         "type": "box",
         "y": [
          -0.3775237105476041,
          1.5469330558820853,
          0.7975837377689529,
          -1.0215237358858384,
          0.046174419806248125,
          -0.4546700022403752,
          -0.976645584975092,
          0.45717773411839563,
          -1.3606088988003922,
          -1.764923821143453,
          1.3491715340900854,
          1.0404434348743121,
          2.231620580687955,
          -0.9592701447679857,
          0.02481391863717533,
          1.1543392090813562,
          -0.5448617030321711,
          0.981060386509627,
          -1.3971884449374945,
          0.051944384918920075,
          0.5191578103580838,
          -0.2079011438790017,
          2.4598800535048064,
          -0.3064029027419856,
          1.7368796898541534,
          2.0259377554560363,
          0.05077977396190428,
          2.3636997814467824,
          -0.9001904283819676,
          -0.4615461008048252,
          1.580150496138963,
          -1.4459977513748663,
          0.7849704949260711,
          0.9370021432027721,
          -1.0438536510350638,
          1.0642048533773578,
          -0.5047233858253104,
          -1.2985658864810619,
          -0.9347355102775656,
          -1.7435021361118295,
          0.6540645036517425,
          -0.5406342471593872,
          0.8175495870482,
          -0.28795761265237857,
          -0.6040342612099427,
          -0.000273981036672952,
          -0.03040250123411199,
          -1.3474981929133365,
          1.326316641128734,
          -1.4048711185810525,
          0.3496708975244264,
          1.175758589037626,
          0.5407612368541103,
          -1.5947823321895451,
          -0.2814276918443059,
          -0.4266535186520008,
          -0.11651375400559504,
          0.7395628814325849,
          -0.21127926389675677,
          -1.6285256466392641,
          2.715790717037815,
          -0.4381836055540097,
          -0.7167752813344342,
          1.6344080173541937,
          1.092247657456989,
          1.1918526512537928,
          1.4797193451776989,
          -0.042073357485148864,
          1.4353536465377565,
          0.566212208762207,
          -1.0469684943619808,
          1.2965361364755423,
          -0.7693246295679306,
          1.4043778339323014,
          -0.022019816215365234,
          -0.2565755827695688,
          -0.9516114323200353,
          0.4100799957427423,
          0.27899071689190635,
          -0.643630880672682,
          1.3788949433245734,
          1.7421489253733558,
          0.47087130008510547,
          0.1086939483089091,
          -0.796358241377402,
          0.43141768585008794,
          0.4935046381639671,
          2.2923780110911194,
          0.4553633293911215,
          1.2470448067482276,
          0.5680883081761456,
          -0.17640134522893047,
          0.6490268225007355,
          -0.844411924817917,
          -1.556331856145653,
          -0.6893983779063737,
          -0.9099102769233144,
          -1.0202975535224497,
          -0.8373455223524954,
          -0.0428262147603727
         ]
        }
       ],
       "layout": {
        "legend": {
         "bgcolor": "#F5F6F9",
         "font": {
          "color": "#4D5663"
         }
        },
        "paper_bgcolor": "#F5F6F9",
        "plot_bgcolor": "#F5F6F9",
        "template": {
         "data": {
          "bar": [
           {
            "error_x": {
             "color": "#2a3f5f"
            },
            "error_y": {
             "color": "#2a3f5f"
            },
            "marker": {
             "line": {
              "color": "#E5ECF6",
              "width": 0.5
             },
             "pattern": {
              "fillmode": "overlay",
              "size": 10,
              "solidity": 0.2
             }
            },
            "type": "bar"
           }
          ],
          "barpolar": [
           {
            "marker": {
             "line": {
              "color": "#E5ECF6",
              "width": 0.5
             },
             "pattern": {
              "fillmode": "overlay",
              "size": 10,
              "solidity": 0.2
             }
            },
            "type": "barpolar"
           }
          ],
          "carpet": [
           {
            "aaxis": {
             "endlinecolor": "#2a3f5f",
             "gridcolor": "white",
             "linecolor": "white",
             "minorgridcolor": "white",
             "startlinecolor": "#2a3f5f"
            },
            "baxis": {
             "endlinecolor": "#2a3f5f",
             "gridcolor": "white",
             "linecolor": "white",
             "minorgridcolor": "white",
             "startlinecolor": "#2a3f5f"
            },
            "type": "carpet"
           }
          ],
          "choropleth": [
           {
            "colorbar": {
             "outlinewidth": 0,
             "ticks": ""
            },
            "type": "choropleth"
           }
          ],
          "contour": [
           {
            "colorbar": {
             "outlinewidth": 0,
             "ticks": ""
            },
            "colorscale": [
             [
              0,
              "#0d0887"
             ],
             [
              0.1111111111111111,
              "#46039f"
             ],
             [
              0.2222222222222222,
              "#7201a8"
             ],
             [
              0.3333333333333333,
              "#9c179e"
             ],
             [
              0.4444444444444444,
              "#bd3786"
             ],
             [
              0.5555555555555556,
              "#d8576b"
             ],
             [
              0.6666666666666666,
              "#ed7953"
             ],
             [
              0.7777777777777778,
              "#fb9f3a"
             ],
             [
              0.8888888888888888,
              "#fdca26"
             ],
             [
              1,
              "#f0f921"
             ]
            ],
            "type": "contour"
           }
          ],
          "contourcarpet": [
           {
            "colorbar": {
             "outlinewidth": 0,
             "ticks": ""
            },
            "type": "contourcarpet"
           }
          ],
          "heatmap": [
           {
            "colorbar": {
             "outlinewidth": 0,
             "ticks": ""
            },
            "colorscale": [
             [
              0,
              "#0d0887"
             ],
             [
              0.1111111111111111,
              "#46039f"
             ],
             [
              0.2222222222222222,
              "#7201a8"
             ],
             [
              0.3333333333333333,
              "#9c179e"
             ],
             [
              0.4444444444444444,
              "#bd3786"
             ],
             [
              0.5555555555555556,
              "#d8576b"
             ],
             [
              0.6666666666666666,
              "#ed7953"
             ],
             [
              0.7777777777777778,
              "#fb9f3a"
             ],
             [
              0.8888888888888888,
              "#fdca26"
             ],
             [
              1,
              "#f0f921"
             ]
            ],
            "type": "heatmap"
           }
          ],
          "heatmapgl": [
           {
            "colorbar": {
             "outlinewidth": 0,
             "ticks": ""
            },
            "colorscale": [
             [
              0,
              "#0d0887"
             ],
             [
              0.1111111111111111,
              "#46039f"
             ],
             [
              0.2222222222222222,
              "#7201a8"
             ],
             [
              0.3333333333333333,
              "#9c179e"
             ],
             [
              0.4444444444444444,
              "#bd3786"
             ],
             [
              0.5555555555555556,
              "#d8576b"
             ],
             [
              0.6666666666666666,
              "#ed7953"
             ],
             [
              0.7777777777777778,
              "#fb9f3a"
             ],
             [
              0.8888888888888888,
              "#fdca26"
             ],
             [
              1,
              "#f0f921"
             ]
            ],
            "type": "heatmapgl"
           }
          ],
          "histogram": [
           {
            "marker": {
             "pattern": {
              "fillmode": "overlay",
              "size": 10,
              "solidity": 0.2
             }
            },
            "type": "histogram"
           }
          ],
          "histogram2d": [
           {
            "colorbar": {
             "outlinewidth": 0,
             "ticks": ""
            },
            "colorscale": [
             [
              0,
              "#0d0887"
             ],
             [
              0.1111111111111111,
              "#46039f"
             ],
             [
              0.2222222222222222,
              "#7201a8"
             ],
             [
              0.3333333333333333,
              "#9c179e"
             ],
             [
              0.4444444444444444,
              "#bd3786"
             ],
             [
              0.5555555555555556,
              "#d8576b"
             ],
             [
              0.6666666666666666,
              "#ed7953"
             ],
             [
              0.7777777777777778,
              "#fb9f3a"
             ],
             [
              0.8888888888888888,
              "#fdca26"
             ],
             [
              1,
              "#f0f921"
             ]
            ],
            "type": "histogram2d"
           }
          ],
          "histogram2dcontour": [
           {
            "colorbar": {
             "outlinewidth": 0,
             "ticks": ""
            },
            "colorscale": [
             [
              0,
              "#0d0887"
             ],
             [
              0.1111111111111111,
              "#46039f"
             ],
             [
              0.2222222222222222,
              "#7201a8"
             ],
             [
              0.3333333333333333,
              "#9c179e"
             ],
             [
              0.4444444444444444,
              "#bd3786"
             ],
             [
              0.5555555555555556,
              "#d8576b"
             ],
             [
              0.6666666666666666,
              "#ed7953"
             ],
             [
              0.7777777777777778,
              "#fb9f3a"
             ],
             [
              0.8888888888888888,
              "#fdca26"
             ],
             [
              1,
              "#f0f921"
             ]
            ],
            "type": "histogram2dcontour"
           }
          ],
          "mesh3d": [
           {
            "colorbar": {
             "outlinewidth": 0,
             "ticks": ""
            },
            "type": "mesh3d"
           }
          ],
          "parcoords": [
           {
            "line": {
             "colorbar": {
              "outlinewidth": 0,
              "ticks": ""
             }
            },
            "type": "parcoords"
           }
          ],
          "pie": [
           {
            "automargin": true,
            "type": "pie"
           }
          ],
          "scatter": [
           {
            "fillpattern": {
             "fillmode": "overlay",
             "size": 10,
             "solidity": 0.2
            },
            "type": "scatter"
           }
          ],
          "scatter3d": [
           {
            "line": {
             "colorbar": {
              "outlinewidth": 0,
              "ticks": ""
             }
            },
            "marker": {
             "colorbar": {
              "outlinewidth": 0,
              "ticks": ""
             }
            },
            "type": "scatter3d"
           }
          ],
          "scattercarpet": [
           {
            "marker": {
             "colorbar": {
              "outlinewidth": 0,
              "ticks": ""
             }
            },
            "type": "scattercarpet"
           }
          ],
          "scattergeo": [
           {
            "marker": {
             "colorbar": {
              "outlinewidth": 0,
              "ticks": ""
             }
            },
            "type": "scattergeo"
           }
          ],
          "scattergl": [
           {
            "marker": {
             "colorbar": {
              "outlinewidth": 0,
              "ticks": ""
             }
            },
            "type": "scattergl"
           }
          ],
          "scattermapbox": [
           {
            "marker": {
             "colorbar": {
              "outlinewidth": 0,
              "ticks": ""
             }
            },
            "type": "scattermapbox"
           }
          ],
          "scatterpolar": [
           {
            "marker": {
             "colorbar": {
              "outlinewidth": 0,
              "ticks": ""
             }
            },
            "type": "scatterpolar"
           }
          ],
          "scatterpolargl": [
           {
            "marker": {
             "colorbar": {
              "outlinewidth": 0,
              "ticks": ""
             }
            },
            "type": "scatterpolargl"
           }
          ],
          "scatterternary": [
           {
            "marker": {
             "colorbar": {
              "outlinewidth": 0,
              "ticks": ""
             }
            },
            "type": "scatterternary"
           }
          ],
          "surface": [
           {
            "colorbar": {
             "outlinewidth": 0,
             "ticks": ""
            },
            "colorscale": [
             [
              0,
              "#0d0887"
             ],
             [
              0.1111111111111111,
              "#46039f"
             ],
             [
              0.2222222222222222,
              "#7201a8"
             ],
             [
              0.3333333333333333,
              "#9c179e"
             ],
             [
              0.4444444444444444,
              "#bd3786"
             ],
             [
              0.5555555555555556,
              "#d8576b"
             ],
             [
              0.6666666666666666,
              "#ed7953"
             ],
             [
              0.7777777777777778,
              "#fb9f3a"
             ],
             [
              0.8888888888888888,
              "#fdca26"
             ],
             [
              1,
              "#f0f921"
             ]
            ],
            "type": "surface"
           }
          ],
          "table": [
           {
            "cells": {
             "fill": {
              "color": "#EBF0F8"
             },
             "line": {
              "color": "white"
             }
            },
            "header": {
             "fill": {
              "color": "#C8D4E3"
             },
             "line": {
              "color": "white"
             }
            },
            "type": "table"
           }
          ]
         },
         "layout": {
          "annotationdefaults": {
           "arrowcolor": "#2a3f5f",
           "arrowhead": 0,
           "arrowwidth": 1
          },
          "autotypenumbers": "strict",
          "coloraxis": {
           "colorbar": {
            "outlinewidth": 0,
            "ticks": ""
           }
          },
          "colorscale": {
           "diverging": [
            [
             0,
             "#8e0152"
            ],
            [
             0.1,
             "#c51b7d"
            ],
            [
             0.2,
             "#de77ae"
            ],
            [
             0.3,
             "#f1b6da"
            ],
            [
             0.4,
             "#fde0ef"
            ],
            [
             0.5,
             "#f7f7f7"
            ],
            [
             0.6,
             "#e6f5d0"
            ],
            [
             0.7,
             "#b8e186"
            ],
            [
             0.8,
             "#7fbc41"
            ],
            [
             0.9,
             "#4d9221"
            ],
            [
             1,
             "#276419"
            ]
           ],
           "sequential": [
            [
             0,
             "#0d0887"
            ],
            [
             0.1111111111111111,
             "#46039f"
            ],
            [
             0.2222222222222222,
             "#7201a8"
            ],
            [
             0.3333333333333333,
             "#9c179e"
            ],
            [
             0.4444444444444444,
             "#bd3786"
            ],
            [
             0.5555555555555556,
             "#d8576b"
            ],
            [
             0.6666666666666666,
             "#ed7953"
            ],
            [
             0.7777777777777778,
             "#fb9f3a"
            ],
            [
             0.8888888888888888,
             "#fdca26"
            ],
            [
             1,
             "#f0f921"
            ]
           ],
           "sequentialminus": [
            [
             0,
             "#0d0887"
            ],
            [
             0.1111111111111111,
             "#46039f"
            ],
            [
             0.2222222222222222,
             "#7201a8"
            ],
            [
             0.3333333333333333,
             "#9c179e"
            ],
            [
             0.4444444444444444,
             "#bd3786"
            ],
            [
             0.5555555555555556,
             "#d8576b"
            ],
            [
             0.6666666666666666,
             "#ed7953"
            ],
            [
             0.7777777777777778,
             "#fb9f3a"
            ],
            [
             0.8888888888888888,
             "#fdca26"
            ],
            [
             1,
             "#f0f921"
            ]
           ]
          },
          "colorway": [
           "#636efa",
           "#EF553B",
           "#00cc96",
           "#ab63fa",
           "#FFA15A",
           "#19d3f3",
           "#FF6692",
           "#B6E880",
           "#FF97FF",
           "#FECB52"
          ],
          "font": {
           "color": "#2a3f5f"
          },
          "geo": {
           "bgcolor": "white",
           "lakecolor": "white",
           "landcolor": "#E5ECF6",
           "showlakes": true,
           "showland": true,
           "subunitcolor": "white"
          },
          "hoverlabel": {
           "align": "left"
          },
          "hovermode": "closest",
          "mapbox": {
           "style": "light"
          },
          "paper_bgcolor": "white",
          "plot_bgcolor": "#E5ECF6",
          "polar": {
           "angularaxis": {
            "gridcolor": "white",
            "linecolor": "white",
            "ticks": ""
           },
           "bgcolor": "#E5ECF6",
           "radialaxis": {
            "gridcolor": "white",
            "linecolor": "white",
            "ticks": ""
           }
          },
          "scene": {
           "xaxis": {
            "backgroundcolor": "#E5ECF6",
            "gridcolor": "white",
            "gridwidth": 2,
            "linecolor": "white",
            "showbackground": true,
            "ticks": "",
            "zerolinecolor": "white"
           },
           "yaxis": {
            "backgroundcolor": "#E5ECF6",
            "gridcolor": "white",
            "gridwidth": 2,
            "linecolor": "white",
            "showbackground": true,
            "ticks": "",
            "zerolinecolor": "white"
           },
           "zaxis": {
            "backgroundcolor": "#E5ECF6",
            "gridcolor": "white",
            "gridwidth": 2,
            "linecolor": "white",
            "showbackground": true,
            "ticks": "",
            "zerolinecolor": "white"
           }
          },
          "shapedefaults": {
           "line": {
            "color": "#2a3f5f"
           }
          },
          "ternary": {
           "aaxis": {
            "gridcolor": "white",
            "linecolor": "white",
            "ticks": ""
           },
           "baxis": {
            "gridcolor": "white",
            "linecolor": "white",
            "ticks": ""
           },
           "bgcolor": "#E5ECF6",
           "caxis": {
            "gridcolor": "white",
            "linecolor": "white",
            "ticks": ""
           }
          },
          "title": {
           "x": 0.05
          },
          "xaxis": {
           "automargin": true,
           "gridcolor": "white",
           "linecolor": "white",
           "ticks": "",
           "title": {
            "standoff": 15
           },
           "zerolinecolor": "white",
           "zerolinewidth": 2
          },
          "yaxis": {
           "automargin": true,
           "gridcolor": "white",
           "linecolor": "white",
           "ticks": "",
           "title": {
            "standoff": 15
           },
           "zerolinecolor": "white",
           "zerolinewidth": 2
          }
         }
        },
        "title": {
         "font": {
          "color": "#4D5663"
         }
        },
        "xaxis": {
         "gridcolor": "#E1E5ED",
         "showgrid": true,
         "tickfont": {
          "color": "#4D5663"
         },
         "title": {
          "font": {
           "color": "#4D5663"
          },
          "text": ""
         },
         "zerolinecolor": "#E1E5ED"
        },
        "yaxis": {
         "gridcolor": "#E1E5ED",
         "showgrid": true,
         "tickfont": {
          "color": "#4D5663"
         },
         "title": {
          "font": {
           "color": "#4D5663"
          },
          "text": ""
         },
         "zerolinecolor": "#E1E5ED"
        }
       }
      },
      "text/html": [
       "<div>                            <div id=\"d937d83f-bf8f-4f26-ad70-77ec8b24d300\" class=\"plotly-graph-div\" style=\"height:525px; width:100%;\"></div>            <script type=\"text/javascript\">                require([\"plotly\"], function(Plotly) {                    window.PLOTLYENV=window.PLOTLYENV || {};\n",
       "                    window.PLOTLYENV.BASE_URL='https://plot.ly';                                    if (document.getElementById(\"d937d83f-bf8f-4f26-ad70-77ec8b24d300\")) {                    Plotly.newPlot(                        \"d937d83f-bf8f-4f26-ad70-77ec8b24d300\",                        [{\"boxpoints\":false,\"line\":{\"width\":1.3},\"marker\":{\"color\":\"rgba(255, 153, 51, 1.0)\"},\"name\":\"A\",\"orientation\":\"v\",\"y\":[0.406730039480157,-0.39228221499578964,0.7584886923840094,-0.9440396101168271,-0.727462876129729,0.4839174053257021,0.3627206584336743,1.168876137696794,1.2510313986768908,-0.8539452754949033,0.055427781643683255,-0.6784544917630049,0.8326820808182758,0.28424683461318606,-0.14757676900957287,0.11439817628276706,-0.18475712704423441,0.0038164459887509153,0.34990494510895703,-0.4378365112671588,-0.319660271111292,-0.3137996100294566,0.7818668395960702,1.233186915064355,-0.6435088591199211,-0.7662361903303532,0.6315312339735785,-1.5985204957973767,-1.8108208438232374,2.851513981870026,-0.0364816577569318,-0.07999396186412067,-1.4714556943251862,-0.47159853321598855,-1.4583382229612358,0.5500685036145431,-0.5124116539500457,-0.4612840603123584,1.2075325846345708,0.27937512403424236,0.4729467860759181,0.694237909442264,-0.22313437477461176,-2.1673385397595584,1.3640671084533982,1.4328639494199835,-1.3186427873817268,-1.0994996582162526,-0.41552140832138207,-1.1080560081519106,0.2813001247748424,-0.7580111392673803,-0.7788585603184489,1.2751150122692931,2.00579679912336,0.47791604052873227,0.12635847592401317,0.4544312374061017,-0.701182543768695,-0.31650116074208257,1.40877730233643,-0.30667471652084766,0.8587407419478714,1.9907280644550456,-0.34251402756783583,0.8082078562811572,0.15996260259357092,0.004165864484431415,1.226249713622541,1.448104818376337,-0.571107037470229,1.0776789911239473,-0.1018710678062574,1.1137520194408075,0.305546217332669,-0.43272160683972544,0.5002141172314987,1.384830376450365,1.3439169146885883,-0.801316865757186,0.6946582118008514,1.1900960545880286,0.15796941300637093,1.1856772524598995,-1.3348503021181104,0.26021804126709724,0.7641069566280589,0.5619839963840547,0.9919306452669481,-0.42193016475058465,1.6278652681325925,0.040967833820687465,0.4341660540644965,1.2258119652660264,0.16250938553896713,0.7601085688053791,-0.9805826865572652,2.3002686917555693,1.301006005581953,1.754526468354843],\"type\":\"box\"},{\"boxpoints\":false,\"line\":{\"width\":1.3},\"marker\":{\"color\":\"rgba(55, 128, 191, 1.0)\"},\"name\":\"B\",\"orientation\":\"v\",\"y\":[1.097376166904293,1.8642792306676408,1.2461137578017065,1.477672212271986,-0.6321980447209725,-0.701592290165167,-1.9910127251039769,-0.16971343962788965,1.541150001898701,-1.6226902596728239,-0.19448210077836395,-0.47549319984974325,0.7803436367159594,2.08048633199042,-0.8719472680505037,-0.37442017918715675,-0.4891452026651608,-0.5970083414206725,-0.16973314267358802,0.06428229010088789,0.4494812462908728,-0.07193734454633495,0.9309418106438704,-0.9753354844829426,-0.22601455757081423,0.18748715389366605,-0.1312877215837846,0.2381938795614643,-1.7590016804188497,0.6731156410468611,-0.7597413854750319,-0.8841013551192329,0.3929846598823091,0.11017410931895902,0.18683594785406676,-0.2029225971205222,-1.0052515203199146,-0.8693936292685707,-0.5374583078325221,0.5430544806259738,-1.3965788668301606,-1.1651248251003146,-0.8524306919840188,1.128249186662589,0.6442598329163325,1.0213495698127613,-0.23049466510995706,0.07953191198925529,-1.4659932409105514,1.2955320882347134,-0.8377201170388314,-0.4065340844831503,-1.5343531136588566,0.5484422875986819,0.09010716670491731,-2.249789437139244,-0.4964833178001253,0.9236763626726683,0.8452213396049112,-1.2927235441395513,1.7141323156631694,2.0912246513019284,0.25670750122387975,-1.1156603606229654,1.9235857811875827,-0.8710707446693985,1.3740453390524754,-0.35252170079482553,0.3105335666082955,-0.8699675452643268,-1.5648524283832677,0.5259596252560428,-0.11867843751372183,-0.4825495127875421,0.47010600603079233,0.6759767650864442,-0.1813265244137657,0.23745839470300278,1.9769665072823797,0.5902013388082753,1.710003116764618,0.03506191983633523,0.36609790401099235,-0.44103957812685,0.014828666517463394,0.21150895973385886,1.5565405830025982,2.401094575846921,-0.28780392140728167,-1.93983090406157,0.4842455485607953,1.0815228442886557,-0.36042455727396383,-0.6162822329956089,0.7698723634388819,-0.26264604843217976,-0.5313630021704862,-0.9796202663756749,0.07779045872360635,0.45828456864812617],\"type\":\"box\"},{\"boxpoints\":false,\"line\":{\"width\":1.3},\"marker\":{\"color\":\"rgba(50, 171, 96, 1.0)\"},\"name\":\"C\",\"orientation\":\"v\",\"y\":[-0.959747881609686,1.0367821198208023,1.1793643986088211,-1.1847910685272307,-0.8084386447856533,0.17988019416163548,0.3980228918066277,-1.08082996218518,-0.5666268107303905,-0.3844724301983165,-0.25922695615111,-0.19240029331781172,-0.9262680677710405,1.5202632748089229,-0.5488602253956538,1.5444815479525467,-1.02807514380886,-1.3369806920411973,-1.2355219454915394,-0.3650483311232349,-1.0378418608531532,-0.33723343966111063,0.612532028665151,2.264398042000688,1.5526885092866494,-1.041815130520541,-1.4449717477082784,-0.6765598716890142,-0.1188794303229958,-0.2296694432837657,-0.10692238325046478,-1.4796792755911248,0.046884110499893085,-0.6400552792075027,-1.6148675005152104,-0.8181027964469965,-0.23619986103989418,-1.3309197760816576,-1.346254717197355,0.715404419869758,0.9801234758543126,-0.9296905800722829,0.4679481363201032,-1.1818051412191242,0.9154701140210872,1.3932319048211754,0.5444851638530489,1.4537859430819797,0.24489743804102446,0.19791287590021447,-0.6698998391357807,-1.3978800295772889,0.3794789816172494,-1.2597528308744037,0.7911117770587406,0.8860111458984627,1.100997847227812,1.2227346621855006,0.23813988698570066,0.7369555603898272,0.12729412239022272,0.4941300636382026,0.3001154465893416,-0.8522656780053931,-1.2428088551637078,-0.4331463496663254,0.16852650488740917,-0.6155703411818955,-0.7470558852677666,-0.17081111977622232,-1.0108532874031082,0.30111657698245825,-1.4004351460905673,-0.617479520524966,1.096583802392027,0.38027555293067633,-2.4770444913214926,0.5124599056022963,-0.7864323172889783,-2.012404930830048,-0.5239455987265228,0.28855396935654365,-2.180575119874746,0.22409243129740206,1.6110071750508808,-0.1732752241703584,1.2478975671405141,-0.048669124542163676,-1.0065265236213345,0.3888443659165873,-0.27466355453413027,-0.5211709616199443,-2.213711402445004,1.6586733594573306,-0.22848418615931423,0.057267395731893815,0.3821345869931526,2.2275703180856756,0.2072166861025222,0.12301242491396328],\"type\":\"box\"},{\"boxpoints\":false,\"line\":{\"width\":1.3},\"marker\":{\"color\":\"rgba(128, 0, 128, 1.0)\"},\"name\":\"D\",\"orientation\":\"v\",\"y\":[-0.3775237105476041,1.5469330558820853,0.7975837377689529,-1.0215237358858384,0.046174419806248125,-0.4546700022403752,-0.976645584975092,0.45717773411839563,-1.3606088988003922,-1.764923821143453,1.3491715340900854,1.0404434348743121,2.231620580687955,-0.9592701447679857,0.02481391863717533,1.1543392090813562,-0.5448617030321711,0.981060386509627,-1.3971884449374945,0.051944384918920075,0.5191578103580838,-0.2079011438790017,2.4598800535048064,-0.3064029027419856,1.7368796898541534,2.0259377554560363,0.05077977396190428,2.3636997814467824,-0.9001904283819676,-0.4615461008048252,1.580150496138963,-1.4459977513748663,0.7849704949260711,0.9370021432027721,-1.0438536510350638,1.0642048533773578,-0.5047233858253104,-1.2985658864810619,-0.9347355102775656,-1.7435021361118295,0.6540645036517425,-0.5406342471593872,0.8175495870482,-0.28795761265237857,-0.6040342612099427,-0.000273981036672952,-0.03040250123411199,-1.3474981929133365,1.326316641128734,-1.4048711185810525,0.3496708975244264,1.175758589037626,0.5407612368541103,-1.5947823321895451,-0.2814276918443059,-0.4266535186520008,-0.11651375400559504,0.7395628814325849,-0.21127926389675677,-1.6285256466392641,2.715790717037815,-0.4381836055540097,-0.7167752813344342,1.6344080173541937,1.092247657456989,1.1918526512537928,1.4797193451776989,-0.042073357485148864,1.4353536465377565,0.566212208762207,-1.0469684943619808,1.2965361364755423,-0.7693246295679306,1.4043778339323014,-0.022019816215365234,-0.2565755827695688,-0.9516114323200353,0.4100799957427423,0.27899071689190635,-0.643630880672682,1.3788949433245734,1.7421489253733558,0.47087130008510547,0.1086939483089091,-0.796358241377402,0.43141768585008794,0.4935046381639671,2.2923780110911194,0.4553633293911215,1.2470448067482276,0.5680883081761456,-0.17640134522893047,0.6490268225007355,-0.844411924817917,-1.556331856145653,-0.6893983779063737,-0.9099102769233144,-1.0202975535224497,-0.8373455223524954,-0.0428262147603727],\"type\":\"box\"}],                        {\"legend\":{\"bgcolor\":\"#F5F6F9\",\"font\":{\"color\":\"#4D5663\"}},\"paper_bgcolor\":\"#F5F6F9\",\"plot_bgcolor\":\"#F5F6F9\",\"template\":{\"data\":{\"barpolar\":[{\"marker\":{\"line\":{\"color\":\"#E5ECF6\",\"width\":0.5},\"pattern\":{\"fillmode\":\"overlay\",\"size\":10,\"solidity\":0.2}},\"type\":\"barpolar\"}],\"bar\":[{\"error_x\":{\"color\":\"#2a3f5f\"},\"error_y\":{\"color\":\"#2a3f5f\"},\"marker\":{\"line\":{\"color\":\"#E5ECF6\",\"width\":0.5},\"pattern\":{\"fillmode\":\"overlay\",\"size\":10,\"solidity\":0.2}},\"type\":\"bar\"}],\"carpet\":[{\"aaxis\":{\"endlinecolor\":\"#2a3f5f\",\"gridcolor\":\"white\",\"linecolor\":\"white\",\"minorgridcolor\":\"white\",\"startlinecolor\":\"#2a3f5f\"},\"baxis\":{\"endlinecolor\":\"#2a3f5f\",\"gridcolor\":\"white\",\"linecolor\":\"white\",\"minorgridcolor\":\"white\",\"startlinecolor\":\"#2a3f5f\"},\"type\":\"carpet\"}],\"choropleth\":[{\"colorbar\":{\"outlinewidth\":0,\"ticks\":\"\"},\"type\":\"choropleth\"}],\"contourcarpet\":[{\"colorbar\":{\"outlinewidth\":0,\"ticks\":\"\"},\"type\":\"contourcarpet\"}],\"contour\":[{\"colorbar\":{\"outlinewidth\":0,\"ticks\":\"\"},\"colorscale\":[[0.0,\"#0d0887\"],[0.1111111111111111,\"#46039f\"],[0.2222222222222222,\"#7201a8\"],[0.3333333333333333,\"#9c179e\"],[0.4444444444444444,\"#bd3786\"],[0.5555555555555556,\"#d8576b\"],[0.6666666666666666,\"#ed7953\"],[0.7777777777777778,\"#fb9f3a\"],[0.8888888888888888,\"#fdca26\"],[1.0,\"#f0f921\"]],\"type\":\"contour\"}],\"heatmapgl\":[{\"colorbar\":{\"outlinewidth\":0,\"ticks\":\"\"},\"colorscale\":[[0.0,\"#0d0887\"],[0.1111111111111111,\"#46039f\"],[0.2222222222222222,\"#7201a8\"],[0.3333333333333333,\"#9c179e\"],[0.4444444444444444,\"#bd3786\"],[0.5555555555555556,\"#d8576b\"],[0.6666666666666666,\"#ed7953\"],[0.7777777777777778,\"#fb9f3a\"],[0.8888888888888888,\"#fdca26\"],[1.0,\"#f0f921\"]],\"type\":\"heatmapgl\"}],\"heatmap\":[{\"colorbar\":{\"outlinewidth\":0,\"ticks\":\"\"},\"colorscale\":[[0.0,\"#0d0887\"],[0.1111111111111111,\"#46039f\"],[0.2222222222222222,\"#7201a8\"],[0.3333333333333333,\"#9c179e\"],[0.4444444444444444,\"#bd3786\"],[0.5555555555555556,\"#d8576b\"],[0.6666666666666666,\"#ed7953\"],[0.7777777777777778,\"#fb9f3a\"],[0.8888888888888888,\"#fdca26\"],[1.0,\"#f0f921\"]],\"type\":\"heatmap\"}],\"histogram2dcontour\":[{\"colorbar\":{\"outlinewidth\":0,\"ticks\":\"\"},\"colorscale\":[[0.0,\"#0d0887\"],[0.1111111111111111,\"#46039f\"],[0.2222222222222222,\"#7201a8\"],[0.3333333333333333,\"#9c179e\"],[0.4444444444444444,\"#bd3786\"],[0.5555555555555556,\"#d8576b\"],[0.6666666666666666,\"#ed7953\"],[0.7777777777777778,\"#fb9f3a\"],[0.8888888888888888,\"#fdca26\"],[1.0,\"#f0f921\"]],\"type\":\"histogram2dcontour\"}],\"histogram2d\":[{\"colorbar\":{\"outlinewidth\":0,\"ticks\":\"\"},\"colorscale\":[[0.0,\"#0d0887\"],[0.1111111111111111,\"#46039f\"],[0.2222222222222222,\"#7201a8\"],[0.3333333333333333,\"#9c179e\"],[0.4444444444444444,\"#bd3786\"],[0.5555555555555556,\"#d8576b\"],[0.6666666666666666,\"#ed7953\"],[0.7777777777777778,\"#fb9f3a\"],[0.8888888888888888,\"#fdca26\"],[1.0,\"#f0f921\"]],\"type\":\"histogram2d\"}],\"histogram\":[{\"marker\":{\"pattern\":{\"fillmode\":\"overlay\",\"size\":10,\"solidity\":0.2}},\"type\":\"histogram\"}],\"mesh3d\":[{\"colorbar\":{\"outlinewidth\":0,\"ticks\":\"\"},\"type\":\"mesh3d\"}],\"parcoords\":[{\"line\":{\"colorbar\":{\"outlinewidth\":0,\"ticks\":\"\"}},\"type\":\"parcoords\"}],\"pie\":[{\"automargin\":true,\"type\":\"pie\"}],\"scatter3d\":[{\"line\":{\"colorbar\":{\"outlinewidth\":0,\"ticks\":\"\"}},\"marker\":{\"colorbar\":{\"outlinewidth\":0,\"ticks\":\"\"}},\"type\":\"scatter3d\"}],\"scattercarpet\":[{\"marker\":{\"colorbar\":{\"outlinewidth\":0,\"ticks\":\"\"}},\"type\":\"scattercarpet\"}],\"scattergeo\":[{\"marker\":{\"colorbar\":{\"outlinewidth\":0,\"ticks\":\"\"}},\"type\":\"scattergeo\"}],\"scattergl\":[{\"marker\":{\"colorbar\":{\"outlinewidth\":0,\"ticks\":\"\"}},\"type\":\"scattergl\"}],\"scattermapbox\":[{\"marker\":{\"colorbar\":{\"outlinewidth\":0,\"ticks\":\"\"}},\"type\":\"scattermapbox\"}],\"scatterpolargl\":[{\"marker\":{\"colorbar\":{\"outlinewidth\":0,\"ticks\":\"\"}},\"type\":\"scatterpolargl\"}],\"scatterpolar\":[{\"marker\":{\"colorbar\":{\"outlinewidth\":0,\"ticks\":\"\"}},\"type\":\"scatterpolar\"}],\"scatter\":[{\"fillpattern\":{\"fillmode\":\"overlay\",\"size\":10,\"solidity\":0.2},\"type\":\"scatter\"}],\"scatterternary\":[{\"marker\":{\"colorbar\":{\"outlinewidth\":0,\"ticks\":\"\"}},\"type\":\"scatterternary\"}],\"surface\":[{\"colorbar\":{\"outlinewidth\":0,\"ticks\":\"\"},\"colorscale\":[[0.0,\"#0d0887\"],[0.1111111111111111,\"#46039f\"],[0.2222222222222222,\"#7201a8\"],[0.3333333333333333,\"#9c179e\"],[0.4444444444444444,\"#bd3786\"],[0.5555555555555556,\"#d8576b\"],[0.6666666666666666,\"#ed7953\"],[0.7777777777777778,\"#fb9f3a\"],[0.8888888888888888,\"#fdca26\"],[1.0,\"#f0f921\"]],\"type\":\"surface\"}],\"table\":[{\"cells\":{\"fill\":{\"color\":\"#EBF0F8\"},\"line\":{\"color\":\"white\"}},\"header\":{\"fill\":{\"color\":\"#C8D4E3\"},\"line\":{\"color\":\"white\"}},\"type\":\"table\"}]},\"layout\":{\"annotationdefaults\":{\"arrowcolor\":\"#2a3f5f\",\"arrowhead\":0,\"arrowwidth\":1},\"autotypenumbers\":\"strict\",\"coloraxis\":{\"colorbar\":{\"outlinewidth\":0,\"ticks\":\"\"}},\"colorscale\":{\"diverging\":[[0,\"#8e0152\"],[0.1,\"#c51b7d\"],[0.2,\"#de77ae\"],[0.3,\"#f1b6da\"],[0.4,\"#fde0ef\"],[0.5,\"#f7f7f7\"],[0.6,\"#e6f5d0\"],[0.7,\"#b8e186\"],[0.8,\"#7fbc41\"],[0.9,\"#4d9221\"],[1,\"#276419\"]],\"sequential\":[[0.0,\"#0d0887\"],[0.1111111111111111,\"#46039f\"],[0.2222222222222222,\"#7201a8\"],[0.3333333333333333,\"#9c179e\"],[0.4444444444444444,\"#bd3786\"],[0.5555555555555556,\"#d8576b\"],[0.6666666666666666,\"#ed7953\"],[0.7777777777777778,\"#fb9f3a\"],[0.8888888888888888,\"#fdca26\"],[1.0,\"#f0f921\"]],\"sequentialminus\":[[0.0,\"#0d0887\"],[0.1111111111111111,\"#46039f\"],[0.2222222222222222,\"#7201a8\"],[0.3333333333333333,\"#9c179e\"],[0.4444444444444444,\"#bd3786\"],[0.5555555555555556,\"#d8576b\"],[0.6666666666666666,\"#ed7953\"],[0.7777777777777778,\"#fb9f3a\"],[0.8888888888888888,\"#fdca26\"],[1.0,\"#f0f921\"]]},\"colorway\":[\"#636efa\",\"#EF553B\",\"#00cc96\",\"#ab63fa\",\"#FFA15A\",\"#19d3f3\",\"#FF6692\",\"#B6E880\",\"#FF97FF\",\"#FECB52\"],\"font\":{\"color\":\"#2a3f5f\"},\"geo\":{\"bgcolor\":\"white\",\"lakecolor\":\"white\",\"landcolor\":\"#E5ECF6\",\"showlakes\":true,\"showland\":true,\"subunitcolor\":\"white\"},\"hoverlabel\":{\"align\":\"left\"},\"hovermode\":\"closest\",\"mapbox\":{\"style\":\"light\"},\"paper_bgcolor\":\"white\",\"plot_bgcolor\":\"#E5ECF6\",\"polar\":{\"angularaxis\":{\"gridcolor\":\"white\",\"linecolor\":\"white\",\"ticks\":\"\"},\"bgcolor\":\"#E5ECF6\",\"radialaxis\":{\"gridcolor\":\"white\",\"linecolor\":\"white\",\"ticks\":\"\"}},\"scene\":{\"xaxis\":{\"backgroundcolor\":\"#E5ECF6\",\"gridcolor\":\"white\",\"gridwidth\":2,\"linecolor\":\"white\",\"showbackground\":true,\"ticks\":\"\",\"zerolinecolor\":\"white\"},\"yaxis\":{\"backgroundcolor\":\"#E5ECF6\",\"gridcolor\":\"white\",\"gridwidth\":2,\"linecolor\":\"white\",\"showbackground\":true,\"ticks\":\"\",\"zerolinecolor\":\"white\"},\"zaxis\":{\"backgroundcolor\":\"#E5ECF6\",\"gridcolor\":\"white\",\"gridwidth\":2,\"linecolor\":\"white\",\"showbackground\":true,\"ticks\":\"\",\"zerolinecolor\":\"white\"}},\"shapedefaults\":{\"line\":{\"color\":\"#2a3f5f\"}},\"ternary\":{\"aaxis\":{\"gridcolor\":\"white\",\"linecolor\":\"white\",\"ticks\":\"\"},\"baxis\":{\"gridcolor\":\"white\",\"linecolor\":\"white\",\"ticks\":\"\"},\"bgcolor\":\"#E5ECF6\",\"caxis\":{\"gridcolor\":\"white\",\"linecolor\":\"white\",\"ticks\":\"\"}},\"title\":{\"x\":0.05},\"xaxis\":{\"automargin\":true,\"gridcolor\":\"white\",\"linecolor\":\"white\",\"ticks\":\"\",\"title\":{\"standoff\":15},\"zerolinecolor\":\"white\",\"zerolinewidth\":2},\"yaxis\":{\"automargin\":true,\"gridcolor\":\"white\",\"linecolor\":\"white\",\"ticks\":\"\",\"title\":{\"standoff\":15},\"zerolinecolor\":\"white\",\"zerolinewidth\":2}}},\"title\":{\"font\":{\"color\":\"#4D5663\"}},\"xaxis\":{\"gridcolor\":\"#E1E5ED\",\"showgrid\":true,\"tickfont\":{\"color\":\"#4D5663\"},\"title\":{\"font\":{\"color\":\"#4D5663\"},\"text\":\"\"},\"zerolinecolor\":\"#E1E5ED\"},\"yaxis\":{\"gridcolor\":\"#E1E5ED\",\"showgrid\":true,\"tickfont\":{\"color\":\"#4D5663\"},\"title\":{\"font\":{\"color\":\"#4D5663\"},\"text\":\"\"},\"zerolinecolor\":\"#E1E5ED\"}},                        {\"showLink\": true, \"linkText\": \"Export to plot.ly\", \"plotlyServerURL\": \"https://plot.ly\", \"responsive\": true}                    ).then(function(){\n",
       "                            \n",
       "var gd = document.getElementById('d937d83f-bf8f-4f26-ad70-77ec8b24d300');\n",
       "var x = new MutationObserver(function (mutations, observer) {{\n",
       "        var display = window.getComputedStyle(gd).display;\n",
       "        if (!display || display === 'none') {{\n",
       "            console.log([gd, 'removed!']);\n",
       "            Plotly.purge(gd);\n",
       "            observer.disconnect();\n",
       "        }}\n",
       "}});\n",
       "\n",
       "// Listen for the removal of the full notebook cells\n",
       "var notebookContainer = gd.closest('#notebook-container');\n",
       "if (notebookContainer) {{\n",
       "    x.observe(notebookContainer, {childList: true});\n",
       "}}\n",
       "\n",
       "// Listen for the clearing of the current output cell\n",
       "var outputEl = gd.closest('.output');\n",
       "if (outputEl) {{\n",
       "    x.observe(outputEl, {childList: true});\n",
       "}}\n",
       "\n",
       "                        })                };                });            </script>        </div>"
      ]
     },
     "metadata": {},
     "output_type": "display_data"
    }
   ],
   "source": [
    "df.iplot(kind='box')"
   ]
  },
  {
   "cell_type": "code",
   "execution_count": 30,
   "id": "5875a8d7",
   "metadata": {},
   "outputs": [],
   "source": [
    "df3 = pd.DataFrame({'x':[1,2,3,4,5], 'y':[10, 20, 30, 20, 10], 'z':[5,4,3,2,1]})"
   ]
  },
  {
   "cell_type": "code",
   "execution_count": 31,
   "id": "13d86179",
   "metadata": {
    "scrolled": false
   },
   "outputs": [
    {
     "data": {
      "application/vnd.plotly.v1+json": {
       "config": {
        "linkText": "Export to plot.ly",
        "plotlyServerURL": "https://plot.ly",
        "showLink": true
       },
       "data": [
        {
         "colorscale": [
          [
           0,
           "rgb(255, 153, 51)"
          ],
          [
           0.1111111111111111,
           "rgb(55, 128, 191)"
          ],
          [
           0.2222222222222222,
           "rgb(50, 171, 96)"
          ],
          [
           0.3333333333333333,
           "rgb(128, 0, 128)"
          ],
          [
           0.4444444444444444,
           "rgb(219, 64, 82)"
          ],
          [
           0.5555555555555556,
           "rgb(0, 128, 128)"
          ],
          [
           0.6666666666666666,
           "rgb(255, 255, 51)"
          ],
          [
           0.7777777777777778,
           "rgb(128, 128, 0)"
          ],
          [
           0.8888888888888888,
           "rgb(251, 128, 114)"
          ],
          [
           1,
           "rgb(128, 177, 211)"
          ]
         ],
         "type": "surface",
         "x": [
          0,
          1,
          2,
          3,
          4
         ],
         "y": [
          "x",
          "y",
          "z"
         ],
         "z": [
          [
           1,
           2,
           3,
           4,
           5
          ],
          [
           10,
           20,
           30,
           20,
           10
          ],
          [
           5,
           4,
           3,
           2,
           1
          ]
         ]
        }
       ],
       "layout": {
        "legend": {
         "bgcolor": "#F5F6F9",
         "font": {
          "color": "#4D5663"
         }
        },
        "paper_bgcolor": "#F5F6F9",
        "plot_bgcolor": "#F5F6F9",
        "template": {
         "data": {
          "bar": [
           {
            "error_x": {
             "color": "#2a3f5f"
            },
            "error_y": {
             "color": "#2a3f5f"
            },
            "marker": {
             "line": {
              "color": "#E5ECF6",
              "width": 0.5
             },
             "pattern": {
              "fillmode": "overlay",
              "size": 10,
              "solidity": 0.2
             }
            },
            "type": "bar"
           }
          ],
          "barpolar": [
           {
            "marker": {
             "line": {
              "color": "#E5ECF6",
              "width": 0.5
             },
             "pattern": {
              "fillmode": "overlay",
              "size": 10,
              "solidity": 0.2
             }
            },
            "type": "barpolar"
           }
          ],
          "carpet": [
           {
            "aaxis": {
             "endlinecolor": "#2a3f5f",
             "gridcolor": "white",
             "linecolor": "white",
             "minorgridcolor": "white",
             "startlinecolor": "#2a3f5f"
            },
            "baxis": {
             "endlinecolor": "#2a3f5f",
             "gridcolor": "white",
             "linecolor": "white",
             "minorgridcolor": "white",
             "startlinecolor": "#2a3f5f"
            },
            "type": "carpet"
           }
          ],
          "choropleth": [
           {
            "colorbar": {
             "outlinewidth": 0,
             "ticks": ""
            },
            "type": "choropleth"
           }
          ],
          "contour": [
           {
            "colorbar": {
             "outlinewidth": 0,
             "ticks": ""
            },
            "colorscale": [
             [
              0,
              "#0d0887"
             ],
             [
              0.1111111111111111,
              "#46039f"
             ],
             [
              0.2222222222222222,
              "#7201a8"
             ],
             [
              0.3333333333333333,
              "#9c179e"
             ],
             [
              0.4444444444444444,
              "#bd3786"
             ],
             [
              0.5555555555555556,
              "#d8576b"
             ],
             [
              0.6666666666666666,
              "#ed7953"
             ],
             [
              0.7777777777777778,
              "#fb9f3a"
             ],
             [
              0.8888888888888888,
              "#fdca26"
             ],
             [
              1,
              "#f0f921"
             ]
            ],
            "type": "contour"
           }
          ],
          "contourcarpet": [
           {
            "colorbar": {
             "outlinewidth": 0,
             "ticks": ""
            },
            "type": "contourcarpet"
           }
          ],
          "heatmap": [
           {
            "colorbar": {
             "outlinewidth": 0,
             "ticks": ""
            },
            "colorscale": [
             [
              0,
              "#0d0887"
             ],
             [
              0.1111111111111111,
              "#46039f"
             ],
             [
              0.2222222222222222,
              "#7201a8"
             ],
             [
              0.3333333333333333,
              "#9c179e"
             ],
             [
              0.4444444444444444,
              "#bd3786"
             ],
             [
              0.5555555555555556,
              "#d8576b"
             ],
             [
              0.6666666666666666,
              "#ed7953"
             ],
             [
              0.7777777777777778,
              "#fb9f3a"
             ],
             [
              0.8888888888888888,
              "#fdca26"
             ],
             [
              1,
              "#f0f921"
             ]
            ],
            "type": "heatmap"
           }
          ],
          "heatmapgl": [
           {
            "colorbar": {
             "outlinewidth": 0,
             "ticks": ""
            },
            "colorscale": [
             [
              0,
              "#0d0887"
             ],
             [
              0.1111111111111111,
              "#46039f"
             ],
             [
              0.2222222222222222,
              "#7201a8"
             ],
             [
              0.3333333333333333,
              "#9c179e"
             ],
             [
              0.4444444444444444,
              "#bd3786"
             ],
             [
              0.5555555555555556,
              "#d8576b"
             ],
             [
              0.6666666666666666,
              "#ed7953"
             ],
             [
              0.7777777777777778,
              "#fb9f3a"
             ],
             [
              0.8888888888888888,
              "#fdca26"
             ],
             [
              1,
              "#f0f921"
             ]
            ],
            "type": "heatmapgl"
           }
          ],
          "histogram": [
           {
            "marker": {
             "pattern": {
              "fillmode": "overlay",
              "size": 10,
              "solidity": 0.2
             }
            },
            "type": "histogram"
           }
          ],
          "histogram2d": [
           {
            "colorbar": {
             "outlinewidth": 0,
             "ticks": ""
            },
            "colorscale": [
             [
              0,
              "#0d0887"
             ],
             [
              0.1111111111111111,
              "#46039f"
             ],
             [
              0.2222222222222222,
              "#7201a8"
             ],
             [
              0.3333333333333333,
              "#9c179e"
             ],
             [
              0.4444444444444444,
              "#bd3786"
             ],
             [
              0.5555555555555556,
              "#d8576b"
             ],
             [
              0.6666666666666666,
              "#ed7953"
             ],
             [
              0.7777777777777778,
              "#fb9f3a"
             ],
             [
              0.8888888888888888,
              "#fdca26"
             ],
             [
              1,
              "#f0f921"
             ]
            ],
            "type": "histogram2d"
           }
          ],
          "histogram2dcontour": [
           {
            "colorbar": {
             "outlinewidth": 0,
             "ticks": ""
            },
            "colorscale": [
             [
              0,
              "#0d0887"
             ],
             [
              0.1111111111111111,
              "#46039f"
             ],
             [
              0.2222222222222222,
              "#7201a8"
             ],
             [
              0.3333333333333333,
              "#9c179e"
             ],
             [
              0.4444444444444444,
              "#bd3786"
             ],
             [
              0.5555555555555556,
              "#d8576b"
             ],
             [
              0.6666666666666666,
              "#ed7953"
             ],
             [
              0.7777777777777778,
              "#fb9f3a"
             ],
             [
              0.8888888888888888,
              "#fdca26"
             ],
             [
              1,
              "#f0f921"
             ]
            ],
            "type": "histogram2dcontour"
           }
          ],
          "mesh3d": [
           {
            "colorbar": {
             "outlinewidth": 0,
             "ticks": ""
            },
            "type": "mesh3d"
           }
          ],
          "parcoords": [
           {
            "line": {
             "colorbar": {
              "outlinewidth": 0,
              "ticks": ""
             }
            },
            "type": "parcoords"
           }
          ],
          "pie": [
           {
            "automargin": true,
            "type": "pie"
           }
          ],
          "scatter": [
           {
            "fillpattern": {
             "fillmode": "overlay",
             "size": 10,
             "solidity": 0.2
            },
            "type": "scatter"
           }
          ],
          "scatter3d": [
           {
            "line": {
             "colorbar": {
              "outlinewidth": 0,
              "ticks": ""
             }
            },
            "marker": {
             "colorbar": {
              "outlinewidth": 0,
              "ticks": ""
             }
            },
            "type": "scatter3d"
           }
          ],
          "scattercarpet": [
           {
            "marker": {
             "colorbar": {
              "outlinewidth": 0,
              "ticks": ""
             }
            },
            "type": "scattercarpet"
           }
          ],
          "scattergeo": [
           {
            "marker": {
             "colorbar": {
              "outlinewidth": 0,
              "ticks": ""
             }
            },
            "type": "scattergeo"
           }
          ],
          "scattergl": [
           {
            "marker": {
             "colorbar": {
              "outlinewidth": 0,
              "ticks": ""
             }
            },
            "type": "scattergl"
           }
          ],
          "scattermapbox": [
           {
            "marker": {
             "colorbar": {
              "outlinewidth": 0,
              "ticks": ""
             }
            },
            "type": "scattermapbox"
           }
          ],
          "scatterpolar": [
           {
            "marker": {
             "colorbar": {
              "outlinewidth": 0,
              "ticks": ""
             }
            },
            "type": "scatterpolar"
           }
          ],
          "scatterpolargl": [
           {
            "marker": {
             "colorbar": {
              "outlinewidth": 0,
              "ticks": ""
             }
            },
            "type": "scatterpolargl"
           }
          ],
          "scatterternary": [
           {
            "marker": {
             "colorbar": {
              "outlinewidth": 0,
              "ticks": ""
             }
            },
            "type": "scatterternary"
           }
          ],
          "surface": [
           {
            "colorbar": {
             "outlinewidth": 0,
             "ticks": ""
            },
            "colorscale": [
             [
              0,
              "#0d0887"
             ],
             [
              0.1111111111111111,
              "#46039f"
             ],
             [
              0.2222222222222222,
              "#7201a8"
             ],
             [
              0.3333333333333333,
              "#9c179e"
             ],
             [
              0.4444444444444444,
              "#bd3786"
             ],
             [
              0.5555555555555556,
              "#d8576b"
             ],
             [
              0.6666666666666666,
              "#ed7953"
             ],
             [
              0.7777777777777778,
              "#fb9f3a"
             ],
             [
              0.8888888888888888,
              "#fdca26"
             ],
             [
              1,
              "#f0f921"
             ]
            ],
            "type": "surface"
           }
          ],
          "table": [
           {
            "cells": {
             "fill": {
              "color": "#EBF0F8"
             },
             "line": {
              "color": "white"
             }
            },
            "header": {
             "fill": {
              "color": "#C8D4E3"
             },
             "line": {
              "color": "white"
             }
            },
            "type": "table"
           }
          ]
         },
         "layout": {
          "annotationdefaults": {
           "arrowcolor": "#2a3f5f",
           "arrowhead": 0,
           "arrowwidth": 1
          },
          "autotypenumbers": "strict",
          "coloraxis": {
           "colorbar": {
            "outlinewidth": 0,
            "ticks": ""
           }
          },
          "colorscale": {
           "diverging": [
            [
             0,
             "#8e0152"
            ],
            [
             0.1,
             "#c51b7d"
            ],
            [
             0.2,
             "#de77ae"
            ],
            [
             0.3,
             "#f1b6da"
            ],
            [
             0.4,
             "#fde0ef"
            ],
            [
             0.5,
             "#f7f7f7"
            ],
            [
             0.6,
             "#e6f5d0"
            ],
            [
             0.7,
             "#b8e186"
            ],
            [
             0.8,
             "#7fbc41"
            ],
            [
             0.9,
             "#4d9221"
            ],
            [
             1,
             "#276419"
            ]
           ],
           "sequential": [
            [
             0,
             "#0d0887"
            ],
            [
             0.1111111111111111,
             "#46039f"
            ],
            [
             0.2222222222222222,
             "#7201a8"
            ],
            [
             0.3333333333333333,
             "#9c179e"
            ],
            [
             0.4444444444444444,
             "#bd3786"
            ],
            [
             0.5555555555555556,
             "#d8576b"
            ],
            [
             0.6666666666666666,
             "#ed7953"
            ],
            [
             0.7777777777777778,
             "#fb9f3a"
            ],
            [
             0.8888888888888888,
             "#fdca26"
            ],
            [
             1,
             "#f0f921"
            ]
           ],
           "sequentialminus": [
            [
             0,
             "#0d0887"
            ],
            [
             0.1111111111111111,
             "#46039f"
            ],
            [
             0.2222222222222222,
             "#7201a8"
            ],
            [
             0.3333333333333333,
             "#9c179e"
            ],
            [
             0.4444444444444444,
             "#bd3786"
            ],
            [
             0.5555555555555556,
             "#d8576b"
            ],
            [
             0.6666666666666666,
             "#ed7953"
            ],
            [
             0.7777777777777778,
             "#fb9f3a"
            ],
            [
             0.8888888888888888,
             "#fdca26"
            ],
            [
             1,
             "#f0f921"
            ]
           ]
          },
          "colorway": [
           "#636efa",
           "#EF553B",
           "#00cc96",
           "#ab63fa",
           "#FFA15A",
           "#19d3f3",
           "#FF6692",
           "#B6E880",
           "#FF97FF",
           "#FECB52"
          ],
          "font": {
           "color": "#2a3f5f"
          },
          "geo": {
           "bgcolor": "white",
           "lakecolor": "white",
           "landcolor": "#E5ECF6",
           "showlakes": true,
           "showland": true,
           "subunitcolor": "white"
          },
          "hoverlabel": {
           "align": "left"
          },
          "hovermode": "closest",
          "mapbox": {
           "style": "light"
          },
          "paper_bgcolor": "white",
          "plot_bgcolor": "#E5ECF6",
          "polar": {
           "angularaxis": {
            "gridcolor": "white",
            "linecolor": "white",
            "ticks": ""
           },
           "bgcolor": "#E5ECF6",
           "radialaxis": {
            "gridcolor": "white",
            "linecolor": "white",
            "ticks": ""
           }
          },
          "scene": {
           "xaxis": {
            "backgroundcolor": "#E5ECF6",
            "gridcolor": "white",
            "gridwidth": 2,
            "linecolor": "white",
            "showbackground": true,
            "ticks": "",
            "zerolinecolor": "white"
           },
           "yaxis": {
            "backgroundcolor": "#E5ECF6",
            "gridcolor": "white",
            "gridwidth": 2,
            "linecolor": "white",
            "showbackground": true,
            "ticks": "",
            "zerolinecolor": "white"
           },
           "zaxis": {
            "backgroundcolor": "#E5ECF6",
            "gridcolor": "white",
            "gridwidth": 2,
            "linecolor": "white",
            "showbackground": true,
            "ticks": "",
            "zerolinecolor": "white"
           }
          },
          "shapedefaults": {
           "line": {
            "color": "#2a3f5f"
           }
          },
          "ternary": {
           "aaxis": {
            "gridcolor": "white",
            "linecolor": "white",
            "ticks": ""
           },
           "baxis": {
            "gridcolor": "white",
            "linecolor": "white",
            "ticks": ""
           },
           "bgcolor": "#E5ECF6",
           "caxis": {
            "gridcolor": "white",
            "linecolor": "white",
            "ticks": ""
           }
          },
          "title": {
           "x": 0.05
          },
          "xaxis": {
           "automargin": true,
           "gridcolor": "white",
           "linecolor": "white",
           "ticks": "",
           "title": {
            "standoff": 15
           },
           "zerolinecolor": "white",
           "zerolinewidth": 2
          },
          "yaxis": {
           "automargin": true,
           "gridcolor": "white",
           "linecolor": "white",
           "ticks": "",
           "title": {
            "standoff": 15
           },
           "zerolinecolor": "white",
           "zerolinewidth": 2
          }
         }
        },
        "title": {
         "font": {
          "color": "#4D5663"
         }
        },
        "xaxis": {
         "gridcolor": "#E1E5ED",
         "showgrid": true,
         "tickfont": {
          "color": "#4D5663"
         },
         "title": {
          "font": {
           "color": "#4D5663"
          },
          "text": ""
         },
         "zerolinecolor": "#E1E5ED"
        },
        "yaxis": {
         "gridcolor": "#E1E5ED",
         "showgrid": true,
         "tickfont": {
          "color": "#4D5663"
         },
         "title": {
          "font": {
           "color": "#4D5663"
          },
          "text": ""
         },
         "zerolinecolor": "#E1E5ED"
        }
       }
      },
      "text/html": [
       "<div>                            <div id=\"db3e0712-8245-4003-9974-94bda898ef1f\" class=\"plotly-graph-div\" style=\"height:525px; width:100%;\"></div>            <script type=\"text/javascript\">                require([\"plotly\"], function(Plotly) {                    window.PLOTLYENV=window.PLOTLYENV || {};\n",
       "                    window.PLOTLYENV.BASE_URL='https://plot.ly';                                    if (document.getElementById(\"db3e0712-8245-4003-9974-94bda898ef1f\")) {                    Plotly.newPlot(                        \"db3e0712-8245-4003-9974-94bda898ef1f\",                        [{\"colorscale\":[[0.0,\"rgb(255, 153, 51)\"],[0.1111111111111111,\"rgb(55, 128, 191)\"],[0.2222222222222222,\"rgb(50, 171, 96)\"],[0.3333333333333333,\"rgb(128, 0, 128)\"],[0.4444444444444444,\"rgb(219, 64, 82)\"],[0.5555555555555556,\"rgb(0, 128, 128)\"],[0.6666666666666666,\"rgb(255, 255, 51)\"],[0.7777777777777778,\"rgb(128, 128, 0)\"],[0.8888888888888888,\"rgb(251, 128, 114)\"],[1.0,\"rgb(128, 177, 211)\"]],\"x\":[0,1,2,3,4],\"y\":[\"x\",\"y\",\"z\"],\"z\":[[1,2,3,4,5],[10,20,30,20,10],[5,4,3,2,1]],\"type\":\"surface\"}],                        {\"legend\":{\"bgcolor\":\"#F5F6F9\",\"font\":{\"color\":\"#4D5663\"}},\"paper_bgcolor\":\"#F5F6F9\",\"plot_bgcolor\":\"#F5F6F9\",\"template\":{\"data\":{\"barpolar\":[{\"marker\":{\"line\":{\"color\":\"#E5ECF6\",\"width\":0.5},\"pattern\":{\"fillmode\":\"overlay\",\"size\":10,\"solidity\":0.2}},\"type\":\"barpolar\"}],\"bar\":[{\"error_x\":{\"color\":\"#2a3f5f\"},\"error_y\":{\"color\":\"#2a3f5f\"},\"marker\":{\"line\":{\"color\":\"#E5ECF6\",\"width\":0.5},\"pattern\":{\"fillmode\":\"overlay\",\"size\":10,\"solidity\":0.2}},\"type\":\"bar\"}],\"carpet\":[{\"aaxis\":{\"endlinecolor\":\"#2a3f5f\",\"gridcolor\":\"white\",\"linecolor\":\"white\",\"minorgridcolor\":\"white\",\"startlinecolor\":\"#2a3f5f\"},\"baxis\":{\"endlinecolor\":\"#2a3f5f\",\"gridcolor\":\"white\",\"linecolor\":\"white\",\"minorgridcolor\":\"white\",\"startlinecolor\":\"#2a3f5f\"},\"type\":\"carpet\"}],\"choropleth\":[{\"colorbar\":{\"outlinewidth\":0,\"ticks\":\"\"},\"type\":\"choropleth\"}],\"contourcarpet\":[{\"colorbar\":{\"outlinewidth\":0,\"ticks\":\"\"},\"type\":\"contourcarpet\"}],\"contour\":[{\"colorbar\":{\"outlinewidth\":0,\"ticks\":\"\"},\"colorscale\":[[0.0,\"#0d0887\"],[0.1111111111111111,\"#46039f\"],[0.2222222222222222,\"#7201a8\"],[0.3333333333333333,\"#9c179e\"],[0.4444444444444444,\"#bd3786\"],[0.5555555555555556,\"#d8576b\"],[0.6666666666666666,\"#ed7953\"],[0.7777777777777778,\"#fb9f3a\"],[0.8888888888888888,\"#fdca26\"],[1.0,\"#f0f921\"]],\"type\":\"contour\"}],\"heatmapgl\":[{\"colorbar\":{\"outlinewidth\":0,\"ticks\":\"\"},\"colorscale\":[[0.0,\"#0d0887\"],[0.1111111111111111,\"#46039f\"],[0.2222222222222222,\"#7201a8\"],[0.3333333333333333,\"#9c179e\"],[0.4444444444444444,\"#bd3786\"],[0.5555555555555556,\"#d8576b\"],[0.6666666666666666,\"#ed7953\"],[0.7777777777777778,\"#fb9f3a\"],[0.8888888888888888,\"#fdca26\"],[1.0,\"#f0f921\"]],\"type\":\"heatmapgl\"}],\"heatmap\":[{\"colorbar\":{\"outlinewidth\":0,\"ticks\":\"\"},\"colorscale\":[[0.0,\"#0d0887\"],[0.1111111111111111,\"#46039f\"],[0.2222222222222222,\"#7201a8\"],[0.3333333333333333,\"#9c179e\"],[0.4444444444444444,\"#bd3786\"],[0.5555555555555556,\"#d8576b\"],[0.6666666666666666,\"#ed7953\"],[0.7777777777777778,\"#fb9f3a\"],[0.8888888888888888,\"#fdca26\"],[1.0,\"#f0f921\"]],\"type\":\"heatmap\"}],\"histogram2dcontour\":[{\"colorbar\":{\"outlinewidth\":0,\"ticks\":\"\"},\"colorscale\":[[0.0,\"#0d0887\"],[0.1111111111111111,\"#46039f\"],[0.2222222222222222,\"#7201a8\"],[0.3333333333333333,\"#9c179e\"],[0.4444444444444444,\"#bd3786\"],[0.5555555555555556,\"#d8576b\"],[0.6666666666666666,\"#ed7953\"],[0.7777777777777778,\"#fb9f3a\"],[0.8888888888888888,\"#fdca26\"],[1.0,\"#f0f921\"]],\"type\":\"histogram2dcontour\"}],\"histogram2d\":[{\"colorbar\":{\"outlinewidth\":0,\"ticks\":\"\"},\"colorscale\":[[0.0,\"#0d0887\"],[0.1111111111111111,\"#46039f\"],[0.2222222222222222,\"#7201a8\"],[0.3333333333333333,\"#9c179e\"],[0.4444444444444444,\"#bd3786\"],[0.5555555555555556,\"#d8576b\"],[0.6666666666666666,\"#ed7953\"],[0.7777777777777778,\"#fb9f3a\"],[0.8888888888888888,\"#fdca26\"],[1.0,\"#f0f921\"]],\"type\":\"histogram2d\"}],\"histogram\":[{\"marker\":{\"pattern\":{\"fillmode\":\"overlay\",\"size\":10,\"solidity\":0.2}},\"type\":\"histogram\"}],\"mesh3d\":[{\"colorbar\":{\"outlinewidth\":0,\"ticks\":\"\"},\"type\":\"mesh3d\"}],\"parcoords\":[{\"line\":{\"colorbar\":{\"outlinewidth\":0,\"ticks\":\"\"}},\"type\":\"parcoords\"}],\"pie\":[{\"automargin\":true,\"type\":\"pie\"}],\"scatter3d\":[{\"line\":{\"colorbar\":{\"outlinewidth\":0,\"ticks\":\"\"}},\"marker\":{\"colorbar\":{\"outlinewidth\":0,\"ticks\":\"\"}},\"type\":\"scatter3d\"}],\"scattercarpet\":[{\"marker\":{\"colorbar\":{\"outlinewidth\":0,\"ticks\":\"\"}},\"type\":\"scattercarpet\"}],\"scattergeo\":[{\"marker\":{\"colorbar\":{\"outlinewidth\":0,\"ticks\":\"\"}},\"type\":\"scattergeo\"}],\"scattergl\":[{\"marker\":{\"colorbar\":{\"outlinewidth\":0,\"ticks\":\"\"}},\"type\":\"scattergl\"}],\"scattermapbox\":[{\"marker\":{\"colorbar\":{\"outlinewidth\":0,\"ticks\":\"\"}},\"type\":\"scattermapbox\"}],\"scatterpolargl\":[{\"marker\":{\"colorbar\":{\"outlinewidth\":0,\"ticks\":\"\"}},\"type\":\"scatterpolargl\"}],\"scatterpolar\":[{\"marker\":{\"colorbar\":{\"outlinewidth\":0,\"ticks\":\"\"}},\"type\":\"scatterpolar\"}],\"scatter\":[{\"fillpattern\":{\"fillmode\":\"overlay\",\"size\":10,\"solidity\":0.2},\"type\":\"scatter\"}],\"scatterternary\":[{\"marker\":{\"colorbar\":{\"outlinewidth\":0,\"ticks\":\"\"}},\"type\":\"scatterternary\"}],\"surface\":[{\"colorbar\":{\"outlinewidth\":0,\"ticks\":\"\"},\"colorscale\":[[0.0,\"#0d0887\"],[0.1111111111111111,\"#46039f\"],[0.2222222222222222,\"#7201a8\"],[0.3333333333333333,\"#9c179e\"],[0.4444444444444444,\"#bd3786\"],[0.5555555555555556,\"#d8576b\"],[0.6666666666666666,\"#ed7953\"],[0.7777777777777778,\"#fb9f3a\"],[0.8888888888888888,\"#fdca26\"],[1.0,\"#f0f921\"]],\"type\":\"surface\"}],\"table\":[{\"cells\":{\"fill\":{\"color\":\"#EBF0F8\"},\"line\":{\"color\":\"white\"}},\"header\":{\"fill\":{\"color\":\"#C8D4E3\"},\"line\":{\"color\":\"white\"}},\"type\":\"table\"}]},\"layout\":{\"annotationdefaults\":{\"arrowcolor\":\"#2a3f5f\",\"arrowhead\":0,\"arrowwidth\":1},\"autotypenumbers\":\"strict\",\"coloraxis\":{\"colorbar\":{\"outlinewidth\":0,\"ticks\":\"\"}},\"colorscale\":{\"diverging\":[[0,\"#8e0152\"],[0.1,\"#c51b7d\"],[0.2,\"#de77ae\"],[0.3,\"#f1b6da\"],[0.4,\"#fde0ef\"],[0.5,\"#f7f7f7\"],[0.6,\"#e6f5d0\"],[0.7,\"#b8e186\"],[0.8,\"#7fbc41\"],[0.9,\"#4d9221\"],[1,\"#276419\"]],\"sequential\":[[0.0,\"#0d0887\"],[0.1111111111111111,\"#46039f\"],[0.2222222222222222,\"#7201a8\"],[0.3333333333333333,\"#9c179e\"],[0.4444444444444444,\"#bd3786\"],[0.5555555555555556,\"#d8576b\"],[0.6666666666666666,\"#ed7953\"],[0.7777777777777778,\"#fb9f3a\"],[0.8888888888888888,\"#fdca26\"],[1.0,\"#f0f921\"]],\"sequentialminus\":[[0.0,\"#0d0887\"],[0.1111111111111111,\"#46039f\"],[0.2222222222222222,\"#7201a8\"],[0.3333333333333333,\"#9c179e\"],[0.4444444444444444,\"#bd3786\"],[0.5555555555555556,\"#d8576b\"],[0.6666666666666666,\"#ed7953\"],[0.7777777777777778,\"#fb9f3a\"],[0.8888888888888888,\"#fdca26\"],[1.0,\"#f0f921\"]]},\"colorway\":[\"#636efa\",\"#EF553B\",\"#00cc96\",\"#ab63fa\",\"#FFA15A\",\"#19d3f3\",\"#FF6692\",\"#B6E880\",\"#FF97FF\",\"#FECB52\"],\"font\":{\"color\":\"#2a3f5f\"},\"geo\":{\"bgcolor\":\"white\",\"lakecolor\":\"white\",\"landcolor\":\"#E5ECF6\",\"showlakes\":true,\"showland\":true,\"subunitcolor\":\"white\"},\"hoverlabel\":{\"align\":\"left\"},\"hovermode\":\"closest\",\"mapbox\":{\"style\":\"light\"},\"paper_bgcolor\":\"white\",\"plot_bgcolor\":\"#E5ECF6\",\"polar\":{\"angularaxis\":{\"gridcolor\":\"white\",\"linecolor\":\"white\",\"ticks\":\"\"},\"bgcolor\":\"#E5ECF6\",\"radialaxis\":{\"gridcolor\":\"white\",\"linecolor\":\"white\",\"ticks\":\"\"}},\"scene\":{\"xaxis\":{\"backgroundcolor\":\"#E5ECF6\",\"gridcolor\":\"white\",\"gridwidth\":2,\"linecolor\":\"white\",\"showbackground\":true,\"ticks\":\"\",\"zerolinecolor\":\"white\"},\"yaxis\":{\"backgroundcolor\":\"#E5ECF6\",\"gridcolor\":\"white\",\"gridwidth\":2,\"linecolor\":\"white\",\"showbackground\":true,\"ticks\":\"\",\"zerolinecolor\":\"white\"},\"zaxis\":{\"backgroundcolor\":\"#E5ECF6\",\"gridcolor\":\"white\",\"gridwidth\":2,\"linecolor\":\"white\",\"showbackground\":true,\"ticks\":\"\",\"zerolinecolor\":\"white\"}},\"shapedefaults\":{\"line\":{\"color\":\"#2a3f5f\"}},\"ternary\":{\"aaxis\":{\"gridcolor\":\"white\",\"linecolor\":\"white\",\"ticks\":\"\"},\"baxis\":{\"gridcolor\":\"white\",\"linecolor\":\"white\",\"ticks\":\"\"},\"bgcolor\":\"#E5ECF6\",\"caxis\":{\"gridcolor\":\"white\",\"linecolor\":\"white\",\"ticks\":\"\"}},\"title\":{\"x\":0.05},\"xaxis\":{\"automargin\":true,\"gridcolor\":\"white\",\"linecolor\":\"white\",\"ticks\":\"\",\"title\":{\"standoff\":15},\"zerolinecolor\":\"white\",\"zerolinewidth\":2},\"yaxis\":{\"automargin\":true,\"gridcolor\":\"white\",\"linecolor\":\"white\",\"ticks\":\"\",\"title\":{\"standoff\":15},\"zerolinecolor\":\"white\",\"zerolinewidth\":2}}},\"title\":{\"font\":{\"color\":\"#4D5663\"}},\"xaxis\":{\"gridcolor\":\"#E1E5ED\",\"showgrid\":true,\"tickfont\":{\"color\":\"#4D5663\"},\"title\":{\"font\":{\"color\":\"#4D5663\"},\"text\":\"\"},\"zerolinecolor\":\"#E1E5ED\"},\"yaxis\":{\"gridcolor\":\"#E1E5ED\",\"showgrid\":true,\"tickfont\":{\"color\":\"#4D5663\"},\"title\":{\"font\":{\"color\":\"#4D5663\"},\"text\":\"\"},\"zerolinecolor\":\"#E1E5ED\"}},                        {\"showLink\": true, \"linkText\": \"Export to plot.ly\", \"plotlyServerURL\": \"https://plot.ly\", \"responsive\": true}                    ).then(function(){\n",
       "                            \n",
       "var gd = document.getElementById('db3e0712-8245-4003-9974-94bda898ef1f');\n",
       "var x = new MutationObserver(function (mutations, observer) {{\n",
       "        var display = window.getComputedStyle(gd).display;\n",
       "        if (!display || display === 'none') {{\n",
       "            console.log([gd, 'removed!']);\n",
       "            Plotly.purge(gd);\n",
       "            observer.disconnect();\n",
       "        }}\n",
       "}});\n",
       "\n",
       "// Listen for the removal of the full notebook cells\n",
       "var notebookContainer = gd.closest('#notebook-container');\n",
       "if (notebookContainer) {{\n",
       "    x.observe(notebookContainer, {childList: true});\n",
       "}}\n",
       "\n",
       "// Listen for the clearing of the current output cell\n",
       "var outputEl = gd.closest('.output');\n",
       "if (outputEl) {{\n",
       "    x.observe(outputEl, {childList: true});\n",
       "}}\n",
       "\n",
       "                        })                };                });            </script>        </div>"
      ]
     },
     "metadata": {},
     "output_type": "display_data"
    }
   ],
   "source": [
    "df3.iplot(kind='surface')"
   ]
  },
  {
   "cell_type": "code",
   "execution_count": 32,
   "id": "69763417",
   "metadata": {},
   "outputs": [
    {
     "data": {
      "application/vnd.plotly.v1+json": {
       "config": {
        "linkText": "Export to plot.ly",
        "plotlyServerURL": "https://plot.ly",
        "showLink": true
       },
       "data": [
        {
         "colorscale": [
          [
           0,
           "rgb(165,0,38)"
          ],
          [
           0.1,
           "rgb(215,48,39)"
          ],
          [
           0.2,
           "rgb(244,109,67)"
          ],
          [
           0.3,
           "rgb(253,174,97)"
          ],
          [
           0.4,
           "rgb(254,224,144)"
          ],
          [
           0.5,
           "rgb(255,255,191)"
          ],
          [
           0.6,
           "rgb(224,243,248)"
          ],
          [
           0.7,
           "rgb(171,217,233)"
          ],
          [
           0.8,
           "rgb(116,173,209)"
          ],
          [
           0.9,
           "rgb(69,117,180)"
          ],
          [
           1,
           "rgb(49,54,149)"
          ]
         ],
         "type": "surface",
         "x": [
          0,
          1,
          2,
          3,
          4
         ],
         "y": [
          "x",
          "y",
          "z"
         ],
         "z": [
          [
           1,
           2,
           3,
           4,
           5
          ],
          [
           10,
           20,
           30,
           20,
           10
          ],
          [
           5,
           4,
           3,
           2,
           1
          ]
         ]
        }
       ],
       "layout": {
        "legend": {
         "bgcolor": "#F5F6F9",
         "font": {
          "color": "#4D5663"
         }
        },
        "paper_bgcolor": "#F5F6F9",
        "plot_bgcolor": "#F5F6F9",
        "template": {
         "data": {
          "bar": [
           {
            "error_x": {
             "color": "#2a3f5f"
            },
            "error_y": {
             "color": "#2a3f5f"
            },
            "marker": {
             "line": {
              "color": "#E5ECF6",
              "width": 0.5
             },
             "pattern": {
              "fillmode": "overlay",
              "size": 10,
              "solidity": 0.2
             }
            },
            "type": "bar"
           }
          ],
          "barpolar": [
           {
            "marker": {
             "line": {
              "color": "#E5ECF6",
              "width": 0.5
             },
             "pattern": {
              "fillmode": "overlay",
              "size": 10,
              "solidity": 0.2
             }
            },
            "type": "barpolar"
           }
          ],
          "carpet": [
           {
            "aaxis": {
             "endlinecolor": "#2a3f5f",
             "gridcolor": "white",
             "linecolor": "white",
             "minorgridcolor": "white",
             "startlinecolor": "#2a3f5f"
            },
            "baxis": {
             "endlinecolor": "#2a3f5f",
             "gridcolor": "white",
             "linecolor": "white",
             "minorgridcolor": "white",
             "startlinecolor": "#2a3f5f"
            },
            "type": "carpet"
           }
          ],
          "choropleth": [
           {
            "colorbar": {
             "outlinewidth": 0,
             "ticks": ""
            },
            "type": "choropleth"
           }
          ],
          "contour": [
           {
            "colorbar": {
             "outlinewidth": 0,
             "ticks": ""
            },
            "colorscale": [
             [
              0,
              "#0d0887"
             ],
             [
              0.1111111111111111,
              "#46039f"
             ],
             [
              0.2222222222222222,
              "#7201a8"
             ],
             [
              0.3333333333333333,
              "#9c179e"
             ],
             [
              0.4444444444444444,
              "#bd3786"
             ],
             [
              0.5555555555555556,
              "#d8576b"
             ],
             [
              0.6666666666666666,
              "#ed7953"
             ],
             [
              0.7777777777777778,
              "#fb9f3a"
             ],
             [
              0.8888888888888888,
              "#fdca26"
             ],
             [
              1,
              "#f0f921"
             ]
            ],
            "type": "contour"
           }
          ],
          "contourcarpet": [
           {
            "colorbar": {
             "outlinewidth": 0,
             "ticks": ""
            },
            "type": "contourcarpet"
           }
          ],
          "heatmap": [
           {
            "colorbar": {
             "outlinewidth": 0,
             "ticks": ""
            },
            "colorscale": [
             [
              0,
              "#0d0887"
             ],
             [
              0.1111111111111111,
              "#46039f"
             ],
             [
              0.2222222222222222,
              "#7201a8"
             ],
             [
              0.3333333333333333,
              "#9c179e"
             ],
             [
              0.4444444444444444,
              "#bd3786"
             ],
             [
              0.5555555555555556,
              "#d8576b"
             ],
             [
              0.6666666666666666,
              "#ed7953"
             ],
             [
              0.7777777777777778,
              "#fb9f3a"
             ],
             [
              0.8888888888888888,
              "#fdca26"
             ],
             [
              1,
              "#f0f921"
             ]
            ],
            "type": "heatmap"
           }
          ],
          "heatmapgl": [
           {
            "colorbar": {
             "outlinewidth": 0,
             "ticks": ""
            },
            "colorscale": [
             [
              0,
              "#0d0887"
             ],
             [
              0.1111111111111111,
              "#46039f"
             ],
             [
              0.2222222222222222,
              "#7201a8"
             ],
             [
              0.3333333333333333,
              "#9c179e"
             ],
             [
              0.4444444444444444,
              "#bd3786"
             ],
             [
              0.5555555555555556,
              "#d8576b"
             ],
             [
              0.6666666666666666,
              "#ed7953"
             ],
             [
              0.7777777777777778,
              "#fb9f3a"
             ],
             [
              0.8888888888888888,
              "#fdca26"
             ],
             [
              1,
              "#f0f921"
             ]
            ],
            "type": "heatmapgl"
           }
          ],
          "histogram": [
           {
            "marker": {
             "pattern": {
              "fillmode": "overlay",
              "size": 10,
              "solidity": 0.2
             }
            },
            "type": "histogram"
           }
          ],
          "histogram2d": [
           {
            "colorbar": {
             "outlinewidth": 0,
             "ticks": ""
            },
            "colorscale": [
             [
              0,
              "#0d0887"
             ],
             [
              0.1111111111111111,
              "#46039f"
             ],
             [
              0.2222222222222222,
              "#7201a8"
             ],
             [
              0.3333333333333333,
              "#9c179e"
             ],
             [
              0.4444444444444444,
              "#bd3786"
             ],
             [
              0.5555555555555556,
              "#d8576b"
             ],
             [
              0.6666666666666666,
              "#ed7953"
             ],
             [
              0.7777777777777778,
              "#fb9f3a"
             ],
             [
              0.8888888888888888,
              "#fdca26"
             ],
             [
              1,
              "#f0f921"
             ]
            ],
            "type": "histogram2d"
           }
          ],
          "histogram2dcontour": [
           {
            "colorbar": {
             "outlinewidth": 0,
             "ticks": ""
            },
            "colorscale": [
             [
              0,
              "#0d0887"
             ],
             [
              0.1111111111111111,
              "#46039f"
             ],
             [
              0.2222222222222222,
              "#7201a8"
             ],
             [
              0.3333333333333333,
              "#9c179e"
             ],
             [
              0.4444444444444444,
              "#bd3786"
             ],
             [
              0.5555555555555556,
              "#d8576b"
             ],
             [
              0.6666666666666666,
              "#ed7953"
             ],
             [
              0.7777777777777778,
              "#fb9f3a"
             ],
             [
              0.8888888888888888,
              "#fdca26"
             ],
             [
              1,
              "#f0f921"
             ]
            ],
            "type": "histogram2dcontour"
           }
          ],
          "mesh3d": [
           {
            "colorbar": {
             "outlinewidth": 0,
             "ticks": ""
            },
            "type": "mesh3d"
           }
          ],
          "parcoords": [
           {
            "line": {
             "colorbar": {
              "outlinewidth": 0,
              "ticks": ""
             }
            },
            "type": "parcoords"
           }
          ],
          "pie": [
           {
            "automargin": true,
            "type": "pie"
           }
          ],
          "scatter": [
           {
            "fillpattern": {
             "fillmode": "overlay",
             "size": 10,
             "solidity": 0.2
            },
            "type": "scatter"
           }
          ],
          "scatter3d": [
           {
            "line": {
             "colorbar": {
              "outlinewidth": 0,
              "ticks": ""
             }
            },
            "marker": {
             "colorbar": {
              "outlinewidth": 0,
              "ticks": ""
             }
            },
            "type": "scatter3d"
           }
          ],
          "scattercarpet": [
           {
            "marker": {
             "colorbar": {
              "outlinewidth": 0,
              "ticks": ""
             }
            },
            "type": "scattercarpet"
           }
          ],
          "scattergeo": [
           {
            "marker": {
             "colorbar": {
              "outlinewidth": 0,
              "ticks": ""
             }
            },
            "type": "scattergeo"
           }
          ],
          "scattergl": [
           {
            "marker": {
             "colorbar": {
              "outlinewidth": 0,
              "ticks": ""
             }
            },
            "type": "scattergl"
           }
          ],
          "scattermapbox": [
           {
            "marker": {
             "colorbar": {
              "outlinewidth": 0,
              "ticks": ""
             }
            },
            "type": "scattermapbox"
           }
          ],
          "scatterpolar": [
           {
            "marker": {
             "colorbar": {
              "outlinewidth": 0,
              "ticks": ""
             }
            },
            "type": "scatterpolar"
           }
          ],
          "scatterpolargl": [
           {
            "marker": {
             "colorbar": {
              "outlinewidth": 0,
              "ticks": ""
             }
            },
            "type": "scatterpolargl"
           }
          ],
          "scatterternary": [
           {
            "marker": {
             "colorbar": {
              "outlinewidth": 0,
              "ticks": ""
             }
            },
            "type": "scatterternary"
           }
          ],
          "surface": [
           {
            "colorbar": {
             "outlinewidth": 0,
             "ticks": ""
            },
            "colorscale": [
             [
              0,
              "#0d0887"
             ],
             [
              0.1111111111111111,
              "#46039f"
             ],
             [
              0.2222222222222222,
              "#7201a8"
             ],
             [
              0.3333333333333333,
              "#9c179e"
             ],
             [
              0.4444444444444444,
              "#bd3786"
             ],
             [
              0.5555555555555556,
              "#d8576b"
             ],
             [
              0.6666666666666666,
              "#ed7953"
             ],
             [
              0.7777777777777778,
              "#fb9f3a"
             ],
             [
              0.8888888888888888,
              "#fdca26"
             ],
             [
              1,
              "#f0f921"
             ]
            ],
            "type": "surface"
           }
          ],
          "table": [
           {
            "cells": {
             "fill": {
              "color": "#EBF0F8"
             },
             "line": {
              "color": "white"
             }
            },
            "header": {
             "fill": {
              "color": "#C8D4E3"
             },
             "line": {
              "color": "white"
             }
            },
            "type": "table"
           }
          ]
         },
         "layout": {
          "annotationdefaults": {
           "arrowcolor": "#2a3f5f",
           "arrowhead": 0,
           "arrowwidth": 1
          },
          "autotypenumbers": "strict",
          "coloraxis": {
           "colorbar": {
            "outlinewidth": 0,
            "ticks": ""
           }
          },
          "colorscale": {
           "diverging": [
            [
             0,
             "#8e0152"
            ],
            [
             0.1,
             "#c51b7d"
            ],
            [
             0.2,
             "#de77ae"
            ],
            [
             0.3,
             "#f1b6da"
            ],
            [
             0.4,
             "#fde0ef"
            ],
            [
             0.5,
             "#f7f7f7"
            ],
            [
             0.6,
             "#e6f5d0"
            ],
            [
             0.7,
             "#b8e186"
            ],
            [
             0.8,
             "#7fbc41"
            ],
            [
             0.9,
             "#4d9221"
            ],
            [
             1,
             "#276419"
            ]
           ],
           "sequential": [
            [
             0,
             "#0d0887"
            ],
            [
             0.1111111111111111,
             "#46039f"
            ],
            [
             0.2222222222222222,
             "#7201a8"
            ],
            [
             0.3333333333333333,
             "#9c179e"
            ],
            [
             0.4444444444444444,
             "#bd3786"
            ],
            [
             0.5555555555555556,
             "#d8576b"
            ],
            [
             0.6666666666666666,
             "#ed7953"
            ],
            [
             0.7777777777777778,
             "#fb9f3a"
            ],
            [
             0.8888888888888888,
             "#fdca26"
            ],
            [
             1,
             "#f0f921"
            ]
           ],
           "sequentialminus": [
            [
             0,
             "#0d0887"
            ],
            [
             0.1111111111111111,
             "#46039f"
            ],
            [
             0.2222222222222222,
             "#7201a8"
            ],
            [
             0.3333333333333333,
             "#9c179e"
            ],
            [
             0.4444444444444444,
             "#bd3786"
            ],
            [
             0.5555555555555556,
             "#d8576b"
            ],
            [
             0.6666666666666666,
             "#ed7953"
            ],
            [
             0.7777777777777778,
             "#fb9f3a"
            ],
            [
             0.8888888888888888,
             "#fdca26"
            ],
            [
             1,
             "#f0f921"
            ]
           ]
          },
          "colorway": [
           "#636efa",
           "#EF553B",
           "#00cc96",
           "#ab63fa",
           "#FFA15A",
           "#19d3f3",
           "#FF6692",
           "#B6E880",
           "#FF97FF",
           "#FECB52"
          ],
          "font": {
           "color": "#2a3f5f"
          },
          "geo": {
           "bgcolor": "white",
           "lakecolor": "white",
           "landcolor": "#E5ECF6",
           "showlakes": true,
           "showland": true,
           "subunitcolor": "white"
          },
          "hoverlabel": {
           "align": "left"
          },
          "hovermode": "closest",
          "mapbox": {
           "style": "light"
          },
          "paper_bgcolor": "white",
          "plot_bgcolor": "#E5ECF6",
          "polar": {
           "angularaxis": {
            "gridcolor": "white",
            "linecolor": "white",
            "ticks": ""
           },
           "bgcolor": "#E5ECF6",
           "radialaxis": {
            "gridcolor": "white",
            "linecolor": "white",
            "ticks": ""
           }
          },
          "scene": {
           "xaxis": {
            "backgroundcolor": "#E5ECF6",
            "gridcolor": "white",
            "gridwidth": 2,
            "linecolor": "white",
            "showbackground": true,
            "ticks": "",
            "zerolinecolor": "white"
           },
           "yaxis": {
            "backgroundcolor": "#E5ECF6",
            "gridcolor": "white",
            "gridwidth": 2,
            "linecolor": "white",
            "showbackground": true,
            "ticks": "",
            "zerolinecolor": "white"
           },
           "zaxis": {
            "backgroundcolor": "#E5ECF6",
            "gridcolor": "white",
            "gridwidth": 2,
            "linecolor": "white",
            "showbackground": true,
            "ticks": "",
            "zerolinecolor": "white"
           }
          },
          "shapedefaults": {
           "line": {
            "color": "#2a3f5f"
           }
          },
          "ternary": {
           "aaxis": {
            "gridcolor": "white",
            "linecolor": "white",
            "ticks": ""
           },
           "baxis": {
            "gridcolor": "white",
            "linecolor": "white",
            "ticks": ""
           },
           "bgcolor": "#E5ECF6",
           "caxis": {
            "gridcolor": "white",
            "linecolor": "white",
            "ticks": ""
           }
          },
          "title": {
           "x": 0.05
          },
          "xaxis": {
           "automargin": true,
           "gridcolor": "white",
           "linecolor": "white",
           "ticks": "",
           "title": {
            "standoff": 15
           },
           "zerolinecolor": "white",
           "zerolinewidth": 2
          },
          "yaxis": {
           "automargin": true,
           "gridcolor": "white",
           "linecolor": "white",
           "ticks": "",
           "title": {
            "standoff": 15
           },
           "zerolinecolor": "white",
           "zerolinewidth": 2
          }
         }
        },
        "title": {
         "font": {
          "color": "#4D5663"
         }
        },
        "xaxis": {
         "gridcolor": "#E1E5ED",
         "showgrid": true,
         "tickfont": {
          "color": "#4D5663"
         },
         "title": {
          "font": {
           "color": "#4D5663"
          },
          "text": ""
         },
         "zerolinecolor": "#E1E5ED"
        },
        "yaxis": {
         "gridcolor": "#E1E5ED",
         "showgrid": true,
         "tickfont": {
          "color": "#4D5663"
         },
         "title": {
          "font": {
           "color": "#4D5663"
          },
          "text": ""
         },
         "zerolinecolor": "#E1E5ED"
        }
       }
      },
      "text/html": [
       "<div>                            <div id=\"da3fe48f-5bc8-4fed-b46e-a670a76f1742\" class=\"plotly-graph-div\" style=\"height:525px; width:100%;\"></div>            <script type=\"text/javascript\">                require([\"plotly\"], function(Plotly) {                    window.PLOTLYENV=window.PLOTLYENV || {};\n",
       "                    window.PLOTLYENV.BASE_URL='https://plot.ly';                                    if (document.getElementById(\"da3fe48f-5bc8-4fed-b46e-a670a76f1742\")) {                    Plotly.newPlot(                        \"da3fe48f-5bc8-4fed-b46e-a670a76f1742\",                        [{\"colorscale\":[[0.0,\"rgb(165,0,38)\"],[0.1,\"rgb(215,48,39)\"],[0.2,\"rgb(244,109,67)\"],[0.3,\"rgb(253,174,97)\"],[0.4,\"rgb(254,224,144)\"],[0.5,\"rgb(255,255,191)\"],[0.6,\"rgb(224,243,248)\"],[0.7,\"rgb(171,217,233)\"],[0.8,\"rgb(116,173,209)\"],[0.9,\"rgb(69,117,180)\"],[1.0,\"rgb(49,54,149)\"]],\"x\":[0,1,2,3,4],\"y\":[\"x\",\"y\",\"z\"],\"z\":[[1,2,3,4,5],[10,20,30,20,10],[5,4,3,2,1]],\"type\":\"surface\"}],                        {\"legend\":{\"bgcolor\":\"#F5F6F9\",\"font\":{\"color\":\"#4D5663\"}},\"paper_bgcolor\":\"#F5F6F9\",\"plot_bgcolor\":\"#F5F6F9\",\"template\":{\"data\":{\"barpolar\":[{\"marker\":{\"line\":{\"color\":\"#E5ECF6\",\"width\":0.5},\"pattern\":{\"fillmode\":\"overlay\",\"size\":10,\"solidity\":0.2}},\"type\":\"barpolar\"}],\"bar\":[{\"error_x\":{\"color\":\"#2a3f5f\"},\"error_y\":{\"color\":\"#2a3f5f\"},\"marker\":{\"line\":{\"color\":\"#E5ECF6\",\"width\":0.5},\"pattern\":{\"fillmode\":\"overlay\",\"size\":10,\"solidity\":0.2}},\"type\":\"bar\"}],\"carpet\":[{\"aaxis\":{\"endlinecolor\":\"#2a3f5f\",\"gridcolor\":\"white\",\"linecolor\":\"white\",\"minorgridcolor\":\"white\",\"startlinecolor\":\"#2a3f5f\"},\"baxis\":{\"endlinecolor\":\"#2a3f5f\",\"gridcolor\":\"white\",\"linecolor\":\"white\",\"minorgridcolor\":\"white\",\"startlinecolor\":\"#2a3f5f\"},\"type\":\"carpet\"}],\"choropleth\":[{\"colorbar\":{\"outlinewidth\":0,\"ticks\":\"\"},\"type\":\"choropleth\"}],\"contourcarpet\":[{\"colorbar\":{\"outlinewidth\":0,\"ticks\":\"\"},\"type\":\"contourcarpet\"}],\"contour\":[{\"colorbar\":{\"outlinewidth\":0,\"ticks\":\"\"},\"colorscale\":[[0.0,\"#0d0887\"],[0.1111111111111111,\"#46039f\"],[0.2222222222222222,\"#7201a8\"],[0.3333333333333333,\"#9c179e\"],[0.4444444444444444,\"#bd3786\"],[0.5555555555555556,\"#d8576b\"],[0.6666666666666666,\"#ed7953\"],[0.7777777777777778,\"#fb9f3a\"],[0.8888888888888888,\"#fdca26\"],[1.0,\"#f0f921\"]],\"type\":\"contour\"}],\"heatmapgl\":[{\"colorbar\":{\"outlinewidth\":0,\"ticks\":\"\"},\"colorscale\":[[0.0,\"#0d0887\"],[0.1111111111111111,\"#46039f\"],[0.2222222222222222,\"#7201a8\"],[0.3333333333333333,\"#9c179e\"],[0.4444444444444444,\"#bd3786\"],[0.5555555555555556,\"#d8576b\"],[0.6666666666666666,\"#ed7953\"],[0.7777777777777778,\"#fb9f3a\"],[0.8888888888888888,\"#fdca26\"],[1.0,\"#f0f921\"]],\"type\":\"heatmapgl\"}],\"heatmap\":[{\"colorbar\":{\"outlinewidth\":0,\"ticks\":\"\"},\"colorscale\":[[0.0,\"#0d0887\"],[0.1111111111111111,\"#46039f\"],[0.2222222222222222,\"#7201a8\"],[0.3333333333333333,\"#9c179e\"],[0.4444444444444444,\"#bd3786\"],[0.5555555555555556,\"#d8576b\"],[0.6666666666666666,\"#ed7953\"],[0.7777777777777778,\"#fb9f3a\"],[0.8888888888888888,\"#fdca26\"],[1.0,\"#f0f921\"]],\"type\":\"heatmap\"}],\"histogram2dcontour\":[{\"colorbar\":{\"outlinewidth\":0,\"ticks\":\"\"},\"colorscale\":[[0.0,\"#0d0887\"],[0.1111111111111111,\"#46039f\"],[0.2222222222222222,\"#7201a8\"],[0.3333333333333333,\"#9c179e\"],[0.4444444444444444,\"#bd3786\"],[0.5555555555555556,\"#d8576b\"],[0.6666666666666666,\"#ed7953\"],[0.7777777777777778,\"#fb9f3a\"],[0.8888888888888888,\"#fdca26\"],[1.0,\"#f0f921\"]],\"type\":\"histogram2dcontour\"}],\"histogram2d\":[{\"colorbar\":{\"outlinewidth\":0,\"ticks\":\"\"},\"colorscale\":[[0.0,\"#0d0887\"],[0.1111111111111111,\"#46039f\"],[0.2222222222222222,\"#7201a8\"],[0.3333333333333333,\"#9c179e\"],[0.4444444444444444,\"#bd3786\"],[0.5555555555555556,\"#d8576b\"],[0.6666666666666666,\"#ed7953\"],[0.7777777777777778,\"#fb9f3a\"],[0.8888888888888888,\"#fdca26\"],[1.0,\"#f0f921\"]],\"type\":\"histogram2d\"}],\"histogram\":[{\"marker\":{\"pattern\":{\"fillmode\":\"overlay\",\"size\":10,\"solidity\":0.2}},\"type\":\"histogram\"}],\"mesh3d\":[{\"colorbar\":{\"outlinewidth\":0,\"ticks\":\"\"},\"type\":\"mesh3d\"}],\"parcoords\":[{\"line\":{\"colorbar\":{\"outlinewidth\":0,\"ticks\":\"\"}},\"type\":\"parcoords\"}],\"pie\":[{\"automargin\":true,\"type\":\"pie\"}],\"scatter3d\":[{\"line\":{\"colorbar\":{\"outlinewidth\":0,\"ticks\":\"\"}},\"marker\":{\"colorbar\":{\"outlinewidth\":0,\"ticks\":\"\"}},\"type\":\"scatter3d\"}],\"scattercarpet\":[{\"marker\":{\"colorbar\":{\"outlinewidth\":0,\"ticks\":\"\"}},\"type\":\"scattercarpet\"}],\"scattergeo\":[{\"marker\":{\"colorbar\":{\"outlinewidth\":0,\"ticks\":\"\"}},\"type\":\"scattergeo\"}],\"scattergl\":[{\"marker\":{\"colorbar\":{\"outlinewidth\":0,\"ticks\":\"\"}},\"type\":\"scattergl\"}],\"scattermapbox\":[{\"marker\":{\"colorbar\":{\"outlinewidth\":0,\"ticks\":\"\"}},\"type\":\"scattermapbox\"}],\"scatterpolargl\":[{\"marker\":{\"colorbar\":{\"outlinewidth\":0,\"ticks\":\"\"}},\"type\":\"scatterpolargl\"}],\"scatterpolar\":[{\"marker\":{\"colorbar\":{\"outlinewidth\":0,\"ticks\":\"\"}},\"type\":\"scatterpolar\"}],\"scatter\":[{\"fillpattern\":{\"fillmode\":\"overlay\",\"size\":10,\"solidity\":0.2},\"type\":\"scatter\"}],\"scatterternary\":[{\"marker\":{\"colorbar\":{\"outlinewidth\":0,\"ticks\":\"\"}},\"type\":\"scatterternary\"}],\"surface\":[{\"colorbar\":{\"outlinewidth\":0,\"ticks\":\"\"},\"colorscale\":[[0.0,\"#0d0887\"],[0.1111111111111111,\"#46039f\"],[0.2222222222222222,\"#7201a8\"],[0.3333333333333333,\"#9c179e\"],[0.4444444444444444,\"#bd3786\"],[0.5555555555555556,\"#d8576b\"],[0.6666666666666666,\"#ed7953\"],[0.7777777777777778,\"#fb9f3a\"],[0.8888888888888888,\"#fdca26\"],[1.0,\"#f0f921\"]],\"type\":\"surface\"}],\"table\":[{\"cells\":{\"fill\":{\"color\":\"#EBF0F8\"},\"line\":{\"color\":\"white\"}},\"header\":{\"fill\":{\"color\":\"#C8D4E3\"},\"line\":{\"color\":\"white\"}},\"type\":\"table\"}]},\"layout\":{\"annotationdefaults\":{\"arrowcolor\":\"#2a3f5f\",\"arrowhead\":0,\"arrowwidth\":1},\"autotypenumbers\":\"strict\",\"coloraxis\":{\"colorbar\":{\"outlinewidth\":0,\"ticks\":\"\"}},\"colorscale\":{\"diverging\":[[0,\"#8e0152\"],[0.1,\"#c51b7d\"],[0.2,\"#de77ae\"],[0.3,\"#f1b6da\"],[0.4,\"#fde0ef\"],[0.5,\"#f7f7f7\"],[0.6,\"#e6f5d0\"],[0.7,\"#b8e186\"],[0.8,\"#7fbc41\"],[0.9,\"#4d9221\"],[1,\"#276419\"]],\"sequential\":[[0.0,\"#0d0887\"],[0.1111111111111111,\"#46039f\"],[0.2222222222222222,\"#7201a8\"],[0.3333333333333333,\"#9c179e\"],[0.4444444444444444,\"#bd3786\"],[0.5555555555555556,\"#d8576b\"],[0.6666666666666666,\"#ed7953\"],[0.7777777777777778,\"#fb9f3a\"],[0.8888888888888888,\"#fdca26\"],[1.0,\"#f0f921\"]],\"sequentialminus\":[[0.0,\"#0d0887\"],[0.1111111111111111,\"#46039f\"],[0.2222222222222222,\"#7201a8\"],[0.3333333333333333,\"#9c179e\"],[0.4444444444444444,\"#bd3786\"],[0.5555555555555556,\"#d8576b\"],[0.6666666666666666,\"#ed7953\"],[0.7777777777777778,\"#fb9f3a\"],[0.8888888888888888,\"#fdca26\"],[1.0,\"#f0f921\"]]},\"colorway\":[\"#636efa\",\"#EF553B\",\"#00cc96\",\"#ab63fa\",\"#FFA15A\",\"#19d3f3\",\"#FF6692\",\"#B6E880\",\"#FF97FF\",\"#FECB52\"],\"font\":{\"color\":\"#2a3f5f\"},\"geo\":{\"bgcolor\":\"white\",\"lakecolor\":\"white\",\"landcolor\":\"#E5ECF6\",\"showlakes\":true,\"showland\":true,\"subunitcolor\":\"white\"},\"hoverlabel\":{\"align\":\"left\"},\"hovermode\":\"closest\",\"mapbox\":{\"style\":\"light\"},\"paper_bgcolor\":\"white\",\"plot_bgcolor\":\"#E5ECF6\",\"polar\":{\"angularaxis\":{\"gridcolor\":\"white\",\"linecolor\":\"white\",\"ticks\":\"\"},\"bgcolor\":\"#E5ECF6\",\"radialaxis\":{\"gridcolor\":\"white\",\"linecolor\":\"white\",\"ticks\":\"\"}},\"scene\":{\"xaxis\":{\"backgroundcolor\":\"#E5ECF6\",\"gridcolor\":\"white\",\"gridwidth\":2,\"linecolor\":\"white\",\"showbackground\":true,\"ticks\":\"\",\"zerolinecolor\":\"white\"},\"yaxis\":{\"backgroundcolor\":\"#E5ECF6\",\"gridcolor\":\"white\",\"gridwidth\":2,\"linecolor\":\"white\",\"showbackground\":true,\"ticks\":\"\",\"zerolinecolor\":\"white\"},\"zaxis\":{\"backgroundcolor\":\"#E5ECF6\",\"gridcolor\":\"white\",\"gridwidth\":2,\"linecolor\":\"white\",\"showbackground\":true,\"ticks\":\"\",\"zerolinecolor\":\"white\"}},\"shapedefaults\":{\"line\":{\"color\":\"#2a3f5f\"}},\"ternary\":{\"aaxis\":{\"gridcolor\":\"white\",\"linecolor\":\"white\",\"ticks\":\"\"},\"baxis\":{\"gridcolor\":\"white\",\"linecolor\":\"white\",\"ticks\":\"\"},\"bgcolor\":\"#E5ECF6\",\"caxis\":{\"gridcolor\":\"white\",\"linecolor\":\"white\",\"ticks\":\"\"}},\"title\":{\"x\":0.05},\"xaxis\":{\"automargin\":true,\"gridcolor\":\"white\",\"linecolor\":\"white\",\"ticks\":\"\",\"title\":{\"standoff\":15},\"zerolinecolor\":\"white\",\"zerolinewidth\":2},\"yaxis\":{\"automargin\":true,\"gridcolor\":\"white\",\"linecolor\":\"white\",\"ticks\":\"\",\"title\":{\"standoff\":15},\"zerolinecolor\":\"white\",\"zerolinewidth\":2}}},\"title\":{\"font\":{\"color\":\"#4D5663\"}},\"xaxis\":{\"gridcolor\":\"#E1E5ED\",\"showgrid\":true,\"tickfont\":{\"color\":\"#4D5663\"},\"title\":{\"font\":{\"color\":\"#4D5663\"},\"text\":\"\"},\"zerolinecolor\":\"#E1E5ED\"},\"yaxis\":{\"gridcolor\":\"#E1E5ED\",\"showgrid\":true,\"tickfont\":{\"color\":\"#4D5663\"},\"title\":{\"font\":{\"color\":\"#4D5663\"},\"text\":\"\"},\"zerolinecolor\":\"#E1E5ED\"}},                        {\"showLink\": true, \"linkText\": \"Export to plot.ly\", \"plotlyServerURL\": \"https://plot.ly\", \"responsive\": true}                    ).then(function(){\n",
       "                            \n",
       "var gd = document.getElementById('da3fe48f-5bc8-4fed-b46e-a670a76f1742');\n",
       "var x = new MutationObserver(function (mutations, observer) {{\n",
       "        var display = window.getComputedStyle(gd).display;\n",
       "        if (!display || display === 'none') {{\n",
       "            console.log([gd, 'removed!']);\n",
       "            Plotly.purge(gd);\n",
       "            observer.disconnect();\n",
       "        }}\n",
       "}});\n",
       "\n",
       "// Listen for the removal of the full notebook cells\n",
       "var notebookContainer = gd.closest('#notebook-container');\n",
       "if (notebookContainer) {{\n",
       "    x.observe(notebookContainer, {childList: true});\n",
       "}}\n",
       "\n",
       "// Listen for the clearing of the current output cell\n",
       "var outputEl = gd.closest('.output');\n",
       "if (outputEl) {{\n",
       "    x.observe(outputEl, {childList: true});\n",
       "}}\n",
       "\n",
       "                        })                };                });            </script>        </div>"
      ]
     },
     "metadata": {},
     "output_type": "display_data"
    }
   ],
   "source": [
    "df3.iplot(kind='surface', colorscale='rdylbu')"
   ]
  },
  {
   "cell_type": "code",
   "execution_count": 35,
   "id": "9746f47c",
   "metadata": {},
   "outputs": [
    {
     "data": {
      "application/vnd.plotly.v1+json": {
       "config": {
        "linkText": "Export to plot.ly",
        "plotlyServerURL": "https://plot.ly",
        "showLink": true
       },
       "data": [
        {
         "histfunc": "count",
         "histnorm": "",
         "marker": {
          "color": "rgba(255, 153, 51, 1.0)",
          "line": {
           "color": "#4D5663",
           "width": 1.3
          }
         },
         "name": "A",
         "nbinsx": 50,
         "opacity": 0.8,
         "orientation": "v",
         "type": "histogram",
         "x": [
          0.406730039480157,
          -0.39228221499578964,
          0.7584886923840094,
          -0.9440396101168271,
          -0.727462876129729,
          0.4839174053257021,
          0.3627206584336743,
          1.168876137696794,
          1.2510313986768908,
          -0.8539452754949033,
          0.055427781643683255,
          -0.6784544917630049,
          0.8326820808182758,
          0.28424683461318606,
          -0.14757676900957287,
          0.11439817628276706,
          -0.18475712704423441,
          0.0038164459887509153,
          0.34990494510895703,
          -0.4378365112671588,
          -0.319660271111292,
          -0.3137996100294566,
          0.7818668395960702,
          1.233186915064355,
          -0.6435088591199211,
          -0.7662361903303532,
          0.6315312339735785,
          -1.5985204957973767,
          -1.8108208438232374,
          2.851513981870026,
          -0.0364816577569318,
          -0.07999396186412067,
          -1.4714556943251862,
          -0.47159853321598855,
          -1.4583382229612358,
          0.5500685036145431,
          -0.5124116539500457,
          -0.4612840603123584,
          1.2075325846345708,
          0.27937512403424236,
          0.4729467860759181,
          0.694237909442264,
          -0.22313437477461176,
          -2.1673385397595584,
          1.3640671084533982,
          1.4328639494199835,
          -1.3186427873817268,
          -1.0994996582162526,
          -0.41552140832138207,
          -1.1080560081519106,
          0.2813001247748424,
          -0.7580111392673803,
          -0.7788585603184489,
          1.2751150122692931,
          2.00579679912336,
          0.47791604052873227,
          0.12635847592401317,
          0.4544312374061017,
          -0.701182543768695,
          -0.31650116074208257,
          1.40877730233643,
          -0.30667471652084766,
          0.8587407419478714,
          1.9907280644550456,
          -0.34251402756783583,
          0.8082078562811572,
          0.15996260259357092,
          0.004165864484431415,
          1.226249713622541,
          1.448104818376337,
          -0.571107037470229,
          1.0776789911239473,
          -0.1018710678062574,
          1.1137520194408075,
          0.305546217332669,
          -0.43272160683972544,
          0.5002141172314987,
          1.384830376450365,
          1.3439169146885883,
          -0.801316865757186,
          0.6946582118008514,
          1.1900960545880286,
          0.15796941300637093,
          1.1856772524598995,
          -1.3348503021181104,
          0.26021804126709724,
          0.7641069566280589,
          0.5619839963840547,
          0.9919306452669481,
          -0.42193016475058465,
          1.6278652681325925,
          0.040967833820687465,
          0.4341660540644965,
          1.2258119652660264,
          0.16250938553896713,
          0.7601085688053791,
          -0.9805826865572652,
          2.3002686917555693,
          1.301006005581953,
          1.754526468354843
         ]
        }
       ],
       "layout": {
        "barmode": "overlay",
        "legend": {
         "bgcolor": "#F5F6F9",
         "font": {
          "color": "#4D5663"
         }
        },
        "paper_bgcolor": "#F5F6F9",
        "plot_bgcolor": "#F5F6F9",
        "template": {
         "data": {
          "bar": [
           {
            "error_x": {
             "color": "#2a3f5f"
            },
            "error_y": {
             "color": "#2a3f5f"
            },
            "marker": {
             "line": {
              "color": "#E5ECF6",
              "width": 0.5
             },
             "pattern": {
              "fillmode": "overlay",
              "size": 10,
              "solidity": 0.2
             }
            },
            "type": "bar"
           }
          ],
          "barpolar": [
           {
            "marker": {
             "line": {
              "color": "#E5ECF6",
              "width": 0.5
             },
             "pattern": {
              "fillmode": "overlay",
              "size": 10,
              "solidity": 0.2
             }
            },
            "type": "barpolar"
           }
          ],
          "carpet": [
           {
            "aaxis": {
             "endlinecolor": "#2a3f5f",
             "gridcolor": "white",
             "linecolor": "white",
             "minorgridcolor": "white",
             "startlinecolor": "#2a3f5f"
            },
            "baxis": {
             "endlinecolor": "#2a3f5f",
             "gridcolor": "white",
             "linecolor": "white",
             "minorgridcolor": "white",
             "startlinecolor": "#2a3f5f"
            },
            "type": "carpet"
           }
          ],
          "choropleth": [
           {
            "colorbar": {
             "outlinewidth": 0,
             "ticks": ""
            },
            "type": "choropleth"
           }
          ],
          "contour": [
           {
            "colorbar": {
             "outlinewidth": 0,
             "ticks": ""
            },
            "colorscale": [
             [
              0,
              "#0d0887"
             ],
             [
              0.1111111111111111,
              "#46039f"
             ],
             [
              0.2222222222222222,
              "#7201a8"
             ],
             [
              0.3333333333333333,
              "#9c179e"
             ],
             [
              0.4444444444444444,
              "#bd3786"
             ],
             [
              0.5555555555555556,
              "#d8576b"
             ],
             [
              0.6666666666666666,
              "#ed7953"
             ],
             [
              0.7777777777777778,
              "#fb9f3a"
             ],
             [
              0.8888888888888888,
              "#fdca26"
             ],
             [
              1,
              "#f0f921"
             ]
            ],
            "type": "contour"
           }
          ],
          "contourcarpet": [
           {
            "colorbar": {
             "outlinewidth": 0,
             "ticks": ""
            },
            "type": "contourcarpet"
           }
          ],
          "heatmap": [
           {
            "colorbar": {
             "outlinewidth": 0,
             "ticks": ""
            },
            "colorscale": [
             [
              0,
              "#0d0887"
             ],
             [
              0.1111111111111111,
              "#46039f"
             ],
             [
              0.2222222222222222,
              "#7201a8"
             ],
             [
              0.3333333333333333,
              "#9c179e"
             ],
             [
              0.4444444444444444,
              "#bd3786"
             ],
             [
              0.5555555555555556,
              "#d8576b"
             ],
             [
              0.6666666666666666,
              "#ed7953"
             ],
             [
              0.7777777777777778,
              "#fb9f3a"
             ],
             [
              0.8888888888888888,
              "#fdca26"
             ],
             [
              1,
              "#f0f921"
             ]
            ],
            "type": "heatmap"
           }
          ],
          "heatmapgl": [
           {
            "colorbar": {
             "outlinewidth": 0,
             "ticks": ""
            },
            "colorscale": [
             [
              0,
              "#0d0887"
             ],
             [
              0.1111111111111111,
              "#46039f"
             ],
             [
              0.2222222222222222,
              "#7201a8"
             ],
             [
              0.3333333333333333,
              "#9c179e"
             ],
             [
              0.4444444444444444,
              "#bd3786"
             ],
             [
              0.5555555555555556,
              "#d8576b"
             ],
             [
              0.6666666666666666,
              "#ed7953"
             ],
             [
              0.7777777777777778,
              "#fb9f3a"
             ],
             [
              0.8888888888888888,
              "#fdca26"
             ],
             [
              1,
              "#f0f921"
             ]
            ],
            "type": "heatmapgl"
           }
          ],
          "histogram": [
           {
            "marker": {
             "pattern": {
              "fillmode": "overlay",
              "size": 10,
              "solidity": 0.2
             }
            },
            "type": "histogram"
           }
          ],
          "histogram2d": [
           {
            "colorbar": {
             "outlinewidth": 0,
             "ticks": ""
            },
            "colorscale": [
             [
              0,
              "#0d0887"
             ],
             [
              0.1111111111111111,
              "#46039f"
             ],
             [
              0.2222222222222222,
              "#7201a8"
             ],
             [
              0.3333333333333333,
              "#9c179e"
             ],
             [
              0.4444444444444444,
              "#bd3786"
             ],
             [
              0.5555555555555556,
              "#d8576b"
             ],
             [
              0.6666666666666666,
              "#ed7953"
             ],
             [
              0.7777777777777778,
              "#fb9f3a"
             ],
             [
              0.8888888888888888,
              "#fdca26"
             ],
             [
              1,
              "#f0f921"
             ]
            ],
            "type": "histogram2d"
           }
          ],
          "histogram2dcontour": [
           {
            "colorbar": {
             "outlinewidth": 0,
             "ticks": ""
            },
            "colorscale": [
             [
              0,
              "#0d0887"
             ],
             [
              0.1111111111111111,
              "#46039f"
             ],
             [
              0.2222222222222222,
              "#7201a8"
             ],
             [
              0.3333333333333333,
              "#9c179e"
             ],
             [
              0.4444444444444444,
              "#bd3786"
             ],
             [
              0.5555555555555556,
              "#d8576b"
             ],
             [
              0.6666666666666666,
              "#ed7953"
             ],
             [
              0.7777777777777778,
              "#fb9f3a"
             ],
             [
              0.8888888888888888,
              "#fdca26"
             ],
             [
              1,
              "#f0f921"
             ]
            ],
            "type": "histogram2dcontour"
           }
          ],
          "mesh3d": [
           {
            "colorbar": {
             "outlinewidth": 0,
             "ticks": ""
            },
            "type": "mesh3d"
           }
          ],
          "parcoords": [
           {
            "line": {
             "colorbar": {
              "outlinewidth": 0,
              "ticks": ""
             }
            },
            "type": "parcoords"
           }
          ],
          "pie": [
           {
            "automargin": true,
            "type": "pie"
           }
          ],
          "scatter": [
           {
            "fillpattern": {
             "fillmode": "overlay",
             "size": 10,
             "solidity": 0.2
            },
            "type": "scatter"
           }
          ],
          "scatter3d": [
           {
            "line": {
             "colorbar": {
              "outlinewidth": 0,
              "ticks": ""
             }
            },
            "marker": {
             "colorbar": {
              "outlinewidth": 0,
              "ticks": ""
             }
            },
            "type": "scatter3d"
           }
          ],
          "scattercarpet": [
           {
            "marker": {
             "colorbar": {
              "outlinewidth": 0,
              "ticks": ""
             }
            },
            "type": "scattercarpet"
           }
          ],
          "scattergeo": [
           {
            "marker": {
             "colorbar": {
              "outlinewidth": 0,
              "ticks": ""
             }
            },
            "type": "scattergeo"
           }
          ],
          "scattergl": [
           {
            "marker": {
             "colorbar": {
              "outlinewidth": 0,
              "ticks": ""
             }
            },
            "type": "scattergl"
           }
          ],
          "scattermapbox": [
           {
            "marker": {
             "colorbar": {
              "outlinewidth": 0,
              "ticks": ""
             }
            },
            "type": "scattermapbox"
           }
          ],
          "scatterpolar": [
           {
            "marker": {
             "colorbar": {
              "outlinewidth": 0,
              "ticks": ""
             }
            },
            "type": "scatterpolar"
           }
          ],
          "scatterpolargl": [
           {
            "marker": {
             "colorbar": {
              "outlinewidth": 0,
              "ticks": ""
             }
            },
            "type": "scatterpolargl"
           }
          ],
          "scatterternary": [
           {
            "marker": {
             "colorbar": {
              "outlinewidth": 0,
              "ticks": ""
             }
            },
            "type": "scatterternary"
           }
          ],
          "surface": [
           {
            "colorbar": {
             "outlinewidth": 0,
             "ticks": ""
            },
            "colorscale": [
             [
              0,
              "#0d0887"
             ],
             [
              0.1111111111111111,
              "#46039f"
             ],
             [
              0.2222222222222222,
              "#7201a8"
             ],
             [
              0.3333333333333333,
              "#9c179e"
             ],
             [
              0.4444444444444444,
              "#bd3786"
             ],
             [
              0.5555555555555556,
              "#d8576b"
             ],
             [
              0.6666666666666666,
              "#ed7953"
             ],
             [
              0.7777777777777778,
              "#fb9f3a"
             ],
             [
              0.8888888888888888,
              "#fdca26"
             ],
             [
              1,
              "#f0f921"
             ]
            ],
            "type": "surface"
           }
          ],
          "table": [
           {
            "cells": {
             "fill": {
              "color": "#EBF0F8"
             },
             "line": {
              "color": "white"
             }
            },
            "header": {
             "fill": {
              "color": "#C8D4E3"
             },
             "line": {
              "color": "white"
             }
            },
            "type": "table"
           }
          ]
         },
         "layout": {
          "annotationdefaults": {
           "arrowcolor": "#2a3f5f",
           "arrowhead": 0,
           "arrowwidth": 1
          },
          "autotypenumbers": "strict",
          "coloraxis": {
           "colorbar": {
            "outlinewidth": 0,
            "ticks": ""
           }
          },
          "colorscale": {
           "diverging": [
            [
             0,
             "#8e0152"
            ],
            [
             0.1,
             "#c51b7d"
            ],
            [
             0.2,
             "#de77ae"
            ],
            [
             0.3,
             "#f1b6da"
            ],
            [
             0.4,
             "#fde0ef"
            ],
            [
             0.5,
             "#f7f7f7"
            ],
            [
             0.6,
             "#e6f5d0"
            ],
            [
             0.7,
             "#b8e186"
            ],
            [
             0.8,
             "#7fbc41"
            ],
            [
             0.9,
             "#4d9221"
            ],
            [
             1,
             "#276419"
            ]
           ],
           "sequential": [
            [
             0,
             "#0d0887"
            ],
            [
             0.1111111111111111,
             "#46039f"
            ],
            [
             0.2222222222222222,
             "#7201a8"
            ],
            [
             0.3333333333333333,
             "#9c179e"
            ],
            [
             0.4444444444444444,
             "#bd3786"
            ],
            [
             0.5555555555555556,
             "#d8576b"
            ],
            [
             0.6666666666666666,
             "#ed7953"
            ],
            [
             0.7777777777777778,
             "#fb9f3a"
            ],
            [
             0.8888888888888888,
             "#fdca26"
            ],
            [
             1,
             "#f0f921"
            ]
           ],
           "sequentialminus": [
            [
             0,
             "#0d0887"
            ],
            [
             0.1111111111111111,
             "#46039f"
            ],
            [
             0.2222222222222222,
             "#7201a8"
            ],
            [
             0.3333333333333333,
             "#9c179e"
            ],
            [
             0.4444444444444444,
             "#bd3786"
            ],
            [
             0.5555555555555556,
             "#d8576b"
            ],
            [
             0.6666666666666666,
             "#ed7953"
            ],
            [
             0.7777777777777778,
             "#fb9f3a"
            ],
            [
             0.8888888888888888,
             "#fdca26"
            ],
            [
             1,
             "#f0f921"
            ]
           ]
          },
          "colorway": [
           "#636efa",
           "#EF553B",
           "#00cc96",
           "#ab63fa",
           "#FFA15A",
           "#19d3f3",
           "#FF6692",
           "#B6E880",
           "#FF97FF",
           "#FECB52"
          ],
          "font": {
           "color": "#2a3f5f"
          },
          "geo": {
           "bgcolor": "white",
           "lakecolor": "white",
           "landcolor": "#E5ECF6",
           "showlakes": true,
           "showland": true,
           "subunitcolor": "white"
          },
          "hoverlabel": {
           "align": "left"
          },
          "hovermode": "closest",
          "mapbox": {
           "style": "light"
          },
          "paper_bgcolor": "white",
          "plot_bgcolor": "#E5ECF6",
          "polar": {
           "angularaxis": {
            "gridcolor": "white",
            "linecolor": "white",
            "ticks": ""
           },
           "bgcolor": "#E5ECF6",
           "radialaxis": {
            "gridcolor": "white",
            "linecolor": "white",
            "ticks": ""
           }
          },
          "scene": {
           "xaxis": {
            "backgroundcolor": "#E5ECF6",
            "gridcolor": "white",
            "gridwidth": 2,
            "linecolor": "white",
            "showbackground": true,
            "ticks": "",
            "zerolinecolor": "white"
           },
           "yaxis": {
            "backgroundcolor": "#E5ECF6",
            "gridcolor": "white",
            "gridwidth": 2,
            "linecolor": "white",
            "showbackground": true,
            "ticks": "",
            "zerolinecolor": "white"
           },
           "zaxis": {
            "backgroundcolor": "#E5ECF6",
            "gridcolor": "white",
            "gridwidth": 2,
            "linecolor": "white",
            "showbackground": true,
            "ticks": "",
            "zerolinecolor": "white"
           }
          },
          "shapedefaults": {
           "line": {
            "color": "#2a3f5f"
           }
          },
          "ternary": {
           "aaxis": {
            "gridcolor": "white",
            "linecolor": "white",
            "ticks": ""
           },
           "baxis": {
            "gridcolor": "white",
            "linecolor": "white",
            "ticks": ""
           },
           "bgcolor": "#E5ECF6",
           "caxis": {
            "gridcolor": "white",
            "linecolor": "white",
            "ticks": ""
           }
          },
          "title": {
           "x": 0.05
          },
          "xaxis": {
           "automargin": true,
           "gridcolor": "white",
           "linecolor": "white",
           "ticks": "",
           "title": {
            "standoff": 15
           },
           "zerolinecolor": "white",
           "zerolinewidth": 2
          },
          "yaxis": {
           "automargin": true,
           "gridcolor": "white",
           "linecolor": "white",
           "ticks": "",
           "title": {
            "standoff": 15
           },
           "zerolinecolor": "white",
           "zerolinewidth": 2
          }
         }
        },
        "title": {
         "font": {
          "color": "#4D5663"
         }
        },
        "xaxis": {
         "gridcolor": "#E1E5ED",
         "showgrid": true,
         "tickfont": {
          "color": "#4D5663"
         },
         "title": {
          "font": {
           "color": "#4D5663"
          },
          "text": ""
         },
         "zerolinecolor": "#E1E5ED"
        },
        "yaxis": {
         "gridcolor": "#E1E5ED",
         "showgrid": true,
         "tickfont": {
          "color": "#4D5663"
         },
         "title": {
          "font": {
           "color": "#4D5663"
          },
          "text": ""
         },
         "zerolinecolor": "#E1E5ED"
        }
       }
      },
      "text/html": [
       "<div>                            <div id=\"69ea4b1e-aa87-4fc2-81f0-a094f67c90d4\" class=\"plotly-graph-div\" style=\"height:525px; width:100%;\"></div>            <script type=\"text/javascript\">                require([\"plotly\"], function(Plotly) {                    window.PLOTLYENV=window.PLOTLYENV || {};\n",
       "                    window.PLOTLYENV.BASE_URL='https://plot.ly';                                    if (document.getElementById(\"69ea4b1e-aa87-4fc2-81f0-a094f67c90d4\")) {                    Plotly.newPlot(                        \"69ea4b1e-aa87-4fc2-81f0-a094f67c90d4\",                        [{\"histfunc\":\"count\",\"histnorm\":\"\",\"marker\":{\"color\":\"rgba(255, 153, 51, 1.0)\",\"line\":{\"color\":\"#4D5663\",\"width\":1.3}},\"name\":\"A\",\"nbinsx\":50,\"opacity\":0.8,\"orientation\":\"v\",\"x\":[0.406730039480157,-0.39228221499578964,0.7584886923840094,-0.9440396101168271,-0.727462876129729,0.4839174053257021,0.3627206584336743,1.168876137696794,1.2510313986768908,-0.8539452754949033,0.055427781643683255,-0.6784544917630049,0.8326820808182758,0.28424683461318606,-0.14757676900957287,0.11439817628276706,-0.18475712704423441,0.0038164459887509153,0.34990494510895703,-0.4378365112671588,-0.319660271111292,-0.3137996100294566,0.7818668395960702,1.233186915064355,-0.6435088591199211,-0.7662361903303532,0.6315312339735785,-1.5985204957973767,-1.8108208438232374,2.851513981870026,-0.0364816577569318,-0.07999396186412067,-1.4714556943251862,-0.47159853321598855,-1.4583382229612358,0.5500685036145431,-0.5124116539500457,-0.4612840603123584,1.2075325846345708,0.27937512403424236,0.4729467860759181,0.694237909442264,-0.22313437477461176,-2.1673385397595584,1.3640671084533982,1.4328639494199835,-1.3186427873817268,-1.0994996582162526,-0.41552140832138207,-1.1080560081519106,0.2813001247748424,-0.7580111392673803,-0.7788585603184489,1.2751150122692931,2.00579679912336,0.47791604052873227,0.12635847592401317,0.4544312374061017,-0.701182543768695,-0.31650116074208257,1.40877730233643,-0.30667471652084766,0.8587407419478714,1.9907280644550456,-0.34251402756783583,0.8082078562811572,0.15996260259357092,0.004165864484431415,1.226249713622541,1.448104818376337,-0.571107037470229,1.0776789911239473,-0.1018710678062574,1.1137520194408075,0.305546217332669,-0.43272160683972544,0.5002141172314987,1.384830376450365,1.3439169146885883,-0.801316865757186,0.6946582118008514,1.1900960545880286,0.15796941300637093,1.1856772524598995,-1.3348503021181104,0.26021804126709724,0.7641069566280589,0.5619839963840547,0.9919306452669481,-0.42193016475058465,1.6278652681325925,0.040967833820687465,0.4341660540644965,1.2258119652660264,0.16250938553896713,0.7601085688053791,-0.9805826865572652,2.3002686917555693,1.301006005581953,1.754526468354843],\"type\":\"histogram\"}],                        {\"barmode\":\"overlay\",\"legend\":{\"bgcolor\":\"#F5F6F9\",\"font\":{\"color\":\"#4D5663\"}},\"paper_bgcolor\":\"#F5F6F9\",\"plot_bgcolor\":\"#F5F6F9\",\"template\":{\"data\":{\"barpolar\":[{\"marker\":{\"line\":{\"color\":\"#E5ECF6\",\"width\":0.5},\"pattern\":{\"fillmode\":\"overlay\",\"size\":10,\"solidity\":0.2}},\"type\":\"barpolar\"}],\"bar\":[{\"error_x\":{\"color\":\"#2a3f5f\"},\"error_y\":{\"color\":\"#2a3f5f\"},\"marker\":{\"line\":{\"color\":\"#E5ECF6\",\"width\":0.5},\"pattern\":{\"fillmode\":\"overlay\",\"size\":10,\"solidity\":0.2}},\"type\":\"bar\"}],\"carpet\":[{\"aaxis\":{\"endlinecolor\":\"#2a3f5f\",\"gridcolor\":\"white\",\"linecolor\":\"white\",\"minorgridcolor\":\"white\",\"startlinecolor\":\"#2a3f5f\"},\"baxis\":{\"endlinecolor\":\"#2a3f5f\",\"gridcolor\":\"white\",\"linecolor\":\"white\",\"minorgridcolor\":\"white\",\"startlinecolor\":\"#2a3f5f\"},\"type\":\"carpet\"}],\"choropleth\":[{\"colorbar\":{\"outlinewidth\":0,\"ticks\":\"\"},\"type\":\"choropleth\"}],\"contourcarpet\":[{\"colorbar\":{\"outlinewidth\":0,\"ticks\":\"\"},\"type\":\"contourcarpet\"}],\"contour\":[{\"colorbar\":{\"outlinewidth\":0,\"ticks\":\"\"},\"colorscale\":[[0.0,\"#0d0887\"],[0.1111111111111111,\"#46039f\"],[0.2222222222222222,\"#7201a8\"],[0.3333333333333333,\"#9c179e\"],[0.4444444444444444,\"#bd3786\"],[0.5555555555555556,\"#d8576b\"],[0.6666666666666666,\"#ed7953\"],[0.7777777777777778,\"#fb9f3a\"],[0.8888888888888888,\"#fdca26\"],[1.0,\"#f0f921\"]],\"type\":\"contour\"}],\"heatmapgl\":[{\"colorbar\":{\"outlinewidth\":0,\"ticks\":\"\"},\"colorscale\":[[0.0,\"#0d0887\"],[0.1111111111111111,\"#46039f\"],[0.2222222222222222,\"#7201a8\"],[0.3333333333333333,\"#9c179e\"],[0.4444444444444444,\"#bd3786\"],[0.5555555555555556,\"#d8576b\"],[0.6666666666666666,\"#ed7953\"],[0.7777777777777778,\"#fb9f3a\"],[0.8888888888888888,\"#fdca26\"],[1.0,\"#f0f921\"]],\"type\":\"heatmapgl\"}],\"heatmap\":[{\"colorbar\":{\"outlinewidth\":0,\"ticks\":\"\"},\"colorscale\":[[0.0,\"#0d0887\"],[0.1111111111111111,\"#46039f\"],[0.2222222222222222,\"#7201a8\"],[0.3333333333333333,\"#9c179e\"],[0.4444444444444444,\"#bd3786\"],[0.5555555555555556,\"#d8576b\"],[0.6666666666666666,\"#ed7953\"],[0.7777777777777778,\"#fb9f3a\"],[0.8888888888888888,\"#fdca26\"],[1.0,\"#f0f921\"]],\"type\":\"heatmap\"}],\"histogram2dcontour\":[{\"colorbar\":{\"outlinewidth\":0,\"ticks\":\"\"},\"colorscale\":[[0.0,\"#0d0887\"],[0.1111111111111111,\"#46039f\"],[0.2222222222222222,\"#7201a8\"],[0.3333333333333333,\"#9c179e\"],[0.4444444444444444,\"#bd3786\"],[0.5555555555555556,\"#d8576b\"],[0.6666666666666666,\"#ed7953\"],[0.7777777777777778,\"#fb9f3a\"],[0.8888888888888888,\"#fdca26\"],[1.0,\"#f0f921\"]],\"type\":\"histogram2dcontour\"}],\"histogram2d\":[{\"colorbar\":{\"outlinewidth\":0,\"ticks\":\"\"},\"colorscale\":[[0.0,\"#0d0887\"],[0.1111111111111111,\"#46039f\"],[0.2222222222222222,\"#7201a8\"],[0.3333333333333333,\"#9c179e\"],[0.4444444444444444,\"#bd3786\"],[0.5555555555555556,\"#d8576b\"],[0.6666666666666666,\"#ed7953\"],[0.7777777777777778,\"#fb9f3a\"],[0.8888888888888888,\"#fdca26\"],[1.0,\"#f0f921\"]],\"type\":\"histogram2d\"}],\"histogram\":[{\"marker\":{\"pattern\":{\"fillmode\":\"overlay\",\"size\":10,\"solidity\":0.2}},\"type\":\"histogram\"}],\"mesh3d\":[{\"colorbar\":{\"outlinewidth\":0,\"ticks\":\"\"},\"type\":\"mesh3d\"}],\"parcoords\":[{\"line\":{\"colorbar\":{\"outlinewidth\":0,\"ticks\":\"\"}},\"type\":\"parcoords\"}],\"pie\":[{\"automargin\":true,\"type\":\"pie\"}],\"scatter3d\":[{\"line\":{\"colorbar\":{\"outlinewidth\":0,\"ticks\":\"\"}},\"marker\":{\"colorbar\":{\"outlinewidth\":0,\"ticks\":\"\"}},\"type\":\"scatter3d\"}],\"scattercarpet\":[{\"marker\":{\"colorbar\":{\"outlinewidth\":0,\"ticks\":\"\"}},\"type\":\"scattercarpet\"}],\"scattergeo\":[{\"marker\":{\"colorbar\":{\"outlinewidth\":0,\"ticks\":\"\"}},\"type\":\"scattergeo\"}],\"scattergl\":[{\"marker\":{\"colorbar\":{\"outlinewidth\":0,\"ticks\":\"\"}},\"type\":\"scattergl\"}],\"scattermapbox\":[{\"marker\":{\"colorbar\":{\"outlinewidth\":0,\"ticks\":\"\"}},\"type\":\"scattermapbox\"}],\"scatterpolargl\":[{\"marker\":{\"colorbar\":{\"outlinewidth\":0,\"ticks\":\"\"}},\"type\":\"scatterpolargl\"}],\"scatterpolar\":[{\"marker\":{\"colorbar\":{\"outlinewidth\":0,\"ticks\":\"\"}},\"type\":\"scatterpolar\"}],\"scatter\":[{\"fillpattern\":{\"fillmode\":\"overlay\",\"size\":10,\"solidity\":0.2},\"type\":\"scatter\"}],\"scatterternary\":[{\"marker\":{\"colorbar\":{\"outlinewidth\":0,\"ticks\":\"\"}},\"type\":\"scatterternary\"}],\"surface\":[{\"colorbar\":{\"outlinewidth\":0,\"ticks\":\"\"},\"colorscale\":[[0.0,\"#0d0887\"],[0.1111111111111111,\"#46039f\"],[0.2222222222222222,\"#7201a8\"],[0.3333333333333333,\"#9c179e\"],[0.4444444444444444,\"#bd3786\"],[0.5555555555555556,\"#d8576b\"],[0.6666666666666666,\"#ed7953\"],[0.7777777777777778,\"#fb9f3a\"],[0.8888888888888888,\"#fdca26\"],[1.0,\"#f0f921\"]],\"type\":\"surface\"}],\"table\":[{\"cells\":{\"fill\":{\"color\":\"#EBF0F8\"},\"line\":{\"color\":\"white\"}},\"header\":{\"fill\":{\"color\":\"#C8D4E3\"},\"line\":{\"color\":\"white\"}},\"type\":\"table\"}]},\"layout\":{\"annotationdefaults\":{\"arrowcolor\":\"#2a3f5f\",\"arrowhead\":0,\"arrowwidth\":1},\"autotypenumbers\":\"strict\",\"coloraxis\":{\"colorbar\":{\"outlinewidth\":0,\"ticks\":\"\"}},\"colorscale\":{\"diverging\":[[0,\"#8e0152\"],[0.1,\"#c51b7d\"],[0.2,\"#de77ae\"],[0.3,\"#f1b6da\"],[0.4,\"#fde0ef\"],[0.5,\"#f7f7f7\"],[0.6,\"#e6f5d0\"],[0.7,\"#b8e186\"],[0.8,\"#7fbc41\"],[0.9,\"#4d9221\"],[1,\"#276419\"]],\"sequential\":[[0.0,\"#0d0887\"],[0.1111111111111111,\"#46039f\"],[0.2222222222222222,\"#7201a8\"],[0.3333333333333333,\"#9c179e\"],[0.4444444444444444,\"#bd3786\"],[0.5555555555555556,\"#d8576b\"],[0.6666666666666666,\"#ed7953\"],[0.7777777777777778,\"#fb9f3a\"],[0.8888888888888888,\"#fdca26\"],[1.0,\"#f0f921\"]],\"sequentialminus\":[[0.0,\"#0d0887\"],[0.1111111111111111,\"#46039f\"],[0.2222222222222222,\"#7201a8\"],[0.3333333333333333,\"#9c179e\"],[0.4444444444444444,\"#bd3786\"],[0.5555555555555556,\"#d8576b\"],[0.6666666666666666,\"#ed7953\"],[0.7777777777777778,\"#fb9f3a\"],[0.8888888888888888,\"#fdca26\"],[1.0,\"#f0f921\"]]},\"colorway\":[\"#636efa\",\"#EF553B\",\"#00cc96\",\"#ab63fa\",\"#FFA15A\",\"#19d3f3\",\"#FF6692\",\"#B6E880\",\"#FF97FF\",\"#FECB52\"],\"font\":{\"color\":\"#2a3f5f\"},\"geo\":{\"bgcolor\":\"white\",\"lakecolor\":\"white\",\"landcolor\":\"#E5ECF6\",\"showlakes\":true,\"showland\":true,\"subunitcolor\":\"white\"},\"hoverlabel\":{\"align\":\"left\"},\"hovermode\":\"closest\",\"mapbox\":{\"style\":\"light\"},\"paper_bgcolor\":\"white\",\"plot_bgcolor\":\"#E5ECF6\",\"polar\":{\"angularaxis\":{\"gridcolor\":\"white\",\"linecolor\":\"white\",\"ticks\":\"\"},\"bgcolor\":\"#E5ECF6\",\"radialaxis\":{\"gridcolor\":\"white\",\"linecolor\":\"white\",\"ticks\":\"\"}},\"scene\":{\"xaxis\":{\"backgroundcolor\":\"#E5ECF6\",\"gridcolor\":\"white\",\"gridwidth\":2,\"linecolor\":\"white\",\"showbackground\":true,\"ticks\":\"\",\"zerolinecolor\":\"white\"},\"yaxis\":{\"backgroundcolor\":\"#E5ECF6\",\"gridcolor\":\"white\",\"gridwidth\":2,\"linecolor\":\"white\",\"showbackground\":true,\"ticks\":\"\",\"zerolinecolor\":\"white\"},\"zaxis\":{\"backgroundcolor\":\"#E5ECF6\",\"gridcolor\":\"white\",\"gridwidth\":2,\"linecolor\":\"white\",\"showbackground\":true,\"ticks\":\"\",\"zerolinecolor\":\"white\"}},\"shapedefaults\":{\"line\":{\"color\":\"#2a3f5f\"}},\"ternary\":{\"aaxis\":{\"gridcolor\":\"white\",\"linecolor\":\"white\",\"ticks\":\"\"},\"baxis\":{\"gridcolor\":\"white\",\"linecolor\":\"white\",\"ticks\":\"\"},\"bgcolor\":\"#E5ECF6\",\"caxis\":{\"gridcolor\":\"white\",\"linecolor\":\"white\",\"ticks\":\"\"}},\"title\":{\"x\":0.05},\"xaxis\":{\"automargin\":true,\"gridcolor\":\"white\",\"linecolor\":\"white\",\"ticks\":\"\",\"title\":{\"standoff\":15},\"zerolinecolor\":\"white\",\"zerolinewidth\":2},\"yaxis\":{\"automargin\":true,\"gridcolor\":\"white\",\"linecolor\":\"white\",\"ticks\":\"\",\"title\":{\"standoff\":15},\"zerolinecolor\":\"white\",\"zerolinewidth\":2}}},\"title\":{\"font\":{\"color\":\"#4D5663\"}},\"xaxis\":{\"gridcolor\":\"#E1E5ED\",\"showgrid\":true,\"tickfont\":{\"color\":\"#4D5663\"},\"title\":{\"font\":{\"color\":\"#4D5663\"},\"text\":\"\"},\"zerolinecolor\":\"#E1E5ED\"},\"yaxis\":{\"gridcolor\":\"#E1E5ED\",\"showgrid\":true,\"tickfont\":{\"color\":\"#4D5663\"},\"title\":{\"font\":{\"color\":\"#4D5663\"},\"text\":\"\"},\"zerolinecolor\":\"#E1E5ED\"}},                        {\"showLink\": true, \"linkText\": \"Export to plot.ly\", \"plotlyServerURL\": \"https://plot.ly\", \"responsive\": true}                    ).then(function(){\n",
       "                            \n",
       "var gd = document.getElementById('69ea4b1e-aa87-4fc2-81f0-a094f67c90d4');\n",
       "var x = new MutationObserver(function (mutations, observer) {{\n",
       "        var display = window.getComputedStyle(gd).display;\n",
       "        if (!display || display === 'none') {{\n",
       "            console.log([gd, 'removed!']);\n",
       "            Plotly.purge(gd);\n",
       "            observer.disconnect();\n",
       "        }}\n",
       "}});\n",
       "\n",
       "// Listen for the removal of the full notebook cells\n",
       "var notebookContainer = gd.closest('#notebook-container');\n",
       "if (notebookContainer) {{\n",
       "    x.observe(notebookContainer, {childList: true});\n",
       "}}\n",
       "\n",
       "// Listen for the clearing of the current output cell\n",
       "var outputEl = gd.closest('.output');\n",
       "if (outputEl) {{\n",
       "    x.observe(outputEl, {childList: true});\n",
       "}}\n",
       "\n",
       "                        })                };                });            </script>        </div>"
      ]
     },
     "metadata": {},
     "output_type": "display_data"
    }
   ],
   "source": [
    "df['A'].iplot(kind='hist', bins=50)"
   ]
  },
  {
   "cell_type": "code",
   "execution_count": 38,
   "id": "5ec3add9",
   "metadata": {},
   "outputs": [
    {
     "data": {
      "application/vnd.plotly.v1+json": {
       "config": {
        "linkText": "Export to plot.ly",
        "plotlyServerURL": "https://plot.ly",
        "showLink": true
       },
       "data": [
        {
         "histfunc": "count",
         "histnorm": "",
         "marker": {
          "color": "rgba(255, 153, 51, 1.0)",
          "line": {
           "color": "#4D5663",
           "width": 1.3
          }
         },
         "name": "A",
         "opacity": 0.8,
         "orientation": "v",
         "type": "histogram",
         "x": [
          0.406730039480157,
          -0.39228221499578964,
          0.7584886923840094,
          -0.9440396101168271,
          -0.727462876129729,
          0.4839174053257021,
          0.3627206584336743,
          1.168876137696794,
          1.2510313986768908,
          -0.8539452754949033,
          0.055427781643683255,
          -0.6784544917630049,
          0.8326820808182758,
          0.28424683461318606,
          -0.14757676900957287,
          0.11439817628276706,
          -0.18475712704423441,
          0.0038164459887509153,
          0.34990494510895703,
          -0.4378365112671588,
          -0.319660271111292,
          -0.3137996100294566,
          0.7818668395960702,
          1.233186915064355,
          -0.6435088591199211,
          -0.7662361903303532,
          0.6315312339735785,
          -1.5985204957973767,
          -1.8108208438232374,
          2.851513981870026,
          -0.0364816577569318,
          -0.07999396186412067,
          -1.4714556943251862,
          -0.47159853321598855,
          -1.4583382229612358,
          0.5500685036145431,
          -0.5124116539500457,
          -0.4612840603123584,
          1.2075325846345708,
          0.27937512403424236,
          0.4729467860759181,
          0.694237909442264,
          -0.22313437477461176,
          -2.1673385397595584,
          1.3640671084533982,
          1.4328639494199835,
          -1.3186427873817268,
          -1.0994996582162526,
          -0.41552140832138207,
          -1.1080560081519106,
          0.2813001247748424,
          -0.7580111392673803,
          -0.7788585603184489,
          1.2751150122692931,
          2.00579679912336,
          0.47791604052873227,
          0.12635847592401317,
          0.4544312374061017,
          -0.701182543768695,
          -0.31650116074208257,
          1.40877730233643,
          -0.30667471652084766,
          0.8587407419478714,
          1.9907280644550456,
          -0.34251402756783583,
          0.8082078562811572,
          0.15996260259357092,
          0.004165864484431415,
          1.226249713622541,
          1.448104818376337,
          -0.571107037470229,
          1.0776789911239473,
          -0.1018710678062574,
          1.1137520194408075,
          0.305546217332669,
          -0.43272160683972544,
          0.5002141172314987,
          1.384830376450365,
          1.3439169146885883,
          -0.801316865757186,
          0.6946582118008514,
          1.1900960545880286,
          0.15796941300637093,
          1.1856772524598995,
          -1.3348503021181104,
          0.26021804126709724,
          0.7641069566280589,
          0.5619839963840547,
          0.9919306452669481,
          -0.42193016475058465,
          1.6278652681325925,
          0.040967833820687465,
          0.4341660540644965,
          1.2258119652660264,
          0.16250938553896713,
          0.7601085688053791,
          -0.9805826865572652,
          2.3002686917555693,
          1.301006005581953,
          1.754526468354843
         ]
        },
        {
         "histfunc": "count",
         "histnorm": "",
         "marker": {
          "color": "rgba(55, 128, 191, 1.0)",
          "line": {
           "color": "#4D5663",
           "width": 1.3
          }
         },
         "name": "B",
         "opacity": 0.8,
         "orientation": "v",
         "type": "histogram",
         "x": [
          1.097376166904293,
          1.8642792306676408,
          1.2461137578017065,
          1.477672212271986,
          -0.6321980447209725,
          -0.701592290165167,
          -1.9910127251039769,
          -0.16971343962788965,
          1.541150001898701,
          -1.6226902596728239,
          -0.19448210077836395,
          -0.47549319984974325,
          0.7803436367159594,
          2.08048633199042,
          -0.8719472680505037,
          -0.37442017918715675,
          -0.4891452026651608,
          -0.5970083414206725,
          -0.16973314267358802,
          0.06428229010088789,
          0.4494812462908728,
          -0.07193734454633495,
          0.9309418106438704,
          -0.9753354844829426,
          -0.22601455757081423,
          0.18748715389366605,
          -0.1312877215837846,
          0.2381938795614643,
          -1.7590016804188497,
          0.6731156410468611,
          -0.7597413854750319,
          -0.8841013551192329,
          0.3929846598823091,
          0.11017410931895902,
          0.18683594785406676,
          -0.2029225971205222,
          -1.0052515203199146,
          -0.8693936292685707,
          -0.5374583078325221,
          0.5430544806259738,
          -1.3965788668301606,
          -1.1651248251003146,
          -0.8524306919840188,
          1.128249186662589,
          0.6442598329163325,
          1.0213495698127613,
          -0.23049466510995706,
          0.07953191198925529,
          -1.4659932409105514,
          1.2955320882347134,
          -0.8377201170388314,
          -0.4065340844831503,
          -1.5343531136588566,
          0.5484422875986819,
          0.09010716670491731,
          -2.249789437139244,
          -0.4964833178001253,
          0.9236763626726683,
          0.8452213396049112,
          -1.2927235441395513,
          1.7141323156631694,
          2.0912246513019284,
          0.25670750122387975,
          -1.1156603606229654,
          1.9235857811875827,
          -0.8710707446693985,
          1.3740453390524754,
          -0.35252170079482553,
          0.3105335666082955,
          -0.8699675452643268,
          -1.5648524283832677,
          0.5259596252560428,
          -0.11867843751372183,
          -0.4825495127875421,
          0.47010600603079233,
          0.6759767650864442,
          -0.1813265244137657,
          0.23745839470300278,
          1.9769665072823797,
          0.5902013388082753,
          1.710003116764618,
          0.03506191983633523,
          0.36609790401099235,
          -0.44103957812685,
          0.014828666517463394,
          0.21150895973385886,
          1.5565405830025982,
          2.401094575846921,
          -0.28780392140728167,
          -1.93983090406157,
          0.4842455485607953,
          1.0815228442886557,
          -0.36042455727396383,
          -0.6162822329956089,
          0.7698723634388819,
          -0.26264604843217976,
          -0.5313630021704862,
          -0.9796202663756749,
          0.07779045872360635,
          0.45828456864812617
         ]
        },
        {
         "histfunc": "count",
         "histnorm": "",
         "marker": {
          "color": "rgba(50, 171, 96, 1.0)",
          "line": {
           "color": "#4D5663",
           "width": 1.3
          }
         },
         "name": "C",
         "opacity": 0.8,
         "orientation": "v",
         "type": "histogram",
         "x": [
          -0.959747881609686,
          1.0367821198208023,
          1.1793643986088211,
          -1.1847910685272307,
          -0.8084386447856533,
          0.17988019416163548,
          0.3980228918066277,
          -1.08082996218518,
          -0.5666268107303905,
          -0.3844724301983165,
          -0.25922695615111,
          -0.19240029331781172,
          -0.9262680677710405,
          1.5202632748089229,
          -0.5488602253956538,
          1.5444815479525467,
          -1.02807514380886,
          -1.3369806920411973,
          -1.2355219454915394,
          -0.3650483311232349,
          -1.0378418608531532,
          -0.33723343966111063,
          0.612532028665151,
          2.264398042000688,
          1.5526885092866494,
          -1.041815130520541,
          -1.4449717477082784,
          -0.6765598716890142,
          -0.1188794303229958,
          -0.2296694432837657,
          -0.10692238325046478,
          -1.4796792755911248,
          0.046884110499893085,
          -0.6400552792075027,
          -1.6148675005152104,
          -0.8181027964469965,
          -0.23619986103989418,
          -1.3309197760816576,
          -1.346254717197355,
          0.715404419869758,
          0.9801234758543126,
          -0.9296905800722829,
          0.4679481363201032,
          -1.1818051412191242,
          0.9154701140210872,
          1.3932319048211754,
          0.5444851638530489,
          1.4537859430819797,
          0.24489743804102446,
          0.19791287590021447,
          -0.6698998391357807,
          -1.3978800295772889,
          0.3794789816172494,
          -1.2597528308744037,
          0.7911117770587406,
          0.8860111458984627,
          1.100997847227812,
          1.2227346621855006,
          0.23813988698570066,
          0.7369555603898272,
          0.12729412239022272,
          0.4941300636382026,
          0.3001154465893416,
          -0.8522656780053931,
          -1.2428088551637078,
          -0.4331463496663254,
          0.16852650488740917,
          -0.6155703411818955,
          -0.7470558852677666,
          -0.17081111977622232,
          -1.0108532874031082,
          0.30111657698245825,
          -1.4004351460905673,
          -0.617479520524966,
          1.096583802392027,
          0.38027555293067633,
          -2.4770444913214926,
          0.5124599056022963,
          -0.7864323172889783,
          -2.012404930830048,
          -0.5239455987265228,
          0.28855396935654365,
          -2.180575119874746,
          0.22409243129740206,
          1.6110071750508808,
          -0.1732752241703584,
          1.2478975671405141,
          -0.048669124542163676,
          -1.0065265236213345,
          0.3888443659165873,
          -0.27466355453413027,
          -0.5211709616199443,
          -2.213711402445004,
          1.6586733594573306,
          -0.22848418615931423,
          0.057267395731893815,
          0.3821345869931526,
          2.2275703180856756,
          0.2072166861025222,
          0.12301242491396328
         ]
        },
        {
         "histfunc": "count",
         "histnorm": "",
         "marker": {
          "color": "rgba(128, 0, 128, 1.0)",
          "line": {
           "color": "#4D5663",
           "width": 1.3
          }
         },
         "name": "D",
         "opacity": 0.8,
         "orientation": "v",
         "type": "histogram",
         "x": [
          -0.3775237105476041,
          1.5469330558820853,
          0.7975837377689529,
          -1.0215237358858384,
          0.046174419806248125,
          -0.4546700022403752,
          -0.976645584975092,
          0.45717773411839563,
          -1.3606088988003922,
          -1.764923821143453,
          1.3491715340900854,
          1.0404434348743121,
          2.231620580687955,
          -0.9592701447679857,
          0.02481391863717533,
          1.1543392090813562,
          -0.5448617030321711,
          0.981060386509627,
          -1.3971884449374945,
          0.051944384918920075,
          0.5191578103580838,
          -0.2079011438790017,
          2.4598800535048064,
          -0.3064029027419856,
          1.7368796898541534,
          2.0259377554560363,
          0.05077977396190428,
          2.3636997814467824,
          -0.9001904283819676,
          -0.4615461008048252,
          1.580150496138963,
          -1.4459977513748663,
          0.7849704949260711,
          0.9370021432027721,
          -1.0438536510350638,
          1.0642048533773578,
          -0.5047233858253104,
          -1.2985658864810619,
          -0.9347355102775656,
          -1.7435021361118295,
          0.6540645036517425,
          -0.5406342471593872,
          0.8175495870482,
          -0.28795761265237857,
          -0.6040342612099427,
          -0.000273981036672952,
          -0.03040250123411199,
          -1.3474981929133365,
          1.326316641128734,
          -1.4048711185810525,
          0.3496708975244264,
          1.175758589037626,
          0.5407612368541103,
          -1.5947823321895451,
          -0.2814276918443059,
          -0.4266535186520008,
          -0.11651375400559504,
          0.7395628814325849,
          -0.21127926389675677,
          -1.6285256466392641,
          2.715790717037815,
          -0.4381836055540097,
          -0.7167752813344342,
          1.6344080173541937,
          1.092247657456989,
          1.1918526512537928,
          1.4797193451776989,
          -0.042073357485148864,
          1.4353536465377565,
          0.566212208762207,
          -1.0469684943619808,
          1.2965361364755423,
          -0.7693246295679306,
          1.4043778339323014,
          -0.022019816215365234,
          -0.2565755827695688,
          -0.9516114323200353,
          0.4100799957427423,
          0.27899071689190635,
          -0.643630880672682,
          1.3788949433245734,
          1.7421489253733558,
          0.47087130008510547,
          0.1086939483089091,
          -0.796358241377402,
          0.43141768585008794,
          0.4935046381639671,
          2.2923780110911194,
          0.4553633293911215,
          1.2470448067482276,
          0.5680883081761456,
          -0.17640134522893047,
          0.6490268225007355,
          -0.844411924817917,
          -1.556331856145653,
          -0.6893983779063737,
          -0.9099102769233144,
          -1.0202975535224497,
          -0.8373455223524954,
          -0.0428262147603727
         ]
        }
       ],
       "layout": {
        "barmode": "overlay",
        "legend": {
         "bgcolor": "#F5F6F9",
         "font": {
          "color": "#4D5663"
         }
        },
        "paper_bgcolor": "#F5F6F9",
        "plot_bgcolor": "#F5F6F9",
        "template": {
         "data": {
          "bar": [
           {
            "error_x": {
             "color": "#2a3f5f"
            },
            "error_y": {
             "color": "#2a3f5f"
            },
            "marker": {
             "line": {
              "color": "#E5ECF6",
              "width": 0.5
             },
             "pattern": {
              "fillmode": "overlay",
              "size": 10,
              "solidity": 0.2
             }
            },
            "type": "bar"
           }
          ],
          "barpolar": [
           {
            "marker": {
             "line": {
              "color": "#E5ECF6",
              "width": 0.5
             },
             "pattern": {
              "fillmode": "overlay",
              "size": 10,
              "solidity": 0.2
             }
            },
            "type": "barpolar"
           }
          ],
          "carpet": [
           {
            "aaxis": {
             "endlinecolor": "#2a3f5f",
             "gridcolor": "white",
             "linecolor": "white",
             "minorgridcolor": "white",
             "startlinecolor": "#2a3f5f"
            },
            "baxis": {
             "endlinecolor": "#2a3f5f",
             "gridcolor": "white",
             "linecolor": "white",
             "minorgridcolor": "white",
             "startlinecolor": "#2a3f5f"
            },
            "type": "carpet"
           }
          ],
          "choropleth": [
           {
            "colorbar": {
             "outlinewidth": 0,
             "ticks": ""
            },
            "type": "choropleth"
           }
          ],
          "contour": [
           {
            "colorbar": {
             "outlinewidth": 0,
             "ticks": ""
            },
            "colorscale": [
             [
              0,
              "#0d0887"
             ],
             [
              0.1111111111111111,
              "#46039f"
             ],
             [
              0.2222222222222222,
              "#7201a8"
             ],
             [
              0.3333333333333333,
              "#9c179e"
             ],
             [
              0.4444444444444444,
              "#bd3786"
             ],
             [
              0.5555555555555556,
              "#d8576b"
             ],
             [
              0.6666666666666666,
              "#ed7953"
             ],
             [
              0.7777777777777778,
              "#fb9f3a"
             ],
             [
              0.8888888888888888,
              "#fdca26"
             ],
             [
              1,
              "#f0f921"
             ]
            ],
            "type": "contour"
           }
          ],
          "contourcarpet": [
           {
            "colorbar": {
             "outlinewidth": 0,
             "ticks": ""
            },
            "type": "contourcarpet"
           }
          ],
          "heatmap": [
           {
            "colorbar": {
             "outlinewidth": 0,
             "ticks": ""
            },
            "colorscale": [
             [
              0,
              "#0d0887"
             ],
             [
              0.1111111111111111,
              "#46039f"
             ],
             [
              0.2222222222222222,
              "#7201a8"
             ],
             [
              0.3333333333333333,
              "#9c179e"
             ],
             [
              0.4444444444444444,
              "#bd3786"
             ],
             [
              0.5555555555555556,
              "#d8576b"
             ],
             [
              0.6666666666666666,
              "#ed7953"
             ],
             [
              0.7777777777777778,
              "#fb9f3a"
             ],
             [
              0.8888888888888888,
              "#fdca26"
             ],
             [
              1,
              "#f0f921"
             ]
            ],
            "type": "heatmap"
           }
          ],
          "heatmapgl": [
           {
            "colorbar": {
             "outlinewidth": 0,
             "ticks": ""
            },
            "colorscale": [
             [
              0,
              "#0d0887"
             ],
             [
              0.1111111111111111,
              "#46039f"
             ],
             [
              0.2222222222222222,
              "#7201a8"
             ],
             [
              0.3333333333333333,
              "#9c179e"
             ],
             [
              0.4444444444444444,
              "#bd3786"
             ],
             [
              0.5555555555555556,
              "#d8576b"
             ],
             [
              0.6666666666666666,
              "#ed7953"
             ],
             [
              0.7777777777777778,
              "#fb9f3a"
             ],
             [
              0.8888888888888888,
              "#fdca26"
             ],
             [
              1,
              "#f0f921"
             ]
            ],
            "type": "heatmapgl"
           }
          ],
          "histogram": [
           {
            "marker": {
             "pattern": {
              "fillmode": "overlay",
              "size": 10,
              "solidity": 0.2
             }
            },
            "type": "histogram"
           }
          ],
          "histogram2d": [
           {
            "colorbar": {
             "outlinewidth": 0,
             "ticks": ""
            },
            "colorscale": [
             [
              0,
              "#0d0887"
             ],
             [
              0.1111111111111111,
              "#46039f"
             ],
             [
              0.2222222222222222,
              "#7201a8"
             ],
             [
              0.3333333333333333,
              "#9c179e"
             ],
             [
              0.4444444444444444,
              "#bd3786"
             ],
             [
              0.5555555555555556,
              "#d8576b"
             ],
             [
              0.6666666666666666,
              "#ed7953"
             ],
             [
              0.7777777777777778,
              "#fb9f3a"
             ],
             [
              0.8888888888888888,
              "#fdca26"
             ],
             [
              1,
              "#f0f921"
             ]
            ],
            "type": "histogram2d"
           }
          ],
          "histogram2dcontour": [
           {
            "colorbar": {
             "outlinewidth": 0,
             "ticks": ""
            },
            "colorscale": [
             [
              0,
              "#0d0887"
             ],
             [
              0.1111111111111111,
              "#46039f"
             ],
             [
              0.2222222222222222,
              "#7201a8"
             ],
             [
              0.3333333333333333,
              "#9c179e"
             ],
             [
              0.4444444444444444,
              "#bd3786"
             ],
             [
              0.5555555555555556,
              "#d8576b"
             ],
             [
              0.6666666666666666,
              "#ed7953"
             ],
             [
              0.7777777777777778,
              "#fb9f3a"
             ],
             [
              0.8888888888888888,
              "#fdca26"
             ],
             [
              1,
              "#f0f921"
             ]
            ],
            "type": "histogram2dcontour"
           }
          ],
          "mesh3d": [
           {
            "colorbar": {
             "outlinewidth": 0,
             "ticks": ""
            },
            "type": "mesh3d"
           }
          ],
          "parcoords": [
           {
            "line": {
             "colorbar": {
              "outlinewidth": 0,
              "ticks": ""
             }
            },
            "type": "parcoords"
           }
          ],
          "pie": [
           {
            "automargin": true,
            "type": "pie"
           }
          ],
          "scatter": [
           {
            "fillpattern": {
             "fillmode": "overlay",
             "size": 10,
             "solidity": 0.2
            },
            "type": "scatter"
           }
          ],
          "scatter3d": [
           {
            "line": {
             "colorbar": {
              "outlinewidth": 0,
              "ticks": ""
             }
            },
            "marker": {
             "colorbar": {
              "outlinewidth": 0,
              "ticks": ""
             }
            },
            "type": "scatter3d"
           }
          ],
          "scattercarpet": [
           {
            "marker": {
             "colorbar": {
              "outlinewidth": 0,
              "ticks": ""
             }
            },
            "type": "scattercarpet"
           }
          ],
          "scattergeo": [
           {
            "marker": {
             "colorbar": {
              "outlinewidth": 0,
              "ticks": ""
             }
            },
            "type": "scattergeo"
           }
          ],
          "scattergl": [
           {
            "marker": {
             "colorbar": {
              "outlinewidth": 0,
              "ticks": ""
             }
            },
            "type": "scattergl"
           }
          ],
          "scattermapbox": [
           {
            "marker": {
             "colorbar": {
              "outlinewidth": 0,
              "ticks": ""
             }
            },
            "type": "scattermapbox"
           }
          ],
          "scatterpolar": [
           {
            "marker": {
             "colorbar": {
              "outlinewidth": 0,
              "ticks": ""
             }
            },
            "type": "scatterpolar"
           }
          ],
          "scatterpolargl": [
           {
            "marker": {
             "colorbar": {
              "outlinewidth": 0,
              "ticks": ""
             }
            },
            "type": "scatterpolargl"
           }
          ],
          "scatterternary": [
           {
            "marker": {
             "colorbar": {
              "outlinewidth": 0,
              "ticks": ""
             }
            },
            "type": "scatterternary"
           }
          ],
          "surface": [
           {
            "colorbar": {
             "outlinewidth": 0,
             "ticks": ""
            },
            "colorscale": [
             [
              0,
              "#0d0887"
             ],
             [
              0.1111111111111111,
              "#46039f"
             ],
             [
              0.2222222222222222,
              "#7201a8"
             ],
             [
              0.3333333333333333,
              "#9c179e"
             ],
             [
              0.4444444444444444,
              "#bd3786"
             ],
             [
              0.5555555555555556,
              "#d8576b"
             ],
             [
              0.6666666666666666,
              "#ed7953"
             ],
             [
              0.7777777777777778,
              "#fb9f3a"
             ],
             [
              0.8888888888888888,
              "#fdca26"
             ],
             [
              1,
              "#f0f921"
             ]
            ],
            "type": "surface"
           }
          ],
          "table": [
           {
            "cells": {
             "fill": {
              "color": "#EBF0F8"
             },
             "line": {
              "color": "white"
             }
            },
            "header": {
             "fill": {
              "color": "#C8D4E3"
             },
             "line": {
              "color": "white"
             }
            },
            "type": "table"
           }
          ]
         },
         "layout": {
          "annotationdefaults": {
           "arrowcolor": "#2a3f5f",
           "arrowhead": 0,
           "arrowwidth": 1
          },
          "autotypenumbers": "strict",
          "coloraxis": {
           "colorbar": {
            "outlinewidth": 0,
            "ticks": ""
           }
          },
          "colorscale": {
           "diverging": [
            [
             0,
             "#8e0152"
            ],
            [
             0.1,
             "#c51b7d"
            ],
            [
             0.2,
             "#de77ae"
            ],
            [
             0.3,
             "#f1b6da"
            ],
            [
             0.4,
             "#fde0ef"
            ],
            [
             0.5,
             "#f7f7f7"
            ],
            [
             0.6,
             "#e6f5d0"
            ],
            [
             0.7,
             "#b8e186"
            ],
            [
             0.8,
             "#7fbc41"
            ],
            [
             0.9,
             "#4d9221"
            ],
            [
             1,
             "#276419"
            ]
           ],
           "sequential": [
            [
             0,
             "#0d0887"
            ],
            [
             0.1111111111111111,
             "#46039f"
            ],
            [
             0.2222222222222222,
             "#7201a8"
            ],
            [
             0.3333333333333333,
             "#9c179e"
            ],
            [
             0.4444444444444444,
             "#bd3786"
            ],
            [
             0.5555555555555556,
             "#d8576b"
            ],
            [
             0.6666666666666666,
             "#ed7953"
            ],
            [
             0.7777777777777778,
             "#fb9f3a"
            ],
            [
             0.8888888888888888,
             "#fdca26"
            ],
            [
             1,
             "#f0f921"
            ]
           ],
           "sequentialminus": [
            [
             0,
             "#0d0887"
            ],
            [
             0.1111111111111111,
             "#46039f"
            ],
            [
             0.2222222222222222,
             "#7201a8"
            ],
            [
             0.3333333333333333,
             "#9c179e"
            ],
            [
             0.4444444444444444,
             "#bd3786"
            ],
            [
             0.5555555555555556,
             "#d8576b"
            ],
            [
             0.6666666666666666,
             "#ed7953"
            ],
            [
             0.7777777777777778,
             "#fb9f3a"
            ],
            [
             0.8888888888888888,
             "#fdca26"
            ],
            [
             1,
             "#f0f921"
            ]
           ]
          },
          "colorway": [
           "#636efa",
           "#EF553B",
           "#00cc96",
           "#ab63fa",
           "#FFA15A",
           "#19d3f3",
           "#FF6692",
           "#B6E880",
           "#FF97FF",
           "#FECB52"
          ],
          "font": {
           "color": "#2a3f5f"
          },
          "geo": {
           "bgcolor": "white",
           "lakecolor": "white",
           "landcolor": "#E5ECF6",
           "showlakes": true,
           "showland": true,
           "subunitcolor": "white"
          },
          "hoverlabel": {
           "align": "left"
          },
          "hovermode": "closest",
          "mapbox": {
           "style": "light"
          },
          "paper_bgcolor": "white",
          "plot_bgcolor": "#E5ECF6",
          "polar": {
           "angularaxis": {
            "gridcolor": "white",
            "linecolor": "white",
            "ticks": ""
           },
           "bgcolor": "#E5ECF6",
           "radialaxis": {
            "gridcolor": "white",
            "linecolor": "white",
            "ticks": ""
           }
          },
          "scene": {
           "xaxis": {
            "backgroundcolor": "#E5ECF6",
            "gridcolor": "white",
            "gridwidth": 2,
            "linecolor": "white",
            "showbackground": true,
            "ticks": "",
            "zerolinecolor": "white"
           },
           "yaxis": {
            "backgroundcolor": "#E5ECF6",
            "gridcolor": "white",
            "gridwidth": 2,
            "linecolor": "white",
            "showbackground": true,
            "ticks": "",
            "zerolinecolor": "white"
           },
           "zaxis": {
            "backgroundcolor": "#E5ECF6",
            "gridcolor": "white",
            "gridwidth": 2,
            "linecolor": "white",
            "showbackground": true,
            "ticks": "",
            "zerolinecolor": "white"
           }
          },
          "shapedefaults": {
           "line": {
            "color": "#2a3f5f"
           }
          },
          "ternary": {
           "aaxis": {
            "gridcolor": "white",
            "linecolor": "white",
            "ticks": ""
           },
           "baxis": {
            "gridcolor": "white",
            "linecolor": "white",
            "ticks": ""
           },
           "bgcolor": "#E5ECF6",
           "caxis": {
            "gridcolor": "white",
            "linecolor": "white",
            "ticks": ""
           }
          },
          "title": {
           "x": 0.05
          },
          "xaxis": {
           "automargin": true,
           "gridcolor": "white",
           "linecolor": "white",
           "ticks": "",
           "title": {
            "standoff": 15
           },
           "zerolinecolor": "white",
           "zerolinewidth": 2
          },
          "yaxis": {
           "automargin": true,
           "gridcolor": "white",
           "linecolor": "white",
           "ticks": "",
           "title": {
            "standoff": 15
           },
           "zerolinecolor": "white",
           "zerolinewidth": 2
          }
         }
        },
        "title": {
         "font": {
          "color": "#4D5663"
         }
        },
        "xaxis": {
         "gridcolor": "#E1E5ED",
         "showgrid": true,
         "tickfont": {
          "color": "#4D5663"
         },
         "title": {
          "font": {
           "color": "#4D5663"
          },
          "text": ""
         },
         "zerolinecolor": "#E1E5ED"
        },
        "yaxis": {
         "gridcolor": "#E1E5ED",
         "showgrid": true,
         "tickfont": {
          "color": "#4D5663"
         },
         "title": {
          "font": {
           "color": "#4D5663"
          },
          "text": ""
         },
         "zerolinecolor": "#E1E5ED"
        }
       }
      },
      "text/html": [
       "<div>                            <div id=\"7d215fc4-601a-4119-82d8-5832cbdaa4da\" class=\"plotly-graph-div\" style=\"height:525px; width:100%;\"></div>            <script type=\"text/javascript\">                require([\"plotly\"], function(Plotly) {                    window.PLOTLYENV=window.PLOTLYENV || {};\n",
       "                    window.PLOTLYENV.BASE_URL='https://plot.ly';                                    if (document.getElementById(\"7d215fc4-601a-4119-82d8-5832cbdaa4da\")) {                    Plotly.newPlot(                        \"7d215fc4-601a-4119-82d8-5832cbdaa4da\",                        [{\"histfunc\":\"count\",\"histnorm\":\"\",\"marker\":{\"color\":\"rgba(255, 153, 51, 1.0)\",\"line\":{\"color\":\"#4D5663\",\"width\":1.3}},\"name\":\"A\",\"opacity\":0.8,\"orientation\":\"v\",\"x\":[0.406730039480157,-0.39228221499578964,0.7584886923840094,-0.9440396101168271,-0.727462876129729,0.4839174053257021,0.3627206584336743,1.168876137696794,1.2510313986768908,-0.8539452754949033,0.055427781643683255,-0.6784544917630049,0.8326820808182758,0.28424683461318606,-0.14757676900957287,0.11439817628276706,-0.18475712704423441,0.0038164459887509153,0.34990494510895703,-0.4378365112671588,-0.319660271111292,-0.3137996100294566,0.7818668395960702,1.233186915064355,-0.6435088591199211,-0.7662361903303532,0.6315312339735785,-1.5985204957973767,-1.8108208438232374,2.851513981870026,-0.0364816577569318,-0.07999396186412067,-1.4714556943251862,-0.47159853321598855,-1.4583382229612358,0.5500685036145431,-0.5124116539500457,-0.4612840603123584,1.2075325846345708,0.27937512403424236,0.4729467860759181,0.694237909442264,-0.22313437477461176,-2.1673385397595584,1.3640671084533982,1.4328639494199835,-1.3186427873817268,-1.0994996582162526,-0.41552140832138207,-1.1080560081519106,0.2813001247748424,-0.7580111392673803,-0.7788585603184489,1.2751150122692931,2.00579679912336,0.47791604052873227,0.12635847592401317,0.4544312374061017,-0.701182543768695,-0.31650116074208257,1.40877730233643,-0.30667471652084766,0.8587407419478714,1.9907280644550456,-0.34251402756783583,0.8082078562811572,0.15996260259357092,0.004165864484431415,1.226249713622541,1.448104818376337,-0.571107037470229,1.0776789911239473,-0.1018710678062574,1.1137520194408075,0.305546217332669,-0.43272160683972544,0.5002141172314987,1.384830376450365,1.3439169146885883,-0.801316865757186,0.6946582118008514,1.1900960545880286,0.15796941300637093,1.1856772524598995,-1.3348503021181104,0.26021804126709724,0.7641069566280589,0.5619839963840547,0.9919306452669481,-0.42193016475058465,1.6278652681325925,0.040967833820687465,0.4341660540644965,1.2258119652660264,0.16250938553896713,0.7601085688053791,-0.9805826865572652,2.3002686917555693,1.301006005581953,1.754526468354843],\"type\":\"histogram\"},{\"histfunc\":\"count\",\"histnorm\":\"\",\"marker\":{\"color\":\"rgba(55, 128, 191, 1.0)\",\"line\":{\"color\":\"#4D5663\",\"width\":1.3}},\"name\":\"B\",\"opacity\":0.8,\"orientation\":\"v\",\"x\":[1.097376166904293,1.8642792306676408,1.2461137578017065,1.477672212271986,-0.6321980447209725,-0.701592290165167,-1.9910127251039769,-0.16971343962788965,1.541150001898701,-1.6226902596728239,-0.19448210077836395,-0.47549319984974325,0.7803436367159594,2.08048633199042,-0.8719472680505037,-0.37442017918715675,-0.4891452026651608,-0.5970083414206725,-0.16973314267358802,0.06428229010088789,0.4494812462908728,-0.07193734454633495,0.9309418106438704,-0.9753354844829426,-0.22601455757081423,0.18748715389366605,-0.1312877215837846,0.2381938795614643,-1.7590016804188497,0.6731156410468611,-0.7597413854750319,-0.8841013551192329,0.3929846598823091,0.11017410931895902,0.18683594785406676,-0.2029225971205222,-1.0052515203199146,-0.8693936292685707,-0.5374583078325221,0.5430544806259738,-1.3965788668301606,-1.1651248251003146,-0.8524306919840188,1.128249186662589,0.6442598329163325,1.0213495698127613,-0.23049466510995706,0.07953191198925529,-1.4659932409105514,1.2955320882347134,-0.8377201170388314,-0.4065340844831503,-1.5343531136588566,0.5484422875986819,0.09010716670491731,-2.249789437139244,-0.4964833178001253,0.9236763626726683,0.8452213396049112,-1.2927235441395513,1.7141323156631694,2.0912246513019284,0.25670750122387975,-1.1156603606229654,1.9235857811875827,-0.8710707446693985,1.3740453390524754,-0.35252170079482553,0.3105335666082955,-0.8699675452643268,-1.5648524283832677,0.5259596252560428,-0.11867843751372183,-0.4825495127875421,0.47010600603079233,0.6759767650864442,-0.1813265244137657,0.23745839470300278,1.9769665072823797,0.5902013388082753,1.710003116764618,0.03506191983633523,0.36609790401099235,-0.44103957812685,0.014828666517463394,0.21150895973385886,1.5565405830025982,2.401094575846921,-0.28780392140728167,-1.93983090406157,0.4842455485607953,1.0815228442886557,-0.36042455727396383,-0.6162822329956089,0.7698723634388819,-0.26264604843217976,-0.5313630021704862,-0.9796202663756749,0.07779045872360635,0.45828456864812617],\"type\":\"histogram\"},{\"histfunc\":\"count\",\"histnorm\":\"\",\"marker\":{\"color\":\"rgba(50, 171, 96, 1.0)\",\"line\":{\"color\":\"#4D5663\",\"width\":1.3}},\"name\":\"C\",\"opacity\":0.8,\"orientation\":\"v\",\"x\":[-0.959747881609686,1.0367821198208023,1.1793643986088211,-1.1847910685272307,-0.8084386447856533,0.17988019416163548,0.3980228918066277,-1.08082996218518,-0.5666268107303905,-0.3844724301983165,-0.25922695615111,-0.19240029331781172,-0.9262680677710405,1.5202632748089229,-0.5488602253956538,1.5444815479525467,-1.02807514380886,-1.3369806920411973,-1.2355219454915394,-0.3650483311232349,-1.0378418608531532,-0.33723343966111063,0.612532028665151,2.264398042000688,1.5526885092866494,-1.041815130520541,-1.4449717477082784,-0.6765598716890142,-0.1188794303229958,-0.2296694432837657,-0.10692238325046478,-1.4796792755911248,0.046884110499893085,-0.6400552792075027,-1.6148675005152104,-0.8181027964469965,-0.23619986103989418,-1.3309197760816576,-1.346254717197355,0.715404419869758,0.9801234758543126,-0.9296905800722829,0.4679481363201032,-1.1818051412191242,0.9154701140210872,1.3932319048211754,0.5444851638530489,1.4537859430819797,0.24489743804102446,0.19791287590021447,-0.6698998391357807,-1.3978800295772889,0.3794789816172494,-1.2597528308744037,0.7911117770587406,0.8860111458984627,1.100997847227812,1.2227346621855006,0.23813988698570066,0.7369555603898272,0.12729412239022272,0.4941300636382026,0.3001154465893416,-0.8522656780053931,-1.2428088551637078,-0.4331463496663254,0.16852650488740917,-0.6155703411818955,-0.7470558852677666,-0.17081111977622232,-1.0108532874031082,0.30111657698245825,-1.4004351460905673,-0.617479520524966,1.096583802392027,0.38027555293067633,-2.4770444913214926,0.5124599056022963,-0.7864323172889783,-2.012404930830048,-0.5239455987265228,0.28855396935654365,-2.180575119874746,0.22409243129740206,1.6110071750508808,-0.1732752241703584,1.2478975671405141,-0.048669124542163676,-1.0065265236213345,0.3888443659165873,-0.27466355453413027,-0.5211709616199443,-2.213711402445004,1.6586733594573306,-0.22848418615931423,0.057267395731893815,0.3821345869931526,2.2275703180856756,0.2072166861025222,0.12301242491396328],\"type\":\"histogram\"},{\"histfunc\":\"count\",\"histnorm\":\"\",\"marker\":{\"color\":\"rgba(128, 0, 128, 1.0)\",\"line\":{\"color\":\"#4D5663\",\"width\":1.3}},\"name\":\"D\",\"opacity\":0.8,\"orientation\":\"v\",\"x\":[-0.3775237105476041,1.5469330558820853,0.7975837377689529,-1.0215237358858384,0.046174419806248125,-0.4546700022403752,-0.976645584975092,0.45717773411839563,-1.3606088988003922,-1.764923821143453,1.3491715340900854,1.0404434348743121,2.231620580687955,-0.9592701447679857,0.02481391863717533,1.1543392090813562,-0.5448617030321711,0.981060386509627,-1.3971884449374945,0.051944384918920075,0.5191578103580838,-0.2079011438790017,2.4598800535048064,-0.3064029027419856,1.7368796898541534,2.0259377554560363,0.05077977396190428,2.3636997814467824,-0.9001904283819676,-0.4615461008048252,1.580150496138963,-1.4459977513748663,0.7849704949260711,0.9370021432027721,-1.0438536510350638,1.0642048533773578,-0.5047233858253104,-1.2985658864810619,-0.9347355102775656,-1.7435021361118295,0.6540645036517425,-0.5406342471593872,0.8175495870482,-0.28795761265237857,-0.6040342612099427,-0.000273981036672952,-0.03040250123411199,-1.3474981929133365,1.326316641128734,-1.4048711185810525,0.3496708975244264,1.175758589037626,0.5407612368541103,-1.5947823321895451,-0.2814276918443059,-0.4266535186520008,-0.11651375400559504,0.7395628814325849,-0.21127926389675677,-1.6285256466392641,2.715790717037815,-0.4381836055540097,-0.7167752813344342,1.6344080173541937,1.092247657456989,1.1918526512537928,1.4797193451776989,-0.042073357485148864,1.4353536465377565,0.566212208762207,-1.0469684943619808,1.2965361364755423,-0.7693246295679306,1.4043778339323014,-0.022019816215365234,-0.2565755827695688,-0.9516114323200353,0.4100799957427423,0.27899071689190635,-0.643630880672682,1.3788949433245734,1.7421489253733558,0.47087130008510547,0.1086939483089091,-0.796358241377402,0.43141768585008794,0.4935046381639671,2.2923780110911194,0.4553633293911215,1.2470448067482276,0.5680883081761456,-0.17640134522893047,0.6490268225007355,-0.844411924817917,-1.556331856145653,-0.6893983779063737,-0.9099102769233144,-1.0202975535224497,-0.8373455223524954,-0.0428262147603727],\"type\":\"histogram\"}],                        {\"barmode\":\"overlay\",\"legend\":{\"bgcolor\":\"#F5F6F9\",\"font\":{\"color\":\"#4D5663\"}},\"paper_bgcolor\":\"#F5F6F9\",\"plot_bgcolor\":\"#F5F6F9\",\"template\":{\"data\":{\"barpolar\":[{\"marker\":{\"line\":{\"color\":\"#E5ECF6\",\"width\":0.5},\"pattern\":{\"fillmode\":\"overlay\",\"size\":10,\"solidity\":0.2}},\"type\":\"barpolar\"}],\"bar\":[{\"error_x\":{\"color\":\"#2a3f5f\"},\"error_y\":{\"color\":\"#2a3f5f\"},\"marker\":{\"line\":{\"color\":\"#E5ECF6\",\"width\":0.5},\"pattern\":{\"fillmode\":\"overlay\",\"size\":10,\"solidity\":0.2}},\"type\":\"bar\"}],\"carpet\":[{\"aaxis\":{\"endlinecolor\":\"#2a3f5f\",\"gridcolor\":\"white\",\"linecolor\":\"white\",\"minorgridcolor\":\"white\",\"startlinecolor\":\"#2a3f5f\"},\"baxis\":{\"endlinecolor\":\"#2a3f5f\",\"gridcolor\":\"white\",\"linecolor\":\"white\",\"minorgridcolor\":\"white\",\"startlinecolor\":\"#2a3f5f\"},\"type\":\"carpet\"}],\"choropleth\":[{\"colorbar\":{\"outlinewidth\":0,\"ticks\":\"\"},\"type\":\"choropleth\"}],\"contourcarpet\":[{\"colorbar\":{\"outlinewidth\":0,\"ticks\":\"\"},\"type\":\"contourcarpet\"}],\"contour\":[{\"colorbar\":{\"outlinewidth\":0,\"ticks\":\"\"},\"colorscale\":[[0.0,\"#0d0887\"],[0.1111111111111111,\"#46039f\"],[0.2222222222222222,\"#7201a8\"],[0.3333333333333333,\"#9c179e\"],[0.4444444444444444,\"#bd3786\"],[0.5555555555555556,\"#d8576b\"],[0.6666666666666666,\"#ed7953\"],[0.7777777777777778,\"#fb9f3a\"],[0.8888888888888888,\"#fdca26\"],[1.0,\"#f0f921\"]],\"type\":\"contour\"}],\"heatmapgl\":[{\"colorbar\":{\"outlinewidth\":0,\"ticks\":\"\"},\"colorscale\":[[0.0,\"#0d0887\"],[0.1111111111111111,\"#46039f\"],[0.2222222222222222,\"#7201a8\"],[0.3333333333333333,\"#9c179e\"],[0.4444444444444444,\"#bd3786\"],[0.5555555555555556,\"#d8576b\"],[0.6666666666666666,\"#ed7953\"],[0.7777777777777778,\"#fb9f3a\"],[0.8888888888888888,\"#fdca26\"],[1.0,\"#f0f921\"]],\"type\":\"heatmapgl\"}],\"heatmap\":[{\"colorbar\":{\"outlinewidth\":0,\"ticks\":\"\"},\"colorscale\":[[0.0,\"#0d0887\"],[0.1111111111111111,\"#46039f\"],[0.2222222222222222,\"#7201a8\"],[0.3333333333333333,\"#9c179e\"],[0.4444444444444444,\"#bd3786\"],[0.5555555555555556,\"#d8576b\"],[0.6666666666666666,\"#ed7953\"],[0.7777777777777778,\"#fb9f3a\"],[0.8888888888888888,\"#fdca26\"],[1.0,\"#f0f921\"]],\"type\":\"heatmap\"}],\"histogram2dcontour\":[{\"colorbar\":{\"outlinewidth\":0,\"ticks\":\"\"},\"colorscale\":[[0.0,\"#0d0887\"],[0.1111111111111111,\"#46039f\"],[0.2222222222222222,\"#7201a8\"],[0.3333333333333333,\"#9c179e\"],[0.4444444444444444,\"#bd3786\"],[0.5555555555555556,\"#d8576b\"],[0.6666666666666666,\"#ed7953\"],[0.7777777777777778,\"#fb9f3a\"],[0.8888888888888888,\"#fdca26\"],[1.0,\"#f0f921\"]],\"type\":\"histogram2dcontour\"}],\"histogram2d\":[{\"colorbar\":{\"outlinewidth\":0,\"ticks\":\"\"},\"colorscale\":[[0.0,\"#0d0887\"],[0.1111111111111111,\"#46039f\"],[0.2222222222222222,\"#7201a8\"],[0.3333333333333333,\"#9c179e\"],[0.4444444444444444,\"#bd3786\"],[0.5555555555555556,\"#d8576b\"],[0.6666666666666666,\"#ed7953\"],[0.7777777777777778,\"#fb9f3a\"],[0.8888888888888888,\"#fdca26\"],[1.0,\"#f0f921\"]],\"type\":\"histogram2d\"}],\"histogram\":[{\"marker\":{\"pattern\":{\"fillmode\":\"overlay\",\"size\":10,\"solidity\":0.2}},\"type\":\"histogram\"}],\"mesh3d\":[{\"colorbar\":{\"outlinewidth\":0,\"ticks\":\"\"},\"type\":\"mesh3d\"}],\"parcoords\":[{\"line\":{\"colorbar\":{\"outlinewidth\":0,\"ticks\":\"\"}},\"type\":\"parcoords\"}],\"pie\":[{\"automargin\":true,\"type\":\"pie\"}],\"scatter3d\":[{\"line\":{\"colorbar\":{\"outlinewidth\":0,\"ticks\":\"\"}},\"marker\":{\"colorbar\":{\"outlinewidth\":0,\"ticks\":\"\"}},\"type\":\"scatter3d\"}],\"scattercarpet\":[{\"marker\":{\"colorbar\":{\"outlinewidth\":0,\"ticks\":\"\"}},\"type\":\"scattercarpet\"}],\"scattergeo\":[{\"marker\":{\"colorbar\":{\"outlinewidth\":0,\"ticks\":\"\"}},\"type\":\"scattergeo\"}],\"scattergl\":[{\"marker\":{\"colorbar\":{\"outlinewidth\":0,\"ticks\":\"\"}},\"type\":\"scattergl\"}],\"scattermapbox\":[{\"marker\":{\"colorbar\":{\"outlinewidth\":0,\"ticks\":\"\"}},\"type\":\"scattermapbox\"}],\"scatterpolargl\":[{\"marker\":{\"colorbar\":{\"outlinewidth\":0,\"ticks\":\"\"}},\"type\":\"scatterpolargl\"}],\"scatterpolar\":[{\"marker\":{\"colorbar\":{\"outlinewidth\":0,\"ticks\":\"\"}},\"type\":\"scatterpolar\"}],\"scatter\":[{\"fillpattern\":{\"fillmode\":\"overlay\",\"size\":10,\"solidity\":0.2},\"type\":\"scatter\"}],\"scatterternary\":[{\"marker\":{\"colorbar\":{\"outlinewidth\":0,\"ticks\":\"\"}},\"type\":\"scatterternary\"}],\"surface\":[{\"colorbar\":{\"outlinewidth\":0,\"ticks\":\"\"},\"colorscale\":[[0.0,\"#0d0887\"],[0.1111111111111111,\"#46039f\"],[0.2222222222222222,\"#7201a8\"],[0.3333333333333333,\"#9c179e\"],[0.4444444444444444,\"#bd3786\"],[0.5555555555555556,\"#d8576b\"],[0.6666666666666666,\"#ed7953\"],[0.7777777777777778,\"#fb9f3a\"],[0.8888888888888888,\"#fdca26\"],[1.0,\"#f0f921\"]],\"type\":\"surface\"}],\"table\":[{\"cells\":{\"fill\":{\"color\":\"#EBF0F8\"},\"line\":{\"color\":\"white\"}},\"header\":{\"fill\":{\"color\":\"#C8D4E3\"},\"line\":{\"color\":\"white\"}},\"type\":\"table\"}]},\"layout\":{\"annotationdefaults\":{\"arrowcolor\":\"#2a3f5f\",\"arrowhead\":0,\"arrowwidth\":1},\"autotypenumbers\":\"strict\",\"coloraxis\":{\"colorbar\":{\"outlinewidth\":0,\"ticks\":\"\"}},\"colorscale\":{\"diverging\":[[0,\"#8e0152\"],[0.1,\"#c51b7d\"],[0.2,\"#de77ae\"],[0.3,\"#f1b6da\"],[0.4,\"#fde0ef\"],[0.5,\"#f7f7f7\"],[0.6,\"#e6f5d0\"],[0.7,\"#b8e186\"],[0.8,\"#7fbc41\"],[0.9,\"#4d9221\"],[1,\"#276419\"]],\"sequential\":[[0.0,\"#0d0887\"],[0.1111111111111111,\"#46039f\"],[0.2222222222222222,\"#7201a8\"],[0.3333333333333333,\"#9c179e\"],[0.4444444444444444,\"#bd3786\"],[0.5555555555555556,\"#d8576b\"],[0.6666666666666666,\"#ed7953\"],[0.7777777777777778,\"#fb9f3a\"],[0.8888888888888888,\"#fdca26\"],[1.0,\"#f0f921\"]],\"sequentialminus\":[[0.0,\"#0d0887\"],[0.1111111111111111,\"#46039f\"],[0.2222222222222222,\"#7201a8\"],[0.3333333333333333,\"#9c179e\"],[0.4444444444444444,\"#bd3786\"],[0.5555555555555556,\"#d8576b\"],[0.6666666666666666,\"#ed7953\"],[0.7777777777777778,\"#fb9f3a\"],[0.8888888888888888,\"#fdca26\"],[1.0,\"#f0f921\"]]},\"colorway\":[\"#636efa\",\"#EF553B\",\"#00cc96\",\"#ab63fa\",\"#FFA15A\",\"#19d3f3\",\"#FF6692\",\"#B6E880\",\"#FF97FF\",\"#FECB52\"],\"font\":{\"color\":\"#2a3f5f\"},\"geo\":{\"bgcolor\":\"white\",\"lakecolor\":\"white\",\"landcolor\":\"#E5ECF6\",\"showlakes\":true,\"showland\":true,\"subunitcolor\":\"white\"},\"hoverlabel\":{\"align\":\"left\"},\"hovermode\":\"closest\",\"mapbox\":{\"style\":\"light\"},\"paper_bgcolor\":\"white\",\"plot_bgcolor\":\"#E5ECF6\",\"polar\":{\"angularaxis\":{\"gridcolor\":\"white\",\"linecolor\":\"white\",\"ticks\":\"\"},\"bgcolor\":\"#E5ECF6\",\"radialaxis\":{\"gridcolor\":\"white\",\"linecolor\":\"white\",\"ticks\":\"\"}},\"scene\":{\"xaxis\":{\"backgroundcolor\":\"#E5ECF6\",\"gridcolor\":\"white\",\"gridwidth\":2,\"linecolor\":\"white\",\"showbackground\":true,\"ticks\":\"\",\"zerolinecolor\":\"white\"},\"yaxis\":{\"backgroundcolor\":\"#E5ECF6\",\"gridcolor\":\"white\",\"gridwidth\":2,\"linecolor\":\"white\",\"showbackground\":true,\"ticks\":\"\",\"zerolinecolor\":\"white\"},\"zaxis\":{\"backgroundcolor\":\"#E5ECF6\",\"gridcolor\":\"white\",\"gridwidth\":2,\"linecolor\":\"white\",\"showbackground\":true,\"ticks\":\"\",\"zerolinecolor\":\"white\"}},\"shapedefaults\":{\"line\":{\"color\":\"#2a3f5f\"}},\"ternary\":{\"aaxis\":{\"gridcolor\":\"white\",\"linecolor\":\"white\",\"ticks\":\"\"},\"baxis\":{\"gridcolor\":\"white\",\"linecolor\":\"white\",\"ticks\":\"\"},\"bgcolor\":\"#E5ECF6\",\"caxis\":{\"gridcolor\":\"white\",\"linecolor\":\"white\",\"ticks\":\"\"}},\"title\":{\"x\":0.05},\"xaxis\":{\"automargin\":true,\"gridcolor\":\"white\",\"linecolor\":\"white\",\"ticks\":\"\",\"title\":{\"standoff\":15},\"zerolinecolor\":\"white\",\"zerolinewidth\":2},\"yaxis\":{\"automargin\":true,\"gridcolor\":\"white\",\"linecolor\":\"white\",\"ticks\":\"\",\"title\":{\"standoff\":15},\"zerolinecolor\":\"white\",\"zerolinewidth\":2}}},\"title\":{\"font\":{\"color\":\"#4D5663\"}},\"xaxis\":{\"gridcolor\":\"#E1E5ED\",\"showgrid\":true,\"tickfont\":{\"color\":\"#4D5663\"},\"title\":{\"font\":{\"color\":\"#4D5663\"},\"text\":\"\"},\"zerolinecolor\":\"#E1E5ED\"},\"yaxis\":{\"gridcolor\":\"#E1E5ED\",\"showgrid\":true,\"tickfont\":{\"color\":\"#4D5663\"},\"title\":{\"font\":{\"color\":\"#4D5663\"},\"text\":\"\"},\"zerolinecolor\":\"#E1E5ED\"}},                        {\"showLink\": true, \"linkText\": \"Export to plot.ly\", \"plotlyServerURL\": \"https://plot.ly\", \"responsive\": true}                    ).then(function(){\n",
       "                            \n",
       "var gd = document.getElementById('7d215fc4-601a-4119-82d8-5832cbdaa4da');\n",
       "var x = new MutationObserver(function (mutations, observer) {{\n",
       "        var display = window.getComputedStyle(gd).display;\n",
       "        if (!display || display === 'none') {{\n",
       "            console.log([gd, 'removed!']);\n",
       "            Plotly.purge(gd);\n",
       "            observer.disconnect();\n",
       "        }}\n",
       "}});\n",
       "\n",
       "// Listen for the removal of the full notebook cells\n",
       "var notebookContainer = gd.closest('#notebook-container');\n",
       "if (notebookContainer) {{\n",
       "    x.observe(notebookContainer, {childList: true});\n",
       "}}\n",
       "\n",
       "// Listen for the clearing of the current output cell\n",
       "var outputEl = gd.closest('.output');\n",
       "if (outputEl) {{\n",
       "    x.observe(outputEl, {childList: true});\n",
       "}}\n",
       "\n",
       "                        })                };                });            </script>        </div>"
      ]
     },
     "metadata": {},
     "output_type": "display_data"
    }
   ],
   "source": [
    "df.iplot(kind='hist')"
   ]
  },
  {
   "cell_type": "code",
   "execution_count": 39,
   "id": "88b98a23",
   "metadata": {},
   "outputs": [
    {
     "name": "stderr",
     "output_type": "stream",
     "text": [
      "C:\\ProgramData\\Anaconda3\\lib\\site-packages\\cufflinks\\plotlytools.py:849: FutureWarning:\n",
      "\n",
      "The pandas.np module is deprecated and will be removed from pandas in a future version. Import numpy directly instead\n",
      "\n",
      "C:\\ProgramData\\Anaconda3\\lib\\site-packages\\cufflinks\\plotlytools.py:850: FutureWarning:\n",
      "\n",
      "The pandas.np module is deprecated and will be removed from pandas in a future version. Import numpy directly instead\n",
      "\n"
     ]
    },
    {
     "data": {
      "application/vnd.plotly.v1+json": {
       "config": {
        "linkText": "Export to plot.ly",
        "plotlyServerURL": "https://plot.ly",
        "showLink": true
       },
       "data": [
        {
         "line": {
          "color": "rgba(255, 153, 51, 1.0)",
          "dash": "solid",
          "shape": "linear",
          "width": 1.3
         },
         "mode": "lines",
         "name": "A",
         "text": "",
         "type": "scatter",
         "x": [
          0,
          1,
          2,
          3,
          4,
          5,
          6,
          7,
          8,
          9,
          10,
          11,
          12,
          13,
          14,
          15,
          16,
          17,
          18,
          19,
          20,
          21,
          22,
          23,
          24,
          25,
          26,
          27,
          28,
          29,
          30,
          31,
          32,
          33,
          34,
          35,
          36,
          37,
          38,
          39,
          40,
          41,
          42,
          43,
          44,
          45,
          46,
          47,
          48,
          49,
          50,
          51,
          52,
          53,
          54,
          55,
          56,
          57,
          58,
          59,
          60,
          61,
          62,
          63,
          64,
          65,
          66,
          67,
          68,
          69,
          70,
          71,
          72,
          73,
          74,
          75,
          76,
          77,
          78,
          79,
          80,
          81,
          82,
          83,
          84,
          85,
          86,
          87,
          88,
          89,
          90,
          91,
          92,
          93,
          94,
          95,
          96,
          97,
          98,
          99
         ],
         "y": [
          0.406730039480157,
          -0.39228221499578964,
          0.7584886923840094,
          -0.9440396101168271,
          -0.727462876129729,
          0.4839174053257021,
          0.3627206584336743,
          1.168876137696794,
          1.2510313986768908,
          -0.8539452754949033,
          0.055427781643683255,
          -0.6784544917630049,
          0.8326820808182758,
          0.28424683461318606,
          -0.14757676900957287,
          0.11439817628276706,
          -0.18475712704423441,
          0.0038164459887509153,
          0.34990494510895703,
          -0.4378365112671588,
          -0.319660271111292,
          -0.3137996100294566,
          0.7818668395960702,
          1.233186915064355,
          -0.6435088591199211,
          -0.7662361903303532,
          0.6315312339735785,
          -1.5985204957973767,
          -1.8108208438232374,
          2.851513981870026,
          -0.0364816577569318,
          -0.07999396186412067,
          -1.4714556943251862,
          -0.47159853321598855,
          -1.4583382229612358,
          0.5500685036145431,
          -0.5124116539500457,
          -0.4612840603123584,
          1.2075325846345708,
          0.27937512403424236,
          0.4729467860759181,
          0.694237909442264,
          -0.22313437477461176,
          -2.1673385397595584,
          1.3640671084533982,
          1.4328639494199835,
          -1.3186427873817268,
          -1.0994996582162526,
          -0.41552140832138207,
          -1.1080560081519106,
          0.2813001247748424,
          -0.7580111392673803,
          -0.7788585603184489,
          1.2751150122692931,
          2.00579679912336,
          0.47791604052873227,
          0.12635847592401317,
          0.4544312374061017,
          -0.701182543768695,
          -0.31650116074208257,
          1.40877730233643,
          -0.30667471652084766,
          0.8587407419478714,
          1.9907280644550456,
          -0.34251402756783583,
          0.8082078562811572,
          0.15996260259357092,
          0.004165864484431415,
          1.226249713622541,
          1.448104818376337,
          -0.571107037470229,
          1.0776789911239473,
          -0.1018710678062574,
          1.1137520194408075,
          0.305546217332669,
          -0.43272160683972544,
          0.5002141172314987,
          1.384830376450365,
          1.3439169146885883,
          -0.801316865757186,
          0.6946582118008514,
          1.1900960545880286,
          0.15796941300637093,
          1.1856772524598995,
          -1.3348503021181104,
          0.26021804126709724,
          0.7641069566280589,
          0.5619839963840547,
          0.9919306452669481,
          -0.42193016475058465,
          1.6278652681325925,
          0.040967833820687465,
          0.4341660540644965,
          1.2258119652660264,
          0.16250938553896713,
          0.7601085688053791,
          -0.9805826865572652,
          2.3002686917555693,
          1.301006005581953,
          1.754526468354843
         ]
        },
        {
         "line": {
          "color": "rgba(55, 128, 191, 1.0)",
          "dash": "solid",
          "shape": "linear",
          "width": 1.3
         },
         "mode": "lines",
         "name": "B",
         "text": "",
         "type": "scatter",
         "x": [
          0,
          1,
          2,
          3,
          4,
          5,
          6,
          7,
          8,
          9,
          10,
          11,
          12,
          13,
          14,
          15,
          16,
          17,
          18,
          19,
          20,
          21,
          22,
          23,
          24,
          25,
          26,
          27,
          28,
          29,
          30,
          31,
          32,
          33,
          34,
          35,
          36,
          37,
          38,
          39,
          40,
          41,
          42,
          43,
          44,
          45,
          46,
          47,
          48,
          49,
          50,
          51,
          52,
          53,
          54,
          55,
          56,
          57,
          58,
          59,
          60,
          61,
          62,
          63,
          64,
          65,
          66,
          67,
          68,
          69,
          70,
          71,
          72,
          73,
          74,
          75,
          76,
          77,
          78,
          79,
          80,
          81,
          82,
          83,
          84,
          85,
          86,
          87,
          88,
          89,
          90,
          91,
          92,
          93,
          94,
          95,
          96,
          97,
          98,
          99
         ],
         "y": [
          1.097376166904293,
          1.8642792306676408,
          1.2461137578017065,
          1.477672212271986,
          -0.6321980447209725,
          -0.701592290165167,
          -1.9910127251039769,
          -0.16971343962788965,
          1.541150001898701,
          -1.6226902596728239,
          -0.19448210077836395,
          -0.47549319984974325,
          0.7803436367159594,
          2.08048633199042,
          -0.8719472680505037,
          -0.37442017918715675,
          -0.4891452026651608,
          -0.5970083414206725,
          -0.16973314267358802,
          0.06428229010088789,
          0.4494812462908728,
          -0.07193734454633495,
          0.9309418106438704,
          -0.9753354844829426,
          -0.22601455757081423,
          0.18748715389366605,
          -0.1312877215837846,
          0.2381938795614643,
          -1.7590016804188497,
          0.6731156410468611,
          -0.7597413854750319,
          -0.8841013551192329,
          0.3929846598823091,
          0.11017410931895902,
          0.18683594785406676,
          -0.2029225971205222,
          -1.0052515203199146,
          -0.8693936292685707,
          -0.5374583078325221,
          0.5430544806259738,
          -1.3965788668301606,
          -1.1651248251003146,
          -0.8524306919840188,
          1.128249186662589,
          0.6442598329163325,
          1.0213495698127613,
          -0.23049466510995706,
          0.07953191198925529,
          -1.4659932409105514,
          1.2955320882347134,
          -0.8377201170388314,
          -0.4065340844831503,
          -1.5343531136588566,
          0.5484422875986819,
          0.09010716670491731,
          -2.249789437139244,
          -0.4964833178001253,
          0.9236763626726683,
          0.8452213396049112,
          -1.2927235441395513,
          1.7141323156631694,
          2.0912246513019284,
          0.25670750122387975,
          -1.1156603606229654,
          1.9235857811875827,
          -0.8710707446693985,
          1.3740453390524754,
          -0.35252170079482553,
          0.3105335666082955,
          -0.8699675452643268,
          -1.5648524283832677,
          0.5259596252560428,
          -0.11867843751372183,
          -0.4825495127875421,
          0.47010600603079233,
          0.6759767650864442,
          -0.1813265244137657,
          0.23745839470300278,
          1.9769665072823797,
          0.5902013388082753,
          1.710003116764618,
          0.03506191983633523,
          0.36609790401099235,
          -0.44103957812685,
          0.014828666517463394,
          0.21150895973385886,
          1.5565405830025982,
          2.401094575846921,
          -0.28780392140728167,
          -1.93983090406157,
          0.4842455485607953,
          1.0815228442886557,
          -0.36042455727396383,
          -0.6162822329956089,
          0.7698723634388819,
          -0.26264604843217976,
          -0.5313630021704862,
          -0.9796202663756749,
          0.07779045872360635,
          0.45828456864812617
         ]
        },
        {
         "connectgaps": false,
         "fill": "tozeroy",
         "line": {
          "color": "green",
          "dash": "solid",
          "shape": "linear",
          "width": 0.5
         },
         "mode": "lines",
         "name": "Spread",
         "showlegend": false,
         "type": "scatter",
         "x": [
          0,
          1,
          2,
          3,
          4,
          5,
          6,
          7,
          8,
          9,
          10,
          11,
          12,
          13,
          14,
          15,
          16,
          17,
          18,
          19,
          20,
          21,
          22,
          23,
          24,
          25,
          26,
          27,
          28,
          29,
          30,
          31,
          32,
          33,
          34,
          35,
          36,
          37,
          38,
          39,
          40,
          41,
          42,
          43,
          44,
          45,
          46,
          47,
          48,
          49,
          50,
          51,
          52,
          53,
          54,
          55,
          56,
          57,
          58,
          59,
          60,
          61,
          62,
          63,
          64,
          65,
          66,
          67,
          68,
          69,
          70,
          71,
          72,
          73,
          74,
          75,
          76,
          77,
          78,
          79,
          80,
          81,
          82,
          83,
          84,
          85,
          86,
          87,
          88,
          89,
          90,
          91,
          92,
          93,
          94,
          95,
          96,
          97,
          98,
          99
         ],
         "xaxis": "x2",
         "y": [
          "",
          "",
          "",
          "",
          "",
          1.185509695490869,
          2.353733383537651,
          1.3385895773246836,
          "",
          0.7687449841779206,
          0.2499098824220472,
          "",
          0.05233844410231636,
          "",
          0.7243704990409309,
          0.4888183554699238,
          0.3043880756209264,
          0.6008247874094234,
          0.519638087782545,
          "",
          "",
          "",
          "",
          2.208522399547298,
          "",
          "",
          0.762818955557363,
          "",
          "",
          2.178398340823165,
          0.7232597277181001,
          0.8041073932551123,
          "",
          "",
          "",
          0.7529911007350653,
          0.4928398663698689,
          0.40810956895621225,
          1.744990892467093,
          "",
          1.8695256529060789,
          1.8593627345425787,
          0.629296317209407,
          "",
          0.7198072755370657,
          0.41151437960722226,
          "",
          "",
          1.0504718325891693,
          "",
          1.1190202418136739,
          "",
          0.7554945533404077,
          0.7266727246706113,
          1.9156896324184427,
          2.7277054776679766,
          0.6228417937241384,
          "",
          "",
          0.9762223833974687,
          "",
          "",
          0.6020332407239917,
          3.106388425078011,
          "",
          1.6792786009505556,
          "",
          0.35668756527925694,
          0.9157161470142454,
          2.3180723636406637,
          0.9937453909130387,
          0.5517193658679045,
          0.016807369707464423,
          1.5963015322283496,
          "",
          "",
          0.6815406416452644,
          1.1473719817473622,
          "",
          "",
          "",
          1.1550341347516933,
          "",
          1.6267168305867497,
          "",
          0.048709081533238385,
          "",
          "",
          1.2797345666742297,
          1.5179007393109853,
          1.1436197195717972,
          "",
          0.7945906113384603,
          1.8420941982616355,
          "",
          1.0227546172375588,
          "",
          3.2798889581312443,
          1.2232155468583468,
          1.2962418997067169
         ],
         "yaxis": "y2"
        },
        {
         "connectgaps": false,
         "fill": "tozeroy",
         "line": {
          "color": "red",
          "dash": "solid",
          "shape": "linear",
          "width": 0.5
         },
         "mode": "lines",
         "name": "Spread",
         "showlegend": false,
         "type": "scatter",
         "x": [
          0,
          1,
          2,
          3,
          4,
          5,
          6,
          7,
          8,
          9,
          10,
          11,
          12,
          13,
          14,
          15,
          16,
          17,
          18,
          19,
          20,
          21,
          22,
          23,
          24,
          25,
          26,
          27,
          28,
          29,
          30,
          31,
          32,
          33,
          34,
          35,
          36,
          37,
          38,
          39,
          40,
          41,
          42,
          43,
          44,
          45,
          46,
          47,
          48,
          49,
          50,
          51,
          52,
          53,
          54,
          55,
          56,
          57,
          58,
          59,
          60,
          61,
          62,
          63,
          64,
          65,
          66,
          67,
          68,
          69,
          70,
          71,
          72,
          73,
          74,
          75,
          76,
          77,
          78,
          79,
          80,
          81,
          82,
          83,
          84,
          85,
          86,
          87,
          88,
          89,
          90,
          91,
          92,
          93,
          94,
          95,
          96,
          97,
          98,
          99
         ],
         "xaxis": "x2",
         "y": [
          -0.690646127424136,
          -2.25656144566343,
          -0.4876250654176971,
          -2.421711822388813,
          -0.09526483140875652,
          "",
          "",
          "",
          -0.29011860322181016,
          "",
          "",
          -0.20296129191326162,
          "",
          -1.796239497377234,
          "",
          "",
          "",
          "",
          "",
          -0.5021188013680467,
          -0.7691415174021649,
          -0.24186226548312167,
          -0.1490749710478002,
          "",
          -0.4174943015491068,
          -0.9537233442240192,
          "",
          -1.8367143753588409,
          -0.051819163404387636,
          "",
          "",
          "",
          -1.8644403542074952,
          -0.5817726425349475,
          -1.6451741708153027,
          "",
          "",
          "",
          "",
          -0.2636793565917315,
          "",
          "",
          "",
          -3.2955877264221476,
          "",
          "",
          -1.0881481222717697,
          -1.1790315702055079,
          "",
          -2.403588096386624,
          "",
          -0.35147705478422997,
          "",
          "",
          "",
          "",
          "",
          -0.4692451252665666,
          -1.5464038833736062,
          "",
          -0.3053550133267393,
          -2.397899367822776,
          "",
          "",
          -2.2660998087554187,
          "",
          -1.2140827364589044,
          "",
          "",
          "",
          "",
          "",
          "",
          "",
          -0.16455978869812332,
          -1.1086983719261696,
          "",
          "",
          -0.6330495925937913,
          -1.3915182045654613,
          -1.0153449049637664,
          "",
          -0.2081284910046214,
          "",
          -1.3496789686355737,
          "",
          -0.7924336263745393,
          -1.8391105794628662,
          "",
          "",
          "",
          -1.0405550104679684,
          "",
          "",
          -0.6073629778999148,
          "",
          -0.44921968438677906,
          "",
          "",
          ""
         ],
         "yaxis": "y2"
        }
       ],
       "layout": {
        "hovermode": "x",
        "legend": {
         "bgcolor": "#F5F6F9",
         "font": {
          "color": "#4D5663"
         }
        },
        "paper_bgcolor": "#F5F6F9",
        "plot_bgcolor": "#F5F6F9",
        "template": {
         "data": {
          "bar": [
           {
            "error_x": {
             "color": "#2a3f5f"
            },
            "error_y": {
             "color": "#2a3f5f"
            },
            "marker": {
             "line": {
              "color": "#E5ECF6",
              "width": 0.5
             },
             "pattern": {
              "fillmode": "overlay",
              "size": 10,
              "solidity": 0.2
             }
            },
            "type": "bar"
           }
          ],
          "barpolar": [
           {
            "marker": {
             "line": {
              "color": "#E5ECF6",
              "width": 0.5
             },
             "pattern": {
              "fillmode": "overlay",
              "size": 10,
              "solidity": 0.2
             }
            },
            "type": "barpolar"
           }
          ],
          "carpet": [
           {
            "aaxis": {
             "endlinecolor": "#2a3f5f",
             "gridcolor": "white",
             "linecolor": "white",
             "minorgridcolor": "white",
             "startlinecolor": "#2a3f5f"
            },
            "baxis": {
             "endlinecolor": "#2a3f5f",
             "gridcolor": "white",
             "linecolor": "white",
             "minorgridcolor": "white",
             "startlinecolor": "#2a3f5f"
            },
            "type": "carpet"
           }
          ],
          "choropleth": [
           {
            "colorbar": {
             "outlinewidth": 0,
             "ticks": ""
            },
            "type": "choropleth"
           }
          ],
          "contour": [
           {
            "colorbar": {
             "outlinewidth": 0,
             "ticks": ""
            },
            "colorscale": [
             [
              0,
              "#0d0887"
             ],
             [
              0.1111111111111111,
              "#46039f"
             ],
             [
              0.2222222222222222,
              "#7201a8"
             ],
             [
              0.3333333333333333,
              "#9c179e"
             ],
             [
              0.4444444444444444,
              "#bd3786"
             ],
             [
              0.5555555555555556,
              "#d8576b"
             ],
             [
              0.6666666666666666,
              "#ed7953"
             ],
             [
              0.7777777777777778,
              "#fb9f3a"
             ],
             [
              0.8888888888888888,
              "#fdca26"
             ],
             [
              1,
              "#f0f921"
             ]
            ],
            "type": "contour"
           }
          ],
          "contourcarpet": [
           {
            "colorbar": {
             "outlinewidth": 0,
             "ticks": ""
            },
            "type": "contourcarpet"
           }
          ],
          "heatmap": [
           {
            "colorbar": {
             "outlinewidth": 0,
             "ticks": ""
            },
            "colorscale": [
             [
              0,
              "#0d0887"
             ],
             [
              0.1111111111111111,
              "#46039f"
             ],
             [
              0.2222222222222222,
              "#7201a8"
             ],
             [
              0.3333333333333333,
              "#9c179e"
             ],
             [
              0.4444444444444444,
              "#bd3786"
             ],
             [
              0.5555555555555556,
              "#d8576b"
             ],
             [
              0.6666666666666666,
              "#ed7953"
             ],
             [
              0.7777777777777778,
              "#fb9f3a"
             ],
             [
              0.8888888888888888,
              "#fdca26"
             ],
             [
              1,
              "#f0f921"
             ]
            ],
            "type": "heatmap"
           }
          ],
          "heatmapgl": [
           {
            "colorbar": {
             "outlinewidth": 0,
             "ticks": ""
            },
            "colorscale": [
             [
              0,
              "#0d0887"
             ],
             [
              0.1111111111111111,
              "#46039f"
             ],
             [
              0.2222222222222222,
              "#7201a8"
             ],
             [
              0.3333333333333333,
              "#9c179e"
             ],
             [
              0.4444444444444444,
              "#bd3786"
             ],
             [
              0.5555555555555556,
              "#d8576b"
             ],
             [
              0.6666666666666666,
              "#ed7953"
             ],
             [
              0.7777777777777778,
              "#fb9f3a"
             ],
             [
              0.8888888888888888,
              "#fdca26"
             ],
             [
              1,
              "#f0f921"
             ]
            ],
            "type": "heatmapgl"
           }
          ],
          "histogram": [
           {
            "marker": {
             "pattern": {
              "fillmode": "overlay",
              "size": 10,
              "solidity": 0.2
             }
            },
            "type": "histogram"
           }
          ],
          "histogram2d": [
           {
            "colorbar": {
             "outlinewidth": 0,
             "ticks": ""
            },
            "colorscale": [
             [
              0,
              "#0d0887"
             ],
             [
              0.1111111111111111,
              "#46039f"
             ],
             [
              0.2222222222222222,
              "#7201a8"
             ],
             [
              0.3333333333333333,
              "#9c179e"
             ],
             [
              0.4444444444444444,
              "#bd3786"
             ],
             [
              0.5555555555555556,
              "#d8576b"
             ],
             [
              0.6666666666666666,
              "#ed7953"
             ],
             [
              0.7777777777777778,
              "#fb9f3a"
             ],
             [
              0.8888888888888888,
              "#fdca26"
             ],
             [
              1,
              "#f0f921"
             ]
            ],
            "type": "histogram2d"
           }
          ],
          "histogram2dcontour": [
           {
            "colorbar": {
             "outlinewidth": 0,
             "ticks": ""
            },
            "colorscale": [
             [
              0,
              "#0d0887"
             ],
             [
              0.1111111111111111,
              "#46039f"
             ],
             [
              0.2222222222222222,
              "#7201a8"
             ],
             [
              0.3333333333333333,
              "#9c179e"
             ],
             [
              0.4444444444444444,
              "#bd3786"
             ],
             [
              0.5555555555555556,
              "#d8576b"
             ],
             [
              0.6666666666666666,
              "#ed7953"
             ],
             [
              0.7777777777777778,
              "#fb9f3a"
             ],
             [
              0.8888888888888888,
              "#fdca26"
             ],
             [
              1,
              "#f0f921"
             ]
            ],
            "type": "histogram2dcontour"
           }
          ],
          "mesh3d": [
           {
            "colorbar": {
             "outlinewidth": 0,
             "ticks": ""
            },
            "type": "mesh3d"
           }
          ],
          "parcoords": [
           {
            "line": {
             "colorbar": {
              "outlinewidth": 0,
              "ticks": ""
             }
            },
            "type": "parcoords"
           }
          ],
          "pie": [
           {
            "automargin": true,
            "type": "pie"
           }
          ],
          "scatter": [
           {
            "fillpattern": {
             "fillmode": "overlay",
             "size": 10,
             "solidity": 0.2
            },
            "type": "scatter"
           }
          ],
          "scatter3d": [
           {
            "line": {
             "colorbar": {
              "outlinewidth": 0,
              "ticks": ""
             }
            },
            "marker": {
             "colorbar": {
              "outlinewidth": 0,
              "ticks": ""
             }
            },
            "type": "scatter3d"
           }
          ],
          "scattercarpet": [
           {
            "marker": {
             "colorbar": {
              "outlinewidth": 0,
              "ticks": ""
             }
            },
            "type": "scattercarpet"
           }
          ],
          "scattergeo": [
           {
            "marker": {
             "colorbar": {
              "outlinewidth": 0,
              "ticks": ""
             }
            },
            "type": "scattergeo"
           }
          ],
          "scattergl": [
           {
            "marker": {
             "colorbar": {
              "outlinewidth": 0,
              "ticks": ""
             }
            },
            "type": "scattergl"
           }
          ],
          "scattermapbox": [
           {
            "marker": {
             "colorbar": {
              "outlinewidth": 0,
              "ticks": ""
             }
            },
            "type": "scattermapbox"
           }
          ],
          "scatterpolar": [
           {
            "marker": {
             "colorbar": {
              "outlinewidth": 0,
              "ticks": ""
             }
            },
            "type": "scatterpolar"
           }
          ],
          "scatterpolargl": [
           {
            "marker": {
             "colorbar": {
              "outlinewidth": 0,
              "ticks": ""
             }
            },
            "type": "scatterpolargl"
           }
          ],
          "scatterternary": [
           {
            "marker": {
             "colorbar": {
              "outlinewidth": 0,
              "ticks": ""
             }
            },
            "type": "scatterternary"
           }
          ],
          "surface": [
           {
            "colorbar": {
             "outlinewidth": 0,
             "ticks": ""
            },
            "colorscale": [
             [
              0,
              "#0d0887"
             ],
             [
              0.1111111111111111,
              "#46039f"
             ],
             [
              0.2222222222222222,
              "#7201a8"
             ],
             [
              0.3333333333333333,
              "#9c179e"
             ],
             [
              0.4444444444444444,
              "#bd3786"
             ],
             [
              0.5555555555555556,
              "#d8576b"
             ],
             [
              0.6666666666666666,
              "#ed7953"
             ],
             [
              0.7777777777777778,
              "#fb9f3a"
             ],
             [
              0.8888888888888888,
              "#fdca26"
             ],
             [
              1,
              "#f0f921"
             ]
            ],
            "type": "surface"
           }
          ],
          "table": [
           {
            "cells": {
             "fill": {
              "color": "#EBF0F8"
             },
             "line": {
              "color": "white"
             }
            },
            "header": {
             "fill": {
              "color": "#C8D4E3"
             },
             "line": {
              "color": "white"
             }
            },
            "type": "table"
           }
          ]
         },
         "layout": {
          "annotationdefaults": {
           "arrowcolor": "#2a3f5f",
           "arrowhead": 0,
           "arrowwidth": 1
          },
          "autotypenumbers": "strict",
          "coloraxis": {
           "colorbar": {
            "outlinewidth": 0,
            "ticks": ""
           }
          },
          "colorscale": {
           "diverging": [
            [
             0,
             "#8e0152"
            ],
            [
             0.1,
             "#c51b7d"
            ],
            [
             0.2,
             "#de77ae"
            ],
            [
             0.3,
             "#f1b6da"
            ],
            [
             0.4,
             "#fde0ef"
            ],
            [
             0.5,
             "#f7f7f7"
            ],
            [
             0.6,
             "#e6f5d0"
            ],
            [
             0.7,
             "#b8e186"
            ],
            [
             0.8,
             "#7fbc41"
            ],
            [
             0.9,
             "#4d9221"
            ],
            [
             1,
             "#276419"
            ]
           ],
           "sequential": [
            [
             0,
             "#0d0887"
            ],
            [
             0.1111111111111111,
             "#46039f"
            ],
            [
             0.2222222222222222,
             "#7201a8"
            ],
            [
             0.3333333333333333,
             "#9c179e"
            ],
            [
             0.4444444444444444,
             "#bd3786"
            ],
            [
             0.5555555555555556,
             "#d8576b"
            ],
            [
             0.6666666666666666,
             "#ed7953"
            ],
            [
             0.7777777777777778,
             "#fb9f3a"
            ],
            [
             0.8888888888888888,
             "#fdca26"
            ],
            [
             1,
             "#f0f921"
            ]
           ],
           "sequentialminus": [
            [
             0,
             "#0d0887"
            ],
            [
             0.1111111111111111,
             "#46039f"
            ],
            [
             0.2222222222222222,
             "#7201a8"
            ],
            [
             0.3333333333333333,
             "#9c179e"
            ],
            [
             0.4444444444444444,
             "#bd3786"
            ],
            [
             0.5555555555555556,
             "#d8576b"
            ],
            [
             0.6666666666666666,
             "#ed7953"
            ],
            [
             0.7777777777777778,
             "#fb9f3a"
            ],
            [
             0.8888888888888888,
             "#fdca26"
            ],
            [
             1,
             "#f0f921"
            ]
           ]
          },
          "colorway": [
           "#636efa",
           "#EF553B",
           "#00cc96",
           "#ab63fa",
           "#FFA15A",
           "#19d3f3",
           "#FF6692",
           "#B6E880",
           "#FF97FF",
           "#FECB52"
          ],
          "font": {
           "color": "#2a3f5f"
          },
          "geo": {
           "bgcolor": "white",
           "lakecolor": "white",
           "landcolor": "#E5ECF6",
           "showlakes": true,
           "showland": true,
           "subunitcolor": "white"
          },
          "hoverlabel": {
           "align": "left"
          },
          "hovermode": "closest",
          "mapbox": {
           "style": "light"
          },
          "paper_bgcolor": "white",
          "plot_bgcolor": "#E5ECF6",
          "polar": {
           "angularaxis": {
            "gridcolor": "white",
            "linecolor": "white",
            "ticks": ""
           },
           "bgcolor": "#E5ECF6",
           "radialaxis": {
            "gridcolor": "white",
            "linecolor": "white",
            "ticks": ""
           }
          },
          "scene": {
           "xaxis": {
            "backgroundcolor": "#E5ECF6",
            "gridcolor": "white",
            "gridwidth": 2,
            "linecolor": "white",
            "showbackground": true,
            "ticks": "",
            "zerolinecolor": "white"
           },
           "yaxis": {
            "backgroundcolor": "#E5ECF6",
            "gridcolor": "white",
            "gridwidth": 2,
            "linecolor": "white",
            "showbackground": true,
            "ticks": "",
            "zerolinecolor": "white"
           },
           "zaxis": {
            "backgroundcolor": "#E5ECF6",
            "gridcolor": "white",
            "gridwidth": 2,
            "linecolor": "white",
            "showbackground": true,
            "ticks": "",
            "zerolinecolor": "white"
           }
          },
          "shapedefaults": {
           "line": {
            "color": "#2a3f5f"
           }
          },
          "ternary": {
           "aaxis": {
            "gridcolor": "white",
            "linecolor": "white",
            "ticks": ""
           },
           "baxis": {
            "gridcolor": "white",
            "linecolor": "white",
            "ticks": ""
           },
           "bgcolor": "#E5ECF6",
           "caxis": {
            "gridcolor": "white",
            "linecolor": "white",
            "ticks": ""
           }
          },
          "title": {
           "x": 0.05
          },
          "xaxis": {
           "automargin": true,
           "gridcolor": "white",
           "linecolor": "white",
           "ticks": "",
           "title": {
            "standoff": 15
           },
           "zerolinecolor": "white",
           "zerolinewidth": 2
          },
          "yaxis": {
           "automargin": true,
           "gridcolor": "white",
           "linecolor": "white",
           "ticks": "",
           "title": {
            "standoff": 15
           },
           "zerolinecolor": "white",
           "zerolinewidth": 2
          }
         }
        },
        "title": {
         "font": {
          "color": "#4D5663"
         }
        },
        "xaxis": {
         "gridcolor": "#E1E5ED",
         "showgrid": true,
         "tickfont": {
          "color": "#4D5663"
         },
         "title": {
          "font": {
           "color": "#4D5663"
          },
          "text": ""
         },
         "zerolinecolor": "#E1E5ED"
        },
        "xaxis2": {
         "anchor": "y2",
         "gridcolor": "#E1E5ED",
         "showgrid": true,
         "showticklabels": false,
         "tickfont": {
          "color": "#4D5663"
         },
         "title": {
          "font": {
           "color": "#4D5663"
          },
          "text": ""
         },
         "zerolinecolor": "#E1E5ED"
        },
        "yaxis": {
         "domain": [
          0.3,
          1
         ],
         "gridcolor": "#E1E5ED",
         "showgrid": true,
         "tickfont": {
          "color": "#4D5663"
         },
         "title": {
          "font": {
           "color": "#4D5663"
          },
          "text": ""
         },
         "zerolinecolor": "#E1E5ED"
        },
        "yaxis2": {
         "domain": [
          0,
          0.25
         ],
         "gridcolor": "#E1E5ED",
         "showgrid": true,
         "tickfont": {
          "color": "#4D5663"
         },
         "title": {
          "font": {
           "color": "#4D5663"
          },
          "text": "Spread"
         },
         "zerolinecolor": "#E1E5ED"
        }
       }
      },
      "text/html": [
       "<div>                            <div id=\"463868b8-2b55-46bd-9e93-c18f29af3349\" class=\"plotly-graph-div\" style=\"height:525px; width:100%;\"></div>            <script type=\"text/javascript\">                require([\"plotly\"], function(Plotly) {                    window.PLOTLYENV=window.PLOTLYENV || {};\n",
       "                    window.PLOTLYENV.BASE_URL='https://plot.ly';                                    if (document.getElementById(\"463868b8-2b55-46bd-9e93-c18f29af3349\")) {                    Plotly.newPlot(                        \"463868b8-2b55-46bd-9e93-c18f29af3349\",                        [{\"line\":{\"color\":\"rgba(255, 153, 51, 1.0)\",\"dash\":\"solid\",\"shape\":\"linear\",\"width\":1.3},\"mode\":\"lines\",\"name\":\"A\",\"text\":\"\",\"x\":[0,1,2,3,4,5,6,7,8,9,10,11,12,13,14,15,16,17,18,19,20,21,22,23,24,25,26,27,28,29,30,31,32,33,34,35,36,37,38,39,40,41,42,43,44,45,46,47,48,49,50,51,52,53,54,55,56,57,58,59,60,61,62,63,64,65,66,67,68,69,70,71,72,73,74,75,76,77,78,79,80,81,82,83,84,85,86,87,88,89,90,91,92,93,94,95,96,97,98,99],\"y\":[0.406730039480157,-0.39228221499578964,0.7584886923840094,-0.9440396101168271,-0.727462876129729,0.4839174053257021,0.3627206584336743,1.168876137696794,1.2510313986768908,-0.8539452754949033,0.055427781643683255,-0.6784544917630049,0.8326820808182758,0.28424683461318606,-0.14757676900957287,0.11439817628276706,-0.18475712704423441,0.0038164459887509153,0.34990494510895703,-0.4378365112671588,-0.319660271111292,-0.3137996100294566,0.7818668395960702,1.233186915064355,-0.6435088591199211,-0.7662361903303532,0.6315312339735785,-1.5985204957973767,-1.8108208438232374,2.851513981870026,-0.0364816577569318,-0.07999396186412067,-1.4714556943251862,-0.47159853321598855,-1.4583382229612358,0.5500685036145431,-0.5124116539500457,-0.4612840603123584,1.2075325846345708,0.27937512403424236,0.4729467860759181,0.694237909442264,-0.22313437477461176,-2.1673385397595584,1.3640671084533982,1.4328639494199835,-1.3186427873817268,-1.0994996582162526,-0.41552140832138207,-1.1080560081519106,0.2813001247748424,-0.7580111392673803,-0.7788585603184489,1.2751150122692931,2.00579679912336,0.47791604052873227,0.12635847592401317,0.4544312374061017,-0.701182543768695,-0.31650116074208257,1.40877730233643,-0.30667471652084766,0.8587407419478714,1.9907280644550456,-0.34251402756783583,0.8082078562811572,0.15996260259357092,0.004165864484431415,1.226249713622541,1.448104818376337,-0.571107037470229,1.0776789911239473,-0.1018710678062574,1.1137520194408075,0.305546217332669,-0.43272160683972544,0.5002141172314987,1.384830376450365,1.3439169146885883,-0.801316865757186,0.6946582118008514,1.1900960545880286,0.15796941300637093,1.1856772524598995,-1.3348503021181104,0.26021804126709724,0.7641069566280589,0.5619839963840547,0.9919306452669481,-0.42193016475058465,1.6278652681325925,0.040967833820687465,0.4341660540644965,1.2258119652660264,0.16250938553896713,0.7601085688053791,-0.9805826865572652,2.3002686917555693,1.301006005581953,1.754526468354843],\"type\":\"scatter\"},{\"line\":{\"color\":\"rgba(55, 128, 191, 1.0)\",\"dash\":\"solid\",\"shape\":\"linear\",\"width\":1.3},\"mode\":\"lines\",\"name\":\"B\",\"text\":\"\",\"x\":[0,1,2,3,4,5,6,7,8,9,10,11,12,13,14,15,16,17,18,19,20,21,22,23,24,25,26,27,28,29,30,31,32,33,34,35,36,37,38,39,40,41,42,43,44,45,46,47,48,49,50,51,52,53,54,55,56,57,58,59,60,61,62,63,64,65,66,67,68,69,70,71,72,73,74,75,76,77,78,79,80,81,82,83,84,85,86,87,88,89,90,91,92,93,94,95,96,97,98,99],\"y\":[1.097376166904293,1.8642792306676408,1.2461137578017065,1.477672212271986,-0.6321980447209725,-0.701592290165167,-1.9910127251039769,-0.16971343962788965,1.541150001898701,-1.6226902596728239,-0.19448210077836395,-0.47549319984974325,0.7803436367159594,2.08048633199042,-0.8719472680505037,-0.37442017918715675,-0.4891452026651608,-0.5970083414206725,-0.16973314267358802,0.06428229010088789,0.4494812462908728,-0.07193734454633495,0.9309418106438704,-0.9753354844829426,-0.22601455757081423,0.18748715389366605,-0.1312877215837846,0.2381938795614643,-1.7590016804188497,0.6731156410468611,-0.7597413854750319,-0.8841013551192329,0.3929846598823091,0.11017410931895902,0.18683594785406676,-0.2029225971205222,-1.0052515203199146,-0.8693936292685707,-0.5374583078325221,0.5430544806259738,-1.3965788668301606,-1.1651248251003146,-0.8524306919840188,1.128249186662589,0.6442598329163325,1.0213495698127613,-0.23049466510995706,0.07953191198925529,-1.4659932409105514,1.2955320882347134,-0.8377201170388314,-0.4065340844831503,-1.5343531136588566,0.5484422875986819,0.09010716670491731,-2.249789437139244,-0.4964833178001253,0.9236763626726683,0.8452213396049112,-1.2927235441395513,1.7141323156631694,2.0912246513019284,0.25670750122387975,-1.1156603606229654,1.9235857811875827,-0.8710707446693985,1.3740453390524754,-0.35252170079482553,0.3105335666082955,-0.8699675452643268,-1.5648524283832677,0.5259596252560428,-0.11867843751372183,-0.4825495127875421,0.47010600603079233,0.6759767650864442,-0.1813265244137657,0.23745839470300278,1.9769665072823797,0.5902013388082753,1.710003116764618,0.03506191983633523,0.36609790401099235,-0.44103957812685,0.014828666517463394,0.21150895973385886,1.5565405830025982,2.401094575846921,-0.28780392140728167,-1.93983090406157,0.4842455485607953,1.0815228442886557,-0.36042455727396383,-0.6162822329956089,0.7698723634388819,-0.26264604843217976,-0.5313630021704862,-0.9796202663756749,0.07779045872360635,0.45828456864812617],\"type\":\"scatter\"},{\"connectgaps\":false,\"fill\":\"tozeroy\",\"line\":{\"color\":\"green\",\"dash\":\"solid\",\"shape\":\"linear\",\"width\":0.5},\"mode\":\"lines\",\"name\":\"Spread\",\"showlegend\":false,\"x\":[0,1,2,3,4,5,6,7,8,9,10,11,12,13,14,15,16,17,18,19,20,21,22,23,24,25,26,27,28,29,30,31,32,33,34,35,36,37,38,39,40,41,42,43,44,45,46,47,48,49,50,51,52,53,54,55,56,57,58,59,60,61,62,63,64,65,66,67,68,69,70,71,72,73,74,75,76,77,78,79,80,81,82,83,84,85,86,87,88,89,90,91,92,93,94,95,96,97,98,99],\"xaxis\":\"x2\",\"y\":[\"\",\"\",\"\",\"\",\"\",1.185509695490869,2.353733383537651,1.3385895773246836,\"\",0.7687449841779206,0.2499098824220472,\"\",0.05233844410231636,\"\",0.7243704990409309,0.4888183554699238,0.3043880756209264,0.6008247874094234,0.519638087782545,\"\",\"\",\"\",\"\",2.208522399547298,\"\",\"\",0.762818955557363,\"\",\"\",2.178398340823165,0.7232597277181001,0.8041073932551123,\"\",\"\",\"\",0.7529911007350653,0.4928398663698689,0.40810956895621225,1.744990892467093,\"\",1.8695256529060789,1.8593627345425787,0.629296317209407,\"\",0.7198072755370657,0.41151437960722226,\"\",\"\",1.0504718325891693,\"\",1.1190202418136739,\"\",0.7554945533404077,0.7266727246706113,1.9156896324184427,2.7277054776679766,0.6228417937241384,\"\",\"\",0.9762223833974687,\"\",\"\",0.6020332407239917,3.106388425078011,\"\",1.6792786009505556,\"\",0.35668756527925694,0.9157161470142454,2.3180723636406637,0.9937453909130387,0.5517193658679045,0.016807369707464423,1.5963015322283496,\"\",\"\",0.6815406416452644,1.1473719817473622,\"\",\"\",\"\",1.1550341347516933,\"\",1.6267168305867497,\"\",0.048709081533238385,\"\",\"\",1.2797345666742297,1.5179007393109853,1.1436197195717972,\"\",0.7945906113384603,1.8420941982616355,\"\",1.0227546172375588,\"\",3.2798889581312443,1.2232155468583468,1.2962418997067169],\"yaxis\":\"y2\",\"type\":\"scatter\"},{\"connectgaps\":false,\"fill\":\"tozeroy\",\"line\":{\"color\":\"red\",\"dash\":\"solid\",\"shape\":\"linear\",\"width\":0.5},\"mode\":\"lines\",\"name\":\"Spread\",\"showlegend\":false,\"x\":[0,1,2,3,4,5,6,7,8,9,10,11,12,13,14,15,16,17,18,19,20,21,22,23,24,25,26,27,28,29,30,31,32,33,34,35,36,37,38,39,40,41,42,43,44,45,46,47,48,49,50,51,52,53,54,55,56,57,58,59,60,61,62,63,64,65,66,67,68,69,70,71,72,73,74,75,76,77,78,79,80,81,82,83,84,85,86,87,88,89,90,91,92,93,94,95,96,97,98,99],\"xaxis\":\"x2\",\"y\":[-0.690646127424136,-2.25656144566343,-0.4876250654176971,-2.421711822388813,-0.09526483140875652,\"\",\"\",\"\",-0.29011860322181016,\"\",\"\",-0.20296129191326162,\"\",-1.796239497377234,\"\",\"\",\"\",\"\",\"\",-0.5021188013680467,-0.7691415174021649,-0.24186226548312167,-0.1490749710478002,\"\",-0.4174943015491068,-0.9537233442240192,\"\",-1.8367143753588409,-0.051819163404387636,\"\",\"\",\"\",-1.8644403542074952,-0.5817726425349475,-1.6451741708153027,\"\",\"\",\"\",\"\",-0.2636793565917315,\"\",\"\",\"\",-3.2955877264221476,\"\",\"\",-1.0881481222717697,-1.1790315702055079,\"\",-2.403588096386624,\"\",-0.35147705478422997,\"\",\"\",\"\",\"\",\"\",-0.4692451252665666,-1.5464038833736062,\"\",-0.3053550133267393,-2.397899367822776,\"\",\"\",-2.2660998087554187,\"\",-1.2140827364589044,\"\",\"\",\"\",\"\",\"\",\"\",\"\",-0.16455978869812332,-1.1086983719261696,\"\",\"\",-0.6330495925937913,-1.3915182045654613,-1.0153449049637664,\"\",-0.2081284910046214,\"\",-1.3496789686355737,\"\",-0.7924336263745393,-1.8391105794628662,\"\",\"\",\"\",-1.0405550104679684,\"\",\"\",-0.6073629778999148,\"\",-0.44921968438677906,\"\",\"\",\"\"],\"yaxis\":\"y2\",\"type\":\"scatter\"}],                        {\"hovermode\":\"x\",\"legend\":{\"bgcolor\":\"#F5F6F9\",\"font\":{\"color\":\"#4D5663\"}},\"paper_bgcolor\":\"#F5F6F9\",\"plot_bgcolor\":\"#F5F6F9\",\"template\":{\"data\":{\"barpolar\":[{\"marker\":{\"line\":{\"color\":\"#E5ECF6\",\"width\":0.5},\"pattern\":{\"fillmode\":\"overlay\",\"size\":10,\"solidity\":0.2}},\"type\":\"barpolar\"}],\"bar\":[{\"error_x\":{\"color\":\"#2a3f5f\"},\"error_y\":{\"color\":\"#2a3f5f\"},\"marker\":{\"line\":{\"color\":\"#E5ECF6\",\"width\":0.5},\"pattern\":{\"fillmode\":\"overlay\",\"size\":10,\"solidity\":0.2}},\"type\":\"bar\"}],\"carpet\":[{\"aaxis\":{\"endlinecolor\":\"#2a3f5f\",\"gridcolor\":\"white\",\"linecolor\":\"white\",\"minorgridcolor\":\"white\",\"startlinecolor\":\"#2a3f5f\"},\"baxis\":{\"endlinecolor\":\"#2a3f5f\",\"gridcolor\":\"white\",\"linecolor\":\"white\",\"minorgridcolor\":\"white\",\"startlinecolor\":\"#2a3f5f\"},\"type\":\"carpet\"}],\"choropleth\":[{\"colorbar\":{\"outlinewidth\":0,\"ticks\":\"\"},\"type\":\"choropleth\"}],\"contourcarpet\":[{\"colorbar\":{\"outlinewidth\":0,\"ticks\":\"\"},\"type\":\"contourcarpet\"}],\"contour\":[{\"colorbar\":{\"outlinewidth\":0,\"ticks\":\"\"},\"colorscale\":[[0.0,\"#0d0887\"],[0.1111111111111111,\"#46039f\"],[0.2222222222222222,\"#7201a8\"],[0.3333333333333333,\"#9c179e\"],[0.4444444444444444,\"#bd3786\"],[0.5555555555555556,\"#d8576b\"],[0.6666666666666666,\"#ed7953\"],[0.7777777777777778,\"#fb9f3a\"],[0.8888888888888888,\"#fdca26\"],[1.0,\"#f0f921\"]],\"type\":\"contour\"}],\"heatmapgl\":[{\"colorbar\":{\"outlinewidth\":0,\"ticks\":\"\"},\"colorscale\":[[0.0,\"#0d0887\"],[0.1111111111111111,\"#46039f\"],[0.2222222222222222,\"#7201a8\"],[0.3333333333333333,\"#9c179e\"],[0.4444444444444444,\"#bd3786\"],[0.5555555555555556,\"#d8576b\"],[0.6666666666666666,\"#ed7953\"],[0.7777777777777778,\"#fb9f3a\"],[0.8888888888888888,\"#fdca26\"],[1.0,\"#f0f921\"]],\"type\":\"heatmapgl\"}],\"heatmap\":[{\"colorbar\":{\"outlinewidth\":0,\"ticks\":\"\"},\"colorscale\":[[0.0,\"#0d0887\"],[0.1111111111111111,\"#46039f\"],[0.2222222222222222,\"#7201a8\"],[0.3333333333333333,\"#9c179e\"],[0.4444444444444444,\"#bd3786\"],[0.5555555555555556,\"#d8576b\"],[0.6666666666666666,\"#ed7953\"],[0.7777777777777778,\"#fb9f3a\"],[0.8888888888888888,\"#fdca26\"],[1.0,\"#f0f921\"]],\"type\":\"heatmap\"}],\"histogram2dcontour\":[{\"colorbar\":{\"outlinewidth\":0,\"ticks\":\"\"},\"colorscale\":[[0.0,\"#0d0887\"],[0.1111111111111111,\"#46039f\"],[0.2222222222222222,\"#7201a8\"],[0.3333333333333333,\"#9c179e\"],[0.4444444444444444,\"#bd3786\"],[0.5555555555555556,\"#d8576b\"],[0.6666666666666666,\"#ed7953\"],[0.7777777777777778,\"#fb9f3a\"],[0.8888888888888888,\"#fdca26\"],[1.0,\"#f0f921\"]],\"type\":\"histogram2dcontour\"}],\"histogram2d\":[{\"colorbar\":{\"outlinewidth\":0,\"ticks\":\"\"},\"colorscale\":[[0.0,\"#0d0887\"],[0.1111111111111111,\"#46039f\"],[0.2222222222222222,\"#7201a8\"],[0.3333333333333333,\"#9c179e\"],[0.4444444444444444,\"#bd3786\"],[0.5555555555555556,\"#d8576b\"],[0.6666666666666666,\"#ed7953\"],[0.7777777777777778,\"#fb9f3a\"],[0.8888888888888888,\"#fdca26\"],[1.0,\"#f0f921\"]],\"type\":\"histogram2d\"}],\"histogram\":[{\"marker\":{\"pattern\":{\"fillmode\":\"overlay\",\"size\":10,\"solidity\":0.2}},\"type\":\"histogram\"}],\"mesh3d\":[{\"colorbar\":{\"outlinewidth\":0,\"ticks\":\"\"},\"type\":\"mesh3d\"}],\"parcoords\":[{\"line\":{\"colorbar\":{\"outlinewidth\":0,\"ticks\":\"\"}},\"type\":\"parcoords\"}],\"pie\":[{\"automargin\":true,\"type\":\"pie\"}],\"scatter3d\":[{\"line\":{\"colorbar\":{\"outlinewidth\":0,\"ticks\":\"\"}},\"marker\":{\"colorbar\":{\"outlinewidth\":0,\"ticks\":\"\"}},\"type\":\"scatter3d\"}],\"scattercarpet\":[{\"marker\":{\"colorbar\":{\"outlinewidth\":0,\"ticks\":\"\"}},\"type\":\"scattercarpet\"}],\"scattergeo\":[{\"marker\":{\"colorbar\":{\"outlinewidth\":0,\"ticks\":\"\"}},\"type\":\"scattergeo\"}],\"scattergl\":[{\"marker\":{\"colorbar\":{\"outlinewidth\":0,\"ticks\":\"\"}},\"type\":\"scattergl\"}],\"scattermapbox\":[{\"marker\":{\"colorbar\":{\"outlinewidth\":0,\"ticks\":\"\"}},\"type\":\"scattermapbox\"}],\"scatterpolargl\":[{\"marker\":{\"colorbar\":{\"outlinewidth\":0,\"ticks\":\"\"}},\"type\":\"scatterpolargl\"}],\"scatterpolar\":[{\"marker\":{\"colorbar\":{\"outlinewidth\":0,\"ticks\":\"\"}},\"type\":\"scatterpolar\"}],\"scatter\":[{\"fillpattern\":{\"fillmode\":\"overlay\",\"size\":10,\"solidity\":0.2},\"type\":\"scatter\"}],\"scatterternary\":[{\"marker\":{\"colorbar\":{\"outlinewidth\":0,\"ticks\":\"\"}},\"type\":\"scatterternary\"}],\"surface\":[{\"colorbar\":{\"outlinewidth\":0,\"ticks\":\"\"},\"colorscale\":[[0.0,\"#0d0887\"],[0.1111111111111111,\"#46039f\"],[0.2222222222222222,\"#7201a8\"],[0.3333333333333333,\"#9c179e\"],[0.4444444444444444,\"#bd3786\"],[0.5555555555555556,\"#d8576b\"],[0.6666666666666666,\"#ed7953\"],[0.7777777777777778,\"#fb9f3a\"],[0.8888888888888888,\"#fdca26\"],[1.0,\"#f0f921\"]],\"type\":\"surface\"}],\"table\":[{\"cells\":{\"fill\":{\"color\":\"#EBF0F8\"},\"line\":{\"color\":\"white\"}},\"header\":{\"fill\":{\"color\":\"#C8D4E3\"},\"line\":{\"color\":\"white\"}},\"type\":\"table\"}]},\"layout\":{\"annotationdefaults\":{\"arrowcolor\":\"#2a3f5f\",\"arrowhead\":0,\"arrowwidth\":1},\"autotypenumbers\":\"strict\",\"coloraxis\":{\"colorbar\":{\"outlinewidth\":0,\"ticks\":\"\"}},\"colorscale\":{\"diverging\":[[0,\"#8e0152\"],[0.1,\"#c51b7d\"],[0.2,\"#de77ae\"],[0.3,\"#f1b6da\"],[0.4,\"#fde0ef\"],[0.5,\"#f7f7f7\"],[0.6,\"#e6f5d0\"],[0.7,\"#b8e186\"],[0.8,\"#7fbc41\"],[0.9,\"#4d9221\"],[1,\"#276419\"]],\"sequential\":[[0.0,\"#0d0887\"],[0.1111111111111111,\"#46039f\"],[0.2222222222222222,\"#7201a8\"],[0.3333333333333333,\"#9c179e\"],[0.4444444444444444,\"#bd3786\"],[0.5555555555555556,\"#d8576b\"],[0.6666666666666666,\"#ed7953\"],[0.7777777777777778,\"#fb9f3a\"],[0.8888888888888888,\"#fdca26\"],[1.0,\"#f0f921\"]],\"sequentialminus\":[[0.0,\"#0d0887\"],[0.1111111111111111,\"#46039f\"],[0.2222222222222222,\"#7201a8\"],[0.3333333333333333,\"#9c179e\"],[0.4444444444444444,\"#bd3786\"],[0.5555555555555556,\"#d8576b\"],[0.6666666666666666,\"#ed7953\"],[0.7777777777777778,\"#fb9f3a\"],[0.8888888888888888,\"#fdca26\"],[1.0,\"#f0f921\"]]},\"colorway\":[\"#636efa\",\"#EF553B\",\"#00cc96\",\"#ab63fa\",\"#FFA15A\",\"#19d3f3\",\"#FF6692\",\"#B6E880\",\"#FF97FF\",\"#FECB52\"],\"font\":{\"color\":\"#2a3f5f\"},\"geo\":{\"bgcolor\":\"white\",\"lakecolor\":\"white\",\"landcolor\":\"#E5ECF6\",\"showlakes\":true,\"showland\":true,\"subunitcolor\":\"white\"},\"hoverlabel\":{\"align\":\"left\"},\"hovermode\":\"closest\",\"mapbox\":{\"style\":\"light\"},\"paper_bgcolor\":\"white\",\"plot_bgcolor\":\"#E5ECF6\",\"polar\":{\"angularaxis\":{\"gridcolor\":\"white\",\"linecolor\":\"white\",\"ticks\":\"\"},\"bgcolor\":\"#E5ECF6\",\"radialaxis\":{\"gridcolor\":\"white\",\"linecolor\":\"white\",\"ticks\":\"\"}},\"scene\":{\"xaxis\":{\"backgroundcolor\":\"#E5ECF6\",\"gridcolor\":\"white\",\"gridwidth\":2,\"linecolor\":\"white\",\"showbackground\":true,\"ticks\":\"\",\"zerolinecolor\":\"white\"},\"yaxis\":{\"backgroundcolor\":\"#E5ECF6\",\"gridcolor\":\"white\",\"gridwidth\":2,\"linecolor\":\"white\",\"showbackground\":true,\"ticks\":\"\",\"zerolinecolor\":\"white\"},\"zaxis\":{\"backgroundcolor\":\"#E5ECF6\",\"gridcolor\":\"white\",\"gridwidth\":2,\"linecolor\":\"white\",\"showbackground\":true,\"ticks\":\"\",\"zerolinecolor\":\"white\"}},\"shapedefaults\":{\"line\":{\"color\":\"#2a3f5f\"}},\"ternary\":{\"aaxis\":{\"gridcolor\":\"white\",\"linecolor\":\"white\",\"ticks\":\"\"},\"baxis\":{\"gridcolor\":\"white\",\"linecolor\":\"white\",\"ticks\":\"\"},\"bgcolor\":\"#E5ECF6\",\"caxis\":{\"gridcolor\":\"white\",\"linecolor\":\"white\",\"ticks\":\"\"}},\"title\":{\"x\":0.05},\"xaxis\":{\"automargin\":true,\"gridcolor\":\"white\",\"linecolor\":\"white\",\"ticks\":\"\",\"title\":{\"standoff\":15},\"zerolinecolor\":\"white\",\"zerolinewidth\":2},\"yaxis\":{\"automargin\":true,\"gridcolor\":\"white\",\"linecolor\":\"white\",\"ticks\":\"\",\"title\":{\"standoff\":15},\"zerolinecolor\":\"white\",\"zerolinewidth\":2}}},\"title\":{\"font\":{\"color\":\"#4D5663\"}},\"xaxis\":{\"gridcolor\":\"#E1E5ED\",\"showgrid\":true,\"tickfont\":{\"color\":\"#4D5663\"},\"title\":{\"font\":{\"color\":\"#4D5663\"},\"text\":\"\"},\"zerolinecolor\":\"#E1E5ED\"},\"yaxis\":{\"domain\":[0.3,1],\"gridcolor\":\"#E1E5ED\",\"showgrid\":true,\"tickfont\":{\"color\":\"#4D5663\"},\"title\":{\"font\":{\"color\":\"#4D5663\"},\"text\":\"\"},\"zerolinecolor\":\"#E1E5ED\"},\"yaxis2\":{\"domain\":[0,0.25],\"gridcolor\":\"#E1E5ED\",\"showgrid\":true,\"tickfont\":{\"color\":\"#4D5663\"},\"title\":{\"font\":{\"color\":\"#4D5663\"},\"text\":\"Spread\"},\"zerolinecolor\":\"#E1E5ED\"},\"xaxis2\":{\"anchor\":\"y2\",\"gridcolor\":\"#E1E5ED\",\"showgrid\":true,\"showticklabels\":false,\"tickfont\":{\"color\":\"#4D5663\"},\"title\":{\"font\":{\"color\":\"#4D5663\"},\"text\":\"\"},\"zerolinecolor\":\"#E1E5ED\"}},                        {\"showLink\": true, \"linkText\": \"Export to plot.ly\", \"plotlyServerURL\": \"https://plot.ly\", \"responsive\": true}                    ).then(function(){\n",
       "                            \n",
       "var gd = document.getElementById('463868b8-2b55-46bd-9e93-c18f29af3349');\n",
       "var x = new MutationObserver(function (mutations, observer) {{\n",
       "        var display = window.getComputedStyle(gd).display;\n",
       "        if (!display || display === 'none') {{\n",
       "            console.log([gd, 'removed!']);\n",
       "            Plotly.purge(gd);\n",
       "            observer.disconnect();\n",
       "        }}\n",
       "}});\n",
       "\n",
       "// Listen for the removal of the full notebook cells\n",
       "var notebookContainer = gd.closest('#notebook-container');\n",
       "if (notebookContainer) {{\n",
       "    x.observe(notebookContainer, {childList: true});\n",
       "}}\n",
       "\n",
       "// Listen for the clearing of the current output cell\n",
       "var outputEl = gd.closest('.output');\n",
       "if (outputEl) {{\n",
       "    x.observe(outputEl, {childList: true});\n",
       "}}\n",
       "\n",
       "                        })                };                });            </script>        </div>"
      ]
     },
     "metadata": {},
     "output_type": "display_data"
    }
   ],
   "source": [
    "df[['A', 'B']].iplot(kind='spread')"
   ]
  },
  {
   "cell_type": "code",
   "execution_count": 40,
   "id": "45ced3f4",
   "metadata": {},
   "outputs": [
    {
     "data": {
      "application/vnd.plotly.v1+json": {
       "config": {
        "linkText": "Export to plot.ly",
        "plotlyServerURL": "https://plot.ly",
        "showLink": true
       },
       "data": [
        {
         "marker": {
          "color": [
           "rgb(255, 153, 51)",
           "rgb(55, 128, 191)",
           "rgb(50, 171, 96)",
           "rgb(128, 0, 128)",
           "rgb(219, 64, 82)",
           "rgb(0, 128, 128)",
           "rgb(255, 255, 51)",
           "rgb(128, 128, 0)",
           "rgb(251, 128, 114)",
           "rgb(128, 177, 211)"
          ],
          "line": {
           "width": 1.3
          },
          "size": [
           44,
           86,
           89,
           39,
           47,
           68,
           72,
           41,
           52,
           56,
           58,
           60,
           44,
           96,
           52,
           96,
           42,
           36,
           38,
           56,
           42,
           57,
           77,
           112,
           96,
           42,
           33,
           49,
           61,
           59,
           61,
           33,
           65,
           50,
           30,
           46,
           59,
           36,
           35,
           79,
           84,
           44,
           74,
           39,
           83,
           93,
           75,
           94,
           69,
           68,
           50,
           34,
           72,
           37,
           80,
           82,
           87,
           90,
           69,
           79,
           66,
           74,
           70,
           46,
           38,
           55,
           67,
           51,
           48,
           60,
           42,
           70,
           34,
           51,
           87,
           72,
           12,
           75,
           47,
           21,
           53,
           70,
           18,
           68,
           98,
           60,
           90,
           63,
           43,
           72,
           58,
           53,
           17,
           99,
           59,
           65,
           72,
           111,
           68,
           66
          ],
          "symbol": "circle"
         },
         "mode": "markers",
         "text": "",
         "type": "scatter",
         "x": [
          0.406730039480157,
          -0.39228221499578964,
          0.7584886923840094,
          -0.9440396101168271,
          -0.727462876129729,
          0.4839174053257021,
          0.3627206584336743,
          1.168876137696794,
          1.2510313986768908,
          -0.8539452754949033,
          0.055427781643683255,
          -0.6784544917630049,
          0.8326820808182758,
          0.28424683461318606,
          -0.14757676900957287,
          0.11439817628276706,
          -0.18475712704423441,
          0.0038164459887509153,
          0.34990494510895703,
          -0.4378365112671588,
          -0.319660271111292,
          -0.3137996100294566,
          0.7818668395960702,
          1.233186915064355,
          -0.6435088591199211,
          -0.7662361903303532,
          0.6315312339735785,
          -1.5985204957973767,
          -1.8108208438232374,
          2.851513981870026,
          -0.0364816577569318,
          -0.07999396186412067,
          -1.4714556943251862,
          -0.47159853321598855,
          -1.4583382229612358,
          0.5500685036145431,
          -0.5124116539500457,
          -0.4612840603123584,
          1.2075325846345708,
          0.27937512403424236,
          0.4729467860759181,
          0.694237909442264,
          -0.22313437477461176,
          -2.1673385397595584,
          1.3640671084533982,
          1.4328639494199835,
          -1.3186427873817268,
          -1.0994996582162526,
          -0.41552140832138207,
          -1.1080560081519106,
          0.2813001247748424,
          -0.7580111392673803,
          -0.7788585603184489,
          1.2751150122692931,
          2.00579679912336,
          0.47791604052873227,
          0.12635847592401317,
          0.4544312374061017,
          -0.701182543768695,
          -0.31650116074208257,
          1.40877730233643,
          -0.30667471652084766,
          0.8587407419478714,
          1.9907280644550456,
          -0.34251402756783583,
          0.8082078562811572,
          0.15996260259357092,
          0.004165864484431415,
          1.226249713622541,
          1.448104818376337,
          -0.571107037470229,
          1.0776789911239473,
          -0.1018710678062574,
          1.1137520194408075,
          0.305546217332669,
          -0.43272160683972544,
          0.5002141172314987,
          1.384830376450365,
          1.3439169146885883,
          -0.801316865757186,
          0.6946582118008514,
          1.1900960545880286,
          0.15796941300637093,
          1.1856772524598995,
          -1.3348503021181104,
          0.26021804126709724,
          0.7641069566280589,
          0.5619839963840547,
          0.9919306452669481,
          -0.42193016475058465,
          1.6278652681325925,
          0.040967833820687465,
          0.4341660540644965,
          1.2258119652660264,
          0.16250938553896713,
          0.7601085688053791,
          -0.9805826865572652,
          2.3002686917555693,
          1.301006005581953,
          1.754526468354843
         ],
         "y": [
          1.097376166904293,
          1.8642792306676408,
          1.2461137578017065,
          1.477672212271986,
          -0.6321980447209725,
          -0.701592290165167,
          -1.9910127251039769,
          -0.16971343962788965,
          1.541150001898701,
          -1.6226902596728239,
          -0.19448210077836395,
          -0.47549319984974325,
          0.7803436367159594,
          2.08048633199042,
          -0.8719472680505037,
          -0.37442017918715675,
          -0.4891452026651608,
          -0.5970083414206725,
          -0.16973314267358802,
          0.06428229010088789,
          0.4494812462908728,
          -0.07193734454633495,
          0.9309418106438704,
          -0.9753354844829426,
          -0.22601455757081423,
          0.18748715389366605,
          -0.1312877215837846,
          0.2381938795614643,
          -1.7590016804188497,
          0.6731156410468611,
          -0.7597413854750319,
          -0.8841013551192329,
          0.3929846598823091,
          0.11017410931895902,
          0.18683594785406676,
          -0.2029225971205222,
          -1.0052515203199146,
          -0.8693936292685707,
          -0.5374583078325221,
          0.5430544806259738,
          -1.3965788668301606,
          -1.1651248251003146,
          -0.8524306919840188,
          1.128249186662589,
          0.6442598329163325,
          1.0213495698127613,
          -0.23049466510995706,
          0.07953191198925529,
          -1.4659932409105514,
          1.2955320882347134,
          -0.8377201170388314,
          -0.4065340844831503,
          -1.5343531136588566,
          0.5484422875986819,
          0.09010716670491731,
          -2.249789437139244,
          -0.4964833178001253,
          0.9236763626726683,
          0.8452213396049112,
          -1.2927235441395513,
          1.7141323156631694,
          2.0912246513019284,
          0.25670750122387975,
          -1.1156603606229654,
          1.9235857811875827,
          -0.8710707446693985,
          1.3740453390524754,
          -0.35252170079482553,
          0.3105335666082955,
          -0.8699675452643268,
          -1.5648524283832677,
          0.5259596252560428,
          -0.11867843751372183,
          -0.4825495127875421,
          0.47010600603079233,
          0.6759767650864442,
          -0.1813265244137657,
          0.23745839470300278,
          1.9769665072823797,
          0.5902013388082753,
          1.710003116764618,
          0.03506191983633523,
          0.36609790401099235,
          -0.44103957812685,
          0.014828666517463394,
          0.21150895973385886,
          1.5565405830025982,
          2.401094575846921,
          -0.28780392140728167,
          -1.93983090406157,
          0.4842455485607953,
          1.0815228442886557,
          -0.36042455727396383,
          -0.6162822329956089,
          0.7698723634388819,
          -0.26264604843217976,
          -0.5313630021704862,
          -0.9796202663756749,
          0.07779045872360635,
          0.45828456864812617
         ]
        }
       ],
       "layout": {
        "legend": {
         "bgcolor": "#F5F6F9",
         "font": {
          "color": "#4D5663"
         }
        },
        "paper_bgcolor": "#F5F6F9",
        "plot_bgcolor": "#F5F6F9",
        "template": {
         "data": {
          "bar": [
           {
            "error_x": {
             "color": "#2a3f5f"
            },
            "error_y": {
             "color": "#2a3f5f"
            },
            "marker": {
             "line": {
              "color": "#E5ECF6",
              "width": 0.5
             },
             "pattern": {
              "fillmode": "overlay",
              "size": 10,
              "solidity": 0.2
             }
            },
            "type": "bar"
           }
          ],
          "barpolar": [
           {
            "marker": {
             "line": {
              "color": "#E5ECF6",
              "width": 0.5
             },
             "pattern": {
              "fillmode": "overlay",
              "size": 10,
              "solidity": 0.2
             }
            },
            "type": "barpolar"
           }
          ],
          "carpet": [
           {
            "aaxis": {
             "endlinecolor": "#2a3f5f",
             "gridcolor": "white",
             "linecolor": "white",
             "minorgridcolor": "white",
             "startlinecolor": "#2a3f5f"
            },
            "baxis": {
             "endlinecolor": "#2a3f5f",
             "gridcolor": "white",
             "linecolor": "white",
             "minorgridcolor": "white",
             "startlinecolor": "#2a3f5f"
            },
            "type": "carpet"
           }
          ],
          "choropleth": [
           {
            "colorbar": {
             "outlinewidth": 0,
             "ticks": ""
            },
            "type": "choropleth"
           }
          ],
          "contour": [
           {
            "colorbar": {
             "outlinewidth": 0,
             "ticks": ""
            },
            "colorscale": [
             [
              0,
              "#0d0887"
             ],
             [
              0.1111111111111111,
              "#46039f"
             ],
             [
              0.2222222222222222,
              "#7201a8"
             ],
             [
              0.3333333333333333,
              "#9c179e"
             ],
             [
              0.4444444444444444,
              "#bd3786"
             ],
             [
              0.5555555555555556,
              "#d8576b"
             ],
             [
              0.6666666666666666,
              "#ed7953"
             ],
             [
              0.7777777777777778,
              "#fb9f3a"
             ],
             [
              0.8888888888888888,
              "#fdca26"
             ],
             [
              1,
              "#f0f921"
             ]
            ],
            "type": "contour"
           }
          ],
          "contourcarpet": [
           {
            "colorbar": {
             "outlinewidth": 0,
             "ticks": ""
            },
            "type": "contourcarpet"
           }
          ],
          "heatmap": [
           {
            "colorbar": {
             "outlinewidth": 0,
             "ticks": ""
            },
            "colorscale": [
             [
              0,
              "#0d0887"
             ],
             [
              0.1111111111111111,
              "#46039f"
             ],
             [
              0.2222222222222222,
              "#7201a8"
             ],
             [
              0.3333333333333333,
              "#9c179e"
             ],
             [
              0.4444444444444444,
              "#bd3786"
             ],
             [
              0.5555555555555556,
              "#d8576b"
             ],
             [
              0.6666666666666666,
              "#ed7953"
             ],
             [
              0.7777777777777778,
              "#fb9f3a"
             ],
             [
              0.8888888888888888,
              "#fdca26"
             ],
             [
              1,
              "#f0f921"
             ]
            ],
            "type": "heatmap"
           }
          ],
          "heatmapgl": [
           {
            "colorbar": {
             "outlinewidth": 0,
             "ticks": ""
            },
            "colorscale": [
             [
              0,
              "#0d0887"
             ],
             [
              0.1111111111111111,
              "#46039f"
             ],
             [
              0.2222222222222222,
              "#7201a8"
             ],
             [
              0.3333333333333333,
              "#9c179e"
             ],
             [
              0.4444444444444444,
              "#bd3786"
             ],
             [
              0.5555555555555556,
              "#d8576b"
             ],
             [
              0.6666666666666666,
              "#ed7953"
             ],
             [
              0.7777777777777778,
              "#fb9f3a"
             ],
             [
              0.8888888888888888,
              "#fdca26"
             ],
             [
              1,
              "#f0f921"
             ]
            ],
            "type": "heatmapgl"
           }
          ],
          "histogram": [
           {
            "marker": {
             "pattern": {
              "fillmode": "overlay",
              "size": 10,
              "solidity": 0.2
             }
            },
            "type": "histogram"
           }
          ],
          "histogram2d": [
           {
            "colorbar": {
             "outlinewidth": 0,
             "ticks": ""
            },
            "colorscale": [
             [
              0,
              "#0d0887"
             ],
             [
              0.1111111111111111,
              "#46039f"
             ],
             [
              0.2222222222222222,
              "#7201a8"
             ],
             [
              0.3333333333333333,
              "#9c179e"
             ],
             [
              0.4444444444444444,
              "#bd3786"
             ],
             [
              0.5555555555555556,
              "#d8576b"
             ],
             [
              0.6666666666666666,
              "#ed7953"
             ],
             [
              0.7777777777777778,
              "#fb9f3a"
             ],
             [
              0.8888888888888888,
              "#fdca26"
             ],
             [
              1,
              "#f0f921"
             ]
            ],
            "type": "histogram2d"
           }
          ],
          "histogram2dcontour": [
           {
            "colorbar": {
             "outlinewidth": 0,
             "ticks": ""
            },
            "colorscale": [
             [
              0,
              "#0d0887"
             ],
             [
              0.1111111111111111,
              "#46039f"
             ],
             [
              0.2222222222222222,
              "#7201a8"
             ],
             [
              0.3333333333333333,
              "#9c179e"
             ],
             [
              0.4444444444444444,
              "#bd3786"
             ],
             [
              0.5555555555555556,
              "#d8576b"
             ],
             [
              0.6666666666666666,
              "#ed7953"
             ],
             [
              0.7777777777777778,
              "#fb9f3a"
             ],
             [
              0.8888888888888888,
              "#fdca26"
             ],
             [
              1,
              "#f0f921"
             ]
            ],
            "type": "histogram2dcontour"
           }
          ],
          "mesh3d": [
           {
            "colorbar": {
             "outlinewidth": 0,
             "ticks": ""
            },
            "type": "mesh3d"
           }
          ],
          "parcoords": [
           {
            "line": {
             "colorbar": {
              "outlinewidth": 0,
              "ticks": ""
             }
            },
            "type": "parcoords"
           }
          ],
          "pie": [
           {
            "automargin": true,
            "type": "pie"
           }
          ],
          "scatter": [
           {
            "fillpattern": {
             "fillmode": "overlay",
             "size": 10,
             "solidity": 0.2
            },
            "type": "scatter"
           }
          ],
          "scatter3d": [
           {
            "line": {
             "colorbar": {
              "outlinewidth": 0,
              "ticks": ""
             }
            },
            "marker": {
             "colorbar": {
              "outlinewidth": 0,
              "ticks": ""
             }
            },
            "type": "scatter3d"
           }
          ],
          "scattercarpet": [
           {
            "marker": {
             "colorbar": {
              "outlinewidth": 0,
              "ticks": ""
             }
            },
            "type": "scattercarpet"
           }
          ],
          "scattergeo": [
           {
            "marker": {
             "colorbar": {
              "outlinewidth": 0,
              "ticks": ""
             }
            },
            "type": "scattergeo"
           }
          ],
          "scattergl": [
           {
            "marker": {
             "colorbar": {
              "outlinewidth": 0,
              "ticks": ""
             }
            },
            "type": "scattergl"
           }
          ],
          "scattermapbox": [
           {
            "marker": {
             "colorbar": {
              "outlinewidth": 0,
              "ticks": ""
             }
            },
            "type": "scattermapbox"
           }
          ],
          "scatterpolar": [
           {
            "marker": {
             "colorbar": {
              "outlinewidth": 0,
              "ticks": ""
             }
            },
            "type": "scatterpolar"
           }
          ],
          "scatterpolargl": [
           {
            "marker": {
             "colorbar": {
              "outlinewidth": 0,
              "ticks": ""
             }
            },
            "type": "scatterpolargl"
           }
          ],
          "scatterternary": [
           {
            "marker": {
             "colorbar": {
              "outlinewidth": 0,
              "ticks": ""
             }
            },
            "type": "scatterternary"
           }
          ],
          "surface": [
           {
            "colorbar": {
             "outlinewidth": 0,
             "ticks": ""
            },
            "colorscale": [
             [
              0,
              "#0d0887"
             ],
             [
              0.1111111111111111,
              "#46039f"
             ],
             [
              0.2222222222222222,
              "#7201a8"
             ],
             [
              0.3333333333333333,
              "#9c179e"
             ],
             [
              0.4444444444444444,
              "#bd3786"
             ],
             [
              0.5555555555555556,
              "#d8576b"
             ],
             [
              0.6666666666666666,
              "#ed7953"
             ],
             [
              0.7777777777777778,
              "#fb9f3a"
             ],
             [
              0.8888888888888888,
              "#fdca26"
             ],
             [
              1,
              "#f0f921"
             ]
            ],
            "type": "surface"
           }
          ],
          "table": [
           {
            "cells": {
             "fill": {
              "color": "#EBF0F8"
             },
             "line": {
              "color": "white"
             }
            },
            "header": {
             "fill": {
              "color": "#C8D4E3"
             },
             "line": {
              "color": "white"
             }
            },
            "type": "table"
           }
          ]
         },
         "layout": {
          "annotationdefaults": {
           "arrowcolor": "#2a3f5f",
           "arrowhead": 0,
           "arrowwidth": 1
          },
          "autotypenumbers": "strict",
          "coloraxis": {
           "colorbar": {
            "outlinewidth": 0,
            "ticks": ""
           }
          },
          "colorscale": {
           "diverging": [
            [
             0,
             "#8e0152"
            ],
            [
             0.1,
             "#c51b7d"
            ],
            [
             0.2,
             "#de77ae"
            ],
            [
             0.3,
             "#f1b6da"
            ],
            [
             0.4,
             "#fde0ef"
            ],
            [
             0.5,
             "#f7f7f7"
            ],
            [
             0.6,
             "#e6f5d0"
            ],
            [
             0.7,
             "#b8e186"
            ],
            [
             0.8,
             "#7fbc41"
            ],
            [
             0.9,
             "#4d9221"
            ],
            [
             1,
             "#276419"
            ]
           ],
           "sequential": [
            [
             0,
             "#0d0887"
            ],
            [
             0.1111111111111111,
             "#46039f"
            ],
            [
             0.2222222222222222,
             "#7201a8"
            ],
            [
             0.3333333333333333,
             "#9c179e"
            ],
            [
             0.4444444444444444,
             "#bd3786"
            ],
            [
             0.5555555555555556,
             "#d8576b"
            ],
            [
             0.6666666666666666,
             "#ed7953"
            ],
            [
             0.7777777777777778,
             "#fb9f3a"
            ],
            [
             0.8888888888888888,
             "#fdca26"
            ],
            [
             1,
             "#f0f921"
            ]
           ],
           "sequentialminus": [
            [
             0,
             "#0d0887"
            ],
            [
             0.1111111111111111,
             "#46039f"
            ],
            [
             0.2222222222222222,
             "#7201a8"
            ],
            [
             0.3333333333333333,
             "#9c179e"
            ],
            [
             0.4444444444444444,
             "#bd3786"
            ],
            [
             0.5555555555555556,
             "#d8576b"
            ],
            [
             0.6666666666666666,
             "#ed7953"
            ],
            [
             0.7777777777777778,
             "#fb9f3a"
            ],
            [
             0.8888888888888888,
             "#fdca26"
            ],
            [
             1,
             "#f0f921"
            ]
           ]
          },
          "colorway": [
           "#636efa",
           "#EF553B",
           "#00cc96",
           "#ab63fa",
           "#FFA15A",
           "#19d3f3",
           "#FF6692",
           "#B6E880",
           "#FF97FF",
           "#FECB52"
          ],
          "font": {
           "color": "#2a3f5f"
          },
          "geo": {
           "bgcolor": "white",
           "lakecolor": "white",
           "landcolor": "#E5ECF6",
           "showlakes": true,
           "showland": true,
           "subunitcolor": "white"
          },
          "hoverlabel": {
           "align": "left"
          },
          "hovermode": "closest",
          "mapbox": {
           "style": "light"
          },
          "paper_bgcolor": "white",
          "plot_bgcolor": "#E5ECF6",
          "polar": {
           "angularaxis": {
            "gridcolor": "white",
            "linecolor": "white",
            "ticks": ""
           },
           "bgcolor": "#E5ECF6",
           "radialaxis": {
            "gridcolor": "white",
            "linecolor": "white",
            "ticks": ""
           }
          },
          "scene": {
           "xaxis": {
            "backgroundcolor": "#E5ECF6",
            "gridcolor": "white",
            "gridwidth": 2,
            "linecolor": "white",
            "showbackground": true,
            "ticks": "",
            "zerolinecolor": "white"
           },
           "yaxis": {
            "backgroundcolor": "#E5ECF6",
            "gridcolor": "white",
            "gridwidth": 2,
            "linecolor": "white",
            "showbackground": true,
            "ticks": "",
            "zerolinecolor": "white"
           },
           "zaxis": {
            "backgroundcolor": "#E5ECF6",
            "gridcolor": "white",
            "gridwidth": 2,
            "linecolor": "white",
            "showbackground": true,
            "ticks": "",
            "zerolinecolor": "white"
           }
          },
          "shapedefaults": {
           "line": {
            "color": "#2a3f5f"
           }
          },
          "ternary": {
           "aaxis": {
            "gridcolor": "white",
            "linecolor": "white",
            "ticks": ""
           },
           "baxis": {
            "gridcolor": "white",
            "linecolor": "white",
            "ticks": ""
           },
           "bgcolor": "#E5ECF6",
           "caxis": {
            "gridcolor": "white",
            "linecolor": "white",
            "ticks": ""
           }
          },
          "title": {
           "x": 0.05
          },
          "xaxis": {
           "automargin": true,
           "gridcolor": "white",
           "linecolor": "white",
           "ticks": "",
           "title": {
            "standoff": 15
           },
           "zerolinecolor": "white",
           "zerolinewidth": 2
          },
          "yaxis": {
           "automargin": true,
           "gridcolor": "white",
           "linecolor": "white",
           "ticks": "",
           "title": {
            "standoff": 15
           },
           "zerolinecolor": "white",
           "zerolinewidth": 2
          }
         }
        },
        "title": {
         "font": {
          "color": "#4D5663"
         }
        },
        "xaxis": {
         "gridcolor": "#E1E5ED",
         "showgrid": true,
         "tickfont": {
          "color": "#4D5663"
         },
         "title": {
          "font": {
           "color": "#4D5663"
          },
          "text": ""
         },
         "zerolinecolor": "#E1E5ED"
        },
        "yaxis": {
         "gridcolor": "#E1E5ED",
         "showgrid": true,
         "tickfont": {
          "color": "#4D5663"
         },
         "title": {
          "font": {
           "color": "#4D5663"
          },
          "text": ""
         },
         "zerolinecolor": "#E1E5ED"
        }
       }
      },
      "text/html": [
       "<div>                            <div id=\"2ef93a99-a7c3-4a28-98be-bea43cbf5e9a\" class=\"plotly-graph-div\" style=\"height:525px; width:100%;\"></div>            <script type=\"text/javascript\">                require([\"plotly\"], function(Plotly) {                    window.PLOTLYENV=window.PLOTLYENV || {};\n",
       "                    window.PLOTLYENV.BASE_URL='https://plot.ly';                                    if (document.getElementById(\"2ef93a99-a7c3-4a28-98be-bea43cbf5e9a\")) {                    Plotly.newPlot(                        \"2ef93a99-a7c3-4a28-98be-bea43cbf5e9a\",                        [{\"marker\":{\"color\":[\"rgb(255, 153, 51)\",\"rgb(55, 128, 191)\",\"rgb(50, 171, 96)\",\"rgb(128, 0, 128)\",\"rgb(219, 64, 82)\",\"rgb(0, 128, 128)\",\"rgb(255, 255, 51)\",\"rgb(128, 128, 0)\",\"rgb(251, 128, 114)\",\"rgb(128, 177, 211)\"],\"line\":{\"width\":1.3},\"size\":[44,86,89,39,47,68,72,41,52,56,58,60,44,96,52,96,42,36,38,56,42,57,77,112,96,42,33,49,61,59,61,33,65,50,30,46,59,36,35,79,84,44,74,39,83,93,75,94,69,68,50,34,72,37,80,82,87,90,69,79,66,74,70,46,38,55,67,51,48,60,42,70,34,51,87,72,12,75,47,21,53,70,18,68,98,60,90,63,43,72,58,53,17,99,59,65,72,111,68,66],\"symbol\":\"circle\"},\"mode\":\"markers\",\"text\":\"\",\"x\":[0.406730039480157,-0.39228221499578964,0.7584886923840094,-0.9440396101168271,-0.727462876129729,0.4839174053257021,0.3627206584336743,1.168876137696794,1.2510313986768908,-0.8539452754949033,0.055427781643683255,-0.6784544917630049,0.8326820808182758,0.28424683461318606,-0.14757676900957287,0.11439817628276706,-0.18475712704423441,0.0038164459887509153,0.34990494510895703,-0.4378365112671588,-0.319660271111292,-0.3137996100294566,0.7818668395960702,1.233186915064355,-0.6435088591199211,-0.7662361903303532,0.6315312339735785,-1.5985204957973767,-1.8108208438232374,2.851513981870026,-0.0364816577569318,-0.07999396186412067,-1.4714556943251862,-0.47159853321598855,-1.4583382229612358,0.5500685036145431,-0.5124116539500457,-0.4612840603123584,1.2075325846345708,0.27937512403424236,0.4729467860759181,0.694237909442264,-0.22313437477461176,-2.1673385397595584,1.3640671084533982,1.4328639494199835,-1.3186427873817268,-1.0994996582162526,-0.41552140832138207,-1.1080560081519106,0.2813001247748424,-0.7580111392673803,-0.7788585603184489,1.2751150122692931,2.00579679912336,0.47791604052873227,0.12635847592401317,0.4544312374061017,-0.701182543768695,-0.31650116074208257,1.40877730233643,-0.30667471652084766,0.8587407419478714,1.9907280644550456,-0.34251402756783583,0.8082078562811572,0.15996260259357092,0.004165864484431415,1.226249713622541,1.448104818376337,-0.571107037470229,1.0776789911239473,-0.1018710678062574,1.1137520194408075,0.305546217332669,-0.43272160683972544,0.5002141172314987,1.384830376450365,1.3439169146885883,-0.801316865757186,0.6946582118008514,1.1900960545880286,0.15796941300637093,1.1856772524598995,-1.3348503021181104,0.26021804126709724,0.7641069566280589,0.5619839963840547,0.9919306452669481,-0.42193016475058465,1.6278652681325925,0.040967833820687465,0.4341660540644965,1.2258119652660264,0.16250938553896713,0.7601085688053791,-0.9805826865572652,2.3002686917555693,1.301006005581953,1.754526468354843],\"y\":[1.097376166904293,1.8642792306676408,1.2461137578017065,1.477672212271986,-0.6321980447209725,-0.701592290165167,-1.9910127251039769,-0.16971343962788965,1.541150001898701,-1.6226902596728239,-0.19448210077836395,-0.47549319984974325,0.7803436367159594,2.08048633199042,-0.8719472680505037,-0.37442017918715675,-0.4891452026651608,-0.5970083414206725,-0.16973314267358802,0.06428229010088789,0.4494812462908728,-0.07193734454633495,0.9309418106438704,-0.9753354844829426,-0.22601455757081423,0.18748715389366605,-0.1312877215837846,0.2381938795614643,-1.7590016804188497,0.6731156410468611,-0.7597413854750319,-0.8841013551192329,0.3929846598823091,0.11017410931895902,0.18683594785406676,-0.2029225971205222,-1.0052515203199146,-0.8693936292685707,-0.5374583078325221,0.5430544806259738,-1.3965788668301606,-1.1651248251003146,-0.8524306919840188,1.128249186662589,0.6442598329163325,1.0213495698127613,-0.23049466510995706,0.07953191198925529,-1.4659932409105514,1.2955320882347134,-0.8377201170388314,-0.4065340844831503,-1.5343531136588566,0.5484422875986819,0.09010716670491731,-2.249789437139244,-0.4964833178001253,0.9236763626726683,0.8452213396049112,-1.2927235441395513,1.7141323156631694,2.0912246513019284,0.25670750122387975,-1.1156603606229654,1.9235857811875827,-0.8710707446693985,1.3740453390524754,-0.35252170079482553,0.3105335666082955,-0.8699675452643268,-1.5648524283832677,0.5259596252560428,-0.11867843751372183,-0.4825495127875421,0.47010600603079233,0.6759767650864442,-0.1813265244137657,0.23745839470300278,1.9769665072823797,0.5902013388082753,1.710003116764618,0.03506191983633523,0.36609790401099235,-0.44103957812685,0.014828666517463394,0.21150895973385886,1.5565405830025982,2.401094575846921,-0.28780392140728167,-1.93983090406157,0.4842455485607953,1.0815228442886557,-0.36042455727396383,-0.6162822329956089,0.7698723634388819,-0.26264604843217976,-0.5313630021704862,-0.9796202663756749,0.07779045872360635,0.45828456864812617],\"type\":\"scatter\"}],                        {\"legend\":{\"bgcolor\":\"#F5F6F9\",\"font\":{\"color\":\"#4D5663\"}},\"paper_bgcolor\":\"#F5F6F9\",\"plot_bgcolor\":\"#F5F6F9\",\"template\":{\"data\":{\"barpolar\":[{\"marker\":{\"line\":{\"color\":\"#E5ECF6\",\"width\":0.5},\"pattern\":{\"fillmode\":\"overlay\",\"size\":10,\"solidity\":0.2}},\"type\":\"barpolar\"}],\"bar\":[{\"error_x\":{\"color\":\"#2a3f5f\"},\"error_y\":{\"color\":\"#2a3f5f\"},\"marker\":{\"line\":{\"color\":\"#E5ECF6\",\"width\":0.5},\"pattern\":{\"fillmode\":\"overlay\",\"size\":10,\"solidity\":0.2}},\"type\":\"bar\"}],\"carpet\":[{\"aaxis\":{\"endlinecolor\":\"#2a3f5f\",\"gridcolor\":\"white\",\"linecolor\":\"white\",\"minorgridcolor\":\"white\",\"startlinecolor\":\"#2a3f5f\"},\"baxis\":{\"endlinecolor\":\"#2a3f5f\",\"gridcolor\":\"white\",\"linecolor\":\"white\",\"minorgridcolor\":\"white\",\"startlinecolor\":\"#2a3f5f\"},\"type\":\"carpet\"}],\"choropleth\":[{\"colorbar\":{\"outlinewidth\":0,\"ticks\":\"\"},\"type\":\"choropleth\"}],\"contourcarpet\":[{\"colorbar\":{\"outlinewidth\":0,\"ticks\":\"\"},\"type\":\"contourcarpet\"}],\"contour\":[{\"colorbar\":{\"outlinewidth\":0,\"ticks\":\"\"},\"colorscale\":[[0.0,\"#0d0887\"],[0.1111111111111111,\"#46039f\"],[0.2222222222222222,\"#7201a8\"],[0.3333333333333333,\"#9c179e\"],[0.4444444444444444,\"#bd3786\"],[0.5555555555555556,\"#d8576b\"],[0.6666666666666666,\"#ed7953\"],[0.7777777777777778,\"#fb9f3a\"],[0.8888888888888888,\"#fdca26\"],[1.0,\"#f0f921\"]],\"type\":\"contour\"}],\"heatmapgl\":[{\"colorbar\":{\"outlinewidth\":0,\"ticks\":\"\"},\"colorscale\":[[0.0,\"#0d0887\"],[0.1111111111111111,\"#46039f\"],[0.2222222222222222,\"#7201a8\"],[0.3333333333333333,\"#9c179e\"],[0.4444444444444444,\"#bd3786\"],[0.5555555555555556,\"#d8576b\"],[0.6666666666666666,\"#ed7953\"],[0.7777777777777778,\"#fb9f3a\"],[0.8888888888888888,\"#fdca26\"],[1.0,\"#f0f921\"]],\"type\":\"heatmapgl\"}],\"heatmap\":[{\"colorbar\":{\"outlinewidth\":0,\"ticks\":\"\"},\"colorscale\":[[0.0,\"#0d0887\"],[0.1111111111111111,\"#46039f\"],[0.2222222222222222,\"#7201a8\"],[0.3333333333333333,\"#9c179e\"],[0.4444444444444444,\"#bd3786\"],[0.5555555555555556,\"#d8576b\"],[0.6666666666666666,\"#ed7953\"],[0.7777777777777778,\"#fb9f3a\"],[0.8888888888888888,\"#fdca26\"],[1.0,\"#f0f921\"]],\"type\":\"heatmap\"}],\"histogram2dcontour\":[{\"colorbar\":{\"outlinewidth\":0,\"ticks\":\"\"},\"colorscale\":[[0.0,\"#0d0887\"],[0.1111111111111111,\"#46039f\"],[0.2222222222222222,\"#7201a8\"],[0.3333333333333333,\"#9c179e\"],[0.4444444444444444,\"#bd3786\"],[0.5555555555555556,\"#d8576b\"],[0.6666666666666666,\"#ed7953\"],[0.7777777777777778,\"#fb9f3a\"],[0.8888888888888888,\"#fdca26\"],[1.0,\"#f0f921\"]],\"type\":\"histogram2dcontour\"}],\"histogram2d\":[{\"colorbar\":{\"outlinewidth\":0,\"ticks\":\"\"},\"colorscale\":[[0.0,\"#0d0887\"],[0.1111111111111111,\"#46039f\"],[0.2222222222222222,\"#7201a8\"],[0.3333333333333333,\"#9c179e\"],[0.4444444444444444,\"#bd3786\"],[0.5555555555555556,\"#d8576b\"],[0.6666666666666666,\"#ed7953\"],[0.7777777777777778,\"#fb9f3a\"],[0.8888888888888888,\"#fdca26\"],[1.0,\"#f0f921\"]],\"type\":\"histogram2d\"}],\"histogram\":[{\"marker\":{\"pattern\":{\"fillmode\":\"overlay\",\"size\":10,\"solidity\":0.2}},\"type\":\"histogram\"}],\"mesh3d\":[{\"colorbar\":{\"outlinewidth\":0,\"ticks\":\"\"},\"type\":\"mesh3d\"}],\"parcoords\":[{\"line\":{\"colorbar\":{\"outlinewidth\":0,\"ticks\":\"\"}},\"type\":\"parcoords\"}],\"pie\":[{\"automargin\":true,\"type\":\"pie\"}],\"scatter3d\":[{\"line\":{\"colorbar\":{\"outlinewidth\":0,\"ticks\":\"\"}},\"marker\":{\"colorbar\":{\"outlinewidth\":0,\"ticks\":\"\"}},\"type\":\"scatter3d\"}],\"scattercarpet\":[{\"marker\":{\"colorbar\":{\"outlinewidth\":0,\"ticks\":\"\"}},\"type\":\"scattercarpet\"}],\"scattergeo\":[{\"marker\":{\"colorbar\":{\"outlinewidth\":0,\"ticks\":\"\"}},\"type\":\"scattergeo\"}],\"scattergl\":[{\"marker\":{\"colorbar\":{\"outlinewidth\":0,\"ticks\":\"\"}},\"type\":\"scattergl\"}],\"scattermapbox\":[{\"marker\":{\"colorbar\":{\"outlinewidth\":0,\"ticks\":\"\"}},\"type\":\"scattermapbox\"}],\"scatterpolargl\":[{\"marker\":{\"colorbar\":{\"outlinewidth\":0,\"ticks\":\"\"}},\"type\":\"scatterpolargl\"}],\"scatterpolar\":[{\"marker\":{\"colorbar\":{\"outlinewidth\":0,\"ticks\":\"\"}},\"type\":\"scatterpolar\"}],\"scatter\":[{\"fillpattern\":{\"fillmode\":\"overlay\",\"size\":10,\"solidity\":0.2},\"type\":\"scatter\"}],\"scatterternary\":[{\"marker\":{\"colorbar\":{\"outlinewidth\":0,\"ticks\":\"\"}},\"type\":\"scatterternary\"}],\"surface\":[{\"colorbar\":{\"outlinewidth\":0,\"ticks\":\"\"},\"colorscale\":[[0.0,\"#0d0887\"],[0.1111111111111111,\"#46039f\"],[0.2222222222222222,\"#7201a8\"],[0.3333333333333333,\"#9c179e\"],[0.4444444444444444,\"#bd3786\"],[0.5555555555555556,\"#d8576b\"],[0.6666666666666666,\"#ed7953\"],[0.7777777777777778,\"#fb9f3a\"],[0.8888888888888888,\"#fdca26\"],[1.0,\"#f0f921\"]],\"type\":\"surface\"}],\"table\":[{\"cells\":{\"fill\":{\"color\":\"#EBF0F8\"},\"line\":{\"color\":\"white\"}},\"header\":{\"fill\":{\"color\":\"#C8D4E3\"},\"line\":{\"color\":\"white\"}},\"type\":\"table\"}]},\"layout\":{\"annotationdefaults\":{\"arrowcolor\":\"#2a3f5f\",\"arrowhead\":0,\"arrowwidth\":1},\"autotypenumbers\":\"strict\",\"coloraxis\":{\"colorbar\":{\"outlinewidth\":0,\"ticks\":\"\"}},\"colorscale\":{\"diverging\":[[0,\"#8e0152\"],[0.1,\"#c51b7d\"],[0.2,\"#de77ae\"],[0.3,\"#f1b6da\"],[0.4,\"#fde0ef\"],[0.5,\"#f7f7f7\"],[0.6,\"#e6f5d0\"],[0.7,\"#b8e186\"],[0.8,\"#7fbc41\"],[0.9,\"#4d9221\"],[1,\"#276419\"]],\"sequential\":[[0.0,\"#0d0887\"],[0.1111111111111111,\"#46039f\"],[0.2222222222222222,\"#7201a8\"],[0.3333333333333333,\"#9c179e\"],[0.4444444444444444,\"#bd3786\"],[0.5555555555555556,\"#d8576b\"],[0.6666666666666666,\"#ed7953\"],[0.7777777777777778,\"#fb9f3a\"],[0.8888888888888888,\"#fdca26\"],[1.0,\"#f0f921\"]],\"sequentialminus\":[[0.0,\"#0d0887\"],[0.1111111111111111,\"#46039f\"],[0.2222222222222222,\"#7201a8\"],[0.3333333333333333,\"#9c179e\"],[0.4444444444444444,\"#bd3786\"],[0.5555555555555556,\"#d8576b\"],[0.6666666666666666,\"#ed7953\"],[0.7777777777777778,\"#fb9f3a\"],[0.8888888888888888,\"#fdca26\"],[1.0,\"#f0f921\"]]},\"colorway\":[\"#636efa\",\"#EF553B\",\"#00cc96\",\"#ab63fa\",\"#FFA15A\",\"#19d3f3\",\"#FF6692\",\"#B6E880\",\"#FF97FF\",\"#FECB52\"],\"font\":{\"color\":\"#2a3f5f\"},\"geo\":{\"bgcolor\":\"white\",\"lakecolor\":\"white\",\"landcolor\":\"#E5ECF6\",\"showlakes\":true,\"showland\":true,\"subunitcolor\":\"white\"},\"hoverlabel\":{\"align\":\"left\"},\"hovermode\":\"closest\",\"mapbox\":{\"style\":\"light\"},\"paper_bgcolor\":\"white\",\"plot_bgcolor\":\"#E5ECF6\",\"polar\":{\"angularaxis\":{\"gridcolor\":\"white\",\"linecolor\":\"white\",\"ticks\":\"\"},\"bgcolor\":\"#E5ECF6\",\"radialaxis\":{\"gridcolor\":\"white\",\"linecolor\":\"white\",\"ticks\":\"\"}},\"scene\":{\"xaxis\":{\"backgroundcolor\":\"#E5ECF6\",\"gridcolor\":\"white\",\"gridwidth\":2,\"linecolor\":\"white\",\"showbackground\":true,\"ticks\":\"\",\"zerolinecolor\":\"white\"},\"yaxis\":{\"backgroundcolor\":\"#E5ECF6\",\"gridcolor\":\"white\",\"gridwidth\":2,\"linecolor\":\"white\",\"showbackground\":true,\"ticks\":\"\",\"zerolinecolor\":\"white\"},\"zaxis\":{\"backgroundcolor\":\"#E5ECF6\",\"gridcolor\":\"white\",\"gridwidth\":2,\"linecolor\":\"white\",\"showbackground\":true,\"ticks\":\"\",\"zerolinecolor\":\"white\"}},\"shapedefaults\":{\"line\":{\"color\":\"#2a3f5f\"}},\"ternary\":{\"aaxis\":{\"gridcolor\":\"white\",\"linecolor\":\"white\",\"ticks\":\"\"},\"baxis\":{\"gridcolor\":\"white\",\"linecolor\":\"white\",\"ticks\":\"\"},\"bgcolor\":\"#E5ECF6\",\"caxis\":{\"gridcolor\":\"white\",\"linecolor\":\"white\",\"ticks\":\"\"}},\"title\":{\"x\":0.05},\"xaxis\":{\"automargin\":true,\"gridcolor\":\"white\",\"linecolor\":\"white\",\"ticks\":\"\",\"title\":{\"standoff\":15},\"zerolinecolor\":\"white\",\"zerolinewidth\":2},\"yaxis\":{\"automargin\":true,\"gridcolor\":\"white\",\"linecolor\":\"white\",\"ticks\":\"\",\"title\":{\"standoff\":15},\"zerolinecolor\":\"white\",\"zerolinewidth\":2}}},\"title\":{\"font\":{\"color\":\"#4D5663\"}},\"xaxis\":{\"gridcolor\":\"#E1E5ED\",\"showgrid\":true,\"tickfont\":{\"color\":\"#4D5663\"},\"title\":{\"font\":{\"color\":\"#4D5663\"},\"text\":\"\"},\"zerolinecolor\":\"#E1E5ED\"},\"yaxis\":{\"gridcolor\":\"#E1E5ED\",\"showgrid\":true,\"tickfont\":{\"color\":\"#4D5663\"},\"title\":{\"font\":{\"color\":\"#4D5663\"},\"text\":\"\"},\"zerolinecolor\":\"#E1E5ED\"}},                        {\"showLink\": true, \"linkText\": \"Export to plot.ly\", \"plotlyServerURL\": \"https://plot.ly\", \"responsive\": true}                    ).then(function(){\n",
       "                            \n",
       "var gd = document.getElementById('2ef93a99-a7c3-4a28-98be-bea43cbf5e9a');\n",
       "var x = new MutationObserver(function (mutations, observer) {{\n",
       "        var display = window.getComputedStyle(gd).display;\n",
       "        if (!display || display === 'none') {{\n",
       "            console.log([gd, 'removed!']);\n",
       "            Plotly.purge(gd);\n",
       "            observer.disconnect();\n",
       "        }}\n",
       "}});\n",
       "\n",
       "// Listen for the removal of the full notebook cells\n",
       "var notebookContainer = gd.closest('#notebook-container');\n",
       "if (notebookContainer) {{\n",
       "    x.observe(notebookContainer, {childList: true});\n",
       "}}\n",
       "\n",
       "// Listen for the clearing of the current output cell\n",
       "var outputEl = gd.closest('.output');\n",
       "if (outputEl) {{\n",
       "    x.observe(outputEl, {childList: true});\n",
       "}}\n",
       "\n",
       "                        })                };                });            </script>        </div>"
      ]
     },
     "metadata": {},
     "output_type": "display_data"
    }
   ],
   "source": [
    "# Bubble plot\n",
    "df.iplot(kind='bubble', x='A', y='B', size='C')"
   ]
  },
  {
   "cell_type": "code",
   "execution_count": 41,
   "id": "540aafa6",
   "metadata": {},
   "outputs": [
    {
     "data": {
      "application/vnd.plotly.v1+json": {
       "config": {
        "linkText": "Export to plot.ly",
        "plotlyServerURL": "https://plot.ly",
        "showLink": true
       },
       "data": [
        {
         "histfunc": "count",
         "histnorm": "",
         "marker": {
          "color": "rgba(255, 153, 51, 1.0)",
          "line": {
           "color": "#4D5663",
           "width": 1.3
          }
         },
         "name": "A",
         "nbinsx": 10,
         "opacity": 0.8,
         "orientation": "v",
         "type": "histogram",
         "x": [
          0.406730039480157,
          -0.39228221499578964,
          0.7584886923840094,
          -0.9440396101168271,
          -0.727462876129729,
          0.4839174053257021,
          0.3627206584336743,
          1.168876137696794,
          1.2510313986768908,
          -0.8539452754949033,
          0.055427781643683255,
          -0.6784544917630049,
          0.8326820808182758,
          0.28424683461318606,
          -0.14757676900957287,
          0.11439817628276706,
          -0.18475712704423441,
          0.0038164459887509153,
          0.34990494510895703,
          -0.4378365112671588,
          -0.319660271111292,
          -0.3137996100294566,
          0.7818668395960702,
          1.233186915064355,
          -0.6435088591199211,
          -0.7662361903303532,
          0.6315312339735785,
          -1.5985204957973767,
          -1.8108208438232374,
          2.851513981870026,
          -0.0364816577569318,
          -0.07999396186412067,
          -1.4714556943251862,
          -0.47159853321598855,
          -1.4583382229612358,
          0.5500685036145431,
          -0.5124116539500457,
          -0.4612840603123584,
          1.2075325846345708,
          0.27937512403424236,
          0.4729467860759181,
          0.694237909442264,
          -0.22313437477461176,
          -2.1673385397595584,
          1.3640671084533982,
          1.4328639494199835,
          -1.3186427873817268,
          -1.0994996582162526,
          -0.41552140832138207,
          -1.1080560081519106,
          0.2813001247748424,
          -0.7580111392673803,
          -0.7788585603184489,
          1.2751150122692931,
          2.00579679912336,
          0.47791604052873227,
          0.12635847592401317,
          0.4544312374061017,
          -0.701182543768695,
          -0.31650116074208257,
          1.40877730233643,
          -0.30667471652084766,
          0.8587407419478714,
          1.9907280644550456,
          -0.34251402756783583,
          0.8082078562811572,
          0.15996260259357092,
          0.004165864484431415,
          1.226249713622541,
          1.448104818376337,
          -0.571107037470229,
          1.0776789911239473,
          -0.1018710678062574,
          1.1137520194408075,
          0.305546217332669,
          -0.43272160683972544,
          0.5002141172314987,
          1.384830376450365,
          1.3439169146885883,
          -0.801316865757186,
          0.6946582118008514,
          1.1900960545880286,
          0.15796941300637093,
          1.1856772524598995,
          -1.3348503021181104,
          0.26021804126709724,
          0.7641069566280589,
          0.5619839963840547,
          0.9919306452669481,
          -0.42193016475058465,
          1.6278652681325925,
          0.040967833820687465,
          0.4341660540644965,
          1.2258119652660264,
          0.16250938553896713,
          0.7601085688053791,
          -0.9805826865572652,
          2.3002686917555693,
          1.301006005581953,
          1.754526468354843
         ],
         "xaxis": "x",
         "yaxis": "y"
        },
        {
         "line": {
          "color": "rgba(128, 128, 128, 1.0)",
          "dash": "solid",
          "shape": "linear",
          "width": 1.3
         },
         "marker": {
          "size": 2,
          "symbol": "circle"
         },
         "mode": "markers",
         "name": "A",
         "text": "",
         "type": "scatter",
         "x": [
          1.097376166904293,
          1.8642792306676408,
          1.2461137578017065,
          1.477672212271986,
          -0.6321980447209725,
          -0.701592290165167,
          -1.9910127251039769,
          -0.16971343962788965,
          1.541150001898701,
          -1.6226902596728239,
          -0.19448210077836395,
          -0.47549319984974325,
          0.7803436367159594,
          2.08048633199042,
          -0.8719472680505037,
          -0.37442017918715675,
          -0.4891452026651608,
          -0.5970083414206725,
          -0.16973314267358802,
          0.06428229010088789,
          0.4494812462908728,
          -0.07193734454633495,
          0.9309418106438704,
          -0.9753354844829426,
          -0.22601455757081423,
          0.18748715389366605,
          -0.1312877215837846,
          0.2381938795614643,
          -1.7590016804188497,
          0.6731156410468611,
          -0.7597413854750319,
          -0.8841013551192329,
          0.3929846598823091,
          0.11017410931895902,
          0.18683594785406676,
          -0.2029225971205222,
          -1.0052515203199146,
          -0.8693936292685707,
          -0.5374583078325221,
          0.5430544806259738,
          -1.3965788668301606,
          -1.1651248251003146,
          -0.8524306919840188,
          1.128249186662589,
          0.6442598329163325,
          1.0213495698127613,
          -0.23049466510995706,
          0.07953191198925529,
          -1.4659932409105514,
          1.2955320882347134,
          -0.8377201170388314,
          -0.4065340844831503,
          -1.5343531136588566,
          0.5484422875986819,
          0.09010716670491731,
          -2.249789437139244,
          -0.4964833178001253,
          0.9236763626726683,
          0.8452213396049112,
          -1.2927235441395513,
          1.7141323156631694,
          2.0912246513019284,
          0.25670750122387975,
          -1.1156603606229654,
          1.9235857811875827,
          -0.8710707446693985,
          1.3740453390524754,
          -0.35252170079482553,
          0.3105335666082955,
          -0.8699675452643268,
          -1.5648524283832677,
          0.5259596252560428,
          -0.11867843751372183,
          -0.4825495127875421,
          0.47010600603079233,
          0.6759767650864442,
          -0.1813265244137657,
          0.23745839470300278,
          1.9769665072823797,
          0.5902013388082753,
          1.710003116764618,
          0.03506191983633523,
          0.36609790401099235,
          -0.44103957812685,
          0.014828666517463394,
          0.21150895973385886,
          1.5565405830025982,
          2.401094575846921,
          -0.28780392140728167,
          -1.93983090406157,
          0.4842455485607953,
          1.0815228442886557,
          -0.36042455727396383,
          -0.6162822329956089,
          0.7698723634388819,
          -0.26264604843217976,
          -0.5313630021704862,
          -0.9796202663756749,
          0.07779045872360635,
          0.45828456864812617
         ],
         "xaxis": "x2",
         "y": [
          0.406730039480157,
          -0.39228221499578964,
          0.7584886923840094,
          -0.9440396101168271,
          -0.727462876129729,
          0.4839174053257021,
          0.3627206584336743,
          1.168876137696794,
          1.2510313986768908,
          -0.8539452754949033,
          0.055427781643683255,
          -0.6784544917630049,
          0.8326820808182758,
          0.28424683461318606,
          -0.14757676900957287,
          0.11439817628276706,
          -0.18475712704423441,
          0.0038164459887509153,
          0.34990494510895703,
          -0.4378365112671588,
          -0.319660271111292,
          -0.3137996100294566,
          0.7818668395960702,
          1.233186915064355,
          -0.6435088591199211,
          -0.7662361903303532,
          0.6315312339735785,
          -1.5985204957973767,
          -1.8108208438232374,
          2.851513981870026,
          -0.0364816577569318,
          -0.07999396186412067,
          -1.4714556943251862,
          -0.47159853321598855,
          -1.4583382229612358,
          0.5500685036145431,
          -0.5124116539500457,
          -0.4612840603123584,
          1.2075325846345708,
          0.27937512403424236,
          0.4729467860759181,
          0.694237909442264,
          -0.22313437477461176,
          -2.1673385397595584,
          1.3640671084533982,
          1.4328639494199835,
          -1.3186427873817268,
          -1.0994996582162526,
          -0.41552140832138207,
          -1.1080560081519106,
          0.2813001247748424,
          -0.7580111392673803,
          -0.7788585603184489,
          1.2751150122692931,
          2.00579679912336,
          0.47791604052873227,
          0.12635847592401317,
          0.4544312374061017,
          -0.701182543768695,
          -0.31650116074208257,
          1.40877730233643,
          -0.30667471652084766,
          0.8587407419478714,
          1.9907280644550456,
          -0.34251402756783583,
          0.8082078562811572,
          0.15996260259357092,
          0.004165864484431415,
          1.226249713622541,
          1.448104818376337,
          -0.571107037470229,
          1.0776789911239473,
          -0.1018710678062574,
          1.1137520194408075,
          0.305546217332669,
          -0.43272160683972544,
          0.5002141172314987,
          1.384830376450365,
          1.3439169146885883,
          -0.801316865757186,
          0.6946582118008514,
          1.1900960545880286,
          0.15796941300637093,
          1.1856772524598995,
          -1.3348503021181104,
          0.26021804126709724,
          0.7641069566280589,
          0.5619839963840547,
          0.9919306452669481,
          -0.42193016475058465,
          1.6278652681325925,
          0.040967833820687465,
          0.4341660540644965,
          1.2258119652660264,
          0.16250938553896713,
          0.7601085688053791,
          -0.9805826865572652,
          2.3002686917555693,
          1.301006005581953,
          1.754526468354843
         ],
         "yaxis": "y2"
        },
        {
         "line": {
          "color": "rgba(128, 128, 128, 1.0)",
          "dash": "solid",
          "shape": "linear",
          "width": 1.3
         },
         "marker": {
          "size": 2,
          "symbol": "circle"
         },
         "mode": "markers",
         "name": "A",
         "text": "",
         "type": "scatter",
         "x": [
          -0.959747881609686,
          1.0367821198208023,
          1.1793643986088211,
          -1.1847910685272307,
          -0.8084386447856533,
          0.17988019416163548,
          0.3980228918066277,
          -1.08082996218518,
          -0.5666268107303905,
          -0.3844724301983165,
          -0.25922695615111,
          -0.19240029331781172,
          -0.9262680677710405,
          1.5202632748089229,
          -0.5488602253956538,
          1.5444815479525467,
          -1.02807514380886,
          -1.3369806920411973,
          -1.2355219454915394,
          -0.3650483311232349,
          -1.0378418608531532,
          -0.33723343966111063,
          0.612532028665151,
          2.264398042000688,
          1.5526885092866494,
          -1.041815130520541,
          -1.4449717477082784,
          -0.6765598716890142,
          -0.1188794303229958,
          -0.2296694432837657,
          -0.10692238325046478,
          -1.4796792755911248,
          0.046884110499893085,
          -0.6400552792075027,
          -1.6148675005152104,
          -0.8181027964469965,
          -0.23619986103989418,
          -1.3309197760816576,
          -1.346254717197355,
          0.715404419869758,
          0.9801234758543126,
          -0.9296905800722829,
          0.4679481363201032,
          -1.1818051412191242,
          0.9154701140210872,
          1.3932319048211754,
          0.5444851638530489,
          1.4537859430819797,
          0.24489743804102446,
          0.19791287590021447,
          -0.6698998391357807,
          -1.3978800295772889,
          0.3794789816172494,
          -1.2597528308744037,
          0.7911117770587406,
          0.8860111458984627,
          1.100997847227812,
          1.2227346621855006,
          0.23813988698570066,
          0.7369555603898272,
          0.12729412239022272,
          0.4941300636382026,
          0.3001154465893416,
          -0.8522656780053931,
          -1.2428088551637078,
          -0.4331463496663254,
          0.16852650488740917,
          -0.6155703411818955,
          -0.7470558852677666,
          -0.17081111977622232,
          -1.0108532874031082,
          0.30111657698245825,
          -1.4004351460905673,
          -0.617479520524966,
          1.096583802392027,
          0.38027555293067633,
          -2.4770444913214926,
          0.5124599056022963,
          -0.7864323172889783,
          -2.012404930830048,
          -0.5239455987265228,
          0.28855396935654365,
          -2.180575119874746,
          0.22409243129740206,
          1.6110071750508808,
          -0.1732752241703584,
          1.2478975671405141,
          -0.048669124542163676,
          -1.0065265236213345,
          0.3888443659165873,
          -0.27466355453413027,
          -0.5211709616199443,
          -2.213711402445004,
          1.6586733594573306,
          -0.22848418615931423,
          0.057267395731893815,
          0.3821345869931526,
          2.2275703180856756,
          0.2072166861025222,
          0.12301242491396328
         ],
         "xaxis": "x3",
         "y": [
          0.406730039480157,
          -0.39228221499578964,
          0.7584886923840094,
          -0.9440396101168271,
          -0.727462876129729,
          0.4839174053257021,
          0.3627206584336743,
          1.168876137696794,
          1.2510313986768908,
          -0.8539452754949033,
          0.055427781643683255,
          -0.6784544917630049,
          0.8326820808182758,
          0.28424683461318606,
          -0.14757676900957287,
          0.11439817628276706,
          -0.18475712704423441,
          0.0038164459887509153,
          0.34990494510895703,
          -0.4378365112671588,
          -0.319660271111292,
          -0.3137996100294566,
          0.7818668395960702,
          1.233186915064355,
          -0.6435088591199211,
          -0.7662361903303532,
          0.6315312339735785,
          -1.5985204957973767,
          -1.8108208438232374,
          2.851513981870026,
          -0.0364816577569318,
          -0.07999396186412067,
          -1.4714556943251862,
          -0.47159853321598855,
          -1.4583382229612358,
          0.5500685036145431,
          -0.5124116539500457,
          -0.4612840603123584,
          1.2075325846345708,
          0.27937512403424236,
          0.4729467860759181,
          0.694237909442264,
          -0.22313437477461176,
          -2.1673385397595584,
          1.3640671084533982,
          1.4328639494199835,
          -1.3186427873817268,
          -1.0994996582162526,
          -0.41552140832138207,
          -1.1080560081519106,
          0.2813001247748424,
          -0.7580111392673803,
          -0.7788585603184489,
          1.2751150122692931,
          2.00579679912336,
          0.47791604052873227,
          0.12635847592401317,
          0.4544312374061017,
          -0.701182543768695,
          -0.31650116074208257,
          1.40877730233643,
          -0.30667471652084766,
          0.8587407419478714,
          1.9907280644550456,
          -0.34251402756783583,
          0.8082078562811572,
          0.15996260259357092,
          0.004165864484431415,
          1.226249713622541,
          1.448104818376337,
          -0.571107037470229,
          1.0776789911239473,
          -0.1018710678062574,
          1.1137520194408075,
          0.305546217332669,
          -0.43272160683972544,
          0.5002141172314987,
          1.384830376450365,
          1.3439169146885883,
          -0.801316865757186,
          0.6946582118008514,
          1.1900960545880286,
          0.15796941300637093,
          1.1856772524598995,
          -1.3348503021181104,
          0.26021804126709724,
          0.7641069566280589,
          0.5619839963840547,
          0.9919306452669481,
          -0.42193016475058465,
          1.6278652681325925,
          0.040967833820687465,
          0.4341660540644965,
          1.2258119652660264,
          0.16250938553896713,
          0.7601085688053791,
          -0.9805826865572652,
          2.3002686917555693,
          1.301006005581953,
          1.754526468354843
         ],
         "yaxis": "y3"
        },
        {
         "line": {
          "color": "rgba(128, 128, 128, 1.0)",
          "dash": "solid",
          "shape": "linear",
          "width": 1.3
         },
         "marker": {
          "size": 2,
          "symbol": "circle"
         },
         "mode": "markers",
         "name": "A",
         "text": "",
         "type": "scatter",
         "x": [
          -0.3775237105476041,
          1.5469330558820853,
          0.7975837377689529,
          -1.0215237358858384,
          0.046174419806248125,
          -0.4546700022403752,
          -0.976645584975092,
          0.45717773411839563,
          -1.3606088988003922,
          -1.764923821143453,
          1.3491715340900854,
          1.0404434348743121,
          2.231620580687955,
          -0.9592701447679857,
          0.02481391863717533,
          1.1543392090813562,
          -0.5448617030321711,
          0.981060386509627,
          -1.3971884449374945,
          0.051944384918920075,
          0.5191578103580838,
          -0.2079011438790017,
          2.4598800535048064,
          -0.3064029027419856,
          1.7368796898541534,
          2.0259377554560363,
          0.05077977396190428,
          2.3636997814467824,
          -0.9001904283819676,
          -0.4615461008048252,
          1.580150496138963,
          -1.4459977513748663,
          0.7849704949260711,
          0.9370021432027721,
          -1.0438536510350638,
          1.0642048533773578,
          -0.5047233858253104,
          -1.2985658864810619,
          -0.9347355102775656,
          -1.7435021361118295,
          0.6540645036517425,
          -0.5406342471593872,
          0.8175495870482,
          -0.28795761265237857,
          -0.6040342612099427,
          -0.000273981036672952,
          -0.03040250123411199,
          -1.3474981929133365,
          1.326316641128734,
          -1.4048711185810525,
          0.3496708975244264,
          1.175758589037626,
          0.5407612368541103,
          -1.5947823321895451,
          -0.2814276918443059,
          -0.4266535186520008,
          -0.11651375400559504,
          0.7395628814325849,
          -0.21127926389675677,
          -1.6285256466392641,
          2.715790717037815,
          -0.4381836055540097,
          -0.7167752813344342,
          1.6344080173541937,
          1.092247657456989,
          1.1918526512537928,
          1.4797193451776989,
          -0.042073357485148864,
          1.4353536465377565,
          0.566212208762207,
          -1.0469684943619808,
          1.2965361364755423,
          -0.7693246295679306,
          1.4043778339323014,
          -0.022019816215365234,
          -0.2565755827695688,
          -0.9516114323200353,
          0.4100799957427423,
          0.27899071689190635,
          -0.643630880672682,
          1.3788949433245734,
          1.7421489253733558,
          0.47087130008510547,
          0.1086939483089091,
          -0.796358241377402,
          0.43141768585008794,
          0.4935046381639671,
          2.2923780110911194,
          0.4553633293911215,
          1.2470448067482276,
          0.5680883081761456,
          -0.17640134522893047,
          0.6490268225007355,
          -0.844411924817917,
          -1.556331856145653,
          -0.6893983779063737,
          -0.9099102769233144,
          -1.0202975535224497,
          -0.8373455223524954,
          -0.0428262147603727
         ],
         "xaxis": "x4",
         "y": [
          0.406730039480157,
          -0.39228221499578964,
          0.7584886923840094,
          -0.9440396101168271,
          -0.727462876129729,
          0.4839174053257021,
          0.3627206584336743,
          1.168876137696794,
          1.2510313986768908,
          -0.8539452754949033,
          0.055427781643683255,
          -0.6784544917630049,
          0.8326820808182758,
          0.28424683461318606,
          -0.14757676900957287,
          0.11439817628276706,
          -0.18475712704423441,
          0.0038164459887509153,
          0.34990494510895703,
          -0.4378365112671588,
          -0.319660271111292,
          -0.3137996100294566,
          0.7818668395960702,
          1.233186915064355,
          -0.6435088591199211,
          -0.7662361903303532,
          0.6315312339735785,
          -1.5985204957973767,
          -1.8108208438232374,
          2.851513981870026,
          -0.0364816577569318,
          -0.07999396186412067,
          -1.4714556943251862,
          -0.47159853321598855,
          -1.4583382229612358,
          0.5500685036145431,
          -0.5124116539500457,
          -0.4612840603123584,
          1.2075325846345708,
          0.27937512403424236,
          0.4729467860759181,
          0.694237909442264,
          -0.22313437477461176,
          -2.1673385397595584,
          1.3640671084533982,
          1.4328639494199835,
          -1.3186427873817268,
          -1.0994996582162526,
          -0.41552140832138207,
          -1.1080560081519106,
          0.2813001247748424,
          -0.7580111392673803,
          -0.7788585603184489,
          1.2751150122692931,
          2.00579679912336,
          0.47791604052873227,
          0.12635847592401317,
          0.4544312374061017,
          -0.701182543768695,
          -0.31650116074208257,
          1.40877730233643,
          -0.30667471652084766,
          0.8587407419478714,
          1.9907280644550456,
          -0.34251402756783583,
          0.8082078562811572,
          0.15996260259357092,
          0.004165864484431415,
          1.226249713622541,
          1.448104818376337,
          -0.571107037470229,
          1.0776789911239473,
          -0.1018710678062574,
          1.1137520194408075,
          0.305546217332669,
          -0.43272160683972544,
          0.5002141172314987,
          1.384830376450365,
          1.3439169146885883,
          -0.801316865757186,
          0.6946582118008514,
          1.1900960545880286,
          0.15796941300637093,
          1.1856772524598995,
          -1.3348503021181104,
          0.26021804126709724,
          0.7641069566280589,
          0.5619839963840547,
          0.9919306452669481,
          -0.42193016475058465,
          1.6278652681325925,
          0.040967833820687465,
          0.4341660540644965,
          1.2258119652660264,
          0.16250938553896713,
          0.7601085688053791,
          -0.9805826865572652,
          2.3002686917555693,
          1.301006005581953,
          1.754526468354843
         ],
         "yaxis": "y4"
        },
        {
         "line": {
          "color": "rgba(128, 128, 128, 1.0)",
          "dash": "solid",
          "shape": "linear",
          "width": 1.3
         },
         "marker": {
          "size": 2,
          "symbol": "circle"
         },
         "mode": "markers",
         "name": "B",
         "text": "",
         "type": "scatter",
         "x": [
          0.406730039480157,
          -0.39228221499578964,
          0.7584886923840094,
          -0.9440396101168271,
          -0.727462876129729,
          0.4839174053257021,
          0.3627206584336743,
          1.168876137696794,
          1.2510313986768908,
          -0.8539452754949033,
          0.055427781643683255,
          -0.6784544917630049,
          0.8326820808182758,
          0.28424683461318606,
          -0.14757676900957287,
          0.11439817628276706,
          -0.18475712704423441,
          0.0038164459887509153,
          0.34990494510895703,
          -0.4378365112671588,
          -0.319660271111292,
          -0.3137996100294566,
          0.7818668395960702,
          1.233186915064355,
          -0.6435088591199211,
          -0.7662361903303532,
          0.6315312339735785,
          -1.5985204957973767,
          -1.8108208438232374,
          2.851513981870026,
          -0.0364816577569318,
          -0.07999396186412067,
          -1.4714556943251862,
          -0.47159853321598855,
          -1.4583382229612358,
          0.5500685036145431,
          -0.5124116539500457,
          -0.4612840603123584,
          1.2075325846345708,
          0.27937512403424236,
          0.4729467860759181,
          0.694237909442264,
          -0.22313437477461176,
          -2.1673385397595584,
          1.3640671084533982,
          1.4328639494199835,
          -1.3186427873817268,
          -1.0994996582162526,
          -0.41552140832138207,
          -1.1080560081519106,
          0.2813001247748424,
          -0.7580111392673803,
          -0.7788585603184489,
          1.2751150122692931,
          2.00579679912336,
          0.47791604052873227,
          0.12635847592401317,
          0.4544312374061017,
          -0.701182543768695,
          -0.31650116074208257,
          1.40877730233643,
          -0.30667471652084766,
          0.8587407419478714,
          1.9907280644550456,
          -0.34251402756783583,
          0.8082078562811572,
          0.15996260259357092,
          0.004165864484431415,
          1.226249713622541,
          1.448104818376337,
          -0.571107037470229,
          1.0776789911239473,
          -0.1018710678062574,
          1.1137520194408075,
          0.305546217332669,
          -0.43272160683972544,
          0.5002141172314987,
          1.384830376450365,
          1.3439169146885883,
          -0.801316865757186,
          0.6946582118008514,
          1.1900960545880286,
          0.15796941300637093,
          1.1856772524598995,
          -1.3348503021181104,
          0.26021804126709724,
          0.7641069566280589,
          0.5619839963840547,
          0.9919306452669481,
          -0.42193016475058465,
          1.6278652681325925,
          0.040967833820687465,
          0.4341660540644965,
          1.2258119652660264,
          0.16250938553896713,
          0.7601085688053791,
          -0.9805826865572652,
          2.3002686917555693,
          1.301006005581953,
          1.754526468354843
         ],
         "xaxis": "x5",
         "y": [
          1.097376166904293,
          1.8642792306676408,
          1.2461137578017065,
          1.477672212271986,
          -0.6321980447209725,
          -0.701592290165167,
          -1.9910127251039769,
          -0.16971343962788965,
          1.541150001898701,
          -1.6226902596728239,
          -0.19448210077836395,
          -0.47549319984974325,
          0.7803436367159594,
          2.08048633199042,
          -0.8719472680505037,
          -0.37442017918715675,
          -0.4891452026651608,
          -0.5970083414206725,
          -0.16973314267358802,
          0.06428229010088789,
          0.4494812462908728,
          -0.07193734454633495,
          0.9309418106438704,
          -0.9753354844829426,
          -0.22601455757081423,
          0.18748715389366605,
          -0.1312877215837846,
          0.2381938795614643,
          -1.7590016804188497,
          0.6731156410468611,
          -0.7597413854750319,
          -0.8841013551192329,
          0.3929846598823091,
          0.11017410931895902,
          0.18683594785406676,
          -0.2029225971205222,
          -1.0052515203199146,
          -0.8693936292685707,
          -0.5374583078325221,
          0.5430544806259738,
          -1.3965788668301606,
          -1.1651248251003146,
          -0.8524306919840188,
          1.128249186662589,
          0.6442598329163325,
          1.0213495698127613,
          -0.23049466510995706,
          0.07953191198925529,
          -1.4659932409105514,
          1.2955320882347134,
          -0.8377201170388314,
          -0.4065340844831503,
          -1.5343531136588566,
          0.5484422875986819,
          0.09010716670491731,
          -2.249789437139244,
          -0.4964833178001253,
          0.9236763626726683,
          0.8452213396049112,
          -1.2927235441395513,
          1.7141323156631694,
          2.0912246513019284,
          0.25670750122387975,
          -1.1156603606229654,
          1.9235857811875827,
          -0.8710707446693985,
          1.3740453390524754,
          -0.35252170079482553,
          0.3105335666082955,
          -0.8699675452643268,
          -1.5648524283832677,
          0.5259596252560428,
          -0.11867843751372183,
          -0.4825495127875421,
          0.47010600603079233,
          0.6759767650864442,
          -0.1813265244137657,
          0.23745839470300278,
          1.9769665072823797,
          0.5902013388082753,
          1.710003116764618,
          0.03506191983633523,
          0.36609790401099235,
          -0.44103957812685,
          0.014828666517463394,
          0.21150895973385886,
          1.5565405830025982,
          2.401094575846921,
          -0.28780392140728167,
          -1.93983090406157,
          0.4842455485607953,
          1.0815228442886557,
          -0.36042455727396383,
          -0.6162822329956089,
          0.7698723634388819,
          -0.26264604843217976,
          -0.5313630021704862,
          -0.9796202663756749,
          0.07779045872360635,
          0.45828456864812617
         ],
         "yaxis": "y5"
        },
        {
         "histfunc": "count",
         "histnorm": "",
         "marker": {
          "color": "rgba(55, 128, 191, 1.0)",
          "line": {
           "color": "#4D5663",
           "width": 1.3
          }
         },
         "name": "B",
         "nbinsx": 10,
         "opacity": 0.8,
         "orientation": "v",
         "type": "histogram",
         "x": [
          1.097376166904293,
          1.8642792306676408,
          1.2461137578017065,
          1.477672212271986,
          -0.6321980447209725,
          -0.701592290165167,
          -1.9910127251039769,
          -0.16971343962788965,
          1.541150001898701,
          -1.6226902596728239,
          -0.19448210077836395,
          -0.47549319984974325,
          0.7803436367159594,
          2.08048633199042,
          -0.8719472680505037,
          -0.37442017918715675,
          -0.4891452026651608,
          -0.5970083414206725,
          -0.16973314267358802,
          0.06428229010088789,
          0.4494812462908728,
          -0.07193734454633495,
          0.9309418106438704,
          -0.9753354844829426,
          -0.22601455757081423,
          0.18748715389366605,
          -0.1312877215837846,
          0.2381938795614643,
          -1.7590016804188497,
          0.6731156410468611,
          -0.7597413854750319,
          -0.8841013551192329,
          0.3929846598823091,
          0.11017410931895902,
          0.18683594785406676,
          -0.2029225971205222,
          -1.0052515203199146,
          -0.8693936292685707,
          -0.5374583078325221,
          0.5430544806259738,
          -1.3965788668301606,
          -1.1651248251003146,
          -0.8524306919840188,
          1.128249186662589,
          0.6442598329163325,
          1.0213495698127613,
          -0.23049466510995706,
          0.07953191198925529,
          -1.4659932409105514,
          1.2955320882347134,
          -0.8377201170388314,
          -0.4065340844831503,
          -1.5343531136588566,
          0.5484422875986819,
          0.09010716670491731,
          -2.249789437139244,
          -0.4964833178001253,
          0.9236763626726683,
          0.8452213396049112,
          -1.2927235441395513,
          1.7141323156631694,
          2.0912246513019284,
          0.25670750122387975,
          -1.1156603606229654,
          1.9235857811875827,
          -0.8710707446693985,
          1.3740453390524754,
          -0.35252170079482553,
          0.3105335666082955,
          -0.8699675452643268,
          -1.5648524283832677,
          0.5259596252560428,
          -0.11867843751372183,
          -0.4825495127875421,
          0.47010600603079233,
          0.6759767650864442,
          -0.1813265244137657,
          0.23745839470300278,
          1.9769665072823797,
          0.5902013388082753,
          1.710003116764618,
          0.03506191983633523,
          0.36609790401099235,
          -0.44103957812685,
          0.014828666517463394,
          0.21150895973385886,
          1.5565405830025982,
          2.401094575846921,
          -0.28780392140728167,
          -1.93983090406157,
          0.4842455485607953,
          1.0815228442886557,
          -0.36042455727396383,
          -0.6162822329956089,
          0.7698723634388819,
          -0.26264604843217976,
          -0.5313630021704862,
          -0.9796202663756749,
          0.07779045872360635,
          0.45828456864812617
         ],
         "xaxis": "x6",
         "yaxis": "y6"
        },
        {
         "line": {
          "color": "rgba(128, 128, 128, 1.0)",
          "dash": "solid",
          "shape": "linear",
          "width": 1.3
         },
         "marker": {
          "size": 2,
          "symbol": "circle"
         },
         "mode": "markers",
         "name": "B",
         "text": "",
         "type": "scatter",
         "x": [
          -0.959747881609686,
          1.0367821198208023,
          1.1793643986088211,
          -1.1847910685272307,
          -0.8084386447856533,
          0.17988019416163548,
          0.3980228918066277,
          -1.08082996218518,
          -0.5666268107303905,
          -0.3844724301983165,
          -0.25922695615111,
          -0.19240029331781172,
          -0.9262680677710405,
          1.5202632748089229,
          -0.5488602253956538,
          1.5444815479525467,
          -1.02807514380886,
          -1.3369806920411973,
          -1.2355219454915394,
          -0.3650483311232349,
          -1.0378418608531532,
          -0.33723343966111063,
          0.612532028665151,
          2.264398042000688,
          1.5526885092866494,
          -1.041815130520541,
          -1.4449717477082784,
          -0.6765598716890142,
          -0.1188794303229958,
          -0.2296694432837657,
          -0.10692238325046478,
          -1.4796792755911248,
          0.046884110499893085,
          -0.6400552792075027,
          -1.6148675005152104,
          -0.8181027964469965,
          -0.23619986103989418,
          -1.3309197760816576,
          -1.346254717197355,
          0.715404419869758,
          0.9801234758543126,
          -0.9296905800722829,
          0.4679481363201032,
          -1.1818051412191242,
          0.9154701140210872,
          1.3932319048211754,
          0.5444851638530489,
          1.4537859430819797,
          0.24489743804102446,
          0.19791287590021447,
          -0.6698998391357807,
          -1.3978800295772889,
          0.3794789816172494,
          -1.2597528308744037,
          0.7911117770587406,
          0.8860111458984627,
          1.100997847227812,
          1.2227346621855006,
          0.23813988698570066,
          0.7369555603898272,
          0.12729412239022272,
          0.4941300636382026,
          0.3001154465893416,
          -0.8522656780053931,
          -1.2428088551637078,
          -0.4331463496663254,
          0.16852650488740917,
          -0.6155703411818955,
          -0.7470558852677666,
          -0.17081111977622232,
          -1.0108532874031082,
          0.30111657698245825,
          -1.4004351460905673,
          -0.617479520524966,
          1.096583802392027,
          0.38027555293067633,
          -2.4770444913214926,
          0.5124599056022963,
          -0.7864323172889783,
          -2.012404930830048,
          -0.5239455987265228,
          0.28855396935654365,
          -2.180575119874746,
          0.22409243129740206,
          1.6110071750508808,
          -0.1732752241703584,
          1.2478975671405141,
          -0.048669124542163676,
          -1.0065265236213345,
          0.3888443659165873,
          -0.27466355453413027,
          -0.5211709616199443,
          -2.213711402445004,
          1.6586733594573306,
          -0.22848418615931423,
          0.057267395731893815,
          0.3821345869931526,
          2.2275703180856756,
          0.2072166861025222,
          0.12301242491396328
         ],
         "xaxis": "x7",
         "y": [
          1.097376166904293,
          1.8642792306676408,
          1.2461137578017065,
          1.477672212271986,
          -0.6321980447209725,
          -0.701592290165167,
          -1.9910127251039769,
          -0.16971343962788965,
          1.541150001898701,
          -1.6226902596728239,
          -0.19448210077836395,
          -0.47549319984974325,
          0.7803436367159594,
          2.08048633199042,
          -0.8719472680505037,
          -0.37442017918715675,
          -0.4891452026651608,
          -0.5970083414206725,
          -0.16973314267358802,
          0.06428229010088789,
          0.4494812462908728,
          -0.07193734454633495,
          0.9309418106438704,
          -0.9753354844829426,
          -0.22601455757081423,
          0.18748715389366605,
          -0.1312877215837846,
          0.2381938795614643,
          -1.7590016804188497,
          0.6731156410468611,
          -0.7597413854750319,
          -0.8841013551192329,
          0.3929846598823091,
          0.11017410931895902,
          0.18683594785406676,
          -0.2029225971205222,
          -1.0052515203199146,
          -0.8693936292685707,
          -0.5374583078325221,
          0.5430544806259738,
          -1.3965788668301606,
          -1.1651248251003146,
          -0.8524306919840188,
          1.128249186662589,
          0.6442598329163325,
          1.0213495698127613,
          -0.23049466510995706,
          0.07953191198925529,
          -1.4659932409105514,
          1.2955320882347134,
          -0.8377201170388314,
          -0.4065340844831503,
          -1.5343531136588566,
          0.5484422875986819,
          0.09010716670491731,
          -2.249789437139244,
          -0.4964833178001253,
          0.9236763626726683,
          0.8452213396049112,
          -1.2927235441395513,
          1.7141323156631694,
          2.0912246513019284,
          0.25670750122387975,
          -1.1156603606229654,
          1.9235857811875827,
          -0.8710707446693985,
          1.3740453390524754,
          -0.35252170079482553,
          0.3105335666082955,
          -0.8699675452643268,
          -1.5648524283832677,
          0.5259596252560428,
          -0.11867843751372183,
          -0.4825495127875421,
          0.47010600603079233,
          0.6759767650864442,
          -0.1813265244137657,
          0.23745839470300278,
          1.9769665072823797,
          0.5902013388082753,
          1.710003116764618,
          0.03506191983633523,
          0.36609790401099235,
          -0.44103957812685,
          0.014828666517463394,
          0.21150895973385886,
          1.5565405830025982,
          2.401094575846921,
          -0.28780392140728167,
          -1.93983090406157,
          0.4842455485607953,
          1.0815228442886557,
          -0.36042455727396383,
          -0.6162822329956089,
          0.7698723634388819,
          -0.26264604843217976,
          -0.5313630021704862,
          -0.9796202663756749,
          0.07779045872360635,
          0.45828456864812617
         ],
         "yaxis": "y7"
        },
        {
         "line": {
          "color": "rgba(128, 128, 128, 1.0)",
          "dash": "solid",
          "shape": "linear",
          "width": 1.3
         },
         "marker": {
          "size": 2,
          "symbol": "circle"
         },
         "mode": "markers",
         "name": "B",
         "text": "",
         "type": "scatter",
         "x": [
          -0.3775237105476041,
          1.5469330558820853,
          0.7975837377689529,
          -1.0215237358858384,
          0.046174419806248125,
          -0.4546700022403752,
          -0.976645584975092,
          0.45717773411839563,
          -1.3606088988003922,
          -1.764923821143453,
          1.3491715340900854,
          1.0404434348743121,
          2.231620580687955,
          -0.9592701447679857,
          0.02481391863717533,
          1.1543392090813562,
          -0.5448617030321711,
          0.981060386509627,
          -1.3971884449374945,
          0.051944384918920075,
          0.5191578103580838,
          -0.2079011438790017,
          2.4598800535048064,
          -0.3064029027419856,
          1.7368796898541534,
          2.0259377554560363,
          0.05077977396190428,
          2.3636997814467824,
          -0.9001904283819676,
          -0.4615461008048252,
          1.580150496138963,
          -1.4459977513748663,
          0.7849704949260711,
          0.9370021432027721,
          -1.0438536510350638,
          1.0642048533773578,
          -0.5047233858253104,
          -1.2985658864810619,
          -0.9347355102775656,
          -1.7435021361118295,
          0.6540645036517425,
          -0.5406342471593872,
          0.8175495870482,
          -0.28795761265237857,
          -0.6040342612099427,
          -0.000273981036672952,
          -0.03040250123411199,
          -1.3474981929133365,
          1.326316641128734,
          -1.4048711185810525,
          0.3496708975244264,
          1.175758589037626,
          0.5407612368541103,
          -1.5947823321895451,
          -0.2814276918443059,
          -0.4266535186520008,
          -0.11651375400559504,
          0.7395628814325849,
          -0.21127926389675677,
          -1.6285256466392641,
          2.715790717037815,
          -0.4381836055540097,
          -0.7167752813344342,
          1.6344080173541937,
          1.092247657456989,
          1.1918526512537928,
          1.4797193451776989,
          -0.042073357485148864,
          1.4353536465377565,
          0.566212208762207,
          -1.0469684943619808,
          1.2965361364755423,
          -0.7693246295679306,
          1.4043778339323014,
          -0.022019816215365234,
          -0.2565755827695688,
          -0.9516114323200353,
          0.4100799957427423,
          0.27899071689190635,
          -0.643630880672682,
          1.3788949433245734,
          1.7421489253733558,
          0.47087130008510547,
          0.1086939483089091,
          -0.796358241377402,
          0.43141768585008794,
          0.4935046381639671,
          2.2923780110911194,
          0.4553633293911215,
          1.2470448067482276,
          0.5680883081761456,
          -0.17640134522893047,
          0.6490268225007355,
          -0.844411924817917,
          -1.556331856145653,
          -0.6893983779063737,
          -0.9099102769233144,
          -1.0202975535224497,
          -0.8373455223524954,
          -0.0428262147603727
         ],
         "xaxis": "x8",
         "y": [
          1.097376166904293,
          1.8642792306676408,
          1.2461137578017065,
          1.477672212271986,
          -0.6321980447209725,
          -0.701592290165167,
          -1.9910127251039769,
          -0.16971343962788965,
          1.541150001898701,
          -1.6226902596728239,
          -0.19448210077836395,
          -0.47549319984974325,
          0.7803436367159594,
          2.08048633199042,
          -0.8719472680505037,
          -0.37442017918715675,
          -0.4891452026651608,
          -0.5970083414206725,
          -0.16973314267358802,
          0.06428229010088789,
          0.4494812462908728,
          -0.07193734454633495,
          0.9309418106438704,
          -0.9753354844829426,
          -0.22601455757081423,
          0.18748715389366605,
          -0.1312877215837846,
          0.2381938795614643,
          -1.7590016804188497,
          0.6731156410468611,
          -0.7597413854750319,
          -0.8841013551192329,
          0.3929846598823091,
          0.11017410931895902,
          0.18683594785406676,
          -0.2029225971205222,
          -1.0052515203199146,
          -0.8693936292685707,
          -0.5374583078325221,
          0.5430544806259738,
          -1.3965788668301606,
          -1.1651248251003146,
          -0.8524306919840188,
          1.128249186662589,
          0.6442598329163325,
          1.0213495698127613,
          -0.23049466510995706,
          0.07953191198925529,
          -1.4659932409105514,
          1.2955320882347134,
          -0.8377201170388314,
          -0.4065340844831503,
          -1.5343531136588566,
          0.5484422875986819,
          0.09010716670491731,
          -2.249789437139244,
          -0.4964833178001253,
          0.9236763626726683,
          0.8452213396049112,
          -1.2927235441395513,
          1.7141323156631694,
          2.0912246513019284,
          0.25670750122387975,
          -1.1156603606229654,
          1.9235857811875827,
          -0.8710707446693985,
          1.3740453390524754,
          -0.35252170079482553,
          0.3105335666082955,
          -0.8699675452643268,
          -1.5648524283832677,
          0.5259596252560428,
          -0.11867843751372183,
          -0.4825495127875421,
          0.47010600603079233,
          0.6759767650864442,
          -0.1813265244137657,
          0.23745839470300278,
          1.9769665072823797,
          0.5902013388082753,
          1.710003116764618,
          0.03506191983633523,
          0.36609790401099235,
          -0.44103957812685,
          0.014828666517463394,
          0.21150895973385886,
          1.5565405830025982,
          2.401094575846921,
          -0.28780392140728167,
          -1.93983090406157,
          0.4842455485607953,
          1.0815228442886557,
          -0.36042455727396383,
          -0.6162822329956089,
          0.7698723634388819,
          -0.26264604843217976,
          -0.5313630021704862,
          -0.9796202663756749,
          0.07779045872360635,
          0.45828456864812617
         ],
         "yaxis": "y8"
        },
        {
         "line": {
          "color": "rgba(128, 128, 128, 1.0)",
          "dash": "solid",
          "shape": "linear",
          "width": 1.3
         },
         "marker": {
          "size": 2,
          "symbol": "circle"
         },
         "mode": "markers",
         "name": "C",
         "text": "",
         "type": "scatter",
         "x": [
          0.406730039480157,
          -0.39228221499578964,
          0.7584886923840094,
          -0.9440396101168271,
          -0.727462876129729,
          0.4839174053257021,
          0.3627206584336743,
          1.168876137696794,
          1.2510313986768908,
          -0.8539452754949033,
          0.055427781643683255,
          -0.6784544917630049,
          0.8326820808182758,
          0.28424683461318606,
          -0.14757676900957287,
          0.11439817628276706,
          -0.18475712704423441,
          0.0038164459887509153,
          0.34990494510895703,
          -0.4378365112671588,
          -0.319660271111292,
          -0.3137996100294566,
          0.7818668395960702,
          1.233186915064355,
          -0.6435088591199211,
          -0.7662361903303532,
          0.6315312339735785,
          -1.5985204957973767,
          -1.8108208438232374,
          2.851513981870026,
          -0.0364816577569318,
          -0.07999396186412067,
          -1.4714556943251862,
          -0.47159853321598855,
          -1.4583382229612358,
          0.5500685036145431,
          -0.5124116539500457,
          -0.4612840603123584,
          1.2075325846345708,
          0.27937512403424236,
          0.4729467860759181,
          0.694237909442264,
          -0.22313437477461176,
          -2.1673385397595584,
          1.3640671084533982,
          1.4328639494199835,
          -1.3186427873817268,
          -1.0994996582162526,
          -0.41552140832138207,
          -1.1080560081519106,
          0.2813001247748424,
          -0.7580111392673803,
          -0.7788585603184489,
          1.2751150122692931,
          2.00579679912336,
          0.47791604052873227,
          0.12635847592401317,
          0.4544312374061017,
          -0.701182543768695,
          -0.31650116074208257,
          1.40877730233643,
          -0.30667471652084766,
          0.8587407419478714,
          1.9907280644550456,
          -0.34251402756783583,
          0.8082078562811572,
          0.15996260259357092,
          0.004165864484431415,
          1.226249713622541,
          1.448104818376337,
          -0.571107037470229,
          1.0776789911239473,
          -0.1018710678062574,
          1.1137520194408075,
          0.305546217332669,
          -0.43272160683972544,
          0.5002141172314987,
          1.384830376450365,
          1.3439169146885883,
          -0.801316865757186,
          0.6946582118008514,
          1.1900960545880286,
          0.15796941300637093,
          1.1856772524598995,
          -1.3348503021181104,
          0.26021804126709724,
          0.7641069566280589,
          0.5619839963840547,
          0.9919306452669481,
          -0.42193016475058465,
          1.6278652681325925,
          0.040967833820687465,
          0.4341660540644965,
          1.2258119652660264,
          0.16250938553896713,
          0.7601085688053791,
          -0.9805826865572652,
          2.3002686917555693,
          1.301006005581953,
          1.754526468354843
         ],
         "xaxis": "x9",
         "y": [
          -0.959747881609686,
          1.0367821198208023,
          1.1793643986088211,
          -1.1847910685272307,
          -0.8084386447856533,
          0.17988019416163548,
          0.3980228918066277,
          -1.08082996218518,
          -0.5666268107303905,
          -0.3844724301983165,
          -0.25922695615111,
          -0.19240029331781172,
          -0.9262680677710405,
          1.5202632748089229,
          -0.5488602253956538,
          1.5444815479525467,
          -1.02807514380886,
          -1.3369806920411973,
          -1.2355219454915394,
          -0.3650483311232349,
          -1.0378418608531532,
          -0.33723343966111063,
          0.612532028665151,
          2.264398042000688,
          1.5526885092866494,
          -1.041815130520541,
          -1.4449717477082784,
          -0.6765598716890142,
          -0.1188794303229958,
          -0.2296694432837657,
          -0.10692238325046478,
          -1.4796792755911248,
          0.046884110499893085,
          -0.6400552792075027,
          -1.6148675005152104,
          -0.8181027964469965,
          -0.23619986103989418,
          -1.3309197760816576,
          -1.346254717197355,
          0.715404419869758,
          0.9801234758543126,
          -0.9296905800722829,
          0.4679481363201032,
          -1.1818051412191242,
          0.9154701140210872,
          1.3932319048211754,
          0.5444851638530489,
          1.4537859430819797,
          0.24489743804102446,
          0.19791287590021447,
          -0.6698998391357807,
          -1.3978800295772889,
          0.3794789816172494,
          -1.2597528308744037,
          0.7911117770587406,
          0.8860111458984627,
          1.100997847227812,
          1.2227346621855006,
          0.23813988698570066,
          0.7369555603898272,
          0.12729412239022272,
          0.4941300636382026,
          0.3001154465893416,
          -0.8522656780053931,
          -1.2428088551637078,
          -0.4331463496663254,
          0.16852650488740917,
          -0.6155703411818955,
          -0.7470558852677666,
          -0.17081111977622232,
          -1.0108532874031082,
          0.30111657698245825,
          -1.4004351460905673,
          -0.617479520524966,
          1.096583802392027,
          0.38027555293067633,
          -2.4770444913214926,
          0.5124599056022963,
          -0.7864323172889783,
          -2.012404930830048,
          -0.5239455987265228,
          0.28855396935654365,
          -2.180575119874746,
          0.22409243129740206,
          1.6110071750508808,
          -0.1732752241703584,
          1.2478975671405141,
          -0.048669124542163676,
          -1.0065265236213345,
          0.3888443659165873,
          -0.27466355453413027,
          -0.5211709616199443,
          -2.213711402445004,
          1.6586733594573306,
          -0.22848418615931423,
          0.057267395731893815,
          0.3821345869931526,
          2.2275703180856756,
          0.2072166861025222,
          0.12301242491396328
         ],
         "yaxis": "y9"
        },
        {
         "line": {
          "color": "rgba(128, 128, 128, 1.0)",
          "dash": "solid",
          "shape": "linear",
          "width": 1.3
         },
         "marker": {
          "size": 2,
          "symbol": "circle"
         },
         "mode": "markers",
         "name": "C",
         "text": "",
         "type": "scatter",
         "x": [
          1.097376166904293,
          1.8642792306676408,
          1.2461137578017065,
          1.477672212271986,
          -0.6321980447209725,
          -0.701592290165167,
          -1.9910127251039769,
          -0.16971343962788965,
          1.541150001898701,
          -1.6226902596728239,
          -0.19448210077836395,
          -0.47549319984974325,
          0.7803436367159594,
          2.08048633199042,
          -0.8719472680505037,
          -0.37442017918715675,
          -0.4891452026651608,
          -0.5970083414206725,
          -0.16973314267358802,
          0.06428229010088789,
          0.4494812462908728,
          -0.07193734454633495,
          0.9309418106438704,
          -0.9753354844829426,
          -0.22601455757081423,
          0.18748715389366605,
          -0.1312877215837846,
          0.2381938795614643,
          -1.7590016804188497,
          0.6731156410468611,
          -0.7597413854750319,
          -0.8841013551192329,
          0.3929846598823091,
          0.11017410931895902,
          0.18683594785406676,
          -0.2029225971205222,
          -1.0052515203199146,
          -0.8693936292685707,
          -0.5374583078325221,
          0.5430544806259738,
          -1.3965788668301606,
          -1.1651248251003146,
          -0.8524306919840188,
          1.128249186662589,
          0.6442598329163325,
          1.0213495698127613,
          -0.23049466510995706,
          0.07953191198925529,
          -1.4659932409105514,
          1.2955320882347134,
          -0.8377201170388314,
          -0.4065340844831503,
          -1.5343531136588566,
          0.5484422875986819,
          0.09010716670491731,
          -2.249789437139244,
          -0.4964833178001253,
          0.9236763626726683,
          0.8452213396049112,
          -1.2927235441395513,
          1.7141323156631694,
          2.0912246513019284,
          0.25670750122387975,
          -1.1156603606229654,
          1.9235857811875827,
          -0.8710707446693985,
          1.3740453390524754,
          -0.35252170079482553,
          0.3105335666082955,
          -0.8699675452643268,
          -1.5648524283832677,
          0.5259596252560428,
          -0.11867843751372183,
          -0.4825495127875421,
          0.47010600603079233,
          0.6759767650864442,
          -0.1813265244137657,
          0.23745839470300278,
          1.9769665072823797,
          0.5902013388082753,
          1.710003116764618,
          0.03506191983633523,
          0.36609790401099235,
          -0.44103957812685,
          0.014828666517463394,
          0.21150895973385886,
          1.5565405830025982,
          2.401094575846921,
          -0.28780392140728167,
          -1.93983090406157,
          0.4842455485607953,
          1.0815228442886557,
          -0.36042455727396383,
          -0.6162822329956089,
          0.7698723634388819,
          -0.26264604843217976,
          -0.5313630021704862,
          -0.9796202663756749,
          0.07779045872360635,
          0.45828456864812617
         ],
         "xaxis": "x10",
         "y": [
          -0.959747881609686,
          1.0367821198208023,
          1.1793643986088211,
          -1.1847910685272307,
          -0.8084386447856533,
          0.17988019416163548,
          0.3980228918066277,
          -1.08082996218518,
          -0.5666268107303905,
          -0.3844724301983165,
          -0.25922695615111,
          -0.19240029331781172,
          -0.9262680677710405,
          1.5202632748089229,
          -0.5488602253956538,
          1.5444815479525467,
          -1.02807514380886,
          -1.3369806920411973,
          -1.2355219454915394,
          -0.3650483311232349,
          -1.0378418608531532,
          -0.33723343966111063,
          0.612532028665151,
          2.264398042000688,
          1.5526885092866494,
          -1.041815130520541,
          -1.4449717477082784,
          -0.6765598716890142,
          -0.1188794303229958,
          -0.2296694432837657,
          -0.10692238325046478,
          -1.4796792755911248,
          0.046884110499893085,
          -0.6400552792075027,
          -1.6148675005152104,
          -0.8181027964469965,
          -0.23619986103989418,
          -1.3309197760816576,
          -1.346254717197355,
          0.715404419869758,
          0.9801234758543126,
          -0.9296905800722829,
          0.4679481363201032,
          -1.1818051412191242,
          0.9154701140210872,
          1.3932319048211754,
          0.5444851638530489,
          1.4537859430819797,
          0.24489743804102446,
          0.19791287590021447,
          -0.6698998391357807,
          -1.3978800295772889,
          0.3794789816172494,
          -1.2597528308744037,
          0.7911117770587406,
          0.8860111458984627,
          1.100997847227812,
          1.2227346621855006,
          0.23813988698570066,
          0.7369555603898272,
          0.12729412239022272,
          0.4941300636382026,
          0.3001154465893416,
          -0.8522656780053931,
          -1.2428088551637078,
          -0.4331463496663254,
          0.16852650488740917,
          -0.6155703411818955,
          -0.7470558852677666,
          -0.17081111977622232,
          -1.0108532874031082,
          0.30111657698245825,
          -1.4004351460905673,
          -0.617479520524966,
          1.096583802392027,
          0.38027555293067633,
          -2.4770444913214926,
          0.5124599056022963,
          -0.7864323172889783,
          -2.012404930830048,
          -0.5239455987265228,
          0.28855396935654365,
          -2.180575119874746,
          0.22409243129740206,
          1.6110071750508808,
          -0.1732752241703584,
          1.2478975671405141,
          -0.048669124542163676,
          -1.0065265236213345,
          0.3888443659165873,
          -0.27466355453413027,
          -0.5211709616199443,
          -2.213711402445004,
          1.6586733594573306,
          -0.22848418615931423,
          0.057267395731893815,
          0.3821345869931526,
          2.2275703180856756,
          0.2072166861025222,
          0.12301242491396328
         ],
         "yaxis": "y10"
        },
        {
         "histfunc": "count",
         "histnorm": "",
         "marker": {
          "color": "rgba(50, 171, 96, 1.0)",
          "line": {
           "color": "#4D5663",
           "width": 1.3
          }
         },
         "name": "C",
         "nbinsx": 10,
         "opacity": 0.8,
         "orientation": "v",
         "type": "histogram",
         "x": [
          -0.959747881609686,
          1.0367821198208023,
          1.1793643986088211,
          -1.1847910685272307,
          -0.8084386447856533,
          0.17988019416163548,
          0.3980228918066277,
          -1.08082996218518,
          -0.5666268107303905,
          -0.3844724301983165,
          -0.25922695615111,
          -0.19240029331781172,
          -0.9262680677710405,
          1.5202632748089229,
          -0.5488602253956538,
          1.5444815479525467,
          -1.02807514380886,
          -1.3369806920411973,
          -1.2355219454915394,
          -0.3650483311232349,
          -1.0378418608531532,
          -0.33723343966111063,
          0.612532028665151,
          2.264398042000688,
          1.5526885092866494,
          -1.041815130520541,
          -1.4449717477082784,
          -0.6765598716890142,
          -0.1188794303229958,
          -0.2296694432837657,
          -0.10692238325046478,
          -1.4796792755911248,
          0.046884110499893085,
          -0.6400552792075027,
          -1.6148675005152104,
          -0.8181027964469965,
          -0.23619986103989418,
          -1.3309197760816576,
          -1.346254717197355,
          0.715404419869758,
          0.9801234758543126,
          -0.9296905800722829,
          0.4679481363201032,
          -1.1818051412191242,
          0.9154701140210872,
          1.3932319048211754,
          0.5444851638530489,
          1.4537859430819797,
          0.24489743804102446,
          0.19791287590021447,
          -0.6698998391357807,
          -1.3978800295772889,
          0.3794789816172494,
          -1.2597528308744037,
          0.7911117770587406,
          0.8860111458984627,
          1.100997847227812,
          1.2227346621855006,
          0.23813988698570066,
          0.7369555603898272,
          0.12729412239022272,
          0.4941300636382026,
          0.3001154465893416,
          -0.8522656780053931,
          -1.2428088551637078,
          -0.4331463496663254,
          0.16852650488740917,
          -0.6155703411818955,
          -0.7470558852677666,
          -0.17081111977622232,
          -1.0108532874031082,
          0.30111657698245825,
          -1.4004351460905673,
          -0.617479520524966,
          1.096583802392027,
          0.38027555293067633,
          -2.4770444913214926,
          0.5124599056022963,
          -0.7864323172889783,
          -2.012404930830048,
          -0.5239455987265228,
          0.28855396935654365,
          -2.180575119874746,
          0.22409243129740206,
          1.6110071750508808,
          -0.1732752241703584,
          1.2478975671405141,
          -0.048669124542163676,
          -1.0065265236213345,
          0.3888443659165873,
          -0.27466355453413027,
          -0.5211709616199443,
          -2.213711402445004,
          1.6586733594573306,
          -0.22848418615931423,
          0.057267395731893815,
          0.3821345869931526,
          2.2275703180856756,
          0.2072166861025222,
          0.12301242491396328
         ],
         "xaxis": "x11",
         "yaxis": "y11"
        },
        {
         "line": {
          "color": "rgba(128, 128, 128, 1.0)",
          "dash": "solid",
          "shape": "linear",
          "width": 1.3
         },
         "marker": {
          "size": 2,
          "symbol": "circle"
         },
         "mode": "markers",
         "name": "C",
         "text": "",
         "type": "scatter",
         "x": [
          -0.3775237105476041,
          1.5469330558820853,
          0.7975837377689529,
          -1.0215237358858384,
          0.046174419806248125,
          -0.4546700022403752,
          -0.976645584975092,
          0.45717773411839563,
          -1.3606088988003922,
          -1.764923821143453,
          1.3491715340900854,
          1.0404434348743121,
          2.231620580687955,
          -0.9592701447679857,
          0.02481391863717533,
          1.1543392090813562,
          -0.5448617030321711,
          0.981060386509627,
          -1.3971884449374945,
          0.051944384918920075,
          0.5191578103580838,
          -0.2079011438790017,
          2.4598800535048064,
          -0.3064029027419856,
          1.7368796898541534,
          2.0259377554560363,
          0.05077977396190428,
          2.3636997814467824,
          -0.9001904283819676,
          -0.4615461008048252,
          1.580150496138963,
          -1.4459977513748663,
          0.7849704949260711,
          0.9370021432027721,
          -1.0438536510350638,
          1.0642048533773578,
          -0.5047233858253104,
          -1.2985658864810619,
          -0.9347355102775656,
          -1.7435021361118295,
          0.6540645036517425,
          -0.5406342471593872,
          0.8175495870482,
          -0.28795761265237857,
          -0.6040342612099427,
          -0.000273981036672952,
          -0.03040250123411199,
          -1.3474981929133365,
          1.326316641128734,
          -1.4048711185810525,
          0.3496708975244264,
          1.175758589037626,
          0.5407612368541103,
          -1.5947823321895451,
          -0.2814276918443059,
          -0.4266535186520008,
          -0.11651375400559504,
          0.7395628814325849,
          -0.21127926389675677,
          -1.6285256466392641,
          2.715790717037815,
          -0.4381836055540097,
          -0.7167752813344342,
          1.6344080173541937,
          1.092247657456989,
          1.1918526512537928,
          1.4797193451776989,
          -0.042073357485148864,
          1.4353536465377565,
          0.566212208762207,
          -1.0469684943619808,
          1.2965361364755423,
          -0.7693246295679306,
          1.4043778339323014,
          -0.022019816215365234,
          -0.2565755827695688,
          -0.9516114323200353,
          0.4100799957427423,
          0.27899071689190635,
          -0.643630880672682,
          1.3788949433245734,
          1.7421489253733558,
          0.47087130008510547,
          0.1086939483089091,
          -0.796358241377402,
          0.43141768585008794,
          0.4935046381639671,
          2.2923780110911194,
          0.4553633293911215,
          1.2470448067482276,
          0.5680883081761456,
          -0.17640134522893047,
          0.6490268225007355,
          -0.844411924817917,
          -1.556331856145653,
          -0.6893983779063737,
          -0.9099102769233144,
          -1.0202975535224497,
          -0.8373455223524954,
          -0.0428262147603727
         ],
         "xaxis": "x12",
         "y": [
          -0.959747881609686,
          1.0367821198208023,
          1.1793643986088211,
          -1.1847910685272307,
          -0.8084386447856533,
          0.17988019416163548,
          0.3980228918066277,
          -1.08082996218518,
          -0.5666268107303905,
          -0.3844724301983165,
          -0.25922695615111,
          -0.19240029331781172,
          -0.9262680677710405,
          1.5202632748089229,
          -0.5488602253956538,
          1.5444815479525467,
          -1.02807514380886,
          -1.3369806920411973,
          -1.2355219454915394,
          -0.3650483311232349,
          -1.0378418608531532,
          -0.33723343966111063,
          0.612532028665151,
          2.264398042000688,
          1.5526885092866494,
          -1.041815130520541,
          -1.4449717477082784,
          -0.6765598716890142,
          -0.1188794303229958,
          -0.2296694432837657,
          -0.10692238325046478,
          -1.4796792755911248,
          0.046884110499893085,
          -0.6400552792075027,
          -1.6148675005152104,
          -0.8181027964469965,
          -0.23619986103989418,
          -1.3309197760816576,
          -1.346254717197355,
          0.715404419869758,
          0.9801234758543126,
          -0.9296905800722829,
          0.4679481363201032,
          -1.1818051412191242,
          0.9154701140210872,
          1.3932319048211754,
          0.5444851638530489,
          1.4537859430819797,
          0.24489743804102446,
          0.19791287590021447,
          -0.6698998391357807,
          -1.3978800295772889,
          0.3794789816172494,
          -1.2597528308744037,
          0.7911117770587406,
          0.8860111458984627,
          1.100997847227812,
          1.2227346621855006,
          0.23813988698570066,
          0.7369555603898272,
          0.12729412239022272,
          0.4941300636382026,
          0.3001154465893416,
          -0.8522656780053931,
          -1.2428088551637078,
          -0.4331463496663254,
          0.16852650488740917,
          -0.6155703411818955,
          -0.7470558852677666,
          -0.17081111977622232,
          -1.0108532874031082,
          0.30111657698245825,
          -1.4004351460905673,
          -0.617479520524966,
          1.096583802392027,
          0.38027555293067633,
          -2.4770444913214926,
          0.5124599056022963,
          -0.7864323172889783,
          -2.012404930830048,
          -0.5239455987265228,
          0.28855396935654365,
          -2.180575119874746,
          0.22409243129740206,
          1.6110071750508808,
          -0.1732752241703584,
          1.2478975671405141,
          -0.048669124542163676,
          -1.0065265236213345,
          0.3888443659165873,
          -0.27466355453413027,
          -0.5211709616199443,
          -2.213711402445004,
          1.6586733594573306,
          -0.22848418615931423,
          0.057267395731893815,
          0.3821345869931526,
          2.2275703180856756,
          0.2072166861025222,
          0.12301242491396328
         ],
         "yaxis": "y12"
        },
        {
         "line": {
          "color": "rgba(128, 128, 128, 1.0)",
          "dash": "solid",
          "shape": "linear",
          "width": 1.3
         },
         "marker": {
          "size": 2,
          "symbol": "circle"
         },
         "mode": "markers",
         "name": "D",
         "text": "",
         "type": "scatter",
         "x": [
          0.406730039480157,
          -0.39228221499578964,
          0.7584886923840094,
          -0.9440396101168271,
          -0.727462876129729,
          0.4839174053257021,
          0.3627206584336743,
          1.168876137696794,
          1.2510313986768908,
          -0.8539452754949033,
          0.055427781643683255,
          -0.6784544917630049,
          0.8326820808182758,
          0.28424683461318606,
          -0.14757676900957287,
          0.11439817628276706,
          -0.18475712704423441,
          0.0038164459887509153,
          0.34990494510895703,
          -0.4378365112671588,
          -0.319660271111292,
          -0.3137996100294566,
          0.7818668395960702,
          1.233186915064355,
          -0.6435088591199211,
          -0.7662361903303532,
          0.6315312339735785,
          -1.5985204957973767,
          -1.8108208438232374,
          2.851513981870026,
          -0.0364816577569318,
          -0.07999396186412067,
          -1.4714556943251862,
          -0.47159853321598855,
          -1.4583382229612358,
          0.5500685036145431,
          -0.5124116539500457,
          -0.4612840603123584,
          1.2075325846345708,
          0.27937512403424236,
          0.4729467860759181,
          0.694237909442264,
          -0.22313437477461176,
          -2.1673385397595584,
          1.3640671084533982,
          1.4328639494199835,
          -1.3186427873817268,
          -1.0994996582162526,
          -0.41552140832138207,
          -1.1080560081519106,
          0.2813001247748424,
          -0.7580111392673803,
          -0.7788585603184489,
          1.2751150122692931,
          2.00579679912336,
          0.47791604052873227,
          0.12635847592401317,
          0.4544312374061017,
          -0.701182543768695,
          -0.31650116074208257,
          1.40877730233643,
          -0.30667471652084766,
          0.8587407419478714,
          1.9907280644550456,
          -0.34251402756783583,
          0.8082078562811572,
          0.15996260259357092,
          0.004165864484431415,
          1.226249713622541,
          1.448104818376337,
          -0.571107037470229,
          1.0776789911239473,
          -0.1018710678062574,
          1.1137520194408075,
          0.305546217332669,
          -0.43272160683972544,
          0.5002141172314987,
          1.384830376450365,
          1.3439169146885883,
          -0.801316865757186,
          0.6946582118008514,
          1.1900960545880286,
          0.15796941300637093,
          1.1856772524598995,
          -1.3348503021181104,
          0.26021804126709724,
          0.7641069566280589,
          0.5619839963840547,
          0.9919306452669481,
          -0.42193016475058465,
          1.6278652681325925,
          0.040967833820687465,
          0.4341660540644965,
          1.2258119652660264,
          0.16250938553896713,
          0.7601085688053791,
          -0.9805826865572652,
          2.3002686917555693,
          1.301006005581953,
          1.754526468354843
         ],
         "xaxis": "x13",
         "y": [
          -0.3775237105476041,
          1.5469330558820853,
          0.7975837377689529,
          -1.0215237358858384,
          0.046174419806248125,
          -0.4546700022403752,
          -0.976645584975092,
          0.45717773411839563,
          -1.3606088988003922,
          -1.764923821143453,
          1.3491715340900854,
          1.0404434348743121,
          2.231620580687955,
          -0.9592701447679857,
          0.02481391863717533,
          1.1543392090813562,
          -0.5448617030321711,
          0.981060386509627,
          -1.3971884449374945,
          0.051944384918920075,
          0.5191578103580838,
          -0.2079011438790017,
          2.4598800535048064,
          -0.3064029027419856,
          1.7368796898541534,
          2.0259377554560363,
          0.05077977396190428,
          2.3636997814467824,
          -0.9001904283819676,
          -0.4615461008048252,
          1.580150496138963,
          -1.4459977513748663,
          0.7849704949260711,
          0.9370021432027721,
          -1.0438536510350638,
          1.0642048533773578,
          -0.5047233858253104,
          -1.2985658864810619,
          -0.9347355102775656,
          -1.7435021361118295,
          0.6540645036517425,
          -0.5406342471593872,
          0.8175495870482,
          -0.28795761265237857,
          -0.6040342612099427,
          -0.000273981036672952,
          -0.03040250123411199,
          -1.3474981929133365,
          1.326316641128734,
          -1.4048711185810525,
          0.3496708975244264,
          1.175758589037626,
          0.5407612368541103,
          -1.5947823321895451,
          -0.2814276918443059,
          -0.4266535186520008,
          -0.11651375400559504,
          0.7395628814325849,
          -0.21127926389675677,
          -1.6285256466392641,
          2.715790717037815,
          -0.4381836055540097,
          -0.7167752813344342,
          1.6344080173541937,
          1.092247657456989,
          1.1918526512537928,
          1.4797193451776989,
          -0.042073357485148864,
          1.4353536465377565,
          0.566212208762207,
          -1.0469684943619808,
          1.2965361364755423,
          -0.7693246295679306,
          1.4043778339323014,
          -0.022019816215365234,
          -0.2565755827695688,
          -0.9516114323200353,
          0.4100799957427423,
          0.27899071689190635,
          -0.643630880672682,
          1.3788949433245734,
          1.7421489253733558,
          0.47087130008510547,
          0.1086939483089091,
          -0.796358241377402,
          0.43141768585008794,
          0.4935046381639671,
          2.2923780110911194,
          0.4553633293911215,
          1.2470448067482276,
          0.5680883081761456,
          -0.17640134522893047,
          0.6490268225007355,
          -0.844411924817917,
          -1.556331856145653,
          -0.6893983779063737,
          -0.9099102769233144,
          -1.0202975535224497,
          -0.8373455223524954,
          -0.0428262147603727
         ],
         "yaxis": "y13"
        },
        {
         "line": {
          "color": "rgba(128, 128, 128, 1.0)",
          "dash": "solid",
          "shape": "linear",
          "width": 1.3
         },
         "marker": {
          "size": 2,
          "symbol": "circle"
         },
         "mode": "markers",
         "name": "D",
         "text": "",
         "type": "scatter",
         "x": [
          1.097376166904293,
          1.8642792306676408,
          1.2461137578017065,
          1.477672212271986,
          -0.6321980447209725,
          -0.701592290165167,
          -1.9910127251039769,
          -0.16971343962788965,
          1.541150001898701,
          -1.6226902596728239,
          -0.19448210077836395,
          -0.47549319984974325,
          0.7803436367159594,
          2.08048633199042,
          -0.8719472680505037,
          -0.37442017918715675,
          -0.4891452026651608,
          -0.5970083414206725,
          -0.16973314267358802,
          0.06428229010088789,
          0.4494812462908728,
          -0.07193734454633495,
          0.9309418106438704,
          -0.9753354844829426,
          -0.22601455757081423,
          0.18748715389366605,
          -0.1312877215837846,
          0.2381938795614643,
          -1.7590016804188497,
          0.6731156410468611,
          -0.7597413854750319,
          -0.8841013551192329,
          0.3929846598823091,
          0.11017410931895902,
          0.18683594785406676,
          -0.2029225971205222,
          -1.0052515203199146,
          -0.8693936292685707,
          -0.5374583078325221,
          0.5430544806259738,
          -1.3965788668301606,
          -1.1651248251003146,
          -0.8524306919840188,
          1.128249186662589,
          0.6442598329163325,
          1.0213495698127613,
          -0.23049466510995706,
          0.07953191198925529,
          -1.4659932409105514,
          1.2955320882347134,
          -0.8377201170388314,
          -0.4065340844831503,
          -1.5343531136588566,
          0.5484422875986819,
          0.09010716670491731,
          -2.249789437139244,
          -0.4964833178001253,
          0.9236763626726683,
          0.8452213396049112,
          -1.2927235441395513,
          1.7141323156631694,
          2.0912246513019284,
          0.25670750122387975,
          -1.1156603606229654,
          1.9235857811875827,
          -0.8710707446693985,
          1.3740453390524754,
          -0.35252170079482553,
          0.3105335666082955,
          -0.8699675452643268,
          -1.5648524283832677,
          0.5259596252560428,
          -0.11867843751372183,
          -0.4825495127875421,
          0.47010600603079233,
          0.6759767650864442,
          -0.1813265244137657,
          0.23745839470300278,
          1.9769665072823797,
          0.5902013388082753,
          1.710003116764618,
          0.03506191983633523,
          0.36609790401099235,
          -0.44103957812685,
          0.014828666517463394,
          0.21150895973385886,
          1.5565405830025982,
          2.401094575846921,
          -0.28780392140728167,
          -1.93983090406157,
          0.4842455485607953,
          1.0815228442886557,
          -0.36042455727396383,
          -0.6162822329956089,
          0.7698723634388819,
          -0.26264604843217976,
          -0.5313630021704862,
          -0.9796202663756749,
          0.07779045872360635,
          0.45828456864812617
         ],
         "xaxis": "x14",
         "y": [
          -0.3775237105476041,
          1.5469330558820853,
          0.7975837377689529,
          -1.0215237358858384,
          0.046174419806248125,
          -0.4546700022403752,
          -0.976645584975092,
          0.45717773411839563,
          -1.3606088988003922,
          -1.764923821143453,
          1.3491715340900854,
          1.0404434348743121,
          2.231620580687955,
          -0.9592701447679857,
          0.02481391863717533,
          1.1543392090813562,
          -0.5448617030321711,
          0.981060386509627,
          -1.3971884449374945,
          0.051944384918920075,
          0.5191578103580838,
          -0.2079011438790017,
          2.4598800535048064,
          -0.3064029027419856,
          1.7368796898541534,
          2.0259377554560363,
          0.05077977396190428,
          2.3636997814467824,
          -0.9001904283819676,
          -0.4615461008048252,
          1.580150496138963,
          -1.4459977513748663,
          0.7849704949260711,
          0.9370021432027721,
          -1.0438536510350638,
          1.0642048533773578,
          -0.5047233858253104,
          -1.2985658864810619,
          -0.9347355102775656,
          -1.7435021361118295,
          0.6540645036517425,
          -0.5406342471593872,
          0.8175495870482,
          -0.28795761265237857,
          -0.6040342612099427,
          -0.000273981036672952,
          -0.03040250123411199,
          -1.3474981929133365,
          1.326316641128734,
          -1.4048711185810525,
          0.3496708975244264,
          1.175758589037626,
          0.5407612368541103,
          -1.5947823321895451,
          -0.2814276918443059,
          -0.4266535186520008,
          -0.11651375400559504,
          0.7395628814325849,
          -0.21127926389675677,
          -1.6285256466392641,
          2.715790717037815,
          -0.4381836055540097,
          -0.7167752813344342,
          1.6344080173541937,
          1.092247657456989,
          1.1918526512537928,
          1.4797193451776989,
          -0.042073357485148864,
          1.4353536465377565,
          0.566212208762207,
          -1.0469684943619808,
          1.2965361364755423,
          -0.7693246295679306,
          1.4043778339323014,
          -0.022019816215365234,
          -0.2565755827695688,
          -0.9516114323200353,
          0.4100799957427423,
          0.27899071689190635,
          -0.643630880672682,
          1.3788949433245734,
          1.7421489253733558,
          0.47087130008510547,
          0.1086939483089091,
          -0.796358241377402,
          0.43141768585008794,
          0.4935046381639671,
          2.2923780110911194,
          0.4553633293911215,
          1.2470448067482276,
          0.5680883081761456,
          -0.17640134522893047,
          0.6490268225007355,
          -0.844411924817917,
          -1.556331856145653,
          -0.6893983779063737,
          -0.9099102769233144,
          -1.0202975535224497,
          -0.8373455223524954,
          -0.0428262147603727
         ],
         "yaxis": "y14"
        },
        {
         "line": {
          "color": "rgba(128, 128, 128, 1.0)",
          "dash": "solid",
          "shape": "linear",
          "width": 1.3
         },
         "marker": {
          "size": 2,
          "symbol": "circle"
         },
         "mode": "markers",
         "name": "D",
         "text": "",
         "type": "scatter",
         "x": [
          -0.959747881609686,
          1.0367821198208023,
          1.1793643986088211,
          -1.1847910685272307,
          -0.8084386447856533,
          0.17988019416163548,
          0.3980228918066277,
          -1.08082996218518,
          -0.5666268107303905,
          -0.3844724301983165,
          -0.25922695615111,
          -0.19240029331781172,
          -0.9262680677710405,
          1.5202632748089229,
          -0.5488602253956538,
          1.5444815479525467,
          -1.02807514380886,
          -1.3369806920411973,
          -1.2355219454915394,
          -0.3650483311232349,
          -1.0378418608531532,
          -0.33723343966111063,
          0.612532028665151,
          2.264398042000688,
          1.5526885092866494,
          -1.041815130520541,
          -1.4449717477082784,
          -0.6765598716890142,
          -0.1188794303229958,
          -0.2296694432837657,
          -0.10692238325046478,
          -1.4796792755911248,
          0.046884110499893085,
          -0.6400552792075027,
          -1.6148675005152104,
          -0.8181027964469965,
          -0.23619986103989418,
          -1.3309197760816576,
          -1.346254717197355,
          0.715404419869758,
          0.9801234758543126,
          -0.9296905800722829,
          0.4679481363201032,
          -1.1818051412191242,
          0.9154701140210872,
          1.3932319048211754,
          0.5444851638530489,
          1.4537859430819797,
          0.24489743804102446,
          0.19791287590021447,
          -0.6698998391357807,
          -1.3978800295772889,
          0.3794789816172494,
          -1.2597528308744037,
          0.7911117770587406,
          0.8860111458984627,
          1.100997847227812,
          1.2227346621855006,
          0.23813988698570066,
          0.7369555603898272,
          0.12729412239022272,
          0.4941300636382026,
          0.3001154465893416,
          -0.8522656780053931,
          -1.2428088551637078,
          -0.4331463496663254,
          0.16852650488740917,
          -0.6155703411818955,
          -0.7470558852677666,
          -0.17081111977622232,
          -1.0108532874031082,
          0.30111657698245825,
          -1.4004351460905673,
          -0.617479520524966,
          1.096583802392027,
          0.38027555293067633,
          -2.4770444913214926,
          0.5124599056022963,
          -0.7864323172889783,
          -2.012404930830048,
          -0.5239455987265228,
          0.28855396935654365,
          -2.180575119874746,
          0.22409243129740206,
          1.6110071750508808,
          -0.1732752241703584,
          1.2478975671405141,
          -0.048669124542163676,
          -1.0065265236213345,
          0.3888443659165873,
          -0.27466355453413027,
          -0.5211709616199443,
          -2.213711402445004,
          1.6586733594573306,
          -0.22848418615931423,
          0.057267395731893815,
          0.3821345869931526,
          2.2275703180856756,
          0.2072166861025222,
          0.12301242491396328
         ],
         "xaxis": "x15",
         "y": [
          -0.3775237105476041,
          1.5469330558820853,
          0.7975837377689529,
          -1.0215237358858384,
          0.046174419806248125,
          -0.4546700022403752,
          -0.976645584975092,
          0.45717773411839563,
          -1.3606088988003922,
          -1.764923821143453,
          1.3491715340900854,
          1.0404434348743121,
          2.231620580687955,
          -0.9592701447679857,
          0.02481391863717533,
          1.1543392090813562,
          -0.5448617030321711,
          0.981060386509627,
          -1.3971884449374945,
          0.051944384918920075,
          0.5191578103580838,
          -0.2079011438790017,
          2.4598800535048064,
          -0.3064029027419856,
          1.7368796898541534,
          2.0259377554560363,
          0.05077977396190428,
          2.3636997814467824,
          -0.9001904283819676,
          -0.4615461008048252,
          1.580150496138963,
          -1.4459977513748663,
          0.7849704949260711,
          0.9370021432027721,
          -1.0438536510350638,
          1.0642048533773578,
          -0.5047233858253104,
          -1.2985658864810619,
          -0.9347355102775656,
          -1.7435021361118295,
          0.6540645036517425,
          -0.5406342471593872,
          0.8175495870482,
          -0.28795761265237857,
          -0.6040342612099427,
          -0.000273981036672952,
          -0.03040250123411199,
          -1.3474981929133365,
          1.326316641128734,
          -1.4048711185810525,
          0.3496708975244264,
          1.175758589037626,
          0.5407612368541103,
          -1.5947823321895451,
          -0.2814276918443059,
          -0.4266535186520008,
          -0.11651375400559504,
          0.7395628814325849,
          -0.21127926389675677,
          -1.6285256466392641,
          2.715790717037815,
          -0.4381836055540097,
          -0.7167752813344342,
          1.6344080173541937,
          1.092247657456989,
          1.1918526512537928,
          1.4797193451776989,
          -0.042073357485148864,
          1.4353536465377565,
          0.566212208762207,
          -1.0469684943619808,
          1.2965361364755423,
          -0.7693246295679306,
          1.4043778339323014,
          -0.022019816215365234,
          -0.2565755827695688,
          -0.9516114323200353,
          0.4100799957427423,
          0.27899071689190635,
          -0.643630880672682,
          1.3788949433245734,
          1.7421489253733558,
          0.47087130008510547,
          0.1086939483089091,
          -0.796358241377402,
          0.43141768585008794,
          0.4935046381639671,
          2.2923780110911194,
          0.4553633293911215,
          1.2470448067482276,
          0.5680883081761456,
          -0.17640134522893047,
          0.6490268225007355,
          -0.844411924817917,
          -1.556331856145653,
          -0.6893983779063737,
          -0.9099102769233144,
          -1.0202975535224497,
          -0.8373455223524954,
          -0.0428262147603727
         ],
         "yaxis": "y15"
        },
        {
         "histfunc": "count",
         "histnorm": "",
         "marker": {
          "color": "rgba(128, 0, 128, 1.0)",
          "line": {
           "color": "#4D5663",
           "width": 1.3
          }
         },
         "name": "D",
         "nbinsx": 10,
         "opacity": 0.8,
         "orientation": "v",
         "type": "histogram",
         "x": [
          -0.3775237105476041,
          1.5469330558820853,
          0.7975837377689529,
          -1.0215237358858384,
          0.046174419806248125,
          -0.4546700022403752,
          -0.976645584975092,
          0.45717773411839563,
          -1.3606088988003922,
          -1.764923821143453,
          1.3491715340900854,
          1.0404434348743121,
          2.231620580687955,
          -0.9592701447679857,
          0.02481391863717533,
          1.1543392090813562,
          -0.5448617030321711,
          0.981060386509627,
          -1.3971884449374945,
          0.051944384918920075,
          0.5191578103580838,
          -0.2079011438790017,
          2.4598800535048064,
          -0.3064029027419856,
          1.7368796898541534,
          2.0259377554560363,
          0.05077977396190428,
          2.3636997814467824,
          -0.9001904283819676,
          -0.4615461008048252,
          1.580150496138963,
          -1.4459977513748663,
          0.7849704949260711,
          0.9370021432027721,
          -1.0438536510350638,
          1.0642048533773578,
          -0.5047233858253104,
          -1.2985658864810619,
          -0.9347355102775656,
          -1.7435021361118295,
          0.6540645036517425,
          -0.5406342471593872,
          0.8175495870482,
          -0.28795761265237857,
          -0.6040342612099427,
          -0.000273981036672952,
          -0.03040250123411199,
          -1.3474981929133365,
          1.326316641128734,
          -1.4048711185810525,
          0.3496708975244264,
          1.175758589037626,
          0.5407612368541103,
          -1.5947823321895451,
          -0.2814276918443059,
          -0.4266535186520008,
          -0.11651375400559504,
          0.7395628814325849,
          -0.21127926389675677,
          -1.6285256466392641,
          2.715790717037815,
          -0.4381836055540097,
          -0.7167752813344342,
          1.6344080173541937,
          1.092247657456989,
          1.1918526512537928,
          1.4797193451776989,
          -0.042073357485148864,
          1.4353536465377565,
          0.566212208762207,
          -1.0469684943619808,
          1.2965361364755423,
          -0.7693246295679306,
          1.4043778339323014,
          -0.022019816215365234,
          -0.2565755827695688,
          -0.9516114323200353,
          0.4100799957427423,
          0.27899071689190635,
          -0.643630880672682,
          1.3788949433245734,
          1.7421489253733558,
          0.47087130008510547,
          0.1086939483089091,
          -0.796358241377402,
          0.43141768585008794,
          0.4935046381639671,
          2.2923780110911194,
          0.4553633293911215,
          1.2470448067482276,
          0.5680883081761456,
          -0.17640134522893047,
          0.6490268225007355,
          -0.844411924817917,
          -1.556331856145653,
          -0.6893983779063737,
          -0.9099102769233144,
          -1.0202975535224497,
          -0.8373455223524954,
          -0.0428262147603727
         ],
         "xaxis": "x16",
         "yaxis": "y16"
        }
       ],
       "layout": {
        "bargap": 0.02,
        "legend": {
         "bgcolor": "#F5F6F9",
         "font": {
          "color": "#4D5663"
         }
        },
        "paper_bgcolor": "#F5F6F9",
        "plot_bgcolor": "#F5F6F9",
        "showlegend": false,
        "template": {
         "data": {
          "bar": [
           {
            "error_x": {
             "color": "#2a3f5f"
            },
            "error_y": {
             "color": "#2a3f5f"
            },
            "marker": {
             "line": {
              "color": "#E5ECF6",
              "width": 0.5
             },
             "pattern": {
              "fillmode": "overlay",
              "size": 10,
              "solidity": 0.2
             }
            },
            "type": "bar"
           }
          ],
          "barpolar": [
           {
            "marker": {
             "line": {
              "color": "#E5ECF6",
              "width": 0.5
             },
             "pattern": {
              "fillmode": "overlay",
              "size": 10,
              "solidity": 0.2
             }
            },
            "type": "barpolar"
           }
          ],
          "carpet": [
           {
            "aaxis": {
             "endlinecolor": "#2a3f5f",
             "gridcolor": "white",
             "linecolor": "white",
             "minorgridcolor": "white",
             "startlinecolor": "#2a3f5f"
            },
            "baxis": {
             "endlinecolor": "#2a3f5f",
             "gridcolor": "white",
             "linecolor": "white",
             "minorgridcolor": "white",
             "startlinecolor": "#2a3f5f"
            },
            "type": "carpet"
           }
          ],
          "choropleth": [
           {
            "colorbar": {
             "outlinewidth": 0,
             "ticks": ""
            },
            "type": "choropleth"
           }
          ],
          "contour": [
           {
            "colorbar": {
             "outlinewidth": 0,
             "ticks": ""
            },
            "colorscale": [
             [
              0,
              "#0d0887"
             ],
             [
              0.1111111111111111,
              "#46039f"
             ],
             [
              0.2222222222222222,
              "#7201a8"
             ],
             [
              0.3333333333333333,
              "#9c179e"
             ],
             [
              0.4444444444444444,
              "#bd3786"
             ],
             [
              0.5555555555555556,
              "#d8576b"
             ],
             [
              0.6666666666666666,
              "#ed7953"
             ],
             [
              0.7777777777777778,
              "#fb9f3a"
             ],
             [
              0.8888888888888888,
              "#fdca26"
             ],
             [
              1,
              "#f0f921"
             ]
            ],
            "type": "contour"
           }
          ],
          "contourcarpet": [
           {
            "colorbar": {
             "outlinewidth": 0,
             "ticks": ""
            },
            "type": "contourcarpet"
           }
          ],
          "heatmap": [
           {
            "colorbar": {
             "outlinewidth": 0,
             "ticks": ""
            },
            "colorscale": [
             [
              0,
              "#0d0887"
             ],
             [
              0.1111111111111111,
              "#46039f"
             ],
             [
              0.2222222222222222,
              "#7201a8"
             ],
             [
              0.3333333333333333,
              "#9c179e"
             ],
             [
              0.4444444444444444,
              "#bd3786"
             ],
             [
              0.5555555555555556,
              "#d8576b"
             ],
             [
              0.6666666666666666,
              "#ed7953"
             ],
             [
              0.7777777777777778,
              "#fb9f3a"
             ],
             [
              0.8888888888888888,
              "#fdca26"
             ],
             [
              1,
              "#f0f921"
             ]
            ],
            "type": "heatmap"
           }
          ],
          "heatmapgl": [
           {
            "colorbar": {
             "outlinewidth": 0,
             "ticks": ""
            },
            "colorscale": [
             [
              0,
              "#0d0887"
             ],
             [
              0.1111111111111111,
              "#46039f"
             ],
             [
              0.2222222222222222,
              "#7201a8"
             ],
             [
              0.3333333333333333,
              "#9c179e"
             ],
             [
              0.4444444444444444,
              "#bd3786"
             ],
             [
              0.5555555555555556,
              "#d8576b"
             ],
             [
              0.6666666666666666,
              "#ed7953"
             ],
             [
              0.7777777777777778,
              "#fb9f3a"
             ],
             [
              0.8888888888888888,
              "#fdca26"
             ],
             [
              1,
              "#f0f921"
             ]
            ],
            "type": "heatmapgl"
           }
          ],
          "histogram": [
           {
            "marker": {
             "pattern": {
              "fillmode": "overlay",
              "size": 10,
              "solidity": 0.2
             }
            },
            "type": "histogram"
           }
          ],
          "histogram2d": [
           {
            "colorbar": {
             "outlinewidth": 0,
             "ticks": ""
            },
            "colorscale": [
             [
              0,
              "#0d0887"
             ],
             [
              0.1111111111111111,
              "#46039f"
             ],
             [
              0.2222222222222222,
              "#7201a8"
             ],
             [
              0.3333333333333333,
              "#9c179e"
             ],
             [
              0.4444444444444444,
              "#bd3786"
             ],
             [
              0.5555555555555556,
              "#d8576b"
             ],
             [
              0.6666666666666666,
              "#ed7953"
             ],
             [
              0.7777777777777778,
              "#fb9f3a"
             ],
             [
              0.8888888888888888,
              "#fdca26"
             ],
             [
              1,
              "#f0f921"
             ]
            ],
            "type": "histogram2d"
           }
          ],
          "histogram2dcontour": [
           {
            "colorbar": {
             "outlinewidth": 0,
             "ticks": ""
            },
            "colorscale": [
             [
              0,
              "#0d0887"
             ],
             [
              0.1111111111111111,
              "#46039f"
             ],
             [
              0.2222222222222222,
              "#7201a8"
             ],
             [
              0.3333333333333333,
              "#9c179e"
             ],
             [
              0.4444444444444444,
              "#bd3786"
             ],
             [
              0.5555555555555556,
              "#d8576b"
             ],
             [
              0.6666666666666666,
              "#ed7953"
             ],
             [
              0.7777777777777778,
              "#fb9f3a"
             ],
             [
              0.8888888888888888,
              "#fdca26"
             ],
             [
              1,
              "#f0f921"
             ]
            ],
            "type": "histogram2dcontour"
           }
          ],
          "mesh3d": [
           {
            "colorbar": {
             "outlinewidth": 0,
             "ticks": ""
            },
            "type": "mesh3d"
           }
          ],
          "parcoords": [
           {
            "line": {
             "colorbar": {
              "outlinewidth": 0,
              "ticks": ""
             }
            },
            "type": "parcoords"
           }
          ],
          "pie": [
           {
            "automargin": true,
            "type": "pie"
           }
          ],
          "scatter": [
           {
            "fillpattern": {
             "fillmode": "overlay",
             "size": 10,
             "solidity": 0.2
            },
            "type": "scatter"
           }
          ],
          "scatter3d": [
           {
            "line": {
             "colorbar": {
              "outlinewidth": 0,
              "ticks": ""
             }
            },
            "marker": {
             "colorbar": {
              "outlinewidth": 0,
              "ticks": ""
             }
            },
            "type": "scatter3d"
           }
          ],
          "scattercarpet": [
           {
            "marker": {
             "colorbar": {
              "outlinewidth": 0,
              "ticks": ""
             }
            },
            "type": "scattercarpet"
           }
          ],
          "scattergeo": [
           {
            "marker": {
             "colorbar": {
              "outlinewidth": 0,
              "ticks": ""
             }
            },
            "type": "scattergeo"
           }
          ],
          "scattergl": [
           {
            "marker": {
             "colorbar": {
              "outlinewidth": 0,
              "ticks": ""
             }
            },
            "type": "scattergl"
           }
          ],
          "scattermapbox": [
           {
            "marker": {
             "colorbar": {
              "outlinewidth": 0,
              "ticks": ""
             }
            },
            "type": "scattermapbox"
           }
          ],
          "scatterpolar": [
           {
            "marker": {
             "colorbar": {
              "outlinewidth": 0,
              "ticks": ""
             }
            },
            "type": "scatterpolar"
           }
          ],
          "scatterpolargl": [
           {
            "marker": {
             "colorbar": {
              "outlinewidth": 0,
              "ticks": ""
             }
            },
            "type": "scatterpolargl"
           }
          ],
          "scatterternary": [
           {
            "marker": {
             "colorbar": {
              "outlinewidth": 0,
              "ticks": ""
             }
            },
            "type": "scatterternary"
           }
          ],
          "surface": [
           {
            "colorbar": {
             "outlinewidth": 0,
             "ticks": ""
            },
            "colorscale": [
             [
              0,
              "#0d0887"
             ],
             [
              0.1111111111111111,
              "#46039f"
             ],
             [
              0.2222222222222222,
              "#7201a8"
             ],
             [
              0.3333333333333333,
              "#9c179e"
             ],
             [
              0.4444444444444444,
              "#bd3786"
             ],
             [
              0.5555555555555556,
              "#d8576b"
             ],
             [
              0.6666666666666666,
              "#ed7953"
             ],
             [
              0.7777777777777778,
              "#fb9f3a"
             ],
             [
              0.8888888888888888,
              "#fdca26"
             ],
             [
              1,
              "#f0f921"
             ]
            ],
            "type": "surface"
           }
          ],
          "table": [
           {
            "cells": {
             "fill": {
              "color": "#EBF0F8"
             },
             "line": {
              "color": "white"
             }
            },
            "header": {
             "fill": {
              "color": "#C8D4E3"
             },
             "line": {
              "color": "white"
             }
            },
            "type": "table"
           }
          ]
         },
         "layout": {
          "annotationdefaults": {
           "arrowcolor": "#2a3f5f",
           "arrowhead": 0,
           "arrowwidth": 1
          },
          "autotypenumbers": "strict",
          "coloraxis": {
           "colorbar": {
            "outlinewidth": 0,
            "ticks": ""
           }
          },
          "colorscale": {
           "diverging": [
            [
             0,
             "#8e0152"
            ],
            [
             0.1,
             "#c51b7d"
            ],
            [
             0.2,
             "#de77ae"
            ],
            [
             0.3,
             "#f1b6da"
            ],
            [
             0.4,
             "#fde0ef"
            ],
            [
             0.5,
             "#f7f7f7"
            ],
            [
             0.6,
             "#e6f5d0"
            ],
            [
             0.7,
             "#b8e186"
            ],
            [
             0.8,
             "#7fbc41"
            ],
            [
             0.9,
             "#4d9221"
            ],
            [
             1,
             "#276419"
            ]
           ],
           "sequential": [
            [
             0,
             "#0d0887"
            ],
            [
             0.1111111111111111,
             "#46039f"
            ],
            [
             0.2222222222222222,
             "#7201a8"
            ],
            [
             0.3333333333333333,
             "#9c179e"
            ],
            [
             0.4444444444444444,
             "#bd3786"
            ],
            [
             0.5555555555555556,
             "#d8576b"
            ],
            [
             0.6666666666666666,
             "#ed7953"
            ],
            [
             0.7777777777777778,
             "#fb9f3a"
            ],
            [
             0.8888888888888888,
             "#fdca26"
            ],
            [
             1,
             "#f0f921"
            ]
           ],
           "sequentialminus": [
            [
             0,
             "#0d0887"
            ],
            [
             0.1111111111111111,
             "#46039f"
            ],
            [
             0.2222222222222222,
             "#7201a8"
            ],
            [
             0.3333333333333333,
             "#9c179e"
            ],
            [
             0.4444444444444444,
             "#bd3786"
            ],
            [
             0.5555555555555556,
             "#d8576b"
            ],
            [
             0.6666666666666666,
             "#ed7953"
            ],
            [
             0.7777777777777778,
             "#fb9f3a"
            ],
            [
             0.8888888888888888,
             "#fdca26"
            ],
            [
             1,
             "#f0f921"
            ]
           ]
          },
          "colorway": [
           "#636efa",
           "#EF553B",
           "#00cc96",
           "#ab63fa",
           "#FFA15A",
           "#19d3f3",
           "#FF6692",
           "#B6E880",
           "#FF97FF",
           "#FECB52"
          ],
          "font": {
           "color": "#2a3f5f"
          },
          "geo": {
           "bgcolor": "white",
           "lakecolor": "white",
           "landcolor": "#E5ECF6",
           "showlakes": true,
           "showland": true,
           "subunitcolor": "white"
          },
          "hoverlabel": {
           "align": "left"
          },
          "hovermode": "closest",
          "mapbox": {
           "style": "light"
          },
          "paper_bgcolor": "white",
          "plot_bgcolor": "#E5ECF6",
          "polar": {
           "angularaxis": {
            "gridcolor": "white",
            "linecolor": "white",
            "ticks": ""
           },
           "bgcolor": "#E5ECF6",
           "radialaxis": {
            "gridcolor": "white",
            "linecolor": "white",
            "ticks": ""
           }
          },
          "scene": {
           "xaxis": {
            "backgroundcolor": "#E5ECF6",
            "gridcolor": "white",
            "gridwidth": 2,
            "linecolor": "white",
            "showbackground": true,
            "ticks": "",
            "zerolinecolor": "white"
           },
           "yaxis": {
            "backgroundcolor": "#E5ECF6",
            "gridcolor": "white",
            "gridwidth": 2,
            "linecolor": "white",
            "showbackground": true,
            "ticks": "",
            "zerolinecolor": "white"
           },
           "zaxis": {
            "backgroundcolor": "#E5ECF6",
            "gridcolor": "white",
            "gridwidth": 2,
            "linecolor": "white",
            "showbackground": true,
            "ticks": "",
            "zerolinecolor": "white"
           }
          },
          "shapedefaults": {
           "line": {
            "color": "#2a3f5f"
           }
          },
          "ternary": {
           "aaxis": {
            "gridcolor": "white",
            "linecolor": "white",
            "ticks": ""
           },
           "baxis": {
            "gridcolor": "white",
            "linecolor": "white",
            "ticks": ""
           },
           "bgcolor": "#E5ECF6",
           "caxis": {
            "gridcolor": "white",
            "linecolor": "white",
            "ticks": ""
           }
          },
          "title": {
           "x": 0.05
          },
          "xaxis": {
           "automargin": true,
           "gridcolor": "white",
           "linecolor": "white",
           "ticks": "",
           "title": {
            "standoff": 15
           },
           "zerolinecolor": "white",
           "zerolinewidth": 2
          },
          "yaxis": {
           "automargin": true,
           "gridcolor": "white",
           "linecolor": "white",
           "ticks": "",
           "title": {
            "standoff": 15
           },
           "zerolinecolor": "white",
           "zerolinewidth": 2
          }
         }
        },
        "title": {
         "font": {
          "color": "#4D5663"
         }
        },
        "xaxis": {
         "anchor": "y",
         "domain": [
          0,
          0.2125
         ],
         "gridcolor": "#E1E5ED",
         "showgrid": false,
         "tickfont": {
          "color": "#4D5663"
         },
         "title": {
          "font": {
           "color": "#4D5663"
          },
          "text": ""
         },
         "zerolinecolor": "#E1E5ED"
        },
        "xaxis10": {
         "anchor": "y10",
         "domain": [
          0.2625,
          0.475
         ],
         "gridcolor": "#E1E5ED",
         "showgrid": false,
         "tickfont": {
          "color": "#4D5663"
         },
         "title": {
          "font": {
           "color": "#4D5663"
          },
          "text": ""
         },
         "zerolinecolor": "#E1E5ED"
        },
        "xaxis11": {
         "anchor": "y11",
         "domain": [
          0.525,
          0.7375
         ],
         "gridcolor": "#E1E5ED",
         "showgrid": false,
         "tickfont": {
          "color": "#4D5663"
         },
         "title": {
          "font": {
           "color": "#4D5663"
          },
          "text": ""
         },
         "zerolinecolor": "#E1E5ED"
        },
        "xaxis12": {
         "anchor": "y12",
         "domain": [
          0.7875,
          1
         ],
         "gridcolor": "#E1E5ED",
         "showgrid": false,
         "tickfont": {
          "color": "#4D5663"
         },
         "title": {
          "font": {
           "color": "#4D5663"
          },
          "text": ""
         },
         "zerolinecolor": "#E1E5ED"
        },
        "xaxis13": {
         "anchor": "y13",
         "domain": [
          0,
          0.2125
         ],
         "gridcolor": "#E1E5ED",
         "showgrid": false,
         "tickfont": {
          "color": "#4D5663"
         },
         "title": {
          "font": {
           "color": "#4D5663"
          },
          "text": ""
         },
         "zerolinecolor": "#E1E5ED"
        },
        "xaxis14": {
         "anchor": "y14",
         "domain": [
          0.2625,
          0.475
         ],
         "gridcolor": "#E1E5ED",
         "showgrid": false,
         "tickfont": {
          "color": "#4D5663"
         },
         "title": {
          "font": {
           "color": "#4D5663"
          },
          "text": ""
         },
         "zerolinecolor": "#E1E5ED"
        },
        "xaxis15": {
         "anchor": "y15",
         "domain": [
          0.525,
          0.7375
         ],
         "gridcolor": "#E1E5ED",
         "showgrid": false,
         "tickfont": {
          "color": "#4D5663"
         },
         "title": {
          "font": {
           "color": "#4D5663"
          },
          "text": ""
         },
         "zerolinecolor": "#E1E5ED"
        },
        "xaxis16": {
         "anchor": "y16",
         "domain": [
          0.7875,
          1
         ],
         "gridcolor": "#E1E5ED",
         "showgrid": false,
         "tickfont": {
          "color": "#4D5663"
         },
         "title": {
          "font": {
           "color": "#4D5663"
          },
          "text": ""
         },
         "zerolinecolor": "#E1E5ED"
        },
        "xaxis2": {
         "anchor": "y2",
         "domain": [
          0.2625,
          0.475
         ],
         "gridcolor": "#E1E5ED",
         "showgrid": false,
         "tickfont": {
          "color": "#4D5663"
         },
         "title": {
          "font": {
           "color": "#4D5663"
          },
          "text": ""
         },
         "zerolinecolor": "#E1E5ED"
        },
        "xaxis3": {
         "anchor": "y3",
         "domain": [
          0.525,
          0.7375
         ],
         "gridcolor": "#E1E5ED",
         "showgrid": false,
         "tickfont": {
          "color": "#4D5663"
         },
         "title": {
          "font": {
           "color": "#4D5663"
          },
          "text": ""
         },
         "zerolinecolor": "#E1E5ED"
        },
        "xaxis4": {
         "anchor": "y4",
         "domain": [
          0.7875,
          1
         ],
         "gridcolor": "#E1E5ED",
         "showgrid": false,
         "tickfont": {
          "color": "#4D5663"
         },
         "title": {
          "font": {
           "color": "#4D5663"
          },
          "text": ""
         },
         "zerolinecolor": "#E1E5ED"
        },
        "xaxis5": {
         "anchor": "y5",
         "domain": [
          0,
          0.2125
         ],
         "gridcolor": "#E1E5ED",
         "showgrid": false,
         "tickfont": {
          "color": "#4D5663"
         },
         "title": {
          "font": {
           "color": "#4D5663"
          },
          "text": ""
         },
         "zerolinecolor": "#E1E5ED"
        },
        "xaxis6": {
         "anchor": "y6",
         "domain": [
          0.2625,
          0.475
         ],
         "gridcolor": "#E1E5ED",
         "showgrid": false,
         "tickfont": {
          "color": "#4D5663"
         },
         "title": {
          "font": {
           "color": "#4D5663"
          },
          "text": ""
         },
         "zerolinecolor": "#E1E5ED"
        },
        "xaxis7": {
         "anchor": "y7",
         "domain": [
          0.525,
          0.7375
         ],
         "gridcolor": "#E1E5ED",
         "showgrid": false,
         "tickfont": {
          "color": "#4D5663"
         },
         "title": {
          "font": {
           "color": "#4D5663"
          },
          "text": ""
         },
         "zerolinecolor": "#E1E5ED"
        },
        "xaxis8": {
         "anchor": "y8",
         "domain": [
          0.7875,
          1
         ],
         "gridcolor": "#E1E5ED",
         "showgrid": false,
         "tickfont": {
          "color": "#4D5663"
         },
         "title": {
          "font": {
           "color": "#4D5663"
          },
          "text": ""
         },
         "zerolinecolor": "#E1E5ED"
        },
        "xaxis9": {
         "anchor": "y9",
         "domain": [
          0,
          0.2125
         ],
         "gridcolor": "#E1E5ED",
         "showgrid": false,
         "tickfont": {
          "color": "#4D5663"
         },
         "title": {
          "font": {
           "color": "#4D5663"
          },
          "text": ""
         },
         "zerolinecolor": "#E1E5ED"
        },
        "yaxis": {
         "anchor": "x",
         "domain": [
          0.8025,
          1
         ],
         "gridcolor": "#E1E5ED",
         "showgrid": false,
         "tickfont": {
          "color": "#4D5663"
         },
         "title": {
          "font": {
           "color": "#4D5663"
          },
          "text": ""
         },
         "zerolinecolor": "#E1E5ED"
        },
        "yaxis10": {
         "anchor": "x10",
         "domain": [
          0.2675,
          0.465
         ],
         "gridcolor": "#E1E5ED",
         "showgrid": false,
         "tickfont": {
          "color": "#4D5663"
         },
         "title": {
          "font": {
           "color": "#4D5663"
          },
          "text": ""
         },
         "zerolinecolor": "#E1E5ED"
        },
        "yaxis11": {
         "anchor": "x11",
         "domain": [
          0.2675,
          0.465
         ],
         "gridcolor": "#E1E5ED",
         "showgrid": false,
         "tickfont": {
          "color": "#4D5663"
         },
         "title": {
          "font": {
           "color": "#4D5663"
          },
          "text": ""
         },
         "zerolinecolor": "#E1E5ED"
        },
        "yaxis12": {
         "anchor": "x12",
         "domain": [
          0.2675,
          0.465
         ],
         "gridcolor": "#E1E5ED",
         "showgrid": false,
         "tickfont": {
          "color": "#4D5663"
         },
         "title": {
          "font": {
           "color": "#4D5663"
          },
          "text": ""
         },
         "zerolinecolor": "#E1E5ED"
        },
        "yaxis13": {
         "anchor": "x13",
         "domain": [
          0,
          0.1975
         ],
         "gridcolor": "#E1E5ED",
         "showgrid": false,
         "tickfont": {
          "color": "#4D5663"
         },
         "title": {
          "font": {
           "color": "#4D5663"
          },
          "text": ""
         },
         "zerolinecolor": "#E1E5ED"
        },
        "yaxis14": {
         "anchor": "x14",
         "domain": [
          0,
          0.1975
         ],
         "gridcolor": "#E1E5ED",
         "showgrid": false,
         "tickfont": {
          "color": "#4D5663"
         },
         "title": {
          "font": {
           "color": "#4D5663"
          },
          "text": ""
         },
         "zerolinecolor": "#E1E5ED"
        },
        "yaxis15": {
         "anchor": "x15",
         "domain": [
          0,
          0.1975
         ],
         "gridcolor": "#E1E5ED",
         "showgrid": false,
         "tickfont": {
          "color": "#4D5663"
         },
         "title": {
          "font": {
           "color": "#4D5663"
          },
          "text": ""
         },
         "zerolinecolor": "#E1E5ED"
        },
        "yaxis16": {
         "anchor": "x16",
         "domain": [
          0,
          0.1975
         ],
         "gridcolor": "#E1E5ED",
         "showgrid": false,
         "tickfont": {
          "color": "#4D5663"
         },
         "title": {
          "font": {
           "color": "#4D5663"
          },
          "text": ""
         },
         "zerolinecolor": "#E1E5ED"
        },
        "yaxis2": {
         "anchor": "x2",
         "domain": [
          0.8025,
          1
         ],
         "gridcolor": "#E1E5ED",
         "showgrid": false,
         "tickfont": {
          "color": "#4D5663"
         },
         "title": {
          "font": {
           "color": "#4D5663"
          },
          "text": ""
         },
         "zerolinecolor": "#E1E5ED"
        },
        "yaxis3": {
         "anchor": "x3",
         "domain": [
          0.8025,
          1
         ],
         "gridcolor": "#E1E5ED",
         "showgrid": false,
         "tickfont": {
          "color": "#4D5663"
         },
         "title": {
          "font": {
           "color": "#4D5663"
          },
          "text": ""
         },
         "zerolinecolor": "#E1E5ED"
        },
        "yaxis4": {
         "anchor": "x4",
         "domain": [
          0.8025,
          1
         ],
         "gridcolor": "#E1E5ED",
         "showgrid": false,
         "tickfont": {
          "color": "#4D5663"
         },
         "title": {
          "font": {
           "color": "#4D5663"
          },
          "text": ""
         },
         "zerolinecolor": "#E1E5ED"
        },
        "yaxis5": {
         "anchor": "x5",
         "domain": [
          0.535,
          0.7325
         ],
         "gridcolor": "#E1E5ED",
         "showgrid": false,
         "tickfont": {
          "color": "#4D5663"
         },
         "title": {
          "font": {
           "color": "#4D5663"
          },
          "text": ""
         },
         "zerolinecolor": "#E1E5ED"
        },
        "yaxis6": {
         "anchor": "x6",
         "domain": [
          0.535,
          0.7325
         ],
         "gridcolor": "#E1E5ED",
         "showgrid": false,
         "tickfont": {
          "color": "#4D5663"
         },
         "title": {
          "font": {
           "color": "#4D5663"
          },
          "text": ""
         },
         "zerolinecolor": "#E1E5ED"
        },
        "yaxis7": {
         "anchor": "x7",
         "domain": [
          0.535,
          0.7325
         ],
         "gridcolor": "#E1E5ED",
         "showgrid": false,
         "tickfont": {
          "color": "#4D5663"
         },
         "title": {
          "font": {
           "color": "#4D5663"
          },
          "text": ""
         },
         "zerolinecolor": "#E1E5ED"
        },
        "yaxis8": {
         "anchor": "x8",
         "domain": [
          0.535,
          0.7325
         ],
         "gridcolor": "#E1E5ED",
         "showgrid": false,
         "tickfont": {
          "color": "#4D5663"
         },
         "title": {
          "font": {
           "color": "#4D5663"
          },
          "text": ""
         },
         "zerolinecolor": "#E1E5ED"
        },
        "yaxis9": {
         "anchor": "x9",
         "domain": [
          0.2675,
          0.465
         ],
         "gridcolor": "#E1E5ED",
         "showgrid": false,
         "tickfont": {
          "color": "#4D5663"
         },
         "title": {
          "font": {
           "color": "#4D5663"
          },
          "text": ""
         },
         "zerolinecolor": "#E1E5ED"
        }
       }
      },
      "text/html": [
       "<div>                            <div id=\"15d11406-6c94-49c8-94f2-c8d037d2effd\" class=\"plotly-graph-div\" style=\"height:525px; width:100%;\"></div>            <script type=\"text/javascript\">                require([\"plotly\"], function(Plotly) {                    window.PLOTLYENV=window.PLOTLYENV || {};\n",
       "                    window.PLOTLYENV.BASE_URL='https://plot.ly';                                    if (document.getElementById(\"15d11406-6c94-49c8-94f2-c8d037d2effd\")) {                    Plotly.newPlot(                        \"15d11406-6c94-49c8-94f2-c8d037d2effd\",                        [{\"histfunc\":\"count\",\"histnorm\":\"\",\"marker\":{\"color\":\"rgba(255, 153, 51, 1.0)\",\"line\":{\"color\":\"#4D5663\",\"width\":1.3}},\"name\":\"A\",\"nbinsx\":10,\"opacity\":0.8,\"orientation\":\"v\",\"x\":[0.406730039480157,-0.39228221499578964,0.7584886923840094,-0.9440396101168271,-0.727462876129729,0.4839174053257021,0.3627206584336743,1.168876137696794,1.2510313986768908,-0.8539452754949033,0.055427781643683255,-0.6784544917630049,0.8326820808182758,0.28424683461318606,-0.14757676900957287,0.11439817628276706,-0.18475712704423441,0.0038164459887509153,0.34990494510895703,-0.4378365112671588,-0.319660271111292,-0.3137996100294566,0.7818668395960702,1.233186915064355,-0.6435088591199211,-0.7662361903303532,0.6315312339735785,-1.5985204957973767,-1.8108208438232374,2.851513981870026,-0.0364816577569318,-0.07999396186412067,-1.4714556943251862,-0.47159853321598855,-1.4583382229612358,0.5500685036145431,-0.5124116539500457,-0.4612840603123584,1.2075325846345708,0.27937512403424236,0.4729467860759181,0.694237909442264,-0.22313437477461176,-2.1673385397595584,1.3640671084533982,1.4328639494199835,-1.3186427873817268,-1.0994996582162526,-0.41552140832138207,-1.1080560081519106,0.2813001247748424,-0.7580111392673803,-0.7788585603184489,1.2751150122692931,2.00579679912336,0.47791604052873227,0.12635847592401317,0.4544312374061017,-0.701182543768695,-0.31650116074208257,1.40877730233643,-0.30667471652084766,0.8587407419478714,1.9907280644550456,-0.34251402756783583,0.8082078562811572,0.15996260259357092,0.004165864484431415,1.226249713622541,1.448104818376337,-0.571107037470229,1.0776789911239473,-0.1018710678062574,1.1137520194408075,0.305546217332669,-0.43272160683972544,0.5002141172314987,1.384830376450365,1.3439169146885883,-0.801316865757186,0.6946582118008514,1.1900960545880286,0.15796941300637093,1.1856772524598995,-1.3348503021181104,0.26021804126709724,0.7641069566280589,0.5619839963840547,0.9919306452669481,-0.42193016475058465,1.6278652681325925,0.040967833820687465,0.4341660540644965,1.2258119652660264,0.16250938553896713,0.7601085688053791,-0.9805826865572652,2.3002686917555693,1.301006005581953,1.754526468354843],\"xaxis\":\"x\",\"yaxis\":\"y\",\"type\":\"histogram\"},{\"line\":{\"color\":\"rgba(128, 128, 128, 1.0)\",\"dash\":\"solid\",\"shape\":\"linear\",\"width\":1.3},\"marker\":{\"size\":2,\"symbol\":\"circle\"},\"mode\":\"markers\",\"name\":\"A\",\"text\":\"\",\"x\":[1.097376166904293,1.8642792306676408,1.2461137578017065,1.477672212271986,-0.6321980447209725,-0.701592290165167,-1.9910127251039769,-0.16971343962788965,1.541150001898701,-1.6226902596728239,-0.19448210077836395,-0.47549319984974325,0.7803436367159594,2.08048633199042,-0.8719472680505037,-0.37442017918715675,-0.4891452026651608,-0.5970083414206725,-0.16973314267358802,0.06428229010088789,0.4494812462908728,-0.07193734454633495,0.9309418106438704,-0.9753354844829426,-0.22601455757081423,0.18748715389366605,-0.1312877215837846,0.2381938795614643,-1.7590016804188497,0.6731156410468611,-0.7597413854750319,-0.8841013551192329,0.3929846598823091,0.11017410931895902,0.18683594785406676,-0.2029225971205222,-1.0052515203199146,-0.8693936292685707,-0.5374583078325221,0.5430544806259738,-1.3965788668301606,-1.1651248251003146,-0.8524306919840188,1.128249186662589,0.6442598329163325,1.0213495698127613,-0.23049466510995706,0.07953191198925529,-1.4659932409105514,1.2955320882347134,-0.8377201170388314,-0.4065340844831503,-1.5343531136588566,0.5484422875986819,0.09010716670491731,-2.249789437139244,-0.4964833178001253,0.9236763626726683,0.8452213396049112,-1.2927235441395513,1.7141323156631694,2.0912246513019284,0.25670750122387975,-1.1156603606229654,1.9235857811875827,-0.8710707446693985,1.3740453390524754,-0.35252170079482553,0.3105335666082955,-0.8699675452643268,-1.5648524283832677,0.5259596252560428,-0.11867843751372183,-0.4825495127875421,0.47010600603079233,0.6759767650864442,-0.1813265244137657,0.23745839470300278,1.9769665072823797,0.5902013388082753,1.710003116764618,0.03506191983633523,0.36609790401099235,-0.44103957812685,0.014828666517463394,0.21150895973385886,1.5565405830025982,2.401094575846921,-0.28780392140728167,-1.93983090406157,0.4842455485607953,1.0815228442886557,-0.36042455727396383,-0.6162822329956089,0.7698723634388819,-0.26264604843217976,-0.5313630021704862,-0.9796202663756749,0.07779045872360635,0.45828456864812617],\"xaxis\":\"x2\",\"y\":[0.406730039480157,-0.39228221499578964,0.7584886923840094,-0.9440396101168271,-0.727462876129729,0.4839174053257021,0.3627206584336743,1.168876137696794,1.2510313986768908,-0.8539452754949033,0.055427781643683255,-0.6784544917630049,0.8326820808182758,0.28424683461318606,-0.14757676900957287,0.11439817628276706,-0.18475712704423441,0.0038164459887509153,0.34990494510895703,-0.4378365112671588,-0.319660271111292,-0.3137996100294566,0.7818668395960702,1.233186915064355,-0.6435088591199211,-0.7662361903303532,0.6315312339735785,-1.5985204957973767,-1.8108208438232374,2.851513981870026,-0.0364816577569318,-0.07999396186412067,-1.4714556943251862,-0.47159853321598855,-1.4583382229612358,0.5500685036145431,-0.5124116539500457,-0.4612840603123584,1.2075325846345708,0.27937512403424236,0.4729467860759181,0.694237909442264,-0.22313437477461176,-2.1673385397595584,1.3640671084533982,1.4328639494199835,-1.3186427873817268,-1.0994996582162526,-0.41552140832138207,-1.1080560081519106,0.2813001247748424,-0.7580111392673803,-0.7788585603184489,1.2751150122692931,2.00579679912336,0.47791604052873227,0.12635847592401317,0.4544312374061017,-0.701182543768695,-0.31650116074208257,1.40877730233643,-0.30667471652084766,0.8587407419478714,1.9907280644550456,-0.34251402756783583,0.8082078562811572,0.15996260259357092,0.004165864484431415,1.226249713622541,1.448104818376337,-0.571107037470229,1.0776789911239473,-0.1018710678062574,1.1137520194408075,0.305546217332669,-0.43272160683972544,0.5002141172314987,1.384830376450365,1.3439169146885883,-0.801316865757186,0.6946582118008514,1.1900960545880286,0.15796941300637093,1.1856772524598995,-1.3348503021181104,0.26021804126709724,0.7641069566280589,0.5619839963840547,0.9919306452669481,-0.42193016475058465,1.6278652681325925,0.040967833820687465,0.4341660540644965,1.2258119652660264,0.16250938553896713,0.7601085688053791,-0.9805826865572652,2.3002686917555693,1.301006005581953,1.754526468354843],\"yaxis\":\"y2\",\"type\":\"scatter\"},{\"line\":{\"color\":\"rgba(128, 128, 128, 1.0)\",\"dash\":\"solid\",\"shape\":\"linear\",\"width\":1.3},\"marker\":{\"size\":2,\"symbol\":\"circle\"},\"mode\":\"markers\",\"name\":\"A\",\"text\":\"\",\"x\":[-0.959747881609686,1.0367821198208023,1.1793643986088211,-1.1847910685272307,-0.8084386447856533,0.17988019416163548,0.3980228918066277,-1.08082996218518,-0.5666268107303905,-0.3844724301983165,-0.25922695615111,-0.19240029331781172,-0.9262680677710405,1.5202632748089229,-0.5488602253956538,1.5444815479525467,-1.02807514380886,-1.3369806920411973,-1.2355219454915394,-0.3650483311232349,-1.0378418608531532,-0.33723343966111063,0.612532028665151,2.264398042000688,1.5526885092866494,-1.041815130520541,-1.4449717477082784,-0.6765598716890142,-0.1188794303229958,-0.2296694432837657,-0.10692238325046478,-1.4796792755911248,0.046884110499893085,-0.6400552792075027,-1.6148675005152104,-0.8181027964469965,-0.23619986103989418,-1.3309197760816576,-1.346254717197355,0.715404419869758,0.9801234758543126,-0.9296905800722829,0.4679481363201032,-1.1818051412191242,0.9154701140210872,1.3932319048211754,0.5444851638530489,1.4537859430819797,0.24489743804102446,0.19791287590021447,-0.6698998391357807,-1.3978800295772889,0.3794789816172494,-1.2597528308744037,0.7911117770587406,0.8860111458984627,1.100997847227812,1.2227346621855006,0.23813988698570066,0.7369555603898272,0.12729412239022272,0.4941300636382026,0.3001154465893416,-0.8522656780053931,-1.2428088551637078,-0.4331463496663254,0.16852650488740917,-0.6155703411818955,-0.7470558852677666,-0.17081111977622232,-1.0108532874031082,0.30111657698245825,-1.4004351460905673,-0.617479520524966,1.096583802392027,0.38027555293067633,-2.4770444913214926,0.5124599056022963,-0.7864323172889783,-2.012404930830048,-0.5239455987265228,0.28855396935654365,-2.180575119874746,0.22409243129740206,1.6110071750508808,-0.1732752241703584,1.2478975671405141,-0.048669124542163676,-1.0065265236213345,0.3888443659165873,-0.27466355453413027,-0.5211709616199443,-2.213711402445004,1.6586733594573306,-0.22848418615931423,0.057267395731893815,0.3821345869931526,2.2275703180856756,0.2072166861025222,0.12301242491396328],\"xaxis\":\"x3\",\"y\":[0.406730039480157,-0.39228221499578964,0.7584886923840094,-0.9440396101168271,-0.727462876129729,0.4839174053257021,0.3627206584336743,1.168876137696794,1.2510313986768908,-0.8539452754949033,0.055427781643683255,-0.6784544917630049,0.8326820808182758,0.28424683461318606,-0.14757676900957287,0.11439817628276706,-0.18475712704423441,0.0038164459887509153,0.34990494510895703,-0.4378365112671588,-0.319660271111292,-0.3137996100294566,0.7818668395960702,1.233186915064355,-0.6435088591199211,-0.7662361903303532,0.6315312339735785,-1.5985204957973767,-1.8108208438232374,2.851513981870026,-0.0364816577569318,-0.07999396186412067,-1.4714556943251862,-0.47159853321598855,-1.4583382229612358,0.5500685036145431,-0.5124116539500457,-0.4612840603123584,1.2075325846345708,0.27937512403424236,0.4729467860759181,0.694237909442264,-0.22313437477461176,-2.1673385397595584,1.3640671084533982,1.4328639494199835,-1.3186427873817268,-1.0994996582162526,-0.41552140832138207,-1.1080560081519106,0.2813001247748424,-0.7580111392673803,-0.7788585603184489,1.2751150122692931,2.00579679912336,0.47791604052873227,0.12635847592401317,0.4544312374061017,-0.701182543768695,-0.31650116074208257,1.40877730233643,-0.30667471652084766,0.8587407419478714,1.9907280644550456,-0.34251402756783583,0.8082078562811572,0.15996260259357092,0.004165864484431415,1.226249713622541,1.448104818376337,-0.571107037470229,1.0776789911239473,-0.1018710678062574,1.1137520194408075,0.305546217332669,-0.43272160683972544,0.5002141172314987,1.384830376450365,1.3439169146885883,-0.801316865757186,0.6946582118008514,1.1900960545880286,0.15796941300637093,1.1856772524598995,-1.3348503021181104,0.26021804126709724,0.7641069566280589,0.5619839963840547,0.9919306452669481,-0.42193016475058465,1.6278652681325925,0.040967833820687465,0.4341660540644965,1.2258119652660264,0.16250938553896713,0.7601085688053791,-0.9805826865572652,2.3002686917555693,1.301006005581953,1.754526468354843],\"yaxis\":\"y3\",\"type\":\"scatter\"},{\"line\":{\"color\":\"rgba(128, 128, 128, 1.0)\",\"dash\":\"solid\",\"shape\":\"linear\",\"width\":1.3},\"marker\":{\"size\":2,\"symbol\":\"circle\"},\"mode\":\"markers\",\"name\":\"A\",\"text\":\"\",\"x\":[-0.3775237105476041,1.5469330558820853,0.7975837377689529,-1.0215237358858384,0.046174419806248125,-0.4546700022403752,-0.976645584975092,0.45717773411839563,-1.3606088988003922,-1.764923821143453,1.3491715340900854,1.0404434348743121,2.231620580687955,-0.9592701447679857,0.02481391863717533,1.1543392090813562,-0.5448617030321711,0.981060386509627,-1.3971884449374945,0.051944384918920075,0.5191578103580838,-0.2079011438790017,2.4598800535048064,-0.3064029027419856,1.7368796898541534,2.0259377554560363,0.05077977396190428,2.3636997814467824,-0.9001904283819676,-0.4615461008048252,1.580150496138963,-1.4459977513748663,0.7849704949260711,0.9370021432027721,-1.0438536510350638,1.0642048533773578,-0.5047233858253104,-1.2985658864810619,-0.9347355102775656,-1.7435021361118295,0.6540645036517425,-0.5406342471593872,0.8175495870482,-0.28795761265237857,-0.6040342612099427,-0.000273981036672952,-0.03040250123411199,-1.3474981929133365,1.326316641128734,-1.4048711185810525,0.3496708975244264,1.175758589037626,0.5407612368541103,-1.5947823321895451,-0.2814276918443059,-0.4266535186520008,-0.11651375400559504,0.7395628814325849,-0.21127926389675677,-1.6285256466392641,2.715790717037815,-0.4381836055540097,-0.7167752813344342,1.6344080173541937,1.092247657456989,1.1918526512537928,1.4797193451776989,-0.042073357485148864,1.4353536465377565,0.566212208762207,-1.0469684943619808,1.2965361364755423,-0.7693246295679306,1.4043778339323014,-0.022019816215365234,-0.2565755827695688,-0.9516114323200353,0.4100799957427423,0.27899071689190635,-0.643630880672682,1.3788949433245734,1.7421489253733558,0.47087130008510547,0.1086939483089091,-0.796358241377402,0.43141768585008794,0.4935046381639671,2.2923780110911194,0.4553633293911215,1.2470448067482276,0.5680883081761456,-0.17640134522893047,0.6490268225007355,-0.844411924817917,-1.556331856145653,-0.6893983779063737,-0.9099102769233144,-1.0202975535224497,-0.8373455223524954,-0.0428262147603727],\"xaxis\":\"x4\",\"y\":[0.406730039480157,-0.39228221499578964,0.7584886923840094,-0.9440396101168271,-0.727462876129729,0.4839174053257021,0.3627206584336743,1.168876137696794,1.2510313986768908,-0.8539452754949033,0.055427781643683255,-0.6784544917630049,0.8326820808182758,0.28424683461318606,-0.14757676900957287,0.11439817628276706,-0.18475712704423441,0.0038164459887509153,0.34990494510895703,-0.4378365112671588,-0.319660271111292,-0.3137996100294566,0.7818668395960702,1.233186915064355,-0.6435088591199211,-0.7662361903303532,0.6315312339735785,-1.5985204957973767,-1.8108208438232374,2.851513981870026,-0.0364816577569318,-0.07999396186412067,-1.4714556943251862,-0.47159853321598855,-1.4583382229612358,0.5500685036145431,-0.5124116539500457,-0.4612840603123584,1.2075325846345708,0.27937512403424236,0.4729467860759181,0.694237909442264,-0.22313437477461176,-2.1673385397595584,1.3640671084533982,1.4328639494199835,-1.3186427873817268,-1.0994996582162526,-0.41552140832138207,-1.1080560081519106,0.2813001247748424,-0.7580111392673803,-0.7788585603184489,1.2751150122692931,2.00579679912336,0.47791604052873227,0.12635847592401317,0.4544312374061017,-0.701182543768695,-0.31650116074208257,1.40877730233643,-0.30667471652084766,0.8587407419478714,1.9907280644550456,-0.34251402756783583,0.8082078562811572,0.15996260259357092,0.004165864484431415,1.226249713622541,1.448104818376337,-0.571107037470229,1.0776789911239473,-0.1018710678062574,1.1137520194408075,0.305546217332669,-0.43272160683972544,0.5002141172314987,1.384830376450365,1.3439169146885883,-0.801316865757186,0.6946582118008514,1.1900960545880286,0.15796941300637093,1.1856772524598995,-1.3348503021181104,0.26021804126709724,0.7641069566280589,0.5619839963840547,0.9919306452669481,-0.42193016475058465,1.6278652681325925,0.040967833820687465,0.4341660540644965,1.2258119652660264,0.16250938553896713,0.7601085688053791,-0.9805826865572652,2.3002686917555693,1.301006005581953,1.754526468354843],\"yaxis\":\"y4\",\"type\":\"scatter\"},{\"line\":{\"color\":\"rgba(128, 128, 128, 1.0)\",\"dash\":\"solid\",\"shape\":\"linear\",\"width\":1.3},\"marker\":{\"size\":2,\"symbol\":\"circle\"},\"mode\":\"markers\",\"name\":\"B\",\"text\":\"\",\"x\":[0.406730039480157,-0.39228221499578964,0.7584886923840094,-0.9440396101168271,-0.727462876129729,0.4839174053257021,0.3627206584336743,1.168876137696794,1.2510313986768908,-0.8539452754949033,0.055427781643683255,-0.6784544917630049,0.8326820808182758,0.28424683461318606,-0.14757676900957287,0.11439817628276706,-0.18475712704423441,0.0038164459887509153,0.34990494510895703,-0.4378365112671588,-0.319660271111292,-0.3137996100294566,0.7818668395960702,1.233186915064355,-0.6435088591199211,-0.7662361903303532,0.6315312339735785,-1.5985204957973767,-1.8108208438232374,2.851513981870026,-0.0364816577569318,-0.07999396186412067,-1.4714556943251862,-0.47159853321598855,-1.4583382229612358,0.5500685036145431,-0.5124116539500457,-0.4612840603123584,1.2075325846345708,0.27937512403424236,0.4729467860759181,0.694237909442264,-0.22313437477461176,-2.1673385397595584,1.3640671084533982,1.4328639494199835,-1.3186427873817268,-1.0994996582162526,-0.41552140832138207,-1.1080560081519106,0.2813001247748424,-0.7580111392673803,-0.7788585603184489,1.2751150122692931,2.00579679912336,0.47791604052873227,0.12635847592401317,0.4544312374061017,-0.701182543768695,-0.31650116074208257,1.40877730233643,-0.30667471652084766,0.8587407419478714,1.9907280644550456,-0.34251402756783583,0.8082078562811572,0.15996260259357092,0.004165864484431415,1.226249713622541,1.448104818376337,-0.571107037470229,1.0776789911239473,-0.1018710678062574,1.1137520194408075,0.305546217332669,-0.43272160683972544,0.5002141172314987,1.384830376450365,1.3439169146885883,-0.801316865757186,0.6946582118008514,1.1900960545880286,0.15796941300637093,1.1856772524598995,-1.3348503021181104,0.26021804126709724,0.7641069566280589,0.5619839963840547,0.9919306452669481,-0.42193016475058465,1.6278652681325925,0.040967833820687465,0.4341660540644965,1.2258119652660264,0.16250938553896713,0.7601085688053791,-0.9805826865572652,2.3002686917555693,1.301006005581953,1.754526468354843],\"xaxis\":\"x5\",\"y\":[1.097376166904293,1.8642792306676408,1.2461137578017065,1.477672212271986,-0.6321980447209725,-0.701592290165167,-1.9910127251039769,-0.16971343962788965,1.541150001898701,-1.6226902596728239,-0.19448210077836395,-0.47549319984974325,0.7803436367159594,2.08048633199042,-0.8719472680505037,-0.37442017918715675,-0.4891452026651608,-0.5970083414206725,-0.16973314267358802,0.06428229010088789,0.4494812462908728,-0.07193734454633495,0.9309418106438704,-0.9753354844829426,-0.22601455757081423,0.18748715389366605,-0.1312877215837846,0.2381938795614643,-1.7590016804188497,0.6731156410468611,-0.7597413854750319,-0.8841013551192329,0.3929846598823091,0.11017410931895902,0.18683594785406676,-0.2029225971205222,-1.0052515203199146,-0.8693936292685707,-0.5374583078325221,0.5430544806259738,-1.3965788668301606,-1.1651248251003146,-0.8524306919840188,1.128249186662589,0.6442598329163325,1.0213495698127613,-0.23049466510995706,0.07953191198925529,-1.4659932409105514,1.2955320882347134,-0.8377201170388314,-0.4065340844831503,-1.5343531136588566,0.5484422875986819,0.09010716670491731,-2.249789437139244,-0.4964833178001253,0.9236763626726683,0.8452213396049112,-1.2927235441395513,1.7141323156631694,2.0912246513019284,0.25670750122387975,-1.1156603606229654,1.9235857811875827,-0.8710707446693985,1.3740453390524754,-0.35252170079482553,0.3105335666082955,-0.8699675452643268,-1.5648524283832677,0.5259596252560428,-0.11867843751372183,-0.4825495127875421,0.47010600603079233,0.6759767650864442,-0.1813265244137657,0.23745839470300278,1.9769665072823797,0.5902013388082753,1.710003116764618,0.03506191983633523,0.36609790401099235,-0.44103957812685,0.014828666517463394,0.21150895973385886,1.5565405830025982,2.401094575846921,-0.28780392140728167,-1.93983090406157,0.4842455485607953,1.0815228442886557,-0.36042455727396383,-0.6162822329956089,0.7698723634388819,-0.26264604843217976,-0.5313630021704862,-0.9796202663756749,0.07779045872360635,0.45828456864812617],\"yaxis\":\"y5\",\"type\":\"scatter\"},{\"histfunc\":\"count\",\"histnorm\":\"\",\"marker\":{\"color\":\"rgba(55, 128, 191, 1.0)\",\"line\":{\"color\":\"#4D5663\",\"width\":1.3}},\"name\":\"B\",\"nbinsx\":10,\"opacity\":0.8,\"orientation\":\"v\",\"x\":[1.097376166904293,1.8642792306676408,1.2461137578017065,1.477672212271986,-0.6321980447209725,-0.701592290165167,-1.9910127251039769,-0.16971343962788965,1.541150001898701,-1.6226902596728239,-0.19448210077836395,-0.47549319984974325,0.7803436367159594,2.08048633199042,-0.8719472680505037,-0.37442017918715675,-0.4891452026651608,-0.5970083414206725,-0.16973314267358802,0.06428229010088789,0.4494812462908728,-0.07193734454633495,0.9309418106438704,-0.9753354844829426,-0.22601455757081423,0.18748715389366605,-0.1312877215837846,0.2381938795614643,-1.7590016804188497,0.6731156410468611,-0.7597413854750319,-0.8841013551192329,0.3929846598823091,0.11017410931895902,0.18683594785406676,-0.2029225971205222,-1.0052515203199146,-0.8693936292685707,-0.5374583078325221,0.5430544806259738,-1.3965788668301606,-1.1651248251003146,-0.8524306919840188,1.128249186662589,0.6442598329163325,1.0213495698127613,-0.23049466510995706,0.07953191198925529,-1.4659932409105514,1.2955320882347134,-0.8377201170388314,-0.4065340844831503,-1.5343531136588566,0.5484422875986819,0.09010716670491731,-2.249789437139244,-0.4964833178001253,0.9236763626726683,0.8452213396049112,-1.2927235441395513,1.7141323156631694,2.0912246513019284,0.25670750122387975,-1.1156603606229654,1.9235857811875827,-0.8710707446693985,1.3740453390524754,-0.35252170079482553,0.3105335666082955,-0.8699675452643268,-1.5648524283832677,0.5259596252560428,-0.11867843751372183,-0.4825495127875421,0.47010600603079233,0.6759767650864442,-0.1813265244137657,0.23745839470300278,1.9769665072823797,0.5902013388082753,1.710003116764618,0.03506191983633523,0.36609790401099235,-0.44103957812685,0.014828666517463394,0.21150895973385886,1.5565405830025982,2.401094575846921,-0.28780392140728167,-1.93983090406157,0.4842455485607953,1.0815228442886557,-0.36042455727396383,-0.6162822329956089,0.7698723634388819,-0.26264604843217976,-0.5313630021704862,-0.9796202663756749,0.07779045872360635,0.45828456864812617],\"xaxis\":\"x6\",\"yaxis\":\"y6\",\"type\":\"histogram\"},{\"line\":{\"color\":\"rgba(128, 128, 128, 1.0)\",\"dash\":\"solid\",\"shape\":\"linear\",\"width\":1.3},\"marker\":{\"size\":2,\"symbol\":\"circle\"},\"mode\":\"markers\",\"name\":\"B\",\"text\":\"\",\"x\":[-0.959747881609686,1.0367821198208023,1.1793643986088211,-1.1847910685272307,-0.8084386447856533,0.17988019416163548,0.3980228918066277,-1.08082996218518,-0.5666268107303905,-0.3844724301983165,-0.25922695615111,-0.19240029331781172,-0.9262680677710405,1.5202632748089229,-0.5488602253956538,1.5444815479525467,-1.02807514380886,-1.3369806920411973,-1.2355219454915394,-0.3650483311232349,-1.0378418608531532,-0.33723343966111063,0.612532028665151,2.264398042000688,1.5526885092866494,-1.041815130520541,-1.4449717477082784,-0.6765598716890142,-0.1188794303229958,-0.2296694432837657,-0.10692238325046478,-1.4796792755911248,0.046884110499893085,-0.6400552792075027,-1.6148675005152104,-0.8181027964469965,-0.23619986103989418,-1.3309197760816576,-1.346254717197355,0.715404419869758,0.9801234758543126,-0.9296905800722829,0.4679481363201032,-1.1818051412191242,0.9154701140210872,1.3932319048211754,0.5444851638530489,1.4537859430819797,0.24489743804102446,0.19791287590021447,-0.6698998391357807,-1.3978800295772889,0.3794789816172494,-1.2597528308744037,0.7911117770587406,0.8860111458984627,1.100997847227812,1.2227346621855006,0.23813988698570066,0.7369555603898272,0.12729412239022272,0.4941300636382026,0.3001154465893416,-0.8522656780053931,-1.2428088551637078,-0.4331463496663254,0.16852650488740917,-0.6155703411818955,-0.7470558852677666,-0.17081111977622232,-1.0108532874031082,0.30111657698245825,-1.4004351460905673,-0.617479520524966,1.096583802392027,0.38027555293067633,-2.4770444913214926,0.5124599056022963,-0.7864323172889783,-2.012404930830048,-0.5239455987265228,0.28855396935654365,-2.180575119874746,0.22409243129740206,1.6110071750508808,-0.1732752241703584,1.2478975671405141,-0.048669124542163676,-1.0065265236213345,0.3888443659165873,-0.27466355453413027,-0.5211709616199443,-2.213711402445004,1.6586733594573306,-0.22848418615931423,0.057267395731893815,0.3821345869931526,2.2275703180856756,0.2072166861025222,0.12301242491396328],\"xaxis\":\"x7\",\"y\":[1.097376166904293,1.8642792306676408,1.2461137578017065,1.477672212271986,-0.6321980447209725,-0.701592290165167,-1.9910127251039769,-0.16971343962788965,1.541150001898701,-1.6226902596728239,-0.19448210077836395,-0.47549319984974325,0.7803436367159594,2.08048633199042,-0.8719472680505037,-0.37442017918715675,-0.4891452026651608,-0.5970083414206725,-0.16973314267358802,0.06428229010088789,0.4494812462908728,-0.07193734454633495,0.9309418106438704,-0.9753354844829426,-0.22601455757081423,0.18748715389366605,-0.1312877215837846,0.2381938795614643,-1.7590016804188497,0.6731156410468611,-0.7597413854750319,-0.8841013551192329,0.3929846598823091,0.11017410931895902,0.18683594785406676,-0.2029225971205222,-1.0052515203199146,-0.8693936292685707,-0.5374583078325221,0.5430544806259738,-1.3965788668301606,-1.1651248251003146,-0.8524306919840188,1.128249186662589,0.6442598329163325,1.0213495698127613,-0.23049466510995706,0.07953191198925529,-1.4659932409105514,1.2955320882347134,-0.8377201170388314,-0.4065340844831503,-1.5343531136588566,0.5484422875986819,0.09010716670491731,-2.249789437139244,-0.4964833178001253,0.9236763626726683,0.8452213396049112,-1.2927235441395513,1.7141323156631694,2.0912246513019284,0.25670750122387975,-1.1156603606229654,1.9235857811875827,-0.8710707446693985,1.3740453390524754,-0.35252170079482553,0.3105335666082955,-0.8699675452643268,-1.5648524283832677,0.5259596252560428,-0.11867843751372183,-0.4825495127875421,0.47010600603079233,0.6759767650864442,-0.1813265244137657,0.23745839470300278,1.9769665072823797,0.5902013388082753,1.710003116764618,0.03506191983633523,0.36609790401099235,-0.44103957812685,0.014828666517463394,0.21150895973385886,1.5565405830025982,2.401094575846921,-0.28780392140728167,-1.93983090406157,0.4842455485607953,1.0815228442886557,-0.36042455727396383,-0.6162822329956089,0.7698723634388819,-0.26264604843217976,-0.5313630021704862,-0.9796202663756749,0.07779045872360635,0.45828456864812617],\"yaxis\":\"y7\",\"type\":\"scatter\"},{\"line\":{\"color\":\"rgba(128, 128, 128, 1.0)\",\"dash\":\"solid\",\"shape\":\"linear\",\"width\":1.3},\"marker\":{\"size\":2,\"symbol\":\"circle\"},\"mode\":\"markers\",\"name\":\"B\",\"text\":\"\",\"x\":[-0.3775237105476041,1.5469330558820853,0.7975837377689529,-1.0215237358858384,0.046174419806248125,-0.4546700022403752,-0.976645584975092,0.45717773411839563,-1.3606088988003922,-1.764923821143453,1.3491715340900854,1.0404434348743121,2.231620580687955,-0.9592701447679857,0.02481391863717533,1.1543392090813562,-0.5448617030321711,0.981060386509627,-1.3971884449374945,0.051944384918920075,0.5191578103580838,-0.2079011438790017,2.4598800535048064,-0.3064029027419856,1.7368796898541534,2.0259377554560363,0.05077977396190428,2.3636997814467824,-0.9001904283819676,-0.4615461008048252,1.580150496138963,-1.4459977513748663,0.7849704949260711,0.9370021432027721,-1.0438536510350638,1.0642048533773578,-0.5047233858253104,-1.2985658864810619,-0.9347355102775656,-1.7435021361118295,0.6540645036517425,-0.5406342471593872,0.8175495870482,-0.28795761265237857,-0.6040342612099427,-0.000273981036672952,-0.03040250123411199,-1.3474981929133365,1.326316641128734,-1.4048711185810525,0.3496708975244264,1.175758589037626,0.5407612368541103,-1.5947823321895451,-0.2814276918443059,-0.4266535186520008,-0.11651375400559504,0.7395628814325849,-0.21127926389675677,-1.6285256466392641,2.715790717037815,-0.4381836055540097,-0.7167752813344342,1.6344080173541937,1.092247657456989,1.1918526512537928,1.4797193451776989,-0.042073357485148864,1.4353536465377565,0.566212208762207,-1.0469684943619808,1.2965361364755423,-0.7693246295679306,1.4043778339323014,-0.022019816215365234,-0.2565755827695688,-0.9516114323200353,0.4100799957427423,0.27899071689190635,-0.643630880672682,1.3788949433245734,1.7421489253733558,0.47087130008510547,0.1086939483089091,-0.796358241377402,0.43141768585008794,0.4935046381639671,2.2923780110911194,0.4553633293911215,1.2470448067482276,0.5680883081761456,-0.17640134522893047,0.6490268225007355,-0.844411924817917,-1.556331856145653,-0.6893983779063737,-0.9099102769233144,-1.0202975535224497,-0.8373455223524954,-0.0428262147603727],\"xaxis\":\"x8\",\"y\":[1.097376166904293,1.8642792306676408,1.2461137578017065,1.477672212271986,-0.6321980447209725,-0.701592290165167,-1.9910127251039769,-0.16971343962788965,1.541150001898701,-1.6226902596728239,-0.19448210077836395,-0.47549319984974325,0.7803436367159594,2.08048633199042,-0.8719472680505037,-0.37442017918715675,-0.4891452026651608,-0.5970083414206725,-0.16973314267358802,0.06428229010088789,0.4494812462908728,-0.07193734454633495,0.9309418106438704,-0.9753354844829426,-0.22601455757081423,0.18748715389366605,-0.1312877215837846,0.2381938795614643,-1.7590016804188497,0.6731156410468611,-0.7597413854750319,-0.8841013551192329,0.3929846598823091,0.11017410931895902,0.18683594785406676,-0.2029225971205222,-1.0052515203199146,-0.8693936292685707,-0.5374583078325221,0.5430544806259738,-1.3965788668301606,-1.1651248251003146,-0.8524306919840188,1.128249186662589,0.6442598329163325,1.0213495698127613,-0.23049466510995706,0.07953191198925529,-1.4659932409105514,1.2955320882347134,-0.8377201170388314,-0.4065340844831503,-1.5343531136588566,0.5484422875986819,0.09010716670491731,-2.249789437139244,-0.4964833178001253,0.9236763626726683,0.8452213396049112,-1.2927235441395513,1.7141323156631694,2.0912246513019284,0.25670750122387975,-1.1156603606229654,1.9235857811875827,-0.8710707446693985,1.3740453390524754,-0.35252170079482553,0.3105335666082955,-0.8699675452643268,-1.5648524283832677,0.5259596252560428,-0.11867843751372183,-0.4825495127875421,0.47010600603079233,0.6759767650864442,-0.1813265244137657,0.23745839470300278,1.9769665072823797,0.5902013388082753,1.710003116764618,0.03506191983633523,0.36609790401099235,-0.44103957812685,0.014828666517463394,0.21150895973385886,1.5565405830025982,2.401094575846921,-0.28780392140728167,-1.93983090406157,0.4842455485607953,1.0815228442886557,-0.36042455727396383,-0.6162822329956089,0.7698723634388819,-0.26264604843217976,-0.5313630021704862,-0.9796202663756749,0.07779045872360635,0.45828456864812617],\"yaxis\":\"y8\",\"type\":\"scatter\"},{\"line\":{\"color\":\"rgba(128, 128, 128, 1.0)\",\"dash\":\"solid\",\"shape\":\"linear\",\"width\":1.3},\"marker\":{\"size\":2,\"symbol\":\"circle\"},\"mode\":\"markers\",\"name\":\"C\",\"text\":\"\",\"x\":[0.406730039480157,-0.39228221499578964,0.7584886923840094,-0.9440396101168271,-0.727462876129729,0.4839174053257021,0.3627206584336743,1.168876137696794,1.2510313986768908,-0.8539452754949033,0.055427781643683255,-0.6784544917630049,0.8326820808182758,0.28424683461318606,-0.14757676900957287,0.11439817628276706,-0.18475712704423441,0.0038164459887509153,0.34990494510895703,-0.4378365112671588,-0.319660271111292,-0.3137996100294566,0.7818668395960702,1.233186915064355,-0.6435088591199211,-0.7662361903303532,0.6315312339735785,-1.5985204957973767,-1.8108208438232374,2.851513981870026,-0.0364816577569318,-0.07999396186412067,-1.4714556943251862,-0.47159853321598855,-1.4583382229612358,0.5500685036145431,-0.5124116539500457,-0.4612840603123584,1.2075325846345708,0.27937512403424236,0.4729467860759181,0.694237909442264,-0.22313437477461176,-2.1673385397595584,1.3640671084533982,1.4328639494199835,-1.3186427873817268,-1.0994996582162526,-0.41552140832138207,-1.1080560081519106,0.2813001247748424,-0.7580111392673803,-0.7788585603184489,1.2751150122692931,2.00579679912336,0.47791604052873227,0.12635847592401317,0.4544312374061017,-0.701182543768695,-0.31650116074208257,1.40877730233643,-0.30667471652084766,0.8587407419478714,1.9907280644550456,-0.34251402756783583,0.8082078562811572,0.15996260259357092,0.004165864484431415,1.226249713622541,1.448104818376337,-0.571107037470229,1.0776789911239473,-0.1018710678062574,1.1137520194408075,0.305546217332669,-0.43272160683972544,0.5002141172314987,1.384830376450365,1.3439169146885883,-0.801316865757186,0.6946582118008514,1.1900960545880286,0.15796941300637093,1.1856772524598995,-1.3348503021181104,0.26021804126709724,0.7641069566280589,0.5619839963840547,0.9919306452669481,-0.42193016475058465,1.6278652681325925,0.040967833820687465,0.4341660540644965,1.2258119652660264,0.16250938553896713,0.7601085688053791,-0.9805826865572652,2.3002686917555693,1.301006005581953,1.754526468354843],\"xaxis\":\"x9\",\"y\":[-0.959747881609686,1.0367821198208023,1.1793643986088211,-1.1847910685272307,-0.8084386447856533,0.17988019416163548,0.3980228918066277,-1.08082996218518,-0.5666268107303905,-0.3844724301983165,-0.25922695615111,-0.19240029331781172,-0.9262680677710405,1.5202632748089229,-0.5488602253956538,1.5444815479525467,-1.02807514380886,-1.3369806920411973,-1.2355219454915394,-0.3650483311232349,-1.0378418608531532,-0.33723343966111063,0.612532028665151,2.264398042000688,1.5526885092866494,-1.041815130520541,-1.4449717477082784,-0.6765598716890142,-0.1188794303229958,-0.2296694432837657,-0.10692238325046478,-1.4796792755911248,0.046884110499893085,-0.6400552792075027,-1.6148675005152104,-0.8181027964469965,-0.23619986103989418,-1.3309197760816576,-1.346254717197355,0.715404419869758,0.9801234758543126,-0.9296905800722829,0.4679481363201032,-1.1818051412191242,0.9154701140210872,1.3932319048211754,0.5444851638530489,1.4537859430819797,0.24489743804102446,0.19791287590021447,-0.6698998391357807,-1.3978800295772889,0.3794789816172494,-1.2597528308744037,0.7911117770587406,0.8860111458984627,1.100997847227812,1.2227346621855006,0.23813988698570066,0.7369555603898272,0.12729412239022272,0.4941300636382026,0.3001154465893416,-0.8522656780053931,-1.2428088551637078,-0.4331463496663254,0.16852650488740917,-0.6155703411818955,-0.7470558852677666,-0.17081111977622232,-1.0108532874031082,0.30111657698245825,-1.4004351460905673,-0.617479520524966,1.096583802392027,0.38027555293067633,-2.4770444913214926,0.5124599056022963,-0.7864323172889783,-2.012404930830048,-0.5239455987265228,0.28855396935654365,-2.180575119874746,0.22409243129740206,1.6110071750508808,-0.1732752241703584,1.2478975671405141,-0.048669124542163676,-1.0065265236213345,0.3888443659165873,-0.27466355453413027,-0.5211709616199443,-2.213711402445004,1.6586733594573306,-0.22848418615931423,0.057267395731893815,0.3821345869931526,2.2275703180856756,0.2072166861025222,0.12301242491396328],\"yaxis\":\"y9\",\"type\":\"scatter\"},{\"line\":{\"color\":\"rgba(128, 128, 128, 1.0)\",\"dash\":\"solid\",\"shape\":\"linear\",\"width\":1.3},\"marker\":{\"size\":2,\"symbol\":\"circle\"},\"mode\":\"markers\",\"name\":\"C\",\"text\":\"\",\"x\":[1.097376166904293,1.8642792306676408,1.2461137578017065,1.477672212271986,-0.6321980447209725,-0.701592290165167,-1.9910127251039769,-0.16971343962788965,1.541150001898701,-1.6226902596728239,-0.19448210077836395,-0.47549319984974325,0.7803436367159594,2.08048633199042,-0.8719472680505037,-0.37442017918715675,-0.4891452026651608,-0.5970083414206725,-0.16973314267358802,0.06428229010088789,0.4494812462908728,-0.07193734454633495,0.9309418106438704,-0.9753354844829426,-0.22601455757081423,0.18748715389366605,-0.1312877215837846,0.2381938795614643,-1.7590016804188497,0.6731156410468611,-0.7597413854750319,-0.8841013551192329,0.3929846598823091,0.11017410931895902,0.18683594785406676,-0.2029225971205222,-1.0052515203199146,-0.8693936292685707,-0.5374583078325221,0.5430544806259738,-1.3965788668301606,-1.1651248251003146,-0.8524306919840188,1.128249186662589,0.6442598329163325,1.0213495698127613,-0.23049466510995706,0.07953191198925529,-1.4659932409105514,1.2955320882347134,-0.8377201170388314,-0.4065340844831503,-1.5343531136588566,0.5484422875986819,0.09010716670491731,-2.249789437139244,-0.4964833178001253,0.9236763626726683,0.8452213396049112,-1.2927235441395513,1.7141323156631694,2.0912246513019284,0.25670750122387975,-1.1156603606229654,1.9235857811875827,-0.8710707446693985,1.3740453390524754,-0.35252170079482553,0.3105335666082955,-0.8699675452643268,-1.5648524283832677,0.5259596252560428,-0.11867843751372183,-0.4825495127875421,0.47010600603079233,0.6759767650864442,-0.1813265244137657,0.23745839470300278,1.9769665072823797,0.5902013388082753,1.710003116764618,0.03506191983633523,0.36609790401099235,-0.44103957812685,0.014828666517463394,0.21150895973385886,1.5565405830025982,2.401094575846921,-0.28780392140728167,-1.93983090406157,0.4842455485607953,1.0815228442886557,-0.36042455727396383,-0.6162822329956089,0.7698723634388819,-0.26264604843217976,-0.5313630021704862,-0.9796202663756749,0.07779045872360635,0.45828456864812617],\"xaxis\":\"x10\",\"y\":[-0.959747881609686,1.0367821198208023,1.1793643986088211,-1.1847910685272307,-0.8084386447856533,0.17988019416163548,0.3980228918066277,-1.08082996218518,-0.5666268107303905,-0.3844724301983165,-0.25922695615111,-0.19240029331781172,-0.9262680677710405,1.5202632748089229,-0.5488602253956538,1.5444815479525467,-1.02807514380886,-1.3369806920411973,-1.2355219454915394,-0.3650483311232349,-1.0378418608531532,-0.33723343966111063,0.612532028665151,2.264398042000688,1.5526885092866494,-1.041815130520541,-1.4449717477082784,-0.6765598716890142,-0.1188794303229958,-0.2296694432837657,-0.10692238325046478,-1.4796792755911248,0.046884110499893085,-0.6400552792075027,-1.6148675005152104,-0.8181027964469965,-0.23619986103989418,-1.3309197760816576,-1.346254717197355,0.715404419869758,0.9801234758543126,-0.9296905800722829,0.4679481363201032,-1.1818051412191242,0.9154701140210872,1.3932319048211754,0.5444851638530489,1.4537859430819797,0.24489743804102446,0.19791287590021447,-0.6698998391357807,-1.3978800295772889,0.3794789816172494,-1.2597528308744037,0.7911117770587406,0.8860111458984627,1.100997847227812,1.2227346621855006,0.23813988698570066,0.7369555603898272,0.12729412239022272,0.4941300636382026,0.3001154465893416,-0.8522656780053931,-1.2428088551637078,-0.4331463496663254,0.16852650488740917,-0.6155703411818955,-0.7470558852677666,-0.17081111977622232,-1.0108532874031082,0.30111657698245825,-1.4004351460905673,-0.617479520524966,1.096583802392027,0.38027555293067633,-2.4770444913214926,0.5124599056022963,-0.7864323172889783,-2.012404930830048,-0.5239455987265228,0.28855396935654365,-2.180575119874746,0.22409243129740206,1.6110071750508808,-0.1732752241703584,1.2478975671405141,-0.048669124542163676,-1.0065265236213345,0.3888443659165873,-0.27466355453413027,-0.5211709616199443,-2.213711402445004,1.6586733594573306,-0.22848418615931423,0.057267395731893815,0.3821345869931526,2.2275703180856756,0.2072166861025222,0.12301242491396328],\"yaxis\":\"y10\",\"type\":\"scatter\"},{\"histfunc\":\"count\",\"histnorm\":\"\",\"marker\":{\"color\":\"rgba(50, 171, 96, 1.0)\",\"line\":{\"color\":\"#4D5663\",\"width\":1.3}},\"name\":\"C\",\"nbinsx\":10,\"opacity\":0.8,\"orientation\":\"v\",\"x\":[-0.959747881609686,1.0367821198208023,1.1793643986088211,-1.1847910685272307,-0.8084386447856533,0.17988019416163548,0.3980228918066277,-1.08082996218518,-0.5666268107303905,-0.3844724301983165,-0.25922695615111,-0.19240029331781172,-0.9262680677710405,1.5202632748089229,-0.5488602253956538,1.5444815479525467,-1.02807514380886,-1.3369806920411973,-1.2355219454915394,-0.3650483311232349,-1.0378418608531532,-0.33723343966111063,0.612532028665151,2.264398042000688,1.5526885092866494,-1.041815130520541,-1.4449717477082784,-0.6765598716890142,-0.1188794303229958,-0.2296694432837657,-0.10692238325046478,-1.4796792755911248,0.046884110499893085,-0.6400552792075027,-1.6148675005152104,-0.8181027964469965,-0.23619986103989418,-1.3309197760816576,-1.346254717197355,0.715404419869758,0.9801234758543126,-0.9296905800722829,0.4679481363201032,-1.1818051412191242,0.9154701140210872,1.3932319048211754,0.5444851638530489,1.4537859430819797,0.24489743804102446,0.19791287590021447,-0.6698998391357807,-1.3978800295772889,0.3794789816172494,-1.2597528308744037,0.7911117770587406,0.8860111458984627,1.100997847227812,1.2227346621855006,0.23813988698570066,0.7369555603898272,0.12729412239022272,0.4941300636382026,0.3001154465893416,-0.8522656780053931,-1.2428088551637078,-0.4331463496663254,0.16852650488740917,-0.6155703411818955,-0.7470558852677666,-0.17081111977622232,-1.0108532874031082,0.30111657698245825,-1.4004351460905673,-0.617479520524966,1.096583802392027,0.38027555293067633,-2.4770444913214926,0.5124599056022963,-0.7864323172889783,-2.012404930830048,-0.5239455987265228,0.28855396935654365,-2.180575119874746,0.22409243129740206,1.6110071750508808,-0.1732752241703584,1.2478975671405141,-0.048669124542163676,-1.0065265236213345,0.3888443659165873,-0.27466355453413027,-0.5211709616199443,-2.213711402445004,1.6586733594573306,-0.22848418615931423,0.057267395731893815,0.3821345869931526,2.2275703180856756,0.2072166861025222,0.12301242491396328],\"xaxis\":\"x11\",\"yaxis\":\"y11\",\"type\":\"histogram\"},{\"line\":{\"color\":\"rgba(128, 128, 128, 1.0)\",\"dash\":\"solid\",\"shape\":\"linear\",\"width\":1.3},\"marker\":{\"size\":2,\"symbol\":\"circle\"},\"mode\":\"markers\",\"name\":\"C\",\"text\":\"\",\"x\":[-0.3775237105476041,1.5469330558820853,0.7975837377689529,-1.0215237358858384,0.046174419806248125,-0.4546700022403752,-0.976645584975092,0.45717773411839563,-1.3606088988003922,-1.764923821143453,1.3491715340900854,1.0404434348743121,2.231620580687955,-0.9592701447679857,0.02481391863717533,1.1543392090813562,-0.5448617030321711,0.981060386509627,-1.3971884449374945,0.051944384918920075,0.5191578103580838,-0.2079011438790017,2.4598800535048064,-0.3064029027419856,1.7368796898541534,2.0259377554560363,0.05077977396190428,2.3636997814467824,-0.9001904283819676,-0.4615461008048252,1.580150496138963,-1.4459977513748663,0.7849704949260711,0.9370021432027721,-1.0438536510350638,1.0642048533773578,-0.5047233858253104,-1.2985658864810619,-0.9347355102775656,-1.7435021361118295,0.6540645036517425,-0.5406342471593872,0.8175495870482,-0.28795761265237857,-0.6040342612099427,-0.000273981036672952,-0.03040250123411199,-1.3474981929133365,1.326316641128734,-1.4048711185810525,0.3496708975244264,1.175758589037626,0.5407612368541103,-1.5947823321895451,-0.2814276918443059,-0.4266535186520008,-0.11651375400559504,0.7395628814325849,-0.21127926389675677,-1.6285256466392641,2.715790717037815,-0.4381836055540097,-0.7167752813344342,1.6344080173541937,1.092247657456989,1.1918526512537928,1.4797193451776989,-0.042073357485148864,1.4353536465377565,0.566212208762207,-1.0469684943619808,1.2965361364755423,-0.7693246295679306,1.4043778339323014,-0.022019816215365234,-0.2565755827695688,-0.9516114323200353,0.4100799957427423,0.27899071689190635,-0.643630880672682,1.3788949433245734,1.7421489253733558,0.47087130008510547,0.1086939483089091,-0.796358241377402,0.43141768585008794,0.4935046381639671,2.2923780110911194,0.4553633293911215,1.2470448067482276,0.5680883081761456,-0.17640134522893047,0.6490268225007355,-0.844411924817917,-1.556331856145653,-0.6893983779063737,-0.9099102769233144,-1.0202975535224497,-0.8373455223524954,-0.0428262147603727],\"xaxis\":\"x12\",\"y\":[-0.959747881609686,1.0367821198208023,1.1793643986088211,-1.1847910685272307,-0.8084386447856533,0.17988019416163548,0.3980228918066277,-1.08082996218518,-0.5666268107303905,-0.3844724301983165,-0.25922695615111,-0.19240029331781172,-0.9262680677710405,1.5202632748089229,-0.5488602253956538,1.5444815479525467,-1.02807514380886,-1.3369806920411973,-1.2355219454915394,-0.3650483311232349,-1.0378418608531532,-0.33723343966111063,0.612532028665151,2.264398042000688,1.5526885092866494,-1.041815130520541,-1.4449717477082784,-0.6765598716890142,-0.1188794303229958,-0.2296694432837657,-0.10692238325046478,-1.4796792755911248,0.046884110499893085,-0.6400552792075027,-1.6148675005152104,-0.8181027964469965,-0.23619986103989418,-1.3309197760816576,-1.346254717197355,0.715404419869758,0.9801234758543126,-0.9296905800722829,0.4679481363201032,-1.1818051412191242,0.9154701140210872,1.3932319048211754,0.5444851638530489,1.4537859430819797,0.24489743804102446,0.19791287590021447,-0.6698998391357807,-1.3978800295772889,0.3794789816172494,-1.2597528308744037,0.7911117770587406,0.8860111458984627,1.100997847227812,1.2227346621855006,0.23813988698570066,0.7369555603898272,0.12729412239022272,0.4941300636382026,0.3001154465893416,-0.8522656780053931,-1.2428088551637078,-0.4331463496663254,0.16852650488740917,-0.6155703411818955,-0.7470558852677666,-0.17081111977622232,-1.0108532874031082,0.30111657698245825,-1.4004351460905673,-0.617479520524966,1.096583802392027,0.38027555293067633,-2.4770444913214926,0.5124599056022963,-0.7864323172889783,-2.012404930830048,-0.5239455987265228,0.28855396935654365,-2.180575119874746,0.22409243129740206,1.6110071750508808,-0.1732752241703584,1.2478975671405141,-0.048669124542163676,-1.0065265236213345,0.3888443659165873,-0.27466355453413027,-0.5211709616199443,-2.213711402445004,1.6586733594573306,-0.22848418615931423,0.057267395731893815,0.3821345869931526,2.2275703180856756,0.2072166861025222,0.12301242491396328],\"yaxis\":\"y12\",\"type\":\"scatter\"},{\"line\":{\"color\":\"rgba(128, 128, 128, 1.0)\",\"dash\":\"solid\",\"shape\":\"linear\",\"width\":1.3},\"marker\":{\"size\":2,\"symbol\":\"circle\"},\"mode\":\"markers\",\"name\":\"D\",\"text\":\"\",\"x\":[0.406730039480157,-0.39228221499578964,0.7584886923840094,-0.9440396101168271,-0.727462876129729,0.4839174053257021,0.3627206584336743,1.168876137696794,1.2510313986768908,-0.8539452754949033,0.055427781643683255,-0.6784544917630049,0.8326820808182758,0.28424683461318606,-0.14757676900957287,0.11439817628276706,-0.18475712704423441,0.0038164459887509153,0.34990494510895703,-0.4378365112671588,-0.319660271111292,-0.3137996100294566,0.7818668395960702,1.233186915064355,-0.6435088591199211,-0.7662361903303532,0.6315312339735785,-1.5985204957973767,-1.8108208438232374,2.851513981870026,-0.0364816577569318,-0.07999396186412067,-1.4714556943251862,-0.47159853321598855,-1.4583382229612358,0.5500685036145431,-0.5124116539500457,-0.4612840603123584,1.2075325846345708,0.27937512403424236,0.4729467860759181,0.694237909442264,-0.22313437477461176,-2.1673385397595584,1.3640671084533982,1.4328639494199835,-1.3186427873817268,-1.0994996582162526,-0.41552140832138207,-1.1080560081519106,0.2813001247748424,-0.7580111392673803,-0.7788585603184489,1.2751150122692931,2.00579679912336,0.47791604052873227,0.12635847592401317,0.4544312374061017,-0.701182543768695,-0.31650116074208257,1.40877730233643,-0.30667471652084766,0.8587407419478714,1.9907280644550456,-0.34251402756783583,0.8082078562811572,0.15996260259357092,0.004165864484431415,1.226249713622541,1.448104818376337,-0.571107037470229,1.0776789911239473,-0.1018710678062574,1.1137520194408075,0.305546217332669,-0.43272160683972544,0.5002141172314987,1.384830376450365,1.3439169146885883,-0.801316865757186,0.6946582118008514,1.1900960545880286,0.15796941300637093,1.1856772524598995,-1.3348503021181104,0.26021804126709724,0.7641069566280589,0.5619839963840547,0.9919306452669481,-0.42193016475058465,1.6278652681325925,0.040967833820687465,0.4341660540644965,1.2258119652660264,0.16250938553896713,0.7601085688053791,-0.9805826865572652,2.3002686917555693,1.301006005581953,1.754526468354843],\"xaxis\":\"x13\",\"y\":[-0.3775237105476041,1.5469330558820853,0.7975837377689529,-1.0215237358858384,0.046174419806248125,-0.4546700022403752,-0.976645584975092,0.45717773411839563,-1.3606088988003922,-1.764923821143453,1.3491715340900854,1.0404434348743121,2.231620580687955,-0.9592701447679857,0.02481391863717533,1.1543392090813562,-0.5448617030321711,0.981060386509627,-1.3971884449374945,0.051944384918920075,0.5191578103580838,-0.2079011438790017,2.4598800535048064,-0.3064029027419856,1.7368796898541534,2.0259377554560363,0.05077977396190428,2.3636997814467824,-0.9001904283819676,-0.4615461008048252,1.580150496138963,-1.4459977513748663,0.7849704949260711,0.9370021432027721,-1.0438536510350638,1.0642048533773578,-0.5047233858253104,-1.2985658864810619,-0.9347355102775656,-1.7435021361118295,0.6540645036517425,-0.5406342471593872,0.8175495870482,-0.28795761265237857,-0.6040342612099427,-0.000273981036672952,-0.03040250123411199,-1.3474981929133365,1.326316641128734,-1.4048711185810525,0.3496708975244264,1.175758589037626,0.5407612368541103,-1.5947823321895451,-0.2814276918443059,-0.4266535186520008,-0.11651375400559504,0.7395628814325849,-0.21127926389675677,-1.6285256466392641,2.715790717037815,-0.4381836055540097,-0.7167752813344342,1.6344080173541937,1.092247657456989,1.1918526512537928,1.4797193451776989,-0.042073357485148864,1.4353536465377565,0.566212208762207,-1.0469684943619808,1.2965361364755423,-0.7693246295679306,1.4043778339323014,-0.022019816215365234,-0.2565755827695688,-0.9516114323200353,0.4100799957427423,0.27899071689190635,-0.643630880672682,1.3788949433245734,1.7421489253733558,0.47087130008510547,0.1086939483089091,-0.796358241377402,0.43141768585008794,0.4935046381639671,2.2923780110911194,0.4553633293911215,1.2470448067482276,0.5680883081761456,-0.17640134522893047,0.6490268225007355,-0.844411924817917,-1.556331856145653,-0.6893983779063737,-0.9099102769233144,-1.0202975535224497,-0.8373455223524954,-0.0428262147603727],\"yaxis\":\"y13\",\"type\":\"scatter\"},{\"line\":{\"color\":\"rgba(128, 128, 128, 1.0)\",\"dash\":\"solid\",\"shape\":\"linear\",\"width\":1.3},\"marker\":{\"size\":2,\"symbol\":\"circle\"},\"mode\":\"markers\",\"name\":\"D\",\"text\":\"\",\"x\":[1.097376166904293,1.8642792306676408,1.2461137578017065,1.477672212271986,-0.6321980447209725,-0.701592290165167,-1.9910127251039769,-0.16971343962788965,1.541150001898701,-1.6226902596728239,-0.19448210077836395,-0.47549319984974325,0.7803436367159594,2.08048633199042,-0.8719472680505037,-0.37442017918715675,-0.4891452026651608,-0.5970083414206725,-0.16973314267358802,0.06428229010088789,0.4494812462908728,-0.07193734454633495,0.9309418106438704,-0.9753354844829426,-0.22601455757081423,0.18748715389366605,-0.1312877215837846,0.2381938795614643,-1.7590016804188497,0.6731156410468611,-0.7597413854750319,-0.8841013551192329,0.3929846598823091,0.11017410931895902,0.18683594785406676,-0.2029225971205222,-1.0052515203199146,-0.8693936292685707,-0.5374583078325221,0.5430544806259738,-1.3965788668301606,-1.1651248251003146,-0.8524306919840188,1.128249186662589,0.6442598329163325,1.0213495698127613,-0.23049466510995706,0.07953191198925529,-1.4659932409105514,1.2955320882347134,-0.8377201170388314,-0.4065340844831503,-1.5343531136588566,0.5484422875986819,0.09010716670491731,-2.249789437139244,-0.4964833178001253,0.9236763626726683,0.8452213396049112,-1.2927235441395513,1.7141323156631694,2.0912246513019284,0.25670750122387975,-1.1156603606229654,1.9235857811875827,-0.8710707446693985,1.3740453390524754,-0.35252170079482553,0.3105335666082955,-0.8699675452643268,-1.5648524283832677,0.5259596252560428,-0.11867843751372183,-0.4825495127875421,0.47010600603079233,0.6759767650864442,-0.1813265244137657,0.23745839470300278,1.9769665072823797,0.5902013388082753,1.710003116764618,0.03506191983633523,0.36609790401099235,-0.44103957812685,0.014828666517463394,0.21150895973385886,1.5565405830025982,2.401094575846921,-0.28780392140728167,-1.93983090406157,0.4842455485607953,1.0815228442886557,-0.36042455727396383,-0.6162822329956089,0.7698723634388819,-0.26264604843217976,-0.5313630021704862,-0.9796202663756749,0.07779045872360635,0.45828456864812617],\"xaxis\":\"x14\",\"y\":[-0.3775237105476041,1.5469330558820853,0.7975837377689529,-1.0215237358858384,0.046174419806248125,-0.4546700022403752,-0.976645584975092,0.45717773411839563,-1.3606088988003922,-1.764923821143453,1.3491715340900854,1.0404434348743121,2.231620580687955,-0.9592701447679857,0.02481391863717533,1.1543392090813562,-0.5448617030321711,0.981060386509627,-1.3971884449374945,0.051944384918920075,0.5191578103580838,-0.2079011438790017,2.4598800535048064,-0.3064029027419856,1.7368796898541534,2.0259377554560363,0.05077977396190428,2.3636997814467824,-0.9001904283819676,-0.4615461008048252,1.580150496138963,-1.4459977513748663,0.7849704949260711,0.9370021432027721,-1.0438536510350638,1.0642048533773578,-0.5047233858253104,-1.2985658864810619,-0.9347355102775656,-1.7435021361118295,0.6540645036517425,-0.5406342471593872,0.8175495870482,-0.28795761265237857,-0.6040342612099427,-0.000273981036672952,-0.03040250123411199,-1.3474981929133365,1.326316641128734,-1.4048711185810525,0.3496708975244264,1.175758589037626,0.5407612368541103,-1.5947823321895451,-0.2814276918443059,-0.4266535186520008,-0.11651375400559504,0.7395628814325849,-0.21127926389675677,-1.6285256466392641,2.715790717037815,-0.4381836055540097,-0.7167752813344342,1.6344080173541937,1.092247657456989,1.1918526512537928,1.4797193451776989,-0.042073357485148864,1.4353536465377565,0.566212208762207,-1.0469684943619808,1.2965361364755423,-0.7693246295679306,1.4043778339323014,-0.022019816215365234,-0.2565755827695688,-0.9516114323200353,0.4100799957427423,0.27899071689190635,-0.643630880672682,1.3788949433245734,1.7421489253733558,0.47087130008510547,0.1086939483089091,-0.796358241377402,0.43141768585008794,0.4935046381639671,2.2923780110911194,0.4553633293911215,1.2470448067482276,0.5680883081761456,-0.17640134522893047,0.6490268225007355,-0.844411924817917,-1.556331856145653,-0.6893983779063737,-0.9099102769233144,-1.0202975535224497,-0.8373455223524954,-0.0428262147603727],\"yaxis\":\"y14\",\"type\":\"scatter\"},{\"line\":{\"color\":\"rgba(128, 128, 128, 1.0)\",\"dash\":\"solid\",\"shape\":\"linear\",\"width\":1.3},\"marker\":{\"size\":2,\"symbol\":\"circle\"},\"mode\":\"markers\",\"name\":\"D\",\"text\":\"\",\"x\":[-0.959747881609686,1.0367821198208023,1.1793643986088211,-1.1847910685272307,-0.8084386447856533,0.17988019416163548,0.3980228918066277,-1.08082996218518,-0.5666268107303905,-0.3844724301983165,-0.25922695615111,-0.19240029331781172,-0.9262680677710405,1.5202632748089229,-0.5488602253956538,1.5444815479525467,-1.02807514380886,-1.3369806920411973,-1.2355219454915394,-0.3650483311232349,-1.0378418608531532,-0.33723343966111063,0.612532028665151,2.264398042000688,1.5526885092866494,-1.041815130520541,-1.4449717477082784,-0.6765598716890142,-0.1188794303229958,-0.2296694432837657,-0.10692238325046478,-1.4796792755911248,0.046884110499893085,-0.6400552792075027,-1.6148675005152104,-0.8181027964469965,-0.23619986103989418,-1.3309197760816576,-1.346254717197355,0.715404419869758,0.9801234758543126,-0.9296905800722829,0.4679481363201032,-1.1818051412191242,0.9154701140210872,1.3932319048211754,0.5444851638530489,1.4537859430819797,0.24489743804102446,0.19791287590021447,-0.6698998391357807,-1.3978800295772889,0.3794789816172494,-1.2597528308744037,0.7911117770587406,0.8860111458984627,1.100997847227812,1.2227346621855006,0.23813988698570066,0.7369555603898272,0.12729412239022272,0.4941300636382026,0.3001154465893416,-0.8522656780053931,-1.2428088551637078,-0.4331463496663254,0.16852650488740917,-0.6155703411818955,-0.7470558852677666,-0.17081111977622232,-1.0108532874031082,0.30111657698245825,-1.4004351460905673,-0.617479520524966,1.096583802392027,0.38027555293067633,-2.4770444913214926,0.5124599056022963,-0.7864323172889783,-2.012404930830048,-0.5239455987265228,0.28855396935654365,-2.180575119874746,0.22409243129740206,1.6110071750508808,-0.1732752241703584,1.2478975671405141,-0.048669124542163676,-1.0065265236213345,0.3888443659165873,-0.27466355453413027,-0.5211709616199443,-2.213711402445004,1.6586733594573306,-0.22848418615931423,0.057267395731893815,0.3821345869931526,2.2275703180856756,0.2072166861025222,0.12301242491396328],\"xaxis\":\"x15\",\"y\":[-0.3775237105476041,1.5469330558820853,0.7975837377689529,-1.0215237358858384,0.046174419806248125,-0.4546700022403752,-0.976645584975092,0.45717773411839563,-1.3606088988003922,-1.764923821143453,1.3491715340900854,1.0404434348743121,2.231620580687955,-0.9592701447679857,0.02481391863717533,1.1543392090813562,-0.5448617030321711,0.981060386509627,-1.3971884449374945,0.051944384918920075,0.5191578103580838,-0.2079011438790017,2.4598800535048064,-0.3064029027419856,1.7368796898541534,2.0259377554560363,0.05077977396190428,2.3636997814467824,-0.9001904283819676,-0.4615461008048252,1.580150496138963,-1.4459977513748663,0.7849704949260711,0.9370021432027721,-1.0438536510350638,1.0642048533773578,-0.5047233858253104,-1.2985658864810619,-0.9347355102775656,-1.7435021361118295,0.6540645036517425,-0.5406342471593872,0.8175495870482,-0.28795761265237857,-0.6040342612099427,-0.000273981036672952,-0.03040250123411199,-1.3474981929133365,1.326316641128734,-1.4048711185810525,0.3496708975244264,1.175758589037626,0.5407612368541103,-1.5947823321895451,-0.2814276918443059,-0.4266535186520008,-0.11651375400559504,0.7395628814325849,-0.21127926389675677,-1.6285256466392641,2.715790717037815,-0.4381836055540097,-0.7167752813344342,1.6344080173541937,1.092247657456989,1.1918526512537928,1.4797193451776989,-0.042073357485148864,1.4353536465377565,0.566212208762207,-1.0469684943619808,1.2965361364755423,-0.7693246295679306,1.4043778339323014,-0.022019816215365234,-0.2565755827695688,-0.9516114323200353,0.4100799957427423,0.27899071689190635,-0.643630880672682,1.3788949433245734,1.7421489253733558,0.47087130008510547,0.1086939483089091,-0.796358241377402,0.43141768585008794,0.4935046381639671,2.2923780110911194,0.4553633293911215,1.2470448067482276,0.5680883081761456,-0.17640134522893047,0.6490268225007355,-0.844411924817917,-1.556331856145653,-0.6893983779063737,-0.9099102769233144,-1.0202975535224497,-0.8373455223524954,-0.0428262147603727],\"yaxis\":\"y15\",\"type\":\"scatter\"},{\"histfunc\":\"count\",\"histnorm\":\"\",\"marker\":{\"color\":\"rgba(128, 0, 128, 1.0)\",\"line\":{\"color\":\"#4D5663\",\"width\":1.3}},\"name\":\"D\",\"nbinsx\":10,\"opacity\":0.8,\"orientation\":\"v\",\"x\":[-0.3775237105476041,1.5469330558820853,0.7975837377689529,-1.0215237358858384,0.046174419806248125,-0.4546700022403752,-0.976645584975092,0.45717773411839563,-1.3606088988003922,-1.764923821143453,1.3491715340900854,1.0404434348743121,2.231620580687955,-0.9592701447679857,0.02481391863717533,1.1543392090813562,-0.5448617030321711,0.981060386509627,-1.3971884449374945,0.051944384918920075,0.5191578103580838,-0.2079011438790017,2.4598800535048064,-0.3064029027419856,1.7368796898541534,2.0259377554560363,0.05077977396190428,2.3636997814467824,-0.9001904283819676,-0.4615461008048252,1.580150496138963,-1.4459977513748663,0.7849704949260711,0.9370021432027721,-1.0438536510350638,1.0642048533773578,-0.5047233858253104,-1.2985658864810619,-0.9347355102775656,-1.7435021361118295,0.6540645036517425,-0.5406342471593872,0.8175495870482,-0.28795761265237857,-0.6040342612099427,-0.000273981036672952,-0.03040250123411199,-1.3474981929133365,1.326316641128734,-1.4048711185810525,0.3496708975244264,1.175758589037626,0.5407612368541103,-1.5947823321895451,-0.2814276918443059,-0.4266535186520008,-0.11651375400559504,0.7395628814325849,-0.21127926389675677,-1.6285256466392641,2.715790717037815,-0.4381836055540097,-0.7167752813344342,1.6344080173541937,1.092247657456989,1.1918526512537928,1.4797193451776989,-0.042073357485148864,1.4353536465377565,0.566212208762207,-1.0469684943619808,1.2965361364755423,-0.7693246295679306,1.4043778339323014,-0.022019816215365234,-0.2565755827695688,-0.9516114323200353,0.4100799957427423,0.27899071689190635,-0.643630880672682,1.3788949433245734,1.7421489253733558,0.47087130008510547,0.1086939483089091,-0.796358241377402,0.43141768585008794,0.4935046381639671,2.2923780110911194,0.4553633293911215,1.2470448067482276,0.5680883081761456,-0.17640134522893047,0.6490268225007355,-0.844411924817917,-1.556331856145653,-0.6893983779063737,-0.9099102769233144,-1.0202975535224497,-0.8373455223524954,-0.0428262147603727],\"xaxis\":\"x16\",\"yaxis\":\"y16\",\"type\":\"histogram\"}],                        {\"bargap\":0.02,\"legend\":{\"bgcolor\":\"#F5F6F9\",\"font\":{\"color\":\"#4D5663\"}},\"paper_bgcolor\":\"#F5F6F9\",\"plot_bgcolor\":\"#F5F6F9\",\"showlegend\":false,\"template\":{\"data\":{\"barpolar\":[{\"marker\":{\"line\":{\"color\":\"#E5ECF6\",\"width\":0.5},\"pattern\":{\"fillmode\":\"overlay\",\"size\":10,\"solidity\":0.2}},\"type\":\"barpolar\"}],\"bar\":[{\"error_x\":{\"color\":\"#2a3f5f\"},\"error_y\":{\"color\":\"#2a3f5f\"},\"marker\":{\"line\":{\"color\":\"#E5ECF6\",\"width\":0.5},\"pattern\":{\"fillmode\":\"overlay\",\"size\":10,\"solidity\":0.2}},\"type\":\"bar\"}],\"carpet\":[{\"aaxis\":{\"endlinecolor\":\"#2a3f5f\",\"gridcolor\":\"white\",\"linecolor\":\"white\",\"minorgridcolor\":\"white\",\"startlinecolor\":\"#2a3f5f\"},\"baxis\":{\"endlinecolor\":\"#2a3f5f\",\"gridcolor\":\"white\",\"linecolor\":\"white\",\"minorgridcolor\":\"white\",\"startlinecolor\":\"#2a3f5f\"},\"type\":\"carpet\"}],\"choropleth\":[{\"colorbar\":{\"outlinewidth\":0,\"ticks\":\"\"},\"type\":\"choropleth\"}],\"contourcarpet\":[{\"colorbar\":{\"outlinewidth\":0,\"ticks\":\"\"},\"type\":\"contourcarpet\"}],\"contour\":[{\"colorbar\":{\"outlinewidth\":0,\"ticks\":\"\"},\"colorscale\":[[0.0,\"#0d0887\"],[0.1111111111111111,\"#46039f\"],[0.2222222222222222,\"#7201a8\"],[0.3333333333333333,\"#9c179e\"],[0.4444444444444444,\"#bd3786\"],[0.5555555555555556,\"#d8576b\"],[0.6666666666666666,\"#ed7953\"],[0.7777777777777778,\"#fb9f3a\"],[0.8888888888888888,\"#fdca26\"],[1.0,\"#f0f921\"]],\"type\":\"contour\"}],\"heatmapgl\":[{\"colorbar\":{\"outlinewidth\":0,\"ticks\":\"\"},\"colorscale\":[[0.0,\"#0d0887\"],[0.1111111111111111,\"#46039f\"],[0.2222222222222222,\"#7201a8\"],[0.3333333333333333,\"#9c179e\"],[0.4444444444444444,\"#bd3786\"],[0.5555555555555556,\"#d8576b\"],[0.6666666666666666,\"#ed7953\"],[0.7777777777777778,\"#fb9f3a\"],[0.8888888888888888,\"#fdca26\"],[1.0,\"#f0f921\"]],\"type\":\"heatmapgl\"}],\"heatmap\":[{\"colorbar\":{\"outlinewidth\":0,\"ticks\":\"\"},\"colorscale\":[[0.0,\"#0d0887\"],[0.1111111111111111,\"#46039f\"],[0.2222222222222222,\"#7201a8\"],[0.3333333333333333,\"#9c179e\"],[0.4444444444444444,\"#bd3786\"],[0.5555555555555556,\"#d8576b\"],[0.6666666666666666,\"#ed7953\"],[0.7777777777777778,\"#fb9f3a\"],[0.8888888888888888,\"#fdca26\"],[1.0,\"#f0f921\"]],\"type\":\"heatmap\"}],\"histogram2dcontour\":[{\"colorbar\":{\"outlinewidth\":0,\"ticks\":\"\"},\"colorscale\":[[0.0,\"#0d0887\"],[0.1111111111111111,\"#46039f\"],[0.2222222222222222,\"#7201a8\"],[0.3333333333333333,\"#9c179e\"],[0.4444444444444444,\"#bd3786\"],[0.5555555555555556,\"#d8576b\"],[0.6666666666666666,\"#ed7953\"],[0.7777777777777778,\"#fb9f3a\"],[0.8888888888888888,\"#fdca26\"],[1.0,\"#f0f921\"]],\"type\":\"histogram2dcontour\"}],\"histogram2d\":[{\"colorbar\":{\"outlinewidth\":0,\"ticks\":\"\"},\"colorscale\":[[0.0,\"#0d0887\"],[0.1111111111111111,\"#46039f\"],[0.2222222222222222,\"#7201a8\"],[0.3333333333333333,\"#9c179e\"],[0.4444444444444444,\"#bd3786\"],[0.5555555555555556,\"#d8576b\"],[0.6666666666666666,\"#ed7953\"],[0.7777777777777778,\"#fb9f3a\"],[0.8888888888888888,\"#fdca26\"],[1.0,\"#f0f921\"]],\"type\":\"histogram2d\"}],\"histogram\":[{\"marker\":{\"pattern\":{\"fillmode\":\"overlay\",\"size\":10,\"solidity\":0.2}},\"type\":\"histogram\"}],\"mesh3d\":[{\"colorbar\":{\"outlinewidth\":0,\"ticks\":\"\"},\"type\":\"mesh3d\"}],\"parcoords\":[{\"line\":{\"colorbar\":{\"outlinewidth\":0,\"ticks\":\"\"}},\"type\":\"parcoords\"}],\"pie\":[{\"automargin\":true,\"type\":\"pie\"}],\"scatter3d\":[{\"line\":{\"colorbar\":{\"outlinewidth\":0,\"ticks\":\"\"}},\"marker\":{\"colorbar\":{\"outlinewidth\":0,\"ticks\":\"\"}},\"type\":\"scatter3d\"}],\"scattercarpet\":[{\"marker\":{\"colorbar\":{\"outlinewidth\":0,\"ticks\":\"\"}},\"type\":\"scattercarpet\"}],\"scattergeo\":[{\"marker\":{\"colorbar\":{\"outlinewidth\":0,\"ticks\":\"\"}},\"type\":\"scattergeo\"}],\"scattergl\":[{\"marker\":{\"colorbar\":{\"outlinewidth\":0,\"ticks\":\"\"}},\"type\":\"scattergl\"}],\"scattermapbox\":[{\"marker\":{\"colorbar\":{\"outlinewidth\":0,\"ticks\":\"\"}},\"type\":\"scattermapbox\"}],\"scatterpolargl\":[{\"marker\":{\"colorbar\":{\"outlinewidth\":0,\"ticks\":\"\"}},\"type\":\"scatterpolargl\"}],\"scatterpolar\":[{\"marker\":{\"colorbar\":{\"outlinewidth\":0,\"ticks\":\"\"}},\"type\":\"scatterpolar\"}],\"scatter\":[{\"fillpattern\":{\"fillmode\":\"overlay\",\"size\":10,\"solidity\":0.2},\"type\":\"scatter\"}],\"scatterternary\":[{\"marker\":{\"colorbar\":{\"outlinewidth\":0,\"ticks\":\"\"}},\"type\":\"scatterternary\"}],\"surface\":[{\"colorbar\":{\"outlinewidth\":0,\"ticks\":\"\"},\"colorscale\":[[0.0,\"#0d0887\"],[0.1111111111111111,\"#46039f\"],[0.2222222222222222,\"#7201a8\"],[0.3333333333333333,\"#9c179e\"],[0.4444444444444444,\"#bd3786\"],[0.5555555555555556,\"#d8576b\"],[0.6666666666666666,\"#ed7953\"],[0.7777777777777778,\"#fb9f3a\"],[0.8888888888888888,\"#fdca26\"],[1.0,\"#f0f921\"]],\"type\":\"surface\"}],\"table\":[{\"cells\":{\"fill\":{\"color\":\"#EBF0F8\"},\"line\":{\"color\":\"white\"}},\"header\":{\"fill\":{\"color\":\"#C8D4E3\"},\"line\":{\"color\":\"white\"}},\"type\":\"table\"}]},\"layout\":{\"annotationdefaults\":{\"arrowcolor\":\"#2a3f5f\",\"arrowhead\":0,\"arrowwidth\":1},\"autotypenumbers\":\"strict\",\"coloraxis\":{\"colorbar\":{\"outlinewidth\":0,\"ticks\":\"\"}},\"colorscale\":{\"diverging\":[[0,\"#8e0152\"],[0.1,\"#c51b7d\"],[0.2,\"#de77ae\"],[0.3,\"#f1b6da\"],[0.4,\"#fde0ef\"],[0.5,\"#f7f7f7\"],[0.6,\"#e6f5d0\"],[0.7,\"#b8e186\"],[0.8,\"#7fbc41\"],[0.9,\"#4d9221\"],[1,\"#276419\"]],\"sequential\":[[0.0,\"#0d0887\"],[0.1111111111111111,\"#46039f\"],[0.2222222222222222,\"#7201a8\"],[0.3333333333333333,\"#9c179e\"],[0.4444444444444444,\"#bd3786\"],[0.5555555555555556,\"#d8576b\"],[0.6666666666666666,\"#ed7953\"],[0.7777777777777778,\"#fb9f3a\"],[0.8888888888888888,\"#fdca26\"],[1.0,\"#f0f921\"]],\"sequentialminus\":[[0.0,\"#0d0887\"],[0.1111111111111111,\"#46039f\"],[0.2222222222222222,\"#7201a8\"],[0.3333333333333333,\"#9c179e\"],[0.4444444444444444,\"#bd3786\"],[0.5555555555555556,\"#d8576b\"],[0.6666666666666666,\"#ed7953\"],[0.7777777777777778,\"#fb9f3a\"],[0.8888888888888888,\"#fdca26\"],[1.0,\"#f0f921\"]]},\"colorway\":[\"#636efa\",\"#EF553B\",\"#00cc96\",\"#ab63fa\",\"#FFA15A\",\"#19d3f3\",\"#FF6692\",\"#B6E880\",\"#FF97FF\",\"#FECB52\"],\"font\":{\"color\":\"#2a3f5f\"},\"geo\":{\"bgcolor\":\"white\",\"lakecolor\":\"white\",\"landcolor\":\"#E5ECF6\",\"showlakes\":true,\"showland\":true,\"subunitcolor\":\"white\"},\"hoverlabel\":{\"align\":\"left\"},\"hovermode\":\"closest\",\"mapbox\":{\"style\":\"light\"},\"paper_bgcolor\":\"white\",\"plot_bgcolor\":\"#E5ECF6\",\"polar\":{\"angularaxis\":{\"gridcolor\":\"white\",\"linecolor\":\"white\",\"ticks\":\"\"},\"bgcolor\":\"#E5ECF6\",\"radialaxis\":{\"gridcolor\":\"white\",\"linecolor\":\"white\",\"ticks\":\"\"}},\"scene\":{\"xaxis\":{\"backgroundcolor\":\"#E5ECF6\",\"gridcolor\":\"white\",\"gridwidth\":2,\"linecolor\":\"white\",\"showbackground\":true,\"ticks\":\"\",\"zerolinecolor\":\"white\"},\"yaxis\":{\"backgroundcolor\":\"#E5ECF6\",\"gridcolor\":\"white\",\"gridwidth\":2,\"linecolor\":\"white\",\"showbackground\":true,\"ticks\":\"\",\"zerolinecolor\":\"white\"},\"zaxis\":{\"backgroundcolor\":\"#E5ECF6\",\"gridcolor\":\"white\",\"gridwidth\":2,\"linecolor\":\"white\",\"showbackground\":true,\"ticks\":\"\",\"zerolinecolor\":\"white\"}},\"shapedefaults\":{\"line\":{\"color\":\"#2a3f5f\"}},\"ternary\":{\"aaxis\":{\"gridcolor\":\"white\",\"linecolor\":\"white\",\"ticks\":\"\"},\"baxis\":{\"gridcolor\":\"white\",\"linecolor\":\"white\",\"ticks\":\"\"},\"bgcolor\":\"#E5ECF6\",\"caxis\":{\"gridcolor\":\"white\",\"linecolor\":\"white\",\"ticks\":\"\"}},\"title\":{\"x\":0.05},\"xaxis\":{\"automargin\":true,\"gridcolor\":\"white\",\"linecolor\":\"white\",\"ticks\":\"\",\"title\":{\"standoff\":15},\"zerolinecolor\":\"white\",\"zerolinewidth\":2},\"yaxis\":{\"automargin\":true,\"gridcolor\":\"white\",\"linecolor\":\"white\",\"ticks\":\"\",\"title\":{\"standoff\":15},\"zerolinecolor\":\"white\",\"zerolinewidth\":2}}},\"title\":{\"font\":{\"color\":\"#4D5663\"}},\"xaxis\":{\"anchor\":\"y\",\"domain\":[0.0,0.2125],\"gridcolor\":\"#E1E5ED\",\"showgrid\":false,\"tickfont\":{\"color\":\"#4D5663\"},\"title\":{\"font\":{\"color\":\"#4D5663\"},\"text\":\"\"},\"zerolinecolor\":\"#E1E5ED\"},\"yaxis\":{\"anchor\":\"x\",\"domain\":[0.8025,1.0],\"gridcolor\":\"#E1E5ED\",\"showgrid\":false,\"tickfont\":{\"color\":\"#4D5663\"},\"title\":{\"font\":{\"color\":\"#4D5663\"},\"text\":\"\"},\"zerolinecolor\":\"#E1E5ED\"},\"xaxis2\":{\"anchor\":\"y2\",\"domain\":[0.2625,0.475],\"gridcolor\":\"#E1E5ED\",\"showgrid\":false,\"tickfont\":{\"color\":\"#4D5663\"},\"title\":{\"font\":{\"color\":\"#4D5663\"},\"text\":\"\"},\"zerolinecolor\":\"#E1E5ED\"},\"yaxis2\":{\"anchor\":\"x2\",\"domain\":[0.8025,1.0],\"gridcolor\":\"#E1E5ED\",\"showgrid\":false,\"tickfont\":{\"color\":\"#4D5663\"},\"title\":{\"font\":{\"color\":\"#4D5663\"},\"text\":\"\"},\"zerolinecolor\":\"#E1E5ED\"},\"xaxis3\":{\"anchor\":\"y3\",\"domain\":[0.525,0.7375],\"gridcolor\":\"#E1E5ED\",\"showgrid\":false,\"tickfont\":{\"color\":\"#4D5663\"},\"title\":{\"font\":{\"color\":\"#4D5663\"},\"text\":\"\"},\"zerolinecolor\":\"#E1E5ED\"},\"yaxis3\":{\"anchor\":\"x3\",\"domain\":[0.8025,1.0],\"gridcolor\":\"#E1E5ED\",\"showgrid\":false,\"tickfont\":{\"color\":\"#4D5663\"},\"title\":{\"font\":{\"color\":\"#4D5663\"},\"text\":\"\"},\"zerolinecolor\":\"#E1E5ED\"},\"xaxis4\":{\"anchor\":\"y4\",\"domain\":[0.7875,1.0],\"gridcolor\":\"#E1E5ED\",\"showgrid\":false,\"tickfont\":{\"color\":\"#4D5663\"},\"title\":{\"font\":{\"color\":\"#4D5663\"},\"text\":\"\"},\"zerolinecolor\":\"#E1E5ED\"},\"yaxis4\":{\"anchor\":\"x4\",\"domain\":[0.8025,1.0],\"gridcolor\":\"#E1E5ED\",\"showgrid\":false,\"tickfont\":{\"color\":\"#4D5663\"},\"title\":{\"font\":{\"color\":\"#4D5663\"},\"text\":\"\"},\"zerolinecolor\":\"#E1E5ED\"},\"xaxis5\":{\"anchor\":\"y5\",\"domain\":[0.0,0.2125],\"gridcolor\":\"#E1E5ED\",\"showgrid\":false,\"tickfont\":{\"color\":\"#4D5663\"},\"title\":{\"font\":{\"color\":\"#4D5663\"},\"text\":\"\"},\"zerolinecolor\":\"#E1E5ED\"},\"yaxis5\":{\"anchor\":\"x5\",\"domain\":[0.535,0.7325],\"gridcolor\":\"#E1E5ED\",\"showgrid\":false,\"tickfont\":{\"color\":\"#4D5663\"},\"title\":{\"font\":{\"color\":\"#4D5663\"},\"text\":\"\"},\"zerolinecolor\":\"#E1E5ED\"},\"xaxis6\":{\"anchor\":\"y6\",\"domain\":[0.2625,0.475],\"gridcolor\":\"#E1E5ED\",\"showgrid\":false,\"tickfont\":{\"color\":\"#4D5663\"},\"title\":{\"font\":{\"color\":\"#4D5663\"},\"text\":\"\"},\"zerolinecolor\":\"#E1E5ED\"},\"yaxis6\":{\"anchor\":\"x6\",\"domain\":[0.535,0.7325],\"gridcolor\":\"#E1E5ED\",\"showgrid\":false,\"tickfont\":{\"color\":\"#4D5663\"},\"title\":{\"font\":{\"color\":\"#4D5663\"},\"text\":\"\"},\"zerolinecolor\":\"#E1E5ED\"},\"xaxis7\":{\"anchor\":\"y7\",\"domain\":[0.525,0.7375],\"gridcolor\":\"#E1E5ED\",\"showgrid\":false,\"tickfont\":{\"color\":\"#4D5663\"},\"title\":{\"font\":{\"color\":\"#4D5663\"},\"text\":\"\"},\"zerolinecolor\":\"#E1E5ED\"},\"yaxis7\":{\"anchor\":\"x7\",\"domain\":[0.535,0.7325],\"gridcolor\":\"#E1E5ED\",\"showgrid\":false,\"tickfont\":{\"color\":\"#4D5663\"},\"title\":{\"font\":{\"color\":\"#4D5663\"},\"text\":\"\"},\"zerolinecolor\":\"#E1E5ED\"},\"xaxis8\":{\"anchor\":\"y8\",\"domain\":[0.7875,1.0],\"gridcolor\":\"#E1E5ED\",\"showgrid\":false,\"tickfont\":{\"color\":\"#4D5663\"},\"title\":{\"font\":{\"color\":\"#4D5663\"},\"text\":\"\"},\"zerolinecolor\":\"#E1E5ED\"},\"yaxis8\":{\"anchor\":\"x8\",\"domain\":[0.535,0.7325],\"gridcolor\":\"#E1E5ED\",\"showgrid\":false,\"tickfont\":{\"color\":\"#4D5663\"},\"title\":{\"font\":{\"color\":\"#4D5663\"},\"text\":\"\"},\"zerolinecolor\":\"#E1E5ED\"},\"xaxis9\":{\"anchor\":\"y9\",\"domain\":[0.0,0.2125],\"gridcolor\":\"#E1E5ED\",\"showgrid\":false,\"tickfont\":{\"color\":\"#4D5663\"},\"title\":{\"font\":{\"color\":\"#4D5663\"},\"text\":\"\"},\"zerolinecolor\":\"#E1E5ED\"},\"yaxis9\":{\"anchor\":\"x9\",\"domain\":[0.2675,0.465],\"gridcolor\":\"#E1E5ED\",\"showgrid\":false,\"tickfont\":{\"color\":\"#4D5663\"},\"title\":{\"font\":{\"color\":\"#4D5663\"},\"text\":\"\"},\"zerolinecolor\":\"#E1E5ED\"},\"xaxis10\":{\"anchor\":\"y10\",\"domain\":[0.2625,0.475],\"gridcolor\":\"#E1E5ED\",\"showgrid\":false,\"tickfont\":{\"color\":\"#4D5663\"},\"title\":{\"font\":{\"color\":\"#4D5663\"},\"text\":\"\"},\"zerolinecolor\":\"#E1E5ED\"},\"yaxis10\":{\"anchor\":\"x10\",\"domain\":[0.2675,0.465],\"gridcolor\":\"#E1E5ED\",\"showgrid\":false,\"tickfont\":{\"color\":\"#4D5663\"},\"title\":{\"font\":{\"color\":\"#4D5663\"},\"text\":\"\"},\"zerolinecolor\":\"#E1E5ED\"},\"xaxis11\":{\"anchor\":\"y11\",\"domain\":[0.525,0.7375],\"gridcolor\":\"#E1E5ED\",\"showgrid\":false,\"tickfont\":{\"color\":\"#4D5663\"},\"title\":{\"font\":{\"color\":\"#4D5663\"},\"text\":\"\"},\"zerolinecolor\":\"#E1E5ED\"},\"yaxis11\":{\"anchor\":\"x11\",\"domain\":[0.2675,0.465],\"gridcolor\":\"#E1E5ED\",\"showgrid\":false,\"tickfont\":{\"color\":\"#4D5663\"},\"title\":{\"font\":{\"color\":\"#4D5663\"},\"text\":\"\"},\"zerolinecolor\":\"#E1E5ED\"},\"xaxis12\":{\"anchor\":\"y12\",\"domain\":[0.7875,1.0],\"gridcolor\":\"#E1E5ED\",\"showgrid\":false,\"tickfont\":{\"color\":\"#4D5663\"},\"title\":{\"font\":{\"color\":\"#4D5663\"},\"text\":\"\"},\"zerolinecolor\":\"#E1E5ED\"},\"yaxis12\":{\"anchor\":\"x12\",\"domain\":[0.2675,0.465],\"gridcolor\":\"#E1E5ED\",\"showgrid\":false,\"tickfont\":{\"color\":\"#4D5663\"},\"title\":{\"font\":{\"color\":\"#4D5663\"},\"text\":\"\"},\"zerolinecolor\":\"#E1E5ED\"},\"xaxis13\":{\"anchor\":\"y13\",\"domain\":[0.0,0.2125],\"gridcolor\":\"#E1E5ED\",\"showgrid\":false,\"tickfont\":{\"color\":\"#4D5663\"},\"title\":{\"font\":{\"color\":\"#4D5663\"},\"text\":\"\"},\"zerolinecolor\":\"#E1E5ED\"},\"yaxis13\":{\"anchor\":\"x13\",\"domain\":[0.0,0.1975],\"gridcolor\":\"#E1E5ED\",\"showgrid\":false,\"tickfont\":{\"color\":\"#4D5663\"},\"title\":{\"font\":{\"color\":\"#4D5663\"},\"text\":\"\"},\"zerolinecolor\":\"#E1E5ED\"},\"xaxis14\":{\"anchor\":\"y14\",\"domain\":[0.2625,0.475],\"gridcolor\":\"#E1E5ED\",\"showgrid\":false,\"tickfont\":{\"color\":\"#4D5663\"},\"title\":{\"font\":{\"color\":\"#4D5663\"},\"text\":\"\"},\"zerolinecolor\":\"#E1E5ED\"},\"yaxis14\":{\"anchor\":\"x14\",\"domain\":[0.0,0.1975],\"gridcolor\":\"#E1E5ED\",\"showgrid\":false,\"tickfont\":{\"color\":\"#4D5663\"},\"title\":{\"font\":{\"color\":\"#4D5663\"},\"text\":\"\"},\"zerolinecolor\":\"#E1E5ED\"},\"xaxis15\":{\"anchor\":\"y15\",\"domain\":[0.525,0.7375],\"gridcolor\":\"#E1E5ED\",\"showgrid\":false,\"tickfont\":{\"color\":\"#4D5663\"},\"title\":{\"font\":{\"color\":\"#4D5663\"},\"text\":\"\"},\"zerolinecolor\":\"#E1E5ED\"},\"yaxis15\":{\"anchor\":\"x15\",\"domain\":[0.0,0.1975],\"gridcolor\":\"#E1E5ED\",\"showgrid\":false,\"tickfont\":{\"color\":\"#4D5663\"},\"title\":{\"font\":{\"color\":\"#4D5663\"},\"text\":\"\"},\"zerolinecolor\":\"#E1E5ED\"},\"xaxis16\":{\"anchor\":\"y16\",\"domain\":[0.7875,1.0],\"gridcolor\":\"#E1E5ED\",\"showgrid\":false,\"tickfont\":{\"color\":\"#4D5663\"},\"title\":{\"font\":{\"color\":\"#4D5663\"},\"text\":\"\"},\"zerolinecolor\":\"#E1E5ED\"},\"yaxis16\":{\"anchor\":\"x16\",\"domain\":[0.0,0.1975],\"gridcolor\":\"#E1E5ED\",\"showgrid\":false,\"tickfont\":{\"color\":\"#4D5663\"},\"title\":{\"font\":{\"color\":\"#4D5663\"},\"text\":\"\"},\"zerolinecolor\":\"#E1E5ED\"}},                        {\"showLink\": true, \"linkText\": \"Export to plot.ly\", \"plotlyServerURL\": \"https://plot.ly\", \"responsive\": true}                    ).then(function(){\n",
       "                            \n",
       "var gd = document.getElementById('15d11406-6c94-49c8-94f2-c8d037d2effd');\n",
       "var x = new MutationObserver(function (mutations, observer) {{\n",
       "        var display = window.getComputedStyle(gd).display;\n",
       "        if (!display || display === 'none') {{\n",
       "            console.log([gd, 'removed!']);\n",
       "            Plotly.purge(gd);\n",
       "            observer.disconnect();\n",
       "        }}\n",
       "}});\n",
       "\n",
       "// Listen for the removal of the full notebook cells\n",
       "var notebookContainer = gd.closest('#notebook-container');\n",
       "if (notebookContainer) {{\n",
       "    x.observe(notebookContainer, {childList: true});\n",
       "}}\n",
       "\n",
       "// Listen for the clearing of the current output cell\n",
       "var outputEl = gd.closest('.output');\n",
       "if (outputEl) {{\n",
       "    x.observe(outputEl, {childList: true});\n",
       "}}\n",
       "\n",
       "                        })                };                });            </script>        </div>"
      ]
     },
     "metadata": {},
     "output_type": "display_data"
    }
   ],
   "source": [
    "df.scatter_matrix()"
   ]
  },
  {
   "cell_type": "code",
   "execution_count": null,
   "id": "2ab49c57",
   "metadata": {},
   "outputs": [],
   "source": [
    "# For more documentations & tutorials for cufflinks, visit https://github.com/santosjorge/cufflinks"
   ]
  }
 ],
 "metadata": {
  "kernelspec": {
   "display_name": "Python 3 (ipykernel)",
   "language": "python",
   "name": "python3"
  },
  "language_info": {
   "codemirror_mode": {
    "name": "ipython",
    "version": 3
   },
   "file_extension": ".py",
   "mimetype": "text/x-python",
   "name": "python",
   "nbconvert_exporter": "python",
   "pygments_lexer": "ipython3",
   "version": "3.7.3"
  }
 },
 "nbformat": 4,
 "nbformat_minor": 5
}
