{
 "cells": [
  {
   "cell_type": "markdown",
   "id": "524dc418",
   "metadata": {},
   "source": [
    "### Logistic Regression"
   ]
  },
  {
   "cell_type": "markdown",
   "id": "b7c76c38",
   "metadata": {},
   "source": [
    "Reading Assignment:\n",
    "\n",
    "Sections 4-4.3 of **Introduction to Statistical Learning** By Gareth James, et al"
   ]
  },
  {
   "cell_type": "markdown",
   "id": "7542cd83",
   "metadata": {},
   "source": [
    "We want to learn about Logistic Regression as method for **Classification**.\n"
   ]
  },
  {
   "cell_type": "markdown",
   "id": "acb6e58a",
   "metadata": {},
   "source": [
    "Some examples of classification problems:\n",
    "\n",
    "    Spam versus \"Ham\" emails\n",
    "    Loan Defaults(yes or no)\n",
    "    Disease Diagnosis\n",
    "    \n",
    "Above were all examples of Binary Classification"
   ]
  },
  {
   "cell_type": "code",
   "execution_count": null,
   "id": "400ad63d",
   "metadata": {},
   "outputs": [],
   "source": []
  }
 ],
 "metadata": {
  "kernelspec": {
   "display_name": "Python 3 (ipykernel)",
   "language": "python",
   "name": "python3"
  },
  "language_info": {
   "codemirror_mode": {
    "name": "ipython",
    "version": 3
   },
   "file_extension": ".py",
   "mimetype": "text/x-python",
   "name": "python",
   "nbconvert_exporter": "python",
   "pygments_lexer": "ipython3",
   "version": "3.7.3"
  }
 },
 "nbformat": 4,
 "nbformat_minor": 5
}
