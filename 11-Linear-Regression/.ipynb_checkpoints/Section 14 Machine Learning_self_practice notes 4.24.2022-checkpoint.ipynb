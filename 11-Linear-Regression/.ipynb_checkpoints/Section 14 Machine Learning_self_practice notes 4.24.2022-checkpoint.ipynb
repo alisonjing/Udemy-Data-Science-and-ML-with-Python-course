{
 "cells": [
  {
   "cell_type": "code",
   "execution_count": 7,
   "id": "f5624d87",
   "metadata": {},
   "outputs": [],
   "source": [
    "import numpy as np\n",
    "import sklearn\n",
    "from sklearn.linear_model import LinearRegression\n",
    "from sklearn.model_selection import train_test_split"
   ]
  },
  {
   "cell_type": "code",
   "execution_count": 8,
   "id": "5ebd4db6",
   "metadata": {},
   "outputs": [],
   "source": [
    "model = LinearRegression(copy_X = True, fit_intercept = True, normalize = True)"
   ]
  },
  {
   "cell_type": "code",
   "execution_count": 10,
   "id": "6eeb5f8e",
   "metadata": {},
   "outputs": [],
   "source": [
    "X, y = np.arange(10).reshape((5,2)),range(5)"
   ]
  },
  {
   "cell_type": "code",
   "execution_count": 11,
   "id": "f769e64a",
   "metadata": {},
   "outputs": [
    {
     "data": {
      "text/plain": [
       "array([[0, 1],\n",
       "       [2, 3],\n",
       "       [4, 5],\n",
       "       [6, 7],\n",
       "       [8, 9]])"
      ]
     },
     "execution_count": 11,
     "metadata": {},
     "output_type": "execute_result"
    }
   ],
   "source": [
    "X"
   ]
  },
  {
   "cell_type": "code",
   "execution_count": 13,
   "id": "5a9e99e5",
   "metadata": {},
   "outputs": [
    {
     "data": {
      "text/plain": [
       "[0, 1, 2, 3, 4]"
      ]
     },
     "execution_count": 13,
     "metadata": {},
     "output_type": "execute_result"
    }
   ],
   "source": [
    "list(y)"
   ]
  },
  {
   "cell_type": "markdown",
   "id": "8bebb27a",
   "metadata": {},
   "source": [
    "Available in **supervised estimators**\n",
    "\n",
    "**model.predict():** given a trained model, predict the label of a new set of data. This method accepts one argument, the new data X_new (e.g. model.predict(X_new)), and returns the learned label for each object in the array.\n",
    "\n",
    "**model.predict_proba():** For classification problems, some estimators also provide this method, which returns the probability that a new observation has each categorical label. In this case, the label with the highest probability is returned by model.predict()\n",
    "\n",
    "**model.score():** for classification or regression problems, most estimators implement a score method. Scores are between 0 and 1, with a larger score indicating a better fit."
   ]
  },
  {
   "cell_type": "markdown",
   "id": "8ebce3c3",
   "metadata": {},
   "source": [
    "Also available in **unsupervised estimators**\n"
   ]
  },
  {
   "cell_type": "markdown",
   "id": "e8ae98ac",
   "metadata": {},
   "source": [
    "**model.predict():** predict labels in clustering algorithms."
   ]
  },
  {
   "cell_type": "markdown",
   "id": "7074250c",
   "metadata": {},
   "source": [
    "**model.transform():** given an unsupervised model, transform new data into the new basis. This also accepts one argument X_new, and returns the new representation of the data based on the unsupervised model.\n",
    "    "
   ]
  },
  {
   "cell_type": "markdown",
   "id": "539b3771",
   "metadata": {},
   "source": [
    "**model.fit_transform():** some estimators implement this method, which more efficiently performs a fit and a transform on the same input data."
   ]
  },
  {
   "cell_type": "code",
   "execution_count": null,
   "id": "89ab21c6",
   "metadata": {},
   "outputs": [],
   "source": []
  }
 ],
 "metadata": {
  "kernelspec": {
   "display_name": "Python 3 (ipykernel)",
   "language": "python",
   "name": "python3"
  },
  "language_info": {
   "codemirror_mode": {
    "name": "ipython",
    "version": 3
   },
   "file_extension": ".py",
   "mimetype": "text/x-python",
   "name": "python",
   "nbconvert_exporter": "python",
   "pygments_lexer": "ipython3",
   "version": "3.7.3"
  }
 },
 "nbformat": 4,
 "nbformat_minor": 5
}
