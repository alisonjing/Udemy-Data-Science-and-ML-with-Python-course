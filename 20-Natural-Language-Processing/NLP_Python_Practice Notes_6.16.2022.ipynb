{
 "cells": [
  {
   "cell_type": "markdown",
   "id": "63690307",
   "metadata": {},
   "source": [
    "**NLP**\n"
   ]
  },
  {
   "cell_type": "markdown",
   "id": "4a2ed075",
   "metadata": {},
   "source": [
    "- Compile Documents\n",
    "- Featurize Them\n",
    "- Compare their features"
   ]
  },
  {
   "cell_type": "markdown",
   "id": "b4dc5579",
   "metadata": {},
   "source": [
    "- You have 2 documents:\n",
    "\n",
    "  -\"Blue House\"\n",
    "  \n",
    "  -\"Red House\""
   ]
  },
  {
   "cell_type": "markdown",
   "id": "0748c3dc",
   "metadata": {},
   "source": [
    "- Featurize based on word count:\n",
    "    - \"Blue House\" -> (red, blue, house) -> (0,1,1)\n",
    "    - \"Red House\" -> (red, blue, house) -> (1,0,1)"
   ]
  },
  {
   "cell_type": "markdown",
   "id": "cc75877f",
   "metadata": {},
   "source": [
    "- You can use cosine similarity on the vectors made to determine similarity:\n",
    "sim(A. B) = cos(theta) = A * B/ (||A||||B||)"
   ]
  },
  {
   "cell_type": "markdown",
   "id": "76d955f6",
   "metadata": {},
   "source": [
    "- We can improve on Bag of Words by adjusting word ounts based on their frequency in corpus(the group of all the documents)"
   ]
  },
  {
   "cell_type": "markdown",
   "id": "7484fa6b",
   "metadata": {},
   "source": [
    "- We can use TF-IDF(Term Frequency - Inverse Document Frequency)"
   ]
  },
  {
   "cell_type": "markdown",
   "id": "3faeb99d",
   "metadata": {},
   "source": [
    "- Term Frequency - Importance of the term within that document\n",
    "    - TF(d,t) = Number of occurences of term t in document d\n",
    "- Inverse Document Frequency - Importance of the term in the corpus\n",
    "    - IDF(t) = log(D/t) where \n",
    "        - D = total number of documents\n",
    "        - t = number of documents with the term"
   ]
  },
  {
   "cell_type": "markdown",
   "id": "9b339dac",
   "metadata": {},
   "source": [
    "- Mathematically, TF-IDF is then expressed:\n",
    "  - $W_x,y$ = tf_$x,y$ * $log(N/df_x)$\n",
    "  - TF-IDF = Term x within document y\n",
    "  - tf_x,y = frequency of x in y\n",
    "  - df_x = number of documents containing x\n",
    "  - N = total number of documents"
   ]
  },
  {
   "cell_type": "code",
   "execution_count": 5,
   "id": "482a980d",
   "metadata": {},
   "outputs": [],
   "source": [
    "import nltk"
   ]
  },
  {
   "cell_type": "code",
   "execution_count": 6,
   "id": "b428d881",
   "metadata": {},
   "outputs": [],
   "source": [
    "#nltk.download_shell()"
   ]
  },
  {
   "cell_type": "code",
   "execution_count": 7,
   "id": "da4d92ef",
   "metadata": {},
   "outputs": [],
   "source": [
    "messages = [line.rstrip() for line in open('smsspamcollection/SMSSpamCollection')]"
   ]
  },
  {
   "cell_type": "code",
   "execution_count": 8,
   "id": "353e47dc",
   "metadata": {},
   "outputs": [
    {
     "name": "stdout",
     "output_type": "stream",
     "text": [
      "5574\n"
     ]
    }
   ],
   "source": [
    "print(len(messages))"
   ]
  },
  {
   "cell_type": "code",
   "execution_count": 9,
   "id": "ab81cb73",
   "metadata": {},
   "outputs": [
    {
     "data": {
      "text/plain": [
       "'ham\\tGo until jurong point, crazy.. Available only in bugis n great world la e buffet... Cine there got amore wat...'"
      ]
     },
     "execution_count": 9,
     "metadata": {},
     "output_type": "execute_result"
    }
   ],
   "source": [
    "messages[0]"
   ]
  },
  {
   "cell_type": "code",
   "execution_count": 10,
   "id": "332cc854",
   "metadata": {},
   "outputs": [
    {
     "data": {
      "text/plain": [
       "'ham\\tWhat you thinked about me. First time you saw me in class.'"
      ]
     },
     "execution_count": 10,
     "metadata": {},
     "output_type": "execute_result"
    }
   ],
   "source": [
    "messages[50]"
   ]
  },
  {
   "cell_type": "code",
   "execution_count": 11,
   "id": "2cc86fe0",
   "metadata": {},
   "outputs": [
    {
     "name": "stdout",
     "output_type": "stream",
     "text": [
      "0 ham\tGo until jurong point, crazy.. Available only in bugis n great world la e buffet... Cine there got amore wat...\n",
      "\n",
      "\n",
      "1 ham\tOk lar... Joking wif u oni...\n",
      "\n",
      "\n",
      "2 spam\tFree entry in 2 a wkly comp to win FA Cup final tkts 21st May 2005. Text FA to 87121 to receive entry question(std txt rate)T&C's apply 08452810075over18's\n",
      "\n",
      "\n",
      "3 ham\tU dun say so early hor... U c already then say...\n",
      "\n",
      "\n",
      "4 ham\tNah I don't think he goes to usf, he lives around here though\n",
      "\n",
      "\n",
      "5 spam\tFreeMsg Hey there darling it's been 3 week's now and no word back! I'd like some fun you up for it still? Tb ok! XxX std chgs to send, Â£1.50 to rcv\n",
      "\n",
      "\n",
      "6 ham\tEven my brother is not like to speak with me. They treat me like aids patent.\n",
      "\n",
      "\n",
      "7 ham\tAs per your request 'Melle Melle (Oru Minnaminunginte Nurungu Vettam)' has been set as your callertune for all Callers. Press *9 to copy your friends Callertune\n",
      "\n",
      "\n",
      "8 spam\tWINNER!! As a valued network customer you have been selected to receivea Â£900 prize reward! To claim call 09061701461. Claim code KL341. Valid 12 hours only.\n",
      "\n",
      "\n",
      "9 spam\tHad your mobile 11 months or more? U R entitled to Update to the latest colour mobiles with camera for Free! Call The Mobile Update Co FREE on 08002986030\n",
      "\n",
      "\n"
     ]
    }
   ],
   "source": [
    "for mess_no, message in enumerate(messages[:10]):\n",
    "    print(mess_no, message)\n",
    "    print('\\n')"
   ]
  },
  {
   "cell_type": "code",
   "execution_count": 12,
   "id": "e664fdc0",
   "metadata": {},
   "outputs": [
    {
     "data": {
      "text/plain": [
       "'s'"
      ]
     },
     "execution_count": 12,
     "metadata": {},
     "output_type": "execute_result"
    }
   ],
   "source": [
    "message[0]"
   ]
  },
  {
   "cell_type": "code",
   "execution_count": 13,
   "id": "4a8794f6",
   "metadata": {},
   "outputs": [],
   "source": [
    "import pandas as pd"
   ]
  },
  {
   "cell_type": "code",
   "execution_count": 15,
   "id": "e8720c9f",
   "metadata": {},
   "outputs": [],
   "source": [
    "messages = pd.read_csv('smsspamcollection/SMSSpamCollection', sep='\\t', names = ['label', 'message'])"
   ]
  },
  {
   "cell_type": "code",
   "execution_count": null,
   "id": "a9673ab3",
   "metadata": {},
   "outputs": [],
   "source": []
  }
 ],
 "metadata": {
  "kernelspec": {
   "display_name": "Python 3 (ipykernel)",
   "language": "python",
   "name": "python3"
  },
  "language_info": {
   "codemirror_mode": {
    "name": "ipython",
    "version": 3
   },
   "file_extension": ".py",
   "mimetype": "text/x-python",
   "name": "python",
   "nbconvert_exporter": "python",
   "pygments_lexer": "ipython3",
   "version": "3.7.3"
  }
 },
 "nbformat": 4,
 "nbformat_minor": 5
}
