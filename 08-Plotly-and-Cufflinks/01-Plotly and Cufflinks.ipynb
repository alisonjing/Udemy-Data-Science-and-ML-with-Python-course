{
 "cells": [
  {
   "cell_type": "markdown",
   "metadata": {},
   "source": [
    "___\n",
    "\n",
    "<a href='http://www.pieriandata.com'> <img src='../Pierian_Data_Logo.png' /></a>\n",
    "___\n",
    "# Plotly and Cufflinks"
   ]
  },
  {
   "cell_type": "markdown",
   "metadata": {},
   "source": [
    "Plotly is a library that allows you to create interactive plots that you can use in dashboards or websites (you can save them as html files or static images).\n",
    "\n",
    "## Installation\n",
    "\n",
    "In order for this all to work, you'll need to install plotly and cufflinks to call plots directly off of a pandas dataframe. These libraries are not currently available through **conda** but are available through **pip**. Install the libraries at your command line/terminal using:\n",
    "\n",
    "    pip install plotly\n",
    "    pip install cufflinks\n",
    "\n",
    "** NOTE: Make sure you only have one installation of Python on your computer when you do this, otherwise the installation may not work. **\n",
    "\n",
    "## Imports and Set-up"
   ]
  },
  {
   "cell_type": "code",
   "execution_count": 1,
   "metadata": {},
   "outputs": [],
   "source": [
    "import pandas as pd\n",
    "import numpy as np\n",
    "%matplotlib inline"
   ]
  },
  {
   "cell_type": "code",
   "execution_count": 2,
   "metadata": {},
   "outputs": [
    {
     "name": "stdout",
     "output_type": "stream",
     "text": [
      "5.7.0\n"
     ]
    }
   ],
   "source": [
    "from plotly import __version__\n",
    "from plotly.offline import download_plotlyjs, init_notebook_mode, plot, iplot\n",
    "\n",
    "print(__version__) # requires version >= 1.9.0"
   ]
  },
  {
   "cell_type": "code",
   "execution_count": 3,
   "metadata": {},
   "outputs": [],
   "source": [
    "import cufflinks as cf"
   ]
  },
  {
   "cell_type": "code",
   "execution_count": 4,
   "metadata": {},
   "outputs": [
    {
     "data": {
      "text/html": [
       "        <script type=\"text/javascript\">\n",
       "        window.PlotlyConfig = {MathJaxConfig: 'local'};\n",
       "        if (window.MathJax) {MathJax.Hub.Config({SVG: {font: \"STIX-Web\"}});}\n",
       "        if (typeof require !== 'undefined') {\n",
       "        require.undef(\"plotly\");\n",
       "        requirejs.config({\n",
       "            paths: {\n",
       "                'plotly': ['https://cdn.plot.ly/plotly-2.11.1.min']\n",
       "            }\n",
       "        });\n",
       "        require(['plotly'], function(Plotly) {\n",
       "            window._Plotly = Plotly;\n",
       "        });\n",
       "        }\n",
       "        </script>\n",
       "        "
      ]
     },
     "metadata": {},
     "output_type": "display_data"
    }
   ],
   "source": [
    "# For Notebooks\n",
    "init_notebook_mode(connected=True)"
   ]
  },
  {
   "cell_type": "code",
   "execution_count": 5,
   "metadata": {},
   "outputs": [
    {
     "data": {
      "text/html": [
       "        <script type=\"text/javascript\">\n",
       "        window.PlotlyConfig = {MathJaxConfig: 'local'};\n",
       "        if (window.MathJax) {MathJax.Hub.Config({SVG: {font: \"STIX-Web\"}});}\n",
       "        if (typeof require !== 'undefined') {\n",
       "        require.undef(\"plotly\");\n",
       "        requirejs.config({\n",
       "            paths: {\n",
       "                'plotly': ['https://cdn.plot.ly/plotly-2.11.1.min']\n",
       "            }\n",
       "        });\n",
       "        require(['plotly'], function(Plotly) {\n",
       "            window._Plotly = Plotly;\n",
       "        });\n",
       "        }\n",
       "        </script>\n",
       "        "
      ]
     },
     "metadata": {},
     "output_type": "display_data"
    }
   ],
   "source": [
    "# For offline use\n",
    "cf.go_offline()"
   ]
  },
  {
   "cell_type": "markdown",
   "metadata": {},
   "source": [
    "### Fake Data"
   ]
  },
  {
   "cell_type": "code",
   "execution_count": 6,
   "metadata": {},
   "outputs": [],
   "source": [
    "df = pd.DataFrame(np.random.randn(100,4),columns='A B C D'.split())"
   ]
  },
  {
   "cell_type": "code",
   "execution_count": 7,
   "metadata": {},
   "outputs": [
    {
     "data": {
      "text/html": [
       "<div>\n",
       "<style scoped>\n",
       "    .dataframe tbody tr th:only-of-type {\n",
       "        vertical-align: middle;\n",
       "    }\n",
       "\n",
       "    .dataframe tbody tr th {\n",
       "        vertical-align: top;\n",
       "    }\n",
       "\n",
       "    .dataframe thead th {\n",
       "        text-align: right;\n",
       "    }\n",
       "</style>\n",
       "<table border=\"1\" class=\"dataframe\">\n",
       "  <thead>\n",
       "    <tr style=\"text-align: right;\">\n",
       "      <th></th>\n",
       "      <th>A</th>\n",
       "      <th>B</th>\n",
       "      <th>C</th>\n",
       "      <th>D</th>\n",
       "    </tr>\n",
       "  </thead>\n",
       "  <tbody>\n",
       "    <tr>\n",
       "      <th>0</th>\n",
       "      <td>-0.880511</td>\n",
       "      <td>-0.040621</td>\n",
       "      <td>-0.737318</td>\n",
       "      <td>-0.409413</td>\n",
       "    </tr>\n",
       "    <tr>\n",
       "      <th>1</th>\n",
       "      <td>1.454680</td>\n",
       "      <td>0.642551</td>\n",
       "      <td>1.209428</td>\n",
       "      <td>-0.218168</td>\n",
       "    </tr>\n",
       "    <tr>\n",
       "      <th>2</th>\n",
       "      <td>0.458532</td>\n",
       "      <td>0.149549</td>\n",
       "      <td>-0.805912</td>\n",
       "      <td>1.114483</td>\n",
       "    </tr>\n",
       "    <tr>\n",
       "      <th>3</th>\n",
       "      <td>-0.300576</td>\n",
       "      <td>0.490459</td>\n",
       "      <td>0.487676</td>\n",
       "      <td>-0.129554</td>\n",
       "    </tr>\n",
       "    <tr>\n",
       "      <th>4</th>\n",
       "      <td>0.942460</td>\n",
       "      <td>-0.582720</td>\n",
       "      <td>-1.806407</td>\n",
       "      <td>0.922623</td>\n",
       "    </tr>\n",
       "  </tbody>\n",
       "</table>\n",
       "</div>"
      ],
      "text/plain": [
       "          A         B         C         D\n",
       "0 -0.880511 -0.040621 -0.737318 -0.409413\n",
       "1  1.454680  0.642551  1.209428 -0.218168\n",
       "2  0.458532  0.149549 -0.805912  1.114483\n",
       "3 -0.300576  0.490459  0.487676 -0.129554\n",
       "4  0.942460 -0.582720 -1.806407  0.922623"
      ]
     },
     "execution_count": 7,
     "metadata": {},
     "output_type": "execute_result"
    }
   ],
   "source": [
    "df.head()"
   ]
  },
  {
   "cell_type": "code",
   "execution_count": 8,
   "metadata": {},
   "outputs": [],
   "source": [
    "df2 = pd.DataFrame({'Category':['A','B','C'],'Values':[32,43,50]})"
   ]
  },
  {
   "cell_type": "code",
   "execution_count": 9,
   "metadata": {},
   "outputs": [
    {
     "data": {
      "text/html": [
       "<div>\n",
       "<style scoped>\n",
       "    .dataframe tbody tr th:only-of-type {\n",
       "        vertical-align: middle;\n",
       "    }\n",
       "\n",
       "    .dataframe tbody tr th {\n",
       "        vertical-align: top;\n",
       "    }\n",
       "\n",
       "    .dataframe thead th {\n",
       "        text-align: right;\n",
       "    }\n",
       "</style>\n",
       "<table border=\"1\" class=\"dataframe\">\n",
       "  <thead>\n",
       "    <tr style=\"text-align: right;\">\n",
       "      <th></th>\n",
       "      <th>Category</th>\n",
       "      <th>Values</th>\n",
       "    </tr>\n",
       "  </thead>\n",
       "  <tbody>\n",
       "    <tr>\n",
       "      <th>0</th>\n",
       "      <td>A</td>\n",
       "      <td>32</td>\n",
       "    </tr>\n",
       "    <tr>\n",
       "      <th>1</th>\n",
       "      <td>B</td>\n",
       "      <td>43</td>\n",
       "    </tr>\n",
       "    <tr>\n",
       "      <th>2</th>\n",
       "      <td>C</td>\n",
       "      <td>50</td>\n",
       "    </tr>\n",
       "  </tbody>\n",
       "</table>\n",
       "</div>"
      ],
      "text/plain": [
       "  Category  Values\n",
       "0        A      32\n",
       "1        B      43\n",
       "2        C      50"
      ]
     },
     "execution_count": 9,
     "metadata": {},
     "output_type": "execute_result"
    }
   ],
   "source": [
    "df2.head()"
   ]
  },
  {
   "cell_type": "markdown",
   "metadata": {},
   "source": [
    "## Using Cufflinks and iplot()\n",
    "\n",
    "* scatter\n",
    "* bar\n",
    "* box\n",
    "* spread\n",
    "* ratio\n",
    "* heatmap\n",
    "* surface\n",
    "* histogram\n",
    "* bubble"
   ]
  },
  {
   "cell_type": "markdown",
   "metadata": {},
   "source": [
    "## Scatter"
   ]
  },
  {
   "cell_type": "code",
   "execution_count": 10,
   "metadata": {},
   "outputs": [
    {
     "data": {
      "application/vnd.plotly.v1+json": {
       "config": {
        "linkText": "Export to plot.ly",
        "plotlyServerURL": "https://plot.ly",
        "showLink": true
       },
       "data": [
        {
         "line": {
          "color": "rgba(255, 153, 51, 1.0)",
          "dash": "solid",
          "shape": "linear",
          "width": 1.3
         },
         "marker": {
          "size": 10,
          "symbol": "circle"
         },
         "mode": "markers",
         "name": "B",
         "text": "",
         "type": "scatter",
         "x": [
          -0.8805112749273397,
          1.4546803047490493,
          0.45853165741418406,
          -0.3005759439371258,
          0.9424598261557191,
          0.19201853912783895,
          0.128732384353252,
          -1.1246631977459849,
          1.004559436801384,
          -0.019433001305279293,
          0.8743710434087673,
          1.266547392168914,
          -0.013290881499199495,
          1.2146231112105121,
          0.9026519074182962,
          -0.25852503161661794,
          0.06350722196103391,
          0.061319066665640985,
          0.6826923694271695,
          0.6571582828505825,
          -0.6394539760429969,
          -0.3873354829211536,
          -1.275992785163112,
          -0.9049553682456588,
          0.39140151388641575,
          -1.3261717503652508,
          -0.11176379848313447,
          0.12996215884278603,
          -0.4992525292514862,
          -0.3757696877819027,
          1.8950234573743023,
          -1.9806901072377638,
          -0.23372785694788464,
          -0.8724008970677714,
          -0.34295179012678584,
          0.5427956937168907,
          1.1566492382180327,
          1.3326192990291548,
          -3.338998968955712,
          -1.1091125681635465,
          -1.3795235178695933,
          -1.1995158314131806,
          1.8271736655576276,
          -1.6994936600219739,
          -1.6145550438467797,
          0.9643249901269011,
          0.18191869225186177,
          1.067698235546503,
          -2.1762174829824414,
          0.6125575233486188,
          0.36338752339594443,
          0.30630912374155744,
          0.10269690778525375,
          -0.23617787136845161,
          0.29204680294836505,
          -1.532545565777484,
          0.8019566260245036,
          0.008843763923224425,
          -0.42653027037276425,
          0.28462913192626726,
          0.33580872462837,
          0.09094416649994692,
          -2.105854750180177,
          -2.423062150710898,
          -0.6026419962151889,
          0.4283091936814125,
          -1.178494121002894,
          -0.5400337459898417,
          0.9880569653816528,
          -1.1816843048036256,
          0.08603326565887974,
          1.7909142535972238,
          1.2309346264188081,
          -1.8196369817643112,
          -0.42081030328553204,
          -1.5186485358520676,
          -0.35265366574837465,
          -0.045581613031547445,
          -0.20430067627555923,
          0.5409643956030542,
          -0.41286664820958746,
          0.3410783944367214,
          -0.05382582690926376,
          -1.7286105233045104,
          -3.3274176052282987,
          -0.31580923857082854,
          -0.0022477885108969434,
          -0.7399373198141854,
          -1.0496008215922419,
          -0.018198058774143547,
          0.009171190217878636,
          -0.4359682580386698,
          -1.004700100123502,
          -1.1230110350456142,
          2.1312832353333366,
          2.1284473689005625,
          0.7196357631601891,
          0.35387350270156964,
          -0.7575764541103952,
          0.05885429630124914
         ],
         "y": [
          -0.040620682752938356,
          0.6425512540068671,
          0.14954889475613145,
          0.49045887473164235,
          -0.5827195860487148,
          -0.13496047818515644,
          -0.9893694661713424,
          0.07739330554695359,
          1.2774594950431841,
          0.9051893198035333,
          0.43346916701428506,
          -0.8306833793111323,
          -1.3092321307066412,
          1.4813037309002575,
          -0.34839072009165795,
          -2.5934705048348343,
          1.2081323105876758,
          -0.09907281821256546,
          0.9136907908933014,
          -0.12432182626363361,
          0.925676795487707,
          -0.09977335171951576,
          1.4892365866941903,
          -0.8429186160540141,
          -0.3025715984088873,
          0.2679478968963423,
          0.56905456426694,
          0.2941970762016016,
          1.3056771575832564,
          -1.7443669852439025,
          -0.28515992298943627,
          -0.5145847265601052,
          0.035708484457847633,
          1.627107409135958,
          0.5335426874062241,
          -1.3189437705400466,
          0.02713630906105749,
          -0.038583607971776374,
          -0.5859905137239353,
          -1.2177623765108856,
          0.4515652168570346,
          -0.965931380122257,
          0.23111129390548757,
          0.3898620573440986,
          0.07476211856250009,
          0.32798815670390036,
          -0.9908999331121211,
          -0.3651869892093611,
          -0.007334796306520177,
          0.6839228452193726,
          2.1371650254650323,
          0.6489511031859807,
          -0.0012767696323471123,
          0.278889171030196,
          -0.33165140572707336,
          -0.5680326867475078,
          -0.5415757221815488,
          -0.7935480405004463,
          2.0211246678010775,
          -0.8997668043881036,
          0.3324242707696821,
          0.026734950348676796,
          1.1922255118347185,
          -0.7697899008768124,
          0.44790487649560123,
          0.0939673325457032,
          2.1821417801637426,
          0.774139202896262,
          0.517067398756495,
          0.11010871823609361,
          -0.16470198410872866,
          0.49069038348064636,
          1.4607640667920616,
          0.20981002442152016,
          0.6103777309682441,
          -1.26145508089656,
          -0.13052525017463731,
          0.6092958179619178,
          2.016326021795919,
          1.1692372030554616,
          -0.7226676608429432,
          0.6311301714091945,
          0.27447197998064354,
          -0.22685920767083032,
          -0.3324216234957669,
          0.32721386514126644,
          0.33811135832490846,
          0.10292645064304927,
          1.0746877746327905,
          -0.6545233505727898,
          0.18354641835424212,
          0.18527408763830389,
          -0.38314438999148615,
          -0.6569472338029486,
          0.06183474638568763,
          1.5813137036549005,
          1.5835367596453647,
          1.4283287411040775,
          -2.0300800263880037,
          1.5790161429256748
         ]
        }
       ],
       "layout": {
        "legend": {
         "bgcolor": "#F5F6F9",
         "font": {
          "color": "#4D5663"
         }
        },
        "paper_bgcolor": "#F5F6F9",
        "plot_bgcolor": "#F5F6F9",
        "template": {
         "data": {
          "bar": [
           {
            "error_x": {
             "color": "#2a3f5f"
            },
            "error_y": {
             "color": "#2a3f5f"
            },
            "marker": {
             "line": {
              "color": "#E5ECF6",
              "width": 0.5
             },
             "pattern": {
              "fillmode": "overlay",
              "size": 10,
              "solidity": 0.2
             }
            },
            "type": "bar"
           }
          ],
          "barpolar": [
           {
            "marker": {
             "line": {
              "color": "#E5ECF6",
              "width": 0.5
             },
             "pattern": {
              "fillmode": "overlay",
              "size": 10,
              "solidity": 0.2
             }
            },
            "type": "barpolar"
           }
          ],
          "carpet": [
           {
            "aaxis": {
             "endlinecolor": "#2a3f5f",
             "gridcolor": "white",
             "linecolor": "white",
             "minorgridcolor": "white",
             "startlinecolor": "#2a3f5f"
            },
            "baxis": {
             "endlinecolor": "#2a3f5f",
             "gridcolor": "white",
             "linecolor": "white",
             "minorgridcolor": "white",
             "startlinecolor": "#2a3f5f"
            },
            "type": "carpet"
           }
          ],
          "choropleth": [
           {
            "colorbar": {
             "outlinewidth": 0,
             "ticks": ""
            },
            "type": "choropleth"
           }
          ],
          "contour": [
           {
            "colorbar": {
             "outlinewidth": 0,
             "ticks": ""
            },
            "colorscale": [
             [
              0,
              "#0d0887"
             ],
             [
              0.1111111111111111,
              "#46039f"
             ],
             [
              0.2222222222222222,
              "#7201a8"
             ],
             [
              0.3333333333333333,
              "#9c179e"
             ],
             [
              0.4444444444444444,
              "#bd3786"
             ],
             [
              0.5555555555555556,
              "#d8576b"
             ],
             [
              0.6666666666666666,
              "#ed7953"
             ],
             [
              0.7777777777777778,
              "#fb9f3a"
             ],
             [
              0.8888888888888888,
              "#fdca26"
             ],
             [
              1,
              "#f0f921"
             ]
            ],
            "type": "contour"
           }
          ],
          "contourcarpet": [
           {
            "colorbar": {
             "outlinewidth": 0,
             "ticks": ""
            },
            "type": "contourcarpet"
           }
          ],
          "heatmap": [
           {
            "colorbar": {
             "outlinewidth": 0,
             "ticks": ""
            },
            "colorscale": [
             [
              0,
              "#0d0887"
             ],
             [
              0.1111111111111111,
              "#46039f"
             ],
             [
              0.2222222222222222,
              "#7201a8"
             ],
             [
              0.3333333333333333,
              "#9c179e"
             ],
             [
              0.4444444444444444,
              "#bd3786"
             ],
             [
              0.5555555555555556,
              "#d8576b"
             ],
             [
              0.6666666666666666,
              "#ed7953"
             ],
             [
              0.7777777777777778,
              "#fb9f3a"
             ],
             [
              0.8888888888888888,
              "#fdca26"
             ],
             [
              1,
              "#f0f921"
             ]
            ],
            "type": "heatmap"
           }
          ],
          "heatmapgl": [
           {
            "colorbar": {
             "outlinewidth": 0,
             "ticks": ""
            },
            "colorscale": [
             [
              0,
              "#0d0887"
             ],
             [
              0.1111111111111111,
              "#46039f"
             ],
             [
              0.2222222222222222,
              "#7201a8"
             ],
             [
              0.3333333333333333,
              "#9c179e"
             ],
             [
              0.4444444444444444,
              "#bd3786"
             ],
             [
              0.5555555555555556,
              "#d8576b"
             ],
             [
              0.6666666666666666,
              "#ed7953"
             ],
             [
              0.7777777777777778,
              "#fb9f3a"
             ],
             [
              0.8888888888888888,
              "#fdca26"
             ],
             [
              1,
              "#f0f921"
             ]
            ],
            "type": "heatmapgl"
           }
          ],
          "histogram": [
           {
            "marker": {
             "pattern": {
              "fillmode": "overlay",
              "size": 10,
              "solidity": 0.2
             }
            },
            "type": "histogram"
           }
          ],
          "histogram2d": [
           {
            "colorbar": {
             "outlinewidth": 0,
             "ticks": ""
            },
            "colorscale": [
             [
              0,
              "#0d0887"
             ],
             [
              0.1111111111111111,
              "#46039f"
             ],
             [
              0.2222222222222222,
              "#7201a8"
             ],
             [
              0.3333333333333333,
              "#9c179e"
             ],
             [
              0.4444444444444444,
              "#bd3786"
             ],
             [
              0.5555555555555556,
              "#d8576b"
             ],
             [
              0.6666666666666666,
              "#ed7953"
             ],
             [
              0.7777777777777778,
              "#fb9f3a"
             ],
             [
              0.8888888888888888,
              "#fdca26"
             ],
             [
              1,
              "#f0f921"
             ]
            ],
            "type": "histogram2d"
           }
          ],
          "histogram2dcontour": [
           {
            "colorbar": {
             "outlinewidth": 0,
             "ticks": ""
            },
            "colorscale": [
             [
              0,
              "#0d0887"
             ],
             [
              0.1111111111111111,
              "#46039f"
             ],
             [
              0.2222222222222222,
              "#7201a8"
             ],
             [
              0.3333333333333333,
              "#9c179e"
             ],
             [
              0.4444444444444444,
              "#bd3786"
             ],
             [
              0.5555555555555556,
              "#d8576b"
             ],
             [
              0.6666666666666666,
              "#ed7953"
             ],
             [
              0.7777777777777778,
              "#fb9f3a"
             ],
             [
              0.8888888888888888,
              "#fdca26"
             ],
             [
              1,
              "#f0f921"
             ]
            ],
            "type": "histogram2dcontour"
           }
          ],
          "mesh3d": [
           {
            "colorbar": {
             "outlinewidth": 0,
             "ticks": ""
            },
            "type": "mesh3d"
           }
          ],
          "parcoords": [
           {
            "line": {
             "colorbar": {
              "outlinewidth": 0,
              "ticks": ""
             }
            },
            "type": "parcoords"
           }
          ],
          "pie": [
           {
            "automargin": true,
            "type": "pie"
           }
          ],
          "scatter": [
           {
            "fillpattern": {
             "fillmode": "overlay",
             "size": 10,
             "solidity": 0.2
            },
            "type": "scatter"
           }
          ],
          "scatter3d": [
           {
            "line": {
             "colorbar": {
              "outlinewidth": 0,
              "ticks": ""
             }
            },
            "marker": {
             "colorbar": {
              "outlinewidth": 0,
              "ticks": ""
             }
            },
            "type": "scatter3d"
           }
          ],
          "scattercarpet": [
           {
            "marker": {
             "colorbar": {
              "outlinewidth": 0,
              "ticks": ""
             }
            },
            "type": "scattercarpet"
           }
          ],
          "scattergeo": [
           {
            "marker": {
             "colorbar": {
              "outlinewidth": 0,
              "ticks": ""
             }
            },
            "type": "scattergeo"
           }
          ],
          "scattergl": [
           {
            "marker": {
             "colorbar": {
              "outlinewidth": 0,
              "ticks": ""
             }
            },
            "type": "scattergl"
           }
          ],
          "scattermapbox": [
           {
            "marker": {
             "colorbar": {
              "outlinewidth": 0,
              "ticks": ""
             }
            },
            "type": "scattermapbox"
           }
          ],
          "scatterpolar": [
           {
            "marker": {
             "colorbar": {
              "outlinewidth": 0,
              "ticks": ""
             }
            },
            "type": "scatterpolar"
           }
          ],
          "scatterpolargl": [
           {
            "marker": {
             "colorbar": {
              "outlinewidth": 0,
              "ticks": ""
             }
            },
            "type": "scatterpolargl"
           }
          ],
          "scatterternary": [
           {
            "marker": {
             "colorbar": {
              "outlinewidth": 0,
              "ticks": ""
             }
            },
            "type": "scatterternary"
           }
          ],
          "surface": [
           {
            "colorbar": {
             "outlinewidth": 0,
             "ticks": ""
            },
            "colorscale": [
             [
              0,
              "#0d0887"
             ],
             [
              0.1111111111111111,
              "#46039f"
             ],
             [
              0.2222222222222222,
              "#7201a8"
             ],
             [
              0.3333333333333333,
              "#9c179e"
             ],
             [
              0.4444444444444444,
              "#bd3786"
             ],
             [
              0.5555555555555556,
              "#d8576b"
             ],
             [
              0.6666666666666666,
              "#ed7953"
             ],
             [
              0.7777777777777778,
              "#fb9f3a"
             ],
             [
              0.8888888888888888,
              "#fdca26"
             ],
             [
              1,
              "#f0f921"
             ]
            ],
            "type": "surface"
           }
          ],
          "table": [
           {
            "cells": {
             "fill": {
              "color": "#EBF0F8"
             },
             "line": {
              "color": "white"
             }
            },
            "header": {
             "fill": {
              "color": "#C8D4E3"
             },
             "line": {
              "color": "white"
             }
            },
            "type": "table"
           }
          ]
         },
         "layout": {
          "annotationdefaults": {
           "arrowcolor": "#2a3f5f",
           "arrowhead": 0,
           "arrowwidth": 1
          },
          "autotypenumbers": "strict",
          "coloraxis": {
           "colorbar": {
            "outlinewidth": 0,
            "ticks": ""
           }
          },
          "colorscale": {
           "diverging": [
            [
             0,
             "#8e0152"
            ],
            [
             0.1,
             "#c51b7d"
            ],
            [
             0.2,
             "#de77ae"
            ],
            [
             0.3,
             "#f1b6da"
            ],
            [
             0.4,
             "#fde0ef"
            ],
            [
             0.5,
             "#f7f7f7"
            ],
            [
             0.6,
             "#e6f5d0"
            ],
            [
             0.7,
             "#b8e186"
            ],
            [
             0.8,
             "#7fbc41"
            ],
            [
             0.9,
             "#4d9221"
            ],
            [
             1,
             "#276419"
            ]
           ],
           "sequential": [
            [
             0,
             "#0d0887"
            ],
            [
             0.1111111111111111,
             "#46039f"
            ],
            [
             0.2222222222222222,
             "#7201a8"
            ],
            [
             0.3333333333333333,
             "#9c179e"
            ],
            [
             0.4444444444444444,
             "#bd3786"
            ],
            [
             0.5555555555555556,
             "#d8576b"
            ],
            [
             0.6666666666666666,
             "#ed7953"
            ],
            [
             0.7777777777777778,
             "#fb9f3a"
            ],
            [
             0.8888888888888888,
             "#fdca26"
            ],
            [
             1,
             "#f0f921"
            ]
           ],
           "sequentialminus": [
            [
             0,
             "#0d0887"
            ],
            [
             0.1111111111111111,
             "#46039f"
            ],
            [
             0.2222222222222222,
             "#7201a8"
            ],
            [
             0.3333333333333333,
             "#9c179e"
            ],
            [
             0.4444444444444444,
             "#bd3786"
            ],
            [
             0.5555555555555556,
             "#d8576b"
            ],
            [
             0.6666666666666666,
             "#ed7953"
            ],
            [
             0.7777777777777778,
             "#fb9f3a"
            ],
            [
             0.8888888888888888,
             "#fdca26"
            ],
            [
             1,
             "#f0f921"
            ]
           ]
          },
          "colorway": [
           "#636efa",
           "#EF553B",
           "#00cc96",
           "#ab63fa",
           "#FFA15A",
           "#19d3f3",
           "#FF6692",
           "#B6E880",
           "#FF97FF",
           "#FECB52"
          ],
          "font": {
           "color": "#2a3f5f"
          },
          "geo": {
           "bgcolor": "white",
           "lakecolor": "white",
           "landcolor": "#E5ECF6",
           "showlakes": true,
           "showland": true,
           "subunitcolor": "white"
          },
          "hoverlabel": {
           "align": "left"
          },
          "hovermode": "closest",
          "mapbox": {
           "style": "light"
          },
          "paper_bgcolor": "white",
          "plot_bgcolor": "#E5ECF6",
          "polar": {
           "angularaxis": {
            "gridcolor": "white",
            "linecolor": "white",
            "ticks": ""
           },
           "bgcolor": "#E5ECF6",
           "radialaxis": {
            "gridcolor": "white",
            "linecolor": "white",
            "ticks": ""
           }
          },
          "scene": {
           "xaxis": {
            "backgroundcolor": "#E5ECF6",
            "gridcolor": "white",
            "gridwidth": 2,
            "linecolor": "white",
            "showbackground": true,
            "ticks": "",
            "zerolinecolor": "white"
           },
           "yaxis": {
            "backgroundcolor": "#E5ECF6",
            "gridcolor": "white",
            "gridwidth": 2,
            "linecolor": "white",
            "showbackground": true,
            "ticks": "",
            "zerolinecolor": "white"
           },
           "zaxis": {
            "backgroundcolor": "#E5ECF6",
            "gridcolor": "white",
            "gridwidth": 2,
            "linecolor": "white",
            "showbackground": true,
            "ticks": "",
            "zerolinecolor": "white"
           }
          },
          "shapedefaults": {
           "line": {
            "color": "#2a3f5f"
           }
          },
          "ternary": {
           "aaxis": {
            "gridcolor": "white",
            "linecolor": "white",
            "ticks": ""
           },
           "baxis": {
            "gridcolor": "white",
            "linecolor": "white",
            "ticks": ""
           },
           "bgcolor": "#E5ECF6",
           "caxis": {
            "gridcolor": "white",
            "linecolor": "white",
            "ticks": ""
           }
          },
          "title": {
           "x": 0.05
          },
          "xaxis": {
           "automargin": true,
           "gridcolor": "white",
           "linecolor": "white",
           "ticks": "",
           "title": {
            "standoff": 15
           },
           "zerolinecolor": "white",
           "zerolinewidth": 2
          },
          "yaxis": {
           "automargin": true,
           "gridcolor": "white",
           "linecolor": "white",
           "ticks": "",
           "title": {
            "standoff": 15
           },
           "zerolinecolor": "white",
           "zerolinewidth": 2
          }
         }
        },
        "title": {
         "font": {
          "color": "#4D5663"
         }
        },
        "xaxis": {
         "gridcolor": "#E1E5ED",
         "showgrid": true,
         "tickfont": {
          "color": "#4D5663"
         },
         "title": {
          "font": {
           "color": "#4D5663"
          },
          "text": ""
         },
         "zerolinecolor": "#E1E5ED"
        },
        "yaxis": {
         "gridcolor": "#E1E5ED",
         "showgrid": true,
         "tickfont": {
          "color": "#4D5663"
         },
         "title": {
          "font": {
           "color": "#4D5663"
          },
          "text": ""
         },
         "zerolinecolor": "#E1E5ED"
        }
       }
      },
      "text/html": [
       "<div>                            <div id=\"02f49047-628e-4647-b532-0256a2f9006b\" class=\"plotly-graph-div\" style=\"height:525px; width:100%;\"></div>            <script type=\"text/javascript\">                require([\"plotly\"], function(Plotly) {                    window.PLOTLYENV=window.PLOTLYENV || {};\n",
       "                    window.PLOTLYENV.BASE_URL='https://plot.ly';                                    if (document.getElementById(\"02f49047-628e-4647-b532-0256a2f9006b\")) {                    Plotly.newPlot(                        \"02f49047-628e-4647-b532-0256a2f9006b\",                        [{\"line\":{\"color\":\"rgba(255, 153, 51, 1.0)\",\"dash\":\"solid\",\"shape\":\"linear\",\"width\":1.3},\"marker\":{\"size\":10,\"symbol\":\"circle\"},\"mode\":\"markers\",\"name\":\"B\",\"text\":\"\",\"x\":[-0.8805112749273397,1.4546803047490493,0.45853165741418406,-0.3005759439371258,0.9424598261557191,0.19201853912783895,0.128732384353252,-1.1246631977459849,1.004559436801384,-0.019433001305279293,0.8743710434087673,1.266547392168914,-0.013290881499199495,1.2146231112105121,0.9026519074182962,-0.25852503161661794,0.06350722196103391,0.061319066665640985,0.6826923694271695,0.6571582828505825,-0.6394539760429969,-0.3873354829211536,-1.275992785163112,-0.9049553682456588,0.39140151388641575,-1.3261717503652508,-0.11176379848313447,0.12996215884278603,-0.4992525292514862,-0.3757696877819027,1.8950234573743023,-1.9806901072377638,-0.23372785694788464,-0.8724008970677714,-0.34295179012678584,0.5427956937168907,1.1566492382180327,1.3326192990291548,-3.338998968955712,-1.1091125681635465,-1.3795235178695933,-1.1995158314131806,1.8271736655576276,-1.6994936600219739,-1.6145550438467797,0.9643249901269011,0.18191869225186177,1.067698235546503,-2.1762174829824414,0.6125575233486188,0.36338752339594443,0.30630912374155744,0.10269690778525375,-0.23617787136845161,0.29204680294836505,-1.532545565777484,0.8019566260245036,0.008843763923224425,-0.42653027037276425,0.28462913192626726,0.33580872462837,0.09094416649994692,-2.105854750180177,-2.423062150710898,-0.6026419962151889,0.4283091936814125,-1.178494121002894,-0.5400337459898417,0.9880569653816528,-1.1816843048036256,0.08603326565887974,1.7909142535972238,1.2309346264188081,-1.8196369817643112,-0.42081030328553204,-1.5186485358520676,-0.35265366574837465,-0.045581613031547445,-0.20430067627555923,0.5409643956030542,-0.41286664820958746,0.3410783944367214,-0.05382582690926376,-1.7286105233045104,-3.3274176052282987,-0.31580923857082854,-0.0022477885108969434,-0.7399373198141854,-1.0496008215922419,-0.018198058774143547,0.009171190217878636,-0.4359682580386698,-1.004700100123502,-1.1230110350456142,2.1312832353333366,2.1284473689005625,0.7196357631601891,0.35387350270156964,-0.7575764541103952,0.05885429630124914],\"y\":[-0.040620682752938356,0.6425512540068671,0.14954889475613145,0.49045887473164235,-0.5827195860487148,-0.13496047818515644,-0.9893694661713424,0.07739330554695359,1.2774594950431841,0.9051893198035333,0.43346916701428506,-0.8306833793111323,-1.3092321307066412,1.4813037309002575,-0.34839072009165795,-2.5934705048348343,1.2081323105876758,-0.09907281821256546,0.9136907908933014,-0.12432182626363361,0.925676795487707,-0.09977335171951576,1.4892365866941903,-0.8429186160540141,-0.3025715984088873,0.2679478968963423,0.56905456426694,0.2941970762016016,1.3056771575832564,-1.7443669852439025,-0.28515992298943627,-0.5145847265601052,0.035708484457847633,1.627107409135958,0.5335426874062241,-1.3189437705400466,0.02713630906105749,-0.038583607971776374,-0.5859905137239353,-1.2177623765108856,0.4515652168570346,-0.965931380122257,0.23111129390548757,0.3898620573440986,0.07476211856250009,0.32798815670390036,-0.9908999331121211,-0.3651869892093611,-0.007334796306520177,0.6839228452193726,2.1371650254650323,0.6489511031859807,-0.0012767696323471123,0.278889171030196,-0.33165140572707336,-0.5680326867475078,-0.5415757221815488,-0.7935480405004463,2.0211246678010775,-0.8997668043881036,0.3324242707696821,0.026734950348676796,1.1922255118347185,-0.7697899008768124,0.44790487649560123,0.0939673325457032,2.1821417801637426,0.774139202896262,0.517067398756495,0.11010871823609361,-0.16470198410872866,0.49069038348064636,1.4607640667920616,0.20981002442152016,0.6103777309682441,-1.26145508089656,-0.13052525017463731,0.6092958179619178,2.016326021795919,1.1692372030554616,-0.7226676608429432,0.6311301714091945,0.27447197998064354,-0.22685920767083032,-0.3324216234957669,0.32721386514126644,0.33811135832490846,0.10292645064304927,1.0746877746327905,-0.6545233505727898,0.18354641835424212,0.18527408763830389,-0.38314438999148615,-0.6569472338029486,0.06183474638568763,1.5813137036549005,1.5835367596453647,1.4283287411040775,-2.0300800263880037,1.5790161429256748],\"type\":\"scatter\"}],                        {\"legend\":{\"bgcolor\":\"#F5F6F9\",\"font\":{\"color\":\"#4D5663\"}},\"paper_bgcolor\":\"#F5F6F9\",\"plot_bgcolor\":\"#F5F6F9\",\"template\":{\"data\":{\"barpolar\":[{\"marker\":{\"line\":{\"color\":\"#E5ECF6\",\"width\":0.5},\"pattern\":{\"fillmode\":\"overlay\",\"size\":10,\"solidity\":0.2}},\"type\":\"barpolar\"}],\"bar\":[{\"error_x\":{\"color\":\"#2a3f5f\"},\"error_y\":{\"color\":\"#2a3f5f\"},\"marker\":{\"line\":{\"color\":\"#E5ECF6\",\"width\":0.5},\"pattern\":{\"fillmode\":\"overlay\",\"size\":10,\"solidity\":0.2}},\"type\":\"bar\"}],\"carpet\":[{\"aaxis\":{\"endlinecolor\":\"#2a3f5f\",\"gridcolor\":\"white\",\"linecolor\":\"white\",\"minorgridcolor\":\"white\",\"startlinecolor\":\"#2a3f5f\"},\"baxis\":{\"endlinecolor\":\"#2a3f5f\",\"gridcolor\":\"white\",\"linecolor\":\"white\",\"minorgridcolor\":\"white\",\"startlinecolor\":\"#2a3f5f\"},\"type\":\"carpet\"}],\"choropleth\":[{\"colorbar\":{\"outlinewidth\":0,\"ticks\":\"\"},\"type\":\"choropleth\"}],\"contourcarpet\":[{\"colorbar\":{\"outlinewidth\":0,\"ticks\":\"\"},\"type\":\"contourcarpet\"}],\"contour\":[{\"colorbar\":{\"outlinewidth\":0,\"ticks\":\"\"},\"colorscale\":[[0.0,\"#0d0887\"],[0.1111111111111111,\"#46039f\"],[0.2222222222222222,\"#7201a8\"],[0.3333333333333333,\"#9c179e\"],[0.4444444444444444,\"#bd3786\"],[0.5555555555555556,\"#d8576b\"],[0.6666666666666666,\"#ed7953\"],[0.7777777777777778,\"#fb9f3a\"],[0.8888888888888888,\"#fdca26\"],[1.0,\"#f0f921\"]],\"type\":\"contour\"}],\"heatmapgl\":[{\"colorbar\":{\"outlinewidth\":0,\"ticks\":\"\"},\"colorscale\":[[0.0,\"#0d0887\"],[0.1111111111111111,\"#46039f\"],[0.2222222222222222,\"#7201a8\"],[0.3333333333333333,\"#9c179e\"],[0.4444444444444444,\"#bd3786\"],[0.5555555555555556,\"#d8576b\"],[0.6666666666666666,\"#ed7953\"],[0.7777777777777778,\"#fb9f3a\"],[0.8888888888888888,\"#fdca26\"],[1.0,\"#f0f921\"]],\"type\":\"heatmapgl\"}],\"heatmap\":[{\"colorbar\":{\"outlinewidth\":0,\"ticks\":\"\"},\"colorscale\":[[0.0,\"#0d0887\"],[0.1111111111111111,\"#46039f\"],[0.2222222222222222,\"#7201a8\"],[0.3333333333333333,\"#9c179e\"],[0.4444444444444444,\"#bd3786\"],[0.5555555555555556,\"#d8576b\"],[0.6666666666666666,\"#ed7953\"],[0.7777777777777778,\"#fb9f3a\"],[0.8888888888888888,\"#fdca26\"],[1.0,\"#f0f921\"]],\"type\":\"heatmap\"}],\"histogram2dcontour\":[{\"colorbar\":{\"outlinewidth\":0,\"ticks\":\"\"},\"colorscale\":[[0.0,\"#0d0887\"],[0.1111111111111111,\"#46039f\"],[0.2222222222222222,\"#7201a8\"],[0.3333333333333333,\"#9c179e\"],[0.4444444444444444,\"#bd3786\"],[0.5555555555555556,\"#d8576b\"],[0.6666666666666666,\"#ed7953\"],[0.7777777777777778,\"#fb9f3a\"],[0.8888888888888888,\"#fdca26\"],[1.0,\"#f0f921\"]],\"type\":\"histogram2dcontour\"}],\"histogram2d\":[{\"colorbar\":{\"outlinewidth\":0,\"ticks\":\"\"},\"colorscale\":[[0.0,\"#0d0887\"],[0.1111111111111111,\"#46039f\"],[0.2222222222222222,\"#7201a8\"],[0.3333333333333333,\"#9c179e\"],[0.4444444444444444,\"#bd3786\"],[0.5555555555555556,\"#d8576b\"],[0.6666666666666666,\"#ed7953\"],[0.7777777777777778,\"#fb9f3a\"],[0.8888888888888888,\"#fdca26\"],[1.0,\"#f0f921\"]],\"type\":\"histogram2d\"}],\"histogram\":[{\"marker\":{\"pattern\":{\"fillmode\":\"overlay\",\"size\":10,\"solidity\":0.2}},\"type\":\"histogram\"}],\"mesh3d\":[{\"colorbar\":{\"outlinewidth\":0,\"ticks\":\"\"},\"type\":\"mesh3d\"}],\"parcoords\":[{\"line\":{\"colorbar\":{\"outlinewidth\":0,\"ticks\":\"\"}},\"type\":\"parcoords\"}],\"pie\":[{\"automargin\":true,\"type\":\"pie\"}],\"scatter3d\":[{\"line\":{\"colorbar\":{\"outlinewidth\":0,\"ticks\":\"\"}},\"marker\":{\"colorbar\":{\"outlinewidth\":0,\"ticks\":\"\"}},\"type\":\"scatter3d\"}],\"scattercarpet\":[{\"marker\":{\"colorbar\":{\"outlinewidth\":0,\"ticks\":\"\"}},\"type\":\"scattercarpet\"}],\"scattergeo\":[{\"marker\":{\"colorbar\":{\"outlinewidth\":0,\"ticks\":\"\"}},\"type\":\"scattergeo\"}],\"scattergl\":[{\"marker\":{\"colorbar\":{\"outlinewidth\":0,\"ticks\":\"\"}},\"type\":\"scattergl\"}],\"scattermapbox\":[{\"marker\":{\"colorbar\":{\"outlinewidth\":0,\"ticks\":\"\"}},\"type\":\"scattermapbox\"}],\"scatterpolargl\":[{\"marker\":{\"colorbar\":{\"outlinewidth\":0,\"ticks\":\"\"}},\"type\":\"scatterpolargl\"}],\"scatterpolar\":[{\"marker\":{\"colorbar\":{\"outlinewidth\":0,\"ticks\":\"\"}},\"type\":\"scatterpolar\"}],\"scatter\":[{\"fillpattern\":{\"fillmode\":\"overlay\",\"size\":10,\"solidity\":0.2},\"type\":\"scatter\"}],\"scatterternary\":[{\"marker\":{\"colorbar\":{\"outlinewidth\":0,\"ticks\":\"\"}},\"type\":\"scatterternary\"}],\"surface\":[{\"colorbar\":{\"outlinewidth\":0,\"ticks\":\"\"},\"colorscale\":[[0.0,\"#0d0887\"],[0.1111111111111111,\"#46039f\"],[0.2222222222222222,\"#7201a8\"],[0.3333333333333333,\"#9c179e\"],[0.4444444444444444,\"#bd3786\"],[0.5555555555555556,\"#d8576b\"],[0.6666666666666666,\"#ed7953\"],[0.7777777777777778,\"#fb9f3a\"],[0.8888888888888888,\"#fdca26\"],[1.0,\"#f0f921\"]],\"type\":\"surface\"}],\"table\":[{\"cells\":{\"fill\":{\"color\":\"#EBF0F8\"},\"line\":{\"color\":\"white\"}},\"header\":{\"fill\":{\"color\":\"#C8D4E3\"},\"line\":{\"color\":\"white\"}},\"type\":\"table\"}]},\"layout\":{\"annotationdefaults\":{\"arrowcolor\":\"#2a3f5f\",\"arrowhead\":0,\"arrowwidth\":1},\"autotypenumbers\":\"strict\",\"coloraxis\":{\"colorbar\":{\"outlinewidth\":0,\"ticks\":\"\"}},\"colorscale\":{\"diverging\":[[0,\"#8e0152\"],[0.1,\"#c51b7d\"],[0.2,\"#de77ae\"],[0.3,\"#f1b6da\"],[0.4,\"#fde0ef\"],[0.5,\"#f7f7f7\"],[0.6,\"#e6f5d0\"],[0.7,\"#b8e186\"],[0.8,\"#7fbc41\"],[0.9,\"#4d9221\"],[1,\"#276419\"]],\"sequential\":[[0.0,\"#0d0887\"],[0.1111111111111111,\"#46039f\"],[0.2222222222222222,\"#7201a8\"],[0.3333333333333333,\"#9c179e\"],[0.4444444444444444,\"#bd3786\"],[0.5555555555555556,\"#d8576b\"],[0.6666666666666666,\"#ed7953\"],[0.7777777777777778,\"#fb9f3a\"],[0.8888888888888888,\"#fdca26\"],[1.0,\"#f0f921\"]],\"sequentialminus\":[[0.0,\"#0d0887\"],[0.1111111111111111,\"#46039f\"],[0.2222222222222222,\"#7201a8\"],[0.3333333333333333,\"#9c179e\"],[0.4444444444444444,\"#bd3786\"],[0.5555555555555556,\"#d8576b\"],[0.6666666666666666,\"#ed7953\"],[0.7777777777777778,\"#fb9f3a\"],[0.8888888888888888,\"#fdca26\"],[1.0,\"#f0f921\"]]},\"colorway\":[\"#636efa\",\"#EF553B\",\"#00cc96\",\"#ab63fa\",\"#FFA15A\",\"#19d3f3\",\"#FF6692\",\"#B6E880\",\"#FF97FF\",\"#FECB52\"],\"font\":{\"color\":\"#2a3f5f\"},\"geo\":{\"bgcolor\":\"white\",\"lakecolor\":\"white\",\"landcolor\":\"#E5ECF6\",\"showlakes\":true,\"showland\":true,\"subunitcolor\":\"white\"},\"hoverlabel\":{\"align\":\"left\"},\"hovermode\":\"closest\",\"mapbox\":{\"style\":\"light\"},\"paper_bgcolor\":\"white\",\"plot_bgcolor\":\"#E5ECF6\",\"polar\":{\"angularaxis\":{\"gridcolor\":\"white\",\"linecolor\":\"white\",\"ticks\":\"\"},\"bgcolor\":\"#E5ECF6\",\"radialaxis\":{\"gridcolor\":\"white\",\"linecolor\":\"white\",\"ticks\":\"\"}},\"scene\":{\"xaxis\":{\"backgroundcolor\":\"#E5ECF6\",\"gridcolor\":\"white\",\"gridwidth\":2,\"linecolor\":\"white\",\"showbackground\":true,\"ticks\":\"\",\"zerolinecolor\":\"white\"},\"yaxis\":{\"backgroundcolor\":\"#E5ECF6\",\"gridcolor\":\"white\",\"gridwidth\":2,\"linecolor\":\"white\",\"showbackground\":true,\"ticks\":\"\",\"zerolinecolor\":\"white\"},\"zaxis\":{\"backgroundcolor\":\"#E5ECF6\",\"gridcolor\":\"white\",\"gridwidth\":2,\"linecolor\":\"white\",\"showbackground\":true,\"ticks\":\"\",\"zerolinecolor\":\"white\"}},\"shapedefaults\":{\"line\":{\"color\":\"#2a3f5f\"}},\"ternary\":{\"aaxis\":{\"gridcolor\":\"white\",\"linecolor\":\"white\",\"ticks\":\"\"},\"baxis\":{\"gridcolor\":\"white\",\"linecolor\":\"white\",\"ticks\":\"\"},\"bgcolor\":\"#E5ECF6\",\"caxis\":{\"gridcolor\":\"white\",\"linecolor\":\"white\",\"ticks\":\"\"}},\"title\":{\"x\":0.05},\"xaxis\":{\"automargin\":true,\"gridcolor\":\"white\",\"linecolor\":\"white\",\"ticks\":\"\",\"title\":{\"standoff\":15},\"zerolinecolor\":\"white\",\"zerolinewidth\":2},\"yaxis\":{\"automargin\":true,\"gridcolor\":\"white\",\"linecolor\":\"white\",\"ticks\":\"\",\"title\":{\"standoff\":15},\"zerolinecolor\":\"white\",\"zerolinewidth\":2}}},\"title\":{\"font\":{\"color\":\"#4D5663\"}},\"xaxis\":{\"gridcolor\":\"#E1E5ED\",\"showgrid\":true,\"tickfont\":{\"color\":\"#4D5663\"},\"title\":{\"font\":{\"color\":\"#4D5663\"},\"text\":\"\"},\"zerolinecolor\":\"#E1E5ED\"},\"yaxis\":{\"gridcolor\":\"#E1E5ED\",\"showgrid\":true,\"tickfont\":{\"color\":\"#4D5663\"},\"title\":{\"font\":{\"color\":\"#4D5663\"},\"text\":\"\"},\"zerolinecolor\":\"#E1E5ED\"}},                        {\"showLink\": true, \"linkText\": \"Export to plot.ly\", \"plotlyServerURL\": \"https://plot.ly\", \"responsive\": true}                    ).then(function(){\n",
       "                            \n",
       "var gd = document.getElementById('02f49047-628e-4647-b532-0256a2f9006b');\n",
       "var x = new MutationObserver(function (mutations, observer) {{\n",
       "        var display = window.getComputedStyle(gd).display;\n",
       "        if (!display || display === 'none') {{\n",
       "            console.log([gd, 'removed!']);\n",
       "            Plotly.purge(gd);\n",
       "            observer.disconnect();\n",
       "        }}\n",
       "}});\n",
       "\n",
       "// Listen for the removal of the full notebook cells\n",
       "var notebookContainer = gd.closest('#notebook-container');\n",
       "if (notebookContainer) {{\n",
       "    x.observe(notebookContainer, {childList: true});\n",
       "}}\n",
       "\n",
       "// Listen for the clearing of the current output cell\n",
       "var outputEl = gd.closest('.output');\n",
       "if (outputEl) {{\n",
       "    x.observe(outputEl, {childList: true});\n",
       "}}\n",
       "\n",
       "                        })                };                });            </script>        </div>"
      ]
     },
     "metadata": {},
     "output_type": "display_data"
    }
   ],
   "source": [
    "df.iplot(kind='scatter',x='A',y='B',mode='markers',size=10)"
   ]
  },
  {
   "cell_type": "markdown",
   "metadata": {},
   "source": [
    "## Bar Plots"
   ]
  },
  {
   "cell_type": "code",
   "execution_count": 11,
   "metadata": {},
   "outputs": [
    {
     "data": {
      "application/vnd.plotly.v1+json": {
       "config": {
        "linkText": "Export to plot.ly",
        "plotlyServerURL": "https://plot.ly",
        "showLink": true
       },
       "data": [
        {
         "marker": {
          "color": "rgba(255, 153, 51, 0.6)",
          "line": {
           "color": "rgba(255, 153, 51, 1.0)",
           "width": 1
          }
         },
         "name": "Values",
         "orientation": "v",
         "text": "",
         "type": "bar",
         "x": [
          "A",
          "B",
          "C"
         ],
         "y": [
          32,
          43,
          50
         ]
        }
       ],
       "layout": {
        "legend": {
         "bgcolor": "#F5F6F9",
         "font": {
          "color": "#4D5663"
         }
        },
        "paper_bgcolor": "#F5F6F9",
        "plot_bgcolor": "#F5F6F9",
        "template": {
         "data": {
          "bar": [
           {
            "error_x": {
             "color": "#2a3f5f"
            },
            "error_y": {
             "color": "#2a3f5f"
            },
            "marker": {
             "line": {
              "color": "#E5ECF6",
              "width": 0.5
             },
             "pattern": {
              "fillmode": "overlay",
              "size": 10,
              "solidity": 0.2
             }
            },
            "type": "bar"
           }
          ],
          "barpolar": [
           {
            "marker": {
             "line": {
              "color": "#E5ECF6",
              "width": 0.5
             },
             "pattern": {
              "fillmode": "overlay",
              "size": 10,
              "solidity": 0.2
             }
            },
            "type": "barpolar"
           }
          ],
          "carpet": [
           {
            "aaxis": {
             "endlinecolor": "#2a3f5f",
             "gridcolor": "white",
             "linecolor": "white",
             "minorgridcolor": "white",
             "startlinecolor": "#2a3f5f"
            },
            "baxis": {
             "endlinecolor": "#2a3f5f",
             "gridcolor": "white",
             "linecolor": "white",
             "minorgridcolor": "white",
             "startlinecolor": "#2a3f5f"
            },
            "type": "carpet"
           }
          ],
          "choropleth": [
           {
            "colorbar": {
             "outlinewidth": 0,
             "ticks": ""
            },
            "type": "choropleth"
           }
          ],
          "contour": [
           {
            "colorbar": {
             "outlinewidth": 0,
             "ticks": ""
            },
            "colorscale": [
             [
              0,
              "#0d0887"
             ],
             [
              0.1111111111111111,
              "#46039f"
             ],
             [
              0.2222222222222222,
              "#7201a8"
             ],
             [
              0.3333333333333333,
              "#9c179e"
             ],
             [
              0.4444444444444444,
              "#bd3786"
             ],
             [
              0.5555555555555556,
              "#d8576b"
             ],
             [
              0.6666666666666666,
              "#ed7953"
             ],
             [
              0.7777777777777778,
              "#fb9f3a"
             ],
             [
              0.8888888888888888,
              "#fdca26"
             ],
             [
              1,
              "#f0f921"
             ]
            ],
            "type": "contour"
           }
          ],
          "contourcarpet": [
           {
            "colorbar": {
             "outlinewidth": 0,
             "ticks": ""
            },
            "type": "contourcarpet"
           }
          ],
          "heatmap": [
           {
            "colorbar": {
             "outlinewidth": 0,
             "ticks": ""
            },
            "colorscale": [
             [
              0,
              "#0d0887"
             ],
             [
              0.1111111111111111,
              "#46039f"
             ],
             [
              0.2222222222222222,
              "#7201a8"
             ],
             [
              0.3333333333333333,
              "#9c179e"
             ],
             [
              0.4444444444444444,
              "#bd3786"
             ],
             [
              0.5555555555555556,
              "#d8576b"
             ],
             [
              0.6666666666666666,
              "#ed7953"
             ],
             [
              0.7777777777777778,
              "#fb9f3a"
             ],
             [
              0.8888888888888888,
              "#fdca26"
             ],
             [
              1,
              "#f0f921"
             ]
            ],
            "type": "heatmap"
           }
          ],
          "heatmapgl": [
           {
            "colorbar": {
             "outlinewidth": 0,
             "ticks": ""
            },
            "colorscale": [
             [
              0,
              "#0d0887"
             ],
             [
              0.1111111111111111,
              "#46039f"
             ],
             [
              0.2222222222222222,
              "#7201a8"
             ],
             [
              0.3333333333333333,
              "#9c179e"
             ],
             [
              0.4444444444444444,
              "#bd3786"
             ],
             [
              0.5555555555555556,
              "#d8576b"
             ],
             [
              0.6666666666666666,
              "#ed7953"
             ],
             [
              0.7777777777777778,
              "#fb9f3a"
             ],
             [
              0.8888888888888888,
              "#fdca26"
             ],
             [
              1,
              "#f0f921"
             ]
            ],
            "type": "heatmapgl"
           }
          ],
          "histogram": [
           {
            "marker": {
             "pattern": {
              "fillmode": "overlay",
              "size": 10,
              "solidity": 0.2
             }
            },
            "type": "histogram"
           }
          ],
          "histogram2d": [
           {
            "colorbar": {
             "outlinewidth": 0,
             "ticks": ""
            },
            "colorscale": [
             [
              0,
              "#0d0887"
             ],
             [
              0.1111111111111111,
              "#46039f"
             ],
             [
              0.2222222222222222,
              "#7201a8"
             ],
             [
              0.3333333333333333,
              "#9c179e"
             ],
             [
              0.4444444444444444,
              "#bd3786"
             ],
             [
              0.5555555555555556,
              "#d8576b"
             ],
             [
              0.6666666666666666,
              "#ed7953"
             ],
             [
              0.7777777777777778,
              "#fb9f3a"
             ],
             [
              0.8888888888888888,
              "#fdca26"
             ],
             [
              1,
              "#f0f921"
             ]
            ],
            "type": "histogram2d"
           }
          ],
          "histogram2dcontour": [
           {
            "colorbar": {
             "outlinewidth": 0,
             "ticks": ""
            },
            "colorscale": [
             [
              0,
              "#0d0887"
             ],
             [
              0.1111111111111111,
              "#46039f"
             ],
             [
              0.2222222222222222,
              "#7201a8"
             ],
             [
              0.3333333333333333,
              "#9c179e"
             ],
             [
              0.4444444444444444,
              "#bd3786"
             ],
             [
              0.5555555555555556,
              "#d8576b"
             ],
             [
              0.6666666666666666,
              "#ed7953"
             ],
             [
              0.7777777777777778,
              "#fb9f3a"
             ],
             [
              0.8888888888888888,
              "#fdca26"
             ],
             [
              1,
              "#f0f921"
             ]
            ],
            "type": "histogram2dcontour"
           }
          ],
          "mesh3d": [
           {
            "colorbar": {
             "outlinewidth": 0,
             "ticks": ""
            },
            "type": "mesh3d"
           }
          ],
          "parcoords": [
           {
            "line": {
             "colorbar": {
              "outlinewidth": 0,
              "ticks": ""
             }
            },
            "type": "parcoords"
           }
          ],
          "pie": [
           {
            "automargin": true,
            "type": "pie"
           }
          ],
          "scatter": [
           {
            "fillpattern": {
             "fillmode": "overlay",
             "size": 10,
             "solidity": 0.2
            },
            "type": "scatter"
           }
          ],
          "scatter3d": [
           {
            "line": {
             "colorbar": {
              "outlinewidth": 0,
              "ticks": ""
             }
            },
            "marker": {
             "colorbar": {
              "outlinewidth": 0,
              "ticks": ""
             }
            },
            "type": "scatter3d"
           }
          ],
          "scattercarpet": [
           {
            "marker": {
             "colorbar": {
              "outlinewidth": 0,
              "ticks": ""
             }
            },
            "type": "scattercarpet"
           }
          ],
          "scattergeo": [
           {
            "marker": {
             "colorbar": {
              "outlinewidth": 0,
              "ticks": ""
             }
            },
            "type": "scattergeo"
           }
          ],
          "scattergl": [
           {
            "marker": {
             "colorbar": {
              "outlinewidth": 0,
              "ticks": ""
             }
            },
            "type": "scattergl"
           }
          ],
          "scattermapbox": [
           {
            "marker": {
             "colorbar": {
              "outlinewidth": 0,
              "ticks": ""
             }
            },
            "type": "scattermapbox"
           }
          ],
          "scatterpolar": [
           {
            "marker": {
             "colorbar": {
              "outlinewidth": 0,
              "ticks": ""
             }
            },
            "type": "scatterpolar"
           }
          ],
          "scatterpolargl": [
           {
            "marker": {
             "colorbar": {
              "outlinewidth": 0,
              "ticks": ""
             }
            },
            "type": "scatterpolargl"
           }
          ],
          "scatterternary": [
           {
            "marker": {
             "colorbar": {
              "outlinewidth": 0,
              "ticks": ""
             }
            },
            "type": "scatterternary"
           }
          ],
          "surface": [
           {
            "colorbar": {
             "outlinewidth": 0,
             "ticks": ""
            },
            "colorscale": [
             [
              0,
              "#0d0887"
             ],
             [
              0.1111111111111111,
              "#46039f"
             ],
             [
              0.2222222222222222,
              "#7201a8"
             ],
             [
              0.3333333333333333,
              "#9c179e"
             ],
             [
              0.4444444444444444,
              "#bd3786"
             ],
             [
              0.5555555555555556,
              "#d8576b"
             ],
             [
              0.6666666666666666,
              "#ed7953"
             ],
             [
              0.7777777777777778,
              "#fb9f3a"
             ],
             [
              0.8888888888888888,
              "#fdca26"
             ],
             [
              1,
              "#f0f921"
             ]
            ],
            "type": "surface"
           }
          ],
          "table": [
           {
            "cells": {
             "fill": {
              "color": "#EBF0F8"
             },
             "line": {
              "color": "white"
             }
            },
            "header": {
             "fill": {
              "color": "#C8D4E3"
             },
             "line": {
              "color": "white"
             }
            },
            "type": "table"
           }
          ]
         },
         "layout": {
          "annotationdefaults": {
           "arrowcolor": "#2a3f5f",
           "arrowhead": 0,
           "arrowwidth": 1
          },
          "autotypenumbers": "strict",
          "coloraxis": {
           "colorbar": {
            "outlinewidth": 0,
            "ticks": ""
           }
          },
          "colorscale": {
           "diverging": [
            [
             0,
             "#8e0152"
            ],
            [
             0.1,
             "#c51b7d"
            ],
            [
             0.2,
             "#de77ae"
            ],
            [
             0.3,
             "#f1b6da"
            ],
            [
             0.4,
             "#fde0ef"
            ],
            [
             0.5,
             "#f7f7f7"
            ],
            [
             0.6,
             "#e6f5d0"
            ],
            [
             0.7,
             "#b8e186"
            ],
            [
             0.8,
             "#7fbc41"
            ],
            [
             0.9,
             "#4d9221"
            ],
            [
             1,
             "#276419"
            ]
           ],
           "sequential": [
            [
             0,
             "#0d0887"
            ],
            [
             0.1111111111111111,
             "#46039f"
            ],
            [
             0.2222222222222222,
             "#7201a8"
            ],
            [
             0.3333333333333333,
             "#9c179e"
            ],
            [
             0.4444444444444444,
             "#bd3786"
            ],
            [
             0.5555555555555556,
             "#d8576b"
            ],
            [
             0.6666666666666666,
             "#ed7953"
            ],
            [
             0.7777777777777778,
             "#fb9f3a"
            ],
            [
             0.8888888888888888,
             "#fdca26"
            ],
            [
             1,
             "#f0f921"
            ]
           ],
           "sequentialminus": [
            [
             0,
             "#0d0887"
            ],
            [
             0.1111111111111111,
             "#46039f"
            ],
            [
             0.2222222222222222,
             "#7201a8"
            ],
            [
             0.3333333333333333,
             "#9c179e"
            ],
            [
             0.4444444444444444,
             "#bd3786"
            ],
            [
             0.5555555555555556,
             "#d8576b"
            ],
            [
             0.6666666666666666,
             "#ed7953"
            ],
            [
             0.7777777777777778,
             "#fb9f3a"
            ],
            [
             0.8888888888888888,
             "#fdca26"
            ],
            [
             1,
             "#f0f921"
            ]
           ]
          },
          "colorway": [
           "#636efa",
           "#EF553B",
           "#00cc96",
           "#ab63fa",
           "#FFA15A",
           "#19d3f3",
           "#FF6692",
           "#B6E880",
           "#FF97FF",
           "#FECB52"
          ],
          "font": {
           "color": "#2a3f5f"
          },
          "geo": {
           "bgcolor": "white",
           "lakecolor": "white",
           "landcolor": "#E5ECF6",
           "showlakes": true,
           "showland": true,
           "subunitcolor": "white"
          },
          "hoverlabel": {
           "align": "left"
          },
          "hovermode": "closest",
          "mapbox": {
           "style": "light"
          },
          "paper_bgcolor": "white",
          "plot_bgcolor": "#E5ECF6",
          "polar": {
           "angularaxis": {
            "gridcolor": "white",
            "linecolor": "white",
            "ticks": ""
           },
           "bgcolor": "#E5ECF6",
           "radialaxis": {
            "gridcolor": "white",
            "linecolor": "white",
            "ticks": ""
           }
          },
          "scene": {
           "xaxis": {
            "backgroundcolor": "#E5ECF6",
            "gridcolor": "white",
            "gridwidth": 2,
            "linecolor": "white",
            "showbackground": true,
            "ticks": "",
            "zerolinecolor": "white"
           },
           "yaxis": {
            "backgroundcolor": "#E5ECF6",
            "gridcolor": "white",
            "gridwidth": 2,
            "linecolor": "white",
            "showbackground": true,
            "ticks": "",
            "zerolinecolor": "white"
           },
           "zaxis": {
            "backgroundcolor": "#E5ECF6",
            "gridcolor": "white",
            "gridwidth": 2,
            "linecolor": "white",
            "showbackground": true,
            "ticks": "",
            "zerolinecolor": "white"
           }
          },
          "shapedefaults": {
           "line": {
            "color": "#2a3f5f"
           }
          },
          "ternary": {
           "aaxis": {
            "gridcolor": "white",
            "linecolor": "white",
            "ticks": ""
           },
           "baxis": {
            "gridcolor": "white",
            "linecolor": "white",
            "ticks": ""
           },
           "bgcolor": "#E5ECF6",
           "caxis": {
            "gridcolor": "white",
            "linecolor": "white",
            "ticks": ""
           }
          },
          "title": {
           "x": 0.05
          },
          "xaxis": {
           "automargin": true,
           "gridcolor": "white",
           "linecolor": "white",
           "ticks": "",
           "title": {
            "standoff": 15
           },
           "zerolinecolor": "white",
           "zerolinewidth": 2
          },
          "yaxis": {
           "automargin": true,
           "gridcolor": "white",
           "linecolor": "white",
           "ticks": "",
           "title": {
            "standoff": 15
           },
           "zerolinecolor": "white",
           "zerolinewidth": 2
          }
         }
        },
        "title": {
         "font": {
          "color": "#4D5663"
         }
        },
        "xaxis": {
         "gridcolor": "#E1E5ED",
         "showgrid": true,
         "tickfont": {
          "color": "#4D5663"
         },
         "title": {
          "font": {
           "color": "#4D5663"
          },
          "text": ""
         },
         "zerolinecolor": "#E1E5ED"
        },
        "yaxis": {
         "gridcolor": "#E1E5ED",
         "showgrid": true,
         "tickfont": {
          "color": "#4D5663"
         },
         "title": {
          "font": {
           "color": "#4D5663"
          },
          "text": ""
         },
         "zerolinecolor": "#E1E5ED"
        }
       }
      },
      "text/html": [
       "<div>                            <div id=\"c23ede84-b9e0-4aaf-aa84-34f201e85421\" class=\"plotly-graph-div\" style=\"height:525px; width:100%;\"></div>            <script type=\"text/javascript\">                require([\"plotly\"], function(Plotly) {                    window.PLOTLYENV=window.PLOTLYENV || {};\n",
       "                    window.PLOTLYENV.BASE_URL='https://plot.ly';                                    if (document.getElementById(\"c23ede84-b9e0-4aaf-aa84-34f201e85421\")) {                    Plotly.newPlot(                        \"c23ede84-b9e0-4aaf-aa84-34f201e85421\",                        [{\"marker\":{\"color\":\"rgba(255, 153, 51, 0.6)\",\"line\":{\"color\":\"rgba(255, 153, 51, 1.0)\",\"width\":1}},\"name\":\"Values\",\"orientation\":\"v\",\"text\":\"\",\"x\":[\"A\",\"B\",\"C\"],\"y\":[32,43,50],\"type\":\"bar\"}],                        {\"legend\":{\"bgcolor\":\"#F5F6F9\",\"font\":{\"color\":\"#4D5663\"}},\"paper_bgcolor\":\"#F5F6F9\",\"plot_bgcolor\":\"#F5F6F9\",\"template\":{\"data\":{\"barpolar\":[{\"marker\":{\"line\":{\"color\":\"#E5ECF6\",\"width\":0.5},\"pattern\":{\"fillmode\":\"overlay\",\"size\":10,\"solidity\":0.2}},\"type\":\"barpolar\"}],\"bar\":[{\"error_x\":{\"color\":\"#2a3f5f\"},\"error_y\":{\"color\":\"#2a3f5f\"},\"marker\":{\"line\":{\"color\":\"#E5ECF6\",\"width\":0.5},\"pattern\":{\"fillmode\":\"overlay\",\"size\":10,\"solidity\":0.2}},\"type\":\"bar\"}],\"carpet\":[{\"aaxis\":{\"endlinecolor\":\"#2a3f5f\",\"gridcolor\":\"white\",\"linecolor\":\"white\",\"minorgridcolor\":\"white\",\"startlinecolor\":\"#2a3f5f\"},\"baxis\":{\"endlinecolor\":\"#2a3f5f\",\"gridcolor\":\"white\",\"linecolor\":\"white\",\"minorgridcolor\":\"white\",\"startlinecolor\":\"#2a3f5f\"},\"type\":\"carpet\"}],\"choropleth\":[{\"colorbar\":{\"outlinewidth\":0,\"ticks\":\"\"},\"type\":\"choropleth\"}],\"contourcarpet\":[{\"colorbar\":{\"outlinewidth\":0,\"ticks\":\"\"},\"type\":\"contourcarpet\"}],\"contour\":[{\"colorbar\":{\"outlinewidth\":0,\"ticks\":\"\"},\"colorscale\":[[0.0,\"#0d0887\"],[0.1111111111111111,\"#46039f\"],[0.2222222222222222,\"#7201a8\"],[0.3333333333333333,\"#9c179e\"],[0.4444444444444444,\"#bd3786\"],[0.5555555555555556,\"#d8576b\"],[0.6666666666666666,\"#ed7953\"],[0.7777777777777778,\"#fb9f3a\"],[0.8888888888888888,\"#fdca26\"],[1.0,\"#f0f921\"]],\"type\":\"contour\"}],\"heatmapgl\":[{\"colorbar\":{\"outlinewidth\":0,\"ticks\":\"\"},\"colorscale\":[[0.0,\"#0d0887\"],[0.1111111111111111,\"#46039f\"],[0.2222222222222222,\"#7201a8\"],[0.3333333333333333,\"#9c179e\"],[0.4444444444444444,\"#bd3786\"],[0.5555555555555556,\"#d8576b\"],[0.6666666666666666,\"#ed7953\"],[0.7777777777777778,\"#fb9f3a\"],[0.8888888888888888,\"#fdca26\"],[1.0,\"#f0f921\"]],\"type\":\"heatmapgl\"}],\"heatmap\":[{\"colorbar\":{\"outlinewidth\":0,\"ticks\":\"\"},\"colorscale\":[[0.0,\"#0d0887\"],[0.1111111111111111,\"#46039f\"],[0.2222222222222222,\"#7201a8\"],[0.3333333333333333,\"#9c179e\"],[0.4444444444444444,\"#bd3786\"],[0.5555555555555556,\"#d8576b\"],[0.6666666666666666,\"#ed7953\"],[0.7777777777777778,\"#fb9f3a\"],[0.8888888888888888,\"#fdca26\"],[1.0,\"#f0f921\"]],\"type\":\"heatmap\"}],\"histogram2dcontour\":[{\"colorbar\":{\"outlinewidth\":0,\"ticks\":\"\"},\"colorscale\":[[0.0,\"#0d0887\"],[0.1111111111111111,\"#46039f\"],[0.2222222222222222,\"#7201a8\"],[0.3333333333333333,\"#9c179e\"],[0.4444444444444444,\"#bd3786\"],[0.5555555555555556,\"#d8576b\"],[0.6666666666666666,\"#ed7953\"],[0.7777777777777778,\"#fb9f3a\"],[0.8888888888888888,\"#fdca26\"],[1.0,\"#f0f921\"]],\"type\":\"histogram2dcontour\"}],\"histogram2d\":[{\"colorbar\":{\"outlinewidth\":0,\"ticks\":\"\"},\"colorscale\":[[0.0,\"#0d0887\"],[0.1111111111111111,\"#46039f\"],[0.2222222222222222,\"#7201a8\"],[0.3333333333333333,\"#9c179e\"],[0.4444444444444444,\"#bd3786\"],[0.5555555555555556,\"#d8576b\"],[0.6666666666666666,\"#ed7953\"],[0.7777777777777778,\"#fb9f3a\"],[0.8888888888888888,\"#fdca26\"],[1.0,\"#f0f921\"]],\"type\":\"histogram2d\"}],\"histogram\":[{\"marker\":{\"pattern\":{\"fillmode\":\"overlay\",\"size\":10,\"solidity\":0.2}},\"type\":\"histogram\"}],\"mesh3d\":[{\"colorbar\":{\"outlinewidth\":0,\"ticks\":\"\"},\"type\":\"mesh3d\"}],\"parcoords\":[{\"line\":{\"colorbar\":{\"outlinewidth\":0,\"ticks\":\"\"}},\"type\":\"parcoords\"}],\"pie\":[{\"automargin\":true,\"type\":\"pie\"}],\"scatter3d\":[{\"line\":{\"colorbar\":{\"outlinewidth\":0,\"ticks\":\"\"}},\"marker\":{\"colorbar\":{\"outlinewidth\":0,\"ticks\":\"\"}},\"type\":\"scatter3d\"}],\"scattercarpet\":[{\"marker\":{\"colorbar\":{\"outlinewidth\":0,\"ticks\":\"\"}},\"type\":\"scattercarpet\"}],\"scattergeo\":[{\"marker\":{\"colorbar\":{\"outlinewidth\":0,\"ticks\":\"\"}},\"type\":\"scattergeo\"}],\"scattergl\":[{\"marker\":{\"colorbar\":{\"outlinewidth\":0,\"ticks\":\"\"}},\"type\":\"scattergl\"}],\"scattermapbox\":[{\"marker\":{\"colorbar\":{\"outlinewidth\":0,\"ticks\":\"\"}},\"type\":\"scattermapbox\"}],\"scatterpolargl\":[{\"marker\":{\"colorbar\":{\"outlinewidth\":0,\"ticks\":\"\"}},\"type\":\"scatterpolargl\"}],\"scatterpolar\":[{\"marker\":{\"colorbar\":{\"outlinewidth\":0,\"ticks\":\"\"}},\"type\":\"scatterpolar\"}],\"scatter\":[{\"fillpattern\":{\"fillmode\":\"overlay\",\"size\":10,\"solidity\":0.2},\"type\":\"scatter\"}],\"scatterternary\":[{\"marker\":{\"colorbar\":{\"outlinewidth\":0,\"ticks\":\"\"}},\"type\":\"scatterternary\"}],\"surface\":[{\"colorbar\":{\"outlinewidth\":0,\"ticks\":\"\"},\"colorscale\":[[0.0,\"#0d0887\"],[0.1111111111111111,\"#46039f\"],[0.2222222222222222,\"#7201a8\"],[0.3333333333333333,\"#9c179e\"],[0.4444444444444444,\"#bd3786\"],[0.5555555555555556,\"#d8576b\"],[0.6666666666666666,\"#ed7953\"],[0.7777777777777778,\"#fb9f3a\"],[0.8888888888888888,\"#fdca26\"],[1.0,\"#f0f921\"]],\"type\":\"surface\"}],\"table\":[{\"cells\":{\"fill\":{\"color\":\"#EBF0F8\"},\"line\":{\"color\":\"white\"}},\"header\":{\"fill\":{\"color\":\"#C8D4E3\"},\"line\":{\"color\":\"white\"}},\"type\":\"table\"}]},\"layout\":{\"annotationdefaults\":{\"arrowcolor\":\"#2a3f5f\",\"arrowhead\":0,\"arrowwidth\":1},\"autotypenumbers\":\"strict\",\"coloraxis\":{\"colorbar\":{\"outlinewidth\":0,\"ticks\":\"\"}},\"colorscale\":{\"diverging\":[[0,\"#8e0152\"],[0.1,\"#c51b7d\"],[0.2,\"#de77ae\"],[0.3,\"#f1b6da\"],[0.4,\"#fde0ef\"],[0.5,\"#f7f7f7\"],[0.6,\"#e6f5d0\"],[0.7,\"#b8e186\"],[0.8,\"#7fbc41\"],[0.9,\"#4d9221\"],[1,\"#276419\"]],\"sequential\":[[0.0,\"#0d0887\"],[0.1111111111111111,\"#46039f\"],[0.2222222222222222,\"#7201a8\"],[0.3333333333333333,\"#9c179e\"],[0.4444444444444444,\"#bd3786\"],[0.5555555555555556,\"#d8576b\"],[0.6666666666666666,\"#ed7953\"],[0.7777777777777778,\"#fb9f3a\"],[0.8888888888888888,\"#fdca26\"],[1.0,\"#f0f921\"]],\"sequentialminus\":[[0.0,\"#0d0887\"],[0.1111111111111111,\"#46039f\"],[0.2222222222222222,\"#7201a8\"],[0.3333333333333333,\"#9c179e\"],[0.4444444444444444,\"#bd3786\"],[0.5555555555555556,\"#d8576b\"],[0.6666666666666666,\"#ed7953\"],[0.7777777777777778,\"#fb9f3a\"],[0.8888888888888888,\"#fdca26\"],[1.0,\"#f0f921\"]]},\"colorway\":[\"#636efa\",\"#EF553B\",\"#00cc96\",\"#ab63fa\",\"#FFA15A\",\"#19d3f3\",\"#FF6692\",\"#B6E880\",\"#FF97FF\",\"#FECB52\"],\"font\":{\"color\":\"#2a3f5f\"},\"geo\":{\"bgcolor\":\"white\",\"lakecolor\":\"white\",\"landcolor\":\"#E5ECF6\",\"showlakes\":true,\"showland\":true,\"subunitcolor\":\"white\"},\"hoverlabel\":{\"align\":\"left\"},\"hovermode\":\"closest\",\"mapbox\":{\"style\":\"light\"},\"paper_bgcolor\":\"white\",\"plot_bgcolor\":\"#E5ECF6\",\"polar\":{\"angularaxis\":{\"gridcolor\":\"white\",\"linecolor\":\"white\",\"ticks\":\"\"},\"bgcolor\":\"#E5ECF6\",\"radialaxis\":{\"gridcolor\":\"white\",\"linecolor\":\"white\",\"ticks\":\"\"}},\"scene\":{\"xaxis\":{\"backgroundcolor\":\"#E5ECF6\",\"gridcolor\":\"white\",\"gridwidth\":2,\"linecolor\":\"white\",\"showbackground\":true,\"ticks\":\"\",\"zerolinecolor\":\"white\"},\"yaxis\":{\"backgroundcolor\":\"#E5ECF6\",\"gridcolor\":\"white\",\"gridwidth\":2,\"linecolor\":\"white\",\"showbackground\":true,\"ticks\":\"\",\"zerolinecolor\":\"white\"},\"zaxis\":{\"backgroundcolor\":\"#E5ECF6\",\"gridcolor\":\"white\",\"gridwidth\":2,\"linecolor\":\"white\",\"showbackground\":true,\"ticks\":\"\",\"zerolinecolor\":\"white\"}},\"shapedefaults\":{\"line\":{\"color\":\"#2a3f5f\"}},\"ternary\":{\"aaxis\":{\"gridcolor\":\"white\",\"linecolor\":\"white\",\"ticks\":\"\"},\"baxis\":{\"gridcolor\":\"white\",\"linecolor\":\"white\",\"ticks\":\"\"},\"bgcolor\":\"#E5ECF6\",\"caxis\":{\"gridcolor\":\"white\",\"linecolor\":\"white\",\"ticks\":\"\"}},\"title\":{\"x\":0.05},\"xaxis\":{\"automargin\":true,\"gridcolor\":\"white\",\"linecolor\":\"white\",\"ticks\":\"\",\"title\":{\"standoff\":15},\"zerolinecolor\":\"white\",\"zerolinewidth\":2},\"yaxis\":{\"automargin\":true,\"gridcolor\":\"white\",\"linecolor\":\"white\",\"ticks\":\"\",\"title\":{\"standoff\":15},\"zerolinecolor\":\"white\",\"zerolinewidth\":2}}},\"title\":{\"font\":{\"color\":\"#4D5663\"}},\"xaxis\":{\"gridcolor\":\"#E1E5ED\",\"showgrid\":true,\"tickfont\":{\"color\":\"#4D5663\"},\"title\":{\"font\":{\"color\":\"#4D5663\"},\"text\":\"\"},\"zerolinecolor\":\"#E1E5ED\"},\"yaxis\":{\"gridcolor\":\"#E1E5ED\",\"showgrid\":true,\"tickfont\":{\"color\":\"#4D5663\"},\"title\":{\"font\":{\"color\":\"#4D5663\"},\"text\":\"\"},\"zerolinecolor\":\"#E1E5ED\"}},                        {\"showLink\": true, \"linkText\": \"Export to plot.ly\", \"plotlyServerURL\": \"https://plot.ly\", \"responsive\": true}                    ).then(function(){\n",
       "                            \n",
       "var gd = document.getElementById('c23ede84-b9e0-4aaf-aa84-34f201e85421');\n",
       "var x = new MutationObserver(function (mutations, observer) {{\n",
       "        var display = window.getComputedStyle(gd).display;\n",
       "        if (!display || display === 'none') {{\n",
       "            console.log([gd, 'removed!']);\n",
       "            Plotly.purge(gd);\n",
       "            observer.disconnect();\n",
       "        }}\n",
       "}});\n",
       "\n",
       "// Listen for the removal of the full notebook cells\n",
       "var notebookContainer = gd.closest('#notebook-container');\n",
       "if (notebookContainer) {{\n",
       "    x.observe(notebookContainer, {childList: true});\n",
       "}}\n",
       "\n",
       "// Listen for the clearing of the current output cell\n",
       "var outputEl = gd.closest('.output');\n",
       "if (outputEl) {{\n",
       "    x.observe(outputEl, {childList: true});\n",
       "}}\n",
       "\n",
       "                        })                };                });            </script>        </div>"
      ]
     },
     "metadata": {},
     "output_type": "display_data"
    }
   ],
   "source": [
    "df2.iplot(kind='bar',x='Category',y='Values')"
   ]
  },
  {
   "cell_type": "code",
   "execution_count": 12,
   "metadata": {},
   "outputs": [
    {
     "data": {
      "application/vnd.plotly.v1+json": {
       "config": {
        "linkText": "Export to plot.ly",
        "plotlyServerURL": "https://plot.ly",
        "showLink": true
       },
       "data": [
        {
         "marker": {
          "color": "rgba(255, 153, 51, 0.6)",
          "line": {
           "color": "rgba(255, 153, 51, 1.0)",
           "width": 1
          }
         },
         "name": "None",
         "orientation": "v",
         "text": "",
         "type": "bar",
         "x": [
          "A",
          "B",
          "C",
          "D"
         ],
         "y": [
          100,
          100,
          100,
          100
         ]
        }
       ],
       "layout": {
        "legend": {
         "bgcolor": "#F5F6F9",
         "font": {
          "color": "#4D5663"
         }
        },
        "paper_bgcolor": "#F5F6F9",
        "plot_bgcolor": "#F5F6F9",
        "template": {
         "data": {
          "bar": [
           {
            "error_x": {
             "color": "#2a3f5f"
            },
            "error_y": {
             "color": "#2a3f5f"
            },
            "marker": {
             "line": {
              "color": "#E5ECF6",
              "width": 0.5
             },
             "pattern": {
              "fillmode": "overlay",
              "size": 10,
              "solidity": 0.2
             }
            },
            "type": "bar"
           }
          ],
          "barpolar": [
           {
            "marker": {
             "line": {
              "color": "#E5ECF6",
              "width": 0.5
             },
             "pattern": {
              "fillmode": "overlay",
              "size": 10,
              "solidity": 0.2
             }
            },
            "type": "barpolar"
           }
          ],
          "carpet": [
           {
            "aaxis": {
             "endlinecolor": "#2a3f5f",
             "gridcolor": "white",
             "linecolor": "white",
             "minorgridcolor": "white",
             "startlinecolor": "#2a3f5f"
            },
            "baxis": {
             "endlinecolor": "#2a3f5f",
             "gridcolor": "white",
             "linecolor": "white",
             "minorgridcolor": "white",
             "startlinecolor": "#2a3f5f"
            },
            "type": "carpet"
           }
          ],
          "choropleth": [
           {
            "colorbar": {
             "outlinewidth": 0,
             "ticks": ""
            },
            "type": "choropleth"
           }
          ],
          "contour": [
           {
            "colorbar": {
             "outlinewidth": 0,
             "ticks": ""
            },
            "colorscale": [
             [
              0,
              "#0d0887"
             ],
             [
              0.1111111111111111,
              "#46039f"
             ],
             [
              0.2222222222222222,
              "#7201a8"
             ],
             [
              0.3333333333333333,
              "#9c179e"
             ],
             [
              0.4444444444444444,
              "#bd3786"
             ],
             [
              0.5555555555555556,
              "#d8576b"
             ],
             [
              0.6666666666666666,
              "#ed7953"
             ],
             [
              0.7777777777777778,
              "#fb9f3a"
             ],
             [
              0.8888888888888888,
              "#fdca26"
             ],
             [
              1,
              "#f0f921"
             ]
            ],
            "type": "contour"
           }
          ],
          "contourcarpet": [
           {
            "colorbar": {
             "outlinewidth": 0,
             "ticks": ""
            },
            "type": "contourcarpet"
           }
          ],
          "heatmap": [
           {
            "colorbar": {
             "outlinewidth": 0,
             "ticks": ""
            },
            "colorscale": [
             [
              0,
              "#0d0887"
             ],
             [
              0.1111111111111111,
              "#46039f"
             ],
             [
              0.2222222222222222,
              "#7201a8"
             ],
             [
              0.3333333333333333,
              "#9c179e"
             ],
             [
              0.4444444444444444,
              "#bd3786"
             ],
             [
              0.5555555555555556,
              "#d8576b"
             ],
             [
              0.6666666666666666,
              "#ed7953"
             ],
             [
              0.7777777777777778,
              "#fb9f3a"
             ],
             [
              0.8888888888888888,
              "#fdca26"
             ],
             [
              1,
              "#f0f921"
             ]
            ],
            "type": "heatmap"
           }
          ],
          "heatmapgl": [
           {
            "colorbar": {
             "outlinewidth": 0,
             "ticks": ""
            },
            "colorscale": [
             [
              0,
              "#0d0887"
             ],
             [
              0.1111111111111111,
              "#46039f"
             ],
             [
              0.2222222222222222,
              "#7201a8"
             ],
             [
              0.3333333333333333,
              "#9c179e"
             ],
             [
              0.4444444444444444,
              "#bd3786"
             ],
             [
              0.5555555555555556,
              "#d8576b"
             ],
             [
              0.6666666666666666,
              "#ed7953"
             ],
             [
              0.7777777777777778,
              "#fb9f3a"
             ],
             [
              0.8888888888888888,
              "#fdca26"
             ],
             [
              1,
              "#f0f921"
             ]
            ],
            "type": "heatmapgl"
           }
          ],
          "histogram": [
           {
            "marker": {
             "pattern": {
              "fillmode": "overlay",
              "size": 10,
              "solidity": 0.2
             }
            },
            "type": "histogram"
           }
          ],
          "histogram2d": [
           {
            "colorbar": {
             "outlinewidth": 0,
             "ticks": ""
            },
            "colorscale": [
             [
              0,
              "#0d0887"
             ],
             [
              0.1111111111111111,
              "#46039f"
             ],
             [
              0.2222222222222222,
              "#7201a8"
             ],
             [
              0.3333333333333333,
              "#9c179e"
             ],
             [
              0.4444444444444444,
              "#bd3786"
             ],
             [
              0.5555555555555556,
              "#d8576b"
             ],
             [
              0.6666666666666666,
              "#ed7953"
             ],
             [
              0.7777777777777778,
              "#fb9f3a"
             ],
             [
              0.8888888888888888,
              "#fdca26"
             ],
             [
              1,
              "#f0f921"
             ]
            ],
            "type": "histogram2d"
           }
          ],
          "histogram2dcontour": [
           {
            "colorbar": {
             "outlinewidth": 0,
             "ticks": ""
            },
            "colorscale": [
             [
              0,
              "#0d0887"
             ],
             [
              0.1111111111111111,
              "#46039f"
             ],
             [
              0.2222222222222222,
              "#7201a8"
             ],
             [
              0.3333333333333333,
              "#9c179e"
             ],
             [
              0.4444444444444444,
              "#bd3786"
             ],
             [
              0.5555555555555556,
              "#d8576b"
             ],
             [
              0.6666666666666666,
              "#ed7953"
             ],
             [
              0.7777777777777778,
              "#fb9f3a"
             ],
             [
              0.8888888888888888,
              "#fdca26"
             ],
             [
              1,
              "#f0f921"
             ]
            ],
            "type": "histogram2dcontour"
           }
          ],
          "mesh3d": [
           {
            "colorbar": {
             "outlinewidth": 0,
             "ticks": ""
            },
            "type": "mesh3d"
           }
          ],
          "parcoords": [
           {
            "line": {
             "colorbar": {
              "outlinewidth": 0,
              "ticks": ""
             }
            },
            "type": "parcoords"
           }
          ],
          "pie": [
           {
            "automargin": true,
            "type": "pie"
           }
          ],
          "scatter": [
           {
            "fillpattern": {
             "fillmode": "overlay",
             "size": 10,
             "solidity": 0.2
            },
            "type": "scatter"
           }
          ],
          "scatter3d": [
           {
            "line": {
             "colorbar": {
              "outlinewidth": 0,
              "ticks": ""
             }
            },
            "marker": {
             "colorbar": {
              "outlinewidth": 0,
              "ticks": ""
             }
            },
            "type": "scatter3d"
           }
          ],
          "scattercarpet": [
           {
            "marker": {
             "colorbar": {
              "outlinewidth": 0,
              "ticks": ""
             }
            },
            "type": "scattercarpet"
           }
          ],
          "scattergeo": [
           {
            "marker": {
             "colorbar": {
              "outlinewidth": 0,
              "ticks": ""
             }
            },
            "type": "scattergeo"
           }
          ],
          "scattergl": [
           {
            "marker": {
             "colorbar": {
              "outlinewidth": 0,
              "ticks": ""
             }
            },
            "type": "scattergl"
           }
          ],
          "scattermapbox": [
           {
            "marker": {
             "colorbar": {
              "outlinewidth": 0,
              "ticks": ""
             }
            },
            "type": "scattermapbox"
           }
          ],
          "scatterpolar": [
           {
            "marker": {
             "colorbar": {
              "outlinewidth": 0,
              "ticks": ""
             }
            },
            "type": "scatterpolar"
           }
          ],
          "scatterpolargl": [
           {
            "marker": {
             "colorbar": {
              "outlinewidth": 0,
              "ticks": ""
             }
            },
            "type": "scatterpolargl"
           }
          ],
          "scatterternary": [
           {
            "marker": {
             "colorbar": {
              "outlinewidth": 0,
              "ticks": ""
             }
            },
            "type": "scatterternary"
           }
          ],
          "surface": [
           {
            "colorbar": {
             "outlinewidth": 0,
             "ticks": ""
            },
            "colorscale": [
             [
              0,
              "#0d0887"
             ],
             [
              0.1111111111111111,
              "#46039f"
             ],
             [
              0.2222222222222222,
              "#7201a8"
             ],
             [
              0.3333333333333333,
              "#9c179e"
             ],
             [
              0.4444444444444444,
              "#bd3786"
             ],
             [
              0.5555555555555556,
              "#d8576b"
             ],
             [
              0.6666666666666666,
              "#ed7953"
             ],
             [
              0.7777777777777778,
              "#fb9f3a"
             ],
             [
              0.8888888888888888,
              "#fdca26"
             ],
             [
              1,
              "#f0f921"
             ]
            ],
            "type": "surface"
           }
          ],
          "table": [
           {
            "cells": {
             "fill": {
              "color": "#EBF0F8"
             },
             "line": {
              "color": "white"
             }
            },
            "header": {
             "fill": {
              "color": "#C8D4E3"
             },
             "line": {
              "color": "white"
             }
            },
            "type": "table"
           }
          ]
         },
         "layout": {
          "annotationdefaults": {
           "arrowcolor": "#2a3f5f",
           "arrowhead": 0,
           "arrowwidth": 1
          },
          "autotypenumbers": "strict",
          "coloraxis": {
           "colorbar": {
            "outlinewidth": 0,
            "ticks": ""
           }
          },
          "colorscale": {
           "diverging": [
            [
             0,
             "#8e0152"
            ],
            [
             0.1,
             "#c51b7d"
            ],
            [
             0.2,
             "#de77ae"
            ],
            [
             0.3,
             "#f1b6da"
            ],
            [
             0.4,
             "#fde0ef"
            ],
            [
             0.5,
             "#f7f7f7"
            ],
            [
             0.6,
             "#e6f5d0"
            ],
            [
             0.7,
             "#b8e186"
            ],
            [
             0.8,
             "#7fbc41"
            ],
            [
             0.9,
             "#4d9221"
            ],
            [
             1,
             "#276419"
            ]
           ],
           "sequential": [
            [
             0,
             "#0d0887"
            ],
            [
             0.1111111111111111,
             "#46039f"
            ],
            [
             0.2222222222222222,
             "#7201a8"
            ],
            [
             0.3333333333333333,
             "#9c179e"
            ],
            [
             0.4444444444444444,
             "#bd3786"
            ],
            [
             0.5555555555555556,
             "#d8576b"
            ],
            [
             0.6666666666666666,
             "#ed7953"
            ],
            [
             0.7777777777777778,
             "#fb9f3a"
            ],
            [
             0.8888888888888888,
             "#fdca26"
            ],
            [
             1,
             "#f0f921"
            ]
           ],
           "sequentialminus": [
            [
             0,
             "#0d0887"
            ],
            [
             0.1111111111111111,
             "#46039f"
            ],
            [
             0.2222222222222222,
             "#7201a8"
            ],
            [
             0.3333333333333333,
             "#9c179e"
            ],
            [
             0.4444444444444444,
             "#bd3786"
            ],
            [
             0.5555555555555556,
             "#d8576b"
            ],
            [
             0.6666666666666666,
             "#ed7953"
            ],
            [
             0.7777777777777778,
             "#fb9f3a"
            ],
            [
             0.8888888888888888,
             "#fdca26"
            ],
            [
             1,
             "#f0f921"
            ]
           ]
          },
          "colorway": [
           "#636efa",
           "#EF553B",
           "#00cc96",
           "#ab63fa",
           "#FFA15A",
           "#19d3f3",
           "#FF6692",
           "#B6E880",
           "#FF97FF",
           "#FECB52"
          ],
          "font": {
           "color": "#2a3f5f"
          },
          "geo": {
           "bgcolor": "white",
           "lakecolor": "white",
           "landcolor": "#E5ECF6",
           "showlakes": true,
           "showland": true,
           "subunitcolor": "white"
          },
          "hoverlabel": {
           "align": "left"
          },
          "hovermode": "closest",
          "mapbox": {
           "style": "light"
          },
          "paper_bgcolor": "white",
          "plot_bgcolor": "#E5ECF6",
          "polar": {
           "angularaxis": {
            "gridcolor": "white",
            "linecolor": "white",
            "ticks": ""
           },
           "bgcolor": "#E5ECF6",
           "radialaxis": {
            "gridcolor": "white",
            "linecolor": "white",
            "ticks": ""
           }
          },
          "scene": {
           "xaxis": {
            "backgroundcolor": "#E5ECF6",
            "gridcolor": "white",
            "gridwidth": 2,
            "linecolor": "white",
            "showbackground": true,
            "ticks": "",
            "zerolinecolor": "white"
           },
           "yaxis": {
            "backgroundcolor": "#E5ECF6",
            "gridcolor": "white",
            "gridwidth": 2,
            "linecolor": "white",
            "showbackground": true,
            "ticks": "",
            "zerolinecolor": "white"
           },
           "zaxis": {
            "backgroundcolor": "#E5ECF6",
            "gridcolor": "white",
            "gridwidth": 2,
            "linecolor": "white",
            "showbackground": true,
            "ticks": "",
            "zerolinecolor": "white"
           }
          },
          "shapedefaults": {
           "line": {
            "color": "#2a3f5f"
           }
          },
          "ternary": {
           "aaxis": {
            "gridcolor": "white",
            "linecolor": "white",
            "ticks": ""
           },
           "baxis": {
            "gridcolor": "white",
            "linecolor": "white",
            "ticks": ""
           },
           "bgcolor": "#E5ECF6",
           "caxis": {
            "gridcolor": "white",
            "linecolor": "white",
            "ticks": ""
           }
          },
          "title": {
           "x": 0.05
          },
          "xaxis": {
           "automargin": true,
           "gridcolor": "white",
           "linecolor": "white",
           "ticks": "",
           "title": {
            "standoff": 15
           },
           "zerolinecolor": "white",
           "zerolinewidth": 2
          },
          "yaxis": {
           "automargin": true,
           "gridcolor": "white",
           "linecolor": "white",
           "ticks": "",
           "title": {
            "standoff": 15
           },
           "zerolinecolor": "white",
           "zerolinewidth": 2
          }
         }
        },
        "title": {
         "font": {
          "color": "#4D5663"
         }
        },
        "xaxis": {
         "gridcolor": "#E1E5ED",
         "showgrid": true,
         "tickfont": {
          "color": "#4D5663"
         },
         "title": {
          "font": {
           "color": "#4D5663"
          },
          "text": ""
         },
         "zerolinecolor": "#E1E5ED"
        },
        "yaxis": {
         "gridcolor": "#E1E5ED",
         "showgrid": true,
         "tickfont": {
          "color": "#4D5663"
         },
         "title": {
          "font": {
           "color": "#4D5663"
          },
          "text": ""
         },
         "zerolinecolor": "#E1E5ED"
        }
       }
      },
      "text/html": [
       "<div>                            <div id=\"cab5f327-505a-44a6-a072-69b5193c8c57\" class=\"plotly-graph-div\" style=\"height:525px; width:100%;\"></div>            <script type=\"text/javascript\">                require([\"plotly\"], function(Plotly) {                    window.PLOTLYENV=window.PLOTLYENV || {};\n",
       "                    window.PLOTLYENV.BASE_URL='https://plot.ly';                                    if (document.getElementById(\"cab5f327-505a-44a6-a072-69b5193c8c57\")) {                    Plotly.newPlot(                        \"cab5f327-505a-44a6-a072-69b5193c8c57\",                        [{\"marker\":{\"color\":\"rgba(255, 153, 51, 0.6)\",\"line\":{\"color\":\"rgba(255, 153, 51, 1.0)\",\"width\":1}},\"name\":\"None\",\"orientation\":\"v\",\"text\":\"\",\"x\":[\"A\",\"B\",\"C\",\"D\"],\"y\":[100,100,100,100],\"type\":\"bar\"}],                        {\"legend\":{\"bgcolor\":\"#F5F6F9\",\"font\":{\"color\":\"#4D5663\"}},\"paper_bgcolor\":\"#F5F6F9\",\"plot_bgcolor\":\"#F5F6F9\",\"template\":{\"data\":{\"barpolar\":[{\"marker\":{\"line\":{\"color\":\"#E5ECF6\",\"width\":0.5},\"pattern\":{\"fillmode\":\"overlay\",\"size\":10,\"solidity\":0.2}},\"type\":\"barpolar\"}],\"bar\":[{\"error_x\":{\"color\":\"#2a3f5f\"},\"error_y\":{\"color\":\"#2a3f5f\"},\"marker\":{\"line\":{\"color\":\"#E5ECF6\",\"width\":0.5},\"pattern\":{\"fillmode\":\"overlay\",\"size\":10,\"solidity\":0.2}},\"type\":\"bar\"}],\"carpet\":[{\"aaxis\":{\"endlinecolor\":\"#2a3f5f\",\"gridcolor\":\"white\",\"linecolor\":\"white\",\"minorgridcolor\":\"white\",\"startlinecolor\":\"#2a3f5f\"},\"baxis\":{\"endlinecolor\":\"#2a3f5f\",\"gridcolor\":\"white\",\"linecolor\":\"white\",\"minorgridcolor\":\"white\",\"startlinecolor\":\"#2a3f5f\"},\"type\":\"carpet\"}],\"choropleth\":[{\"colorbar\":{\"outlinewidth\":0,\"ticks\":\"\"},\"type\":\"choropleth\"}],\"contourcarpet\":[{\"colorbar\":{\"outlinewidth\":0,\"ticks\":\"\"},\"type\":\"contourcarpet\"}],\"contour\":[{\"colorbar\":{\"outlinewidth\":0,\"ticks\":\"\"},\"colorscale\":[[0.0,\"#0d0887\"],[0.1111111111111111,\"#46039f\"],[0.2222222222222222,\"#7201a8\"],[0.3333333333333333,\"#9c179e\"],[0.4444444444444444,\"#bd3786\"],[0.5555555555555556,\"#d8576b\"],[0.6666666666666666,\"#ed7953\"],[0.7777777777777778,\"#fb9f3a\"],[0.8888888888888888,\"#fdca26\"],[1.0,\"#f0f921\"]],\"type\":\"contour\"}],\"heatmapgl\":[{\"colorbar\":{\"outlinewidth\":0,\"ticks\":\"\"},\"colorscale\":[[0.0,\"#0d0887\"],[0.1111111111111111,\"#46039f\"],[0.2222222222222222,\"#7201a8\"],[0.3333333333333333,\"#9c179e\"],[0.4444444444444444,\"#bd3786\"],[0.5555555555555556,\"#d8576b\"],[0.6666666666666666,\"#ed7953\"],[0.7777777777777778,\"#fb9f3a\"],[0.8888888888888888,\"#fdca26\"],[1.0,\"#f0f921\"]],\"type\":\"heatmapgl\"}],\"heatmap\":[{\"colorbar\":{\"outlinewidth\":0,\"ticks\":\"\"},\"colorscale\":[[0.0,\"#0d0887\"],[0.1111111111111111,\"#46039f\"],[0.2222222222222222,\"#7201a8\"],[0.3333333333333333,\"#9c179e\"],[0.4444444444444444,\"#bd3786\"],[0.5555555555555556,\"#d8576b\"],[0.6666666666666666,\"#ed7953\"],[0.7777777777777778,\"#fb9f3a\"],[0.8888888888888888,\"#fdca26\"],[1.0,\"#f0f921\"]],\"type\":\"heatmap\"}],\"histogram2dcontour\":[{\"colorbar\":{\"outlinewidth\":0,\"ticks\":\"\"},\"colorscale\":[[0.0,\"#0d0887\"],[0.1111111111111111,\"#46039f\"],[0.2222222222222222,\"#7201a8\"],[0.3333333333333333,\"#9c179e\"],[0.4444444444444444,\"#bd3786\"],[0.5555555555555556,\"#d8576b\"],[0.6666666666666666,\"#ed7953\"],[0.7777777777777778,\"#fb9f3a\"],[0.8888888888888888,\"#fdca26\"],[1.0,\"#f0f921\"]],\"type\":\"histogram2dcontour\"}],\"histogram2d\":[{\"colorbar\":{\"outlinewidth\":0,\"ticks\":\"\"},\"colorscale\":[[0.0,\"#0d0887\"],[0.1111111111111111,\"#46039f\"],[0.2222222222222222,\"#7201a8\"],[0.3333333333333333,\"#9c179e\"],[0.4444444444444444,\"#bd3786\"],[0.5555555555555556,\"#d8576b\"],[0.6666666666666666,\"#ed7953\"],[0.7777777777777778,\"#fb9f3a\"],[0.8888888888888888,\"#fdca26\"],[1.0,\"#f0f921\"]],\"type\":\"histogram2d\"}],\"histogram\":[{\"marker\":{\"pattern\":{\"fillmode\":\"overlay\",\"size\":10,\"solidity\":0.2}},\"type\":\"histogram\"}],\"mesh3d\":[{\"colorbar\":{\"outlinewidth\":0,\"ticks\":\"\"},\"type\":\"mesh3d\"}],\"parcoords\":[{\"line\":{\"colorbar\":{\"outlinewidth\":0,\"ticks\":\"\"}},\"type\":\"parcoords\"}],\"pie\":[{\"automargin\":true,\"type\":\"pie\"}],\"scatter3d\":[{\"line\":{\"colorbar\":{\"outlinewidth\":0,\"ticks\":\"\"}},\"marker\":{\"colorbar\":{\"outlinewidth\":0,\"ticks\":\"\"}},\"type\":\"scatter3d\"}],\"scattercarpet\":[{\"marker\":{\"colorbar\":{\"outlinewidth\":0,\"ticks\":\"\"}},\"type\":\"scattercarpet\"}],\"scattergeo\":[{\"marker\":{\"colorbar\":{\"outlinewidth\":0,\"ticks\":\"\"}},\"type\":\"scattergeo\"}],\"scattergl\":[{\"marker\":{\"colorbar\":{\"outlinewidth\":0,\"ticks\":\"\"}},\"type\":\"scattergl\"}],\"scattermapbox\":[{\"marker\":{\"colorbar\":{\"outlinewidth\":0,\"ticks\":\"\"}},\"type\":\"scattermapbox\"}],\"scatterpolargl\":[{\"marker\":{\"colorbar\":{\"outlinewidth\":0,\"ticks\":\"\"}},\"type\":\"scatterpolargl\"}],\"scatterpolar\":[{\"marker\":{\"colorbar\":{\"outlinewidth\":0,\"ticks\":\"\"}},\"type\":\"scatterpolar\"}],\"scatter\":[{\"fillpattern\":{\"fillmode\":\"overlay\",\"size\":10,\"solidity\":0.2},\"type\":\"scatter\"}],\"scatterternary\":[{\"marker\":{\"colorbar\":{\"outlinewidth\":0,\"ticks\":\"\"}},\"type\":\"scatterternary\"}],\"surface\":[{\"colorbar\":{\"outlinewidth\":0,\"ticks\":\"\"},\"colorscale\":[[0.0,\"#0d0887\"],[0.1111111111111111,\"#46039f\"],[0.2222222222222222,\"#7201a8\"],[0.3333333333333333,\"#9c179e\"],[0.4444444444444444,\"#bd3786\"],[0.5555555555555556,\"#d8576b\"],[0.6666666666666666,\"#ed7953\"],[0.7777777777777778,\"#fb9f3a\"],[0.8888888888888888,\"#fdca26\"],[1.0,\"#f0f921\"]],\"type\":\"surface\"}],\"table\":[{\"cells\":{\"fill\":{\"color\":\"#EBF0F8\"},\"line\":{\"color\":\"white\"}},\"header\":{\"fill\":{\"color\":\"#C8D4E3\"},\"line\":{\"color\":\"white\"}},\"type\":\"table\"}]},\"layout\":{\"annotationdefaults\":{\"arrowcolor\":\"#2a3f5f\",\"arrowhead\":0,\"arrowwidth\":1},\"autotypenumbers\":\"strict\",\"coloraxis\":{\"colorbar\":{\"outlinewidth\":0,\"ticks\":\"\"}},\"colorscale\":{\"diverging\":[[0,\"#8e0152\"],[0.1,\"#c51b7d\"],[0.2,\"#de77ae\"],[0.3,\"#f1b6da\"],[0.4,\"#fde0ef\"],[0.5,\"#f7f7f7\"],[0.6,\"#e6f5d0\"],[0.7,\"#b8e186\"],[0.8,\"#7fbc41\"],[0.9,\"#4d9221\"],[1,\"#276419\"]],\"sequential\":[[0.0,\"#0d0887\"],[0.1111111111111111,\"#46039f\"],[0.2222222222222222,\"#7201a8\"],[0.3333333333333333,\"#9c179e\"],[0.4444444444444444,\"#bd3786\"],[0.5555555555555556,\"#d8576b\"],[0.6666666666666666,\"#ed7953\"],[0.7777777777777778,\"#fb9f3a\"],[0.8888888888888888,\"#fdca26\"],[1.0,\"#f0f921\"]],\"sequentialminus\":[[0.0,\"#0d0887\"],[0.1111111111111111,\"#46039f\"],[0.2222222222222222,\"#7201a8\"],[0.3333333333333333,\"#9c179e\"],[0.4444444444444444,\"#bd3786\"],[0.5555555555555556,\"#d8576b\"],[0.6666666666666666,\"#ed7953\"],[0.7777777777777778,\"#fb9f3a\"],[0.8888888888888888,\"#fdca26\"],[1.0,\"#f0f921\"]]},\"colorway\":[\"#636efa\",\"#EF553B\",\"#00cc96\",\"#ab63fa\",\"#FFA15A\",\"#19d3f3\",\"#FF6692\",\"#B6E880\",\"#FF97FF\",\"#FECB52\"],\"font\":{\"color\":\"#2a3f5f\"},\"geo\":{\"bgcolor\":\"white\",\"lakecolor\":\"white\",\"landcolor\":\"#E5ECF6\",\"showlakes\":true,\"showland\":true,\"subunitcolor\":\"white\"},\"hoverlabel\":{\"align\":\"left\"},\"hovermode\":\"closest\",\"mapbox\":{\"style\":\"light\"},\"paper_bgcolor\":\"white\",\"plot_bgcolor\":\"#E5ECF6\",\"polar\":{\"angularaxis\":{\"gridcolor\":\"white\",\"linecolor\":\"white\",\"ticks\":\"\"},\"bgcolor\":\"#E5ECF6\",\"radialaxis\":{\"gridcolor\":\"white\",\"linecolor\":\"white\",\"ticks\":\"\"}},\"scene\":{\"xaxis\":{\"backgroundcolor\":\"#E5ECF6\",\"gridcolor\":\"white\",\"gridwidth\":2,\"linecolor\":\"white\",\"showbackground\":true,\"ticks\":\"\",\"zerolinecolor\":\"white\"},\"yaxis\":{\"backgroundcolor\":\"#E5ECF6\",\"gridcolor\":\"white\",\"gridwidth\":2,\"linecolor\":\"white\",\"showbackground\":true,\"ticks\":\"\",\"zerolinecolor\":\"white\"},\"zaxis\":{\"backgroundcolor\":\"#E5ECF6\",\"gridcolor\":\"white\",\"gridwidth\":2,\"linecolor\":\"white\",\"showbackground\":true,\"ticks\":\"\",\"zerolinecolor\":\"white\"}},\"shapedefaults\":{\"line\":{\"color\":\"#2a3f5f\"}},\"ternary\":{\"aaxis\":{\"gridcolor\":\"white\",\"linecolor\":\"white\",\"ticks\":\"\"},\"baxis\":{\"gridcolor\":\"white\",\"linecolor\":\"white\",\"ticks\":\"\"},\"bgcolor\":\"#E5ECF6\",\"caxis\":{\"gridcolor\":\"white\",\"linecolor\":\"white\",\"ticks\":\"\"}},\"title\":{\"x\":0.05},\"xaxis\":{\"automargin\":true,\"gridcolor\":\"white\",\"linecolor\":\"white\",\"ticks\":\"\",\"title\":{\"standoff\":15},\"zerolinecolor\":\"white\",\"zerolinewidth\":2},\"yaxis\":{\"automargin\":true,\"gridcolor\":\"white\",\"linecolor\":\"white\",\"ticks\":\"\",\"title\":{\"standoff\":15},\"zerolinecolor\":\"white\",\"zerolinewidth\":2}}},\"title\":{\"font\":{\"color\":\"#4D5663\"}},\"xaxis\":{\"gridcolor\":\"#E1E5ED\",\"showgrid\":true,\"tickfont\":{\"color\":\"#4D5663\"},\"title\":{\"font\":{\"color\":\"#4D5663\"},\"text\":\"\"},\"zerolinecolor\":\"#E1E5ED\"},\"yaxis\":{\"gridcolor\":\"#E1E5ED\",\"showgrid\":true,\"tickfont\":{\"color\":\"#4D5663\"},\"title\":{\"font\":{\"color\":\"#4D5663\"},\"text\":\"\"},\"zerolinecolor\":\"#E1E5ED\"}},                        {\"showLink\": true, \"linkText\": \"Export to plot.ly\", \"plotlyServerURL\": \"https://plot.ly\", \"responsive\": true}                    ).then(function(){\n",
       "                            \n",
       "var gd = document.getElementById('cab5f327-505a-44a6-a072-69b5193c8c57');\n",
       "var x = new MutationObserver(function (mutations, observer) {{\n",
       "        var display = window.getComputedStyle(gd).display;\n",
       "        if (!display || display === 'none') {{\n",
       "            console.log([gd, 'removed!']);\n",
       "            Plotly.purge(gd);\n",
       "            observer.disconnect();\n",
       "        }}\n",
       "}});\n",
       "\n",
       "// Listen for the removal of the full notebook cells\n",
       "var notebookContainer = gd.closest('#notebook-container');\n",
       "if (notebookContainer) {{\n",
       "    x.observe(notebookContainer, {childList: true});\n",
       "}}\n",
       "\n",
       "// Listen for the clearing of the current output cell\n",
       "var outputEl = gd.closest('.output');\n",
       "if (outputEl) {{\n",
       "    x.observe(outputEl, {childList: true});\n",
       "}}\n",
       "\n",
       "                        })                };                });            </script>        </div>"
      ]
     },
     "metadata": {},
     "output_type": "display_data"
    }
   ],
   "source": [
    "df.count().iplot(kind='bar')"
   ]
  },
  {
   "cell_type": "markdown",
   "metadata": {},
   "source": [
    "## Boxplots"
   ]
  },
  {
   "cell_type": "code",
   "execution_count": 13,
   "metadata": {},
   "outputs": [
    {
     "data": {
      "application/vnd.plotly.v1+json": {
       "config": {
        "linkText": "Export to plot.ly",
        "plotlyServerURL": "https://plot.ly",
        "showLink": true
       },
       "data": [
        {
         "boxpoints": false,
         "line": {
          "width": 1.3
         },
         "marker": {
          "color": "rgba(255, 153, 51, 1.0)"
         },
         "name": "A",
         "orientation": "v",
         "type": "box",
         "y": [
          -0.8805112749273397,
          1.4546803047490493,
          0.45853165741418406,
          -0.3005759439371258,
          0.9424598261557191,
          0.19201853912783895,
          0.128732384353252,
          -1.1246631977459849,
          1.004559436801384,
          -0.019433001305279293,
          0.8743710434087673,
          1.266547392168914,
          -0.013290881499199495,
          1.2146231112105121,
          0.9026519074182962,
          -0.25852503161661794,
          0.06350722196103391,
          0.061319066665640985,
          0.6826923694271695,
          0.6571582828505825,
          -0.6394539760429969,
          -0.3873354829211536,
          -1.275992785163112,
          -0.9049553682456588,
          0.39140151388641575,
          -1.3261717503652508,
          -0.11176379848313447,
          0.12996215884278603,
          -0.4992525292514862,
          -0.3757696877819027,
          1.8950234573743023,
          -1.9806901072377638,
          -0.23372785694788464,
          -0.8724008970677714,
          -0.34295179012678584,
          0.5427956937168907,
          1.1566492382180327,
          1.3326192990291548,
          -3.338998968955712,
          -1.1091125681635465,
          -1.3795235178695933,
          -1.1995158314131806,
          1.8271736655576276,
          -1.6994936600219739,
          -1.6145550438467797,
          0.9643249901269011,
          0.18191869225186177,
          1.067698235546503,
          -2.1762174829824414,
          0.6125575233486188,
          0.36338752339594443,
          0.30630912374155744,
          0.10269690778525375,
          -0.23617787136845161,
          0.29204680294836505,
          -1.532545565777484,
          0.8019566260245036,
          0.008843763923224425,
          -0.42653027037276425,
          0.28462913192626726,
          0.33580872462837,
          0.09094416649994692,
          -2.105854750180177,
          -2.423062150710898,
          -0.6026419962151889,
          0.4283091936814125,
          -1.178494121002894,
          -0.5400337459898417,
          0.9880569653816528,
          -1.1816843048036256,
          0.08603326565887974,
          1.7909142535972238,
          1.2309346264188081,
          -1.8196369817643112,
          -0.42081030328553204,
          -1.5186485358520676,
          -0.35265366574837465,
          -0.045581613031547445,
          -0.20430067627555923,
          0.5409643956030542,
          -0.41286664820958746,
          0.3410783944367214,
          -0.05382582690926376,
          -1.7286105233045104,
          -3.3274176052282987,
          -0.31580923857082854,
          -0.0022477885108969434,
          -0.7399373198141854,
          -1.0496008215922419,
          -0.018198058774143547,
          0.009171190217878636,
          -0.4359682580386698,
          -1.004700100123502,
          -1.1230110350456142,
          2.1312832353333366,
          2.1284473689005625,
          0.7196357631601891,
          0.35387350270156964,
          -0.7575764541103952,
          0.05885429630124914
         ]
        },
        {
         "boxpoints": false,
         "line": {
          "width": 1.3
         },
         "marker": {
          "color": "rgba(55, 128, 191, 1.0)"
         },
         "name": "B",
         "orientation": "v",
         "type": "box",
         "y": [
          -0.040620682752938356,
          0.6425512540068671,
          0.14954889475613145,
          0.49045887473164235,
          -0.5827195860487148,
          -0.13496047818515644,
          -0.9893694661713424,
          0.07739330554695359,
          1.2774594950431841,
          0.9051893198035333,
          0.43346916701428506,
          -0.8306833793111323,
          -1.3092321307066412,
          1.4813037309002575,
          -0.34839072009165795,
          -2.5934705048348343,
          1.2081323105876758,
          -0.09907281821256546,
          0.9136907908933014,
          -0.12432182626363361,
          0.925676795487707,
          -0.09977335171951576,
          1.4892365866941903,
          -0.8429186160540141,
          -0.3025715984088873,
          0.2679478968963423,
          0.56905456426694,
          0.2941970762016016,
          1.3056771575832564,
          -1.7443669852439025,
          -0.28515992298943627,
          -0.5145847265601052,
          0.035708484457847633,
          1.627107409135958,
          0.5335426874062241,
          -1.3189437705400466,
          0.02713630906105749,
          -0.038583607971776374,
          -0.5859905137239353,
          -1.2177623765108856,
          0.4515652168570346,
          -0.965931380122257,
          0.23111129390548757,
          0.3898620573440986,
          0.07476211856250009,
          0.32798815670390036,
          -0.9908999331121211,
          -0.3651869892093611,
          -0.007334796306520177,
          0.6839228452193726,
          2.1371650254650323,
          0.6489511031859807,
          -0.0012767696323471123,
          0.278889171030196,
          -0.33165140572707336,
          -0.5680326867475078,
          -0.5415757221815488,
          -0.7935480405004463,
          2.0211246678010775,
          -0.8997668043881036,
          0.3324242707696821,
          0.026734950348676796,
          1.1922255118347185,
          -0.7697899008768124,
          0.44790487649560123,
          0.0939673325457032,
          2.1821417801637426,
          0.774139202896262,
          0.517067398756495,
          0.11010871823609361,
          -0.16470198410872866,
          0.49069038348064636,
          1.4607640667920616,
          0.20981002442152016,
          0.6103777309682441,
          -1.26145508089656,
          -0.13052525017463731,
          0.6092958179619178,
          2.016326021795919,
          1.1692372030554616,
          -0.7226676608429432,
          0.6311301714091945,
          0.27447197998064354,
          -0.22685920767083032,
          -0.3324216234957669,
          0.32721386514126644,
          0.33811135832490846,
          0.10292645064304927,
          1.0746877746327905,
          -0.6545233505727898,
          0.18354641835424212,
          0.18527408763830389,
          -0.38314438999148615,
          -0.6569472338029486,
          0.06183474638568763,
          1.5813137036549005,
          1.5835367596453647,
          1.4283287411040775,
          -2.0300800263880037,
          1.5790161429256748
         ]
        },
        {
         "boxpoints": false,
         "line": {
          "width": 1.3
         },
         "marker": {
          "color": "rgba(50, 171, 96, 1.0)"
         },
         "name": "C",
         "orientation": "v",
         "type": "box",
         "y": [
          -0.7373178581637543,
          1.2094282562187213,
          -0.8059119674331232,
          0.4876760751296238,
          -1.8064069520807258,
          -1.5737541884892818,
          0.1743789018229636,
          0.15281584239647017,
          2.244565344116197,
          1.0601479640163183,
          -0.5984122253086601,
          2.1435870040904086,
          0.6970531744694549,
          1.3759019920345859,
          1.8206631615829603,
          -0.028007465173700216,
          0.1428670677979271,
          -1.5979618363066557,
          0.5821058379949517,
          0.94386490701705,
          -1.2454178739856687,
          1.50661866559273,
          1.0869705895443469,
          1.6823727569828384,
          -0.8595273491126317,
          1.478320527760731,
          0.8162269049288953,
          0.5859220020319909,
          2.267898195446429,
          -0.35834491582002986,
          0.26598690520998214,
          -0.41533934704953945,
          1.2314433022629834,
          0.5600347720230504,
          0.40871590238812405,
          1.404608521107051,
          -0.0878461613244193,
          -0.7475328524313366,
          2.385831356221766,
          -0.15890511866981596,
          2.117139343156385,
          0.5961751395270899,
          -2.593387530688035,
          -0.26591322917759513,
          -0.39401309986313693,
          -0.22155029660222936,
          0.3695871934149242,
          0.5438226827080714,
          0.8599277357293486,
          0.8539903451802754,
          1.2456261673231157,
          -0.14294118703247036,
          -0.65164181039537,
          0.3000145649784694,
          -1.4459222155878377,
          -2.181327130251743,
          -1.5203395854167638,
          1.0370276033763146,
          0.8191918541369059,
          -0.24053659828283894,
          0.11868536157701531,
          1.8226415967280403,
          0.5221077987448178,
          -0.19584582131634867,
          0.578095034317103,
          -0.8456010765416432,
          -0.8475567682328727,
          0.6603753282845514,
          0.31592619336185124,
          0.39206835973372584,
          1.1417750462546776,
          -0.399904498048505,
          -1.1319856826194006,
          1.7886764693375763,
          0.642866245399601,
          -2.179668933455267,
          -0.9643433675465127,
          0.3212202032512991,
          0.050336948173034655,
          0.7662372734627357,
          0.25476345377570786,
          -0.14591352118157488,
          0.5914620862330049,
          1.1976005872437367,
          1.5745749474886952,
          -0.2967696059816843,
          -0.44343486877246796,
          0.94860467672076,
          0.9419019770815412,
          0.9713735465843496,
          -0.327698313732574,
          0.1493764488971369,
          -0.5461573419394765,
          -1.0342933267727203,
          -1.065861676081342,
          2.1819785360128434,
          -1.3487349594611897,
          -4.135527763244468,
          -0.1379146235635607,
          -2.2116708575521553
         ]
        },
        {
         "boxpoints": false,
         "line": {
          "width": 1.3
         },
         "marker": {
          "color": "rgba(128, 0, 128, 1.0)"
         },
         "name": "D",
         "orientation": "v",
         "type": "box",
         "y": [
          -0.4094127428579206,
          -0.21816781863242246,
          1.11448266416044,
          -0.1295544427424413,
          0.9226234272267713,
          -1.232597784007126,
          -2.3601243523486963,
          -0.32340141787187887,
          0.6731101043432102,
          0.785305169819162,
          0.27584025105219745,
          -0.11215689418312598,
          -0.20064416491791479,
          -0.0009059663933048694,
          1.4443434794407248,
          1.016528312061317,
          1.6641673730697764,
          0.04237359660649589,
          0.2233088195758519,
          1.3451104368623341,
          -1.4227103743188094,
          -0.015315517765536298,
          1.0901723323236299,
          0.4010443231955874,
          -0.1359114955903373,
          0.38956577638360607,
          1.7177436381783815,
          -0.8930249405238582,
          -0.4282164926175609,
          -1.8187788442944304,
          1.2682080452118343,
          0.12234140101068217,
          -0.8587475191336498,
          -1.5952743956320585,
          -0.13931033039380844,
          0.3842636293682735,
          1.2841775594688878,
          -0.7655395790179279,
          -0.6177598552260284,
          0.8062901352699203,
          -1.0399997923046052,
          -0.8664557866152551,
          -0.7897816866310353,
          0.050552240392427346,
          -0.2758437203732586,
          1.2920111325917742,
          0.28703816892970224,
          0.45988639739509185,
          -0.18131820133397009,
          -2.0977034044556135,
          1.227686719707167,
          0.4410357331332495,
          1.3952479105120492,
          -0.728864022524065,
          1.2863027684115462,
          0.39965171094439944,
          -0.13336291183844542,
          -0.29240394314362955,
          0.27221939341837165,
          -0.16578246600085056,
          0.09352322007013927,
          0.40109979187341505,
          -0.6597971338563279,
          -0.14011372429474933,
          1.6135575003426434,
          -1.5380265561895399,
          0.06210467572715678,
          -0.36647507655689215,
          -0.20050236092492363,
          1.102189603246003,
          1.1076625879119724,
          -0.6173356475896526,
          -1.0517705328368148,
          -1.3667935238181685,
          2.0123677414946957,
          0.41700942992506784,
          -0.2595000507564968,
          0.39618910311449435,
          1.6292195940830516,
          1.7212727478638084,
          -0.7317401825711949,
          -0.5913161776502358,
          0.9365095450762048,
          1.998958277374428,
          0.9459905865789764,
          0.7441567293415282,
          0.75163136873997,
          0.7633044070608969,
          -0.11419874779609812,
          1.1899648367953914,
          1.5021766800259608,
          1.092742915606824,
          -0.16727633369836986,
          -0.743141975707925,
          -1.1083816961888047,
          -0.2086596930734489,
          -0.21247015297495855,
          0.9066772485657766,
          0.17841663489329393,
          -1.198655616253056
         ]
        }
       ],
       "layout": {
        "legend": {
         "bgcolor": "#F5F6F9",
         "font": {
          "color": "#4D5663"
         }
        },
        "paper_bgcolor": "#F5F6F9",
        "plot_bgcolor": "#F5F6F9",
        "template": {
         "data": {
          "bar": [
           {
            "error_x": {
             "color": "#2a3f5f"
            },
            "error_y": {
             "color": "#2a3f5f"
            },
            "marker": {
             "line": {
              "color": "#E5ECF6",
              "width": 0.5
             },
             "pattern": {
              "fillmode": "overlay",
              "size": 10,
              "solidity": 0.2
             }
            },
            "type": "bar"
           }
          ],
          "barpolar": [
           {
            "marker": {
             "line": {
              "color": "#E5ECF6",
              "width": 0.5
             },
             "pattern": {
              "fillmode": "overlay",
              "size": 10,
              "solidity": 0.2
             }
            },
            "type": "barpolar"
           }
          ],
          "carpet": [
           {
            "aaxis": {
             "endlinecolor": "#2a3f5f",
             "gridcolor": "white",
             "linecolor": "white",
             "minorgridcolor": "white",
             "startlinecolor": "#2a3f5f"
            },
            "baxis": {
             "endlinecolor": "#2a3f5f",
             "gridcolor": "white",
             "linecolor": "white",
             "minorgridcolor": "white",
             "startlinecolor": "#2a3f5f"
            },
            "type": "carpet"
           }
          ],
          "choropleth": [
           {
            "colorbar": {
             "outlinewidth": 0,
             "ticks": ""
            },
            "type": "choropleth"
           }
          ],
          "contour": [
           {
            "colorbar": {
             "outlinewidth": 0,
             "ticks": ""
            },
            "colorscale": [
             [
              0,
              "#0d0887"
             ],
             [
              0.1111111111111111,
              "#46039f"
             ],
             [
              0.2222222222222222,
              "#7201a8"
             ],
             [
              0.3333333333333333,
              "#9c179e"
             ],
             [
              0.4444444444444444,
              "#bd3786"
             ],
             [
              0.5555555555555556,
              "#d8576b"
             ],
             [
              0.6666666666666666,
              "#ed7953"
             ],
             [
              0.7777777777777778,
              "#fb9f3a"
             ],
             [
              0.8888888888888888,
              "#fdca26"
             ],
             [
              1,
              "#f0f921"
             ]
            ],
            "type": "contour"
           }
          ],
          "contourcarpet": [
           {
            "colorbar": {
             "outlinewidth": 0,
             "ticks": ""
            },
            "type": "contourcarpet"
           }
          ],
          "heatmap": [
           {
            "colorbar": {
             "outlinewidth": 0,
             "ticks": ""
            },
            "colorscale": [
             [
              0,
              "#0d0887"
             ],
             [
              0.1111111111111111,
              "#46039f"
             ],
             [
              0.2222222222222222,
              "#7201a8"
             ],
             [
              0.3333333333333333,
              "#9c179e"
             ],
             [
              0.4444444444444444,
              "#bd3786"
             ],
             [
              0.5555555555555556,
              "#d8576b"
             ],
             [
              0.6666666666666666,
              "#ed7953"
             ],
             [
              0.7777777777777778,
              "#fb9f3a"
             ],
             [
              0.8888888888888888,
              "#fdca26"
             ],
             [
              1,
              "#f0f921"
             ]
            ],
            "type": "heatmap"
           }
          ],
          "heatmapgl": [
           {
            "colorbar": {
             "outlinewidth": 0,
             "ticks": ""
            },
            "colorscale": [
             [
              0,
              "#0d0887"
             ],
             [
              0.1111111111111111,
              "#46039f"
             ],
             [
              0.2222222222222222,
              "#7201a8"
             ],
             [
              0.3333333333333333,
              "#9c179e"
             ],
             [
              0.4444444444444444,
              "#bd3786"
             ],
             [
              0.5555555555555556,
              "#d8576b"
             ],
             [
              0.6666666666666666,
              "#ed7953"
             ],
             [
              0.7777777777777778,
              "#fb9f3a"
             ],
             [
              0.8888888888888888,
              "#fdca26"
             ],
             [
              1,
              "#f0f921"
             ]
            ],
            "type": "heatmapgl"
           }
          ],
          "histogram": [
           {
            "marker": {
             "pattern": {
              "fillmode": "overlay",
              "size": 10,
              "solidity": 0.2
             }
            },
            "type": "histogram"
           }
          ],
          "histogram2d": [
           {
            "colorbar": {
             "outlinewidth": 0,
             "ticks": ""
            },
            "colorscale": [
             [
              0,
              "#0d0887"
             ],
             [
              0.1111111111111111,
              "#46039f"
             ],
             [
              0.2222222222222222,
              "#7201a8"
             ],
             [
              0.3333333333333333,
              "#9c179e"
             ],
             [
              0.4444444444444444,
              "#bd3786"
             ],
             [
              0.5555555555555556,
              "#d8576b"
             ],
             [
              0.6666666666666666,
              "#ed7953"
             ],
             [
              0.7777777777777778,
              "#fb9f3a"
             ],
             [
              0.8888888888888888,
              "#fdca26"
             ],
             [
              1,
              "#f0f921"
             ]
            ],
            "type": "histogram2d"
           }
          ],
          "histogram2dcontour": [
           {
            "colorbar": {
             "outlinewidth": 0,
             "ticks": ""
            },
            "colorscale": [
             [
              0,
              "#0d0887"
             ],
             [
              0.1111111111111111,
              "#46039f"
             ],
             [
              0.2222222222222222,
              "#7201a8"
             ],
             [
              0.3333333333333333,
              "#9c179e"
             ],
             [
              0.4444444444444444,
              "#bd3786"
             ],
             [
              0.5555555555555556,
              "#d8576b"
             ],
             [
              0.6666666666666666,
              "#ed7953"
             ],
             [
              0.7777777777777778,
              "#fb9f3a"
             ],
             [
              0.8888888888888888,
              "#fdca26"
             ],
             [
              1,
              "#f0f921"
             ]
            ],
            "type": "histogram2dcontour"
           }
          ],
          "mesh3d": [
           {
            "colorbar": {
             "outlinewidth": 0,
             "ticks": ""
            },
            "type": "mesh3d"
           }
          ],
          "parcoords": [
           {
            "line": {
             "colorbar": {
              "outlinewidth": 0,
              "ticks": ""
             }
            },
            "type": "parcoords"
           }
          ],
          "pie": [
           {
            "automargin": true,
            "type": "pie"
           }
          ],
          "scatter": [
           {
            "fillpattern": {
             "fillmode": "overlay",
             "size": 10,
             "solidity": 0.2
            },
            "type": "scatter"
           }
          ],
          "scatter3d": [
           {
            "line": {
             "colorbar": {
              "outlinewidth": 0,
              "ticks": ""
             }
            },
            "marker": {
             "colorbar": {
              "outlinewidth": 0,
              "ticks": ""
             }
            },
            "type": "scatter3d"
           }
          ],
          "scattercarpet": [
           {
            "marker": {
             "colorbar": {
              "outlinewidth": 0,
              "ticks": ""
             }
            },
            "type": "scattercarpet"
           }
          ],
          "scattergeo": [
           {
            "marker": {
             "colorbar": {
              "outlinewidth": 0,
              "ticks": ""
             }
            },
            "type": "scattergeo"
           }
          ],
          "scattergl": [
           {
            "marker": {
             "colorbar": {
              "outlinewidth": 0,
              "ticks": ""
             }
            },
            "type": "scattergl"
           }
          ],
          "scattermapbox": [
           {
            "marker": {
             "colorbar": {
              "outlinewidth": 0,
              "ticks": ""
             }
            },
            "type": "scattermapbox"
           }
          ],
          "scatterpolar": [
           {
            "marker": {
             "colorbar": {
              "outlinewidth": 0,
              "ticks": ""
             }
            },
            "type": "scatterpolar"
           }
          ],
          "scatterpolargl": [
           {
            "marker": {
             "colorbar": {
              "outlinewidth": 0,
              "ticks": ""
             }
            },
            "type": "scatterpolargl"
           }
          ],
          "scatterternary": [
           {
            "marker": {
             "colorbar": {
              "outlinewidth": 0,
              "ticks": ""
             }
            },
            "type": "scatterternary"
           }
          ],
          "surface": [
           {
            "colorbar": {
             "outlinewidth": 0,
             "ticks": ""
            },
            "colorscale": [
             [
              0,
              "#0d0887"
             ],
             [
              0.1111111111111111,
              "#46039f"
             ],
             [
              0.2222222222222222,
              "#7201a8"
             ],
             [
              0.3333333333333333,
              "#9c179e"
             ],
             [
              0.4444444444444444,
              "#bd3786"
             ],
             [
              0.5555555555555556,
              "#d8576b"
             ],
             [
              0.6666666666666666,
              "#ed7953"
             ],
             [
              0.7777777777777778,
              "#fb9f3a"
             ],
             [
              0.8888888888888888,
              "#fdca26"
             ],
             [
              1,
              "#f0f921"
             ]
            ],
            "type": "surface"
           }
          ],
          "table": [
           {
            "cells": {
             "fill": {
              "color": "#EBF0F8"
             },
             "line": {
              "color": "white"
             }
            },
            "header": {
             "fill": {
              "color": "#C8D4E3"
             },
             "line": {
              "color": "white"
             }
            },
            "type": "table"
           }
          ]
         },
         "layout": {
          "annotationdefaults": {
           "arrowcolor": "#2a3f5f",
           "arrowhead": 0,
           "arrowwidth": 1
          },
          "autotypenumbers": "strict",
          "coloraxis": {
           "colorbar": {
            "outlinewidth": 0,
            "ticks": ""
           }
          },
          "colorscale": {
           "diverging": [
            [
             0,
             "#8e0152"
            ],
            [
             0.1,
             "#c51b7d"
            ],
            [
             0.2,
             "#de77ae"
            ],
            [
             0.3,
             "#f1b6da"
            ],
            [
             0.4,
             "#fde0ef"
            ],
            [
             0.5,
             "#f7f7f7"
            ],
            [
             0.6,
             "#e6f5d0"
            ],
            [
             0.7,
             "#b8e186"
            ],
            [
             0.8,
             "#7fbc41"
            ],
            [
             0.9,
             "#4d9221"
            ],
            [
             1,
             "#276419"
            ]
           ],
           "sequential": [
            [
             0,
             "#0d0887"
            ],
            [
             0.1111111111111111,
             "#46039f"
            ],
            [
             0.2222222222222222,
             "#7201a8"
            ],
            [
             0.3333333333333333,
             "#9c179e"
            ],
            [
             0.4444444444444444,
             "#bd3786"
            ],
            [
             0.5555555555555556,
             "#d8576b"
            ],
            [
             0.6666666666666666,
             "#ed7953"
            ],
            [
             0.7777777777777778,
             "#fb9f3a"
            ],
            [
             0.8888888888888888,
             "#fdca26"
            ],
            [
             1,
             "#f0f921"
            ]
           ],
           "sequentialminus": [
            [
             0,
             "#0d0887"
            ],
            [
             0.1111111111111111,
             "#46039f"
            ],
            [
             0.2222222222222222,
             "#7201a8"
            ],
            [
             0.3333333333333333,
             "#9c179e"
            ],
            [
             0.4444444444444444,
             "#bd3786"
            ],
            [
             0.5555555555555556,
             "#d8576b"
            ],
            [
             0.6666666666666666,
             "#ed7953"
            ],
            [
             0.7777777777777778,
             "#fb9f3a"
            ],
            [
             0.8888888888888888,
             "#fdca26"
            ],
            [
             1,
             "#f0f921"
            ]
           ]
          },
          "colorway": [
           "#636efa",
           "#EF553B",
           "#00cc96",
           "#ab63fa",
           "#FFA15A",
           "#19d3f3",
           "#FF6692",
           "#B6E880",
           "#FF97FF",
           "#FECB52"
          ],
          "font": {
           "color": "#2a3f5f"
          },
          "geo": {
           "bgcolor": "white",
           "lakecolor": "white",
           "landcolor": "#E5ECF6",
           "showlakes": true,
           "showland": true,
           "subunitcolor": "white"
          },
          "hoverlabel": {
           "align": "left"
          },
          "hovermode": "closest",
          "mapbox": {
           "style": "light"
          },
          "paper_bgcolor": "white",
          "plot_bgcolor": "#E5ECF6",
          "polar": {
           "angularaxis": {
            "gridcolor": "white",
            "linecolor": "white",
            "ticks": ""
           },
           "bgcolor": "#E5ECF6",
           "radialaxis": {
            "gridcolor": "white",
            "linecolor": "white",
            "ticks": ""
           }
          },
          "scene": {
           "xaxis": {
            "backgroundcolor": "#E5ECF6",
            "gridcolor": "white",
            "gridwidth": 2,
            "linecolor": "white",
            "showbackground": true,
            "ticks": "",
            "zerolinecolor": "white"
           },
           "yaxis": {
            "backgroundcolor": "#E5ECF6",
            "gridcolor": "white",
            "gridwidth": 2,
            "linecolor": "white",
            "showbackground": true,
            "ticks": "",
            "zerolinecolor": "white"
           },
           "zaxis": {
            "backgroundcolor": "#E5ECF6",
            "gridcolor": "white",
            "gridwidth": 2,
            "linecolor": "white",
            "showbackground": true,
            "ticks": "",
            "zerolinecolor": "white"
           }
          },
          "shapedefaults": {
           "line": {
            "color": "#2a3f5f"
           }
          },
          "ternary": {
           "aaxis": {
            "gridcolor": "white",
            "linecolor": "white",
            "ticks": ""
           },
           "baxis": {
            "gridcolor": "white",
            "linecolor": "white",
            "ticks": ""
           },
           "bgcolor": "#E5ECF6",
           "caxis": {
            "gridcolor": "white",
            "linecolor": "white",
            "ticks": ""
           }
          },
          "title": {
           "x": 0.05
          },
          "xaxis": {
           "automargin": true,
           "gridcolor": "white",
           "linecolor": "white",
           "ticks": "",
           "title": {
            "standoff": 15
           },
           "zerolinecolor": "white",
           "zerolinewidth": 2
          },
          "yaxis": {
           "automargin": true,
           "gridcolor": "white",
           "linecolor": "white",
           "ticks": "",
           "title": {
            "standoff": 15
           },
           "zerolinecolor": "white",
           "zerolinewidth": 2
          }
         }
        },
        "title": {
         "font": {
          "color": "#4D5663"
         }
        },
        "xaxis": {
         "gridcolor": "#E1E5ED",
         "showgrid": true,
         "tickfont": {
          "color": "#4D5663"
         },
         "title": {
          "font": {
           "color": "#4D5663"
          },
          "text": ""
         },
         "zerolinecolor": "#E1E5ED"
        },
        "yaxis": {
         "gridcolor": "#E1E5ED",
         "showgrid": true,
         "tickfont": {
          "color": "#4D5663"
         },
         "title": {
          "font": {
           "color": "#4D5663"
          },
          "text": ""
         },
         "zerolinecolor": "#E1E5ED"
        }
       }
      },
      "text/html": [
       "<div>                            <div id=\"e15d2c46-1dce-4287-9573-d09b6e620674\" class=\"plotly-graph-div\" style=\"height:525px; width:100%;\"></div>            <script type=\"text/javascript\">                require([\"plotly\"], function(Plotly) {                    window.PLOTLYENV=window.PLOTLYENV || {};\n",
       "                    window.PLOTLYENV.BASE_URL='https://plot.ly';                                    if (document.getElementById(\"e15d2c46-1dce-4287-9573-d09b6e620674\")) {                    Plotly.newPlot(                        \"e15d2c46-1dce-4287-9573-d09b6e620674\",                        [{\"boxpoints\":false,\"line\":{\"width\":1.3},\"marker\":{\"color\":\"rgba(255, 153, 51, 1.0)\"},\"name\":\"A\",\"orientation\":\"v\",\"y\":[-0.8805112749273397,1.4546803047490493,0.45853165741418406,-0.3005759439371258,0.9424598261557191,0.19201853912783895,0.128732384353252,-1.1246631977459849,1.004559436801384,-0.019433001305279293,0.8743710434087673,1.266547392168914,-0.013290881499199495,1.2146231112105121,0.9026519074182962,-0.25852503161661794,0.06350722196103391,0.061319066665640985,0.6826923694271695,0.6571582828505825,-0.6394539760429969,-0.3873354829211536,-1.275992785163112,-0.9049553682456588,0.39140151388641575,-1.3261717503652508,-0.11176379848313447,0.12996215884278603,-0.4992525292514862,-0.3757696877819027,1.8950234573743023,-1.9806901072377638,-0.23372785694788464,-0.8724008970677714,-0.34295179012678584,0.5427956937168907,1.1566492382180327,1.3326192990291548,-3.338998968955712,-1.1091125681635465,-1.3795235178695933,-1.1995158314131806,1.8271736655576276,-1.6994936600219739,-1.6145550438467797,0.9643249901269011,0.18191869225186177,1.067698235546503,-2.1762174829824414,0.6125575233486188,0.36338752339594443,0.30630912374155744,0.10269690778525375,-0.23617787136845161,0.29204680294836505,-1.532545565777484,0.8019566260245036,0.008843763923224425,-0.42653027037276425,0.28462913192626726,0.33580872462837,0.09094416649994692,-2.105854750180177,-2.423062150710898,-0.6026419962151889,0.4283091936814125,-1.178494121002894,-0.5400337459898417,0.9880569653816528,-1.1816843048036256,0.08603326565887974,1.7909142535972238,1.2309346264188081,-1.8196369817643112,-0.42081030328553204,-1.5186485358520676,-0.35265366574837465,-0.045581613031547445,-0.20430067627555923,0.5409643956030542,-0.41286664820958746,0.3410783944367214,-0.05382582690926376,-1.7286105233045104,-3.3274176052282987,-0.31580923857082854,-0.0022477885108969434,-0.7399373198141854,-1.0496008215922419,-0.018198058774143547,0.009171190217878636,-0.4359682580386698,-1.004700100123502,-1.1230110350456142,2.1312832353333366,2.1284473689005625,0.7196357631601891,0.35387350270156964,-0.7575764541103952,0.05885429630124914],\"type\":\"box\"},{\"boxpoints\":false,\"line\":{\"width\":1.3},\"marker\":{\"color\":\"rgba(55, 128, 191, 1.0)\"},\"name\":\"B\",\"orientation\":\"v\",\"y\":[-0.040620682752938356,0.6425512540068671,0.14954889475613145,0.49045887473164235,-0.5827195860487148,-0.13496047818515644,-0.9893694661713424,0.07739330554695359,1.2774594950431841,0.9051893198035333,0.43346916701428506,-0.8306833793111323,-1.3092321307066412,1.4813037309002575,-0.34839072009165795,-2.5934705048348343,1.2081323105876758,-0.09907281821256546,0.9136907908933014,-0.12432182626363361,0.925676795487707,-0.09977335171951576,1.4892365866941903,-0.8429186160540141,-0.3025715984088873,0.2679478968963423,0.56905456426694,0.2941970762016016,1.3056771575832564,-1.7443669852439025,-0.28515992298943627,-0.5145847265601052,0.035708484457847633,1.627107409135958,0.5335426874062241,-1.3189437705400466,0.02713630906105749,-0.038583607971776374,-0.5859905137239353,-1.2177623765108856,0.4515652168570346,-0.965931380122257,0.23111129390548757,0.3898620573440986,0.07476211856250009,0.32798815670390036,-0.9908999331121211,-0.3651869892093611,-0.007334796306520177,0.6839228452193726,2.1371650254650323,0.6489511031859807,-0.0012767696323471123,0.278889171030196,-0.33165140572707336,-0.5680326867475078,-0.5415757221815488,-0.7935480405004463,2.0211246678010775,-0.8997668043881036,0.3324242707696821,0.026734950348676796,1.1922255118347185,-0.7697899008768124,0.44790487649560123,0.0939673325457032,2.1821417801637426,0.774139202896262,0.517067398756495,0.11010871823609361,-0.16470198410872866,0.49069038348064636,1.4607640667920616,0.20981002442152016,0.6103777309682441,-1.26145508089656,-0.13052525017463731,0.6092958179619178,2.016326021795919,1.1692372030554616,-0.7226676608429432,0.6311301714091945,0.27447197998064354,-0.22685920767083032,-0.3324216234957669,0.32721386514126644,0.33811135832490846,0.10292645064304927,1.0746877746327905,-0.6545233505727898,0.18354641835424212,0.18527408763830389,-0.38314438999148615,-0.6569472338029486,0.06183474638568763,1.5813137036549005,1.5835367596453647,1.4283287411040775,-2.0300800263880037,1.5790161429256748],\"type\":\"box\"},{\"boxpoints\":false,\"line\":{\"width\":1.3},\"marker\":{\"color\":\"rgba(50, 171, 96, 1.0)\"},\"name\":\"C\",\"orientation\":\"v\",\"y\":[-0.7373178581637543,1.2094282562187213,-0.8059119674331232,0.4876760751296238,-1.8064069520807258,-1.5737541884892818,0.1743789018229636,0.15281584239647017,2.244565344116197,1.0601479640163183,-0.5984122253086601,2.1435870040904086,0.6970531744694549,1.3759019920345859,1.8206631615829603,-0.028007465173700216,0.1428670677979271,-1.5979618363066557,0.5821058379949517,0.94386490701705,-1.2454178739856687,1.50661866559273,1.0869705895443469,1.6823727569828384,-0.8595273491126317,1.478320527760731,0.8162269049288953,0.5859220020319909,2.267898195446429,-0.35834491582002986,0.26598690520998214,-0.41533934704953945,1.2314433022629834,0.5600347720230504,0.40871590238812405,1.404608521107051,-0.0878461613244193,-0.7475328524313366,2.385831356221766,-0.15890511866981596,2.117139343156385,0.5961751395270899,-2.593387530688035,-0.26591322917759513,-0.39401309986313693,-0.22155029660222936,0.3695871934149242,0.5438226827080714,0.8599277357293486,0.8539903451802754,1.2456261673231157,-0.14294118703247036,-0.65164181039537,0.3000145649784694,-1.4459222155878377,-2.181327130251743,-1.5203395854167638,1.0370276033763146,0.8191918541369059,-0.24053659828283894,0.11868536157701531,1.8226415967280403,0.5221077987448178,-0.19584582131634867,0.578095034317103,-0.8456010765416432,-0.8475567682328727,0.6603753282845514,0.31592619336185124,0.39206835973372584,1.1417750462546776,-0.399904498048505,-1.1319856826194006,1.7886764693375763,0.642866245399601,-2.179668933455267,-0.9643433675465127,0.3212202032512991,0.050336948173034655,0.7662372734627357,0.25476345377570786,-0.14591352118157488,0.5914620862330049,1.1976005872437367,1.5745749474886952,-0.2967696059816843,-0.44343486877246796,0.94860467672076,0.9419019770815412,0.9713735465843496,-0.327698313732574,0.1493764488971369,-0.5461573419394765,-1.0342933267727203,-1.065861676081342,2.1819785360128434,-1.3487349594611897,-4.135527763244468,-0.1379146235635607,-2.2116708575521553],\"type\":\"box\"},{\"boxpoints\":false,\"line\":{\"width\":1.3},\"marker\":{\"color\":\"rgba(128, 0, 128, 1.0)\"},\"name\":\"D\",\"orientation\":\"v\",\"y\":[-0.4094127428579206,-0.21816781863242246,1.11448266416044,-0.1295544427424413,0.9226234272267713,-1.232597784007126,-2.3601243523486963,-0.32340141787187887,0.6731101043432102,0.785305169819162,0.27584025105219745,-0.11215689418312598,-0.20064416491791479,-0.0009059663933048694,1.4443434794407248,1.016528312061317,1.6641673730697764,0.04237359660649589,0.2233088195758519,1.3451104368623341,-1.4227103743188094,-0.015315517765536298,1.0901723323236299,0.4010443231955874,-0.1359114955903373,0.38956577638360607,1.7177436381783815,-0.8930249405238582,-0.4282164926175609,-1.8187788442944304,1.2682080452118343,0.12234140101068217,-0.8587475191336498,-1.5952743956320585,-0.13931033039380844,0.3842636293682735,1.2841775594688878,-0.7655395790179279,-0.6177598552260284,0.8062901352699203,-1.0399997923046052,-0.8664557866152551,-0.7897816866310353,0.050552240392427346,-0.2758437203732586,1.2920111325917742,0.28703816892970224,0.45988639739509185,-0.18131820133397009,-2.0977034044556135,1.227686719707167,0.4410357331332495,1.3952479105120492,-0.728864022524065,1.2863027684115462,0.39965171094439944,-0.13336291183844542,-0.29240394314362955,0.27221939341837165,-0.16578246600085056,0.09352322007013927,0.40109979187341505,-0.6597971338563279,-0.14011372429474933,1.6135575003426434,-1.5380265561895399,0.06210467572715678,-0.36647507655689215,-0.20050236092492363,1.102189603246003,1.1076625879119724,-0.6173356475896526,-1.0517705328368148,-1.3667935238181685,2.0123677414946957,0.41700942992506784,-0.2595000507564968,0.39618910311449435,1.6292195940830516,1.7212727478638084,-0.7317401825711949,-0.5913161776502358,0.9365095450762048,1.998958277374428,0.9459905865789764,0.7441567293415282,0.75163136873997,0.7633044070608969,-0.11419874779609812,1.1899648367953914,1.5021766800259608,1.092742915606824,-0.16727633369836986,-0.743141975707925,-1.1083816961888047,-0.2086596930734489,-0.21247015297495855,0.9066772485657766,0.17841663489329393,-1.198655616253056],\"type\":\"box\"}],                        {\"legend\":{\"bgcolor\":\"#F5F6F9\",\"font\":{\"color\":\"#4D5663\"}},\"paper_bgcolor\":\"#F5F6F9\",\"plot_bgcolor\":\"#F5F6F9\",\"template\":{\"data\":{\"barpolar\":[{\"marker\":{\"line\":{\"color\":\"#E5ECF6\",\"width\":0.5},\"pattern\":{\"fillmode\":\"overlay\",\"size\":10,\"solidity\":0.2}},\"type\":\"barpolar\"}],\"bar\":[{\"error_x\":{\"color\":\"#2a3f5f\"},\"error_y\":{\"color\":\"#2a3f5f\"},\"marker\":{\"line\":{\"color\":\"#E5ECF6\",\"width\":0.5},\"pattern\":{\"fillmode\":\"overlay\",\"size\":10,\"solidity\":0.2}},\"type\":\"bar\"}],\"carpet\":[{\"aaxis\":{\"endlinecolor\":\"#2a3f5f\",\"gridcolor\":\"white\",\"linecolor\":\"white\",\"minorgridcolor\":\"white\",\"startlinecolor\":\"#2a3f5f\"},\"baxis\":{\"endlinecolor\":\"#2a3f5f\",\"gridcolor\":\"white\",\"linecolor\":\"white\",\"minorgridcolor\":\"white\",\"startlinecolor\":\"#2a3f5f\"},\"type\":\"carpet\"}],\"choropleth\":[{\"colorbar\":{\"outlinewidth\":0,\"ticks\":\"\"},\"type\":\"choropleth\"}],\"contourcarpet\":[{\"colorbar\":{\"outlinewidth\":0,\"ticks\":\"\"},\"type\":\"contourcarpet\"}],\"contour\":[{\"colorbar\":{\"outlinewidth\":0,\"ticks\":\"\"},\"colorscale\":[[0.0,\"#0d0887\"],[0.1111111111111111,\"#46039f\"],[0.2222222222222222,\"#7201a8\"],[0.3333333333333333,\"#9c179e\"],[0.4444444444444444,\"#bd3786\"],[0.5555555555555556,\"#d8576b\"],[0.6666666666666666,\"#ed7953\"],[0.7777777777777778,\"#fb9f3a\"],[0.8888888888888888,\"#fdca26\"],[1.0,\"#f0f921\"]],\"type\":\"contour\"}],\"heatmapgl\":[{\"colorbar\":{\"outlinewidth\":0,\"ticks\":\"\"},\"colorscale\":[[0.0,\"#0d0887\"],[0.1111111111111111,\"#46039f\"],[0.2222222222222222,\"#7201a8\"],[0.3333333333333333,\"#9c179e\"],[0.4444444444444444,\"#bd3786\"],[0.5555555555555556,\"#d8576b\"],[0.6666666666666666,\"#ed7953\"],[0.7777777777777778,\"#fb9f3a\"],[0.8888888888888888,\"#fdca26\"],[1.0,\"#f0f921\"]],\"type\":\"heatmapgl\"}],\"heatmap\":[{\"colorbar\":{\"outlinewidth\":0,\"ticks\":\"\"},\"colorscale\":[[0.0,\"#0d0887\"],[0.1111111111111111,\"#46039f\"],[0.2222222222222222,\"#7201a8\"],[0.3333333333333333,\"#9c179e\"],[0.4444444444444444,\"#bd3786\"],[0.5555555555555556,\"#d8576b\"],[0.6666666666666666,\"#ed7953\"],[0.7777777777777778,\"#fb9f3a\"],[0.8888888888888888,\"#fdca26\"],[1.0,\"#f0f921\"]],\"type\":\"heatmap\"}],\"histogram2dcontour\":[{\"colorbar\":{\"outlinewidth\":0,\"ticks\":\"\"},\"colorscale\":[[0.0,\"#0d0887\"],[0.1111111111111111,\"#46039f\"],[0.2222222222222222,\"#7201a8\"],[0.3333333333333333,\"#9c179e\"],[0.4444444444444444,\"#bd3786\"],[0.5555555555555556,\"#d8576b\"],[0.6666666666666666,\"#ed7953\"],[0.7777777777777778,\"#fb9f3a\"],[0.8888888888888888,\"#fdca26\"],[1.0,\"#f0f921\"]],\"type\":\"histogram2dcontour\"}],\"histogram2d\":[{\"colorbar\":{\"outlinewidth\":0,\"ticks\":\"\"},\"colorscale\":[[0.0,\"#0d0887\"],[0.1111111111111111,\"#46039f\"],[0.2222222222222222,\"#7201a8\"],[0.3333333333333333,\"#9c179e\"],[0.4444444444444444,\"#bd3786\"],[0.5555555555555556,\"#d8576b\"],[0.6666666666666666,\"#ed7953\"],[0.7777777777777778,\"#fb9f3a\"],[0.8888888888888888,\"#fdca26\"],[1.0,\"#f0f921\"]],\"type\":\"histogram2d\"}],\"histogram\":[{\"marker\":{\"pattern\":{\"fillmode\":\"overlay\",\"size\":10,\"solidity\":0.2}},\"type\":\"histogram\"}],\"mesh3d\":[{\"colorbar\":{\"outlinewidth\":0,\"ticks\":\"\"},\"type\":\"mesh3d\"}],\"parcoords\":[{\"line\":{\"colorbar\":{\"outlinewidth\":0,\"ticks\":\"\"}},\"type\":\"parcoords\"}],\"pie\":[{\"automargin\":true,\"type\":\"pie\"}],\"scatter3d\":[{\"line\":{\"colorbar\":{\"outlinewidth\":0,\"ticks\":\"\"}},\"marker\":{\"colorbar\":{\"outlinewidth\":0,\"ticks\":\"\"}},\"type\":\"scatter3d\"}],\"scattercarpet\":[{\"marker\":{\"colorbar\":{\"outlinewidth\":0,\"ticks\":\"\"}},\"type\":\"scattercarpet\"}],\"scattergeo\":[{\"marker\":{\"colorbar\":{\"outlinewidth\":0,\"ticks\":\"\"}},\"type\":\"scattergeo\"}],\"scattergl\":[{\"marker\":{\"colorbar\":{\"outlinewidth\":0,\"ticks\":\"\"}},\"type\":\"scattergl\"}],\"scattermapbox\":[{\"marker\":{\"colorbar\":{\"outlinewidth\":0,\"ticks\":\"\"}},\"type\":\"scattermapbox\"}],\"scatterpolargl\":[{\"marker\":{\"colorbar\":{\"outlinewidth\":0,\"ticks\":\"\"}},\"type\":\"scatterpolargl\"}],\"scatterpolar\":[{\"marker\":{\"colorbar\":{\"outlinewidth\":0,\"ticks\":\"\"}},\"type\":\"scatterpolar\"}],\"scatter\":[{\"fillpattern\":{\"fillmode\":\"overlay\",\"size\":10,\"solidity\":0.2},\"type\":\"scatter\"}],\"scatterternary\":[{\"marker\":{\"colorbar\":{\"outlinewidth\":0,\"ticks\":\"\"}},\"type\":\"scatterternary\"}],\"surface\":[{\"colorbar\":{\"outlinewidth\":0,\"ticks\":\"\"},\"colorscale\":[[0.0,\"#0d0887\"],[0.1111111111111111,\"#46039f\"],[0.2222222222222222,\"#7201a8\"],[0.3333333333333333,\"#9c179e\"],[0.4444444444444444,\"#bd3786\"],[0.5555555555555556,\"#d8576b\"],[0.6666666666666666,\"#ed7953\"],[0.7777777777777778,\"#fb9f3a\"],[0.8888888888888888,\"#fdca26\"],[1.0,\"#f0f921\"]],\"type\":\"surface\"}],\"table\":[{\"cells\":{\"fill\":{\"color\":\"#EBF0F8\"},\"line\":{\"color\":\"white\"}},\"header\":{\"fill\":{\"color\":\"#C8D4E3\"},\"line\":{\"color\":\"white\"}},\"type\":\"table\"}]},\"layout\":{\"annotationdefaults\":{\"arrowcolor\":\"#2a3f5f\",\"arrowhead\":0,\"arrowwidth\":1},\"autotypenumbers\":\"strict\",\"coloraxis\":{\"colorbar\":{\"outlinewidth\":0,\"ticks\":\"\"}},\"colorscale\":{\"diverging\":[[0,\"#8e0152\"],[0.1,\"#c51b7d\"],[0.2,\"#de77ae\"],[0.3,\"#f1b6da\"],[0.4,\"#fde0ef\"],[0.5,\"#f7f7f7\"],[0.6,\"#e6f5d0\"],[0.7,\"#b8e186\"],[0.8,\"#7fbc41\"],[0.9,\"#4d9221\"],[1,\"#276419\"]],\"sequential\":[[0.0,\"#0d0887\"],[0.1111111111111111,\"#46039f\"],[0.2222222222222222,\"#7201a8\"],[0.3333333333333333,\"#9c179e\"],[0.4444444444444444,\"#bd3786\"],[0.5555555555555556,\"#d8576b\"],[0.6666666666666666,\"#ed7953\"],[0.7777777777777778,\"#fb9f3a\"],[0.8888888888888888,\"#fdca26\"],[1.0,\"#f0f921\"]],\"sequentialminus\":[[0.0,\"#0d0887\"],[0.1111111111111111,\"#46039f\"],[0.2222222222222222,\"#7201a8\"],[0.3333333333333333,\"#9c179e\"],[0.4444444444444444,\"#bd3786\"],[0.5555555555555556,\"#d8576b\"],[0.6666666666666666,\"#ed7953\"],[0.7777777777777778,\"#fb9f3a\"],[0.8888888888888888,\"#fdca26\"],[1.0,\"#f0f921\"]]},\"colorway\":[\"#636efa\",\"#EF553B\",\"#00cc96\",\"#ab63fa\",\"#FFA15A\",\"#19d3f3\",\"#FF6692\",\"#B6E880\",\"#FF97FF\",\"#FECB52\"],\"font\":{\"color\":\"#2a3f5f\"},\"geo\":{\"bgcolor\":\"white\",\"lakecolor\":\"white\",\"landcolor\":\"#E5ECF6\",\"showlakes\":true,\"showland\":true,\"subunitcolor\":\"white\"},\"hoverlabel\":{\"align\":\"left\"},\"hovermode\":\"closest\",\"mapbox\":{\"style\":\"light\"},\"paper_bgcolor\":\"white\",\"plot_bgcolor\":\"#E5ECF6\",\"polar\":{\"angularaxis\":{\"gridcolor\":\"white\",\"linecolor\":\"white\",\"ticks\":\"\"},\"bgcolor\":\"#E5ECF6\",\"radialaxis\":{\"gridcolor\":\"white\",\"linecolor\":\"white\",\"ticks\":\"\"}},\"scene\":{\"xaxis\":{\"backgroundcolor\":\"#E5ECF6\",\"gridcolor\":\"white\",\"gridwidth\":2,\"linecolor\":\"white\",\"showbackground\":true,\"ticks\":\"\",\"zerolinecolor\":\"white\"},\"yaxis\":{\"backgroundcolor\":\"#E5ECF6\",\"gridcolor\":\"white\",\"gridwidth\":2,\"linecolor\":\"white\",\"showbackground\":true,\"ticks\":\"\",\"zerolinecolor\":\"white\"},\"zaxis\":{\"backgroundcolor\":\"#E5ECF6\",\"gridcolor\":\"white\",\"gridwidth\":2,\"linecolor\":\"white\",\"showbackground\":true,\"ticks\":\"\",\"zerolinecolor\":\"white\"}},\"shapedefaults\":{\"line\":{\"color\":\"#2a3f5f\"}},\"ternary\":{\"aaxis\":{\"gridcolor\":\"white\",\"linecolor\":\"white\",\"ticks\":\"\"},\"baxis\":{\"gridcolor\":\"white\",\"linecolor\":\"white\",\"ticks\":\"\"},\"bgcolor\":\"#E5ECF6\",\"caxis\":{\"gridcolor\":\"white\",\"linecolor\":\"white\",\"ticks\":\"\"}},\"title\":{\"x\":0.05},\"xaxis\":{\"automargin\":true,\"gridcolor\":\"white\",\"linecolor\":\"white\",\"ticks\":\"\",\"title\":{\"standoff\":15},\"zerolinecolor\":\"white\",\"zerolinewidth\":2},\"yaxis\":{\"automargin\":true,\"gridcolor\":\"white\",\"linecolor\":\"white\",\"ticks\":\"\",\"title\":{\"standoff\":15},\"zerolinecolor\":\"white\",\"zerolinewidth\":2}}},\"title\":{\"font\":{\"color\":\"#4D5663\"}},\"xaxis\":{\"gridcolor\":\"#E1E5ED\",\"showgrid\":true,\"tickfont\":{\"color\":\"#4D5663\"},\"title\":{\"font\":{\"color\":\"#4D5663\"},\"text\":\"\"},\"zerolinecolor\":\"#E1E5ED\"},\"yaxis\":{\"gridcolor\":\"#E1E5ED\",\"showgrid\":true,\"tickfont\":{\"color\":\"#4D5663\"},\"title\":{\"font\":{\"color\":\"#4D5663\"},\"text\":\"\"},\"zerolinecolor\":\"#E1E5ED\"}},                        {\"showLink\": true, \"linkText\": \"Export to plot.ly\", \"plotlyServerURL\": \"https://plot.ly\", \"responsive\": true}                    ).then(function(){\n",
       "                            \n",
       "var gd = document.getElementById('e15d2c46-1dce-4287-9573-d09b6e620674');\n",
       "var x = new MutationObserver(function (mutations, observer) {{\n",
       "        var display = window.getComputedStyle(gd).display;\n",
       "        if (!display || display === 'none') {{\n",
       "            console.log([gd, 'removed!']);\n",
       "            Plotly.purge(gd);\n",
       "            observer.disconnect();\n",
       "        }}\n",
       "}});\n",
       "\n",
       "// Listen for the removal of the full notebook cells\n",
       "var notebookContainer = gd.closest('#notebook-container');\n",
       "if (notebookContainer) {{\n",
       "    x.observe(notebookContainer, {childList: true});\n",
       "}}\n",
       "\n",
       "// Listen for the clearing of the current output cell\n",
       "var outputEl = gd.closest('.output');\n",
       "if (outputEl) {{\n",
       "    x.observe(outputEl, {childList: true});\n",
       "}}\n",
       "\n",
       "                        })                };                });            </script>        </div>"
      ]
     },
     "metadata": {},
     "output_type": "display_data"
    }
   ],
   "source": [
    "df.iplot(kind='box')"
   ]
  },
  {
   "cell_type": "markdown",
   "metadata": {},
   "source": [
    "## 3d Surface"
   ]
  },
  {
   "cell_type": "code",
   "execution_count": 14,
   "metadata": {},
   "outputs": [
    {
     "data": {
      "application/vnd.plotly.v1+json": {
       "config": {
        "linkText": "Export to plot.ly",
        "plotlyServerURL": "https://plot.ly",
        "showLink": true
       },
       "data": [
        {
         "colorscale": [
          [
           0,
           "rgb(165,0,38)"
          ],
          [
           0.1,
           "rgb(215,48,39)"
          ],
          [
           0.2,
           "rgb(244,109,67)"
          ],
          [
           0.3,
           "rgb(253,174,97)"
          ],
          [
           0.4,
           "rgb(254,224,144)"
          ],
          [
           0.5,
           "rgb(255,255,191)"
          ],
          [
           0.6,
           "rgb(224,243,248)"
          ],
          [
           0.7,
           "rgb(171,217,233)"
          ],
          [
           0.8,
           "rgb(116,173,209)"
          ],
          [
           0.9,
           "rgb(69,117,180)"
          ],
          [
           1,
           "rgb(49,54,149)"
          ]
         ],
         "type": "surface",
         "x": [
          0,
          1,
          2,
          3,
          4
         ],
         "y": [
          "x",
          "y",
          "z"
         ],
         "z": [
          [
           1,
           2,
           3,
           4,
           5
          ],
          [
           10,
           20,
           30,
           20,
           10
          ],
          [
           5,
           4,
           3,
           2,
           1
          ]
         ]
        }
       ],
       "layout": {
        "legend": {
         "bgcolor": "#F5F6F9",
         "font": {
          "color": "#4D5663"
         }
        },
        "paper_bgcolor": "#F5F6F9",
        "plot_bgcolor": "#F5F6F9",
        "template": {
         "data": {
          "bar": [
           {
            "error_x": {
             "color": "#2a3f5f"
            },
            "error_y": {
             "color": "#2a3f5f"
            },
            "marker": {
             "line": {
              "color": "#E5ECF6",
              "width": 0.5
             },
             "pattern": {
              "fillmode": "overlay",
              "size": 10,
              "solidity": 0.2
             }
            },
            "type": "bar"
           }
          ],
          "barpolar": [
           {
            "marker": {
             "line": {
              "color": "#E5ECF6",
              "width": 0.5
             },
             "pattern": {
              "fillmode": "overlay",
              "size": 10,
              "solidity": 0.2
             }
            },
            "type": "barpolar"
           }
          ],
          "carpet": [
           {
            "aaxis": {
             "endlinecolor": "#2a3f5f",
             "gridcolor": "white",
             "linecolor": "white",
             "minorgridcolor": "white",
             "startlinecolor": "#2a3f5f"
            },
            "baxis": {
             "endlinecolor": "#2a3f5f",
             "gridcolor": "white",
             "linecolor": "white",
             "minorgridcolor": "white",
             "startlinecolor": "#2a3f5f"
            },
            "type": "carpet"
           }
          ],
          "choropleth": [
           {
            "colorbar": {
             "outlinewidth": 0,
             "ticks": ""
            },
            "type": "choropleth"
           }
          ],
          "contour": [
           {
            "colorbar": {
             "outlinewidth": 0,
             "ticks": ""
            },
            "colorscale": [
             [
              0,
              "#0d0887"
             ],
             [
              0.1111111111111111,
              "#46039f"
             ],
             [
              0.2222222222222222,
              "#7201a8"
             ],
             [
              0.3333333333333333,
              "#9c179e"
             ],
             [
              0.4444444444444444,
              "#bd3786"
             ],
             [
              0.5555555555555556,
              "#d8576b"
             ],
             [
              0.6666666666666666,
              "#ed7953"
             ],
             [
              0.7777777777777778,
              "#fb9f3a"
             ],
             [
              0.8888888888888888,
              "#fdca26"
             ],
             [
              1,
              "#f0f921"
             ]
            ],
            "type": "contour"
           }
          ],
          "contourcarpet": [
           {
            "colorbar": {
             "outlinewidth": 0,
             "ticks": ""
            },
            "type": "contourcarpet"
           }
          ],
          "heatmap": [
           {
            "colorbar": {
             "outlinewidth": 0,
             "ticks": ""
            },
            "colorscale": [
             [
              0,
              "#0d0887"
             ],
             [
              0.1111111111111111,
              "#46039f"
             ],
             [
              0.2222222222222222,
              "#7201a8"
             ],
             [
              0.3333333333333333,
              "#9c179e"
             ],
             [
              0.4444444444444444,
              "#bd3786"
             ],
             [
              0.5555555555555556,
              "#d8576b"
             ],
             [
              0.6666666666666666,
              "#ed7953"
             ],
             [
              0.7777777777777778,
              "#fb9f3a"
             ],
             [
              0.8888888888888888,
              "#fdca26"
             ],
             [
              1,
              "#f0f921"
             ]
            ],
            "type": "heatmap"
           }
          ],
          "heatmapgl": [
           {
            "colorbar": {
             "outlinewidth": 0,
             "ticks": ""
            },
            "colorscale": [
             [
              0,
              "#0d0887"
             ],
             [
              0.1111111111111111,
              "#46039f"
             ],
             [
              0.2222222222222222,
              "#7201a8"
             ],
             [
              0.3333333333333333,
              "#9c179e"
             ],
             [
              0.4444444444444444,
              "#bd3786"
             ],
             [
              0.5555555555555556,
              "#d8576b"
             ],
             [
              0.6666666666666666,
              "#ed7953"
             ],
             [
              0.7777777777777778,
              "#fb9f3a"
             ],
             [
              0.8888888888888888,
              "#fdca26"
             ],
             [
              1,
              "#f0f921"
             ]
            ],
            "type": "heatmapgl"
           }
          ],
          "histogram": [
           {
            "marker": {
             "pattern": {
              "fillmode": "overlay",
              "size": 10,
              "solidity": 0.2
             }
            },
            "type": "histogram"
           }
          ],
          "histogram2d": [
           {
            "colorbar": {
             "outlinewidth": 0,
             "ticks": ""
            },
            "colorscale": [
             [
              0,
              "#0d0887"
             ],
             [
              0.1111111111111111,
              "#46039f"
             ],
             [
              0.2222222222222222,
              "#7201a8"
             ],
             [
              0.3333333333333333,
              "#9c179e"
             ],
             [
              0.4444444444444444,
              "#bd3786"
             ],
             [
              0.5555555555555556,
              "#d8576b"
             ],
             [
              0.6666666666666666,
              "#ed7953"
             ],
             [
              0.7777777777777778,
              "#fb9f3a"
             ],
             [
              0.8888888888888888,
              "#fdca26"
             ],
             [
              1,
              "#f0f921"
             ]
            ],
            "type": "histogram2d"
           }
          ],
          "histogram2dcontour": [
           {
            "colorbar": {
             "outlinewidth": 0,
             "ticks": ""
            },
            "colorscale": [
             [
              0,
              "#0d0887"
             ],
             [
              0.1111111111111111,
              "#46039f"
             ],
             [
              0.2222222222222222,
              "#7201a8"
             ],
             [
              0.3333333333333333,
              "#9c179e"
             ],
             [
              0.4444444444444444,
              "#bd3786"
             ],
             [
              0.5555555555555556,
              "#d8576b"
             ],
             [
              0.6666666666666666,
              "#ed7953"
             ],
             [
              0.7777777777777778,
              "#fb9f3a"
             ],
             [
              0.8888888888888888,
              "#fdca26"
             ],
             [
              1,
              "#f0f921"
             ]
            ],
            "type": "histogram2dcontour"
           }
          ],
          "mesh3d": [
           {
            "colorbar": {
             "outlinewidth": 0,
             "ticks": ""
            },
            "type": "mesh3d"
           }
          ],
          "parcoords": [
           {
            "line": {
             "colorbar": {
              "outlinewidth": 0,
              "ticks": ""
             }
            },
            "type": "parcoords"
           }
          ],
          "pie": [
           {
            "automargin": true,
            "type": "pie"
           }
          ],
          "scatter": [
           {
            "fillpattern": {
             "fillmode": "overlay",
             "size": 10,
             "solidity": 0.2
            },
            "type": "scatter"
           }
          ],
          "scatter3d": [
           {
            "line": {
             "colorbar": {
              "outlinewidth": 0,
              "ticks": ""
             }
            },
            "marker": {
             "colorbar": {
              "outlinewidth": 0,
              "ticks": ""
             }
            },
            "type": "scatter3d"
           }
          ],
          "scattercarpet": [
           {
            "marker": {
             "colorbar": {
              "outlinewidth": 0,
              "ticks": ""
             }
            },
            "type": "scattercarpet"
           }
          ],
          "scattergeo": [
           {
            "marker": {
             "colorbar": {
              "outlinewidth": 0,
              "ticks": ""
             }
            },
            "type": "scattergeo"
           }
          ],
          "scattergl": [
           {
            "marker": {
             "colorbar": {
              "outlinewidth": 0,
              "ticks": ""
             }
            },
            "type": "scattergl"
           }
          ],
          "scattermapbox": [
           {
            "marker": {
             "colorbar": {
              "outlinewidth": 0,
              "ticks": ""
             }
            },
            "type": "scattermapbox"
           }
          ],
          "scatterpolar": [
           {
            "marker": {
             "colorbar": {
              "outlinewidth": 0,
              "ticks": ""
             }
            },
            "type": "scatterpolar"
           }
          ],
          "scatterpolargl": [
           {
            "marker": {
             "colorbar": {
              "outlinewidth": 0,
              "ticks": ""
             }
            },
            "type": "scatterpolargl"
           }
          ],
          "scatterternary": [
           {
            "marker": {
             "colorbar": {
              "outlinewidth": 0,
              "ticks": ""
             }
            },
            "type": "scatterternary"
           }
          ],
          "surface": [
           {
            "colorbar": {
             "outlinewidth": 0,
             "ticks": ""
            },
            "colorscale": [
             [
              0,
              "#0d0887"
             ],
             [
              0.1111111111111111,
              "#46039f"
             ],
             [
              0.2222222222222222,
              "#7201a8"
             ],
             [
              0.3333333333333333,
              "#9c179e"
             ],
             [
              0.4444444444444444,
              "#bd3786"
             ],
             [
              0.5555555555555556,
              "#d8576b"
             ],
             [
              0.6666666666666666,
              "#ed7953"
             ],
             [
              0.7777777777777778,
              "#fb9f3a"
             ],
             [
              0.8888888888888888,
              "#fdca26"
             ],
             [
              1,
              "#f0f921"
             ]
            ],
            "type": "surface"
           }
          ],
          "table": [
           {
            "cells": {
             "fill": {
              "color": "#EBF0F8"
             },
             "line": {
              "color": "white"
             }
            },
            "header": {
             "fill": {
              "color": "#C8D4E3"
             },
             "line": {
              "color": "white"
             }
            },
            "type": "table"
           }
          ]
         },
         "layout": {
          "annotationdefaults": {
           "arrowcolor": "#2a3f5f",
           "arrowhead": 0,
           "arrowwidth": 1
          },
          "autotypenumbers": "strict",
          "coloraxis": {
           "colorbar": {
            "outlinewidth": 0,
            "ticks": ""
           }
          },
          "colorscale": {
           "diverging": [
            [
             0,
             "#8e0152"
            ],
            [
             0.1,
             "#c51b7d"
            ],
            [
             0.2,
             "#de77ae"
            ],
            [
             0.3,
             "#f1b6da"
            ],
            [
             0.4,
             "#fde0ef"
            ],
            [
             0.5,
             "#f7f7f7"
            ],
            [
             0.6,
             "#e6f5d0"
            ],
            [
             0.7,
             "#b8e186"
            ],
            [
             0.8,
             "#7fbc41"
            ],
            [
             0.9,
             "#4d9221"
            ],
            [
             1,
             "#276419"
            ]
           ],
           "sequential": [
            [
             0,
             "#0d0887"
            ],
            [
             0.1111111111111111,
             "#46039f"
            ],
            [
             0.2222222222222222,
             "#7201a8"
            ],
            [
             0.3333333333333333,
             "#9c179e"
            ],
            [
             0.4444444444444444,
             "#bd3786"
            ],
            [
             0.5555555555555556,
             "#d8576b"
            ],
            [
             0.6666666666666666,
             "#ed7953"
            ],
            [
             0.7777777777777778,
             "#fb9f3a"
            ],
            [
             0.8888888888888888,
             "#fdca26"
            ],
            [
             1,
             "#f0f921"
            ]
           ],
           "sequentialminus": [
            [
             0,
             "#0d0887"
            ],
            [
             0.1111111111111111,
             "#46039f"
            ],
            [
             0.2222222222222222,
             "#7201a8"
            ],
            [
             0.3333333333333333,
             "#9c179e"
            ],
            [
             0.4444444444444444,
             "#bd3786"
            ],
            [
             0.5555555555555556,
             "#d8576b"
            ],
            [
             0.6666666666666666,
             "#ed7953"
            ],
            [
             0.7777777777777778,
             "#fb9f3a"
            ],
            [
             0.8888888888888888,
             "#fdca26"
            ],
            [
             1,
             "#f0f921"
            ]
           ]
          },
          "colorway": [
           "#636efa",
           "#EF553B",
           "#00cc96",
           "#ab63fa",
           "#FFA15A",
           "#19d3f3",
           "#FF6692",
           "#B6E880",
           "#FF97FF",
           "#FECB52"
          ],
          "font": {
           "color": "#2a3f5f"
          },
          "geo": {
           "bgcolor": "white",
           "lakecolor": "white",
           "landcolor": "#E5ECF6",
           "showlakes": true,
           "showland": true,
           "subunitcolor": "white"
          },
          "hoverlabel": {
           "align": "left"
          },
          "hovermode": "closest",
          "mapbox": {
           "style": "light"
          },
          "paper_bgcolor": "white",
          "plot_bgcolor": "#E5ECF6",
          "polar": {
           "angularaxis": {
            "gridcolor": "white",
            "linecolor": "white",
            "ticks": ""
           },
           "bgcolor": "#E5ECF6",
           "radialaxis": {
            "gridcolor": "white",
            "linecolor": "white",
            "ticks": ""
           }
          },
          "scene": {
           "xaxis": {
            "backgroundcolor": "#E5ECF6",
            "gridcolor": "white",
            "gridwidth": 2,
            "linecolor": "white",
            "showbackground": true,
            "ticks": "",
            "zerolinecolor": "white"
           },
           "yaxis": {
            "backgroundcolor": "#E5ECF6",
            "gridcolor": "white",
            "gridwidth": 2,
            "linecolor": "white",
            "showbackground": true,
            "ticks": "",
            "zerolinecolor": "white"
           },
           "zaxis": {
            "backgroundcolor": "#E5ECF6",
            "gridcolor": "white",
            "gridwidth": 2,
            "linecolor": "white",
            "showbackground": true,
            "ticks": "",
            "zerolinecolor": "white"
           }
          },
          "shapedefaults": {
           "line": {
            "color": "#2a3f5f"
           }
          },
          "ternary": {
           "aaxis": {
            "gridcolor": "white",
            "linecolor": "white",
            "ticks": ""
           },
           "baxis": {
            "gridcolor": "white",
            "linecolor": "white",
            "ticks": ""
           },
           "bgcolor": "#E5ECF6",
           "caxis": {
            "gridcolor": "white",
            "linecolor": "white",
            "ticks": ""
           }
          },
          "title": {
           "x": 0.05
          },
          "xaxis": {
           "automargin": true,
           "gridcolor": "white",
           "linecolor": "white",
           "ticks": "",
           "title": {
            "standoff": 15
           },
           "zerolinecolor": "white",
           "zerolinewidth": 2
          },
          "yaxis": {
           "automargin": true,
           "gridcolor": "white",
           "linecolor": "white",
           "ticks": "",
           "title": {
            "standoff": 15
           },
           "zerolinecolor": "white",
           "zerolinewidth": 2
          }
         }
        },
        "title": {
         "font": {
          "color": "#4D5663"
         }
        },
        "xaxis": {
         "gridcolor": "#E1E5ED",
         "showgrid": true,
         "tickfont": {
          "color": "#4D5663"
         },
         "title": {
          "font": {
           "color": "#4D5663"
          },
          "text": ""
         },
         "zerolinecolor": "#E1E5ED"
        },
        "yaxis": {
         "gridcolor": "#E1E5ED",
         "showgrid": true,
         "tickfont": {
          "color": "#4D5663"
         },
         "title": {
          "font": {
           "color": "#4D5663"
          },
          "text": ""
         },
         "zerolinecolor": "#E1E5ED"
        }
       }
      },
      "text/html": [
       "<div>                            <div id=\"b57bd112-3932-4e55-b10c-5945d385618c\" class=\"plotly-graph-div\" style=\"height:525px; width:100%;\"></div>            <script type=\"text/javascript\">                require([\"plotly\"], function(Plotly) {                    window.PLOTLYENV=window.PLOTLYENV || {};\n",
       "                    window.PLOTLYENV.BASE_URL='https://plot.ly';                                    if (document.getElementById(\"b57bd112-3932-4e55-b10c-5945d385618c\")) {                    Plotly.newPlot(                        \"b57bd112-3932-4e55-b10c-5945d385618c\",                        [{\"colorscale\":[[0.0,\"rgb(165,0,38)\"],[0.1,\"rgb(215,48,39)\"],[0.2,\"rgb(244,109,67)\"],[0.3,\"rgb(253,174,97)\"],[0.4,\"rgb(254,224,144)\"],[0.5,\"rgb(255,255,191)\"],[0.6,\"rgb(224,243,248)\"],[0.7,\"rgb(171,217,233)\"],[0.8,\"rgb(116,173,209)\"],[0.9,\"rgb(69,117,180)\"],[1.0,\"rgb(49,54,149)\"]],\"x\":[0,1,2,3,4],\"y\":[\"x\",\"y\",\"z\"],\"z\":[[1,2,3,4,5],[10,20,30,20,10],[5,4,3,2,1]],\"type\":\"surface\"}],                        {\"legend\":{\"bgcolor\":\"#F5F6F9\",\"font\":{\"color\":\"#4D5663\"}},\"paper_bgcolor\":\"#F5F6F9\",\"plot_bgcolor\":\"#F5F6F9\",\"template\":{\"data\":{\"barpolar\":[{\"marker\":{\"line\":{\"color\":\"#E5ECF6\",\"width\":0.5},\"pattern\":{\"fillmode\":\"overlay\",\"size\":10,\"solidity\":0.2}},\"type\":\"barpolar\"}],\"bar\":[{\"error_x\":{\"color\":\"#2a3f5f\"},\"error_y\":{\"color\":\"#2a3f5f\"},\"marker\":{\"line\":{\"color\":\"#E5ECF6\",\"width\":0.5},\"pattern\":{\"fillmode\":\"overlay\",\"size\":10,\"solidity\":0.2}},\"type\":\"bar\"}],\"carpet\":[{\"aaxis\":{\"endlinecolor\":\"#2a3f5f\",\"gridcolor\":\"white\",\"linecolor\":\"white\",\"minorgridcolor\":\"white\",\"startlinecolor\":\"#2a3f5f\"},\"baxis\":{\"endlinecolor\":\"#2a3f5f\",\"gridcolor\":\"white\",\"linecolor\":\"white\",\"minorgridcolor\":\"white\",\"startlinecolor\":\"#2a3f5f\"},\"type\":\"carpet\"}],\"choropleth\":[{\"colorbar\":{\"outlinewidth\":0,\"ticks\":\"\"},\"type\":\"choropleth\"}],\"contourcarpet\":[{\"colorbar\":{\"outlinewidth\":0,\"ticks\":\"\"},\"type\":\"contourcarpet\"}],\"contour\":[{\"colorbar\":{\"outlinewidth\":0,\"ticks\":\"\"},\"colorscale\":[[0.0,\"#0d0887\"],[0.1111111111111111,\"#46039f\"],[0.2222222222222222,\"#7201a8\"],[0.3333333333333333,\"#9c179e\"],[0.4444444444444444,\"#bd3786\"],[0.5555555555555556,\"#d8576b\"],[0.6666666666666666,\"#ed7953\"],[0.7777777777777778,\"#fb9f3a\"],[0.8888888888888888,\"#fdca26\"],[1.0,\"#f0f921\"]],\"type\":\"contour\"}],\"heatmapgl\":[{\"colorbar\":{\"outlinewidth\":0,\"ticks\":\"\"},\"colorscale\":[[0.0,\"#0d0887\"],[0.1111111111111111,\"#46039f\"],[0.2222222222222222,\"#7201a8\"],[0.3333333333333333,\"#9c179e\"],[0.4444444444444444,\"#bd3786\"],[0.5555555555555556,\"#d8576b\"],[0.6666666666666666,\"#ed7953\"],[0.7777777777777778,\"#fb9f3a\"],[0.8888888888888888,\"#fdca26\"],[1.0,\"#f0f921\"]],\"type\":\"heatmapgl\"}],\"heatmap\":[{\"colorbar\":{\"outlinewidth\":0,\"ticks\":\"\"},\"colorscale\":[[0.0,\"#0d0887\"],[0.1111111111111111,\"#46039f\"],[0.2222222222222222,\"#7201a8\"],[0.3333333333333333,\"#9c179e\"],[0.4444444444444444,\"#bd3786\"],[0.5555555555555556,\"#d8576b\"],[0.6666666666666666,\"#ed7953\"],[0.7777777777777778,\"#fb9f3a\"],[0.8888888888888888,\"#fdca26\"],[1.0,\"#f0f921\"]],\"type\":\"heatmap\"}],\"histogram2dcontour\":[{\"colorbar\":{\"outlinewidth\":0,\"ticks\":\"\"},\"colorscale\":[[0.0,\"#0d0887\"],[0.1111111111111111,\"#46039f\"],[0.2222222222222222,\"#7201a8\"],[0.3333333333333333,\"#9c179e\"],[0.4444444444444444,\"#bd3786\"],[0.5555555555555556,\"#d8576b\"],[0.6666666666666666,\"#ed7953\"],[0.7777777777777778,\"#fb9f3a\"],[0.8888888888888888,\"#fdca26\"],[1.0,\"#f0f921\"]],\"type\":\"histogram2dcontour\"}],\"histogram2d\":[{\"colorbar\":{\"outlinewidth\":0,\"ticks\":\"\"},\"colorscale\":[[0.0,\"#0d0887\"],[0.1111111111111111,\"#46039f\"],[0.2222222222222222,\"#7201a8\"],[0.3333333333333333,\"#9c179e\"],[0.4444444444444444,\"#bd3786\"],[0.5555555555555556,\"#d8576b\"],[0.6666666666666666,\"#ed7953\"],[0.7777777777777778,\"#fb9f3a\"],[0.8888888888888888,\"#fdca26\"],[1.0,\"#f0f921\"]],\"type\":\"histogram2d\"}],\"histogram\":[{\"marker\":{\"pattern\":{\"fillmode\":\"overlay\",\"size\":10,\"solidity\":0.2}},\"type\":\"histogram\"}],\"mesh3d\":[{\"colorbar\":{\"outlinewidth\":0,\"ticks\":\"\"},\"type\":\"mesh3d\"}],\"parcoords\":[{\"line\":{\"colorbar\":{\"outlinewidth\":0,\"ticks\":\"\"}},\"type\":\"parcoords\"}],\"pie\":[{\"automargin\":true,\"type\":\"pie\"}],\"scatter3d\":[{\"line\":{\"colorbar\":{\"outlinewidth\":0,\"ticks\":\"\"}},\"marker\":{\"colorbar\":{\"outlinewidth\":0,\"ticks\":\"\"}},\"type\":\"scatter3d\"}],\"scattercarpet\":[{\"marker\":{\"colorbar\":{\"outlinewidth\":0,\"ticks\":\"\"}},\"type\":\"scattercarpet\"}],\"scattergeo\":[{\"marker\":{\"colorbar\":{\"outlinewidth\":0,\"ticks\":\"\"}},\"type\":\"scattergeo\"}],\"scattergl\":[{\"marker\":{\"colorbar\":{\"outlinewidth\":0,\"ticks\":\"\"}},\"type\":\"scattergl\"}],\"scattermapbox\":[{\"marker\":{\"colorbar\":{\"outlinewidth\":0,\"ticks\":\"\"}},\"type\":\"scattermapbox\"}],\"scatterpolargl\":[{\"marker\":{\"colorbar\":{\"outlinewidth\":0,\"ticks\":\"\"}},\"type\":\"scatterpolargl\"}],\"scatterpolar\":[{\"marker\":{\"colorbar\":{\"outlinewidth\":0,\"ticks\":\"\"}},\"type\":\"scatterpolar\"}],\"scatter\":[{\"fillpattern\":{\"fillmode\":\"overlay\",\"size\":10,\"solidity\":0.2},\"type\":\"scatter\"}],\"scatterternary\":[{\"marker\":{\"colorbar\":{\"outlinewidth\":0,\"ticks\":\"\"}},\"type\":\"scatterternary\"}],\"surface\":[{\"colorbar\":{\"outlinewidth\":0,\"ticks\":\"\"},\"colorscale\":[[0.0,\"#0d0887\"],[0.1111111111111111,\"#46039f\"],[0.2222222222222222,\"#7201a8\"],[0.3333333333333333,\"#9c179e\"],[0.4444444444444444,\"#bd3786\"],[0.5555555555555556,\"#d8576b\"],[0.6666666666666666,\"#ed7953\"],[0.7777777777777778,\"#fb9f3a\"],[0.8888888888888888,\"#fdca26\"],[1.0,\"#f0f921\"]],\"type\":\"surface\"}],\"table\":[{\"cells\":{\"fill\":{\"color\":\"#EBF0F8\"},\"line\":{\"color\":\"white\"}},\"header\":{\"fill\":{\"color\":\"#C8D4E3\"},\"line\":{\"color\":\"white\"}},\"type\":\"table\"}]},\"layout\":{\"annotationdefaults\":{\"arrowcolor\":\"#2a3f5f\",\"arrowhead\":0,\"arrowwidth\":1},\"autotypenumbers\":\"strict\",\"coloraxis\":{\"colorbar\":{\"outlinewidth\":0,\"ticks\":\"\"}},\"colorscale\":{\"diverging\":[[0,\"#8e0152\"],[0.1,\"#c51b7d\"],[0.2,\"#de77ae\"],[0.3,\"#f1b6da\"],[0.4,\"#fde0ef\"],[0.5,\"#f7f7f7\"],[0.6,\"#e6f5d0\"],[0.7,\"#b8e186\"],[0.8,\"#7fbc41\"],[0.9,\"#4d9221\"],[1,\"#276419\"]],\"sequential\":[[0.0,\"#0d0887\"],[0.1111111111111111,\"#46039f\"],[0.2222222222222222,\"#7201a8\"],[0.3333333333333333,\"#9c179e\"],[0.4444444444444444,\"#bd3786\"],[0.5555555555555556,\"#d8576b\"],[0.6666666666666666,\"#ed7953\"],[0.7777777777777778,\"#fb9f3a\"],[0.8888888888888888,\"#fdca26\"],[1.0,\"#f0f921\"]],\"sequentialminus\":[[0.0,\"#0d0887\"],[0.1111111111111111,\"#46039f\"],[0.2222222222222222,\"#7201a8\"],[0.3333333333333333,\"#9c179e\"],[0.4444444444444444,\"#bd3786\"],[0.5555555555555556,\"#d8576b\"],[0.6666666666666666,\"#ed7953\"],[0.7777777777777778,\"#fb9f3a\"],[0.8888888888888888,\"#fdca26\"],[1.0,\"#f0f921\"]]},\"colorway\":[\"#636efa\",\"#EF553B\",\"#00cc96\",\"#ab63fa\",\"#FFA15A\",\"#19d3f3\",\"#FF6692\",\"#B6E880\",\"#FF97FF\",\"#FECB52\"],\"font\":{\"color\":\"#2a3f5f\"},\"geo\":{\"bgcolor\":\"white\",\"lakecolor\":\"white\",\"landcolor\":\"#E5ECF6\",\"showlakes\":true,\"showland\":true,\"subunitcolor\":\"white\"},\"hoverlabel\":{\"align\":\"left\"},\"hovermode\":\"closest\",\"mapbox\":{\"style\":\"light\"},\"paper_bgcolor\":\"white\",\"plot_bgcolor\":\"#E5ECF6\",\"polar\":{\"angularaxis\":{\"gridcolor\":\"white\",\"linecolor\":\"white\",\"ticks\":\"\"},\"bgcolor\":\"#E5ECF6\",\"radialaxis\":{\"gridcolor\":\"white\",\"linecolor\":\"white\",\"ticks\":\"\"}},\"scene\":{\"xaxis\":{\"backgroundcolor\":\"#E5ECF6\",\"gridcolor\":\"white\",\"gridwidth\":2,\"linecolor\":\"white\",\"showbackground\":true,\"ticks\":\"\",\"zerolinecolor\":\"white\"},\"yaxis\":{\"backgroundcolor\":\"#E5ECF6\",\"gridcolor\":\"white\",\"gridwidth\":2,\"linecolor\":\"white\",\"showbackground\":true,\"ticks\":\"\",\"zerolinecolor\":\"white\"},\"zaxis\":{\"backgroundcolor\":\"#E5ECF6\",\"gridcolor\":\"white\",\"gridwidth\":2,\"linecolor\":\"white\",\"showbackground\":true,\"ticks\":\"\",\"zerolinecolor\":\"white\"}},\"shapedefaults\":{\"line\":{\"color\":\"#2a3f5f\"}},\"ternary\":{\"aaxis\":{\"gridcolor\":\"white\",\"linecolor\":\"white\",\"ticks\":\"\"},\"baxis\":{\"gridcolor\":\"white\",\"linecolor\":\"white\",\"ticks\":\"\"},\"bgcolor\":\"#E5ECF6\",\"caxis\":{\"gridcolor\":\"white\",\"linecolor\":\"white\",\"ticks\":\"\"}},\"title\":{\"x\":0.05},\"xaxis\":{\"automargin\":true,\"gridcolor\":\"white\",\"linecolor\":\"white\",\"ticks\":\"\",\"title\":{\"standoff\":15},\"zerolinecolor\":\"white\",\"zerolinewidth\":2},\"yaxis\":{\"automargin\":true,\"gridcolor\":\"white\",\"linecolor\":\"white\",\"ticks\":\"\",\"title\":{\"standoff\":15},\"zerolinecolor\":\"white\",\"zerolinewidth\":2}}},\"title\":{\"font\":{\"color\":\"#4D5663\"}},\"xaxis\":{\"gridcolor\":\"#E1E5ED\",\"showgrid\":true,\"tickfont\":{\"color\":\"#4D5663\"},\"title\":{\"font\":{\"color\":\"#4D5663\"},\"text\":\"\"},\"zerolinecolor\":\"#E1E5ED\"},\"yaxis\":{\"gridcolor\":\"#E1E5ED\",\"showgrid\":true,\"tickfont\":{\"color\":\"#4D5663\"},\"title\":{\"font\":{\"color\":\"#4D5663\"},\"text\":\"\"},\"zerolinecolor\":\"#E1E5ED\"}},                        {\"showLink\": true, \"linkText\": \"Export to plot.ly\", \"plotlyServerURL\": \"https://plot.ly\", \"responsive\": true}                    ).then(function(){\n",
       "                            \n",
       "var gd = document.getElementById('b57bd112-3932-4e55-b10c-5945d385618c');\n",
       "var x = new MutationObserver(function (mutations, observer) {{\n",
       "        var display = window.getComputedStyle(gd).display;\n",
       "        if (!display || display === 'none') {{\n",
       "            console.log([gd, 'removed!']);\n",
       "            Plotly.purge(gd);\n",
       "            observer.disconnect();\n",
       "        }}\n",
       "}});\n",
       "\n",
       "// Listen for the removal of the full notebook cells\n",
       "var notebookContainer = gd.closest('#notebook-container');\n",
       "if (notebookContainer) {{\n",
       "    x.observe(notebookContainer, {childList: true});\n",
       "}}\n",
       "\n",
       "// Listen for the clearing of the current output cell\n",
       "var outputEl = gd.closest('.output');\n",
       "if (outputEl) {{\n",
       "    x.observe(outputEl, {childList: true});\n",
       "}}\n",
       "\n",
       "                        })                };                });            </script>        </div>"
      ]
     },
     "metadata": {},
     "output_type": "display_data"
    }
   ],
   "source": [
    "df3 = pd.DataFrame({'x':[1,2,3,4,5],'y':[10,20,30,20,10],'z':[5,4,3,2,1]})\n",
    "df3.iplot(kind='surface',colorscale='rdylbu')"
   ]
  },
  {
   "cell_type": "markdown",
   "metadata": {},
   "source": [
    "## Spread"
   ]
  },
  {
   "cell_type": "code",
   "execution_count": 15,
   "metadata": {},
   "outputs": [
    {
     "name": "stderr",
     "output_type": "stream",
     "text": [
      "C:\\ProgramData\\Anaconda3\\lib\\site-packages\\cufflinks\\plotlytools.py:849: FutureWarning:\n",
      "\n",
      "The pandas.np module is deprecated and will be removed from pandas in a future version. Import numpy directly instead\n",
      "\n",
      "C:\\ProgramData\\Anaconda3\\lib\\site-packages\\cufflinks\\plotlytools.py:850: FutureWarning:\n",
      "\n",
      "The pandas.np module is deprecated and will be removed from pandas in a future version. Import numpy directly instead\n",
      "\n"
     ]
    },
    {
     "data": {
      "application/vnd.plotly.v1+json": {
       "config": {
        "linkText": "Export to plot.ly",
        "plotlyServerURL": "https://plot.ly",
        "showLink": true
       },
       "data": [
        {
         "line": {
          "color": "rgba(255, 153, 51, 1.0)",
          "dash": "solid",
          "shape": "linear",
          "width": 1.3
         },
         "mode": "lines",
         "name": "A",
         "text": "",
         "type": "scatter",
         "x": [
          0,
          1,
          2,
          3,
          4,
          5,
          6,
          7,
          8,
          9,
          10,
          11,
          12,
          13,
          14,
          15,
          16,
          17,
          18,
          19,
          20,
          21,
          22,
          23,
          24,
          25,
          26,
          27,
          28,
          29,
          30,
          31,
          32,
          33,
          34,
          35,
          36,
          37,
          38,
          39,
          40,
          41,
          42,
          43,
          44,
          45,
          46,
          47,
          48,
          49,
          50,
          51,
          52,
          53,
          54,
          55,
          56,
          57,
          58,
          59,
          60,
          61,
          62,
          63,
          64,
          65,
          66,
          67,
          68,
          69,
          70,
          71,
          72,
          73,
          74,
          75,
          76,
          77,
          78,
          79,
          80,
          81,
          82,
          83,
          84,
          85,
          86,
          87,
          88,
          89,
          90,
          91,
          92,
          93,
          94,
          95,
          96,
          97,
          98,
          99
         ],
         "y": [
          -0.8805112749273397,
          1.4546803047490493,
          0.45853165741418406,
          -0.3005759439371258,
          0.9424598261557191,
          0.19201853912783895,
          0.128732384353252,
          -1.1246631977459849,
          1.004559436801384,
          -0.019433001305279293,
          0.8743710434087673,
          1.266547392168914,
          -0.013290881499199495,
          1.2146231112105121,
          0.9026519074182962,
          -0.25852503161661794,
          0.06350722196103391,
          0.061319066665640985,
          0.6826923694271695,
          0.6571582828505825,
          -0.6394539760429969,
          -0.3873354829211536,
          -1.275992785163112,
          -0.9049553682456588,
          0.39140151388641575,
          -1.3261717503652508,
          -0.11176379848313447,
          0.12996215884278603,
          -0.4992525292514862,
          -0.3757696877819027,
          1.8950234573743023,
          -1.9806901072377638,
          -0.23372785694788464,
          -0.8724008970677714,
          -0.34295179012678584,
          0.5427956937168907,
          1.1566492382180327,
          1.3326192990291548,
          -3.338998968955712,
          -1.1091125681635465,
          -1.3795235178695933,
          -1.1995158314131806,
          1.8271736655576276,
          -1.6994936600219739,
          -1.6145550438467797,
          0.9643249901269011,
          0.18191869225186177,
          1.067698235546503,
          -2.1762174829824414,
          0.6125575233486188,
          0.36338752339594443,
          0.30630912374155744,
          0.10269690778525375,
          -0.23617787136845161,
          0.29204680294836505,
          -1.532545565777484,
          0.8019566260245036,
          0.008843763923224425,
          -0.42653027037276425,
          0.28462913192626726,
          0.33580872462837,
          0.09094416649994692,
          -2.105854750180177,
          -2.423062150710898,
          -0.6026419962151889,
          0.4283091936814125,
          -1.178494121002894,
          -0.5400337459898417,
          0.9880569653816528,
          -1.1816843048036256,
          0.08603326565887974,
          1.7909142535972238,
          1.2309346264188081,
          -1.8196369817643112,
          -0.42081030328553204,
          -1.5186485358520676,
          -0.35265366574837465,
          -0.045581613031547445,
          -0.20430067627555923,
          0.5409643956030542,
          -0.41286664820958746,
          0.3410783944367214,
          -0.05382582690926376,
          -1.7286105233045104,
          -3.3274176052282987,
          -0.31580923857082854,
          -0.0022477885108969434,
          -0.7399373198141854,
          -1.0496008215922419,
          -0.018198058774143547,
          0.009171190217878636,
          -0.4359682580386698,
          -1.004700100123502,
          -1.1230110350456142,
          2.1312832353333366,
          2.1284473689005625,
          0.7196357631601891,
          0.35387350270156964,
          -0.7575764541103952,
          0.05885429630124914
         ]
        },
        {
         "line": {
          "color": "rgba(55, 128, 191, 1.0)",
          "dash": "solid",
          "shape": "linear",
          "width": 1.3
         },
         "mode": "lines",
         "name": "B",
         "text": "",
         "type": "scatter",
         "x": [
          0,
          1,
          2,
          3,
          4,
          5,
          6,
          7,
          8,
          9,
          10,
          11,
          12,
          13,
          14,
          15,
          16,
          17,
          18,
          19,
          20,
          21,
          22,
          23,
          24,
          25,
          26,
          27,
          28,
          29,
          30,
          31,
          32,
          33,
          34,
          35,
          36,
          37,
          38,
          39,
          40,
          41,
          42,
          43,
          44,
          45,
          46,
          47,
          48,
          49,
          50,
          51,
          52,
          53,
          54,
          55,
          56,
          57,
          58,
          59,
          60,
          61,
          62,
          63,
          64,
          65,
          66,
          67,
          68,
          69,
          70,
          71,
          72,
          73,
          74,
          75,
          76,
          77,
          78,
          79,
          80,
          81,
          82,
          83,
          84,
          85,
          86,
          87,
          88,
          89,
          90,
          91,
          92,
          93,
          94,
          95,
          96,
          97,
          98,
          99
         ],
         "y": [
          -0.040620682752938356,
          0.6425512540068671,
          0.14954889475613145,
          0.49045887473164235,
          -0.5827195860487148,
          -0.13496047818515644,
          -0.9893694661713424,
          0.07739330554695359,
          1.2774594950431841,
          0.9051893198035333,
          0.43346916701428506,
          -0.8306833793111323,
          -1.3092321307066412,
          1.4813037309002575,
          -0.34839072009165795,
          -2.5934705048348343,
          1.2081323105876758,
          -0.09907281821256546,
          0.9136907908933014,
          -0.12432182626363361,
          0.925676795487707,
          -0.09977335171951576,
          1.4892365866941903,
          -0.8429186160540141,
          -0.3025715984088873,
          0.2679478968963423,
          0.56905456426694,
          0.2941970762016016,
          1.3056771575832564,
          -1.7443669852439025,
          -0.28515992298943627,
          -0.5145847265601052,
          0.035708484457847633,
          1.627107409135958,
          0.5335426874062241,
          -1.3189437705400466,
          0.02713630906105749,
          -0.038583607971776374,
          -0.5859905137239353,
          -1.2177623765108856,
          0.4515652168570346,
          -0.965931380122257,
          0.23111129390548757,
          0.3898620573440986,
          0.07476211856250009,
          0.32798815670390036,
          -0.9908999331121211,
          -0.3651869892093611,
          -0.007334796306520177,
          0.6839228452193726,
          2.1371650254650323,
          0.6489511031859807,
          -0.0012767696323471123,
          0.278889171030196,
          -0.33165140572707336,
          -0.5680326867475078,
          -0.5415757221815488,
          -0.7935480405004463,
          2.0211246678010775,
          -0.8997668043881036,
          0.3324242707696821,
          0.026734950348676796,
          1.1922255118347185,
          -0.7697899008768124,
          0.44790487649560123,
          0.0939673325457032,
          2.1821417801637426,
          0.774139202896262,
          0.517067398756495,
          0.11010871823609361,
          -0.16470198410872866,
          0.49069038348064636,
          1.4607640667920616,
          0.20981002442152016,
          0.6103777309682441,
          -1.26145508089656,
          -0.13052525017463731,
          0.6092958179619178,
          2.016326021795919,
          1.1692372030554616,
          -0.7226676608429432,
          0.6311301714091945,
          0.27447197998064354,
          -0.22685920767083032,
          -0.3324216234957669,
          0.32721386514126644,
          0.33811135832490846,
          0.10292645064304927,
          1.0746877746327905,
          -0.6545233505727898,
          0.18354641835424212,
          0.18527408763830389,
          -0.38314438999148615,
          -0.6569472338029486,
          0.06183474638568763,
          1.5813137036549005,
          1.5835367596453647,
          1.4283287411040775,
          -2.0300800263880037,
          1.5790161429256748
         ]
        },
        {
         "connectgaps": false,
         "fill": "tozeroy",
         "line": {
          "color": "green",
          "dash": "solid",
          "shape": "linear",
          "width": 0.5
         },
         "mode": "lines",
         "name": "Spread",
         "showlegend": false,
         "type": "scatter",
         "x": [
          0,
          1,
          2,
          3,
          4,
          5,
          6,
          7,
          8,
          9,
          10,
          11,
          12,
          13,
          14,
          15,
          16,
          17,
          18,
          19,
          20,
          21,
          22,
          23,
          24,
          25,
          26,
          27,
          28,
          29,
          30,
          31,
          32,
          33,
          34,
          35,
          36,
          37,
          38,
          39,
          40,
          41,
          42,
          43,
          44,
          45,
          46,
          47,
          48,
          49,
          50,
          51,
          52,
          53,
          54,
          55,
          56,
          57,
          58,
          59,
          60,
          61,
          62,
          63,
          64,
          65,
          66,
          67,
          68,
          69,
          70,
          71,
          72,
          73,
          74,
          75,
          76,
          77,
          78,
          79,
          80,
          81,
          82,
          83,
          84,
          85,
          86,
          87,
          88,
          89,
          90,
          91,
          92,
          93,
          94,
          95,
          96,
          97,
          98,
          99
         ],
         "xaxis": "x2",
         "y": [
          "",
          0.8121290507421822,
          0.3089827626580526,
          "",
          1.5251794122044338,
          0.3269790173129954,
          1.1181018505245943,
          "",
          "",
          "",
          0.4409018763944822,
          2.0972307714800467,
          1.2959412492074418,
          "",
          1.2510426275099542,
          2.3349454732182164,
          "",
          0.16039188487820644,
          "",
          0.7814801091142162,
          "",
          "",
          "",
          "",
          0.693973112295303,
          "",
          "",
          "",
          "",
          1.3685972974619998,
          2.1801833803637387,
          "",
          "",
          "",
          "",
          1.8617394642569374,
          1.1295129291569752,
          1.371202907000931,
          "",
          0.10864980834733906,
          "",
          "",
          1.59606237165214,
          "",
          "",
          0.6363368334230007,
          1.172818625363983,
          1.432885224755864,
          "",
          "",
          "",
          "",
          0.10397367741760087,
          "",
          0.6236982086754383,
          "",
          1.3435323482060524,
          0.8023918044236706,
          "",
          1.1843959363143708,
          0.003384453858687908,
          0.06420921615127012,
          "",
          "",
          "",
          0.3343418611357093,
          "",
          "",
          0.4709895666251578,
          "",
          0.2507352497676084,
          1.3002238701165774,
          "",
          "",
          "",
          "",
          "",
          "",
          "",
          "",
          0.30980101263335574,
          "",
          "",
          "",
          "",
          "",
          "",
          "",
          "",
          0.6363252917986462,
          "",
          "",
          "",
          "",
          2.069448488947649,
          0.547133665245662,
          "",
          "",
          1.2725035722776084,
          ""
         ],
         "yaxis": "y2"
        },
        {
         "connectgaps": false,
         "fill": "tozeroy",
         "line": {
          "color": "red",
          "dash": "solid",
          "shape": "linear",
          "width": 0.5
         },
         "mode": "lines",
         "name": "Spread",
         "showlegend": false,
         "type": "scatter",
         "x": [
          0,
          1,
          2,
          3,
          4,
          5,
          6,
          7,
          8,
          9,
          10,
          11,
          12,
          13,
          14,
          15,
          16,
          17,
          18,
          19,
          20,
          21,
          22,
          23,
          24,
          25,
          26,
          27,
          28,
          29,
          30,
          31,
          32,
          33,
          34,
          35,
          36,
          37,
          38,
          39,
          40,
          41,
          42,
          43,
          44,
          45,
          46,
          47,
          48,
          49,
          50,
          51,
          52,
          53,
          54,
          55,
          56,
          57,
          58,
          59,
          60,
          61,
          62,
          63,
          64,
          65,
          66,
          67,
          68,
          69,
          70,
          71,
          72,
          73,
          74,
          75,
          76,
          77,
          78,
          79,
          80,
          81,
          82,
          83,
          84,
          85,
          86,
          87,
          88,
          89,
          90,
          91,
          92,
          93,
          94,
          95,
          96,
          97,
          98,
          99
         ],
         "xaxis": "x2",
         "y": [
          -0.8398905921744013,
          "",
          "",
          -0.7910348186687681,
          "",
          "",
          "",
          -1.2020565032929384,
          -0.2729000582418002,
          -0.9246223211088126,
          "",
          "",
          "",
          -0.2666806196897453,
          "",
          "",
          -1.1446250886266418,
          "",
          -0.23099842146613192,
          "",
          -1.565130771530704,
          -0.28756213120163787,
          -2.7652293718573024,
          -0.06203675219164473,
          "",
          -1.594119647261593,
          -0.6808183627500745,
          -0.1642349173588156,
          -1.8049296868347426,
          "",
          "",
          -1.4661053806776585,
          -0.26943634140573225,
          -2.4995083062037295,
          -0.8764944775330099,
          "",
          "",
          "",
          -2.7530084552317766,
          "",
          -1.8310887347266278,
          -0.23358445129092364,
          "",
          -2.0893557173660726,
          -1.6893171624092798,
          "",
          "",
          "",
          -2.1688826866759214,
          -0.07136532187075384,
          -1.7737775020690878,
          -0.34264197944442326,
          "",
          -0.5150670423986476,
          "",
          -0.9645128790299762,
          "",
          "",
          -2.4476549381738417,
          "",
          "",
          "",
          -3.2980802620148957,
          -1.6532722498340853,
          -1.05054687271079,
          "",
          -3.3606359011666367,
          -1.3141729488861036,
          "",
          -1.2917930230397192,
          "",
          "",
          -0.22982944037325348,
          -2.029447006185831,
          -1.031188034253776,
          -0.2571934549555075,
          -0.22212841557373733,
          -0.6548774309934652,
          -2.220626698071478,
          -0.6282728074524074,
          "",
          -0.2900517769724731,
          -0.3282978068899073,
          -1.5017513156336801,
          -2.9949959817325316,
          -0.643023103712095,
          -0.3403591468358054,
          -0.8428637704572347,
          -2.1242885962250324,
          "",
          -0.1743752281363635,
          -0.6212423456769737,
          -0.6215557101320159,
          -0.46606380124266555,
          "",
          "",
          -0.8639009964851756,
          -1.074455238402508,
          "",
          -1.5201618466244258
         ],
         "yaxis": "y2"
        }
       ],
       "layout": {
        "hovermode": "x",
        "legend": {
         "bgcolor": "#F5F6F9",
         "font": {
          "color": "#4D5663"
         }
        },
        "paper_bgcolor": "#F5F6F9",
        "plot_bgcolor": "#F5F6F9",
        "template": {
         "data": {
          "bar": [
           {
            "error_x": {
             "color": "#2a3f5f"
            },
            "error_y": {
             "color": "#2a3f5f"
            },
            "marker": {
             "line": {
              "color": "#E5ECF6",
              "width": 0.5
             },
             "pattern": {
              "fillmode": "overlay",
              "size": 10,
              "solidity": 0.2
             }
            },
            "type": "bar"
           }
          ],
          "barpolar": [
           {
            "marker": {
             "line": {
              "color": "#E5ECF6",
              "width": 0.5
             },
             "pattern": {
              "fillmode": "overlay",
              "size": 10,
              "solidity": 0.2
             }
            },
            "type": "barpolar"
           }
          ],
          "carpet": [
           {
            "aaxis": {
             "endlinecolor": "#2a3f5f",
             "gridcolor": "white",
             "linecolor": "white",
             "minorgridcolor": "white",
             "startlinecolor": "#2a3f5f"
            },
            "baxis": {
             "endlinecolor": "#2a3f5f",
             "gridcolor": "white",
             "linecolor": "white",
             "minorgridcolor": "white",
             "startlinecolor": "#2a3f5f"
            },
            "type": "carpet"
           }
          ],
          "choropleth": [
           {
            "colorbar": {
             "outlinewidth": 0,
             "ticks": ""
            },
            "type": "choropleth"
           }
          ],
          "contour": [
           {
            "colorbar": {
             "outlinewidth": 0,
             "ticks": ""
            },
            "colorscale": [
             [
              0,
              "#0d0887"
             ],
             [
              0.1111111111111111,
              "#46039f"
             ],
             [
              0.2222222222222222,
              "#7201a8"
             ],
             [
              0.3333333333333333,
              "#9c179e"
             ],
             [
              0.4444444444444444,
              "#bd3786"
             ],
             [
              0.5555555555555556,
              "#d8576b"
             ],
             [
              0.6666666666666666,
              "#ed7953"
             ],
             [
              0.7777777777777778,
              "#fb9f3a"
             ],
             [
              0.8888888888888888,
              "#fdca26"
             ],
             [
              1,
              "#f0f921"
             ]
            ],
            "type": "contour"
           }
          ],
          "contourcarpet": [
           {
            "colorbar": {
             "outlinewidth": 0,
             "ticks": ""
            },
            "type": "contourcarpet"
           }
          ],
          "heatmap": [
           {
            "colorbar": {
             "outlinewidth": 0,
             "ticks": ""
            },
            "colorscale": [
             [
              0,
              "#0d0887"
             ],
             [
              0.1111111111111111,
              "#46039f"
             ],
             [
              0.2222222222222222,
              "#7201a8"
             ],
             [
              0.3333333333333333,
              "#9c179e"
             ],
             [
              0.4444444444444444,
              "#bd3786"
             ],
             [
              0.5555555555555556,
              "#d8576b"
             ],
             [
              0.6666666666666666,
              "#ed7953"
             ],
             [
              0.7777777777777778,
              "#fb9f3a"
             ],
             [
              0.8888888888888888,
              "#fdca26"
             ],
             [
              1,
              "#f0f921"
             ]
            ],
            "type": "heatmap"
           }
          ],
          "heatmapgl": [
           {
            "colorbar": {
             "outlinewidth": 0,
             "ticks": ""
            },
            "colorscale": [
             [
              0,
              "#0d0887"
             ],
             [
              0.1111111111111111,
              "#46039f"
             ],
             [
              0.2222222222222222,
              "#7201a8"
             ],
             [
              0.3333333333333333,
              "#9c179e"
             ],
             [
              0.4444444444444444,
              "#bd3786"
             ],
             [
              0.5555555555555556,
              "#d8576b"
             ],
             [
              0.6666666666666666,
              "#ed7953"
             ],
             [
              0.7777777777777778,
              "#fb9f3a"
             ],
             [
              0.8888888888888888,
              "#fdca26"
             ],
             [
              1,
              "#f0f921"
             ]
            ],
            "type": "heatmapgl"
           }
          ],
          "histogram": [
           {
            "marker": {
             "pattern": {
              "fillmode": "overlay",
              "size": 10,
              "solidity": 0.2
             }
            },
            "type": "histogram"
           }
          ],
          "histogram2d": [
           {
            "colorbar": {
             "outlinewidth": 0,
             "ticks": ""
            },
            "colorscale": [
             [
              0,
              "#0d0887"
             ],
             [
              0.1111111111111111,
              "#46039f"
             ],
             [
              0.2222222222222222,
              "#7201a8"
             ],
             [
              0.3333333333333333,
              "#9c179e"
             ],
             [
              0.4444444444444444,
              "#bd3786"
             ],
             [
              0.5555555555555556,
              "#d8576b"
             ],
             [
              0.6666666666666666,
              "#ed7953"
             ],
             [
              0.7777777777777778,
              "#fb9f3a"
             ],
             [
              0.8888888888888888,
              "#fdca26"
             ],
             [
              1,
              "#f0f921"
             ]
            ],
            "type": "histogram2d"
           }
          ],
          "histogram2dcontour": [
           {
            "colorbar": {
             "outlinewidth": 0,
             "ticks": ""
            },
            "colorscale": [
             [
              0,
              "#0d0887"
             ],
             [
              0.1111111111111111,
              "#46039f"
             ],
             [
              0.2222222222222222,
              "#7201a8"
             ],
             [
              0.3333333333333333,
              "#9c179e"
             ],
             [
              0.4444444444444444,
              "#bd3786"
             ],
             [
              0.5555555555555556,
              "#d8576b"
             ],
             [
              0.6666666666666666,
              "#ed7953"
             ],
             [
              0.7777777777777778,
              "#fb9f3a"
             ],
             [
              0.8888888888888888,
              "#fdca26"
             ],
             [
              1,
              "#f0f921"
             ]
            ],
            "type": "histogram2dcontour"
           }
          ],
          "mesh3d": [
           {
            "colorbar": {
             "outlinewidth": 0,
             "ticks": ""
            },
            "type": "mesh3d"
           }
          ],
          "parcoords": [
           {
            "line": {
             "colorbar": {
              "outlinewidth": 0,
              "ticks": ""
             }
            },
            "type": "parcoords"
           }
          ],
          "pie": [
           {
            "automargin": true,
            "type": "pie"
           }
          ],
          "scatter": [
           {
            "fillpattern": {
             "fillmode": "overlay",
             "size": 10,
             "solidity": 0.2
            },
            "type": "scatter"
           }
          ],
          "scatter3d": [
           {
            "line": {
             "colorbar": {
              "outlinewidth": 0,
              "ticks": ""
             }
            },
            "marker": {
             "colorbar": {
              "outlinewidth": 0,
              "ticks": ""
             }
            },
            "type": "scatter3d"
           }
          ],
          "scattercarpet": [
           {
            "marker": {
             "colorbar": {
              "outlinewidth": 0,
              "ticks": ""
             }
            },
            "type": "scattercarpet"
           }
          ],
          "scattergeo": [
           {
            "marker": {
             "colorbar": {
              "outlinewidth": 0,
              "ticks": ""
             }
            },
            "type": "scattergeo"
           }
          ],
          "scattergl": [
           {
            "marker": {
             "colorbar": {
              "outlinewidth": 0,
              "ticks": ""
             }
            },
            "type": "scattergl"
           }
          ],
          "scattermapbox": [
           {
            "marker": {
             "colorbar": {
              "outlinewidth": 0,
              "ticks": ""
             }
            },
            "type": "scattermapbox"
           }
          ],
          "scatterpolar": [
           {
            "marker": {
             "colorbar": {
              "outlinewidth": 0,
              "ticks": ""
             }
            },
            "type": "scatterpolar"
           }
          ],
          "scatterpolargl": [
           {
            "marker": {
             "colorbar": {
              "outlinewidth": 0,
              "ticks": ""
             }
            },
            "type": "scatterpolargl"
           }
          ],
          "scatterternary": [
           {
            "marker": {
             "colorbar": {
              "outlinewidth": 0,
              "ticks": ""
             }
            },
            "type": "scatterternary"
           }
          ],
          "surface": [
           {
            "colorbar": {
             "outlinewidth": 0,
             "ticks": ""
            },
            "colorscale": [
             [
              0,
              "#0d0887"
             ],
             [
              0.1111111111111111,
              "#46039f"
             ],
             [
              0.2222222222222222,
              "#7201a8"
             ],
             [
              0.3333333333333333,
              "#9c179e"
             ],
             [
              0.4444444444444444,
              "#bd3786"
             ],
             [
              0.5555555555555556,
              "#d8576b"
             ],
             [
              0.6666666666666666,
              "#ed7953"
             ],
             [
              0.7777777777777778,
              "#fb9f3a"
             ],
             [
              0.8888888888888888,
              "#fdca26"
             ],
             [
              1,
              "#f0f921"
             ]
            ],
            "type": "surface"
           }
          ],
          "table": [
           {
            "cells": {
             "fill": {
              "color": "#EBF0F8"
             },
             "line": {
              "color": "white"
             }
            },
            "header": {
             "fill": {
              "color": "#C8D4E3"
             },
             "line": {
              "color": "white"
             }
            },
            "type": "table"
           }
          ]
         },
         "layout": {
          "annotationdefaults": {
           "arrowcolor": "#2a3f5f",
           "arrowhead": 0,
           "arrowwidth": 1
          },
          "autotypenumbers": "strict",
          "coloraxis": {
           "colorbar": {
            "outlinewidth": 0,
            "ticks": ""
           }
          },
          "colorscale": {
           "diverging": [
            [
             0,
             "#8e0152"
            ],
            [
             0.1,
             "#c51b7d"
            ],
            [
             0.2,
             "#de77ae"
            ],
            [
             0.3,
             "#f1b6da"
            ],
            [
             0.4,
             "#fde0ef"
            ],
            [
             0.5,
             "#f7f7f7"
            ],
            [
             0.6,
             "#e6f5d0"
            ],
            [
             0.7,
             "#b8e186"
            ],
            [
             0.8,
             "#7fbc41"
            ],
            [
             0.9,
             "#4d9221"
            ],
            [
             1,
             "#276419"
            ]
           ],
           "sequential": [
            [
             0,
             "#0d0887"
            ],
            [
             0.1111111111111111,
             "#46039f"
            ],
            [
             0.2222222222222222,
             "#7201a8"
            ],
            [
             0.3333333333333333,
             "#9c179e"
            ],
            [
             0.4444444444444444,
             "#bd3786"
            ],
            [
             0.5555555555555556,
             "#d8576b"
            ],
            [
             0.6666666666666666,
             "#ed7953"
            ],
            [
             0.7777777777777778,
             "#fb9f3a"
            ],
            [
             0.8888888888888888,
             "#fdca26"
            ],
            [
             1,
             "#f0f921"
            ]
           ],
           "sequentialminus": [
            [
             0,
             "#0d0887"
            ],
            [
             0.1111111111111111,
             "#46039f"
            ],
            [
             0.2222222222222222,
             "#7201a8"
            ],
            [
             0.3333333333333333,
             "#9c179e"
            ],
            [
             0.4444444444444444,
             "#bd3786"
            ],
            [
             0.5555555555555556,
             "#d8576b"
            ],
            [
             0.6666666666666666,
             "#ed7953"
            ],
            [
             0.7777777777777778,
             "#fb9f3a"
            ],
            [
             0.8888888888888888,
             "#fdca26"
            ],
            [
             1,
             "#f0f921"
            ]
           ]
          },
          "colorway": [
           "#636efa",
           "#EF553B",
           "#00cc96",
           "#ab63fa",
           "#FFA15A",
           "#19d3f3",
           "#FF6692",
           "#B6E880",
           "#FF97FF",
           "#FECB52"
          ],
          "font": {
           "color": "#2a3f5f"
          },
          "geo": {
           "bgcolor": "white",
           "lakecolor": "white",
           "landcolor": "#E5ECF6",
           "showlakes": true,
           "showland": true,
           "subunitcolor": "white"
          },
          "hoverlabel": {
           "align": "left"
          },
          "hovermode": "closest",
          "mapbox": {
           "style": "light"
          },
          "paper_bgcolor": "white",
          "plot_bgcolor": "#E5ECF6",
          "polar": {
           "angularaxis": {
            "gridcolor": "white",
            "linecolor": "white",
            "ticks": ""
           },
           "bgcolor": "#E5ECF6",
           "radialaxis": {
            "gridcolor": "white",
            "linecolor": "white",
            "ticks": ""
           }
          },
          "scene": {
           "xaxis": {
            "backgroundcolor": "#E5ECF6",
            "gridcolor": "white",
            "gridwidth": 2,
            "linecolor": "white",
            "showbackground": true,
            "ticks": "",
            "zerolinecolor": "white"
           },
           "yaxis": {
            "backgroundcolor": "#E5ECF6",
            "gridcolor": "white",
            "gridwidth": 2,
            "linecolor": "white",
            "showbackground": true,
            "ticks": "",
            "zerolinecolor": "white"
           },
           "zaxis": {
            "backgroundcolor": "#E5ECF6",
            "gridcolor": "white",
            "gridwidth": 2,
            "linecolor": "white",
            "showbackground": true,
            "ticks": "",
            "zerolinecolor": "white"
           }
          },
          "shapedefaults": {
           "line": {
            "color": "#2a3f5f"
           }
          },
          "ternary": {
           "aaxis": {
            "gridcolor": "white",
            "linecolor": "white",
            "ticks": ""
           },
           "baxis": {
            "gridcolor": "white",
            "linecolor": "white",
            "ticks": ""
           },
           "bgcolor": "#E5ECF6",
           "caxis": {
            "gridcolor": "white",
            "linecolor": "white",
            "ticks": ""
           }
          },
          "title": {
           "x": 0.05
          },
          "xaxis": {
           "automargin": true,
           "gridcolor": "white",
           "linecolor": "white",
           "ticks": "",
           "title": {
            "standoff": 15
           },
           "zerolinecolor": "white",
           "zerolinewidth": 2
          },
          "yaxis": {
           "automargin": true,
           "gridcolor": "white",
           "linecolor": "white",
           "ticks": "",
           "title": {
            "standoff": 15
           },
           "zerolinecolor": "white",
           "zerolinewidth": 2
          }
         }
        },
        "title": {
         "font": {
          "color": "#4D5663"
         }
        },
        "xaxis": {
         "gridcolor": "#E1E5ED",
         "showgrid": true,
         "tickfont": {
          "color": "#4D5663"
         },
         "title": {
          "font": {
           "color": "#4D5663"
          },
          "text": ""
         },
         "zerolinecolor": "#E1E5ED"
        },
        "xaxis2": {
         "anchor": "y2",
         "gridcolor": "#E1E5ED",
         "showgrid": true,
         "showticklabels": false,
         "tickfont": {
          "color": "#4D5663"
         },
         "title": {
          "font": {
           "color": "#4D5663"
          },
          "text": ""
         },
         "zerolinecolor": "#E1E5ED"
        },
        "yaxis": {
         "domain": [
          0.3,
          1
         ],
         "gridcolor": "#E1E5ED",
         "showgrid": true,
         "tickfont": {
          "color": "#4D5663"
         },
         "title": {
          "font": {
           "color": "#4D5663"
          },
          "text": ""
         },
         "zerolinecolor": "#E1E5ED"
        },
        "yaxis2": {
         "domain": [
          0,
          0.25
         ],
         "gridcolor": "#E1E5ED",
         "showgrid": true,
         "tickfont": {
          "color": "#4D5663"
         },
         "title": {
          "font": {
           "color": "#4D5663"
          },
          "text": "Spread"
         },
         "zerolinecolor": "#E1E5ED"
        }
       }
      },
      "text/html": [
       "<div>                            <div id=\"59cc7fb4-8380-4762-b836-0037c326b44d\" class=\"plotly-graph-div\" style=\"height:525px; width:100%;\"></div>            <script type=\"text/javascript\">                require([\"plotly\"], function(Plotly) {                    window.PLOTLYENV=window.PLOTLYENV || {};\n",
       "                    window.PLOTLYENV.BASE_URL='https://plot.ly';                                    if (document.getElementById(\"59cc7fb4-8380-4762-b836-0037c326b44d\")) {                    Plotly.newPlot(                        \"59cc7fb4-8380-4762-b836-0037c326b44d\",                        [{\"line\":{\"color\":\"rgba(255, 153, 51, 1.0)\",\"dash\":\"solid\",\"shape\":\"linear\",\"width\":1.3},\"mode\":\"lines\",\"name\":\"A\",\"text\":\"\",\"x\":[0,1,2,3,4,5,6,7,8,9,10,11,12,13,14,15,16,17,18,19,20,21,22,23,24,25,26,27,28,29,30,31,32,33,34,35,36,37,38,39,40,41,42,43,44,45,46,47,48,49,50,51,52,53,54,55,56,57,58,59,60,61,62,63,64,65,66,67,68,69,70,71,72,73,74,75,76,77,78,79,80,81,82,83,84,85,86,87,88,89,90,91,92,93,94,95,96,97,98,99],\"y\":[-0.8805112749273397,1.4546803047490493,0.45853165741418406,-0.3005759439371258,0.9424598261557191,0.19201853912783895,0.128732384353252,-1.1246631977459849,1.004559436801384,-0.019433001305279293,0.8743710434087673,1.266547392168914,-0.013290881499199495,1.2146231112105121,0.9026519074182962,-0.25852503161661794,0.06350722196103391,0.061319066665640985,0.6826923694271695,0.6571582828505825,-0.6394539760429969,-0.3873354829211536,-1.275992785163112,-0.9049553682456588,0.39140151388641575,-1.3261717503652508,-0.11176379848313447,0.12996215884278603,-0.4992525292514862,-0.3757696877819027,1.8950234573743023,-1.9806901072377638,-0.23372785694788464,-0.8724008970677714,-0.34295179012678584,0.5427956937168907,1.1566492382180327,1.3326192990291548,-3.338998968955712,-1.1091125681635465,-1.3795235178695933,-1.1995158314131806,1.8271736655576276,-1.6994936600219739,-1.6145550438467797,0.9643249901269011,0.18191869225186177,1.067698235546503,-2.1762174829824414,0.6125575233486188,0.36338752339594443,0.30630912374155744,0.10269690778525375,-0.23617787136845161,0.29204680294836505,-1.532545565777484,0.8019566260245036,0.008843763923224425,-0.42653027037276425,0.28462913192626726,0.33580872462837,0.09094416649994692,-2.105854750180177,-2.423062150710898,-0.6026419962151889,0.4283091936814125,-1.178494121002894,-0.5400337459898417,0.9880569653816528,-1.1816843048036256,0.08603326565887974,1.7909142535972238,1.2309346264188081,-1.8196369817643112,-0.42081030328553204,-1.5186485358520676,-0.35265366574837465,-0.045581613031547445,-0.20430067627555923,0.5409643956030542,-0.41286664820958746,0.3410783944367214,-0.05382582690926376,-1.7286105233045104,-3.3274176052282987,-0.31580923857082854,-0.0022477885108969434,-0.7399373198141854,-1.0496008215922419,-0.018198058774143547,0.009171190217878636,-0.4359682580386698,-1.004700100123502,-1.1230110350456142,2.1312832353333366,2.1284473689005625,0.7196357631601891,0.35387350270156964,-0.7575764541103952,0.05885429630124914],\"type\":\"scatter\"},{\"line\":{\"color\":\"rgba(55, 128, 191, 1.0)\",\"dash\":\"solid\",\"shape\":\"linear\",\"width\":1.3},\"mode\":\"lines\",\"name\":\"B\",\"text\":\"\",\"x\":[0,1,2,3,4,5,6,7,8,9,10,11,12,13,14,15,16,17,18,19,20,21,22,23,24,25,26,27,28,29,30,31,32,33,34,35,36,37,38,39,40,41,42,43,44,45,46,47,48,49,50,51,52,53,54,55,56,57,58,59,60,61,62,63,64,65,66,67,68,69,70,71,72,73,74,75,76,77,78,79,80,81,82,83,84,85,86,87,88,89,90,91,92,93,94,95,96,97,98,99],\"y\":[-0.040620682752938356,0.6425512540068671,0.14954889475613145,0.49045887473164235,-0.5827195860487148,-0.13496047818515644,-0.9893694661713424,0.07739330554695359,1.2774594950431841,0.9051893198035333,0.43346916701428506,-0.8306833793111323,-1.3092321307066412,1.4813037309002575,-0.34839072009165795,-2.5934705048348343,1.2081323105876758,-0.09907281821256546,0.9136907908933014,-0.12432182626363361,0.925676795487707,-0.09977335171951576,1.4892365866941903,-0.8429186160540141,-0.3025715984088873,0.2679478968963423,0.56905456426694,0.2941970762016016,1.3056771575832564,-1.7443669852439025,-0.28515992298943627,-0.5145847265601052,0.035708484457847633,1.627107409135958,0.5335426874062241,-1.3189437705400466,0.02713630906105749,-0.038583607971776374,-0.5859905137239353,-1.2177623765108856,0.4515652168570346,-0.965931380122257,0.23111129390548757,0.3898620573440986,0.07476211856250009,0.32798815670390036,-0.9908999331121211,-0.3651869892093611,-0.007334796306520177,0.6839228452193726,2.1371650254650323,0.6489511031859807,-0.0012767696323471123,0.278889171030196,-0.33165140572707336,-0.5680326867475078,-0.5415757221815488,-0.7935480405004463,2.0211246678010775,-0.8997668043881036,0.3324242707696821,0.026734950348676796,1.1922255118347185,-0.7697899008768124,0.44790487649560123,0.0939673325457032,2.1821417801637426,0.774139202896262,0.517067398756495,0.11010871823609361,-0.16470198410872866,0.49069038348064636,1.4607640667920616,0.20981002442152016,0.6103777309682441,-1.26145508089656,-0.13052525017463731,0.6092958179619178,2.016326021795919,1.1692372030554616,-0.7226676608429432,0.6311301714091945,0.27447197998064354,-0.22685920767083032,-0.3324216234957669,0.32721386514126644,0.33811135832490846,0.10292645064304927,1.0746877746327905,-0.6545233505727898,0.18354641835424212,0.18527408763830389,-0.38314438999148615,-0.6569472338029486,0.06183474638568763,1.5813137036549005,1.5835367596453647,1.4283287411040775,-2.0300800263880037,1.5790161429256748],\"type\":\"scatter\"},{\"connectgaps\":false,\"fill\":\"tozeroy\",\"line\":{\"color\":\"green\",\"dash\":\"solid\",\"shape\":\"linear\",\"width\":0.5},\"mode\":\"lines\",\"name\":\"Spread\",\"showlegend\":false,\"x\":[0,1,2,3,4,5,6,7,8,9,10,11,12,13,14,15,16,17,18,19,20,21,22,23,24,25,26,27,28,29,30,31,32,33,34,35,36,37,38,39,40,41,42,43,44,45,46,47,48,49,50,51,52,53,54,55,56,57,58,59,60,61,62,63,64,65,66,67,68,69,70,71,72,73,74,75,76,77,78,79,80,81,82,83,84,85,86,87,88,89,90,91,92,93,94,95,96,97,98,99],\"xaxis\":\"x2\",\"y\":[\"\",0.8121290507421822,0.3089827626580526,\"\",1.5251794122044338,0.3269790173129954,1.1181018505245943,\"\",\"\",\"\",0.4409018763944822,2.0972307714800467,1.2959412492074418,\"\",1.2510426275099542,2.3349454732182164,\"\",0.16039188487820644,\"\",0.7814801091142162,\"\",\"\",\"\",\"\",0.693973112295303,\"\",\"\",\"\",\"\",1.3685972974619998,2.1801833803637387,\"\",\"\",\"\",\"\",1.8617394642569374,1.1295129291569752,1.371202907000931,\"\",0.10864980834733906,\"\",\"\",1.59606237165214,\"\",\"\",0.6363368334230007,1.172818625363983,1.432885224755864,\"\",\"\",\"\",\"\",0.10397367741760087,\"\",0.6236982086754383,\"\",1.3435323482060524,0.8023918044236706,\"\",1.1843959363143708,0.003384453858687908,0.06420921615127012,\"\",\"\",\"\",0.3343418611357093,\"\",\"\",0.4709895666251578,\"\",0.2507352497676084,1.3002238701165774,\"\",\"\",\"\",\"\",\"\",\"\",\"\",\"\",0.30980101263335574,\"\",\"\",\"\",\"\",\"\",\"\",\"\",\"\",0.6363252917986462,\"\",\"\",\"\",\"\",2.069448488947649,0.547133665245662,\"\",\"\",1.2725035722776084,\"\"],\"yaxis\":\"y2\",\"type\":\"scatter\"},{\"connectgaps\":false,\"fill\":\"tozeroy\",\"line\":{\"color\":\"red\",\"dash\":\"solid\",\"shape\":\"linear\",\"width\":0.5},\"mode\":\"lines\",\"name\":\"Spread\",\"showlegend\":false,\"x\":[0,1,2,3,4,5,6,7,8,9,10,11,12,13,14,15,16,17,18,19,20,21,22,23,24,25,26,27,28,29,30,31,32,33,34,35,36,37,38,39,40,41,42,43,44,45,46,47,48,49,50,51,52,53,54,55,56,57,58,59,60,61,62,63,64,65,66,67,68,69,70,71,72,73,74,75,76,77,78,79,80,81,82,83,84,85,86,87,88,89,90,91,92,93,94,95,96,97,98,99],\"xaxis\":\"x2\",\"y\":[-0.8398905921744013,\"\",\"\",-0.7910348186687681,\"\",\"\",\"\",-1.2020565032929384,-0.2729000582418002,-0.9246223211088126,\"\",\"\",\"\",-0.2666806196897453,\"\",\"\",-1.1446250886266418,\"\",-0.23099842146613192,\"\",-1.565130771530704,-0.28756213120163787,-2.7652293718573024,-0.06203675219164473,\"\",-1.594119647261593,-0.6808183627500745,-0.1642349173588156,-1.8049296868347426,\"\",\"\",-1.4661053806776585,-0.26943634140573225,-2.4995083062037295,-0.8764944775330099,\"\",\"\",\"\",-2.7530084552317766,\"\",-1.8310887347266278,-0.23358445129092364,\"\",-2.0893557173660726,-1.6893171624092798,\"\",\"\",\"\",-2.1688826866759214,-0.07136532187075384,-1.7737775020690878,-0.34264197944442326,\"\",-0.5150670423986476,\"\",-0.9645128790299762,\"\",\"\",-2.4476549381738417,\"\",\"\",\"\",-3.2980802620148957,-1.6532722498340853,-1.05054687271079,\"\",-3.3606359011666367,-1.3141729488861036,\"\",-1.2917930230397192,\"\",\"\",-0.22982944037325348,-2.029447006185831,-1.031188034253776,-0.2571934549555075,-0.22212841557373733,-0.6548774309934652,-2.220626698071478,-0.6282728074524074,\"\",-0.2900517769724731,-0.3282978068899073,-1.5017513156336801,-2.9949959817325316,-0.643023103712095,-0.3403591468358054,-0.8428637704572347,-2.1242885962250324,\"\",-0.1743752281363635,-0.6212423456769737,-0.6215557101320159,-0.46606380124266555,\"\",\"\",-0.8639009964851756,-1.074455238402508,\"\",-1.5201618466244258],\"yaxis\":\"y2\",\"type\":\"scatter\"}],                        {\"hovermode\":\"x\",\"legend\":{\"bgcolor\":\"#F5F6F9\",\"font\":{\"color\":\"#4D5663\"}},\"paper_bgcolor\":\"#F5F6F9\",\"plot_bgcolor\":\"#F5F6F9\",\"template\":{\"data\":{\"barpolar\":[{\"marker\":{\"line\":{\"color\":\"#E5ECF6\",\"width\":0.5},\"pattern\":{\"fillmode\":\"overlay\",\"size\":10,\"solidity\":0.2}},\"type\":\"barpolar\"}],\"bar\":[{\"error_x\":{\"color\":\"#2a3f5f\"},\"error_y\":{\"color\":\"#2a3f5f\"},\"marker\":{\"line\":{\"color\":\"#E5ECF6\",\"width\":0.5},\"pattern\":{\"fillmode\":\"overlay\",\"size\":10,\"solidity\":0.2}},\"type\":\"bar\"}],\"carpet\":[{\"aaxis\":{\"endlinecolor\":\"#2a3f5f\",\"gridcolor\":\"white\",\"linecolor\":\"white\",\"minorgridcolor\":\"white\",\"startlinecolor\":\"#2a3f5f\"},\"baxis\":{\"endlinecolor\":\"#2a3f5f\",\"gridcolor\":\"white\",\"linecolor\":\"white\",\"minorgridcolor\":\"white\",\"startlinecolor\":\"#2a3f5f\"},\"type\":\"carpet\"}],\"choropleth\":[{\"colorbar\":{\"outlinewidth\":0,\"ticks\":\"\"},\"type\":\"choropleth\"}],\"contourcarpet\":[{\"colorbar\":{\"outlinewidth\":0,\"ticks\":\"\"},\"type\":\"contourcarpet\"}],\"contour\":[{\"colorbar\":{\"outlinewidth\":0,\"ticks\":\"\"},\"colorscale\":[[0.0,\"#0d0887\"],[0.1111111111111111,\"#46039f\"],[0.2222222222222222,\"#7201a8\"],[0.3333333333333333,\"#9c179e\"],[0.4444444444444444,\"#bd3786\"],[0.5555555555555556,\"#d8576b\"],[0.6666666666666666,\"#ed7953\"],[0.7777777777777778,\"#fb9f3a\"],[0.8888888888888888,\"#fdca26\"],[1.0,\"#f0f921\"]],\"type\":\"contour\"}],\"heatmapgl\":[{\"colorbar\":{\"outlinewidth\":0,\"ticks\":\"\"},\"colorscale\":[[0.0,\"#0d0887\"],[0.1111111111111111,\"#46039f\"],[0.2222222222222222,\"#7201a8\"],[0.3333333333333333,\"#9c179e\"],[0.4444444444444444,\"#bd3786\"],[0.5555555555555556,\"#d8576b\"],[0.6666666666666666,\"#ed7953\"],[0.7777777777777778,\"#fb9f3a\"],[0.8888888888888888,\"#fdca26\"],[1.0,\"#f0f921\"]],\"type\":\"heatmapgl\"}],\"heatmap\":[{\"colorbar\":{\"outlinewidth\":0,\"ticks\":\"\"},\"colorscale\":[[0.0,\"#0d0887\"],[0.1111111111111111,\"#46039f\"],[0.2222222222222222,\"#7201a8\"],[0.3333333333333333,\"#9c179e\"],[0.4444444444444444,\"#bd3786\"],[0.5555555555555556,\"#d8576b\"],[0.6666666666666666,\"#ed7953\"],[0.7777777777777778,\"#fb9f3a\"],[0.8888888888888888,\"#fdca26\"],[1.0,\"#f0f921\"]],\"type\":\"heatmap\"}],\"histogram2dcontour\":[{\"colorbar\":{\"outlinewidth\":0,\"ticks\":\"\"},\"colorscale\":[[0.0,\"#0d0887\"],[0.1111111111111111,\"#46039f\"],[0.2222222222222222,\"#7201a8\"],[0.3333333333333333,\"#9c179e\"],[0.4444444444444444,\"#bd3786\"],[0.5555555555555556,\"#d8576b\"],[0.6666666666666666,\"#ed7953\"],[0.7777777777777778,\"#fb9f3a\"],[0.8888888888888888,\"#fdca26\"],[1.0,\"#f0f921\"]],\"type\":\"histogram2dcontour\"}],\"histogram2d\":[{\"colorbar\":{\"outlinewidth\":0,\"ticks\":\"\"},\"colorscale\":[[0.0,\"#0d0887\"],[0.1111111111111111,\"#46039f\"],[0.2222222222222222,\"#7201a8\"],[0.3333333333333333,\"#9c179e\"],[0.4444444444444444,\"#bd3786\"],[0.5555555555555556,\"#d8576b\"],[0.6666666666666666,\"#ed7953\"],[0.7777777777777778,\"#fb9f3a\"],[0.8888888888888888,\"#fdca26\"],[1.0,\"#f0f921\"]],\"type\":\"histogram2d\"}],\"histogram\":[{\"marker\":{\"pattern\":{\"fillmode\":\"overlay\",\"size\":10,\"solidity\":0.2}},\"type\":\"histogram\"}],\"mesh3d\":[{\"colorbar\":{\"outlinewidth\":0,\"ticks\":\"\"},\"type\":\"mesh3d\"}],\"parcoords\":[{\"line\":{\"colorbar\":{\"outlinewidth\":0,\"ticks\":\"\"}},\"type\":\"parcoords\"}],\"pie\":[{\"automargin\":true,\"type\":\"pie\"}],\"scatter3d\":[{\"line\":{\"colorbar\":{\"outlinewidth\":0,\"ticks\":\"\"}},\"marker\":{\"colorbar\":{\"outlinewidth\":0,\"ticks\":\"\"}},\"type\":\"scatter3d\"}],\"scattercarpet\":[{\"marker\":{\"colorbar\":{\"outlinewidth\":0,\"ticks\":\"\"}},\"type\":\"scattercarpet\"}],\"scattergeo\":[{\"marker\":{\"colorbar\":{\"outlinewidth\":0,\"ticks\":\"\"}},\"type\":\"scattergeo\"}],\"scattergl\":[{\"marker\":{\"colorbar\":{\"outlinewidth\":0,\"ticks\":\"\"}},\"type\":\"scattergl\"}],\"scattermapbox\":[{\"marker\":{\"colorbar\":{\"outlinewidth\":0,\"ticks\":\"\"}},\"type\":\"scattermapbox\"}],\"scatterpolargl\":[{\"marker\":{\"colorbar\":{\"outlinewidth\":0,\"ticks\":\"\"}},\"type\":\"scatterpolargl\"}],\"scatterpolar\":[{\"marker\":{\"colorbar\":{\"outlinewidth\":0,\"ticks\":\"\"}},\"type\":\"scatterpolar\"}],\"scatter\":[{\"fillpattern\":{\"fillmode\":\"overlay\",\"size\":10,\"solidity\":0.2},\"type\":\"scatter\"}],\"scatterternary\":[{\"marker\":{\"colorbar\":{\"outlinewidth\":0,\"ticks\":\"\"}},\"type\":\"scatterternary\"}],\"surface\":[{\"colorbar\":{\"outlinewidth\":0,\"ticks\":\"\"},\"colorscale\":[[0.0,\"#0d0887\"],[0.1111111111111111,\"#46039f\"],[0.2222222222222222,\"#7201a8\"],[0.3333333333333333,\"#9c179e\"],[0.4444444444444444,\"#bd3786\"],[0.5555555555555556,\"#d8576b\"],[0.6666666666666666,\"#ed7953\"],[0.7777777777777778,\"#fb9f3a\"],[0.8888888888888888,\"#fdca26\"],[1.0,\"#f0f921\"]],\"type\":\"surface\"}],\"table\":[{\"cells\":{\"fill\":{\"color\":\"#EBF0F8\"},\"line\":{\"color\":\"white\"}},\"header\":{\"fill\":{\"color\":\"#C8D4E3\"},\"line\":{\"color\":\"white\"}},\"type\":\"table\"}]},\"layout\":{\"annotationdefaults\":{\"arrowcolor\":\"#2a3f5f\",\"arrowhead\":0,\"arrowwidth\":1},\"autotypenumbers\":\"strict\",\"coloraxis\":{\"colorbar\":{\"outlinewidth\":0,\"ticks\":\"\"}},\"colorscale\":{\"diverging\":[[0,\"#8e0152\"],[0.1,\"#c51b7d\"],[0.2,\"#de77ae\"],[0.3,\"#f1b6da\"],[0.4,\"#fde0ef\"],[0.5,\"#f7f7f7\"],[0.6,\"#e6f5d0\"],[0.7,\"#b8e186\"],[0.8,\"#7fbc41\"],[0.9,\"#4d9221\"],[1,\"#276419\"]],\"sequential\":[[0.0,\"#0d0887\"],[0.1111111111111111,\"#46039f\"],[0.2222222222222222,\"#7201a8\"],[0.3333333333333333,\"#9c179e\"],[0.4444444444444444,\"#bd3786\"],[0.5555555555555556,\"#d8576b\"],[0.6666666666666666,\"#ed7953\"],[0.7777777777777778,\"#fb9f3a\"],[0.8888888888888888,\"#fdca26\"],[1.0,\"#f0f921\"]],\"sequentialminus\":[[0.0,\"#0d0887\"],[0.1111111111111111,\"#46039f\"],[0.2222222222222222,\"#7201a8\"],[0.3333333333333333,\"#9c179e\"],[0.4444444444444444,\"#bd3786\"],[0.5555555555555556,\"#d8576b\"],[0.6666666666666666,\"#ed7953\"],[0.7777777777777778,\"#fb9f3a\"],[0.8888888888888888,\"#fdca26\"],[1.0,\"#f0f921\"]]},\"colorway\":[\"#636efa\",\"#EF553B\",\"#00cc96\",\"#ab63fa\",\"#FFA15A\",\"#19d3f3\",\"#FF6692\",\"#B6E880\",\"#FF97FF\",\"#FECB52\"],\"font\":{\"color\":\"#2a3f5f\"},\"geo\":{\"bgcolor\":\"white\",\"lakecolor\":\"white\",\"landcolor\":\"#E5ECF6\",\"showlakes\":true,\"showland\":true,\"subunitcolor\":\"white\"},\"hoverlabel\":{\"align\":\"left\"},\"hovermode\":\"closest\",\"mapbox\":{\"style\":\"light\"},\"paper_bgcolor\":\"white\",\"plot_bgcolor\":\"#E5ECF6\",\"polar\":{\"angularaxis\":{\"gridcolor\":\"white\",\"linecolor\":\"white\",\"ticks\":\"\"},\"bgcolor\":\"#E5ECF6\",\"radialaxis\":{\"gridcolor\":\"white\",\"linecolor\":\"white\",\"ticks\":\"\"}},\"scene\":{\"xaxis\":{\"backgroundcolor\":\"#E5ECF6\",\"gridcolor\":\"white\",\"gridwidth\":2,\"linecolor\":\"white\",\"showbackground\":true,\"ticks\":\"\",\"zerolinecolor\":\"white\"},\"yaxis\":{\"backgroundcolor\":\"#E5ECF6\",\"gridcolor\":\"white\",\"gridwidth\":2,\"linecolor\":\"white\",\"showbackground\":true,\"ticks\":\"\",\"zerolinecolor\":\"white\"},\"zaxis\":{\"backgroundcolor\":\"#E5ECF6\",\"gridcolor\":\"white\",\"gridwidth\":2,\"linecolor\":\"white\",\"showbackground\":true,\"ticks\":\"\",\"zerolinecolor\":\"white\"}},\"shapedefaults\":{\"line\":{\"color\":\"#2a3f5f\"}},\"ternary\":{\"aaxis\":{\"gridcolor\":\"white\",\"linecolor\":\"white\",\"ticks\":\"\"},\"baxis\":{\"gridcolor\":\"white\",\"linecolor\":\"white\",\"ticks\":\"\"},\"bgcolor\":\"#E5ECF6\",\"caxis\":{\"gridcolor\":\"white\",\"linecolor\":\"white\",\"ticks\":\"\"}},\"title\":{\"x\":0.05},\"xaxis\":{\"automargin\":true,\"gridcolor\":\"white\",\"linecolor\":\"white\",\"ticks\":\"\",\"title\":{\"standoff\":15},\"zerolinecolor\":\"white\",\"zerolinewidth\":2},\"yaxis\":{\"automargin\":true,\"gridcolor\":\"white\",\"linecolor\":\"white\",\"ticks\":\"\",\"title\":{\"standoff\":15},\"zerolinecolor\":\"white\",\"zerolinewidth\":2}}},\"title\":{\"font\":{\"color\":\"#4D5663\"}},\"xaxis\":{\"gridcolor\":\"#E1E5ED\",\"showgrid\":true,\"tickfont\":{\"color\":\"#4D5663\"},\"title\":{\"font\":{\"color\":\"#4D5663\"},\"text\":\"\"},\"zerolinecolor\":\"#E1E5ED\"},\"yaxis\":{\"domain\":[0.3,1],\"gridcolor\":\"#E1E5ED\",\"showgrid\":true,\"tickfont\":{\"color\":\"#4D5663\"},\"title\":{\"font\":{\"color\":\"#4D5663\"},\"text\":\"\"},\"zerolinecolor\":\"#E1E5ED\"},\"yaxis2\":{\"domain\":[0,0.25],\"gridcolor\":\"#E1E5ED\",\"showgrid\":true,\"tickfont\":{\"color\":\"#4D5663\"},\"title\":{\"font\":{\"color\":\"#4D5663\"},\"text\":\"Spread\"},\"zerolinecolor\":\"#E1E5ED\"},\"xaxis2\":{\"anchor\":\"y2\",\"gridcolor\":\"#E1E5ED\",\"showgrid\":true,\"showticklabels\":false,\"tickfont\":{\"color\":\"#4D5663\"},\"title\":{\"font\":{\"color\":\"#4D5663\"},\"text\":\"\"},\"zerolinecolor\":\"#E1E5ED\"}},                        {\"showLink\": true, \"linkText\": \"Export to plot.ly\", \"plotlyServerURL\": \"https://plot.ly\", \"responsive\": true}                    ).then(function(){\n",
       "                            \n",
       "var gd = document.getElementById('59cc7fb4-8380-4762-b836-0037c326b44d');\n",
       "var x = new MutationObserver(function (mutations, observer) {{\n",
       "        var display = window.getComputedStyle(gd).display;\n",
       "        if (!display || display === 'none') {{\n",
       "            console.log([gd, 'removed!']);\n",
       "            Plotly.purge(gd);\n",
       "            observer.disconnect();\n",
       "        }}\n",
       "}});\n",
       "\n",
       "// Listen for the removal of the full notebook cells\n",
       "var notebookContainer = gd.closest('#notebook-container');\n",
       "if (notebookContainer) {{\n",
       "    x.observe(notebookContainer, {childList: true});\n",
       "}}\n",
       "\n",
       "// Listen for the clearing of the current output cell\n",
       "var outputEl = gd.closest('.output');\n",
       "if (outputEl) {{\n",
       "    x.observe(outputEl, {childList: true});\n",
       "}}\n",
       "\n",
       "                        })                };                });            </script>        </div>"
      ]
     },
     "metadata": {},
     "output_type": "display_data"
    }
   ],
   "source": [
    "df[['A','B']].iplot(kind='spread')"
   ]
  },
  {
   "cell_type": "markdown",
   "metadata": {},
   "source": [
    "## histogram"
   ]
  },
  {
   "cell_type": "code",
   "execution_count": 16,
   "metadata": {},
   "outputs": [
    {
     "data": {
      "application/vnd.plotly.v1+json": {
       "config": {
        "linkText": "Export to plot.ly",
        "plotlyServerURL": "https://plot.ly",
        "showLink": true
       },
       "data": [
        {
         "histfunc": "count",
         "histnorm": "",
         "marker": {
          "color": "rgba(255, 153, 51, 1.0)",
          "line": {
           "color": "#4D5663",
           "width": 1.3
          }
         },
         "name": "A",
         "nbinsx": 25,
         "opacity": 0.8,
         "orientation": "v",
         "type": "histogram",
         "x": [
          -0.8805112749273397,
          1.4546803047490493,
          0.45853165741418406,
          -0.3005759439371258,
          0.9424598261557191,
          0.19201853912783895,
          0.128732384353252,
          -1.1246631977459849,
          1.004559436801384,
          -0.019433001305279293,
          0.8743710434087673,
          1.266547392168914,
          -0.013290881499199495,
          1.2146231112105121,
          0.9026519074182962,
          -0.25852503161661794,
          0.06350722196103391,
          0.061319066665640985,
          0.6826923694271695,
          0.6571582828505825,
          -0.6394539760429969,
          -0.3873354829211536,
          -1.275992785163112,
          -0.9049553682456588,
          0.39140151388641575,
          -1.3261717503652508,
          -0.11176379848313447,
          0.12996215884278603,
          -0.4992525292514862,
          -0.3757696877819027,
          1.8950234573743023,
          -1.9806901072377638,
          -0.23372785694788464,
          -0.8724008970677714,
          -0.34295179012678584,
          0.5427956937168907,
          1.1566492382180327,
          1.3326192990291548,
          -3.338998968955712,
          -1.1091125681635465,
          -1.3795235178695933,
          -1.1995158314131806,
          1.8271736655576276,
          -1.6994936600219739,
          -1.6145550438467797,
          0.9643249901269011,
          0.18191869225186177,
          1.067698235546503,
          -2.1762174829824414,
          0.6125575233486188,
          0.36338752339594443,
          0.30630912374155744,
          0.10269690778525375,
          -0.23617787136845161,
          0.29204680294836505,
          -1.532545565777484,
          0.8019566260245036,
          0.008843763923224425,
          -0.42653027037276425,
          0.28462913192626726,
          0.33580872462837,
          0.09094416649994692,
          -2.105854750180177,
          -2.423062150710898,
          -0.6026419962151889,
          0.4283091936814125,
          -1.178494121002894,
          -0.5400337459898417,
          0.9880569653816528,
          -1.1816843048036256,
          0.08603326565887974,
          1.7909142535972238,
          1.2309346264188081,
          -1.8196369817643112,
          -0.42081030328553204,
          -1.5186485358520676,
          -0.35265366574837465,
          -0.045581613031547445,
          -0.20430067627555923,
          0.5409643956030542,
          -0.41286664820958746,
          0.3410783944367214,
          -0.05382582690926376,
          -1.7286105233045104,
          -3.3274176052282987,
          -0.31580923857082854,
          -0.0022477885108969434,
          -0.7399373198141854,
          -1.0496008215922419,
          -0.018198058774143547,
          0.009171190217878636,
          -0.4359682580386698,
          -1.004700100123502,
          -1.1230110350456142,
          2.1312832353333366,
          2.1284473689005625,
          0.7196357631601891,
          0.35387350270156964,
          -0.7575764541103952,
          0.05885429630124914
         ]
        }
       ],
       "layout": {
        "barmode": "overlay",
        "legend": {
         "bgcolor": "#F5F6F9",
         "font": {
          "color": "#4D5663"
         }
        },
        "paper_bgcolor": "#F5F6F9",
        "plot_bgcolor": "#F5F6F9",
        "template": {
         "data": {
          "bar": [
           {
            "error_x": {
             "color": "#2a3f5f"
            },
            "error_y": {
             "color": "#2a3f5f"
            },
            "marker": {
             "line": {
              "color": "#E5ECF6",
              "width": 0.5
             },
             "pattern": {
              "fillmode": "overlay",
              "size": 10,
              "solidity": 0.2
             }
            },
            "type": "bar"
           }
          ],
          "barpolar": [
           {
            "marker": {
             "line": {
              "color": "#E5ECF6",
              "width": 0.5
             },
             "pattern": {
              "fillmode": "overlay",
              "size": 10,
              "solidity": 0.2
             }
            },
            "type": "barpolar"
           }
          ],
          "carpet": [
           {
            "aaxis": {
             "endlinecolor": "#2a3f5f",
             "gridcolor": "white",
             "linecolor": "white",
             "minorgridcolor": "white",
             "startlinecolor": "#2a3f5f"
            },
            "baxis": {
             "endlinecolor": "#2a3f5f",
             "gridcolor": "white",
             "linecolor": "white",
             "minorgridcolor": "white",
             "startlinecolor": "#2a3f5f"
            },
            "type": "carpet"
           }
          ],
          "choropleth": [
           {
            "colorbar": {
             "outlinewidth": 0,
             "ticks": ""
            },
            "type": "choropleth"
           }
          ],
          "contour": [
           {
            "colorbar": {
             "outlinewidth": 0,
             "ticks": ""
            },
            "colorscale": [
             [
              0,
              "#0d0887"
             ],
             [
              0.1111111111111111,
              "#46039f"
             ],
             [
              0.2222222222222222,
              "#7201a8"
             ],
             [
              0.3333333333333333,
              "#9c179e"
             ],
             [
              0.4444444444444444,
              "#bd3786"
             ],
             [
              0.5555555555555556,
              "#d8576b"
             ],
             [
              0.6666666666666666,
              "#ed7953"
             ],
             [
              0.7777777777777778,
              "#fb9f3a"
             ],
             [
              0.8888888888888888,
              "#fdca26"
             ],
             [
              1,
              "#f0f921"
             ]
            ],
            "type": "contour"
           }
          ],
          "contourcarpet": [
           {
            "colorbar": {
             "outlinewidth": 0,
             "ticks": ""
            },
            "type": "contourcarpet"
           }
          ],
          "heatmap": [
           {
            "colorbar": {
             "outlinewidth": 0,
             "ticks": ""
            },
            "colorscale": [
             [
              0,
              "#0d0887"
             ],
             [
              0.1111111111111111,
              "#46039f"
             ],
             [
              0.2222222222222222,
              "#7201a8"
             ],
             [
              0.3333333333333333,
              "#9c179e"
             ],
             [
              0.4444444444444444,
              "#bd3786"
             ],
             [
              0.5555555555555556,
              "#d8576b"
             ],
             [
              0.6666666666666666,
              "#ed7953"
             ],
             [
              0.7777777777777778,
              "#fb9f3a"
             ],
             [
              0.8888888888888888,
              "#fdca26"
             ],
             [
              1,
              "#f0f921"
             ]
            ],
            "type": "heatmap"
           }
          ],
          "heatmapgl": [
           {
            "colorbar": {
             "outlinewidth": 0,
             "ticks": ""
            },
            "colorscale": [
             [
              0,
              "#0d0887"
             ],
             [
              0.1111111111111111,
              "#46039f"
             ],
             [
              0.2222222222222222,
              "#7201a8"
             ],
             [
              0.3333333333333333,
              "#9c179e"
             ],
             [
              0.4444444444444444,
              "#bd3786"
             ],
             [
              0.5555555555555556,
              "#d8576b"
             ],
             [
              0.6666666666666666,
              "#ed7953"
             ],
             [
              0.7777777777777778,
              "#fb9f3a"
             ],
             [
              0.8888888888888888,
              "#fdca26"
             ],
             [
              1,
              "#f0f921"
             ]
            ],
            "type": "heatmapgl"
           }
          ],
          "histogram": [
           {
            "marker": {
             "pattern": {
              "fillmode": "overlay",
              "size": 10,
              "solidity": 0.2
             }
            },
            "type": "histogram"
           }
          ],
          "histogram2d": [
           {
            "colorbar": {
             "outlinewidth": 0,
             "ticks": ""
            },
            "colorscale": [
             [
              0,
              "#0d0887"
             ],
             [
              0.1111111111111111,
              "#46039f"
             ],
             [
              0.2222222222222222,
              "#7201a8"
             ],
             [
              0.3333333333333333,
              "#9c179e"
             ],
             [
              0.4444444444444444,
              "#bd3786"
             ],
             [
              0.5555555555555556,
              "#d8576b"
             ],
             [
              0.6666666666666666,
              "#ed7953"
             ],
             [
              0.7777777777777778,
              "#fb9f3a"
             ],
             [
              0.8888888888888888,
              "#fdca26"
             ],
             [
              1,
              "#f0f921"
             ]
            ],
            "type": "histogram2d"
           }
          ],
          "histogram2dcontour": [
           {
            "colorbar": {
             "outlinewidth": 0,
             "ticks": ""
            },
            "colorscale": [
             [
              0,
              "#0d0887"
             ],
             [
              0.1111111111111111,
              "#46039f"
             ],
             [
              0.2222222222222222,
              "#7201a8"
             ],
             [
              0.3333333333333333,
              "#9c179e"
             ],
             [
              0.4444444444444444,
              "#bd3786"
             ],
             [
              0.5555555555555556,
              "#d8576b"
             ],
             [
              0.6666666666666666,
              "#ed7953"
             ],
             [
              0.7777777777777778,
              "#fb9f3a"
             ],
             [
              0.8888888888888888,
              "#fdca26"
             ],
             [
              1,
              "#f0f921"
             ]
            ],
            "type": "histogram2dcontour"
           }
          ],
          "mesh3d": [
           {
            "colorbar": {
             "outlinewidth": 0,
             "ticks": ""
            },
            "type": "mesh3d"
           }
          ],
          "parcoords": [
           {
            "line": {
             "colorbar": {
              "outlinewidth": 0,
              "ticks": ""
             }
            },
            "type": "parcoords"
           }
          ],
          "pie": [
           {
            "automargin": true,
            "type": "pie"
           }
          ],
          "scatter": [
           {
            "fillpattern": {
             "fillmode": "overlay",
             "size": 10,
             "solidity": 0.2
            },
            "type": "scatter"
           }
          ],
          "scatter3d": [
           {
            "line": {
             "colorbar": {
              "outlinewidth": 0,
              "ticks": ""
             }
            },
            "marker": {
             "colorbar": {
              "outlinewidth": 0,
              "ticks": ""
             }
            },
            "type": "scatter3d"
           }
          ],
          "scattercarpet": [
           {
            "marker": {
             "colorbar": {
              "outlinewidth": 0,
              "ticks": ""
             }
            },
            "type": "scattercarpet"
           }
          ],
          "scattergeo": [
           {
            "marker": {
             "colorbar": {
              "outlinewidth": 0,
              "ticks": ""
             }
            },
            "type": "scattergeo"
           }
          ],
          "scattergl": [
           {
            "marker": {
             "colorbar": {
              "outlinewidth": 0,
              "ticks": ""
             }
            },
            "type": "scattergl"
           }
          ],
          "scattermapbox": [
           {
            "marker": {
             "colorbar": {
              "outlinewidth": 0,
              "ticks": ""
             }
            },
            "type": "scattermapbox"
           }
          ],
          "scatterpolar": [
           {
            "marker": {
             "colorbar": {
              "outlinewidth": 0,
              "ticks": ""
             }
            },
            "type": "scatterpolar"
           }
          ],
          "scatterpolargl": [
           {
            "marker": {
             "colorbar": {
              "outlinewidth": 0,
              "ticks": ""
             }
            },
            "type": "scatterpolargl"
           }
          ],
          "scatterternary": [
           {
            "marker": {
             "colorbar": {
              "outlinewidth": 0,
              "ticks": ""
             }
            },
            "type": "scatterternary"
           }
          ],
          "surface": [
           {
            "colorbar": {
             "outlinewidth": 0,
             "ticks": ""
            },
            "colorscale": [
             [
              0,
              "#0d0887"
             ],
             [
              0.1111111111111111,
              "#46039f"
             ],
             [
              0.2222222222222222,
              "#7201a8"
             ],
             [
              0.3333333333333333,
              "#9c179e"
             ],
             [
              0.4444444444444444,
              "#bd3786"
             ],
             [
              0.5555555555555556,
              "#d8576b"
             ],
             [
              0.6666666666666666,
              "#ed7953"
             ],
             [
              0.7777777777777778,
              "#fb9f3a"
             ],
             [
              0.8888888888888888,
              "#fdca26"
             ],
             [
              1,
              "#f0f921"
             ]
            ],
            "type": "surface"
           }
          ],
          "table": [
           {
            "cells": {
             "fill": {
              "color": "#EBF0F8"
             },
             "line": {
              "color": "white"
             }
            },
            "header": {
             "fill": {
              "color": "#C8D4E3"
             },
             "line": {
              "color": "white"
             }
            },
            "type": "table"
           }
          ]
         },
         "layout": {
          "annotationdefaults": {
           "arrowcolor": "#2a3f5f",
           "arrowhead": 0,
           "arrowwidth": 1
          },
          "autotypenumbers": "strict",
          "coloraxis": {
           "colorbar": {
            "outlinewidth": 0,
            "ticks": ""
           }
          },
          "colorscale": {
           "diverging": [
            [
             0,
             "#8e0152"
            ],
            [
             0.1,
             "#c51b7d"
            ],
            [
             0.2,
             "#de77ae"
            ],
            [
             0.3,
             "#f1b6da"
            ],
            [
             0.4,
             "#fde0ef"
            ],
            [
             0.5,
             "#f7f7f7"
            ],
            [
             0.6,
             "#e6f5d0"
            ],
            [
             0.7,
             "#b8e186"
            ],
            [
             0.8,
             "#7fbc41"
            ],
            [
             0.9,
             "#4d9221"
            ],
            [
             1,
             "#276419"
            ]
           ],
           "sequential": [
            [
             0,
             "#0d0887"
            ],
            [
             0.1111111111111111,
             "#46039f"
            ],
            [
             0.2222222222222222,
             "#7201a8"
            ],
            [
             0.3333333333333333,
             "#9c179e"
            ],
            [
             0.4444444444444444,
             "#bd3786"
            ],
            [
             0.5555555555555556,
             "#d8576b"
            ],
            [
             0.6666666666666666,
             "#ed7953"
            ],
            [
             0.7777777777777778,
             "#fb9f3a"
            ],
            [
             0.8888888888888888,
             "#fdca26"
            ],
            [
             1,
             "#f0f921"
            ]
           ],
           "sequentialminus": [
            [
             0,
             "#0d0887"
            ],
            [
             0.1111111111111111,
             "#46039f"
            ],
            [
             0.2222222222222222,
             "#7201a8"
            ],
            [
             0.3333333333333333,
             "#9c179e"
            ],
            [
             0.4444444444444444,
             "#bd3786"
            ],
            [
             0.5555555555555556,
             "#d8576b"
            ],
            [
             0.6666666666666666,
             "#ed7953"
            ],
            [
             0.7777777777777778,
             "#fb9f3a"
            ],
            [
             0.8888888888888888,
             "#fdca26"
            ],
            [
             1,
             "#f0f921"
            ]
           ]
          },
          "colorway": [
           "#636efa",
           "#EF553B",
           "#00cc96",
           "#ab63fa",
           "#FFA15A",
           "#19d3f3",
           "#FF6692",
           "#B6E880",
           "#FF97FF",
           "#FECB52"
          ],
          "font": {
           "color": "#2a3f5f"
          },
          "geo": {
           "bgcolor": "white",
           "lakecolor": "white",
           "landcolor": "#E5ECF6",
           "showlakes": true,
           "showland": true,
           "subunitcolor": "white"
          },
          "hoverlabel": {
           "align": "left"
          },
          "hovermode": "closest",
          "mapbox": {
           "style": "light"
          },
          "paper_bgcolor": "white",
          "plot_bgcolor": "#E5ECF6",
          "polar": {
           "angularaxis": {
            "gridcolor": "white",
            "linecolor": "white",
            "ticks": ""
           },
           "bgcolor": "#E5ECF6",
           "radialaxis": {
            "gridcolor": "white",
            "linecolor": "white",
            "ticks": ""
           }
          },
          "scene": {
           "xaxis": {
            "backgroundcolor": "#E5ECF6",
            "gridcolor": "white",
            "gridwidth": 2,
            "linecolor": "white",
            "showbackground": true,
            "ticks": "",
            "zerolinecolor": "white"
           },
           "yaxis": {
            "backgroundcolor": "#E5ECF6",
            "gridcolor": "white",
            "gridwidth": 2,
            "linecolor": "white",
            "showbackground": true,
            "ticks": "",
            "zerolinecolor": "white"
           },
           "zaxis": {
            "backgroundcolor": "#E5ECF6",
            "gridcolor": "white",
            "gridwidth": 2,
            "linecolor": "white",
            "showbackground": true,
            "ticks": "",
            "zerolinecolor": "white"
           }
          },
          "shapedefaults": {
           "line": {
            "color": "#2a3f5f"
           }
          },
          "ternary": {
           "aaxis": {
            "gridcolor": "white",
            "linecolor": "white",
            "ticks": ""
           },
           "baxis": {
            "gridcolor": "white",
            "linecolor": "white",
            "ticks": ""
           },
           "bgcolor": "#E5ECF6",
           "caxis": {
            "gridcolor": "white",
            "linecolor": "white",
            "ticks": ""
           }
          },
          "title": {
           "x": 0.05
          },
          "xaxis": {
           "automargin": true,
           "gridcolor": "white",
           "linecolor": "white",
           "ticks": "",
           "title": {
            "standoff": 15
           },
           "zerolinecolor": "white",
           "zerolinewidth": 2
          },
          "yaxis": {
           "automargin": true,
           "gridcolor": "white",
           "linecolor": "white",
           "ticks": "",
           "title": {
            "standoff": 15
           },
           "zerolinecolor": "white",
           "zerolinewidth": 2
          }
         }
        },
        "title": {
         "font": {
          "color": "#4D5663"
         }
        },
        "xaxis": {
         "gridcolor": "#E1E5ED",
         "showgrid": true,
         "tickfont": {
          "color": "#4D5663"
         },
         "title": {
          "font": {
           "color": "#4D5663"
          },
          "text": ""
         },
         "zerolinecolor": "#E1E5ED"
        },
        "yaxis": {
         "gridcolor": "#E1E5ED",
         "showgrid": true,
         "tickfont": {
          "color": "#4D5663"
         },
         "title": {
          "font": {
           "color": "#4D5663"
          },
          "text": ""
         },
         "zerolinecolor": "#E1E5ED"
        }
       }
      },
      "text/html": [
       "<div>                            <div id=\"c7544689-d97f-4f37-99af-5bb0bdb2e326\" class=\"plotly-graph-div\" style=\"height:525px; width:100%;\"></div>            <script type=\"text/javascript\">                require([\"plotly\"], function(Plotly) {                    window.PLOTLYENV=window.PLOTLYENV || {};\n",
       "                    window.PLOTLYENV.BASE_URL='https://plot.ly';                                    if (document.getElementById(\"c7544689-d97f-4f37-99af-5bb0bdb2e326\")) {                    Plotly.newPlot(                        \"c7544689-d97f-4f37-99af-5bb0bdb2e326\",                        [{\"histfunc\":\"count\",\"histnorm\":\"\",\"marker\":{\"color\":\"rgba(255, 153, 51, 1.0)\",\"line\":{\"color\":\"#4D5663\",\"width\":1.3}},\"name\":\"A\",\"nbinsx\":25,\"opacity\":0.8,\"orientation\":\"v\",\"x\":[-0.8805112749273397,1.4546803047490493,0.45853165741418406,-0.3005759439371258,0.9424598261557191,0.19201853912783895,0.128732384353252,-1.1246631977459849,1.004559436801384,-0.019433001305279293,0.8743710434087673,1.266547392168914,-0.013290881499199495,1.2146231112105121,0.9026519074182962,-0.25852503161661794,0.06350722196103391,0.061319066665640985,0.6826923694271695,0.6571582828505825,-0.6394539760429969,-0.3873354829211536,-1.275992785163112,-0.9049553682456588,0.39140151388641575,-1.3261717503652508,-0.11176379848313447,0.12996215884278603,-0.4992525292514862,-0.3757696877819027,1.8950234573743023,-1.9806901072377638,-0.23372785694788464,-0.8724008970677714,-0.34295179012678584,0.5427956937168907,1.1566492382180327,1.3326192990291548,-3.338998968955712,-1.1091125681635465,-1.3795235178695933,-1.1995158314131806,1.8271736655576276,-1.6994936600219739,-1.6145550438467797,0.9643249901269011,0.18191869225186177,1.067698235546503,-2.1762174829824414,0.6125575233486188,0.36338752339594443,0.30630912374155744,0.10269690778525375,-0.23617787136845161,0.29204680294836505,-1.532545565777484,0.8019566260245036,0.008843763923224425,-0.42653027037276425,0.28462913192626726,0.33580872462837,0.09094416649994692,-2.105854750180177,-2.423062150710898,-0.6026419962151889,0.4283091936814125,-1.178494121002894,-0.5400337459898417,0.9880569653816528,-1.1816843048036256,0.08603326565887974,1.7909142535972238,1.2309346264188081,-1.8196369817643112,-0.42081030328553204,-1.5186485358520676,-0.35265366574837465,-0.045581613031547445,-0.20430067627555923,0.5409643956030542,-0.41286664820958746,0.3410783944367214,-0.05382582690926376,-1.7286105233045104,-3.3274176052282987,-0.31580923857082854,-0.0022477885108969434,-0.7399373198141854,-1.0496008215922419,-0.018198058774143547,0.009171190217878636,-0.4359682580386698,-1.004700100123502,-1.1230110350456142,2.1312832353333366,2.1284473689005625,0.7196357631601891,0.35387350270156964,-0.7575764541103952,0.05885429630124914],\"type\":\"histogram\"}],                        {\"barmode\":\"overlay\",\"legend\":{\"bgcolor\":\"#F5F6F9\",\"font\":{\"color\":\"#4D5663\"}},\"paper_bgcolor\":\"#F5F6F9\",\"plot_bgcolor\":\"#F5F6F9\",\"template\":{\"data\":{\"barpolar\":[{\"marker\":{\"line\":{\"color\":\"#E5ECF6\",\"width\":0.5},\"pattern\":{\"fillmode\":\"overlay\",\"size\":10,\"solidity\":0.2}},\"type\":\"barpolar\"}],\"bar\":[{\"error_x\":{\"color\":\"#2a3f5f\"},\"error_y\":{\"color\":\"#2a3f5f\"},\"marker\":{\"line\":{\"color\":\"#E5ECF6\",\"width\":0.5},\"pattern\":{\"fillmode\":\"overlay\",\"size\":10,\"solidity\":0.2}},\"type\":\"bar\"}],\"carpet\":[{\"aaxis\":{\"endlinecolor\":\"#2a3f5f\",\"gridcolor\":\"white\",\"linecolor\":\"white\",\"minorgridcolor\":\"white\",\"startlinecolor\":\"#2a3f5f\"},\"baxis\":{\"endlinecolor\":\"#2a3f5f\",\"gridcolor\":\"white\",\"linecolor\":\"white\",\"minorgridcolor\":\"white\",\"startlinecolor\":\"#2a3f5f\"},\"type\":\"carpet\"}],\"choropleth\":[{\"colorbar\":{\"outlinewidth\":0,\"ticks\":\"\"},\"type\":\"choropleth\"}],\"contourcarpet\":[{\"colorbar\":{\"outlinewidth\":0,\"ticks\":\"\"},\"type\":\"contourcarpet\"}],\"contour\":[{\"colorbar\":{\"outlinewidth\":0,\"ticks\":\"\"},\"colorscale\":[[0.0,\"#0d0887\"],[0.1111111111111111,\"#46039f\"],[0.2222222222222222,\"#7201a8\"],[0.3333333333333333,\"#9c179e\"],[0.4444444444444444,\"#bd3786\"],[0.5555555555555556,\"#d8576b\"],[0.6666666666666666,\"#ed7953\"],[0.7777777777777778,\"#fb9f3a\"],[0.8888888888888888,\"#fdca26\"],[1.0,\"#f0f921\"]],\"type\":\"contour\"}],\"heatmapgl\":[{\"colorbar\":{\"outlinewidth\":0,\"ticks\":\"\"},\"colorscale\":[[0.0,\"#0d0887\"],[0.1111111111111111,\"#46039f\"],[0.2222222222222222,\"#7201a8\"],[0.3333333333333333,\"#9c179e\"],[0.4444444444444444,\"#bd3786\"],[0.5555555555555556,\"#d8576b\"],[0.6666666666666666,\"#ed7953\"],[0.7777777777777778,\"#fb9f3a\"],[0.8888888888888888,\"#fdca26\"],[1.0,\"#f0f921\"]],\"type\":\"heatmapgl\"}],\"heatmap\":[{\"colorbar\":{\"outlinewidth\":0,\"ticks\":\"\"},\"colorscale\":[[0.0,\"#0d0887\"],[0.1111111111111111,\"#46039f\"],[0.2222222222222222,\"#7201a8\"],[0.3333333333333333,\"#9c179e\"],[0.4444444444444444,\"#bd3786\"],[0.5555555555555556,\"#d8576b\"],[0.6666666666666666,\"#ed7953\"],[0.7777777777777778,\"#fb9f3a\"],[0.8888888888888888,\"#fdca26\"],[1.0,\"#f0f921\"]],\"type\":\"heatmap\"}],\"histogram2dcontour\":[{\"colorbar\":{\"outlinewidth\":0,\"ticks\":\"\"},\"colorscale\":[[0.0,\"#0d0887\"],[0.1111111111111111,\"#46039f\"],[0.2222222222222222,\"#7201a8\"],[0.3333333333333333,\"#9c179e\"],[0.4444444444444444,\"#bd3786\"],[0.5555555555555556,\"#d8576b\"],[0.6666666666666666,\"#ed7953\"],[0.7777777777777778,\"#fb9f3a\"],[0.8888888888888888,\"#fdca26\"],[1.0,\"#f0f921\"]],\"type\":\"histogram2dcontour\"}],\"histogram2d\":[{\"colorbar\":{\"outlinewidth\":0,\"ticks\":\"\"},\"colorscale\":[[0.0,\"#0d0887\"],[0.1111111111111111,\"#46039f\"],[0.2222222222222222,\"#7201a8\"],[0.3333333333333333,\"#9c179e\"],[0.4444444444444444,\"#bd3786\"],[0.5555555555555556,\"#d8576b\"],[0.6666666666666666,\"#ed7953\"],[0.7777777777777778,\"#fb9f3a\"],[0.8888888888888888,\"#fdca26\"],[1.0,\"#f0f921\"]],\"type\":\"histogram2d\"}],\"histogram\":[{\"marker\":{\"pattern\":{\"fillmode\":\"overlay\",\"size\":10,\"solidity\":0.2}},\"type\":\"histogram\"}],\"mesh3d\":[{\"colorbar\":{\"outlinewidth\":0,\"ticks\":\"\"},\"type\":\"mesh3d\"}],\"parcoords\":[{\"line\":{\"colorbar\":{\"outlinewidth\":0,\"ticks\":\"\"}},\"type\":\"parcoords\"}],\"pie\":[{\"automargin\":true,\"type\":\"pie\"}],\"scatter3d\":[{\"line\":{\"colorbar\":{\"outlinewidth\":0,\"ticks\":\"\"}},\"marker\":{\"colorbar\":{\"outlinewidth\":0,\"ticks\":\"\"}},\"type\":\"scatter3d\"}],\"scattercarpet\":[{\"marker\":{\"colorbar\":{\"outlinewidth\":0,\"ticks\":\"\"}},\"type\":\"scattercarpet\"}],\"scattergeo\":[{\"marker\":{\"colorbar\":{\"outlinewidth\":0,\"ticks\":\"\"}},\"type\":\"scattergeo\"}],\"scattergl\":[{\"marker\":{\"colorbar\":{\"outlinewidth\":0,\"ticks\":\"\"}},\"type\":\"scattergl\"}],\"scattermapbox\":[{\"marker\":{\"colorbar\":{\"outlinewidth\":0,\"ticks\":\"\"}},\"type\":\"scattermapbox\"}],\"scatterpolargl\":[{\"marker\":{\"colorbar\":{\"outlinewidth\":0,\"ticks\":\"\"}},\"type\":\"scatterpolargl\"}],\"scatterpolar\":[{\"marker\":{\"colorbar\":{\"outlinewidth\":0,\"ticks\":\"\"}},\"type\":\"scatterpolar\"}],\"scatter\":[{\"fillpattern\":{\"fillmode\":\"overlay\",\"size\":10,\"solidity\":0.2},\"type\":\"scatter\"}],\"scatterternary\":[{\"marker\":{\"colorbar\":{\"outlinewidth\":0,\"ticks\":\"\"}},\"type\":\"scatterternary\"}],\"surface\":[{\"colorbar\":{\"outlinewidth\":0,\"ticks\":\"\"},\"colorscale\":[[0.0,\"#0d0887\"],[0.1111111111111111,\"#46039f\"],[0.2222222222222222,\"#7201a8\"],[0.3333333333333333,\"#9c179e\"],[0.4444444444444444,\"#bd3786\"],[0.5555555555555556,\"#d8576b\"],[0.6666666666666666,\"#ed7953\"],[0.7777777777777778,\"#fb9f3a\"],[0.8888888888888888,\"#fdca26\"],[1.0,\"#f0f921\"]],\"type\":\"surface\"}],\"table\":[{\"cells\":{\"fill\":{\"color\":\"#EBF0F8\"},\"line\":{\"color\":\"white\"}},\"header\":{\"fill\":{\"color\":\"#C8D4E3\"},\"line\":{\"color\":\"white\"}},\"type\":\"table\"}]},\"layout\":{\"annotationdefaults\":{\"arrowcolor\":\"#2a3f5f\",\"arrowhead\":0,\"arrowwidth\":1},\"autotypenumbers\":\"strict\",\"coloraxis\":{\"colorbar\":{\"outlinewidth\":0,\"ticks\":\"\"}},\"colorscale\":{\"diverging\":[[0,\"#8e0152\"],[0.1,\"#c51b7d\"],[0.2,\"#de77ae\"],[0.3,\"#f1b6da\"],[0.4,\"#fde0ef\"],[0.5,\"#f7f7f7\"],[0.6,\"#e6f5d0\"],[0.7,\"#b8e186\"],[0.8,\"#7fbc41\"],[0.9,\"#4d9221\"],[1,\"#276419\"]],\"sequential\":[[0.0,\"#0d0887\"],[0.1111111111111111,\"#46039f\"],[0.2222222222222222,\"#7201a8\"],[0.3333333333333333,\"#9c179e\"],[0.4444444444444444,\"#bd3786\"],[0.5555555555555556,\"#d8576b\"],[0.6666666666666666,\"#ed7953\"],[0.7777777777777778,\"#fb9f3a\"],[0.8888888888888888,\"#fdca26\"],[1.0,\"#f0f921\"]],\"sequentialminus\":[[0.0,\"#0d0887\"],[0.1111111111111111,\"#46039f\"],[0.2222222222222222,\"#7201a8\"],[0.3333333333333333,\"#9c179e\"],[0.4444444444444444,\"#bd3786\"],[0.5555555555555556,\"#d8576b\"],[0.6666666666666666,\"#ed7953\"],[0.7777777777777778,\"#fb9f3a\"],[0.8888888888888888,\"#fdca26\"],[1.0,\"#f0f921\"]]},\"colorway\":[\"#636efa\",\"#EF553B\",\"#00cc96\",\"#ab63fa\",\"#FFA15A\",\"#19d3f3\",\"#FF6692\",\"#B6E880\",\"#FF97FF\",\"#FECB52\"],\"font\":{\"color\":\"#2a3f5f\"},\"geo\":{\"bgcolor\":\"white\",\"lakecolor\":\"white\",\"landcolor\":\"#E5ECF6\",\"showlakes\":true,\"showland\":true,\"subunitcolor\":\"white\"},\"hoverlabel\":{\"align\":\"left\"},\"hovermode\":\"closest\",\"mapbox\":{\"style\":\"light\"},\"paper_bgcolor\":\"white\",\"plot_bgcolor\":\"#E5ECF6\",\"polar\":{\"angularaxis\":{\"gridcolor\":\"white\",\"linecolor\":\"white\",\"ticks\":\"\"},\"bgcolor\":\"#E5ECF6\",\"radialaxis\":{\"gridcolor\":\"white\",\"linecolor\":\"white\",\"ticks\":\"\"}},\"scene\":{\"xaxis\":{\"backgroundcolor\":\"#E5ECF6\",\"gridcolor\":\"white\",\"gridwidth\":2,\"linecolor\":\"white\",\"showbackground\":true,\"ticks\":\"\",\"zerolinecolor\":\"white\"},\"yaxis\":{\"backgroundcolor\":\"#E5ECF6\",\"gridcolor\":\"white\",\"gridwidth\":2,\"linecolor\":\"white\",\"showbackground\":true,\"ticks\":\"\",\"zerolinecolor\":\"white\"},\"zaxis\":{\"backgroundcolor\":\"#E5ECF6\",\"gridcolor\":\"white\",\"gridwidth\":2,\"linecolor\":\"white\",\"showbackground\":true,\"ticks\":\"\",\"zerolinecolor\":\"white\"}},\"shapedefaults\":{\"line\":{\"color\":\"#2a3f5f\"}},\"ternary\":{\"aaxis\":{\"gridcolor\":\"white\",\"linecolor\":\"white\",\"ticks\":\"\"},\"baxis\":{\"gridcolor\":\"white\",\"linecolor\":\"white\",\"ticks\":\"\"},\"bgcolor\":\"#E5ECF6\",\"caxis\":{\"gridcolor\":\"white\",\"linecolor\":\"white\",\"ticks\":\"\"}},\"title\":{\"x\":0.05},\"xaxis\":{\"automargin\":true,\"gridcolor\":\"white\",\"linecolor\":\"white\",\"ticks\":\"\",\"title\":{\"standoff\":15},\"zerolinecolor\":\"white\",\"zerolinewidth\":2},\"yaxis\":{\"automargin\":true,\"gridcolor\":\"white\",\"linecolor\":\"white\",\"ticks\":\"\",\"title\":{\"standoff\":15},\"zerolinecolor\":\"white\",\"zerolinewidth\":2}}},\"title\":{\"font\":{\"color\":\"#4D5663\"}},\"xaxis\":{\"gridcolor\":\"#E1E5ED\",\"showgrid\":true,\"tickfont\":{\"color\":\"#4D5663\"},\"title\":{\"font\":{\"color\":\"#4D5663\"},\"text\":\"\"},\"zerolinecolor\":\"#E1E5ED\"},\"yaxis\":{\"gridcolor\":\"#E1E5ED\",\"showgrid\":true,\"tickfont\":{\"color\":\"#4D5663\"},\"title\":{\"font\":{\"color\":\"#4D5663\"},\"text\":\"\"},\"zerolinecolor\":\"#E1E5ED\"}},                        {\"showLink\": true, \"linkText\": \"Export to plot.ly\", \"plotlyServerURL\": \"https://plot.ly\", \"responsive\": true}                    ).then(function(){\n",
       "                            \n",
       "var gd = document.getElementById('c7544689-d97f-4f37-99af-5bb0bdb2e326');\n",
       "var x = new MutationObserver(function (mutations, observer) {{\n",
       "        var display = window.getComputedStyle(gd).display;\n",
       "        if (!display || display === 'none') {{\n",
       "            console.log([gd, 'removed!']);\n",
       "            Plotly.purge(gd);\n",
       "            observer.disconnect();\n",
       "        }}\n",
       "}});\n",
       "\n",
       "// Listen for the removal of the full notebook cells\n",
       "var notebookContainer = gd.closest('#notebook-container');\n",
       "if (notebookContainer) {{\n",
       "    x.observe(notebookContainer, {childList: true});\n",
       "}}\n",
       "\n",
       "// Listen for the clearing of the current output cell\n",
       "var outputEl = gd.closest('.output');\n",
       "if (outputEl) {{\n",
       "    x.observe(outputEl, {childList: true});\n",
       "}}\n",
       "\n",
       "                        })                };                });            </script>        </div>"
      ]
     },
     "metadata": {},
     "output_type": "display_data"
    }
   ],
   "source": [
    "df['A'].iplot(kind='hist',bins=25)"
   ]
  },
  {
   "cell_type": "code",
   "execution_count": 17,
   "metadata": {},
   "outputs": [
    {
     "data": {
      "application/vnd.plotly.v1+json": {
       "config": {
        "linkText": "Export to plot.ly",
        "plotlyServerURL": "https://plot.ly",
        "showLink": true
       },
       "data": [
        {
         "marker": {
          "color": [
           "rgb(255, 153, 51)",
           "rgb(55, 128, 191)",
           "rgb(50, 171, 96)",
           "rgb(128, 0, 128)",
           "rgb(219, 64, 82)",
           "rgb(0, 128, 128)",
           "rgb(255, 255, 51)",
           "rgb(128, 128, 0)",
           "rgb(251, 128, 114)",
           "rgb(128, 177, 211)"
          ],
          "line": {
           "width": 1.3
          },
          "size": [
           64,
           93,
           63,
           82,
           47,
           51,
           78,
           77,
           109,
           91,
           66,
           108,
           86,
           96,
           103,
           74,
           77,
           50,
           84,
           89,
           56,
           98,
           92,
           101,
           62,
           98,
           87,
           84,
           110,
           69,
           79,
           69,
           94,
           84,
           81,
           96,
           74,
           63,
           112,
           72,
           107,
           84,
           35,
           71,
           69,
           72,
           81,
           83,
           88,
           88,
           94,
           73,
           65,
           80,
           53,
           41,
           52,
           91,
           87,
           71,
           77,
           103,
           83,
           72,
           84,
           62,
           62,
           85,
           80,
           81,
           92,
           69,
           58,
           102,
           85,
           41,
           60,
           80,
           76,
           87,
           79,
           73,
           84,
           93,
           99,
           70,
           68,
           89,
           89,
           90,
           70,
           77,
           67,
           59,
           59,
           108,
           54,
           12,
           73,
           41
          ],
          "symbol": "circle"
         },
         "mode": "markers",
         "text": "",
         "type": "scatter",
         "x": [
          -0.8805112749273397,
          1.4546803047490493,
          0.45853165741418406,
          -0.3005759439371258,
          0.9424598261557191,
          0.19201853912783895,
          0.128732384353252,
          -1.1246631977459849,
          1.004559436801384,
          -0.019433001305279293,
          0.8743710434087673,
          1.266547392168914,
          -0.013290881499199495,
          1.2146231112105121,
          0.9026519074182962,
          -0.25852503161661794,
          0.06350722196103391,
          0.061319066665640985,
          0.6826923694271695,
          0.6571582828505825,
          -0.6394539760429969,
          -0.3873354829211536,
          -1.275992785163112,
          -0.9049553682456588,
          0.39140151388641575,
          -1.3261717503652508,
          -0.11176379848313447,
          0.12996215884278603,
          -0.4992525292514862,
          -0.3757696877819027,
          1.8950234573743023,
          -1.9806901072377638,
          -0.23372785694788464,
          -0.8724008970677714,
          -0.34295179012678584,
          0.5427956937168907,
          1.1566492382180327,
          1.3326192990291548,
          -3.338998968955712,
          -1.1091125681635465,
          -1.3795235178695933,
          -1.1995158314131806,
          1.8271736655576276,
          -1.6994936600219739,
          -1.6145550438467797,
          0.9643249901269011,
          0.18191869225186177,
          1.067698235546503,
          -2.1762174829824414,
          0.6125575233486188,
          0.36338752339594443,
          0.30630912374155744,
          0.10269690778525375,
          -0.23617787136845161,
          0.29204680294836505,
          -1.532545565777484,
          0.8019566260245036,
          0.008843763923224425,
          -0.42653027037276425,
          0.28462913192626726,
          0.33580872462837,
          0.09094416649994692,
          -2.105854750180177,
          -2.423062150710898,
          -0.6026419962151889,
          0.4283091936814125,
          -1.178494121002894,
          -0.5400337459898417,
          0.9880569653816528,
          -1.1816843048036256,
          0.08603326565887974,
          1.7909142535972238,
          1.2309346264188081,
          -1.8196369817643112,
          -0.42081030328553204,
          -1.5186485358520676,
          -0.35265366574837465,
          -0.045581613031547445,
          -0.20430067627555923,
          0.5409643956030542,
          -0.41286664820958746,
          0.3410783944367214,
          -0.05382582690926376,
          -1.7286105233045104,
          -3.3274176052282987,
          -0.31580923857082854,
          -0.0022477885108969434,
          -0.7399373198141854,
          -1.0496008215922419,
          -0.018198058774143547,
          0.009171190217878636,
          -0.4359682580386698,
          -1.004700100123502,
          -1.1230110350456142,
          2.1312832353333366,
          2.1284473689005625,
          0.7196357631601891,
          0.35387350270156964,
          -0.7575764541103952,
          0.05885429630124914
         ],
         "y": [
          -0.040620682752938356,
          0.6425512540068671,
          0.14954889475613145,
          0.49045887473164235,
          -0.5827195860487148,
          -0.13496047818515644,
          -0.9893694661713424,
          0.07739330554695359,
          1.2774594950431841,
          0.9051893198035333,
          0.43346916701428506,
          -0.8306833793111323,
          -1.3092321307066412,
          1.4813037309002575,
          -0.34839072009165795,
          -2.5934705048348343,
          1.2081323105876758,
          -0.09907281821256546,
          0.9136907908933014,
          -0.12432182626363361,
          0.925676795487707,
          -0.09977335171951576,
          1.4892365866941903,
          -0.8429186160540141,
          -0.3025715984088873,
          0.2679478968963423,
          0.56905456426694,
          0.2941970762016016,
          1.3056771575832564,
          -1.7443669852439025,
          -0.28515992298943627,
          -0.5145847265601052,
          0.035708484457847633,
          1.627107409135958,
          0.5335426874062241,
          -1.3189437705400466,
          0.02713630906105749,
          -0.038583607971776374,
          -0.5859905137239353,
          -1.2177623765108856,
          0.4515652168570346,
          -0.965931380122257,
          0.23111129390548757,
          0.3898620573440986,
          0.07476211856250009,
          0.32798815670390036,
          -0.9908999331121211,
          -0.3651869892093611,
          -0.007334796306520177,
          0.6839228452193726,
          2.1371650254650323,
          0.6489511031859807,
          -0.0012767696323471123,
          0.278889171030196,
          -0.33165140572707336,
          -0.5680326867475078,
          -0.5415757221815488,
          -0.7935480405004463,
          2.0211246678010775,
          -0.8997668043881036,
          0.3324242707696821,
          0.026734950348676796,
          1.1922255118347185,
          -0.7697899008768124,
          0.44790487649560123,
          0.0939673325457032,
          2.1821417801637426,
          0.774139202896262,
          0.517067398756495,
          0.11010871823609361,
          -0.16470198410872866,
          0.49069038348064636,
          1.4607640667920616,
          0.20981002442152016,
          0.6103777309682441,
          -1.26145508089656,
          -0.13052525017463731,
          0.6092958179619178,
          2.016326021795919,
          1.1692372030554616,
          -0.7226676608429432,
          0.6311301714091945,
          0.27447197998064354,
          -0.22685920767083032,
          -0.3324216234957669,
          0.32721386514126644,
          0.33811135832490846,
          0.10292645064304927,
          1.0746877746327905,
          -0.6545233505727898,
          0.18354641835424212,
          0.18527408763830389,
          -0.38314438999148615,
          -0.6569472338029486,
          0.06183474638568763,
          1.5813137036549005,
          1.5835367596453647,
          1.4283287411040775,
          -2.0300800263880037,
          1.5790161429256748
         ]
        }
       ],
       "layout": {
        "legend": {
         "bgcolor": "#F5F6F9",
         "font": {
          "color": "#4D5663"
         }
        },
        "paper_bgcolor": "#F5F6F9",
        "plot_bgcolor": "#F5F6F9",
        "template": {
         "data": {
          "bar": [
           {
            "error_x": {
             "color": "#2a3f5f"
            },
            "error_y": {
             "color": "#2a3f5f"
            },
            "marker": {
             "line": {
              "color": "#E5ECF6",
              "width": 0.5
             },
             "pattern": {
              "fillmode": "overlay",
              "size": 10,
              "solidity": 0.2
             }
            },
            "type": "bar"
           }
          ],
          "barpolar": [
           {
            "marker": {
             "line": {
              "color": "#E5ECF6",
              "width": 0.5
             },
             "pattern": {
              "fillmode": "overlay",
              "size": 10,
              "solidity": 0.2
             }
            },
            "type": "barpolar"
           }
          ],
          "carpet": [
           {
            "aaxis": {
             "endlinecolor": "#2a3f5f",
             "gridcolor": "white",
             "linecolor": "white",
             "minorgridcolor": "white",
             "startlinecolor": "#2a3f5f"
            },
            "baxis": {
             "endlinecolor": "#2a3f5f",
             "gridcolor": "white",
             "linecolor": "white",
             "minorgridcolor": "white",
             "startlinecolor": "#2a3f5f"
            },
            "type": "carpet"
           }
          ],
          "choropleth": [
           {
            "colorbar": {
             "outlinewidth": 0,
             "ticks": ""
            },
            "type": "choropleth"
           }
          ],
          "contour": [
           {
            "colorbar": {
             "outlinewidth": 0,
             "ticks": ""
            },
            "colorscale": [
             [
              0,
              "#0d0887"
             ],
             [
              0.1111111111111111,
              "#46039f"
             ],
             [
              0.2222222222222222,
              "#7201a8"
             ],
             [
              0.3333333333333333,
              "#9c179e"
             ],
             [
              0.4444444444444444,
              "#bd3786"
             ],
             [
              0.5555555555555556,
              "#d8576b"
             ],
             [
              0.6666666666666666,
              "#ed7953"
             ],
             [
              0.7777777777777778,
              "#fb9f3a"
             ],
             [
              0.8888888888888888,
              "#fdca26"
             ],
             [
              1,
              "#f0f921"
             ]
            ],
            "type": "contour"
           }
          ],
          "contourcarpet": [
           {
            "colorbar": {
             "outlinewidth": 0,
             "ticks": ""
            },
            "type": "contourcarpet"
           }
          ],
          "heatmap": [
           {
            "colorbar": {
             "outlinewidth": 0,
             "ticks": ""
            },
            "colorscale": [
             [
              0,
              "#0d0887"
             ],
             [
              0.1111111111111111,
              "#46039f"
             ],
             [
              0.2222222222222222,
              "#7201a8"
             ],
             [
              0.3333333333333333,
              "#9c179e"
             ],
             [
              0.4444444444444444,
              "#bd3786"
             ],
             [
              0.5555555555555556,
              "#d8576b"
             ],
             [
              0.6666666666666666,
              "#ed7953"
             ],
             [
              0.7777777777777778,
              "#fb9f3a"
             ],
             [
              0.8888888888888888,
              "#fdca26"
             ],
             [
              1,
              "#f0f921"
             ]
            ],
            "type": "heatmap"
           }
          ],
          "heatmapgl": [
           {
            "colorbar": {
             "outlinewidth": 0,
             "ticks": ""
            },
            "colorscale": [
             [
              0,
              "#0d0887"
             ],
             [
              0.1111111111111111,
              "#46039f"
             ],
             [
              0.2222222222222222,
              "#7201a8"
             ],
             [
              0.3333333333333333,
              "#9c179e"
             ],
             [
              0.4444444444444444,
              "#bd3786"
             ],
             [
              0.5555555555555556,
              "#d8576b"
             ],
             [
              0.6666666666666666,
              "#ed7953"
             ],
             [
              0.7777777777777778,
              "#fb9f3a"
             ],
             [
              0.8888888888888888,
              "#fdca26"
             ],
             [
              1,
              "#f0f921"
             ]
            ],
            "type": "heatmapgl"
           }
          ],
          "histogram": [
           {
            "marker": {
             "pattern": {
              "fillmode": "overlay",
              "size": 10,
              "solidity": 0.2
             }
            },
            "type": "histogram"
           }
          ],
          "histogram2d": [
           {
            "colorbar": {
             "outlinewidth": 0,
             "ticks": ""
            },
            "colorscale": [
             [
              0,
              "#0d0887"
             ],
             [
              0.1111111111111111,
              "#46039f"
             ],
             [
              0.2222222222222222,
              "#7201a8"
             ],
             [
              0.3333333333333333,
              "#9c179e"
             ],
             [
              0.4444444444444444,
              "#bd3786"
             ],
             [
              0.5555555555555556,
              "#d8576b"
             ],
             [
              0.6666666666666666,
              "#ed7953"
             ],
             [
              0.7777777777777778,
              "#fb9f3a"
             ],
             [
              0.8888888888888888,
              "#fdca26"
             ],
             [
              1,
              "#f0f921"
             ]
            ],
            "type": "histogram2d"
           }
          ],
          "histogram2dcontour": [
           {
            "colorbar": {
             "outlinewidth": 0,
             "ticks": ""
            },
            "colorscale": [
             [
              0,
              "#0d0887"
             ],
             [
              0.1111111111111111,
              "#46039f"
             ],
             [
              0.2222222222222222,
              "#7201a8"
             ],
             [
              0.3333333333333333,
              "#9c179e"
             ],
             [
              0.4444444444444444,
              "#bd3786"
             ],
             [
              0.5555555555555556,
              "#d8576b"
             ],
             [
              0.6666666666666666,
              "#ed7953"
             ],
             [
              0.7777777777777778,
              "#fb9f3a"
             ],
             [
              0.8888888888888888,
              "#fdca26"
             ],
             [
              1,
              "#f0f921"
             ]
            ],
            "type": "histogram2dcontour"
           }
          ],
          "mesh3d": [
           {
            "colorbar": {
             "outlinewidth": 0,
             "ticks": ""
            },
            "type": "mesh3d"
           }
          ],
          "parcoords": [
           {
            "line": {
             "colorbar": {
              "outlinewidth": 0,
              "ticks": ""
             }
            },
            "type": "parcoords"
           }
          ],
          "pie": [
           {
            "automargin": true,
            "type": "pie"
           }
          ],
          "scatter": [
           {
            "fillpattern": {
             "fillmode": "overlay",
             "size": 10,
             "solidity": 0.2
            },
            "type": "scatter"
           }
          ],
          "scatter3d": [
           {
            "line": {
             "colorbar": {
              "outlinewidth": 0,
              "ticks": ""
             }
            },
            "marker": {
             "colorbar": {
              "outlinewidth": 0,
              "ticks": ""
             }
            },
            "type": "scatter3d"
           }
          ],
          "scattercarpet": [
           {
            "marker": {
             "colorbar": {
              "outlinewidth": 0,
              "ticks": ""
             }
            },
            "type": "scattercarpet"
           }
          ],
          "scattergeo": [
           {
            "marker": {
             "colorbar": {
              "outlinewidth": 0,
              "ticks": ""
             }
            },
            "type": "scattergeo"
           }
          ],
          "scattergl": [
           {
            "marker": {
             "colorbar": {
              "outlinewidth": 0,
              "ticks": ""
             }
            },
            "type": "scattergl"
           }
          ],
          "scattermapbox": [
           {
            "marker": {
             "colorbar": {
              "outlinewidth": 0,
              "ticks": ""
             }
            },
            "type": "scattermapbox"
           }
          ],
          "scatterpolar": [
           {
            "marker": {
             "colorbar": {
              "outlinewidth": 0,
              "ticks": ""
             }
            },
            "type": "scatterpolar"
           }
          ],
          "scatterpolargl": [
           {
            "marker": {
             "colorbar": {
              "outlinewidth": 0,
              "ticks": ""
             }
            },
            "type": "scatterpolargl"
           }
          ],
          "scatterternary": [
           {
            "marker": {
             "colorbar": {
              "outlinewidth": 0,
              "ticks": ""
             }
            },
            "type": "scatterternary"
           }
          ],
          "surface": [
           {
            "colorbar": {
             "outlinewidth": 0,
             "ticks": ""
            },
            "colorscale": [
             [
              0,
              "#0d0887"
             ],
             [
              0.1111111111111111,
              "#46039f"
             ],
             [
              0.2222222222222222,
              "#7201a8"
             ],
             [
              0.3333333333333333,
              "#9c179e"
             ],
             [
              0.4444444444444444,
              "#bd3786"
             ],
             [
              0.5555555555555556,
              "#d8576b"
             ],
             [
              0.6666666666666666,
              "#ed7953"
             ],
             [
              0.7777777777777778,
              "#fb9f3a"
             ],
             [
              0.8888888888888888,
              "#fdca26"
             ],
             [
              1,
              "#f0f921"
             ]
            ],
            "type": "surface"
           }
          ],
          "table": [
           {
            "cells": {
             "fill": {
              "color": "#EBF0F8"
             },
             "line": {
              "color": "white"
             }
            },
            "header": {
             "fill": {
              "color": "#C8D4E3"
             },
             "line": {
              "color": "white"
             }
            },
            "type": "table"
           }
          ]
         },
         "layout": {
          "annotationdefaults": {
           "arrowcolor": "#2a3f5f",
           "arrowhead": 0,
           "arrowwidth": 1
          },
          "autotypenumbers": "strict",
          "coloraxis": {
           "colorbar": {
            "outlinewidth": 0,
            "ticks": ""
           }
          },
          "colorscale": {
           "diverging": [
            [
             0,
             "#8e0152"
            ],
            [
             0.1,
             "#c51b7d"
            ],
            [
             0.2,
             "#de77ae"
            ],
            [
             0.3,
             "#f1b6da"
            ],
            [
             0.4,
             "#fde0ef"
            ],
            [
             0.5,
             "#f7f7f7"
            ],
            [
             0.6,
             "#e6f5d0"
            ],
            [
             0.7,
             "#b8e186"
            ],
            [
             0.8,
             "#7fbc41"
            ],
            [
             0.9,
             "#4d9221"
            ],
            [
             1,
             "#276419"
            ]
           ],
           "sequential": [
            [
             0,
             "#0d0887"
            ],
            [
             0.1111111111111111,
             "#46039f"
            ],
            [
             0.2222222222222222,
             "#7201a8"
            ],
            [
             0.3333333333333333,
             "#9c179e"
            ],
            [
             0.4444444444444444,
             "#bd3786"
            ],
            [
             0.5555555555555556,
             "#d8576b"
            ],
            [
             0.6666666666666666,
             "#ed7953"
            ],
            [
             0.7777777777777778,
             "#fb9f3a"
            ],
            [
             0.8888888888888888,
             "#fdca26"
            ],
            [
             1,
             "#f0f921"
            ]
           ],
           "sequentialminus": [
            [
             0,
             "#0d0887"
            ],
            [
             0.1111111111111111,
             "#46039f"
            ],
            [
             0.2222222222222222,
             "#7201a8"
            ],
            [
             0.3333333333333333,
             "#9c179e"
            ],
            [
             0.4444444444444444,
             "#bd3786"
            ],
            [
             0.5555555555555556,
             "#d8576b"
            ],
            [
             0.6666666666666666,
             "#ed7953"
            ],
            [
             0.7777777777777778,
             "#fb9f3a"
            ],
            [
             0.8888888888888888,
             "#fdca26"
            ],
            [
             1,
             "#f0f921"
            ]
           ]
          },
          "colorway": [
           "#636efa",
           "#EF553B",
           "#00cc96",
           "#ab63fa",
           "#FFA15A",
           "#19d3f3",
           "#FF6692",
           "#B6E880",
           "#FF97FF",
           "#FECB52"
          ],
          "font": {
           "color": "#2a3f5f"
          },
          "geo": {
           "bgcolor": "white",
           "lakecolor": "white",
           "landcolor": "#E5ECF6",
           "showlakes": true,
           "showland": true,
           "subunitcolor": "white"
          },
          "hoverlabel": {
           "align": "left"
          },
          "hovermode": "closest",
          "mapbox": {
           "style": "light"
          },
          "paper_bgcolor": "white",
          "plot_bgcolor": "#E5ECF6",
          "polar": {
           "angularaxis": {
            "gridcolor": "white",
            "linecolor": "white",
            "ticks": ""
           },
           "bgcolor": "#E5ECF6",
           "radialaxis": {
            "gridcolor": "white",
            "linecolor": "white",
            "ticks": ""
           }
          },
          "scene": {
           "xaxis": {
            "backgroundcolor": "#E5ECF6",
            "gridcolor": "white",
            "gridwidth": 2,
            "linecolor": "white",
            "showbackground": true,
            "ticks": "",
            "zerolinecolor": "white"
           },
           "yaxis": {
            "backgroundcolor": "#E5ECF6",
            "gridcolor": "white",
            "gridwidth": 2,
            "linecolor": "white",
            "showbackground": true,
            "ticks": "",
            "zerolinecolor": "white"
           },
           "zaxis": {
            "backgroundcolor": "#E5ECF6",
            "gridcolor": "white",
            "gridwidth": 2,
            "linecolor": "white",
            "showbackground": true,
            "ticks": "",
            "zerolinecolor": "white"
           }
          },
          "shapedefaults": {
           "line": {
            "color": "#2a3f5f"
           }
          },
          "ternary": {
           "aaxis": {
            "gridcolor": "white",
            "linecolor": "white",
            "ticks": ""
           },
           "baxis": {
            "gridcolor": "white",
            "linecolor": "white",
            "ticks": ""
           },
           "bgcolor": "#E5ECF6",
           "caxis": {
            "gridcolor": "white",
            "linecolor": "white",
            "ticks": ""
           }
          },
          "title": {
           "x": 0.05
          },
          "xaxis": {
           "automargin": true,
           "gridcolor": "white",
           "linecolor": "white",
           "ticks": "",
           "title": {
            "standoff": 15
           },
           "zerolinecolor": "white",
           "zerolinewidth": 2
          },
          "yaxis": {
           "automargin": true,
           "gridcolor": "white",
           "linecolor": "white",
           "ticks": "",
           "title": {
            "standoff": 15
           },
           "zerolinecolor": "white",
           "zerolinewidth": 2
          }
         }
        },
        "title": {
         "font": {
          "color": "#4D5663"
         }
        },
        "xaxis": {
         "gridcolor": "#E1E5ED",
         "showgrid": true,
         "tickfont": {
          "color": "#4D5663"
         },
         "title": {
          "font": {
           "color": "#4D5663"
          },
          "text": ""
         },
         "zerolinecolor": "#E1E5ED"
        },
        "yaxis": {
         "gridcolor": "#E1E5ED",
         "showgrid": true,
         "tickfont": {
          "color": "#4D5663"
         },
         "title": {
          "font": {
           "color": "#4D5663"
          },
          "text": ""
         },
         "zerolinecolor": "#E1E5ED"
        }
       }
      },
      "text/html": [
       "<div>                            <div id=\"777dcd64-0d7b-4939-bd0d-75690b6ca367\" class=\"plotly-graph-div\" style=\"height:525px; width:100%;\"></div>            <script type=\"text/javascript\">                require([\"plotly\"], function(Plotly) {                    window.PLOTLYENV=window.PLOTLYENV || {};\n",
       "                    window.PLOTLYENV.BASE_URL='https://plot.ly';                                    if (document.getElementById(\"777dcd64-0d7b-4939-bd0d-75690b6ca367\")) {                    Plotly.newPlot(                        \"777dcd64-0d7b-4939-bd0d-75690b6ca367\",                        [{\"marker\":{\"color\":[\"rgb(255, 153, 51)\",\"rgb(55, 128, 191)\",\"rgb(50, 171, 96)\",\"rgb(128, 0, 128)\",\"rgb(219, 64, 82)\",\"rgb(0, 128, 128)\",\"rgb(255, 255, 51)\",\"rgb(128, 128, 0)\",\"rgb(251, 128, 114)\",\"rgb(128, 177, 211)\"],\"line\":{\"width\":1.3},\"size\":[64,93,63,82,47,51,78,77,109,91,66,108,86,96,103,74,77,50,84,89,56,98,92,101,62,98,87,84,110,69,79,69,94,84,81,96,74,63,112,72,107,84,35,71,69,72,81,83,88,88,94,73,65,80,53,41,52,91,87,71,77,103,83,72,84,62,62,85,80,81,92,69,58,102,85,41,60,80,76,87,79,73,84,93,99,70,68,89,89,90,70,77,67,59,59,108,54,12,73,41],\"symbol\":\"circle\"},\"mode\":\"markers\",\"text\":\"\",\"x\":[-0.8805112749273397,1.4546803047490493,0.45853165741418406,-0.3005759439371258,0.9424598261557191,0.19201853912783895,0.128732384353252,-1.1246631977459849,1.004559436801384,-0.019433001305279293,0.8743710434087673,1.266547392168914,-0.013290881499199495,1.2146231112105121,0.9026519074182962,-0.25852503161661794,0.06350722196103391,0.061319066665640985,0.6826923694271695,0.6571582828505825,-0.6394539760429969,-0.3873354829211536,-1.275992785163112,-0.9049553682456588,0.39140151388641575,-1.3261717503652508,-0.11176379848313447,0.12996215884278603,-0.4992525292514862,-0.3757696877819027,1.8950234573743023,-1.9806901072377638,-0.23372785694788464,-0.8724008970677714,-0.34295179012678584,0.5427956937168907,1.1566492382180327,1.3326192990291548,-3.338998968955712,-1.1091125681635465,-1.3795235178695933,-1.1995158314131806,1.8271736655576276,-1.6994936600219739,-1.6145550438467797,0.9643249901269011,0.18191869225186177,1.067698235546503,-2.1762174829824414,0.6125575233486188,0.36338752339594443,0.30630912374155744,0.10269690778525375,-0.23617787136845161,0.29204680294836505,-1.532545565777484,0.8019566260245036,0.008843763923224425,-0.42653027037276425,0.28462913192626726,0.33580872462837,0.09094416649994692,-2.105854750180177,-2.423062150710898,-0.6026419962151889,0.4283091936814125,-1.178494121002894,-0.5400337459898417,0.9880569653816528,-1.1816843048036256,0.08603326565887974,1.7909142535972238,1.2309346264188081,-1.8196369817643112,-0.42081030328553204,-1.5186485358520676,-0.35265366574837465,-0.045581613031547445,-0.20430067627555923,0.5409643956030542,-0.41286664820958746,0.3410783944367214,-0.05382582690926376,-1.7286105233045104,-3.3274176052282987,-0.31580923857082854,-0.0022477885108969434,-0.7399373198141854,-1.0496008215922419,-0.018198058774143547,0.009171190217878636,-0.4359682580386698,-1.004700100123502,-1.1230110350456142,2.1312832353333366,2.1284473689005625,0.7196357631601891,0.35387350270156964,-0.7575764541103952,0.05885429630124914],\"y\":[-0.040620682752938356,0.6425512540068671,0.14954889475613145,0.49045887473164235,-0.5827195860487148,-0.13496047818515644,-0.9893694661713424,0.07739330554695359,1.2774594950431841,0.9051893198035333,0.43346916701428506,-0.8306833793111323,-1.3092321307066412,1.4813037309002575,-0.34839072009165795,-2.5934705048348343,1.2081323105876758,-0.09907281821256546,0.9136907908933014,-0.12432182626363361,0.925676795487707,-0.09977335171951576,1.4892365866941903,-0.8429186160540141,-0.3025715984088873,0.2679478968963423,0.56905456426694,0.2941970762016016,1.3056771575832564,-1.7443669852439025,-0.28515992298943627,-0.5145847265601052,0.035708484457847633,1.627107409135958,0.5335426874062241,-1.3189437705400466,0.02713630906105749,-0.038583607971776374,-0.5859905137239353,-1.2177623765108856,0.4515652168570346,-0.965931380122257,0.23111129390548757,0.3898620573440986,0.07476211856250009,0.32798815670390036,-0.9908999331121211,-0.3651869892093611,-0.007334796306520177,0.6839228452193726,2.1371650254650323,0.6489511031859807,-0.0012767696323471123,0.278889171030196,-0.33165140572707336,-0.5680326867475078,-0.5415757221815488,-0.7935480405004463,2.0211246678010775,-0.8997668043881036,0.3324242707696821,0.026734950348676796,1.1922255118347185,-0.7697899008768124,0.44790487649560123,0.0939673325457032,2.1821417801637426,0.774139202896262,0.517067398756495,0.11010871823609361,-0.16470198410872866,0.49069038348064636,1.4607640667920616,0.20981002442152016,0.6103777309682441,-1.26145508089656,-0.13052525017463731,0.6092958179619178,2.016326021795919,1.1692372030554616,-0.7226676608429432,0.6311301714091945,0.27447197998064354,-0.22685920767083032,-0.3324216234957669,0.32721386514126644,0.33811135832490846,0.10292645064304927,1.0746877746327905,-0.6545233505727898,0.18354641835424212,0.18527408763830389,-0.38314438999148615,-0.6569472338029486,0.06183474638568763,1.5813137036549005,1.5835367596453647,1.4283287411040775,-2.0300800263880037,1.5790161429256748],\"type\":\"scatter\"}],                        {\"legend\":{\"bgcolor\":\"#F5F6F9\",\"font\":{\"color\":\"#4D5663\"}},\"paper_bgcolor\":\"#F5F6F9\",\"plot_bgcolor\":\"#F5F6F9\",\"template\":{\"data\":{\"barpolar\":[{\"marker\":{\"line\":{\"color\":\"#E5ECF6\",\"width\":0.5},\"pattern\":{\"fillmode\":\"overlay\",\"size\":10,\"solidity\":0.2}},\"type\":\"barpolar\"}],\"bar\":[{\"error_x\":{\"color\":\"#2a3f5f\"},\"error_y\":{\"color\":\"#2a3f5f\"},\"marker\":{\"line\":{\"color\":\"#E5ECF6\",\"width\":0.5},\"pattern\":{\"fillmode\":\"overlay\",\"size\":10,\"solidity\":0.2}},\"type\":\"bar\"}],\"carpet\":[{\"aaxis\":{\"endlinecolor\":\"#2a3f5f\",\"gridcolor\":\"white\",\"linecolor\":\"white\",\"minorgridcolor\":\"white\",\"startlinecolor\":\"#2a3f5f\"},\"baxis\":{\"endlinecolor\":\"#2a3f5f\",\"gridcolor\":\"white\",\"linecolor\":\"white\",\"minorgridcolor\":\"white\",\"startlinecolor\":\"#2a3f5f\"},\"type\":\"carpet\"}],\"choropleth\":[{\"colorbar\":{\"outlinewidth\":0,\"ticks\":\"\"},\"type\":\"choropleth\"}],\"contourcarpet\":[{\"colorbar\":{\"outlinewidth\":0,\"ticks\":\"\"},\"type\":\"contourcarpet\"}],\"contour\":[{\"colorbar\":{\"outlinewidth\":0,\"ticks\":\"\"},\"colorscale\":[[0.0,\"#0d0887\"],[0.1111111111111111,\"#46039f\"],[0.2222222222222222,\"#7201a8\"],[0.3333333333333333,\"#9c179e\"],[0.4444444444444444,\"#bd3786\"],[0.5555555555555556,\"#d8576b\"],[0.6666666666666666,\"#ed7953\"],[0.7777777777777778,\"#fb9f3a\"],[0.8888888888888888,\"#fdca26\"],[1.0,\"#f0f921\"]],\"type\":\"contour\"}],\"heatmapgl\":[{\"colorbar\":{\"outlinewidth\":0,\"ticks\":\"\"},\"colorscale\":[[0.0,\"#0d0887\"],[0.1111111111111111,\"#46039f\"],[0.2222222222222222,\"#7201a8\"],[0.3333333333333333,\"#9c179e\"],[0.4444444444444444,\"#bd3786\"],[0.5555555555555556,\"#d8576b\"],[0.6666666666666666,\"#ed7953\"],[0.7777777777777778,\"#fb9f3a\"],[0.8888888888888888,\"#fdca26\"],[1.0,\"#f0f921\"]],\"type\":\"heatmapgl\"}],\"heatmap\":[{\"colorbar\":{\"outlinewidth\":0,\"ticks\":\"\"},\"colorscale\":[[0.0,\"#0d0887\"],[0.1111111111111111,\"#46039f\"],[0.2222222222222222,\"#7201a8\"],[0.3333333333333333,\"#9c179e\"],[0.4444444444444444,\"#bd3786\"],[0.5555555555555556,\"#d8576b\"],[0.6666666666666666,\"#ed7953\"],[0.7777777777777778,\"#fb9f3a\"],[0.8888888888888888,\"#fdca26\"],[1.0,\"#f0f921\"]],\"type\":\"heatmap\"}],\"histogram2dcontour\":[{\"colorbar\":{\"outlinewidth\":0,\"ticks\":\"\"},\"colorscale\":[[0.0,\"#0d0887\"],[0.1111111111111111,\"#46039f\"],[0.2222222222222222,\"#7201a8\"],[0.3333333333333333,\"#9c179e\"],[0.4444444444444444,\"#bd3786\"],[0.5555555555555556,\"#d8576b\"],[0.6666666666666666,\"#ed7953\"],[0.7777777777777778,\"#fb9f3a\"],[0.8888888888888888,\"#fdca26\"],[1.0,\"#f0f921\"]],\"type\":\"histogram2dcontour\"}],\"histogram2d\":[{\"colorbar\":{\"outlinewidth\":0,\"ticks\":\"\"},\"colorscale\":[[0.0,\"#0d0887\"],[0.1111111111111111,\"#46039f\"],[0.2222222222222222,\"#7201a8\"],[0.3333333333333333,\"#9c179e\"],[0.4444444444444444,\"#bd3786\"],[0.5555555555555556,\"#d8576b\"],[0.6666666666666666,\"#ed7953\"],[0.7777777777777778,\"#fb9f3a\"],[0.8888888888888888,\"#fdca26\"],[1.0,\"#f0f921\"]],\"type\":\"histogram2d\"}],\"histogram\":[{\"marker\":{\"pattern\":{\"fillmode\":\"overlay\",\"size\":10,\"solidity\":0.2}},\"type\":\"histogram\"}],\"mesh3d\":[{\"colorbar\":{\"outlinewidth\":0,\"ticks\":\"\"},\"type\":\"mesh3d\"}],\"parcoords\":[{\"line\":{\"colorbar\":{\"outlinewidth\":0,\"ticks\":\"\"}},\"type\":\"parcoords\"}],\"pie\":[{\"automargin\":true,\"type\":\"pie\"}],\"scatter3d\":[{\"line\":{\"colorbar\":{\"outlinewidth\":0,\"ticks\":\"\"}},\"marker\":{\"colorbar\":{\"outlinewidth\":0,\"ticks\":\"\"}},\"type\":\"scatter3d\"}],\"scattercarpet\":[{\"marker\":{\"colorbar\":{\"outlinewidth\":0,\"ticks\":\"\"}},\"type\":\"scattercarpet\"}],\"scattergeo\":[{\"marker\":{\"colorbar\":{\"outlinewidth\":0,\"ticks\":\"\"}},\"type\":\"scattergeo\"}],\"scattergl\":[{\"marker\":{\"colorbar\":{\"outlinewidth\":0,\"ticks\":\"\"}},\"type\":\"scattergl\"}],\"scattermapbox\":[{\"marker\":{\"colorbar\":{\"outlinewidth\":0,\"ticks\":\"\"}},\"type\":\"scattermapbox\"}],\"scatterpolargl\":[{\"marker\":{\"colorbar\":{\"outlinewidth\":0,\"ticks\":\"\"}},\"type\":\"scatterpolargl\"}],\"scatterpolar\":[{\"marker\":{\"colorbar\":{\"outlinewidth\":0,\"ticks\":\"\"}},\"type\":\"scatterpolar\"}],\"scatter\":[{\"fillpattern\":{\"fillmode\":\"overlay\",\"size\":10,\"solidity\":0.2},\"type\":\"scatter\"}],\"scatterternary\":[{\"marker\":{\"colorbar\":{\"outlinewidth\":0,\"ticks\":\"\"}},\"type\":\"scatterternary\"}],\"surface\":[{\"colorbar\":{\"outlinewidth\":0,\"ticks\":\"\"},\"colorscale\":[[0.0,\"#0d0887\"],[0.1111111111111111,\"#46039f\"],[0.2222222222222222,\"#7201a8\"],[0.3333333333333333,\"#9c179e\"],[0.4444444444444444,\"#bd3786\"],[0.5555555555555556,\"#d8576b\"],[0.6666666666666666,\"#ed7953\"],[0.7777777777777778,\"#fb9f3a\"],[0.8888888888888888,\"#fdca26\"],[1.0,\"#f0f921\"]],\"type\":\"surface\"}],\"table\":[{\"cells\":{\"fill\":{\"color\":\"#EBF0F8\"},\"line\":{\"color\":\"white\"}},\"header\":{\"fill\":{\"color\":\"#C8D4E3\"},\"line\":{\"color\":\"white\"}},\"type\":\"table\"}]},\"layout\":{\"annotationdefaults\":{\"arrowcolor\":\"#2a3f5f\",\"arrowhead\":0,\"arrowwidth\":1},\"autotypenumbers\":\"strict\",\"coloraxis\":{\"colorbar\":{\"outlinewidth\":0,\"ticks\":\"\"}},\"colorscale\":{\"diverging\":[[0,\"#8e0152\"],[0.1,\"#c51b7d\"],[0.2,\"#de77ae\"],[0.3,\"#f1b6da\"],[0.4,\"#fde0ef\"],[0.5,\"#f7f7f7\"],[0.6,\"#e6f5d0\"],[0.7,\"#b8e186\"],[0.8,\"#7fbc41\"],[0.9,\"#4d9221\"],[1,\"#276419\"]],\"sequential\":[[0.0,\"#0d0887\"],[0.1111111111111111,\"#46039f\"],[0.2222222222222222,\"#7201a8\"],[0.3333333333333333,\"#9c179e\"],[0.4444444444444444,\"#bd3786\"],[0.5555555555555556,\"#d8576b\"],[0.6666666666666666,\"#ed7953\"],[0.7777777777777778,\"#fb9f3a\"],[0.8888888888888888,\"#fdca26\"],[1.0,\"#f0f921\"]],\"sequentialminus\":[[0.0,\"#0d0887\"],[0.1111111111111111,\"#46039f\"],[0.2222222222222222,\"#7201a8\"],[0.3333333333333333,\"#9c179e\"],[0.4444444444444444,\"#bd3786\"],[0.5555555555555556,\"#d8576b\"],[0.6666666666666666,\"#ed7953\"],[0.7777777777777778,\"#fb9f3a\"],[0.8888888888888888,\"#fdca26\"],[1.0,\"#f0f921\"]]},\"colorway\":[\"#636efa\",\"#EF553B\",\"#00cc96\",\"#ab63fa\",\"#FFA15A\",\"#19d3f3\",\"#FF6692\",\"#B6E880\",\"#FF97FF\",\"#FECB52\"],\"font\":{\"color\":\"#2a3f5f\"},\"geo\":{\"bgcolor\":\"white\",\"lakecolor\":\"white\",\"landcolor\":\"#E5ECF6\",\"showlakes\":true,\"showland\":true,\"subunitcolor\":\"white\"},\"hoverlabel\":{\"align\":\"left\"},\"hovermode\":\"closest\",\"mapbox\":{\"style\":\"light\"},\"paper_bgcolor\":\"white\",\"plot_bgcolor\":\"#E5ECF6\",\"polar\":{\"angularaxis\":{\"gridcolor\":\"white\",\"linecolor\":\"white\",\"ticks\":\"\"},\"bgcolor\":\"#E5ECF6\",\"radialaxis\":{\"gridcolor\":\"white\",\"linecolor\":\"white\",\"ticks\":\"\"}},\"scene\":{\"xaxis\":{\"backgroundcolor\":\"#E5ECF6\",\"gridcolor\":\"white\",\"gridwidth\":2,\"linecolor\":\"white\",\"showbackground\":true,\"ticks\":\"\",\"zerolinecolor\":\"white\"},\"yaxis\":{\"backgroundcolor\":\"#E5ECF6\",\"gridcolor\":\"white\",\"gridwidth\":2,\"linecolor\":\"white\",\"showbackground\":true,\"ticks\":\"\",\"zerolinecolor\":\"white\"},\"zaxis\":{\"backgroundcolor\":\"#E5ECF6\",\"gridcolor\":\"white\",\"gridwidth\":2,\"linecolor\":\"white\",\"showbackground\":true,\"ticks\":\"\",\"zerolinecolor\":\"white\"}},\"shapedefaults\":{\"line\":{\"color\":\"#2a3f5f\"}},\"ternary\":{\"aaxis\":{\"gridcolor\":\"white\",\"linecolor\":\"white\",\"ticks\":\"\"},\"baxis\":{\"gridcolor\":\"white\",\"linecolor\":\"white\",\"ticks\":\"\"},\"bgcolor\":\"#E5ECF6\",\"caxis\":{\"gridcolor\":\"white\",\"linecolor\":\"white\",\"ticks\":\"\"}},\"title\":{\"x\":0.05},\"xaxis\":{\"automargin\":true,\"gridcolor\":\"white\",\"linecolor\":\"white\",\"ticks\":\"\",\"title\":{\"standoff\":15},\"zerolinecolor\":\"white\",\"zerolinewidth\":2},\"yaxis\":{\"automargin\":true,\"gridcolor\":\"white\",\"linecolor\":\"white\",\"ticks\":\"\",\"title\":{\"standoff\":15},\"zerolinecolor\":\"white\",\"zerolinewidth\":2}}},\"title\":{\"font\":{\"color\":\"#4D5663\"}},\"xaxis\":{\"gridcolor\":\"#E1E5ED\",\"showgrid\":true,\"tickfont\":{\"color\":\"#4D5663\"},\"title\":{\"font\":{\"color\":\"#4D5663\"},\"text\":\"\"},\"zerolinecolor\":\"#E1E5ED\"},\"yaxis\":{\"gridcolor\":\"#E1E5ED\",\"showgrid\":true,\"tickfont\":{\"color\":\"#4D5663\"},\"title\":{\"font\":{\"color\":\"#4D5663\"},\"text\":\"\"},\"zerolinecolor\":\"#E1E5ED\"}},                        {\"showLink\": true, \"linkText\": \"Export to plot.ly\", \"plotlyServerURL\": \"https://plot.ly\", \"responsive\": true}                    ).then(function(){\n",
       "                            \n",
       "var gd = document.getElementById('777dcd64-0d7b-4939-bd0d-75690b6ca367');\n",
       "var x = new MutationObserver(function (mutations, observer) {{\n",
       "        var display = window.getComputedStyle(gd).display;\n",
       "        if (!display || display === 'none') {{\n",
       "            console.log([gd, 'removed!']);\n",
       "            Plotly.purge(gd);\n",
       "            observer.disconnect();\n",
       "        }}\n",
       "}});\n",
       "\n",
       "// Listen for the removal of the full notebook cells\n",
       "var notebookContainer = gd.closest('#notebook-container');\n",
       "if (notebookContainer) {{\n",
       "    x.observe(notebookContainer, {childList: true});\n",
       "}}\n",
       "\n",
       "// Listen for the clearing of the current output cell\n",
       "var outputEl = gd.closest('.output');\n",
       "if (outputEl) {{\n",
       "    x.observe(outputEl, {childList: true});\n",
       "}}\n",
       "\n",
       "                        })                };                });            </script>        </div>"
      ]
     },
     "metadata": {},
     "output_type": "display_data"
    }
   ],
   "source": [
    "df.iplot(kind='bubble',x='A',y='B',size='C')"
   ]
  },
  {
   "cell_type": "markdown",
   "metadata": {},
   "source": [
    "## scatter_matrix()\n",
    "\n",
    "Similar to sns.pairplot()"
   ]
  },
  {
   "cell_type": "code",
   "execution_count": 18,
   "metadata": {},
   "outputs": [
    {
     "data": {
      "application/vnd.plotly.v1+json": {
       "config": {
        "linkText": "Export to plot.ly",
        "plotlyServerURL": "https://plot.ly",
        "showLink": true
       },
       "data": [
        {
         "histfunc": "count",
         "histnorm": "",
         "marker": {
          "color": "rgba(255, 153, 51, 1.0)",
          "line": {
           "color": "#4D5663",
           "width": 1.3
          }
         },
         "name": "A",
         "nbinsx": 10,
         "opacity": 0.8,
         "orientation": "v",
         "type": "histogram",
         "x": [
          -0.8805112749273397,
          1.4546803047490493,
          0.45853165741418406,
          -0.3005759439371258,
          0.9424598261557191,
          0.19201853912783895,
          0.128732384353252,
          -1.1246631977459849,
          1.004559436801384,
          -0.019433001305279293,
          0.8743710434087673,
          1.266547392168914,
          -0.013290881499199495,
          1.2146231112105121,
          0.9026519074182962,
          -0.25852503161661794,
          0.06350722196103391,
          0.061319066665640985,
          0.6826923694271695,
          0.6571582828505825,
          -0.6394539760429969,
          -0.3873354829211536,
          -1.275992785163112,
          -0.9049553682456588,
          0.39140151388641575,
          -1.3261717503652508,
          -0.11176379848313447,
          0.12996215884278603,
          -0.4992525292514862,
          -0.3757696877819027,
          1.8950234573743023,
          -1.9806901072377638,
          -0.23372785694788464,
          -0.8724008970677714,
          -0.34295179012678584,
          0.5427956937168907,
          1.1566492382180327,
          1.3326192990291548,
          -3.338998968955712,
          -1.1091125681635465,
          -1.3795235178695933,
          -1.1995158314131806,
          1.8271736655576276,
          -1.6994936600219739,
          -1.6145550438467797,
          0.9643249901269011,
          0.18191869225186177,
          1.067698235546503,
          -2.1762174829824414,
          0.6125575233486188,
          0.36338752339594443,
          0.30630912374155744,
          0.10269690778525375,
          -0.23617787136845161,
          0.29204680294836505,
          -1.532545565777484,
          0.8019566260245036,
          0.008843763923224425,
          -0.42653027037276425,
          0.28462913192626726,
          0.33580872462837,
          0.09094416649994692,
          -2.105854750180177,
          -2.423062150710898,
          -0.6026419962151889,
          0.4283091936814125,
          -1.178494121002894,
          -0.5400337459898417,
          0.9880569653816528,
          -1.1816843048036256,
          0.08603326565887974,
          1.7909142535972238,
          1.2309346264188081,
          -1.8196369817643112,
          -0.42081030328553204,
          -1.5186485358520676,
          -0.35265366574837465,
          -0.045581613031547445,
          -0.20430067627555923,
          0.5409643956030542,
          -0.41286664820958746,
          0.3410783944367214,
          -0.05382582690926376,
          -1.7286105233045104,
          -3.3274176052282987,
          -0.31580923857082854,
          -0.0022477885108969434,
          -0.7399373198141854,
          -1.0496008215922419,
          -0.018198058774143547,
          0.009171190217878636,
          -0.4359682580386698,
          -1.004700100123502,
          -1.1230110350456142,
          2.1312832353333366,
          2.1284473689005625,
          0.7196357631601891,
          0.35387350270156964,
          -0.7575764541103952,
          0.05885429630124914
         ],
         "xaxis": "x",
         "yaxis": "y"
        },
        {
         "line": {
          "color": "rgba(128, 128, 128, 1.0)",
          "dash": "solid",
          "shape": "linear",
          "width": 1.3
         },
         "marker": {
          "size": 2,
          "symbol": "circle"
         },
         "mode": "markers",
         "name": "A",
         "text": "",
         "type": "scatter",
         "x": [
          -0.040620682752938356,
          0.6425512540068671,
          0.14954889475613145,
          0.49045887473164235,
          -0.5827195860487148,
          -0.13496047818515644,
          -0.9893694661713424,
          0.07739330554695359,
          1.2774594950431841,
          0.9051893198035333,
          0.43346916701428506,
          -0.8306833793111323,
          -1.3092321307066412,
          1.4813037309002575,
          -0.34839072009165795,
          -2.5934705048348343,
          1.2081323105876758,
          -0.09907281821256546,
          0.9136907908933014,
          -0.12432182626363361,
          0.925676795487707,
          -0.09977335171951576,
          1.4892365866941903,
          -0.8429186160540141,
          -0.3025715984088873,
          0.2679478968963423,
          0.56905456426694,
          0.2941970762016016,
          1.3056771575832564,
          -1.7443669852439025,
          -0.28515992298943627,
          -0.5145847265601052,
          0.035708484457847633,
          1.627107409135958,
          0.5335426874062241,
          -1.3189437705400466,
          0.02713630906105749,
          -0.038583607971776374,
          -0.5859905137239353,
          -1.2177623765108856,
          0.4515652168570346,
          -0.965931380122257,
          0.23111129390548757,
          0.3898620573440986,
          0.07476211856250009,
          0.32798815670390036,
          -0.9908999331121211,
          -0.3651869892093611,
          -0.007334796306520177,
          0.6839228452193726,
          2.1371650254650323,
          0.6489511031859807,
          -0.0012767696323471123,
          0.278889171030196,
          -0.33165140572707336,
          -0.5680326867475078,
          -0.5415757221815488,
          -0.7935480405004463,
          2.0211246678010775,
          -0.8997668043881036,
          0.3324242707696821,
          0.026734950348676796,
          1.1922255118347185,
          -0.7697899008768124,
          0.44790487649560123,
          0.0939673325457032,
          2.1821417801637426,
          0.774139202896262,
          0.517067398756495,
          0.11010871823609361,
          -0.16470198410872866,
          0.49069038348064636,
          1.4607640667920616,
          0.20981002442152016,
          0.6103777309682441,
          -1.26145508089656,
          -0.13052525017463731,
          0.6092958179619178,
          2.016326021795919,
          1.1692372030554616,
          -0.7226676608429432,
          0.6311301714091945,
          0.27447197998064354,
          -0.22685920767083032,
          -0.3324216234957669,
          0.32721386514126644,
          0.33811135832490846,
          0.10292645064304927,
          1.0746877746327905,
          -0.6545233505727898,
          0.18354641835424212,
          0.18527408763830389,
          -0.38314438999148615,
          -0.6569472338029486,
          0.06183474638568763,
          1.5813137036549005,
          1.5835367596453647,
          1.4283287411040775,
          -2.0300800263880037,
          1.5790161429256748
         ],
         "xaxis": "x2",
         "y": [
          -0.8805112749273397,
          1.4546803047490493,
          0.45853165741418406,
          -0.3005759439371258,
          0.9424598261557191,
          0.19201853912783895,
          0.128732384353252,
          -1.1246631977459849,
          1.004559436801384,
          -0.019433001305279293,
          0.8743710434087673,
          1.266547392168914,
          -0.013290881499199495,
          1.2146231112105121,
          0.9026519074182962,
          -0.25852503161661794,
          0.06350722196103391,
          0.061319066665640985,
          0.6826923694271695,
          0.6571582828505825,
          -0.6394539760429969,
          -0.3873354829211536,
          -1.275992785163112,
          -0.9049553682456588,
          0.39140151388641575,
          -1.3261717503652508,
          -0.11176379848313447,
          0.12996215884278603,
          -0.4992525292514862,
          -0.3757696877819027,
          1.8950234573743023,
          -1.9806901072377638,
          -0.23372785694788464,
          -0.8724008970677714,
          -0.34295179012678584,
          0.5427956937168907,
          1.1566492382180327,
          1.3326192990291548,
          -3.338998968955712,
          -1.1091125681635465,
          -1.3795235178695933,
          -1.1995158314131806,
          1.8271736655576276,
          -1.6994936600219739,
          -1.6145550438467797,
          0.9643249901269011,
          0.18191869225186177,
          1.067698235546503,
          -2.1762174829824414,
          0.6125575233486188,
          0.36338752339594443,
          0.30630912374155744,
          0.10269690778525375,
          -0.23617787136845161,
          0.29204680294836505,
          -1.532545565777484,
          0.8019566260245036,
          0.008843763923224425,
          -0.42653027037276425,
          0.28462913192626726,
          0.33580872462837,
          0.09094416649994692,
          -2.105854750180177,
          -2.423062150710898,
          -0.6026419962151889,
          0.4283091936814125,
          -1.178494121002894,
          -0.5400337459898417,
          0.9880569653816528,
          -1.1816843048036256,
          0.08603326565887974,
          1.7909142535972238,
          1.2309346264188081,
          -1.8196369817643112,
          -0.42081030328553204,
          -1.5186485358520676,
          -0.35265366574837465,
          -0.045581613031547445,
          -0.20430067627555923,
          0.5409643956030542,
          -0.41286664820958746,
          0.3410783944367214,
          -0.05382582690926376,
          -1.7286105233045104,
          -3.3274176052282987,
          -0.31580923857082854,
          -0.0022477885108969434,
          -0.7399373198141854,
          -1.0496008215922419,
          -0.018198058774143547,
          0.009171190217878636,
          -0.4359682580386698,
          -1.004700100123502,
          -1.1230110350456142,
          2.1312832353333366,
          2.1284473689005625,
          0.7196357631601891,
          0.35387350270156964,
          -0.7575764541103952,
          0.05885429630124914
         ],
         "yaxis": "y2"
        },
        {
         "line": {
          "color": "rgba(128, 128, 128, 1.0)",
          "dash": "solid",
          "shape": "linear",
          "width": 1.3
         },
         "marker": {
          "size": 2,
          "symbol": "circle"
         },
         "mode": "markers",
         "name": "A",
         "text": "",
         "type": "scatter",
         "x": [
          -0.7373178581637543,
          1.2094282562187213,
          -0.8059119674331232,
          0.4876760751296238,
          -1.8064069520807258,
          -1.5737541884892818,
          0.1743789018229636,
          0.15281584239647017,
          2.244565344116197,
          1.0601479640163183,
          -0.5984122253086601,
          2.1435870040904086,
          0.6970531744694549,
          1.3759019920345859,
          1.8206631615829603,
          -0.028007465173700216,
          0.1428670677979271,
          -1.5979618363066557,
          0.5821058379949517,
          0.94386490701705,
          -1.2454178739856687,
          1.50661866559273,
          1.0869705895443469,
          1.6823727569828384,
          -0.8595273491126317,
          1.478320527760731,
          0.8162269049288953,
          0.5859220020319909,
          2.267898195446429,
          -0.35834491582002986,
          0.26598690520998214,
          -0.41533934704953945,
          1.2314433022629834,
          0.5600347720230504,
          0.40871590238812405,
          1.404608521107051,
          -0.0878461613244193,
          -0.7475328524313366,
          2.385831356221766,
          -0.15890511866981596,
          2.117139343156385,
          0.5961751395270899,
          -2.593387530688035,
          -0.26591322917759513,
          -0.39401309986313693,
          -0.22155029660222936,
          0.3695871934149242,
          0.5438226827080714,
          0.8599277357293486,
          0.8539903451802754,
          1.2456261673231157,
          -0.14294118703247036,
          -0.65164181039537,
          0.3000145649784694,
          -1.4459222155878377,
          -2.181327130251743,
          -1.5203395854167638,
          1.0370276033763146,
          0.8191918541369059,
          -0.24053659828283894,
          0.11868536157701531,
          1.8226415967280403,
          0.5221077987448178,
          -0.19584582131634867,
          0.578095034317103,
          -0.8456010765416432,
          -0.8475567682328727,
          0.6603753282845514,
          0.31592619336185124,
          0.39206835973372584,
          1.1417750462546776,
          -0.399904498048505,
          -1.1319856826194006,
          1.7886764693375763,
          0.642866245399601,
          -2.179668933455267,
          -0.9643433675465127,
          0.3212202032512991,
          0.050336948173034655,
          0.7662372734627357,
          0.25476345377570786,
          -0.14591352118157488,
          0.5914620862330049,
          1.1976005872437367,
          1.5745749474886952,
          -0.2967696059816843,
          -0.44343486877246796,
          0.94860467672076,
          0.9419019770815412,
          0.9713735465843496,
          -0.327698313732574,
          0.1493764488971369,
          -0.5461573419394765,
          -1.0342933267727203,
          -1.065861676081342,
          2.1819785360128434,
          -1.3487349594611897,
          -4.135527763244468,
          -0.1379146235635607,
          -2.2116708575521553
         ],
         "xaxis": "x3",
         "y": [
          -0.8805112749273397,
          1.4546803047490493,
          0.45853165741418406,
          -0.3005759439371258,
          0.9424598261557191,
          0.19201853912783895,
          0.128732384353252,
          -1.1246631977459849,
          1.004559436801384,
          -0.019433001305279293,
          0.8743710434087673,
          1.266547392168914,
          -0.013290881499199495,
          1.2146231112105121,
          0.9026519074182962,
          -0.25852503161661794,
          0.06350722196103391,
          0.061319066665640985,
          0.6826923694271695,
          0.6571582828505825,
          -0.6394539760429969,
          -0.3873354829211536,
          -1.275992785163112,
          -0.9049553682456588,
          0.39140151388641575,
          -1.3261717503652508,
          -0.11176379848313447,
          0.12996215884278603,
          -0.4992525292514862,
          -0.3757696877819027,
          1.8950234573743023,
          -1.9806901072377638,
          -0.23372785694788464,
          -0.8724008970677714,
          -0.34295179012678584,
          0.5427956937168907,
          1.1566492382180327,
          1.3326192990291548,
          -3.338998968955712,
          -1.1091125681635465,
          -1.3795235178695933,
          -1.1995158314131806,
          1.8271736655576276,
          -1.6994936600219739,
          -1.6145550438467797,
          0.9643249901269011,
          0.18191869225186177,
          1.067698235546503,
          -2.1762174829824414,
          0.6125575233486188,
          0.36338752339594443,
          0.30630912374155744,
          0.10269690778525375,
          -0.23617787136845161,
          0.29204680294836505,
          -1.532545565777484,
          0.8019566260245036,
          0.008843763923224425,
          -0.42653027037276425,
          0.28462913192626726,
          0.33580872462837,
          0.09094416649994692,
          -2.105854750180177,
          -2.423062150710898,
          -0.6026419962151889,
          0.4283091936814125,
          -1.178494121002894,
          -0.5400337459898417,
          0.9880569653816528,
          -1.1816843048036256,
          0.08603326565887974,
          1.7909142535972238,
          1.2309346264188081,
          -1.8196369817643112,
          -0.42081030328553204,
          -1.5186485358520676,
          -0.35265366574837465,
          -0.045581613031547445,
          -0.20430067627555923,
          0.5409643956030542,
          -0.41286664820958746,
          0.3410783944367214,
          -0.05382582690926376,
          -1.7286105233045104,
          -3.3274176052282987,
          -0.31580923857082854,
          -0.0022477885108969434,
          -0.7399373198141854,
          -1.0496008215922419,
          -0.018198058774143547,
          0.009171190217878636,
          -0.4359682580386698,
          -1.004700100123502,
          -1.1230110350456142,
          2.1312832353333366,
          2.1284473689005625,
          0.7196357631601891,
          0.35387350270156964,
          -0.7575764541103952,
          0.05885429630124914
         ],
         "yaxis": "y3"
        },
        {
         "line": {
          "color": "rgba(128, 128, 128, 1.0)",
          "dash": "solid",
          "shape": "linear",
          "width": 1.3
         },
         "marker": {
          "size": 2,
          "symbol": "circle"
         },
         "mode": "markers",
         "name": "A",
         "text": "",
         "type": "scatter",
         "x": [
          -0.4094127428579206,
          -0.21816781863242246,
          1.11448266416044,
          -0.1295544427424413,
          0.9226234272267713,
          -1.232597784007126,
          -2.3601243523486963,
          -0.32340141787187887,
          0.6731101043432102,
          0.785305169819162,
          0.27584025105219745,
          -0.11215689418312598,
          -0.20064416491791479,
          -0.0009059663933048694,
          1.4443434794407248,
          1.016528312061317,
          1.6641673730697764,
          0.04237359660649589,
          0.2233088195758519,
          1.3451104368623341,
          -1.4227103743188094,
          -0.015315517765536298,
          1.0901723323236299,
          0.4010443231955874,
          -0.1359114955903373,
          0.38956577638360607,
          1.7177436381783815,
          -0.8930249405238582,
          -0.4282164926175609,
          -1.8187788442944304,
          1.2682080452118343,
          0.12234140101068217,
          -0.8587475191336498,
          -1.5952743956320585,
          -0.13931033039380844,
          0.3842636293682735,
          1.2841775594688878,
          -0.7655395790179279,
          -0.6177598552260284,
          0.8062901352699203,
          -1.0399997923046052,
          -0.8664557866152551,
          -0.7897816866310353,
          0.050552240392427346,
          -0.2758437203732586,
          1.2920111325917742,
          0.28703816892970224,
          0.45988639739509185,
          -0.18131820133397009,
          -2.0977034044556135,
          1.227686719707167,
          0.4410357331332495,
          1.3952479105120492,
          -0.728864022524065,
          1.2863027684115462,
          0.39965171094439944,
          -0.13336291183844542,
          -0.29240394314362955,
          0.27221939341837165,
          -0.16578246600085056,
          0.09352322007013927,
          0.40109979187341505,
          -0.6597971338563279,
          -0.14011372429474933,
          1.6135575003426434,
          -1.5380265561895399,
          0.06210467572715678,
          -0.36647507655689215,
          -0.20050236092492363,
          1.102189603246003,
          1.1076625879119724,
          -0.6173356475896526,
          -1.0517705328368148,
          -1.3667935238181685,
          2.0123677414946957,
          0.41700942992506784,
          -0.2595000507564968,
          0.39618910311449435,
          1.6292195940830516,
          1.7212727478638084,
          -0.7317401825711949,
          -0.5913161776502358,
          0.9365095450762048,
          1.998958277374428,
          0.9459905865789764,
          0.7441567293415282,
          0.75163136873997,
          0.7633044070608969,
          -0.11419874779609812,
          1.1899648367953914,
          1.5021766800259608,
          1.092742915606824,
          -0.16727633369836986,
          -0.743141975707925,
          -1.1083816961888047,
          -0.2086596930734489,
          -0.21247015297495855,
          0.9066772485657766,
          0.17841663489329393,
          -1.198655616253056
         ],
         "xaxis": "x4",
         "y": [
          -0.8805112749273397,
          1.4546803047490493,
          0.45853165741418406,
          -0.3005759439371258,
          0.9424598261557191,
          0.19201853912783895,
          0.128732384353252,
          -1.1246631977459849,
          1.004559436801384,
          -0.019433001305279293,
          0.8743710434087673,
          1.266547392168914,
          -0.013290881499199495,
          1.2146231112105121,
          0.9026519074182962,
          -0.25852503161661794,
          0.06350722196103391,
          0.061319066665640985,
          0.6826923694271695,
          0.6571582828505825,
          -0.6394539760429969,
          -0.3873354829211536,
          -1.275992785163112,
          -0.9049553682456588,
          0.39140151388641575,
          -1.3261717503652508,
          -0.11176379848313447,
          0.12996215884278603,
          -0.4992525292514862,
          -0.3757696877819027,
          1.8950234573743023,
          -1.9806901072377638,
          -0.23372785694788464,
          -0.8724008970677714,
          -0.34295179012678584,
          0.5427956937168907,
          1.1566492382180327,
          1.3326192990291548,
          -3.338998968955712,
          -1.1091125681635465,
          -1.3795235178695933,
          -1.1995158314131806,
          1.8271736655576276,
          -1.6994936600219739,
          -1.6145550438467797,
          0.9643249901269011,
          0.18191869225186177,
          1.067698235546503,
          -2.1762174829824414,
          0.6125575233486188,
          0.36338752339594443,
          0.30630912374155744,
          0.10269690778525375,
          -0.23617787136845161,
          0.29204680294836505,
          -1.532545565777484,
          0.8019566260245036,
          0.008843763923224425,
          -0.42653027037276425,
          0.28462913192626726,
          0.33580872462837,
          0.09094416649994692,
          -2.105854750180177,
          -2.423062150710898,
          -0.6026419962151889,
          0.4283091936814125,
          -1.178494121002894,
          -0.5400337459898417,
          0.9880569653816528,
          -1.1816843048036256,
          0.08603326565887974,
          1.7909142535972238,
          1.2309346264188081,
          -1.8196369817643112,
          -0.42081030328553204,
          -1.5186485358520676,
          -0.35265366574837465,
          -0.045581613031547445,
          -0.20430067627555923,
          0.5409643956030542,
          -0.41286664820958746,
          0.3410783944367214,
          -0.05382582690926376,
          -1.7286105233045104,
          -3.3274176052282987,
          -0.31580923857082854,
          -0.0022477885108969434,
          -0.7399373198141854,
          -1.0496008215922419,
          -0.018198058774143547,
          0.009171190217878636,
          -0.4359682580386698,
          -1.004700100123502,
          -1.1230110350456142,
          2.1312832353333366,
          2.1284473689005625,
          0.7196357631601891,
          0.35387350270156964,
          -0.7575764541103952,
          0.05885429630124914
         ],
         "yaxis": "y4"
        },
        {
         "line": {
          "color": "rgba(128, 128, 128, 1.0)",
          "dash": "solid",
          "shape": "linear",
          "width": 1.3
         },
         "marker": {
          "size": 2,
          "symbol": "circle"
         },
         "mode": "markers",
         "name": "B",
         "text": "",
         "type": "scatter",
         "x": [
          -0.8805112749273397,
          1.4546803047490493,
          0.45853165741418406,
          -0.3005759439371258,
          0.9424598261557191,
          0.19201853912783895,
          0.128732384353252,
          -1.1246631977459849,
          1.004559436801384,
          -0.019433001305279293,
          0.8743710434087673,
          1.266547392168914,
          -0.013290881499199495,
          1.2146231112105121,
          0.9026519074182962,
          -0.25852503161661794,
          0.06350722196103391,
          0.061319066665640985,
          0.6826923694271695,
          0.6571582828505825,
          -0.6394539760429969,
          -0.3873354829211536,
          -1.275992785163112,
          -0.9049553682456588,
          0.39140151388641575,
          -1.3261717503652508,
          -0.11176379848313447,
          0.12996215884278603,
          -0.4992525292514862,
          -0.3757696877819027,
          1.8950234573743023,
          -1.9806901072377638,
          -0.23372785694788464,
          -0.8724008970677714,
          -0.34295179012678584,
          0.5427956937168907,
          1.1566492382180327,
          1.3326192990291548,
          -3.338998968955712,
          -1.1091125681635465,
          -1.3795235178695933,
          -1.1995158314131806,
          1.8271736655576276,
          -1.6994936600219739,
          -1.6145550438467797,
          0.9643249901269011,
          0.18191869225186177,
          1.067698235546503,
          -2.1762174829824414,
          0.6125575233486188,
          0.36338752339594443,
          0.30630912374155744,
          0.10269690778525375,
          -0.23617787136845161,
          0.29204680294836505,
          -1.532545565777484,
          0.8019566260245036,
          0.008843763923224425,
          -0.42653027037276425,
          0.28462913192626726,
          0.33580872462837,
          0.09094416649994692,
          -2.105854750180177,
          -2.423062150710898,
          -0.6026419962151889,
          0.4283091936814125,
          -1.178494121002894,
          -0.5400337459898417,
          0.9880569653816528,
          -1.1816843048036256,
          0.08603326565887974,
          1.7909142535972238,
          1.2309346264188081,
          -1.8196369817643112,
          -0.42081030328553204,
          -1.5186485358520676,
          -0.35265366574837465,
          -0.045581613031547445,
          -0.20430067627555923,
          0.5409643956030542,
          -0.41286664820958746,
          0.3410783944367214,
          -0.05382582690926376,
          -1.7286105233045104,
          -3.3274176052282987,
          -0.31580923857082854,
          -0.0022477885108969434,
          -0.7399373198141854,
          -1.0496008215922419,
          -0.018198058774143547,
          0.009171190217878636,
          -0.4359682580386698,
          -1.004700100123502,
          -1.1230110350456142,
          2.1312832353333366,
          2.1284473689005625,
          0.7196357631601891,
          0.35387350270156964,
          -0.7575764541103952,
          0.05885429630124914
         ],
         "xaxis": "x5",
         "y": [
          -0.040620682752938356,
          0.6425512540068671,
          0.14954889475613145,
          0.49045887473164235,
          -0.5827195860487148,
          -0.13496047818515644,
          -0.9893694661713424,
          0.07739330554695359,
          1.2774594950431841,
          0.9051893198035333,
          0.43346916701428506,
          -0.8306833793111323,
          -1.3092321307066412,
          1.4813037309002575,
          -0.34839072009165795,
          -2.5934705048348343,
          1.2081323105876758,
          -0.09907281821256546,
          0.9136907908933014,
          -0.12432182626363361,
          0.925676795487707,
          -0.09977335171951576,
          1.4892365866941903,
          -0.8429186160540141,
          -0.3025715984088873,
          0.2679478968963423,
          0.56905456426694,
          0.2941970762016016,
          1.3056771575832564,
          -1.7443669852439025,
          -0.28515992298943627,
          -0.5145847265601052,
          0.035708484457847633,
          1.627107409135958,
          0.5335426874062241,
          -1.3189437705400466,
          0.02713630906105749,
          -0.038583607971776374,
          -0.5859905137239353,
          -1.2177623765108856,
          0.4515652168570346,
          -0.965931380122257,
          0.23111129390548757,
          0.3898620573440986,
          0.07476211856250009,
          0.32798815670390036,
          -0.9908999331121211,
          -0.3651869892093611,
          -0.007334796306520177,
          0.6839228452193726,
          2.1371650254650323,
          0.6489511031859807,
          -0.0012767696323471123,
          0.278889171030196,
          -0.33165140572707336,
          -0.5680326867475078,
          -0.5415757221815488,
          -0.7935480405004463,
          2.0211246678010775,
          -0.8997668043881036,
          0.3324242707696821,
          0.026734950348676796,
          1.1922255118347185,
          -0.7697899008768124,
          0.44790487649560123,
          0.0939673325457032,
          2.1821417801637426,
          0.774139202896262,
          0.517067398756495,
          0.11010871823609361,
          -0.16470198410872866,
          0.49069038348064636,
          1.4607640667920616,
          0.20981002442152016,
          0.6103777309682441,
          -1.26145508089656,
          -0.13052525017463731,
          0.6092958179619178,
          2.016326021795919,
          1.1692372030554616,
          -0.7226676608429432,
          0.6311301714091945,
          0.27447197998064354,
          -0.22685920767083032,
          -0.3324216234957669,
          0.32721386514126644,
          0.33811135832490846,
          0.10292645064304927,
          1.0746877746327905,
          -0.6545233505727898,
          0.18354641835424212,
          0.18527408763830389,
          -0.38314438999148615,
          -0.6569472338029486,
          0.06183474638568763,
          1.5813137036549005,
          1.5835367596453647,
          1.4283287411040775,
          -2.0300800263880037,
          1.5790161429256748
         ],
         "yaxis": "y5"
        },
        {
         "histfunc": "count",
         "histnorm": "",
         "marker": {
          "color": "rgba(55, 128, 191, 1.0)",
          "line": {
           "color": "#4D5663",
           "width": 1.3
          }
         },
         "name": "B",
         "nbinsx": 10,
         "opacity": 0.8,
         "orientation": "v",
         "type": "histogram",
         "x": [
          -0.040620682752938356,
          0.6425512540068671,
          0.14954889475613145,
          0.49045887473164235,
          -0.5827195860487148,
          -0.13496047818515644,
          -0.9893694661713424,
          0.07739330554695359,
          1.2774594950431841,
          0.9051893198035333,
          0.43346916701428506,
          -0.8306833793111323,
          -1.3092321307066412,
          1.4813037309002575,
          -0.34839072009165795,
          -2.5934705048348343,
          1.2081323105876758,
          -0.09907281821256546,
          0.9136907908933014,
          -0.12432182626363361,
          0.925676795487707,
          -0.09977335171951576,
          1.4892365866941903,
          -0.8429186160540141,
          -0.3025715984088873,
          0.2679478968963423,
          0.56905456426694,
          0.2941970762016016,
          1.3056771575832564,
          -1.7443669852439025,
          -0.28515992298943627,
          -0.5145847265601052,
          0.035708484457847633,
          1.627107409135958,
          0.5335426874062241,
          -1.3189437705400466,
          0.02713630906105749,
          -0.038583607971776374,
          -0.5859905137239353,
          -1.2177623765108856,
          0.4515652168570346,
          -0.965931380122257,
          0.23111129390548757,
          0.3898620573440986,
          0.07476211856250009,
          0.32798815670390036,
          -0.9908999331121211,
          -0.3651869892093611,
          -0.007334796306520177,
          0.6839228452193726,
          2.1371650254650323,
          0.6489511031859807,
          -0.0012767696323471123,
          0.278889171030196,
          -0.33165140572707336,
          -0.5680326867475078,
          -0.5415757221815488,
          -0.7935480405004463,
          2.0211246678010775,
          -0.8997668043881036,
          0.3324242707696821,
          0.026734950348676796,
          1.1922255118347185,
          -0.7697899008768124,
          0.44790487649560123,
          0.0939673325457032,
          2.1821417801637426,
          0.774139202896262,
          0.517067398756495,
          0.11010871823609361,
          -0.16470198410872866,
          0.49069038348064636,
          1.4607640667920616,
          0.20981002442152016,
          0.6103777309682441,
          -1.26145508089656,
          -0.13052525017463731,
          0.6092958179619178,
          2.016326021795919,
          1.1692372030554616,
          -0.7226676608429432,
          0.6311301714091945,
          0.27447197998064354,
          -0.22685920767083032,
          -0.3324216234957669,
          0.32721386514126644,
          0.33811135832490846,
          0.10292645064304927,
          1.0746877746327905,
          -0.6545233505727898,
          0.18354641835424212,
          0.18527408763830389,
          -0.38314438999148615,
          -0.6569472338029486,
          0.06183474638568763,
          1.5813137036549005,
          1.5835367596453647,
          1.4283287411040775,
          -2.0300800263880037,
          1.5790161429256748
         ],
         "xaxis": "x6",
         "yaxis": "y6"
        },
        {
         "line": {
          "color": "rgba(128, 128, 128, 1.0)",
          "dash": "solid",
          "shape": "linear",
          "width": 1.3
         },
         "marker": {
          "size": 2,
          "symbol": "circle"
         },
         "mode": "markers",
         "name": "B",
         "text": "",
         "type": "scatter",
         "x": [
          -0.7373178581637543,
          1.2094282562187213,
          -0.8059119674331232,
          0.4876760751296238,
          -1.8064069520807258,
          -1.5737541884892818,
          0.1743789018229636,
          0.15281584239647017,
          2.244565344116197,
          1.0601479640163183,
          -0.5984122253086601,
          2.1435870040904086,
          0.6970531744694549,
          1.3759019920345859,
          1.8206631615829603,
          -0.028007465173700216,
          0.1428670677979271,
          -1.5979618363066557,
          0.5821058379949517,
          0.94386490701705,
          -1.2454178739856687,
          1.50661866559273,
          1.0869705895443469,
          1.6823727569828384,
          -0.8595273491126317,
          1.478320527760731,
          0.8162269049288953,
          0.5859220020319909,
          2.267898195446429,
          -0.35834491582002986,
          0.26598690520998214,
          -0.41533934704953945,
          1.2314433022629834,
          0.5600347720230504,
          0.40871590238812405,
          1.404608521107051,
          -0.0878461613244193,
          -0.7475328524313366,
          2.385831356221766,
          -0.15890511866981596,
          2.117139343156385,
          0.5961751395270899,
          -2.593387530688035,
          -0.26591322917759513,
          -0.39401309986313693,
          -0.22155029660222936,
          0.3695871934149242,
          0.5438226827080714,
          0.8599277357293486,
          0.8539903451802754,
          1.2456261673231157,
          -0.14294118703247036,
          -0.65164181039537,
          0.3000145649784694,
          -1.4459222155878377,
          -2.181327130251743,
          -1.5203395854167638,
          1.0370276033763146,
          0.8191918541369059,
          -0.24053659828283894,
          0.11868536157701531,
          1.8226415967280403,
          0.5221077987448178,
          -0.19584582131634867,
          0.578095034317103,
          -0.8456010765416432,
          -0.8475567682328727,
          0.6603753282845514,
          0.31592619336185124,
          0.39206835973372584,
          1.1417750462546776,
          -0.399904498048505,
          -1.1319856826194006,
          1.7886764693375763,
          0.642866245399601,
          -2.179668933455267,
          -0.9643433675465127,
          0.3212202032512991,
          0.050336948173034655,
          0.7662372734627357,
          0.25476345377570786,
          -0.14591352118157488,
          0.5914620862330049,
          1.1976005872437367,
          1.5745749474886952,
          -0.2967696059816843,
          -0.44343486877246796,
          0.94860467672076,
          0.9419019770815412,
          0.9713735465843496,
          -0.327698313732574,
          0.1493764488971369,
          -0.5461573419394765,
          -1.0342933267727203,
          -1.065861676081342,
          2.1819785360128434,
          -1.3487349594611897,
          -4.135527763244468,
          -0.1379146235635607,
          -2.2116708575521553
         ],
         "xaxis": "x7",
         "y": [
          -0.040620682752938356,
          0.6425512540068671,
          0.14954889475613145,
          0.49045887473164235,
          -0.5827195860487148,
          -0.13496047818515644,
          -0.9893694661713424,
          0.07739330554695359,
          1.2774594950431841,
          0.9051893198035333,
          0.43346916701428506,
          -0.8306833793111323,
          -1.3092321307066412,
          1.4813037309002575,
          -0.34839072009165795,
          -2.5934705048348343,
          1.2081323105876758,
          -0.09907281821256546,
          0.9136907908933014,
          -0.12432182626363361,
          0.925676795487707,
          -0.09977335171951576,
          1.4892365866941903,
          -0.8429186160540141,
          -0.3025715984088873,
          0.2679478968963423,
          0.56905456426694,
          0.2941970762016016,
          1.3056771575832564,
          -1.7443669852439025,
          -0.28515992298943627,
          -0.5145847265601052,
          0.035708484457847633,
          1.627107409135958,
          0.5335426874062241,
          -1.3189437705400466,
          0.02713630906105749,
          -0.038583607971776374,
          -0.5859905137239353,
          -1.2177623765108856,
          0.4515652168570346,
          -0.965931380122257,
          0.23111129390548757,
          0.3898620573440986,
          0.07476211856250009,
          0.32798815670390036,
          -0.9908999331121211,
          -0.3651869892093611,
          -0.007334796306520177,
          0.6839228452193726,
          2.1371650254650323,
          0.6489511031859807,
          -0.0012767696323471123,
          0.278889171030196,
          -0.33165140572707336,
          -0.5680326867475078,
          -0.5415757221815488,
          -0.7935480405004463,
          2.0211246678010775,
          -0.8997668043881036,
          0.3324242707696821,
          0.026734950348676796,
          1.1922255118347185,
          -0.7697899008768124,
          0.44790487649560123,
          0.0939673325457032,
          2.1821417801637426,
          0.774139202896262,
          0.517067398756495,
          0.11010871823609361,
          -0.16470198410872866,
          0.49069038348064636,
          1.4607640667920616,
          0.20981002442152016,
          0.6103777309682441,
          -1.26145508089656,
          -0.13052525017463731,
          0.6092958179619178,
          2.016326021795919,
          1.1692372030554616,
          -0.7226676608429432,
          0.6311301714091945,
          0.27447197998064354,
          -0.22685920767083032,
          -0.3324216234957669,
          0.32721386514126644,
          0.33811135832490846,
          0.10292645064304927,
          1.0746877746327905,
          -0.6545233505727898,
          0.18354641835424212,
          0.18527408763830389,
          -0.38314438999148615,
          -0.6569472338029486,
          0.06183474638568763,
          1.5813137036549005,
          1.5835367596453647,
          1.4283287411040775,
          -2.0300800263880037,
          1.5790161429256748
         ],
         "yaxis": "y7"
        },
        {
         "line": {
          "color": "rgba(128, 128, 128, 1.0)",
          "dash": "solid",
          "shape": "linear",
          "width": 1.3
         },
         "marker": {
          "size": 2,
          "symbol": "circle"
         },
         "mode": "markers",
         "name": "B",
         "text": "",
         "type": "scatter",
         "x": [
          -0.4094127428579206,
          -0.21816781863242246,
          1.11448266416044,
          -0.1295544427424413,
          0.9226234272267713,
          -1.232597784007126,
          -2.3601243523486963,
          -0.32340141787187887,
          0.6731101043432102,
          0.785305169819162,
          0.27584025105219745,
          -0.11215689418312598,
          -0.20064416491791479,
          -0.0009059663933048694,
          1.4443434794407248,
          1.016528312061317,
          1.6641673730697764,
          0.04237359660649589,
          0.2233088195758519,
          1.3451104368623341,
          -1.4227103743188094,
          -0.015315517765536298,
          1.0901723323236299,
          0.4010443231955874,
          -0.1359114955903373,
          0.38956577638360607,
          1.7177436381783815,
          -0.8930249405238582,
          -0.4282164926175609,
          -1.8187788442944304,
          1.2682080452118343,
          0.12234140101068217,
          -0.8587475191336498,
          -1.5952743956320585,
          -0.13931033039380844,
          0.3842636293682735,
          1.2841775594688878,
          -0.7655395790179279,
          -0.6177598552260284,
          0.8062901352699203,
          -1.0399997923046052,
          -0.8664557866152551,
          -0.7897816866310353,
          0.050552240392427346,
          -0.2758437203732586,
          1.2920111325917742,
          0.28703816892970224,
          0.45988639739509185,
          -0.18131820133397009,
          -2.0977034044556135,
          1.227686719707167,
          0.4410357331332495,
          1.3952479105120492,
          -0.728864022524065,
          1.2863027684115462,
          0.39965171094439944,
          -0.13336291183844542,
          -0.29240394314362955,
          0.27221939341837165,
          -0.16578246600085056,
          0.09352322007013927,
          0.40109979187341505,
          -0.6597971338563279,
          -0.14011372429474933,
          1.6135575003426434,
          -1.5380265561895399,
          0.06210467572715678,
          -0.36647507655689215,
          -0.20050236092492363,
          1.102189603246003,
          1.1076625879119724,
          -0.6173356475896526,
          -1.0517705328368148,
          -1.3667935238181685,
          2.0123677414946957,
          0.41700942992506784,
          -0.2595000507564968,
          0.39618910311449435,
          1.6292195940830516,
          1.7212727478638084,
          -0.7317401825711949,
          -0.5913161776502358,
          0.9365095450762048,
          1.998958277374428,
          0.9459905865789764,
          0.7441567293415282,
          0.75163136873997,
          0.7633044070608969,
          -0.11419874779609812,
          1.1899648367953914,
          1.5021766800259608,
          1.092742915606824,
          -0.16727633369836986,
          -0.743141975707925,
          -1.1083816961888047,
          -0.2086596930734489,
          -0.21247015297495855,
          0.9066772485657766,
          0.17841663489329393,
          -1.198655616253056
         ],
         "xaxis": "x8",
         "y": [
          -0.040620682752938356,
          0.6425512540068671,
          0.14954889475613145,
          0.49045887473164235,
          -0.5827195860487148,
          -0.13496047818515644,
          -0.9893694661713424,
          0.07739330554695359,
          1.2774594950431841,
          0.9051893198035333,
          0.43346916701428506,
          -0.8306833793111323,
          -1.3092321307066412,
          1.4813037309002575,
          -0.34839072009165795,
          -2.5934705048348343,
          1.2081323105876758,
          -0.09907281821256546,
          0.9136907908933014,
          -0.12432182626363361,
          0.925676795487707,
          -0.09977335171951576,
          1.4892365866941903,
          -0.8429186160540141,
          -0.3025715984088873,
          0.2679478968963423,
          0.56905456426694,
          0.2941970762016016,
          1.3056771575832564,
          -1.7443669852439025,
          -0.28515992298943627,
          -0.5145847265601052,
          0.035708484457847633,
          1.627107409135958,
          0.5335426874062241,
          -1.3189437705400466,
          0.02713630906105749,
          -0.038583607971776374,
          -0.5859905137239353,
          -1.2177623765108856,
          0.4515652168570346,
          -0.965931380122257,
          0.23111129390548757,
          0.3898620573440986,
          0.07476211856250009,
          0.32798815670390036,
          -0.9908999331121211,
          -0.3651869892093611,
          -0.007334796306520177,
          0.6839228452193726,
          2.1371650254650323,
          0.6489511031859807,
          -0.0012767696323471123,
          0.278889171030196,
          -0.33165140572707336,
          -0.5680326867475078,
          -0.5415757221815488,
          -0.7935480405004463,
          2.0211246678010775,
          -0.8997668043881036,
          0.3324242707696821,
          0.026734950348676796,
          1.1922255118347185,
          -0.7697899008768124,
          0.44790487649560123,
          0.0939673325457032,
          2.1821417801637426,
          0.774139202896262,
          0.517067398756495,
          0.11010871823609361,
          -0.16470198410872866,
          0.49069038348064636,
          1.4607640667920616,
          0.20981002442152016,
          0.6103777309682441,
          -1.26145508089656,
          -0.13052525017463731,
          0.6092958179619178,
          2.016326021795919,
          1.1692372030554616,
          -0.7226676608429432,
          0.6311301714091945,
          0.27447197998064354,
          -0.22685920767083032,
          -0.3324216234957669,
          0.32721386514126644,
          0.33811135832490846,
          0.10292645064304927,
          1.0746877746327905,
          -0.6545233505727898,
          0.18354641835424212,
          0.18527408763830389,
          -0.38314438999148615,
          -0.6569472338029486,
          0.06183474638568763,
          1.5813137036549005,
          1.5835367596453647,
          1.4283287411040775,
          -2.0300800263880037,
          1.5790161429256748
         ],
         "yaxis": "y8"
        },
        {
         "line": {
          "color": "rgba(128, 128, 128, 1.0)",
          "dash": "solid",
          "shape": "linear",
          "width": 1.3
         },
         "marker": {
          "size": 2,
          "symbol": "circle"
         },
         "mode": "markers",
         "name": "C",
         "text": "",
         "type": "scatter",
         "x": [
          -0.8805112749273397,
          1.4546803047490493,
          0.45853165741418406,
          -0.3005759439371258,
          0.9424598261557191,
          0.19201853912783895,
          0.128732384353252,
          -1.1246631977459849,
          1.004559436801384,
          -0.019433001305279293,
          0.8743710434087673,
          1.266547392168914,
          -0.013290881499199495,
          1.2146231112105121,
          0.9026519074182962,
          -0.25852503161661794,
          0.06350722196103391,
          0.061319066665640985,
          0.6826923694271695,
          0.6571582828505825,
          -0.6394539760429969,
          -0.3873354829211536,
          -1.275992785163112,
          -0.9049553682456588,
          0.39140151388641575,
          -1.3261717503652508,
          -0.11176379848313447,
          0.12996215884278603,
          -0.4992525292514862,
          -0.3757696877819027,
          1.8950234573743023,
          -1.9806901072377638,
          -0.23372785694788464,
          -0.8724008970677714,
          -0.34295179012678584,
          0.5427956937168907,
          1.1566492382180327,
          1.3326192990291548,
          -3.338998968955712,
          -1.1091125681635465,
          -1.3795235178695933,
          -1.1995158314131806,
          1.8271736655576276,
          -1.6994936600219739,
          -1.6145550438467797,
          0.9643249901269011,
          0.18191869225186177,
          1.067698235546503,
          -2.1762174829824414,
          0.6125575233486188,
          0.36338752339594443,
          0.30630912374155744,
          0.10269690778525375,
          -0.23617787136845161,
          0.29204680294836505,
          -1.532545565777484,
          0.8019566260245036,
          0.008843763923224425,
          -0.42653027037276425,
          0.28462913192626726,
          0.33580872462837,
          0.09094416649994692,
          -2.105854750180177,
          -2.423062150710898,
          -0.6026419962151889,
          0.4283091936814125,
          -1.178494121002894,
          -0.5400337459898417,
          0.9880569653816528,
          -1.1816843048036256,
          0.08603326565887974,
          1.7909142535972238,
          1.2309346264188081,
          -1.8196369817643112,
          -0.42081030328553204,
          -1.5186485358520676,
          -0.35265366574837465,
          -0.045581613031547445,
          -0.20430067627555923,
          0.5409643956030542,
          -0.41286664820958746,
          0.3410783944367214,
          -0.05382582690926376,
          -1.7286105233045104,
          -3.3274176052282987,
          -0.31580923857082854,
          -0.0022477885108969434,
          -0.7399373198141854,
          -1.0496008215922419,
          -0.018198058774143547,
          0.009171190217878636,
          -0.4359682580386698,
          -1.004700100123502,
          -1.1230110350456142,
          2.1312832353333366,
          2.1284473689005625,
          0.7196357631601891,
          0.35387350270156964,
          -0.7575764541103952,
          0.05885429630124914
         ],
         "xaxis": "x9",
         "y": [
          -0.7373178581637543,
          1.2094282562187213,
          -0.8059119674331232,
          0.4876760751296238,
          -1.8064069520807258,
          -1.5737541884892818,
          0.1743789018229636,
          0.15281584239647017,
          2.244565344116197,
          1.0601479640163183,
          -0.5984122253086601,
          2.1435870040904086,
          0.6970531744694549,
          1.3759019920345859,
          1.8206631615829603,
          -0.028007465173700216,
          0.1428670677979271,
          -1.5979618363066557,
          0.5821058379949517,
          0.94386490701705,
          -1.2454178739856687,
          1.50661866559273,
          1.0869705895443469,
          1.6823727569828384,
          -0.8595273491126317,
          1.478320527760731,
          0.8162269049288953,
          0.5859220020319909,
          2.267898195446429,
          -0.35834491582002986,
          0.26598690520998214,
          -0.41533934704953945,
          1.2314433022629834,
          0.5600347720230504,
          0.40871590238812405,
          1.404608521107051,
          -0.0878461613244193,
          -0.7475328524313366,
          2.385831356221766,
          -0.15890511866981596,
          2.117139343156385,
          0.5961751395270899,
          -2.593387530688035,
          -0.26591322917759513,
          -0.39401309986313693,
          -0.22155029660222936,
          0.3695871934149242,
          0.5438226827080714,
          0.8599277357293486,
          0.8539903451802754,
          1.2456261673231157,
          -0.14294118703247036,
          -0.65164181039537,
          0.3000145649784694,
          -1.4459222155878377,
          -2.181327130251743,
          -1.5203395854167638,
          1.0370276033763146,
          0.8191918541369059,
          -0.24053659828283894,
          0.11868536157701531,
          1.8226415967280403,
          0.5221077987448178,
          -0.19584582131634867,
          0.578095034317103,
          -0.8456010765416432,
          -0.8475567682328727,
          0.6603753282845514,
          0.31592619336185124,
          0.39206835973372584,
          1.1417750462546776,
          -0.399904498048505,
          -1.1319856826194006,
          1.7886764693375763,
          0.642866245399601,
          -2.179668933455267,
          -0.9643433675465127,
          0.3212202032512991,
          0.050336948173034655,
          0.7662372734627357,
          0.25476345377570786,
          -0.14591352118157488,
          0.5914620862330049,
          1.1976005872437367,
          1.5745749474886952,
          -0.2967696059816843,
          -0.44343486877246796,
          0.94860467672076,
          0.9419019770815412,
          0.9713735465843496,
          -0.327698313732574,
          0.1493764488971369,
          -0.5461573419394765,
          -1.0342933267727203,
          -1.065861676081342,
          2.1819785360128434,
          -1.3487349594611897,
          -4.135527763244468,
          -0.1379146235635607,
          -2.2116708575521553
         ],
         "yaxis": "y9"
        },
        {
         "line": {
          "color": "rgba(128, 128, 128, 1.0)",
          "dash": "solid",
          "shape": "linear",
          "width": 1.3
         },
         "marker": {
          "size": 2,
          "symbol": "circle"
         },
         "mode": "markers",
         "name": "C",
         "text": "",
         "type": "scatter",
         "x": [
          -0.040620682752938356,
          0.6425512540068671,
          0.14954889475613145,
          0.49045887473164235,
          -0.5827195860487148,
          -0.13496047818515644,
          -0.9893694661713424,
          0.07739330554695359,
          1.2774594950431841,
          0.9051893198035333,
          0.43346916701428506,
          -0.8306833793111323,
          -1.3092321307066412,
          1.4813037309002575,
          -0.34839072009165795,
          -2.5934705048348343,
          1.2081323105876758,
          -0.09907281821256546,
          0.9136907908933014,
          -0.12432182626363361,
          0.925676795487707,
          -0.09977335171951576,
          1.4892365866941903,
          -0.8429186160540141,
          -0.3025715984088873,
          0.2679478968963423,
          0.56905456426694,
          0.2941970762016016,
          1.3056771575832564,
          -1.7443669852439025,
          -0.28515992298943627,
          -0.5145847265601052,
          0.035708484457847633,
          1.627107409135958,
          0.5335426874062241,
          -1.3189437705400466,
          0.02713630906105749,
          -0.038583607971776374,
          -0.5859905137239353,
          -1.2177623765108856,
          0.4515652168570346,
          -0.965931380122257,
          0.23111129390548757,
          0.3898620573440986,
          0.07476211856250009,
          0.32798815670390036,
          -0.9908999331121211,
          -0.3651869892093611,
          -0.007334796306520177,
          0.6839228452193726,
          2.1371650254650323,
          0.6489511031859807,
          -0.0012767696323471123,
          0.278889171030196,
          -0.33165140572707336,
          -0.5680326867475078,
          -0.5415757221815488,
          -0.7935480405004463,
          2.0211246678010775,
          -0.8997668043881036,
          0.3324242707696821,
          0.026734950348676796,
          1.1922255118347185,
          -0.7697899008768124,
          0.44790487649560123,
          0.0939673325457032,
          2.1821417801637426,
          0.774139202896262,
          0.517067398756495,
          0.11010871823609361,
          -0.16470198410872866,
          0.49069038348064636,
          1.4607640667920616,
          0.20981002442152016,
          0.6103777309682441,
          -1.26145508089656,
          -0.13052525017463731,
          0.6092958179619178,
          2.016326021795919,
          1.1692372030554616,
          -0.7226676608429432,
          0.6311301714091945,
          0.27447197998064354,
          -0.22685920767083032,
          -0.3324216234957669,
          0.32721386514126644,
          0.33811135832490846,
          0.10292645064304927,
          1.0746877746327905,
          -0.6545233505727898,
          0.18354641835424212,
          0.18527408763830389,
          -0.38314438999148615,
          -0.6569472338029486,
          0.06183474638568763,
          1.5813137036549005,
          1.5835367596453647,
          1.4283287411040775,
          -2.0300800263880037,
          1.5790161429256748
         ],
         "xaxis": "x10",
         "y": [
          -0.7373178581637543,
          1.2094282562187213,
          -0.8059119674331232,
          0.4876760751296238,
          -1.8064069520807258,
          -1.5737541884892818,
          0.1743789018229636,
          0.15281584239647017,
          2.244565344116197,
          1.0601479640163183,
          -0.5984122253086601,
          2.1435870040904086,
          0.6970531744694549,
          1.3759019920345859,
          1.8206631615829603,
          -0.028007465173700216,
          0.1428670677979271,
          -1.5979618363066557,
          0.5821058379949517,
          0.94386490701705,
          -1.2454178739856687,
          1.50661866559273,
          1.0869705895443469,
          1.6823727569828384,
          -0.8595273491126317,
          1.478320527760731,
          0.8162269049288953,
          0.5859220020319909,
          2.267898195446429,
          -0.35834491582002986,
          0.26598690520998214,
          -0.41533934704953945,
          1.2314433022629834,
          0.5600347720230504,
          0.40871590238812405,
          1.404608521107051,
          -0.0878461613244193,
          -0.7475328524313366,
          2.385831356221766,
          -0.15890511866981596,
          2.117139343156385,
          0.5961751395270899,
          -2.593387530688035,
          -0.26591322917759513,
          -0.39401309986313693,
          -0.22155029660222936,
          0.3695871934149242,
          0.5438226827080714,
          0.8599277357293486,
          0.8539903451802754,
          1.2456261673231157,
          -0.14294118703247036,
          -0.65164181039537,
          0.3000145649784694,
          -1.4459222155878377,
          -2.181327130251743,
          -1.5203395854167638,
          1.0370276033763146,
          0.8191918541369059,
          -0.24053659828283894,
          0.11868536157701531,
          1.8226415967280403,
          0.5221077987448178,
          -0.19584582131634867,
          0.578095034317103,
          -0.8456010765416432,
          -0.8475567682328727,
          0.6603753282845514,
          0.31592619336185124,
          0.39206835973372584,
          1.1417750462546776,
          -0.399904498048505,
          -1.1319856826194006,
          1.7886764693375763,
          0.642866245399601,
          -2.179668933455267,
          -0.9643433675465127,
          0.3212202032512991,
          0.050336948173034655,
          0.7662372734627357,
          0.25476345377570786,
          -0.14591352118157488,
          0.5914620862330049,
          1.1976005872437367,
          1.5745749474886952,
          -0.2967696059816843,
          -0.44343486877246796,
          0.94860467672076,
          0.9419019770815412,
          0.9713735465843496,
          -0.327698313732574,
          0.1493764488971369,
          -0.5461573419394765,
          -1.0342933267727203,
          -1.065861676081342,
          2.1819785360128434,
          -1.3487349594611897,
          -4.135527763244468,
          -0.1379146235635607,
          -2.2116708575521553
         ],
         "yaxis": "y10"
        },
        {
         "histfunc": "count",
         "histnorm": "",
         "marker": {
          "color": "rgba(50, 171, 96, 1.0)",
          "line": {
           "color": "#4D5663",
           "width": 1.3
          }
         },
         "name": "C",
         "nbinsx": 10,
         "opacity": 0.8,
         "orientation": "v",
         "type": "histogram",
         "x": [
          -0.7373178581637543,
          1.2094282562187213,
          -0.8059119674331232,
          0.4876760751296238,
          -1.8064069520807258,
          -1.5737541884892818,
          0.1743789018229636,
          0.15281584239647017,
          2.244565344116197,
          1.0601479640163183,
          -0.5984122253086601,
          2.1435870040904086,
          0.6970531744694549,
          1.3759019920345859,
          1.8206631615829603,
          -0.028007465173700216,
          0.1428670677979271,
          -1.5979618363066557,
          0.5821058379949517,
          0.94386490701705,
          -1.2454178739856687,
          1.50661866559273,
          1.0869705895443469,
          1.6823727569828384,
          -0.8595273491126317,
          1.478320527760731,
          0.8162269049288953,
          0.5859220020319909,
          2.267898195446429,
          -0.35834491582002986,
          0.26598690520998214,
          -0.41533934704953945,
          1.2314433022629834,
          0.5600347720230504,
          0.40871590238812405,
          1.404608521107051,
          -0.0878461613244193,
          -0.7475328524313366,
          2.385831356221766,
          -0.15890511866981596,
          2.117139343156385,
          0.5961751395270899,
          -2.593387530688035,
          -0.26591322917759513,
          -0.39401309986313693,
          -0.22155029660222936,
          0.3695871934149242,
          0.5438226827080714,
          0.8599277357293486,
          0.8539903451802754,
          1.2456261673231157,
          -0.14294118703247036,
          -0.65164181039537,
          0.3000145649784694,
          -1.4459222155878377,
          -2.181327130251743,
          -1.5203395854167638,
          1.0370276033763146,
          0.8191918541369059,
          -0.24053659828283894,
          0.11868536157701531,
          1.8226415967280403,
          0.5221077987448178,
          -0.19584582131634867,
          0.578095034317103,
          -0.8456010765416432,
          -0.8475567682328727,
          0.6603753282845514,
          0.31592619336185124,
          0.39206835973372584,
          1.1417750462546776,
          -0.399904498048505,
          -1.1319856826194006,
          1.7886764693375763,
          0.642866245399601,
          -2.179668933455267,
          -0.9643433675465127,
          0.3212202032512991,
          0.050336948173034655,
          0.7662372734627357,
          0.25476345377570786,
          -0.14591352118157488,
          0.5914620862330049,
          1.1976005872437367,
          1.5745749474886952,
          -0.2967696059816843,
          -0.44343486877246796,
          0.94860467672076,
          0.9419019770815412,
          0.9713735465843496,
          -0.327698313732574,
          0.1493764488971369,
          -0.5461573419394765,
          -1.0342933267727203,
          -1.065861676081342,
          2.1819785360128434,
          -1.3487349594611897,
          -4.135527763244468,
          -0.1379146235635607,
          -2.2116708575521553
         ],
         "xaxis": "x11",
         "yaxis": "y11"
        },
        {
         "line": {
          "color": "rgba(128, 128, 128, 1.0)",
          "dash": "solid",
          "shape": "linear",
          "width": 1.3
         },
         "marker": {
          "size": 2,
          "symbol": "circle"
         },
         "mode": "markers",
         "name": "C",
         "text": "",
         "type": "scatter",
         "x": [
          -0.4094127428579206,
          -0.21816781863242246,
          1.11448266416044,
          -0.1295544427424413,
          0.9226234272267713,
          -1.232597784007126,
          -2.3601243523486963,
          -0.32340141787187887,
          0.6731101043432102,
          0.785305169819162,
          0.27584025105219745,
          -0.11215689418312598,
          -0.20064416491791479,
          -0.0009059663933048694,
          1.4443434794407248,
          1.016528312061317,
          1.6641673730697764,
          0.04237359660649589,
          0.2233088195758519,
          1.3451104368623341,
          -1.4227103743188094,
          -0.015315517765536298,
          1.0901723323236299,
          0.4010443231955874,
          -0.1359114955903373,
          0.38956577638360607,
          1.7177436381783815,
          -0.8930249405238582,
          -0.4282164926175609,
          -1.8187788442944304,
          1.2682080452118343,
          0.12234140101068217,
          -0.8587475191336498,
          -1.5952743956320585,
          -0.13931033039380844,
          0.3842636293682735,
          1.2841775594688878,
          -0.7655395790179279,
          -0.6177598552260284,
          0.8062901352699203,
          -1.0399997923046052,
          -0.8664557866152551,
          -0.7897816866310353,
          0.050552240392427346,
          -0.2758437203732586,
          1.2920111325917742,
          0.28703816892970224,
          0.45988639739509185,
          -0.18131820133397009,
          -2.0977034044556135,
          1.227686719707167,
          0.4410357331332495,
          1.3952479105120492,
          -0.728864022524065,
          1.2863027684115462,
          0.39965171094439944,
          -0.13336291183844542,
          -0.29240394314362955,
          0.27221939341837165,
          -0.16578246600085056,
          0.09352322007013927,
          0.40109979187341505,
          -0.6597971338563279,
          -0.14011372429474933,
          1.6135575003426434,
          -1.5380265561895399,
          0.06210467572715678,
          -0.36647507655689215,
          -0.20050236092492363,
          1.102189603246003,
          1.1076625879119724,
          -0.6173356475896526,
          -1.0517705328368148,
          -1.3667935238181685,
          2.0123677414946957,
          0.41700942992506784,
          -0.2595000507564968,
          0.39618910311449435,
          1.6292195940830516,
          1.7212727478638084,
          -0.7317401825711949,
          -0.5913161776502358,
          0.9365095450762048,
          1.998958277374428,
          0.9459905865789764,
          0.7441567293415282,
          0.75163136873997,
          0.7633044070608969,
          -0.11419874779609812,
          1.1899648367953914,
          1.5021766800259608,
          1.092742915606824,
          -0.16727633369836986,
          -0.743141975707925,
          -1.1083816961888047,
          -0.2086596930734489,
          -0.21247015297495855,
          0.9066772485657766,
          0.17841663489329393,
          -1.198655616253056
         ],
         "xaxis": "x12",
         "y": [
          -0.7373178581637543,
          1.2094282562187213,
          -0.8059119674331232,
          0.4876760751296238,
          -1.8064069520807258,
          -1.5737541884892818,
          0.1743789018229636,
          0.15281584239647017,
          2.244565344116197,
          1.0601479640163183,
          -0.5984122253086601,
          2.1435870040904086,
          0.6970531744694549,
          1.3759019920345859,
          1.8206631615829603,
          -0.028007465173700216,
          0.1428670677979271,
          -1.5979618363066557,
          0.5821058379949517,
          0.94386490701705,
          -1.2454178739856687,
          1.50661866559273,
          1.0869705895443469,
          1.6823727569828384,
          -0.8595273491126317,
          1.478320527760731,
          0.8162269049288953,
          0.5859220020319909,
          2.267898195446429,
          -0.35834491582002986,
          0.26598690520998214,
          -0.41533934704953945,
          1.2314433022629834,
          0.5600347720230504,
          0.40871590238812405,
          1.404608521107051,
          -0.0878461613244193,
          -0.7475328524313366,
          2.385831356221766,
          -0.15890511866981596,
          2.117139343156385,
          0.5961751395270899,
          -2.593387530688035,
          -0.26591322917759513,
          -0.39401309986313693,
          -0.22155029660222936,
          0.3695871934149242,
          0.5438226827080714,
          0.8599277357293486,
          0.8539903451802754,
          1.2456261673231157,
          -0.14294118703247036,
          -0.65164181039537,
          0.3000145649784694,
          -1.4459222155878377,
          -2.181327130251743,
          -1.5203395854167638,
          1.0370276033763146,
          0.8191918541369059,
          -0.24053659828283894,
          0.11868536157701531,
          1.8226415967280403,
          0.5221077987448178,
          -0.19584582131634867,
          0.578095034317103,
          -0.8456010765416432,
          -0.8475567682328727,
          0.6603753282845514,
          0.31592619336185124,
          0.39206835973372584,
          1.1417750462546776,
          -0.399904498048505,
          -1.1319856826194006,
          1.7886764693375763,
          0.642866245399601,
          -2.179668933455267,
          -0.9643433675465127,
          0.3212202032512991,
          0.050336948173034655,
          0.7662372734627357,
          0.25476345377570786,
          -0.14591352118157488,
          0.5914620862330049,
          1.1976005872437367,
          1.5745749474886952,
          -0.2967696059816843,
          -0.44343486877246796,
          0.94860467672076,
          0.9419019770815412,
          0.9713735465843496,
          -0.327698313732574,
          0.1493764488971369,
          -0.5461573419394765,
          -1.0342933267727203,
          -1.065861676081342,
          2.1819785360128434,
          -1.3487349594611897,
          -4.135527763244468,
          -0.1379146235635607,
          -2.2116708575521553
         ],
         "yaxis": "y12"
        },
        {
         "line": {
          "color": "rgba(128, 128, 128, 1.0)",
          "dash": "solid",
          "shape": "linear",
          "width": 1.3
         },
         "marker": {
          "size": 2,
          "symbol": "circle"
         },
         "mode": "markers",
         "name": "D",
         "text": "",
         "type": "scatter",
         "x": [
          -0.8805112749273397,
          1.4546803047490493,
          0.45853165741418406,
          -0.3005759439371258,
          0.9424598261557191,
          0.19201853912783895,
          0.128732384353252,
          -1.1246631977459849,
          1.004559436801384,
          -0.019433001305279293,
          0.8743710434087673,
          1.266547392168914,
          -0.013290881499199495,
          1.2146231112105121,
          0.9026519074182962,
          -0.25852503161661794,
          0.06350722196103391,
          0.061319066665640985,
          0.6826923694271695,
          0.6571582828505825,
          -0.6394539760429969,
          -0.3873354829211536,
          -1.275992785163112,
          -0.9049553682456588,
          0.39140151388641575,
          -1.3261717503652508,
          -0.11176379848313447,
          0.12996215884278603,
          -0.4992525292514862,
          -0.3757696877819027,
          1.8950234573743023,
          -1.9806901072377638,
          -0.23372785694788464,
          -0.8724008970677714,
          -0.34295179012678584,
          0.5427956937168907,
          1.1566492382180327,
          1.3326192990291548,
          -3.338998968955712,
          -1.1091125681635465,
          -1.3795235178695933,
          -1.1995158314131806,
          1.8271736655576276,
          -1.6994936600219739,
          -1.6145550438467797,
          0.9643249901269011,
          0.18191869225186177,
          1.067698235546503,
          -2.1762174829824414,
          0.6125575233486188,
          0.36338752339594443,
          0.30630912374155744,
          0.10269690778525375,
          -0.23617787136845161,
          0.29204680294836505,
          -1.532545565777484,
          0.8019566260245036,
          0.008843763923224425,
          -0.42653027037276425,
          0.28462913192626726,
          0.33580872462837,
          0.09094416649994692,
          -2.105854750180177,
          -2.423062150710898,
          -0.6026419962151889,
          0.4283091936814125,
          -1.178494121002894,
          -0.5400337459898417,
          0.9880569653816528,
          -1.1816843048036256,
          0.08603326565887974,
          1.7909142535972238,
          1.2309346264188081,
          -1.8196369817643112,
          -0.42081030328553204,
          -1.5186485358520676,
          -0.35265366574837465,
          -0.045581613031547445,
          -0.20430067627555923,
          0.5409643956030542,
          -0.41286664820958746,
          0.3410783944367214,
          -0.05382582690926376,
          -1.7286105233045104,
          -3.3274176052282987,
          -0.31580923857082854,
          -0.0022477885108969434,
          -0.7399373198141854,
          -1.0496008215922419,
          -0.018198058774143547,
          0.009171190217878636,
          -0.4359682580386698,
          -1.004700100123502,
          -1.1230110350456142,
          2.1312832353333366,
          2.1284473689005625,
          0.7196357631601891,
          0.35387350270156964,
          -0.7575764541103952,
          0.05885429630124914
         ],
         "xaxis": "x13",
         "y": [
          -0.4094127428579206,
          -0.21816781863242246,
          1.11448266416044,
          -0.1295544427424413,
          0.9226234272267713,
          -1.232597784007126,
          -2.3601243523486963,
          -0.32340141787187887,
          0.6731101043432102,
          0.785305169819162,
          0.27584025105219745,
          -0.11215689418312598,
          -0.20064416491791479,
          -0.0009059663933048694,
          1.4443434794407248,
          1.016528312061317,
          1.6641673730697764,
          0.04237359660649589,
          0.2233088195758519,
          1.3451104368623341,
          -1.4227103743188094,
          -0.015315517765536298,
          1.0901723323236299,
          0.4010443231955874,
          -0.1359114955903373,
          0.38956577638360607,
          1.7177436381783815,
          -0.8930249405238582,
          -0.4282164926175609,
          -1.8187788442944304,
          1.2682080452118343,
          0.12234140101068217,
          -0.8587475191336498,
          -1.5952743956320585,
          -0.13931033039380844,
          0.3842636293682735,
          1.2841775594688878,
          -0.7655395790179279,
          -0.6177598552260284,
          0.8062901352699203,
          -1.0399997923046052,
          -0.8664557866152551,
          -0.7897816866310353,
          0.050552240392427346,
          -0.2758437203732586,
          1.2920111325917742,
          0.28703816892970224,
          0.45988639739509185,
          -0.18131820133397009,
          -2.0977034044556135,
          1.227686719707167,
          0.4410357331332495,
          1.3952479105120492,
          -0.728864022524065,
          1.2863027684115462,
          0.39965171094439944,
          -0.13336291183844542,
          -0.29240394314362955,
          0.27221939341837165,
          -0.16578246600085056,
          0.09352322007013927,
          0.40109979187341505,
          -0.6597971338563279,
          -0.14011372429474933,
          1.6135575003426434,
          -1.5380265561895399,
          0.06210467572715678,
          -0.36647507655689215,
          -0.20050236092492363,
          1.102189603246003,
          1.1076625879119724,
          -0.6173356475896526,
          -1.0517705328368148,
          -1.3667935238181685,
          2.0123677414946957,
          0.41700942992506784,
          -0.2595000507564968,
          0.39618910311449435,
          1.6292195940830516,
          1.7212727478638084,
          -0.7317401825711949,
          -0.5913161776502358,
          0.9365095450762048,
          1.998958277374428,
          0.9459905865789764,
          0.7441567293415282,
          0.75163136873997,
          0.7633044070608969,
          -0.11419874779609812,
          1.1899648367953914,
          1.5021766800259608,
          1.092742915606824,
          -0.16727633369836986,
          -0.743141975707925,
          -1.1083816961888047,
          -0.2086596930734489,
          -0.21247015297495855,
          0.9066772485657766,
          0.17841663489329393,
          -1.198655616253056
         ],
         "yaxis": "y13"
        },
        {
         "line": {
          "color": "rgba(128, 128, 128, 1.0)",
          "dash": "solid",
          "shape": "linear",
          "width": 1.3
         },
         "marker": {
          "size": 2,
          "symbol": "circle"
         },
         "mode": "markers",
         "name": "D",
         "text": "",
         "type": "scatter",
         "x": [
          -0.040620682752938356,
          0.6425512540068671,
          0.14954889475613145,
          0.49045887473164235,
          -0.5827195860487148,
          -0.13496047818515644,
          -0.9893694661713424,
          0.07739330554695359,
          1.2774594950431841,
          0.9051893198035333,
          0.43346916701428506,
          -0.8306833793111323,
          -1.3092321307066412,
          1.4813037309002575,
          -0.34839072009165795,
          -2.5934705048348343,
          1.2081323105876758,
          -0.09907281821256546,
          0.9136907908933014,
          -0.12432182626363361,
          0.925676795487707,
          -0.09977335171951576,
          1.4892365866941903,
          -0.8429186160540141,
          -0.3025715984088873,
          0.2679478968963423,
          0.56905456426694,
          0.2941970762016016,
          1.3056771575832564,
          -1.7443669852439025,
          -0.28515992298943627,
          -0.5145847265601052,
          0.035708484457847633,
          1.627107409135958,
          0.5335426874062241,
          -1.3189437705400466,
          0.02713630906105749,
          -0.038583607971776374,
          -0.5859905137239353,
          -1.2177623765108856,
          0.4515652168570346,
          -0.965931380122257,
          0.23111129390548757,
          0.3898620573440986,
          0.07476211856250009,
          0.32798815670390036,
          -0.9908999331121211,
          -0.3651869892093611,
          -0.007334796306520177,
          0.6839228452193726,
          2.1371650254650323,
          0.6489511031859807,
          -0.0012767696323471123,
          0.278889171030196,
          -0.33165140572707336,
          -0.5680326867475078,
          -0.5415757221815488,
          -0.7935480405004463,
          2.0211246678010775,
          -0.8997668043881036,
          0.3324242707696821,
          0.026734950348676796,
          1.1922255118347185,
          -0.7697899008768124,
          0.44790487649560123,
          0.0939673325457032,
          2.1821417801637426,
          0.774139202896262,
          0.517067398756495,
          0.11010871823609361,
          -0.16470198410872866,
          0.49069038348064636,
          1.4607640667920616,
          0.20981002442152016,
          0.6103777309682441,
          -1.26145508089656,
          -0.13052525017463731,
          0.6092958179619178,
          2.016326021795919,
          1.1692372030554616,
          -0.7226676608429432,
          0.6311301714091945,
          0.27447197998064354,
          -0.22685920767083032,
          -0.3324216234957669,
          0.32721386514126644,
          0.33811135832490846,
          0.10292645064304927,
          1.0746877746327905,
          -0.6545233505727898,
          0.18354641835424212,
          0.18527408763830389,
          -0.38314438999148615,
          -0.6569472338029486,
          0.06183474638568763,
          1.5813137036549005,
          1.5835367596453647,
          1.4283287411040775,
          -2.0300800263880037,
          1.5790161429256748
         ],
         "xaxis": "x14",
         "y": [
          -0.4094127428579206,
          -0.21816781863242246,
          1.11448266416044,
          -0.1295544427424413,
          0.9226234272267713,
          -1.232597784007126,
          -2.3601243523486963,
          -0.32340141787187887,
          0.6731101043432102,
          0.785305169819162,
          0.27584025105219745,
          -0.11215689418312598,
          -0.20064416491791479,
          -0.0009059663933048694,
          1.4443434794407248,
          1.016528312061317,
          1.6641673730697764,
          0.04237359660649589,
          0.2233088195758519,
          1.3451104368623341,
          -1.4227103743188094,
          -0.015315517765536298,
          1.0901723323236299,
          0.4010443231955874,
          -0.1359114955903373,
          0.38956577638360607,
          1.7177436381783815,
          -0.8930249405238582,
          -0.4282164926175609,
          -1.8187788442944304,
          1.2682080452118343,
          0.12234140101068217,
          -0.8587475191336498,
          -1.5952743956320585,
          -0.13931033039380844,
          0.3842636293682735,
          1.2841775594688878,
          -0.7655395790179279,
          -0.6177598552260284,
          0.8062901352699203,
          -1.0399997923046052,
          -0.8664557866152551,
          -0.7897816866310353,
          0.050552240392427346,
          -0.2758437203732586,
          1.2920111325917742,
          0.28703816892970224,
          0.45988639739509185,
          -0.18131820133397009,
          -2.0977034044556135,
          1.227686719707167,
          0.4410357331332495,
          1.3952479105120492,
          -0.728864022524065,
          1.2863027684115462,
          0.39965171094439944,
          -0.13336291183844542,
          -0.29240394314362955,
          0.27221939341837165,
          -0.16578246600085056,
          0.09352322007013927,
          0.40109979187341505,
          -0.6597971338563279,
          -0.14011372429474933,
          1.6135575003426434,
          -1.5380265561895399,
          0.06210467572715678,
          -0.36647507655689215,
          -0.20050236092492363,
          1.102189603246003,
          1.1076625879119724,
          -0.6173356475896526,
          -1.0517705328368148,
          -1.3667935238181685,
          2.0123677414946957,
          0.41700942992506784,
          -0.2595000507564968,
          0.39618910311449435,
          1.6292195940830516,
          1.7212727478638084,
          -0.7317401825711949,
          -0.5913161776502358,
          0.9365095450762048,
          1.998958277374428,
          0.9459905865789764,
          0.7441567293415282,
          0.75163136873997,
          0.7633044070608969,
          -0.11419874779609812,
          1.1899648367953914,
          1.5021766800259608,
          1.092742915606824,
          -0.16727633369836986,
          -0.743141975707925,
          -1.1083816961888047,
          -0.2086596930734489,
          -0.21247015297495855,
          0.9066772485657766,
          0.17841663489329393,
          -1.198655616253056
         ],
         "yaxis": "y14"
        },
        {
         "line": {
          "color": "rgba(128, 128, 128, 1.0)",
          "dash": "solid",
          "shape": "linear",
          "width": 1.3
         },
         "marker": {
          "size": 2,
          "symbol": "circle"
         },
         "mode": "markers",
         "name": "D",
         "text": "",
         "type": "scatter",
         "x": [
          -0.7373178581637543,
          1.2094282562187213,
          -0.8059119674331232,
          0.4876760751296238,
          -1.8064069520807258,
          -1.5737541884892818,
          0.1743789018229636,
          0.15281584239647017,
          2.244565344116197,
          1.0601479640163183,
          -0.5984122253086601,
          2.1435870040904086,
          0.6970531744694549,
          1.3759019920345859,
          1.8206631615829603,
          -0.028007465173700216,
          0.1428670677979271,
          -1.5979618363066557,
          0.5821058379949517,
          0.94386490701705,
          -1.2454178739856687,
          1.50661866559273,
          1.0869705895443469,
          1.6823727569828384,
          -0.8595273491126317,
          1.478320527760731,
          0.8162269049288953,
          0.5859220020319909,
          2.267898195446429,
          -0.35834491582002986,
          0.26598690520998214,
          -0.41533934704953945,
          1.2314433022629834,
          0.5600347720230504,
          0.40871590238812405,
          1.404608521107051,
          -0.0878461613244193,
          -0.7475328524313366,
          2.385831356221766,
          -0.15890511866981596,
          2.117139343156385,
          0.5961751395270899,
          -2.593387530688035,
          -0.26591322917759513,
          -0.39401309986313693,
          -0.22155029660222936,
          0.3695871934149242,
          0.5438226827080714,
          0.8599277357293486,
          0.8539903451802754,
          1.2456261673231157,
          -0.14294118703247036,
          -0.65164181039537,
          0.3000145649784694,
          -1.4459222155878377,
          -2.181327130251743,
          -1.5203395854167638,
          1.0370276033763146,
          0.8191918541369059,
          -0.24053659828283894,
          0.11868536157701531,
          1.8226415967280403,
          0.5221077987448178,
          -0.19584582131634867,
          0.578095034317103,
          -0.8456010765416432,
          -0.8475567682328727,
          0.6603753282845514,
          0.31592619336185124,
          0.39206835973372584,
          1.1417750462546776,
          -0.399904498048505,
          -1.1319856826194006,
          1.7886764693375763,
          0.642866245399601,
          -2.179668933455267,
          -0.9643433675465127,
          0.3212202032512991,
          0.050336948173034655,
          0.7662372734627357,
          0.25476345377570786,
          -0.14591352118157488,
          0.5914620862330049,
          1.1976005872437367,
          1.5745749474886952,
          -0.2967696059816843,
          -0.44343486877246796,
          0.94860467672076,
          0.9419019770815412,
          0.9713735465843496,
          -0.327698313732574,
          0.1493764488971369,
          -0.5461573419394765,
          -1.0342933267727203,
          -1.065861676081342,
          2.1819785360128434,
          -1.3487349594611897,
          -4.135527763244468,
          -0.1379146235635607,
          -2.2116708575521553
         ],
         "xaxis": "x15",
         "y": [
          -0.4094127428579206,
          -0.21816781863242246,
          1.11448266416044,
          -0.1295544427424413,
          0.9226234272267713,
          -1.232597784007126,
          -2.3601243523486963,
          -0.32340141787187887,
          0.6731101043432102,
          0.785305169819162,
          0.27584025105219745,
          -0.11215689418312598,
          -0.20064416491791479,
          -0.0009059663933048694,
          1.4443434794407248,
          1.016528312061317,
          1.6641673730697764,
          0.04237359660649589,
          0.2233088195758519,
          1.3451104368623341,
          -1.4227103743188094,
          -0.015315517765536298,
          1.0901723323236299,
          0.4010443231955874,
          -0.1359114955903373,
          0.38956577638360607,
          1.7177436381783815,
          -0.8930249405238582,
          -0.4282164926175609,
          -1.8187788442944304,
          1.2682080452118343,
          0.12234140101068217,
          -0.8587475191336498,
          -1.5952743956320585,
          -0.13931033039380844,
          0.3842636293682735,
          1.2841775594688878,
          -0.7655395790179279,
          -0.6177598552260284,
          0.8062901352699203,
          -1.0399997923046052,
          -0.8664557866152551,
          -0.7897816866310353,
          0.050552240392427346,
          -0.2758437203732586,
          1.2920111325917742,
          0.28703816892970224,
          0.45988639739509185,
          -0.18131820133397009,
          -2.0977034044556135,
          1.227686719707167,
          0.4410357331332495,
          1.3952479105120492,
          -0.728864022524065,
          1.2863027684115462,
          0.39965171094439944,
          -0.13336291183844542,
          -0.29240394314362955,
          0.27221939341837165,
          -0.16578246600085056,
          0.09352322007013927,
          0.40109979187341505,
          -0.6597971338563279,
          -0.14011372429474933,
          1.6135575003426434,
          -1.5380265561895399,
          0.06210467572715678,
          -0.36647507655689215,
          -0.20050236092492363,
          1.102189603246003,
          1.1076625879119724,
          -0.6173356475896526,
          -1.0517705328368148,
          -1.3667935238181685,
          2.0123677414946957,
          0.41700942992506784,
          -0.2595000507564968,
          0.39618910311449435,
          1.6292195940830516,
          1.7212727478638084,
          -0.7317401825711949,
          -0.5913161776502358,
          0.9365095450762048,
          1.998958277374428,
          0.9459905865789764,
          0.7441567293415282,
          0.75163136873997,
          0.7633044070608969,
          -0.11419874779609812,
          1.1899648367953914,
          1.5021766800259608,
          1.092742915606824,
          -0.16727633369836986,
          -0.743141975707925,
          -1.1083816961888047,
          -0.2086596930734489,
          -0.21247015297495855,
          0.9066772485657766,
          0.17841663489329393,
          -1.198655616253056
         ],
         "yaxis": "y15"
        },
        {
         "histfunc": "count",
         "histnorm": "",
         "marker": {
          "color": "rgba(128, 0, 128, 1.0)",
          "line": {
           "color": "#4D5663",
           "width": 1.3
          }
         },
         "name": "D",
         "nbinsx": 10,
         "opacity": 0.8,
         "orientation": "v",
         "type": "histogram",
         "x": [
          -0.4094127428579206,
          -0.21816781863242246,
          1.11448266416044,
          -0.1295544427424413,
          0.9226234272267713,
          -1.232597784007126,
          -2.3601243523486963,
          -0.32340141787187887,
          0.6731101043432102,
          0.785305169819162,
          0.27584025105219745,
          -0.11215689418312598,
          -0.20064416491791479,
          -0.0009059663933048694,
          1.4443434794407248,
          1.016528312061317,
          1.6641673730697764,
          0.04237359660649589,
          0.2233088195758519,
          1.3451104368623341,
          -1.4227103743188094,
          -0.015315517765536298,
          1.0901723323236299,
          0.4010443231955874,
          -0.1359114955903373,
          0.38956577638360607,
          1.7177436381783815,
          -0.8930249405238582,
          -0.4282164926175609,
          -1.8187788442944304,
          1.2682080452118343,
          0.12234140101068217,
          -0.8587475191336498,
          -1.5952743956320585,
          -0.13931033039380844,
          0.3842636293682735,
          1.2841775594688878,
          -0.7655395790179279,
          -0.6177598552260284,
          0.8062901352699203,
          -1.0399997923046052,
          -0.8664557866152551,
          -0.7897816866310353,
          0.050552240392427346,
          -0.2758437203732586,
          1.2920111325917742,
          0.28703816892970224,
          0.45988639739509185,
          -0.18131820133397009,
          -2.0977034044556135,
          1.227686719707167,
          0.4410357331332495,
          1.3952479105120492,
          -0.728864022524065,
          1.2863027684115462,
          0.39965171094439944,
          -0.13336291183844542,
          -0.29240394314362955,
          0.27221939341837165,
          -0.16578246600085056,
          0.09352322007013927,
          0.40109979187341505,
          -0.6597971338563279,
          -0.14011372429474933,
          1.6135575003426434,
          -1.5380265561895399,
          0.06210467572715678,
          -0.36647507655689215,
          -0.20050236092492363,
          1.102189603246003,
          1.1076625879119724,
          -0.6173356475896526,
          -1.0517705328368148,
          -1.3667935238181685,
          2.0123677414946957,
          0.41700942992506784,
          -0.2595000507564968,
          0.39618910311449435,
          1.6292195940830516,
          1.7212727478638084,
          -0.7317401825711949,
          -0.5913161776502358,
          0.9365095450762048,
          1.998958277374428,
          0.9459905865789764,
          0.7441567293415282,
          0.75163136873997,
          0.7633044070608969,
          -0.11419874779609812,
          1.1899648367953914,
          1.5021766800259608,
          1.092742915606824,
          -0.16727633369836986,
          -0.743141975707925,
          -1.1083816961888047,
          -0.2086596930734489,
          -0.21247015297495855,
          0.9066772485657766,
          0.17841663489329393,
          -1.198655616253056
         ],
         "xaxis": "x16",
         "yaxis": "y16"
        }
       ],
       "layout": {
        "bargap": 0.02,
        "legend": {
         "bgcolor": "#F5F6F9",
         "font": {
          "color": "#4D5663"
         }
        },
        "paper_bgcolor": "#F5F6F9",
        "plot_bgcolor": "#F5F6F9",
        "showlegend": false,
        "template": {
         "data": {
          "bar": [
           {
            "error_x": {
             "color": "#2a3f5f"
            },
            "error_y": {
             "color": "#2a3f5f"
            },
            "marker": {
             "line": {
              "color": "#E5ECF6",
              "width": 0.5
             },
             "pattern": {
              "fillmode": "overlay",
              "size": 10,
              "solidity": 0.2
             }
            },
            "type": "bar"
           }
          ],
          "barpolar": [
           {
            "marker": {
             "line": {
              "color": "#E5ECF6",
              "width": 0.5
             },
             "pattern": {
              "fillmode": "overlay",
              "size": 10,
              "solidity": 0.2
             }
            },
            "type": "barpolar"
           }
          ],
          "carpet": [
           {
            "aaxis": {
             "endlinecolor": "#2a3f5f",
             "gridcolor": "white",
             "linecolor": "white",
             "minorgridcolor": "white",
             "startlinecolor": "#2a3f5f"
            },
            "baxis": {
             "endlinecolor": "#2a3f5f",
             "gridcolor": "white",
             "linecolor": "white",
             "minorgridcolor": "white",
             "startlinecolor": "#2a3f5f"
            },
            "type": "carpet"
           }
          ],
          "choropleth": [
           {
            "colorbar": {
             "outlinewidth": 0,
             "ticks": ""
            },
            "type": "choropleth"
           }
          ],
          "contour": [
           {
            "colorbar": {
             "outlinewidth": 0,
             "ticks": ""
            },
            "colorscale": [
             [
              0,
              "#0d0887"
             ],
             [
              0.1111111111111111,
              "#46039f"
             ],
             [
              0.2222222222222222,
              "#7201a8"
             ],
             [
              0.3333333333333333,
              "#9c179e"
             ],
             [
              0.4444444444444444,
              "#bd3786"
             ],
             [
              0.5555555555555556,
              "#d8576b"
             ],
             [
              0.6666666666666666,
              "#ed7953"
             ],
             [
              0.7777777777777778,
              "#fb9f3a"
             ],
             [
              0.8888888888888888,
              "#fdca26"
             ],
             [
              1,
              "#f0f921"
             ]
            ],
            "type": "contour"
           }
          ],
          "contourcarpet": [
           {
            "colorbar": {
             "outlinewidth": 0,
             "ticks": ""
            },
            "type": "contourcarpet"
           }
          ],
          "heatmap": [
           {
            "colorbar": {
             "outlinewidth": 0,
             "ticks": ""
            },
            "colorscale": [
             [
              0,
              "#0d0887"
             ],
             [
              0.1111111111111111,
              "#46039f"
             ],
             [
              0.2222222222222222,
              "#7201a8"
             ],
             [
              0.3333333333333333,
              "#9c179e"
             ],
             [
              0.4444444444444444,
              "#bd3786"
             ],
             [
              0.5555555555555556,
              "#d8576b"
             ],
             [
              0.6666666666666666,
              "#ed7953"
             ],
             [
              0.7777777777777778,
              "#fb9f3a"
             ],
             [
              0.8888888888888888,
              "#fdca26"
             ],
             [
              1,
              "#f0f921"
             ]
            ],
            "type": "heatmap"
           }
          ],
          "heatmapgl": [
           {
            "colorbar": {
             "outlinewidth": 0,
             "ticks": ""
            },
            "colorscale": [
             [
              0,
              "#0d0887"
             ],
             [
              0.1111111111111111,
              "#46039f"
             ],
             [
              0.2222222222222222,
              "#7201a8"
             ],
             [
              0.3333333333333333,
              "#9c179e"
             ],
             [
              0.4444444444444444,
              "#bd3786"
             ],
             [
              0.5555555555555556,
              "#d8576b"
             ],
             [
              0.6666666666666666,
              "#ed7953"
             ],
             [
              0.7777777777777778,
              "#fb9f3a"
             ],
             [
              0.8888888888888888,
              "#fdca26"
             ],
             [
              1,
              "#f0f921"
             ]
            ],
            "type": "heatmapgl"
           }
          ],
          "histogram": [
           {
            "marker": {
             "pattern": {
              "fillmode": "overlay",
              "size": 10,
              "solidity": 0.2
             }
            },
            "type": "histogram"
           }
          ],
          "histogram2d": [
           {
            "colorbar": {
             "outlinewidth": 0,
             "ticks": ""
            },
            "colorscale": [
             [
              0,
              "#0d0887"
             ],
             [
              0.1111111111111111,
              "#46039f"
             ],
             [
              0.2222222222222222,
              "#7201a8"
             ],
             [
              0.3333333333333333,
              "#9c179e"
             ],
             [
              0.4444444444444444,
              "#bd3786"
             ],
             [
              0.5555555555555556,
              "#d8576b"
             ],
             [
              0.6666666666666666,
              "#ed7953"
             ],
             [
              0.7777777777777778,
              "#fb9f3a"
             ],
             [
              0.8888888888888888,
              "#fdca26"
             ],
             [
              1,
              "#f0f921"
             ]
            ],
            "type": "histogram2d"
           }
          ],
          "histogram2dcontour": [
           {
            "colorbar": {
             "outlinewidth": 0,
             "ticks": ""
            },
            "colorscale": [
             [
              0,
              "#0d0887"
             ],
             [
              0.1111111111111111,
              "#46039f"
             ],
             [
              0.2222222222222222,
              "#7201a8"
             ],
             [
              0.3333333333333333,
              "#9c179e"
             ],
             [
              0.4444444444444444,
              "#bd3786"
             ],
             [
              0.5555555555555556,
              "#d8576b"
             ],
             [
              0.6666666666666666,
              "#ed7953"
             ],
             [
              0.7777777777777778,
              "#fb9f3a"
             ],
             [
              0.8888888888888888,
              "#fdca26"
             ],
             [
              1,
              "#f0f921"
             ]
            ],
            "type": "histogram2dcontour"
           }
          ],
          "mesh3d": [
           {
            "colorbar": {
             "outlinewidth": 0,
             "ticks": ""
            },
            "type": "mesh3d"
           }
          ],
          "parcoords": [
           {
            "line": {
             "colorbar": {
              "outlinewidth": 0,
              "ticks": ""
             }
            },
            "type": "parcoords"
           }
          ],
          "pie": [
           {
            "automargin": true,
            "type": "pie"
           }
          ],
          "scatter": [
           {
            "fillpattern": {
             "fillmode": "overlay",
             "size": 10,
             "solidity": 0.2
            },
            "type": "scatter"
           }
          ],
          "scatter3d": [
           {
            "line": {
             "colorbar": {
              "outlinewidth": 0,
              "ticks": ""
             }
            },
            "marker": {
             "colorbar": {
              "outlinewidth": 0,
              "ticks": ""
             }
            },
            "type": "scatter3d"
           }
          ],
          "scattercarpet": [
           {
            "marker": {
             "colorbar": {
              "outlinewidth": 0,
              "ticks": ""
             }
            },
            "type": "scattercarpet"
           }
          ],
          "scattergeo": [
           {
            "marker": {
             "colorbar": {
              "outlinewidth": 0,
              "ticks": ""
             }
            },
            "type": "scattergeo"
           }
          ],
          "scattergl": [
           {
            "marker": {
             "colorbar": {
              "outlinewidth": 0,
              "ticks": ""
             }
            },
            "type": "scattergl"
           }
          ],
          "scattermapbox": [
           {
            "marker": {
             "colorbar": {
              "outlinewidth": 0,
              "ticks": ""
             }
            },
            "type": "scattermapbox"
           }
          ],
          "scatterpolar": [
           {
            "marker": {
             "colorbar": {
              "outlinewidth": 0,
              "ticks": ""
             }
            },
            "type": "scatterpolar"
           }
          ],
          "scatterpolargl": [
           {
            "marker": {
             "colorbar": {
              "outlinewidth": 0,
              "ticks": ""
             }
            },
            "type": "scatterpolargl"
           }
          ],
          "scatterternary": [
           {
            "marker": {
             "colorbar": {
              "outlinewidth": 0,
              "ticks": ""
             }
            },
            "type": "scatterternary"
           }
          ],
          "surface": [
           {
            "colorbar": {
             "outlinewidth": 0,
             "ticks": ""
            },
            "colorscale": [
             [
              0,
              "#0d0887"
             ],
             [
              0.1111111111111111,
              "#46039f"
             ],
             [
              0.2222222222222222,
              "#7201a8"
             ],
             [
              0.3333333333333333,
              "#9c179e"
             ],
             [
              0.4444444444444444,
              "#bd3786"
             ],
             [
              0.5555555555555556,
              "#d8576b"
             ],
             [
              0.6666666666666666,
              "#ed7953"
             ],
             [
              0.7777777777777778,
              "#fb9f3a"
             ],
             [
              0.8888888888888888,
              "#fdca26"
             ],
             [
              1,
              "#f0f921"
             ]
            ],
            "type": "surface"
           }
          ],
          "table": [
           {
            "cells": {
             "fill": {
              "color": "#EBF0F8"
             },
             "line": {
              "color": "white"
             }
            },
            "header": {
             "fill": {
              "color": "#C8D4E3"
             },
             "line": {
              "color": "white"
             }
            },
            "type": "table"
           }
          ]
         },
         "layout": {
          "annotationdefaults": {
           "arrowcolor": "#2a3f5f",
           "arrowhead": 0,
           "arrowwidth": 1
          },
          "autotypenumbers": "strict",
          "coloraxis": {
           "colorbar": {
            "outlinewidth": 0,
            "ticks": ""
           }
          },
          "colorscale": {
           "diverging": [
            [
             0,
             "#8e0152"
            ],
            [
             0.1,
             "#c51b7d"
            ],
            [
             0.2,
             "#de77ae"
            ],
            [
             0.3,
             "#f1b6da"
            ],
            [
             0.4,
             "#fde0ef"
            ],
            [
             0.5,
             "#f7f7f7"
            ],
            [
             0.6,
             "#e6f5d0"
            ],
            [
             0.7,
             "#b8e186"
            ],
            [
             0.8,
             "#7fbc41"
            ],
            [
             0.9,
             "#4d9221"
            ],
            [
             1,
             "#276419"
            ]
           ],
           "sequential": [
            [
             0,
             "#0d0887"
            ],
            [
             0.1111111111111111,
             "#46039f"
            ],
            [
             0.2222222222222222,
             "#7201a8"
            ],
            [
             0.3333333333333333,
             "#9c179e"
            ],
            [
             0.4444444444444444,
             "#bd3786"
            ],
            [
             0.5555555555555556,
             "#d8576b"
            ],
            [
             0.6666666666666666,
             "#ed7953"
            ],
            [
             0.7777777777777778,
             "#fb9f3a"
            ],
            [
             0.8888888888888888,
             "#fdca26"
            ],
            [
             1,
             "#f0f921"
            ]
           ],
           "sequentialminus": [
            [
             0,
             "#0d0887"
            ],
            [
             0.1111111111111111,
             "#46039f"
            ],
            [
             0.2222222222222222,
             "#7201a8"
            ],
            [
             0.3333333333333333,
             "#9c179e"
            ],
            [
             0.4444444444444444,
             "#bd3786"
            ],
            [
             0.5555555555555556,
             "#d8576b"
            ],
            [
             0.6666666666666666,
             "#ed7953"
            ],
            [
             0.7777777777777778,
             "#fb9f3a"
            ],
            [
             0.8888888888888888,
             "#fdca26"
            ],
            [
             1,
             "#f0f921"
            ]
           ]
          },
          "colorway": [
           "#636efa",
           "#EF553B",
           "#00cc96",
           "#ab63fa",
           "#FFA15A",
           "#19d3f3",
           "#FF6692",
           "#B6E880",
           "#FF97FF",
           "#FECB52"
          ],
          "font": {
           "color": "#2a3f5f"
          },
          "geo": {
           "bgcolor": "white",
           "lakecolor": "white",
           "landcolor": "#E5ECF6",
           "showlakes": true,
           "showland": true,
           "subunitcolor": "white"
          },
          "hoverlabel": {
           "align": "left"
          },
          "hovermode": "closest",
          "mapbox": {
           "style": "light"
          },
          "paper_bgcolor": "white",
          "plot_bgcolor": "#E5ECF6",
          "polar": {
           "angularaxis": {
            "gridcolor": "white",
            "linecolor": "white",
            "ticks": ""
           },
           "bgcolor": "#E5ECF6",
           "radialaxis": {
            "gridcolor": "white",
            "linecolor": "white",
            "ticks": ""
           }
          },
          "scene": {
           "xaxis": {
            "backgroundcolor": "#E5ECF6",
            "gridcolor": "white",
            "gridwidth": 2,
            "linecolor": "white",
            "showbackground": true,
            "ticks": "",
            "zerolinecolor": "white"
           },
           "yaxis": {
            "backgroundcolor": "#E5ECF6",
            "gridcolor": "white",
            "gridwidth": 2,
            "linecolor": "white",
            "showbackground": true,
            "ticks": "",
            "zerolinecolor": "white"
           },
           "zaxis": {
            "backgroundcolor": "#E5ECF6",
            "gridcolor": "white",
            "gridwidth": 2,
            "linecolor": "white",
            "showbackground": true,
            "ticks": "",
            "zerolinecolor": "white"
           }
          },
          "shapedefaults": {
           "line": {
            "color": "#2a3f5f"
           }
          },
          "ternary": {
           "aaxis": {
            "gridcolor": "white",
            "linecolor": "white",
            "ticks": ""
           },
           "baxis": {
            "gridcolor": "white",
            "linecolor": "white",
            "ticks": ""
           },
           "bgcolor": "#E5ECF6",
           "caxis": {
            "gridcolor": "white",
            "linecolor": "white",
            "ticks": ""
           }
          },
          "title": {
           "x": 0.05
          },
          "xaxis": {
           "automargin": true,
           "gridcolor": "white",
           "linecolor": "white",
           "ticks": "",
           "title": {
            "standoff": 15
           },
           "zerolinecolor": "white",
           "zerolinewidth": 2
          },
          "yaxis": {
           "automargin": true,
           "gridcolor": "white",
           "linecolor": "white",
           "ticks": "",
           "title": {
            "standoff": 15
           },
           "zerolinecolor": "white",
           "zerolinewidth": 2
          }
         }
        },
        "title": {
         "font": {
          "color": "#4D5663"
         }
        },
        "xaxis": {
         "anchor": "y",
         "domain": [
          0,
          0.2125
         ],
         "gridcolor": "#E1E5ED",
         "showgrid": false,
         "tickfont": {
          "color": "#4D5663"
         },
         "title": {
          "font": {
           "color": "#4D5663"
          },
          "text": ""
         },
         "zerolinecolor": "#E1E5ED"
        },
        "xaxis10": {
         "anchor": "y10",
         "domain": [
          0.2625,
          0.475
         ],
         "gridcolor": "#E1E5ED",
         "showgrid": false,
         "tickfont": {
          "color": "#4D5663"
         },
         "title": {
          "font": {
           "color": "#4D5663"
          },
          "text": ""
         },
         "zerolinecolor": "#E1E5ED"
        },
        "xaxis11": {
         "anchor": "y11",
         "domain": [
          0.525,
          0.7375
         ],
         "gridcolor": "#E1E5ED",
         "showgrid": false,
         "tickfont": {
          "color": "#4D5663"
         },
         "title": {
          "font": {
           "color": "#4D5663"
          },
          "text": ""
         },
         "zerolinecolor": "#E1E5ED"
        },
        "xaxis12": {
         "anchor": "y12",
         "domain": [
          0.7875,
          1
         ],
         "gridcolor": "#E1E5ED",
         "showgrid": false,
         "tickfont": {
          "color": "#4D5663"
         },
         "title": {
          "font": {
           "color": "#4D5663"
          },
          "text": ""
         },
         "zerolinecolor": "#E1E5ED"
        },
        "xaxis13": {
         "anchor": "y13",
         "domain": [
          0,
          0.2125
         ],
         "gridcolor": "#E1E5ED",
         "showgrid": false,
         "tickfont": {
          "color": "#4D5663"
         },
         "title": {
          "font": {
           "color": "#4D5663"
          },
          "text": ""
         },
         "zerolinecolor": "#E1E5ED"
        },
        "xaxis14": {
         "anchor": "y14",
         "domain": [
          0.2625,
          0.475
         ],
         "gridcolor": "#E1E5ED",
         "showgrid": false,
         "tickfont": {
          "color": "#4D5663"
         },
         "title": {
          "font": {
           "color": "#4D5663"
          },
          "text": ""
         },
         "zerolinecolor": "#E1E5ED"
        },
        "xaxis15": {
         "anchor": "y15",
         "domain": [
          0.525,
          0.7375
         ],
         "gridcolor": "#E1E5ED",
         "showgrid": false,
         "tickfont": {
          "color": "#4D5663"
         },
         "title": {
          "font": {
           "color": "#4D5663"
          },
          "text": ""
         },
         "zerolinecolor": "#E1E5ED"
        },
        "xaxis16": {
         "anchor": "y16",
         "domain": [
          0.7875,
          1
         ],
         "gridcolor": "#E1E5ED",
         "showgrid": false,
         "tickfont": {
          "color": "#4D5663"
         },
         "title": {
          "font": {
           "color": "#4D5663"
          },
          "text": ""
         },
         "zerolinecolor": "#E1E5ED"
        },
        "xaxis2": {
         "anchor": "y2",
         "domain": [
          0.2625,
          0.475
         ],
         "gridcolor": "#E1E5ED",
         "showgrid": false,
         "tickfont": {
          "color": "#4D5663"
         },
         "title": {
          "font": {
           "color": "#4D5663"
          },
          "text": ""
         },
         "zerolinecolor": "#E1E5ED"
        },
        "xaxis3": {
         "anchor": "y3",
         "domain": [
          0.525,
          0.7375
         ],
         "gridcolor": "#E1E5ED",
         "showgrid": false,
         "tickfont": {
          "color": "#4D5663"
         },
         "title": {
          "font": {
           "color": "#4D5663"
          },
          "text": ""
         },
         "zerolinecolor": "#E1E5ED"
        },
        "xaxis4": {
         "anchor": "y4",
         "domain": [
          0.7875,
          1
         ],
         "gridcolor": "#E1E5ED",
         "showgrid": false,
         "tickfont": {
          "color": "#4D5663"
         },
         "title": {
          "font": {
           "color": "#4D5663"
          },
          "text": ""
         },
         "zerolinecolor": "#E1E5ED"
        },
        "xaxis5": {
         "anchor": "y5",
         "domain": [
          0,
          0.2125
         ],
         "gridcolor": "#E1E5ED",
         "showgrid": false,
         "tickfont": {
          "color": "#4D5663"
         },
         "title": {
          "font": {
           "color": "#4D5663"
          },
          "text": ""
         },
         "zerolinecolor": "#E1E5ED"
        },
        "xaxis6": {
         "anchor": "y6",
         "domain": [
          0.2625,
          0.475
         ],
         "gridcolor": "#E1E5ED",
         "showgrid": false,
         "tickfont": {
          "color": "#4D5663"
         },
         "title": {
          "font": {
           "color": "#4D5663"
          },
          "text": ""
         },
         "zerolinecolor": "#E1E5ED"
        },
        "xaxis7": {
         "anchor": "y7",
         "domain": [
          0.525,
          0.7375
         ],
         "gridcolor": "#E1E5ED",
         "showgrid": false,
         "tickfont": {
          "color": "#4D5663"
         },
         "title": {
          "font": {
           "color": "#4D5663"
          },
          "text": ""
         },
         "zerolinecolor": "#E1E5ED"
        },
        "xaxis8": {
         "anchor": "y8",
         "domain": [
          0.7875,
          1
         ],
         "gridcolor": "#E1E5ED",
         "showgrid": false,
         "tickfont": {
          "color": "#4D5663"
         },
         "title": {
          "font": {
           "color": "#4D5663"
          },
          "text": ""
         },
         "zerolinecolor": "#E1E5ED"
        },
        "xaxis9": {
         "anchor": "y9",
         "domain": [
          0,
          0.2125
         ],
         "gridcolor": "#E1E5ED",
         "showgrid": false,
         "tickfont": {
          "color": "#4D5663"
         },
         "title": {
          "font": {
           "color": "#4D5663"
          },
          "text": ""
         },
         "zerolinecolor": "#E1E5ED"
        },
        "yaxis": {
         "anchor": "x",
         "domain": [
          0.8025,
          1
         ],
         "gridcolor": "#E1E5ED",
         "showgrid": false,
         "tickfont": {
          "color": "#4D5663"
         },
         "title": {
          "font": {
           "color": "#4D5663"
          },
          "text": ""
         },
         "zerolinecolor": "#E1E5ED"
        },
        "yaxis10": {
         "anchor": "x10",
         "domain": [
          0.2675,
          0.465
         ],
         "gridcolor": "#E1E5ED",
         "showgrid": false,
         "tickfont": {
          "color": "#4D5663"
         },
         "title": {
          "font": {
           "color": "#4D5663"
          },
          "text": ""
         },
         "zerolinecolor": "#E1E5ED"
        },
        "yaxis11": {
         "anchor": "x11",
         "domain": [
          0.2675,
          0.465
         ],
         "gridcolor": "#E1E5ED",
         "showgrid": false,
         "tickfont": {
          "color": "#4D5663"
         },
         "title": {
          "font": {
           "color": "#4D5663"
          },
          "text": ""
         },
         "zerolinecolor": "#E1E5ED"
        },
        "yaxis12": {
         "anchor": "x12",
         "domain": [
          0.2675,
          0.465
         ],
         "gridcolor": "#E1E5ED",
         "showgrid": false,
         "tickfont": {
          "color": "#4D5663"
         },
         "title": {
          "font": {
           "color": "#4D5663"
          },
          "text": ""
         },
         "zerolinecolor": "#E1E5ED"
        },
        "yaxis13": {
         "anchor": "x13",
         "domain": [
          0,
          0.1975
         ],
         "gridcolor": "#E1E5ED",
         "showgrid": false,
         "tickfont": {
          "color": "#4D5663"
         },
         "title": {
          "font": {
           "color": "#4D5663"
          },
          "text": ""
         },
         "zerolinecolor": "#E1E5ED"
        },
        "yaxis14": {
         "anchor": "x14",
         "domain": [
          0,
          0.1975
         ],
         "gridcolor": "#E1E5ED",
         "showgrid": false,
         "tickfont": {
          "color": "#4D5663"
         },
         "title": {
          "font": {
           "color": "#4D5663"
          },
          "text": ""
         },
         "zerolinecolor": "#E1E5ED"
        },
        "yaxis15": {
         "anchor": "x15",
         "domain": [
          0,
          0.1975
         ],
         "gridcolor": "#E1E5ED",
         "showgrid": false,
         "tickfont": {
          "color": "#4D5663"
         },
         "title": {
          "font": {
           "color": "#4D5663"
          },
          "text": ""
         },
         "zerolinecolor": "#E1E5ED"
        },
        "yaxis16": {
         "anchor": "x16",
         "domain": [
          0,
          0.1975
         ],
         "gridcolor": "#E1E5ED",
         "showgrid": false,
         "tickfont": {
          "color": "#4D5663"
         },
         "title": {
          "font": {
           "color": "#4D5663"
          },
          "text": ""
         },
         "zerolinecolor": "#E1E5ED"
        },
        "yaxis2": {
         "anchor": "x2",
         "domain": [
          0.8025,
          1
         ],
         "gridcolor": "#E1E5ED",
         "showgrid": false,
         "tickfont": {
          "color": "#4D5663"
         },
         "title": {
          "font": {
           "color": "#4D5663"
          },
          "text": ""
         },
         "zerolinecolor": "#E1E5ED"
        },
        "yaxis3": {
         "anchor": "x3",
         "domain": [
          0.8025,
          1
         ],
         "gridcolor": "#E1E5ED",
         "showgrid": false,
         "tickfont": {
          "color": "#4D5663"
         },
         "title": {
          "font": {
           "color": "#4D5663"
          },
          "text": ""
         },
         "zerolinecolor": "#E1E5ED"
        },
        "yaxis4": {
         "anchor": "x4",
         "domain": [
          0.8025,
          1
         ],
         "gridcolor": "#E1E5ED",
         "showgrid": false,
         "tickfont": {
          "color": "#4D5663"
         },
         "title": {
          "font": {
           "color": "#4D5663"
          },
          "text": ""
         },
         "zerolinecolor": "#E1E5ED"
        },
        "yaxis5": {
         "anchor": "x5",
         "domain": [
          0.535,
          0.7325
         ],
         "gridcolor": "#E1E5ED",
         "showgrid": false,
         "tickfont": {
          "color": "#4D5663"
         },
         "title": {
          "font": {
           "color": "#4D5663"
          },
          "text": ""
         },
         "zerolinecolor": "#E1E5ED"
        },
        "yaxis6": {
         "anchor": "x6",
         "domain": [
          0.535,
          0.7325
         ],
         "gridcolor": "#E1E5ED",
         "showgrid": false,
         "tickfont": {
          "color": "#4D5663"
         },
         "title": {
          "font": {
           "color": "#4D5663"
          },
          "text": ""
         },
         "zerolinecolor": "#E1E5ED"
        },
        "yaxis7": {
         "anchor": "x7",
         "domain": [
          0.535,
          0.7325
         ],
         "gridcolor": "#E1E5ED",
         "showgrid": false,
         "tickfont": {
          "color": "#4D5663"
         },
         "title": {
          "font": {
           "color": "#4D5663"
          },
          "text": ""
         },
         "zerolinecolor": "#E1E5ED"
        },
        "yaxis8": {
         "anchor": "x8",
         "domain": [
          0.535,
          0.7325
         ],
         "gridcolor": "#E1E5ED",
         "showgrid": false,
         "tickfont": {
          "color": "#4D5663"
         },
         "title": {
          "font": {
           "color": "#4D5663"
          },
          "text": ""
         },
         "zerolinecolor": "#E1E5ED"
        },
        "yaxis9": {
         "anchor": "x9",
         "domain": [
          0.2675,
          0.465
         ],
         "gridcolor": "#E1E5ED",
         "showgrid": false,
         "tickfont": {
          "color": "#4D5663"
         },
         "title": {
          "font": {
           "color": "#4D5663"
          },
          "text": ""
         },
         "zerolinecolor": "#E1E5ED"
        }
       }
      },
      "text/html": [
       "<div>                            <div id=\"ff499fab-8662-42ca-8bcc-04bb62b65eee\" class=\"plotly-graph-div\" style=\"height:525px; width:100%;\"></div>            <script type=\"text/javascript\">                require([\"plotly\"], function(Plotly) {                    window.PLOTLYENV=window.PLOTLYENV || {};\n",
       "                    window.PLOTLYENV.BASE_URL='https://plot.ly';                                    if (document.getElementById(\"ff499fab-8662-42ca-8bcc-04bb62b65eee\")) {                    Plotly.newPlot(                        \"ff499fab-8662-42ca-8bcc-04bb62b65eee\",                        [{\"histfunc\":\"count\",\"histnorm\":\"\",\"marker\":{\"color\":\"rgba(255, 153, 51, 1.0)\",\"line\":{\"color\":\"#4D5663\",\"width\":1.3}},\"name\":\"A\",\"nbinsx\":10,\"opacity\":0.8,\"orientation\":\"v\",\"x\":[-0.8805112749273397,1.4546803047490493,0.45853165741418406,-0.3005759439371258,0.9424598261557191,0.19201853912783895,0.128732384353252,-1.1246631977459849,1.004559436801384,-0.019433001305279293,0.8743710434087673,1.266547392168914,-0.013290881499199495,1.2146231112105121,0.9026519074182962,-0.25852503161661794,0.06350722196103391,0.061319066665640985,0.6826923694271695,0.6571582828505825,-0.6394539760429969,-0.3873354829211536,-1.275992785163112,-0.9049553682456588,0.39140151388641575,-1.3261717503652508,-0.11176379848313447,0.12996215884278603,-0.4992525292514862,-0.3757696877819027,1.8950234573743023,-1.9806901072377638,-0.23372785694788464,-0.8724008970677714,-0.34295179012678584,0.5427956937168907,1.1566492382180327,1.3326192990291548,-3.338998968955712,-1.1091125681635465,-1.3795235178695933,-1.1995158314131806,1.8271736655576276,-1.6994936600219739,-1.6145550438467797,0.9643249901269011,0.18191869225186177,1.067698235546503,-2.1762174829824414,0.6125575233486188,0.36338752339594443,0.30630912374155744,0.10269690778525375,-0.23617787136845161,0.29204680294836505,-1.532545565777484,0.8019566260245036,0.008843763923224425,-0.42653027037276425,0.28462913192626726,0.33580872462837,0.09094416649994692,-2.105854750180177,-2.423062150710898,-0.6026419962151889,0.4283091936814125,-1.178494121002894,-0.5400337459898417,0.9880569653816528,-1.1816843048036256,0.08603326565887974,1.7909142535972238,1.2309346264188081,-1.8196369817643112,-0.42081030328553204,-1.5186485358520676,-0.35265366574837465,-0.045581613031547445,-0.20430067627555923,0.5409643956030542,-0.41286664820958746,0.3410783944367214,-0.05382582690926376,-1.7286105233045104,-3.3274176052282987,-0.31580923857082854,-0.0022477885108969434,-0.7399373198141854,-1.0496008215922419,-0.018198058774143547,0.009171190217878636,-0.4359682580386698,-1.004700100123502,-1.1230110350456142,2.1312832353333366,2.1284473689005625,0.7196357631601891,0.35387350270156964,-0.7575764541103952,0.05885429630124914],\"xaxis\":\"x\",\"yaxis\":\"y\",\"type\":\"histogram\"},{\"line\":{\"color\":\"rgba(128, 128, 128, 1.0)\",\"dash\":\"solid\",\"shape\":\"linear\",\"width\":1.3},\"marker\":{\"size\":2,\"symbol\":\"circle\"},\"mode\":\"markers\",\"name\":\"A\",\"text\":\"\",\"x\":[-0.040620682752938356,0.6425512540068671,0.14954889475613145,0.49045887473164235,-0.5827195860487148,-0.13496047818515644,-0.9893694661713424,0.07739330554695359,1.2774594950431841,0.9051893198035333,0.43346916701428506,-0.8306833793111323,-1.3092321307066412,1.4813037309002575,-0.34839072009165795,-2.5934705048348343,1.2081323105876758,-0.09907281821256546,0.9136907908933014,-0.12432182626363361,0.925676795487707,-0.09977335171951576,1.4892365866941903,-0.8429186160540141,-0.3025715984088873,0.2679478968963423,0.56905456426694,0.2941970762016016,1.3056771575832564,-1.7443669852439025,-0.28515992298943627,-0.5145847265601052,0.035708484457847633,1.627107409135958,0.5335426874062241,-1.3189437705400466,0.02713630906105749,-0.038583607971776374,-0.5859905137239353,-1.2177623765108856,0.4515652168570346,-0.965931380122257,0.23111129390548757,0.3898620573440986,0.07476211856250009,0.32798815670390036,-0.9908999331121211,-0.3651869892093611,-0.007334796306520177,0.6839228452193726,2.1371650254650323,0.6489511031859807,-0.0012767696323471123,0.278889171030196,-0.33165140572707336,-0.5680326867475078,-0.5415757221815488,-0.7935480405004463,2.0211246678010775,-0.8997668043881036,0.3324242707696821,0.026734950348676796,1.1922255118347185,-0.7697899008768124,0.44790487649560123,0.0939673325457032,2.1821417801637426,0.774139202896262,0.517067398756495,0.11010871823609361,-0.16470198410872866,0.49069038348064636,1.4607640667920616,0.20981002442152016,0.6103777309682441,-1.26145508089656,-0.13052525017463731,0.6092958179619178,2.016326021795919,1.1692372030554616,-0.7226676608429432,0.6311301714091945,0.27447197998064354,-0.22685920767083032,-0.3324216234957669,0.32721386514126644,0.33811135832490846,0.10292645064304927,1.0746877746327905,-0.6545233505727898,0.18354641835424212,0.18527408763830389,-0.38314438999148615,-0.6569472338029486,0.06183474638568763,1.5813137036549005,1.5835367596453647,1.4283287411040775,-2.0300800263880037,1.5790161429256748],\"xaxis\":\"x2\",\"y\":[-0.8805112749273397,1.4546803047490493,0.45853165741418406,-0.3005759439371258,0.9424598261557191,0.19201853912783895,0.128732384353252,-1.1246631977459849,1.004559436801384,-0.019433001305279293,0.8743710434087673,1.266547392168914,-0.013290881499199495,1.2146231112105121,0.9026519074182962,-0.25852503161661794,0.06350722196103391,0.061319066665640985,0.6826923694271695,0.6571582828505825,-0.6394539760429969,-0.3873354829211536,-1.275992785163112,-0.9049553682456588,0.39140151388641575,-1.3261717503652508,-0.11176379848313447,0.12996215884278603,-0.4992525292514862,-0.3757696877819027,1.8950234573743023,-1.9806901072377638,-0.23372785694788464,-0.8724008970677714,-0.34295179012678584,0.5427956937168907,1.1566492382180327,1.3326192990291548,-3.338998968955712,-1.1091125681635465,-1.3795235178695933,-1.1995158314131806,1.8271736655576276,-1.6994936600219739,-1.6145550438467797,0.9643249901269011,0.18191869225186177,1.067698235546503,-2.1762174829824414,0.6125575233486188,0.36338752339594443,0.30630912374155744,0.10269690778525375,-0.23617787136845161,0.29204680294836505,-1.532545565777484,0.8019566260245036,0.008843763923224425,-0.42653027037276425,0.28462913192626726,0.33580872462837,0.09094416649994692,-2.105854750180177,-2.423062150710898,-0.6026419962151889,0.4283091936814125,-1.178494121002894,-0.5400337459898417,0.9880569653816528,-1.1816843048036256,0.08603326565887974,1.7909142535972238,1.2309346264188081,-1.8196369817643112,-0.42081030328553204,-1.5186485358520676,-0.35265366574837465,-0.045581613031547445,-0.20430067627555923,0.5409643956030542,-0.41286664820958746,0.3410783944367214,-0.05382582690926376,-1.7286105233045104,-3.3274176052282987,-0.31580923857082854,-0.0022477885108969434,-0.7399373198141854,-1.0496008215922419,-0.018198058774143547,0.009171190217878636,-0.4359682580386698,-1.004700100123502,-1.1230110350456142,2.1312832353333366,2.1284473689005625,0.7196357631601891,0.35387350270156964,-0.7575764541103952,0.05885429630124914],\"yaxis\":\"y2\",\"type\":\"scatter\"},{\"line\":{\"color\":\"rgba(128, 128, 128, 1.0)\",\"dash\":\"solid\",\"shape\":\"linear\",\"width\":1.3},\"marker\":{\"size\":2,\"symbol\":\"circle\"},\"mode\":\"markers\",\"name\":\"A\",\"text\":\"\",\"x\":[-0.7373178581637543,1.2094282562187213,-0.8059119674331232,0.4876760751296238,-1.8064069520807258,-1.5737541884892818,0.1743789018229636,0.15281584239647017,2.244565344116197,1.0601479640163183,-0.5984122253086601,2.1435870040904086,0.6970531744694549,1.3759019920345859,1.8206631615829603,-0.028007465173700216,0.1428670677979271,-1.5979618363066557,0.5821058379949517,0.94386490701705,-1.2454178739856687,1.50661866559273,1.0869705895443469,1.6823727569828384,-0.8595273491126317,1.478320527760731,0.8162269049288953,0.5859220020319909,2.267898195446429,-0.35834491582002986,0.26598690520998214,-0.41533934704953945,1.2314433022629834,0.5600347720230504,0.40871590238812405,1.404608521107051,-0.0878461613244193,-0.7475328524313366,2.385831356221766,-0.15890511866981596,2.117139343156385,0.5961751395270899,-2.593387530688035,-0.26591322917759513,-0.39401309986313693,-0.22155029660222936,0.3695871934149242,0.5438226827080714,0.8599277357293486,0.8539903451802754,1.2456261673231157,-0.14294118703247036,-0.65164181039537,0.3000145649784694,-1.4459222155878377,-2.181327130251743,-1.5203395854167638,1.0370276033763146,0.8191918541369059,-0.24053659828283894,0.11868536157701531,1.8226415967280403,0.5221077987448178,-0.19584582131634867,0.578095034317103,-0.8456010765416432,-0.8475567682328727,0.6603753282845514,0.31592619336185124,0.39206835973372584,1.1417750462546776,-0.399904498048505,-1.1319856826194006,1.7886764693375763,0.642866245399601,-2.179668933455267,-0.9643433675465127,0.3212202032512991,0.050336948173034655,0.7662372734627357,0.25476345377570786,-0.14591352118157488,0.5914620862330049,1.1976005872437367,1.5745749474886952,-0.2967696059816843,-0.44343486877246796,0.94860467672076,0.9419019770815412,0.9713735465843496,-0.327698313732574,0.1493764488971369,-0.5461573419394765,-1.0342933267727203,-1.065861676081342,2.1819785360128434,-1.3487349594611897,-4.135527763244468,-0.1379146235635607,-2.2116708575521553],\"xaxis\":\"x3\",\"y\":[-0.8805112749273397,1.4546803047490493,0.45853165741418406,-0.3005759439371258,0.9424598261557191,0.19201853912783895,0.128732384353252,-1.1246631977459849,1.004559436801384,-0.019433001305279293,0.8743710434087673,1.266547392168914,-0.013290881499199495,1.2146231112105121,0.9026519074182962,-0.25852503161661794,0.06350722196103391,0.061319066665640985,0.6826923694271695,0.6571582828505825,-0.6394539760429969,-0.3873354829211536,-1.275992785163112,-0.9049553682456588,0.39140151388641575,-1.3261717503652508,-0.11176379848313447,0.12996215884278603,-0.4992525292514862,-0.3757696877819027,1.8950234573743023,-1.9806901072377638,-0.23372785694788464,-0.8724008970677714,-0.34295179012678584,0.5427956937168907,1.1566492382180327,1.3326192990291548,-3.338998968955712,-1.1091125681635465,-1.3795235178695933,-1.1995158314131806,1.8271736655576276,-1.6994936600219739,-1.6145550438467797,0.9643249901269011,0.18191869225186177,1.067698235546503,-2.1762174829824414,0.6125575233486188,0.36338752339594443,0.30630912374155744,0.10269690778525375,-0.23617787136845161,0.29204680294836505,-1.532545565777484,0.8019566260245036,0.008843763923224425,-0.42653027037276425,0.28462913192626726,0.33580872462837,0.09094416649994692,-2.105854750180177,-2.423062150710898,-0.6026419962151889,0.4283091936814125,-1.178494121002894,-0.5400337459898417,0.9880569653816528,-1.1816843048036256,0.08603326565887974,1.7909142535972238,1.2309346264188081,-1.8196369817643112,-0.42081030328553204,-1.5186485358520676,-0.35265366574837465,-0.045581613031547445,-0.20430067627555923,0.5409643956030542,-0.41286664820958746,0.3410783944367214,-0.05382582690926376,-1.7286105233045104,-3.3274176052282987,-0.31580923857082854,-0.0022477885108969434,-0.7399373198141854,-1.0496008215922419,-0.018198058774143547,0.009171190217878636,-0.4359682580386698,-1.004700100123502,-1.1230110350456142,2.1312832353333366,2.1284473689005625,0.7196357631601891,0.35387350270156964,-0.7575764541103952,0.05885429630124914],\"yaxis\":\"y3\",\"type\":\"scatter\"},{\"line\":{\"color\":\"rgba(128, 128, 128, 1.0)\",\"dash\":\"solid\",\"shape\":\"linear\",\"width\":1.3},\"marker\":{\"size\":2,\"symbol\":\"circle\"},\"mode\":\"markers\",\"name\":\"A\",\"text\":\"\",\"x\":[-0.4094127428579206,-0.21816781863242246,1.11448266416044,-0.1295544427424413,0.9226234272267713,-1.232597784007126,-2.3601243523486963,-0.32340141787187887,0.6731101043432102,0.785305169819162,0.27584025105219745,-0.11215689418312598,-0.20064416491791479,-0.0009059663933048694,1.4443434794407248,1.016528312061317,1.6641673730697764,0.04237359660649589,0.2233088195758519,1.3451104368623341,-1.4227103743188094,-0.015315517765536298,1.0901723323236299,0.4010443231955874,-0.1359114955903373,0.38956577638360607,1.7177436381783815,-0.8930249405238582,-0.4282164926175609,-1.8187788442944304,1.2682080452118343,0.12234140101068217,-0.8587475191336498,-1.5952743956320585,-0.13931033039380844,0.3842636293682735,1.2841775594688878,-0.7655395790179279,-0.6177598552260284,0.8062901352699203,-1.0399997923046052,-0.8664557866152551,-0.7897816866310353,0.050552240392427346,-0.2758437203732586,1.2920111325917742,0.28703816892970224,0.45988639739509185,-0.18131820133397009,-2.0977034044556135,1.227686719707167,0.4410357331332495,1.3952479105120492,-0.728864022524065,1.2863027684115462,0.39965171094439944,-0.13336291183844542,-0.29240394314362955,0.27221939341837165,-0.16578246600085056,0.09352322007013927,0.40109979187341505,-0.6597971338563279,-0.14011372429474933,1.6135575003426434,-1.5380265561895399,0.06210467572715678,-0.36647507655689215,-0.20050236092492363,1.102189603246003,1.1076625879119724,-0.6173356475896526,-1.0517705328368148,-1.3667935238181685,2.0123677414946957,0.41700942992506784,-0.2595000507564968,0.39618910311449435,1.6292195940830516,1.7212727478638084,-0.7317401825711949,-0.5913161776502358,0.9365095450762048,1.998958277374428,0.9459905865789764,0.7441567293415282,0.75163136873997,0.7633044070608969,-0.11419874779609812,1.1899648367953914,1.5021766800259608,1.092742915606824,-0.16727633369836986,-0.743141975707925,-1.1083816961888047,-0.2086596930734489,-0.21247015297495855,0.9066772485657766,0.17841663489329393,-1.198655616253056],\"xaxis\":\"x4\",\"y\":[-0.8805112749273397,1.4546803047490493,0.45853165741418406,-0.3005759439371258,0.9424598261557191,0.19201853912783895,0.128732384353252,-1.1246631977459849,1.004559436801384,-0.019433001305279293,0.8743710434087673,1.266547392168914,-0.013290881499199495,1.2146231112105121,0.9026519074182962,-0.25852503161661794,0.06350722196103391,0.061319066665640985,0.6826923694271695,0.6571582828505825,-0.6394539760429969,-0.3873354829211536,-1.275992785163112,-0.9049553682456588,0.39140151388641575,-1.3261717503652508,-0.11176379848313447,0.12996215884278603,-0.4992525292514862,-0.3757696877819027,1.8950234573743023,-1.9806901072377638,-0.23372785694788464,-0.8724008970677714,-0.34295179012678584,0.5427956937168907,1.1566492382180327,1.3326192990291548,-3.338998968955712,-1.1091125681635465,-1.3795235178695933,-1.1995158314131806,1.8271736655576276,-1.6994936600219739,-1.6145550438467797,0.9643249901269011,0.18191869225186177,1.067698235546503,-2.1762174829824414,0.6125575233486188,0.36338752339594443,0.30630912374155744,0.10269690778525375,-0.23617787136845161,0.29204680294836505,-1.532545565777484,0.8019566260245036,0.008843763923224425,-0.42653027037276425,0.28462913192626726,0.33580872462837,0.09094416649994692,-2.105854750180177,-2.423062150710898,-0.6026419962151889,0.4283091936814125,-1.178494121002894,-0.5400337459898417,0.9880569653816528,-1.1816843048036256,0.08603326565887974,1.7909142535972238,1.2309346264188081,-1.8196369817643112,-0.42081030328553204,-1.5186485358520676,-0.35265366574837465,-0.045581613031547445,-0.20430067627555923,0.5409643956030542,-0.41286664820958746,0.3410783944367214,-0.05382582690926376,-1.7286105233045104,-3.3274176052282987,-0.31580923857082854,-0.0022477885108969434,-0.7399373198141854,-1.0496008215922419,-0.018198058774143547,0.009171190217878636,-0.4359682580386698,-1.004700100123502,-1.1230110350456142,2.1312832353333366,2.1284473689005625,0.7196357631601891,0.35387350270156964,-0.7575764541103952,0.05885429630124914],\"yaxis\":\"y4\",\"type\":\"scatter\"},{\"line\":{\"color\":\"rgba(128, 128, 128, 1.0)\",\"dash\":\"solid\",\"shape\":\"linear\",\"width\":1.3},\"marker\":{\"size\":2,\"symbol\":\"circle\"},\"mode\":\"markers\",\"name\":\"B\",\"text\":\"\",\"x\":[-0.8805112749273397,1.4546803047490493,0.45853165741418406,-0.3005759439371258,0.9424598261557191,0.19201853912783895,0.128732384353252,-1.1246631977459849,1.004559436801384,-0.019433001305279293,0.8743710434087673,1.266547392168914,-0.013290881499199495,1.2146231112105121,0.9026519074182962,-0.25852503161661794,0.06350722196103391,0.061319066665640985,0.6826923694271695,0.6571582828505825,-0.6394539760429969,-0.3873354829211536,-1.275992785163112,-0.9049553682456588,0.39140151388641575,-1.3261717503652508,-0.11176379848313447,0.12996215884278603,-0.4992525292514862,-0.3757696877819027,1.8950234573743023,-1.9806901072377638,-0.23372785694788464,-0.8724008970677714,-0.34295179012678584,0.5427956937168907,1.1566492382180327,1.3326192990291548,-3.338998968955712,-1.1091125681635465,-1.3795235178695933,-1.1995158314131806,1.8271736655576276,-1.6994936600219739,-1.6145550438467797,0.9643249901269011,0.18191869225186177,1.067698235546503,-2.1762174829824414,0.6125575233486188,0.36338752339594443,0.30630912374155744,0.10269690778525375,-0.23617787136845161,0.29204680294836505,-1.532545565777484,0.8019566260245036,0.008843763923224425,-0.42653027037276425,0.28462913192626726,0.33580872462837,0.09094416649994692,-2.105854750180177,-2.423062150710898,-0.6026419962151889,0.4283091936814125,-1.178494121002894,-0.5400337459898417,0.9880569653816528,-1.1816843048036256,0.08603326565887974,1.7909142535972238,1.2309346264188081,-1.8196369817643112,-0.42081030328553204,-1.5186485358520676,-0.35265366574837465,-0.045581613031547445,-0.20430067627555923,0.5409643956030542,-0.41286664820958746,0.3410783944367214,-0.05382582690926376,-1.7286105233045104,-3.3274176052282987,-0.31580923857082854,-0.0022477885108969434,-0.7399373198141854,-1.0496008215922419,-0.018198058774143547,0.009171190217878636,-0.4359682580386698,-1.004700100123502,-1.1230110350456142,2.1312832353333366,2.1284473689005625,0.7196357631601891,0.35387350270156964,-0.7575764541103952,0.05885429630124914],\"xaxis\":\"x5\",\"y\":[-0.040620682752938356,0.6425512540068671,0.14954889475613145,0.49045887473164235,-0.5827195860487148,-0.13496047818515644,-0.9893694661713424,0.07739330554695359,1.2774594950431841,0.9051893198035333,0.43346916701428506,-0.8306833793111323,-1.3092321307066412,1.4813037309002575,-0.34839072009165795,-2.5934705048348343,1.2081323105876758,-0.09907281821256546,0.9136907908933014,-0.12432182626363361,0.925676795487707,-0.09977335171951576,1.4892365866941903,-0.8429186160540141,-0.3025715984088873,0.2679478968963423,0.56905456426694,0.2941970762016016,1.3056771575832564,-1.7443669852439025,-0.28515992298943627,-0.5145847265601052,0.035708484457847633,1.627107409135958,0.5335426874062241,-1.3189437705400466,0.02713630906105749,-0.038583607971776374,-0.5859905137239353,-1.2177623765108856,0.4515652168570346,-0.965931380122257,0.23111129390548757,0.3898620573440986,0.07476211856250009,0.32798815670390036,-0.9908999331121211,-0.3651869892093611,-0.007334796306520177,0.6839228452193726,2.1371650254650323,0.6489511031859807,-0.0012767696323471123,0.278889171030196,-0.33165140572707336,-0.5680326867475078,-0.5415757221815488,-0.7935480405004463,2.0211246678010775,-0.8997668043881036,0.3324242707696821,0.026734950348676796,1.1922255118347185,-0.7697899008768124,0.44790487649560123,0.0939673325457032,2.1821417801637426,0.774139202896262,0.517067398756495,0.11010871823609361,-0.16470198410872866,0.49069038348064636,1.4607640667920616,0.20981002442152016,0.6103777309682441,-1.26145508089656,-0.13052525017463731,0.6092958179619178,2.016326021795919,1.1692372030554616,-0.7226676608429432,0.6311301714091945,0.27447197998064354,-0.22685920767083032,-0.3324216234957669,0.32721386514126644,0.33811135832490846,0.10292645064304927,1.0746877746327905,-0.6545233505727898,0.18354641835424212,0.18527408763830389,-0.38314438999148615,-0.6569472338029486,0.06183474638568763,1.5813137036549005,1.5835367596453647,1.4283287411040775,-2.0300800263880037,1.5790161429256748],\"yaxis\":\"y5\",\"type\":\"scatter\"},{\"histfunc\":\"count\",\"histnorm\":\"\",\"marker\":{\"color\":\"rgba(55, 128, 191, 1.0)\",\"line\":{\"color\":\"#4D5663\",\"width\":1.3}},\"name\":\"B\",\"nbinsx\":10,\"opacity\":0.8,\"orientation\":\"v\",\"x\":[-0.040620682752938356,0.6425512540068671,0.14954889475613145,0.49045887473164235,-0.5827195860487148,-0.13496047818515644,-0.9893694661713424,0.07739330554695359,1.2774594950431841,0.9051893198035333,0.43346916701428506,-0.8306833793111323,-1.3092321307066412,1.4813037309002575,-0.34839072009165795,-2.5934705048348343,1.2081323105876758,-0.09907281821256546,0.9136907908933014,-0.12432182626363361,0.925676795487707,-0.09977335171951576,1.4892365866941903,-0.8429186160540141,-0.3025715984088873,0.2679478968963423,0.56905456426694,0.2941970762016016,1.3056771575832564,-1.7443669852439025,-0.28515992298943627,-0.5145847265601052,0.035708484457847633,1.627107409135958,0.5335426874062241,-1.3189437705400466,0.02713630906105749,-0.038583607971776374,-0.5859905137239353,-1.2177623765108856,0.4515652168570346,-0.965931380122257,0.23111129390548757,0.3898620573440986,0.07476211856250009,0.32798815670390036,-0.9908999331121211,-0.3651869892093611,-0.007334796306520177,0.6839228452193726,2.1371650254650323,0.6489511031859807,-0.0012767696323471123,0.278889171030196,-0.33165140572707336,-0.5680326867475078,-0.5415757221815488,-0.7935480405004463,2.0211246678010775,-0.8997668043881036,0.3324242707696821,0.026734950348676796,1.1922255118347185,-0.7697899008768124,0.44790487649560123,0.0939673325457032,2.1821417801637426,0.774139202896262,0.517067398756495,0.11010871823609361,-0.16470198410872866,0.49069038348064636,1.4607640667920616,0.20981002442152016,0.6103777309682441,-1.26145508089656,-0.13052525017463731,0.6092958179619178,2.016326021795919,1.1692372030554616,-0.7226676608429432,0.6311301714091945,0.27447197998064354,-0.22685920767083032,-0.3324216234957669,0.32721386514126644,0.33811135832490846,0.10292645064304927,1.0746877746327905,-0.6545233505727898,0.18354641835424212,0.18527408763830389,-0.38314438999148615,-0.6569472338029486,0.06183474638568763,1.5813137036549005,1.5835367596453647,1.4283287411040775,-2.0300800263880037,1.5790161429256748],\"xaxis\":\"x6\",\"yaxis\":\"y6\",\"type\":\"histogram\"},{\"line\":{\"color\":\"rgba(128, 128, 128, 1.0)\",\"dash\":\"solid\",\"shape\":\"linear\",\"width\":1.3},\"marker\":{\"size\":2,\"symbol\":\"circle\"},\"mode\":\"markers\",\"name\":\"B\",\"text\":\"\",\"x\":[-0.7373178581637543,1.2094282562187213,-0.8059119674331232,0.4876760751296238,-1.8064069520807258,-1.5737541884892818,0.1743789018229636,0.15281584239647017,2.244565344116197,1.0601479640163183,-0.5984122253086601,2.1435870040904086,0.6970531744694549,1.3759019920345859,1.8206631615829603,-0.028007465173700216,0.1428670677979271,-1.5979618363066557,0.5821058379949517,0.94386490701705,-1.2454178739856687,1.50661866559273,1.0869705895443469,1.6823727569828384,-0.8595273491126317,1.478320527760731,0.8162269049288953,0.5859220020319909,2.267898195446429,-0.35834491582002986,0.26598690520998214,-0.41533934704953945,1.2314433022629834,0.5600347720230504,0.40871590238812405,1.404608521107051,-0.0878461613244193,-0.7475328524313366,2.385831356221766,-0.15890511866981596,2.117139343156385,0.5961751395270899,-2.593387530688035,-0.26591322917759513,-0.39401309986313693,-0.22155029660222936,0.3695871934149242,0.5438226827080714,0.8599277357293486,0.8539903451802754,1.2456261673231157,-0.14294118703247036,-0.65164181039537,0.3000145649784694,-1.4459222155878377,-2.181327130251743,-1.5203395854167638,1.0370276033763146,0.8191918541369059,-0.24053659828283894,0.11868536157701531,1.8226415967280403,0.5221077987448178,-0.19584582131634867,0.578095034317103,-0.8456010765416432,-0.8475567682328727,0.6603753282845514,0.31592619336185124,0.39206835973372584,1.1417750462546776,-0.399904498048505,-1.1319856826194006,1.7886764693375763,0.642866245399601,-2.179668933455267,-0.9643433675465127,0.3212202032512991,0.050336948173034655,0.7662372734627357,0.25476345377570786,-0.14591352118157488,0.5914620862330049,1.1976005872437367,1.5745749474886952,-0.2967696059816843,-0.44343486877246796,0.94860467672076,0.9419019770815412,0.9713735465843496,-0.327698313732574,0.1493764488971369,-0.5461573419394765,-1.0342933267727203,-1.065861676081342,2.1819785360128434,-1.3487349594611897,-4.135527763244468,-0.1379146235635607,-2.2116708575521553],\"xaxis\":\"x7\",\"y\":[-0.040620682752938356,0.6425512540068671,0.14954889475613145,0.49045887473164235,-0.5827195860487148,-0.13496047818515644,-0.9893694661713424,0.07739330554695359,1.2774594950431841,0.9051893198035333,0.43346916701428506,-0.8306833793111323,-1.3092321307066412,1.4813037309002575,-0.34839072009165795,-2.5934705048348343,1.2081323105876758,-0.09907281821256546,0.9136907908933014,-0.12432182626363361,0.925676795487707,-0.09977335171951576,1.4892365866941903,-0.8429186160540141,-0.3025715984088873,0.2679478968963423,0.56905456426694,0.2941970762016016,1.3056771575832564,-1.7443669852439025,-0.28515992298943627,-0.5145847265601052,0.035708484457847633,1.627107409135958,0.5335426874062241,-1.3189437705400466,0.02713630906105749,-0.038583607971776374,-0.5859905137239353,-1.2177623765108856,0.4515652168570346,-0.965931380122257,0.23111129390548757,0.3898620573440986,0.07476211856250009,0.32798815670390036,-0.9908999331121211,-0.3651869892093611,-0.007334796306520177,0.6839228452193726,2.1371650254650323,0.6489511031859807,-0.0012767696323471123,0.278889171030196,-0.33165140572707336,-0.5680326867475078,-0.5415757221815488,-0.7935480405004463,2.0211246678010775,-0.8997668043881036,0.3324242707696821,0.026734950348676796,1.1922255118347185,-0.7697899008768124,0.44790487649560123,0.0939673325457032,2.1821417801637426,0.774139202896262,0.517067398756495,0.11010871823609361,-0.16470198410872866,0.49069038348064636,1.4607640667920616,0.20981002442152016,0.6103777309682441,-1.26145508089656,-0.13052525017463731,0.6092958179619178,2.016326021795919,1.1692372030554616,-0.7226676608429432,0.6311301714091945,0.27447197998064354,-0.22685920767083032,-0.3324216234957669,0.32721386514126644,0.33811135832490846,0.10292645064304927,1.0746877746327905,-0.6545233505727898,0.18354641835424212,0.18527408763830389,-0.38314438999148615,-0.6569472338029486,0.06183474638568763,1.5813137036549005,1.5835367596453647,1.4283287411040775,-2.0300800263880037,1.5790161429256748],\"yaxis\":\"y7\",\"type\":\"scatter\"},{\"line\":{\"color\":\"rgba(128, 128, 128, 1.0)\",\"dash\":\"solid\",\"shape\":\"linear\",\"width\":1.3},\"marker\":{\"size\":2,\"symbol\":\"circle\"},\"mode\":\"markers\",\"name\":\"B\",\"text\":\"\",\"x\":[-0.4094127428579206,-0.21816781863242246,1.11448266416044,-0.1295544427424413,0.9226234272267713,-1.232597784007126,-2.3601243523486963,-0.32340141787187887,0.6731101043432102,0.785305169819162,0.27584025105219745,-0.11215689418312598,-0.20064416491791479,-0.0009059663933048694,1.4443434794407248,1.016528312061317,1.6641673730697764,0.04237359660649589,0.2233088195758519,1.3451104368623341,-1.4227103743188094,-0.015315517765536298,1.0901723323236299,0.4010443231955874,-0.1359114955903373,0.38956577638360607,1.7177436381783815,-0.8930249405238582,-0.4282164926175609,-1.8187788442944304,1.2682080452118343,0.12234140101068217,-0.8587475191336498,-1.5952743956320585,-0.13931033039380844,0.3842636293682735,1.2841775594688878,-0.7655395790179279,-0.6177598552260284,0.8062901352699203,-1.0399997923046052,-0.8664557866152551,-0.7897816866310353,0.050552240392427346,-0.2758437203732586,1.2920111325917742,0.28703816892970224,0.45988639739509185,-0.18131820133397009,-2.0977034044556135,1.227686719707167,0.4410357331332495,1.3952479105120492,-0.728864022524065,1.2863027684115462,0.39965171094439944,-0.13336291183844542,-0.29240394314362955,0.27221939341837165,-0.16578246600085056,0.09352322007013927,0.40109979187341505,-0.6597971338563279,-0.14011372429474933,1.6135575003426434,-1.5380265561895399,0.06210467572715678,-0.36647507655689215,-0.20050236092492363,1.102189603246003,1.1076625879119724,-0.6173356475896526,-1.0517705328368148,-1.3667935238181685,2.0123677414946957,0.41700942992506784,-0.2595000507564968,0.39618910311449435,1.6292195940830516,1.7212727478638084,-0.7317401825711949,-0.5913161776502358,0.9365095450762048,1.998958277374428,0.9459905865789764,0.7441567293415282,0.75163136873997,0.7633044070608969,-0.11419874779609812,1.1899648367953914,1.5021766800259608,1.092742915606824,-0.16727633369836986,-0.743141975707925,-1.1083816961888047,-0.2086596930734489,-0.21247015297495855,0.9066772485657766,0.17841663489329393,-1.198655616253056],\"xaxis\":\"x8\",\"y\":[-0.040620682752938356,0.6425512540068671,0.14954889475613145,0.49045887473164235,-0.5827195860487148,-0.13496047818515644,-0.9893694661713424,0.07739330554695359,1.2774594950431841,0.9051893198035333,0.43346916701428506,-0.8306833793111323,-1.3092321307066412,1.4813037309002575,-0.34839072009165795,-2.5934705048348343,1.2081323105876758,-0.09907281821256546,0.9136907908933014,-0.12432182626363361,0.925676795487707,-0.09977335171951576,1.4892365866941903,-0.8429186160540141,-0.3025715984088873,0.2679478968963423,0.56905456426694,0.2941970762016016,1.3056771575832564,-1.7443669852439025,-0.28515992298943627,-0.5145847265601052,0.035708484457847633,1.627107409135958,0.5335426874062241,-1.3189437705400466,0.02713630906105749,-0.038583607971776374,-0.5859905137239353,-1.2177623765108856,0.4515652168570346,-0.965931380122257,0.23111129390548757,0.3898620573440986,0.07476211856250009,0.32798815670390036,-0.9908999331121211,-0.3651869892093611,-0.007334796306520177,0.6839228452193726,2.1371650254650323,0.6489511031859807,-0.0012767696323471123,0.278889171030196,-0.33165140572707336,-0.5680326867475078,-0.5415757221815488,-0.7935480405004463,2.0211246678010775,-0.8997668043881036,0.3324242707696821,0.026734950348676796,1.1922255118347185,-0.7697899008768124,0.44790487649560123,0.0939673325457032,2.1821417801637426,0.774139202896262,0.517067398756495,0.11010871823609361,-0.16470198410872866,0.49069038348064636,1.4607640667920616,0.20981002442152016,0.6103777309682441,-1.26145508089656,-0.13052525017463731,0.6092958179619178,2.016326021795919,1.1692372030554616,-0.7226676608429432,0.6311301714091945,0.27447197998064354,-0.22685920767083032,-0.3324216234957669,0.32721386514126644,0.33811135832490846,0.10292645064304927,1.0746877746327905,-0.6545233505727898,0.18354641835424212,0.18527408763830389,-0.38314438999148615,-0.6569472338029486,0.06183474638568763,1.5813137036549005,1.5835367596453647,1.4283287411040775,-2.0300800263880037,1.5790161429256748],\"yaxis\":\"y8\",\"type\":\"scatter\"},{\"line\":{\"color\":\"rgba(128, 128, 128, 1.0)\",\"dash\":\"solid\",\"shape\":\"linear\",\"width\":1.3},\"marker\":{\"size\":2,\"symbol\":\"circle\"},\"mode\":\"markers\",\"name\":\"C\",\"text\":\"\",\"x\":[-0.8805112749273397,1.4546803047490493,0.45853165741418406,-0.3005759439371258,0.9424598261557191,0.19201853912783895,0.128732384353252,-1.1246631977459849,1.004559436801384,-0.019433001305279293,0.8743710434087673,1.266547392168914,-0.013290881499199495,1.2146231112105121,0.9026519074182962,-0.25852503161661794,0.06350722196103391,0.061319066665640985,0.6826923694271695,0.6571582828505825,-0.6394539760429969,-0.3873354829211536,-1.275992785163112,-0.9049553682456588,0.39140151388641575,-1.3261717503652508,-0.11176379848313447,0.12996215884278603,-0.4992525292514862,-0.3757696877819027,1.8950234573743023,-1.9806901072377638,-0.23372785694788464,-0.8724008970677714,-0.34295179012678584,0.5427956937168907,1.1566492382180327,1.3326192990291548,-3.338998968955712,-1.1091125681635465,-1.3795235178695933,-1.1995158314131806,1.8271736655576276,-1.6994936600219739,-1.6145550438467797,0.9643249901269011,0.18191869225186177,1.067698235546503,-2.1762174829824414,0.6125575233486188,0.36338752339594443,0.30630912374155744,0.10269690778525375,-0.23617787136845161,0.29204680294836505,-1.532545565777484,0.8019566260245036,0.008843763923224425,-0.42653027037276425,0.28462913192626726,0.33580872462837,0.09094416649994692,-2.105854750180177,-2.423062150710898,-0.6026419962151889,0.4283091936814125,-1.178494121002894,-0.5400337459898417,0.9880569653816528,-1.1816843048036256,0.08603326565887974,1.7909142535972238,1.2309346264188081,-1.8196369817643112,-0.42081030328553204,-1.5186485358520676,-0.35265366574837465,-0.045581613031547445,-0.20430067627555923,0.5409643956030542,-0.41286664820958746,0.3410783944367214,-0.05382582690926376,-1.7286105233045104,-3.3274176052282987,-0.31580923857082854,-0.0022477885108969434,-0.7399373198141854,-1.0496008215922419,-0.018198058774143547,0.009171190217878636,-0.4359682580386698,-1.004700100123502,-1.1230110350456142,2.1312832353333366,2.1284473689005625,0.7196357631601891,0.35387350270156964,-0.7575764541103952,0.05885429630124914],\"xaxis\":\"x9\",\"y\":[-0.7373178581637543,1.2094282562187213,-0.8059119674331232,0.4876760751296238,-1.8064069520807258,-1.5737541884892818,0.1743789018229636,0.15281584239647017,2.244565344116197,1.0601479640163183,-0.5984122253086601,2.1435870040904086,0.6970531744694549,1.3759019920345859,1.8206631615829603,-0.028007465173700216,0.1428670677979271,-1.5979618363066557,0.5821058379949517,0.94386490701705,-1.2454178739856687,1.50661866559273,1.0869705895443469,1.6823727569828384,-0.8595273491126317,1.478320527760731,0.8162269049288953,0.5859220020319909,2.267898195446429,-0.35834491582002986,0.26598690520998214,-0.41533934704953945,1.2314433022629834,0.5600347720230504,0.40871590238812405,1.404608521107051,-0.0878461613244193,-0.7475328524313366,2.385831356221766,-0.15890511866981596,2.117139343156385,0.5961751395270899,-2.593387530688035,-0.26591322917759513,-0.39401309986313693,-0.22155029660222936,0.3695871934149242,0.5438226827080714,0.8599277357293486,0.8539903451802754,1.2456261673231157,-0.14294118703247036,-0.65164181039537,0.3000145649784694,-1.4459222155878377,-2.181327130251743,-1.5203395854167638,1.0370276033763146,0.8191918541369059,-0.24053659828283894,0.11868536157701531,1.8226415967280403,0.5221077987448178,-0.19584582131634867,0.578095034317103,-0.8456010765416432,-0.8475567682328727,0.6603753282845514,0.31592619336185124,0.39206835973372584,1.1417750462546776,-0.399904498048505,-1.1319856826194006,1.7886764693375763,0.642866245399601,-2.179668933455267,-0.9643433675465127,0.3212202032512991,0.050336948173034655,0.7662372734627357,0.25476345377570786,-0.14591352118157488,0.5914620862330049,1.1976005872437367,1.5745749474886952,-0.2967696059816843,-0.44343486877246796,0.94860467672076,0.9419019770815412,0.9713735465843496,-0.327698313732574,0.1493764488971369,-0.5461573419394765,-1.0342933267727203,-1.065861676081342,2.1819785360128434,-1.3487349594611897,-4.135527763244468,-0.1379146235635607,-2.2116708575521553],\"yaxis\":\"y9\",\"type\":\"scatter\"},{\"line\":{\"color\":\"rgba(128, 128, 128, 1.0)\",\"dash\":\"solid\",\"shape\":\"linear\",\"width\":1.3},\"marker\":{\"size\":2,\"symbol\":\"circle\"},\"mode\":\"markers\",\"name\":\"C\",\"text\":\"\",\"x\":[-0.040620682752938356,0.6425512540068671,0.14954889475613145,0.49045887473164235,-0.5827195860487148,-0.13496047818515644,-0.9893694661713424,0.07739330554695359,1.2774594950431841,0.9051893198035333,0.43346916701428506,-0.8306833793111323,-1.3092321307066412,1.4813037309002575,-0.34839072009165795,-2.5934705048348343,1.2081323105876758,-0.09907281821256546,0.9136907908933014,-0.12432182626363361,0.925676795487707,-0.09977335171951576,1.4892365866941903,-0.8429186160540141,-0.3025715984088873,0.2679478968963423,0.56905456426694,0.2941970762016016,1.3056771575832564,-1.7443669852439025,-0.28515992298943627,-0.5145847265601052,0.035708484457847633,1.627107409135958,0.5335426874062241,-1.3189437705400466,0.02713630906105749,-0.038583607971776374,-0.5859905137239353,-1.2177623765108856,0.4515652168570346,-0.965931380122257,0.23111129390548757,0.3898620573440986,0.07476211856250009,0.32798815670390036,-0.9908999331121211,-0.3651869892093611,-0.007334796306520177,0.6839228452193726,2.1371650254650323,0.6489511031859807,-0.0012767696323471123,0.278889171030196,-0.33165140572707336,-0.5680326867475078,-0.5415757221815488,-0.7935480405004463,2.0211246678010775,-0.8997668043881036,0.3324242707696821,0.026734950348676796,1.1922255118347185,-0.7697899008768124,0.44790487649560123,0.0939673325457032,2.1821417801637426,0.774139202896262,0.517067398756495,0.11010871823609361,-0.16470198410872866,0.49069038348064636,1.4607640667920616,0.20981002442152016,0.6103777309682441,-1.26145508089656,-0.13052525017463731,0.6092958179619178,2.016326021795919,1.1692372030554616,-0.7226676608429432,0.6311301714091945,0.27447197998064354,-0.22685920767083032,-0.3324216234957669,0.32721386514126644,0.33811135832490846,0.10292645064304927,1.0746877746327905,-0.6545233505727898,0.18354641835424212,0.18527408763830389,-0.38314438999148615,-0.6569472338029486,0.06183474638568763,1.5813137036549005,1.5835367596453647,1.4283287411040775,-2.0300800263880037,1.5790161429256748],\"xaxis\":\"x10\",\"y\":[-0.7373178581637543,1.2094282562187213,-0.8059119674331232,0.4876760751296238,-1.8064069520807258,-1.5737541884892818,0.1743789018229636,0.15281584239647017,2.244565344116197,1.0601479640163183,-0.5984122253086601,2.1435870040904086,0.6970531744694549,1.3759019920345859,1.8206631615829603,-0.028007465173700216,0.1428670677979271,-1.5979618363066557,0.5821058379949517,0.94386490701705,-1.2454178739856687,1.50661866559273,1.0869705895443469,1.6823727569828384,-0.8595273491126317,1.478320527760731,0.8162269049288953,0.5859220020319909,2.267898195446429,-0.35834491582002986,0.26598690520998214,-0.41533934704953945,1.2314433022629834,0.5600347720230504,0.40871590238812405,1.404608521107051,-0.0878461613244193,-0.7475328524313366,2.385831356221766,-0.15890511866981596,2.117139343156385,0.5961751395270899,-2.593387530688035,-0.26591322917759513,-0.39401309986313693,-0.22155029660222936,0.3695871934149242,0.5438226827080714,0.8599277357293486,0.8539903451802754,1.2456261673231157,-0.14294118703247036,-0.65164181039537,0.3000145649784694,-1.4459222155878377,-2.181327130251743,-1.5203395854167638,1.0370276033763146,0.8191918541369059,-0.24053659828283894,0.11868536157701531,1.8226415967280403,0.5221077987448178,-0.19584582131634867,0.578095034317103,-0.8456010765416432,-0.8475567682328727,0.6603753282845514,0.31592619336185124,0.39206835973372584,1.1417750462546776,-0.399904498048505,-1.1319856826194006,1.7886764693375763,0.642866245399601,-2.179668933455267,-0.9643433675465127,0.3212202032512991,0.050336948173034655,0.7662372734627357,0.25476345377570786,-0.14591352118157488,0.5914620862330049,1.1976005872437367,1.5745749474886952,-0.2967696059816843,-0.44343486877246796,0.94860467672076,0.9419019770815412,0.9713735465843496,-0.327698313732574,0.1493764488971369,-0.5461573419394765,-1.0342933267727203,-1.065861676081342,2.1819785360128434,-1.3487349594611897,-4.135527763244468,-0.1379146235635607,-2.2116708575521553],\"yaxis\":\"y10\",\"type\":\"scatter\"},{\"histfunc\":\"count\",\"histnorm\":\"\",\"marker\":{\"color\":\"rgba(50, 171, 96, 1.0)\",\"line\":{\"color\":\"#4D5663\",\"width\":1.3}},\"name\":\"C\",\"nbinsx\":10,\"opacity\":0.8,\"orientation\":\"v\",\"x\":[-0.7373178581637543,1.2094282562187213,-0.8059119674331232,0.4876760751296238,-1.8064069520807258,-1.5737541884892818,0.1743789018229636,0.15281584239647017,2.244565344116197,1.0601479640163183,-0.5984122253086601,2.1435870040904086,0.6970531744694549,1.3759019920345859,1.8206631615829603,-0.028007465173700216,0.1428670677979271,-1.5979618363066557,0.5821058379949517,0.94386490701705,-1.2454178739856687,1.50661866559273,1.0869705895443469,1.6823727569828384,-0.8595273491126317,1.478320527760731,0.8162269049288953,0.5859220020319909,2.267898195446429,-0.35834491582002986,0.26598690520998214,-0.41533934704953945,1.2314433022629834,0.5600347720230504,0.40871590238812405,1.404608521107051,-0.0878461613244193,-0.7475328524313366,2.385831356221766,-0.15890511866981596,2.117139343156385,0.5961751395270899,-2.593387530688035,-0.26591322917759513,-0.39401309986313693,-0.22155029660222936,0.3695871934149242,0.5438226827080714,0.8599277357293486,0.8539903451802754,1.2456261673231157,-0.14294118703247036,-0.65164181039537,0.3000145649784694,-1.4459222155878377,-2.181327130251743,-1.5203395854167638,1.0370276033763146,0.8191918541369059,-0.24053659828283894,0.11868536157701531,1.8226415967280403,0.5221077987448178,-0.19584582131634867,0.578095034317103,-0.8456010765416432,-0.8475567682328727,0.6603753282845514,0.31592619336185124,0.39206835973372584,1.1417750462546776,-0.399904498048505,-1.1319856826194006,1.7886764693375763,0.642866245399601,-2.179668933455267,-0.9643433675465127,0.3212202032512991,0.050336948173034655,0.7662372734627357,0.25476345377570786,-0.14591352118157488,0.5914620862330049,1.1976005872437367,1.5745749474886952,-0.2967696059816843,-0.44343486877246796,0.94860467672076,0.9419019770815412,0.9713735465843496,-0.327698313732574,0.1493764488971369,-0.5461573419394765,-1.0342933267727203,-1.065861676081342,2.1819785360128434,-1.3487349594611897,-4.135527763244468,-0.1379146235635607,-2.2116708575521553],\"xaxis\":\"x11\",\"yaxis\":\"y11\",\"type\":\"histogram\"},{\"line\":{\"color\":\"rgba(128, 128, 128, 1.0)\",\"dash\":\"solid\",\"shape\":\"linear\",\"width\":1.3},\"marker\":{\"size\":2,\"symbol\":\"circle\"},\"mode\":\"markers\",\"name\":\"C\",\"text\":\"\",\"x\":[-0.4094127428579206,-0.21816781863242246,1.11448266416044,-0.1295544427424413,0.9226234272267713,-1.232597784007126,-2.3601243523486963,-0.32340141787187887,0.6731101043432102,0.785305169819162,0.27584025105219745,-0.11215689418312598,-0.20064416491791479,-0.0009059663933048694,1.4443434794407248,1.016528312061317,1.6641673730697764,0.04237359660649589,0.2233088195758519,1.3451104368623341,-1.4227103743188094,-0.015315517765536298,1.0901723323236299,0.4010443231955874,-0.1359114955903373,0.38956577638360607,1.7177436381783815,-0.8930249405238582,-0.4282164926175609,-1.8187788442944304,1.2682080452118343,0.12234140101068217,-0.8587475191336498,-1.5952743956320585,-0.13931033039380844,0.3842636293682735,1.2841775594688878,-0.7655395790179279,-0.6177598552260284,0.8062901352699203,-1.0399997923046052,-0.8664557866152551,-0.7897816866310353,0.050552240392427346,-0.2758437203732586,1.2920111325917742,0.28703816892970224,0.45988639739509185,-0.18131820133397009,-2.0977034044556135,1.227686719707167,0.4410357331332495,1.3952479105120492,-0.728864022524065,1.2863027684115462,0.39965171094439944,-0.13336291183844542,-0.29240394314362955,0.27221939341837165,-0.16578246600085056,0.09352322007013927,0.40109979187341505,-0.6597971338563279,-0.14011372429474933,1.6135575003426434,-1.5380265561895399,0.06210467572715678,-0.36647507655689215,-0.20050236092492363,1.102189603246003,1.1076625879119724,-0.6173356475896526,-1.0517705328368148,-1.3667935238181685,2.0123677414946957,0.41700942992506784,-0.2595000507564968,0.39618910311449435,1.6292195940830516,1.7212727478638084,-0.7317401825711949,-0.5913161776502358,0.9365095450762048,1.998958277374428,0.9459905865789764,0.7441567293415282,0.75163136873997,0.7633044070608969,-0.11419874779609812,1.1899648367953914,1.5021766800259608,1.092742915606824,-0.16727633369836986,-0.743141975707925,-1.1083816961888047,-0.2086596930734489,-0.21247015297495855,0.9066772485657766,0.17841663489329393,-1.198655616253056],\"xaxis\":\"x12\",\"y\":[-0.7373178581637543,1.2094282562187213,-0.8059119674331232,0.4876760751296238,-1.8064069520807258,-1.5737541884892818,0.1743789018229636,0.15281584239647017,2.244565344116197,1.0601479640163183,-0.5984122253086601,2.1435870040904086,0.6970531744694549,1.3759019920345859,1.8206631615829603,-0.028007465173700216,0.1428670677979271,-1.5979618363066557,0.5821058379949517,0.94386490701705,-1.2454178739856687,1.50661866559273,1.0869705895443469,1.6823727569828384,-0.8595273491126317,1.478320527760731,0.8162269049288953,0.5859220020319909,2.267898195446429,-0.35834491582002986,0.26598690520998214,-0.41533934704953945,1.2314433022629834,0.5600347720230504,0.40871590238812405,1.404608521107051,-0.0878461613244193,-0.7475328524313366,2.385831356221766,-0.15890511866981596,2.117139343156385,0.5961751395270899,-2.593387530688035,-0.26591322917759513,-0.39401309986313693,-0.22155029660222936,0.3695871934149242,0.5438226827080714,0.8599277357293486,0.8539903451802754,1.2456261673231157,-0.14294118703247036,-0.65164181039537,0.3000145649784694,-1.4459222155878377,-2.181327130251743,-1.5203395854167638,1.0370276033763146,0.8191918541369059,-0.24053659828283894,0.11868536157701531,1.8226415967280403,0.5221077987448178,-0.19584582131634867,0.578095034317103,-0.8456010765416432,-0.8475567682328727,0.6603753282845514,0.31592619336185124,0.39206835973372584,1.1417750462546776,-0.399904498048505,-1.1319856826194006,1.7886764693375763,0.642866245399601,-2.179668933455267,-0.9643433675465127,0.3212202032512991,0.050336948173034655,0.7662372734627357,0.25476345377570786,-0.14591352118157488,0.5914620862330049,1.1976005872437367,1.5745749474886952,-0.2967696059816843,-0.44343486877246796,0.94860467672076,0.9419019770815412,0.9713735465843496,-0.327698313732574,0.1493764488971369,-0.5461573419394765,-1.0342933267727203,-1.065861676081342,2.1819785360128434,-1.3487349594611897,-4.135527763244468,-0.1379146235635607,-2.2116708575521553],\"yaxis\":\"y12\",\"type\":\"scatter\"},{\"line\":{\"color\":\"rgba(128, 128, 128, 1.0)\",\"dash\":\"solid\",\"shape\":\"linear\",\"width\":1.3},\"marker\":{\"size\":2,\"symbol\":\"circle\"},\"mode\":\"markers\",\"name\":\"D\",\"text\":\"\",\"x\":[-0.8805112749273397,1.4546803047490493,0.45853165741418406,-0.3005759439371258,0.9424598261557191,0.19201853912783895,0.128732384353252,-1.1246631977459849,1.004559436801384,-0.019433001305279293,0.8743710434087673,1.266547392168914,-0.013290881499199495,1.2146231112105121,0.9026519074182962,-0.25852503161661794,0.06350722196103391,0.061319066665640985,0.6826923694271695,0.6571582828505825,-0.6394539760429969,-0.3873354829211536,-1.275992785163112,-0.9049553682456588,0.39140151388641575,-1.3261717503652508,-0.11176379848313447,0.12996215884278603,-0.4992525292514862,-0.3757696877819027,1.8950234573743023,-1.9806901072377638,-0.23372785694788464,-0.8724008970677714,-0.34295179012678584,0.5427956937168907,1.1566492382180327,1.3326192990291548,-3.338998968955712,-1.1091125681635465,-1.3795235178695933,-1.1995158314131806,1.8271736655576276,-1.6994936600219739,-1.6145550438467797,0.9643249901269011,0.18191869225186177,1.067698235546503,-2.1762174829824414,0.6125575233486188,0.36338752339594443,0.30630912374155744,0.10269690778525375,-0.23617787136845161,0.29204680294836505,-1.532545565777484,0.8019566260245036,0.008843763923224425,-0.42653027037276425,0.28462913192626726,0.33580872462837,0.09094416649994692,-2.105854750180177,-2.423062150710898,-0.6026419962151889,0.4283091936814125,-1.178494121002894,-0.5400337459898417,0.9880569653816528,-1.1816843048036256,0.08603326565887974,1.7909142535972238,1.2309346264188081,-1.8196369817643112,-0.42081030328553204,-1.5186485358520676,-0.35265366574837465,-0.045581613031547445,-0.20430067627555923,0.5409643956030542,-0.41286664820958746,0.3410783944367214,-0.05382582690926376,-1.7286105233045104,-3.3274176052282987,-0.31580923857082854,-0.0022477885108969434,-0.7399373198141854,-1.0496008215922419,-0.018198058774143547,0.009171190217878636,-0.4359682580386698,-1.004700100123502,-1.1230110350456142,2.1312832353333366,2.1284473689005625,0.7196357631601891,0.35387350270156964,-0.7575764541103952,0.05885429630124914],\"xaxis\":\"x13\",\"y\":[-0.4094127428579206,-0.21816781863242246,1.11448266416044,-0.1295544427424413,0.9226234272267713,-1.232597784007126,-2.3601243523486963,-0.32340141787187887,0.6731101043432102,0.785305169819162,0.27584025105219745,-0.11215689418312598,-0.20064416491791479,-0.0009059663933048694,1.4443434794407248,1.016528312061317,1.6641673730697764,0.04237359660649589,0.2233088195758519,1.3451104368623341,-1.4227103743188094,-0.015315517765536298,1.0901723323236299,0.4010443231955874,-0.1359114955903373,0.38956577638360607,1.7177436381783815,-0.8930249405238582,-0.4282164926175609,-1.8187788442944304,1.2682080452118343,0.12234140101068217,-0.8587475191336498,-1.5952743956320585,-0.13931033039380844,0.3842636293682735,1.2841775594688878,-0.7655395790179279,-0.6177598552260284,0.8062901352699203,-1.0399997923046052,-0.8664557866152551,-0.7897816866310353,0.050552240392427346,-0.2758437203732586,1.2920111325917742,0.28703816892970224,0.45988639739509185,-0.18131820133397009,-2.0977034044556135,1.227686719707167,0.4410357331332495,1.3952479105120492,-0.728864022524065,1.2863027684115462,0.39965171094439944,-0.13336291183844542,-0.29240394314362955,0.27221939341837165,-0.16578246600085056,0.09352322007013927,0.40109979187341505,-0.6597971338563279,-0.14011372429474933,1.6135575003426434,-1.5380265561895399,0.06210467572715678,-0.36647507655689215,-0.20050236092492363,1.102189603246003,1.1076625879119724,-0.6173356475896526,-1.0517705328368148,-1.3667935238181685,2.0123677414946957,0.41700942992506784,-0.2595000507564968,0.39618910311449435,1.6292195940830516,1.7212727478638084,-0.7317401825711949,-0.5913161776502358,0.9365095450762048,1.998958277374428,0.9459905865789764,0.7441567293415282,0.75163136873997,0.7633044070608969,-0.11419874779609812,1.1899648367953914,1.5021766800259608,1.092742915606824,-0.16727633369836986,-0.743141975707925,-1.1083816961888047,-0.2086596930734489,-0.21247015297495855,0.9066772485657766,0.17841663489329393,-1.198655616253056],\"yaxis\":\"y13\",\"type\":\"scatter\"},{\"line\":{\"color\":\"rgba(128, 128, 128, 1.0)\",\"dash\":\"solid\",\"shape\":\"linear\",\"width\":1.3},\"marker\":{\"size\":2,\"symbol\":\"circle\"},\"mode\":\"markers\",\"name\":\"D\",\"text\":\"\",\"x\":[-0.040620682752938356,0.6425512540068671,0.14954889475613145,0.49045887473164235,-0.5827195860487148,-0.13496047818515644,-0.9893694661713424,0.07739330554695359,1.2774594950431841,0.9051893198035333,0.43346916701428506,-0.8306833793111323,-1.3092321307066412,1.4813037309002575,-0.34839072009165795,-2.5934705048348343,1.2081323105876758,-0.09907281821256546,0.9136907908933014,-0.12432182626363361,0.925676795487707,-0.09977335171951576,1.4892365866941903,-0.8429186160540141,-0.3025715984088873,0.2679478968963423,0.56905456426694,0.2941970762016016,1.3056771575832564,-1.7443669852439025,-0.28515992298943627,-0.5145847265601052,0.035708484457847633,1.627107409135958,0.5335426874062241,-1.3189437705400466,0.02713630906105749,-0.038583607971776374,-0.5859905137239353,-1.2177623765108856,0.4515652168570346,-0.965931380122257,0.23111129390548757,0.3898620573440986,0.07476211856250009,0.32798815670390036,-0.9908999331121211,-0.3651869892093611,-0.007334796306520177,0.6839228452193726,2.1371650254650323,0.6489511031859807,-0.0012767696323471123,0.278889171030196,-0.33165140572707336,-0.5680326867475078,-0.5415757221815488,-0.7935480405004463,2.0211246678010775,-0.8997668043881036,0.3324242707696821,0.026734950348676796,1.1922255118347185,-0.7697899008768124,0.44790487649560123,0.0939673325457032,2.1821417801637426,0.774139202896262,0.517067398756495,0.11010871823609361,-0.16470198410872866,0.49069038348064636,1.4607640667920616,0.20981002442152016,0.6103777309682441,-1.26145508089656,-0.13052525017463731,0.6092958179619178,2.016326021795919,1.1692372030554616,-0.7226676608429432,0.6311301714091945,0.27447197998064354,-0.22685920767083032,-0.3324216234957669,0.32721386514126644,0.33811135832490846,0.10292645064304927,1.0746877746327905,-0.6545233505727898,0.18354641835424212,0.18527408763830389,-0.38314438999148615,-0.6569472338029486,0.06183474638568763,1.5813137036549005,1.5835367596453647,1.4283287411040775,-2.0300800263880037,1.5790161429256748],\"xaxis\":\"x14\",\"y\":[-0.4094127428579206,-0.21816781863242246,1.11448266416044,-0.1295544427424413,0.9226234272267713,-1.232597784007126,-2.3601243523486963,-0.32340141787187887,0.6731101043432102,0.785305169819162,0.27584025105219745,-0.11215689418312598,-0.20064416491791479,-0.0009059663933048694,1.4443434794407248,1.016528312061317,1.6641673730697764,0.04237359660649589,0.2233088195758519,1.3451104368623341,-1.4227103743188094,-0.015315517765536298,1.0901723323236299,0.4010443231955874,-0.1359114955903373,0.38956577638360607,1.7177436381783815,-0.8930249405238582,-0.4282164926175609,-1.8187788442944304,1.2682080452118343,0.12234140101068217,-0.8587475191336498,-1.5952743956320585,-0.13931033039380844,0.3842636293682735,1.2841775594688878,-0.7655395790179279,-0.6177598552260284,0.8062901352699203,-1.0399997923046052,-0.8664557866152551,-0.7897816866310353,0.050552240392427346,-0.2758437203732586,1.2920111325917742,0.28703816892970224,0.45988639739509185,-0.18131820133397009,-2.0977034044556135,1.227686719707167,0.4410357331332495,1.3952479105120492,-0.728864022524065,1.2863027684115462,0.39965171094439944,-0.13336291183844542,-0.29240394314362955,0.27221939341837165,-0.16578246600085056,0.09352322007013927,0.40109979187341505,-0.6597971338563279,-0.14011372429474933,1.6135575003426434,-1.5380265561895399,0.06210467572715678,-0.36647507655689215,-0.20050236092492363,1.102189603246003,1.1076625879119724,-0.6173356475896526,-1.0517705328368148,-1.3667935238181685,2.0123677414946957,0.41700942992506784,-0.2595000507564968,0.39618910311449435,1.6292195940830516,1.7212727478638084,-0.7317401825711949,-0.5913161776502358,0.9365095450762048,1.998958277374428,0.9459905865789764,0.7441567293415282,0.75163136873997,0.7633044070608969,-0.11419874779609812,1.1899648367953914,1.5021766800259608,1.092742915606824,-0.16727633369836986,-0.743141975707925,-1.1083816961888047,-0.2086596930734489,-0.21247015297495855,0.9066772485657766,0.17841663489329393,-1.198655616253056],\"yaxis\":\"y14\",\"type\":\"scatter\"},{\"line\":{\"color\":\"rgba(128, 128, 128, 1.0)\",\"dash\":\"solid\",\"shape\":\"linear\",\"width\":1.3},\"marker\":{\"size\":2,\"symbol\":\"circle\"},\"mode\":\"markers\",\"name\":\"D\",\"text\":\"\",\"x\":[-0.7373178581637543,1.2094282562187213,-0.8059119674331232,0.4876760751296238,-1.8064069520807258,-1.5737541884892818,0.1743789018229636,0.15281584239647017,2.244565344116197,1.0601479640163183,-0.5984122253086601,2.1435870040904086,0.6970531744694549,1.3759019920345859,1.8206631615829603,-0.028007465173700216,0.1428670677979271,-1.5979618363066557,0.5821058379949517,0.94386490701705,-1.2454178739856687,1.50661866559273,1.0869705895443469,1.6823727569828384,-0.8595273491126317,1.478320527760731,0.8162269049288953,0.5859220020319909,2.267898195446429,-0.35834491582002986,0.26598690520998214,-0.41533934704953945,1.2314433022629834,0.5600347720230504,0.40871590238812405,1.404608521107051,-0.0878461613244193,-0.7475328524313366,2.385831356221766,-0.15890511866981596,2.117139343156385,0.5961751395270899,-2.593387530688035,-0.26591322917759513,-0.39401309986313693,-0.22155029660222936,0.3695871934149242,0.5438226827080714,0.8599277357293486,0.8539903451802754,1.2456261673231157,-0.14294118703247036,-0.65164181039537,0.3000145649784694,-1.4459222155878377,-2.181327130251743,-1.5203395854167638,1.0370276033763146,0.8191918541369059,-0.24053659828283894,0.11868536157701531,1.8226415967280403,0.5221077987448178,-0.19584582131634867,0.578095034317103,-0.8456010765416432,-0.8475567682328727,0.6603753282845514,0.31592619336185124,0.39206835973372584,1.1417750462546776,-0.399904498048505,-1.1319856826194006,1.7886764693375763,0.642866245399601,-2.179668933455267,-0.9643433675465127,0.3212202032512991,0.050336948173034655,0.7662372734627357,0.25476345377570786,-0.14591352118157488,0.5914620862330049,1.1976005872437367,1.5745749474886952,-0.2967696059816843,-0.44343486877246796,0.94860467672076,0.9419019770815412,0.9713735465843496,-0.327698313732574,0.1493764488971369,-0.5461573419394765,-1.0342933267727203,-1.065861676081342,2.1819785360128434,-1.3487349594611897,-4.135527763244468,-0.1379146235635607,-2.2116708575521553],\"xaxis\":\"x15\",\"y\":[-0.4094127428579206,-0.21816781863242246,1.11448266416044,-0.1295544427424413,0.9226234272267713,-1.232597784007126,-2.3601243523486963,-0.32340141787187887,0.6731101043432102,0.785305169819162,0.27584025105219745,-0.11215689418312598,-0.20064416491791479,-0.0009059663933048694,1.4443434794407248,1.016528312061317,1.6641673730697764,0.04237359660649589,0.2233088195758519,1.3451104368623341,-1.4227103743188094,-0.015315517765536298,1.0901723323236299,0.4010443231955874,-0.1359114955903373,0.38956577638360607,1.7177436381783815,-0.8930249405238582,-0.4282164926175609,-1.8187788442944304,1.2682080452118343,0.12234140101068217,-0.8587475191336498,-1.5952743956320585,-0.13931033039380844,0.3842636293682735,1.2841775594688878,-0.7655395790179279,-0.6177598552260284,0.8062901352699203,-1.0399997923046052,-0.8664557866152551,-0.7897816866310353,0.050552240392427346,-0.2758437203732586,1.2920111325917742,0.28703816892970224,0.45988639739509185,-0.18131820133397009,-2.0977034044556135,1.227686719707167,0.4410357331332495,1.3952479105120492,-0.728864022524065,1.2863027684115462,0.39965171094439944,-0.13336291183844542,-0.29240394314362955,0.27221939341837165,-0.16578246600085056,0.09352322007013927,0.40109979187341505,-0.6597971338563279,-0.14011372429474933,1.6135575003426434,-1.5380265561895399,0.06210467572715678,-0.36647507655689215,-0.20050236092492363,1.102189603246003,1.1076625879119724,-0.6173356475896526,-1.0517705328368148,-1.3667935238181685,2.0123677414946957,0.41700942992506784,-0.2595000507564968,0.39618910311449435,1.6292195940830516,1.7212727478638084,-0.7317401825711949,-0.5913161776502358,0.9365095450762048,1.998958277374428,0.9459905865789764,0.7441567293415282,0.75163136873997,0.7633044070608969,-0.11419874779609812,1.1899648367953914,1.5021766800259608,1.092742915606824,-0.16727633369836986,-0.743141975707925,-1.1083816961888047,-0.2086596930734489,-0.21247015297495855,0.9066772485657766,0.17841663489329393,-1.198655616253056],\"yaxis\":\"y15\",\"type\":\"scatter\"},{\"histfunc\":\"count\",\"histnorm\":\"\",\"marker\":{\"color\":\"rgba(128, 0, 128, 1.0)\",\"line\":{\"color\":\"#4D5663\",\"width\":1.3}},\"name\":\"D\",\"nbinsx\":10,\"opacity\":0.8,\"orientation\":\"v\",\"x\":[-0.4094127428579206,-0.21816781863242246,1.11448266416044,-0.1295544427424413,0.9226234272267713,-1.232597784007126,-2.3601243523486963,-0.32340141787187887,0.6731101043432102,0.785305169819162,0.27584025105219745,-0.11215689418312598,-0.20064416491791479,-0.0009059663933048694,1.4443434794407248,1.016528312061317,1.6641673730697764,0.04237359660649589,0.2233088195758519,1.3451104368623341,-1.4227103743188094,-0.015315517765536298,1.0901723323236299,0.4010443231955874,-0.1359114955903373,0.38956577638360607,1.7177436381783815,-0.8930249405238582,-0.4282164926175609,-1.8187788442944304,1.2682080452118343,0.12234140101068217,-0.8587475191336498,-1.5952743956320585,-0.13931033039380844,0.3842636293682735,1.2841775594688878,-0.7655395790179279,-0.6177598552260284,0.8062901352699203,-1.0399997923046052,-0.8664557866152551,-0.7897816866310353,0.050552240392427346,-0.2758437203732586,1.2920111325917742,0.28703816892970224,0.45988639739509185,-0.18131820133397009,-2.0977034044556135,1.227686719707167,0.4410357331332495,1.3952479105120492,-0.728864022524065,1.2863027684115462,0.39965171094439944,-0.13336291183844542,-0.29240394314362955,0.27221939341837165,-0.16578246600085056,0.09352322007013927,0.40109979187341505,-0.6597971338563279,-0.14011372429474933,1.6135575003426434,-1.5380265561895399,0.06210467572715678,-0.36647507655689215,-0.20050236092492363,1.102189603246003,1.1076625879119724,-0.6173356475896526,-1.0517705328368148,-1.3667935238181685,2.0123677414946957,0.41700942992506784,-0.2595000507564968,0.39618910311449435,1.6292195940830516,1.7212727478638084,-0.7317401825711949,-0.5913161776502358,0.9365095450762048,1.998958277374428,0.9459905865789764,0.7441567293415282,0.75163136873997,0.7633044070608969,-0.11419874779609812,1.1899648367953914,1.5021766800259608,1.092742915606824,-0.16727633369836986,-0.743141975707925,-1.1083816961888047,-0.2086596930734489,-0.21247015297495855,0.9066772485657766,0.17841663489329393,-1.198655616253056],\"xaxis\":\"x16\",\"yaxis\":\"y16\",\"type\":\"histogram\"}],                        {\"bargap\":0.02,\"legend\":{\"bgcolor\":\"#F5F6F9\",\"font\":{\"color\":\"#4D5663\"}},\"paper_bgcolor\":\"#F5F6F9\",\"plot_bgcolor\":\"#F5F6F9\",\"showlegend\":false,\"template\":{\"data\":{\"barpolar\":[{\"marker\":{\"line\":{\"color\":\"#E5ECF6\",\"width\":0.5},\"pattern\":{\"fillmode\":\"overlay\",\"size\":10,\"solidity\":0.2}},\"type\":\"barpolar\"}],\"bar\":[{\"error_x\":{\"color\":\"#2a3f5f\"},\"error_y\":{\"color\":\"#2a3f5f\"},\"marker\":{\"line\":{\"color\":\"#E5ECF6\",\"width\":0.5},\"pattern\":{\"fillmode\":\"overlay\",\"size\":10,\"solidity\":0.2}},\"type\":\"bar\"}],\"carpet\":[{\"aaxis\":{\"endlinecolor\":\"#2a3f5f\",\"gridcolor\":\"white\",\"linecolor\":\"white\",\"minorgridcolor\":\"white\",\"startlinecolor\":\"#2a3f5f\"},\"baxis\":{\"endlinecolor\":\"#2a3f5f\",\"gridcolor\":\"white\",\"linecolor\":\"white\",\"minorgridcolor\":\"white\",\"startlinecolor\":\"#2a3f5f\"},\"type\":\"carpet\"}],\"choropleth\":[{\"colorbar\":{\"outlinewidth\":0,\"ticks\":\"\"},\"type\":\"choropleth\"}],\"contourcarpet\":[{\"colorbar\":{\"outlinewidth\":0,\"ticks\":\"\"},\"type\":\"contourcarpet\"}],\"contour\":[{\"colorbar\":{\"outlinewidth\":0,\"ticks\":\"\"},\"colorscale\":[[0.0,\"#0d0887\"],[0.1111111111111111,\"#46039f\"],[0.2222222222222222,\"#7201a8\"],[0.3333333333333333,\"#9c179e\"],[0.4444444444444444,\"#bd3786\"],[0.5555555555555556,\"#d8576b\"],[0.6666666666666666,\"#ed7953\"],[0.7777777777777778,\"#fb9f3a\"],[0.8888888888888888,\"#fdca26\"],[1.0,\"#f0f921\"]],\"type\":\"contour\"}],\"heatmapgl\":[{\"colorbar\":{\"outlinewidth\":0,\"ticks\":\"\"},\"colorscale\":[[0.0,\"#0d0887\"],[0.1111111111111111,\"#46039f\"],[0.2222222222222222,\"#7201a8\"],[0.3333333333333333,\"#9c179e\"],[0.4444444444444444,\"#bd3786\"],[0.5555555555555556,\"#d8576b\"],[0.6666666666666666,\"#ed7953\"],[0.7777777777777778,\"#fb9f3a\"],[0.8888888888888888,\"#fdca26\"],[1.0,\"#f0f921\"]],\"type\":\"heatmapgl\"}],\"heatmap\":[{\"colorbar\":{\"outlinewidth\":0,\"ticks\":\"\"},\"colorscale\":[[0.0,\"#0d0887\"],[0.1111111111111111,\"#46039f\"],[0.2222222222222222,\"#7201a8\"],[0.3333333333333333,\"#9c179e\"],[0.4444444444444444,\"#bd3786\"],[0.5555555555555556,\"#d8576b\"],[0.6666666666666666,\"#ed7953\"],[0.7777777777777778,\"#fb9f3a\"],[0.8888888888888888,\"#fdca26\"],[1.0,\"#f0f921\"]],\"type\":\"heatmap\"}],\"histogram2dcontour\":[{\"colorbar\":{\"outlinewidth\":0,\"ticks\":\"\"},\"colorscale\":[[0.0,\"#0d0887\"],[0.1111111111111111,\"#46039f\"],[0.2222222222222222,\"#7201a8\"],[0.3333333333333333,\"#9c179e\"],[0.4444444444444444,\"#bd3786\"],[0.5555555555555556,\"#d8576b\"],[0.6666666666666666,\"#ed7953\"],[0.7777777777777778,\"#fb9f3a\"],[0.8888888888888888,\"#fdca26\"],[1.0,\"#f0f921\"]],\"type\":\"histogram2dcontour\"}],\"histogram2d\":[{\"colorbar\":{\"outlinewidth\":0,\"ticks\":\"\"},\"colorscale\":[[0.0,\"#0d0887\"],[0.1111111111111111,\"#46039f\"],[0.2222222222222222,\"#7201a8\"],[0.3333333333333333,\"#9c179e\"],[0.4444444444444444,\"#bd3786\"],[0.5555555555555556,\"#d8576b\"],[0.6666666666666666,\"#ed7953\"],[0.7777777777777778,\"#fb9f3a\"],[0.8888888888888888,\"#fdca26\"],[1.0,\"#f0f921\"]],\"type\":\"histogram2d\"}],\"histogram\":[{\"marker\":{\"pattern\":{\"fillmode\":\"overlay\",\"size\":10,\"solidity\":0.2}},\"type\":\"histogram\"}],\"mesh3d\":[{\"colorbar\":{\"outlinewidth\":0,\"ticks\":\"\"},\"type\":\"mesh3d\"}],\"parcoords\":[{\"line\":{\"colorbar\":{\"outlinewidth\":0,\"ticks\":\"\"}},\"type\":\"parcoords\"}],\"pie\":[{\"automargin\":true,\"type\":\"pie\"}],\"scatter3d\":[{\"line\":{\"colorbar\":{\"outlinewidth\":0,\"ticks\":\"\"}},\"marker\":{\"colorbar\":{\"outlinewidth\":0,\"ticks\":\"\"}},\"type\":\"scatter3d\"}],\"scattercarpet\":[{\"marker\":{\"colorbar\":{\"outlinewidth\":0,\"ticks\":\"\"}},\"type\":\"scattercarpet\"}],\"scattergeo\":[{\"marker\":{\"colorbar\":{\"outlinewidth\":0,\"ticks\":\"\"}},\"type\":\"scattergeo\"}],\"scattergl\":[{\"marker\":{\"colorbar\":{\"outlinewidth\":0,\"ticks\":\"\"}},\"type\":\"scattergl\"}],\"scattermapbox\":[{\"marker\":{\"colorbar\":{\"outlinewidth\":0,\"ticks\":\"\"}},\"type\":\"scattermapbox\"}],\"scatterpolargl\":[{\"marker\":{\"colorbar\":{\"outlinewidth\":0,\"ticks\":\"\"}},\"type\":\"scatterpolargl\"}],\"scatterpolar\":[{\"marker\":{\"colorbar\":{\"outlinewidth\":0,\"ticks\":\"\"}},\"type\":\"scatterpolar\"}],\"scatter\":[{\"fillpattern\":{\"fillmode\":\"overlay\",\"size\":10,\"solidity\":0.2},\"type\":\"scatter\"}],\"scatterternary\":[{\"marker\":{\"colorbar\":{\"outlinewidth\":0,\"ticks\":\"\"}},\"type\":\"scatterternary\"}],\"surface\":[{\"colorbar\":{\"outlinewidth\":0,\"ticks\":\"\"},\"colorscale\":[[0.0,\"#0d0887\"],[0.1111111111111111,\"#46039f\"],[0.2222222222222222,\"#7201a8\"],[0.3333333333333333,\"#9c179e\"],[0.4444444444444444,\"#bd3786\"],[0.5555555555555556,\"#d8576b\"],[0.6666666666666666,\"#ed7953\"],[0.7777777777777778,\"#fb9f3a\"],[0.8888888888888888,\"#fdca26\"],[1.0,\"#f0f921\"]],\"type\":\"surface\"}],\"table\":[{\"cells\":{\"fill\":{\"color\":\"#EBF0F8\"},\"line\":{\"color\":\"white\"}},\"header\":{\"fill\":{\"color\":\"#C8D4E3\"},\"line\":{\"color\":\"white\"}},\"type\":\"table\"}]},\"layout\":{\"annotationdefaults\":{\"arrowcolor\":\"#2a3f5f\",\"arrowhead\":0,\"arrowwidth\":1},\"autotypenumbers\":\"strict\",\"coloraxis\":{\"colorbar\":{\"outlinewidth\":0,\"ticks\":\"\"}},\"colorscale\":{\"diverging\":[[0,\"#8e0152\"],[0.1,\"#c51b7d\"],[0.2,\"#de77ae\"],[0.3,\"#f1b6da\"],[0.4,\"#fde0ef\"],[0.5,\"#f7f7f7\"],[0.6,\"#e6f5d0\"],[0.7,\"#b8e186\"],[0.8,\"#7fbc41\"],[0.9,\"#4d9221\"],[1,\"#276419\"]],\"sequential\":[[0.0,\"#0d0887\"],[0.1111111111111111,\"#46039f\"],[0.2222222222222222,\"#7201a8\"],[0.3333333333333333,\"#9c179e\"],[0.4444444444444444,\"#bd3786\"],[0.5555555555555556,\"#d8576b\"],[0.6666666666666666,\"#ed7953\"],[0.7777777777777778,\"#fb9f3a\"],[0.8888888888888888,\"#fdca26\"],[1.0,\"#f0f921\"]],\"sequentialminus\":[[0.0,\"#0d0887\"],[0.1111111111111111,\"#46039f\"],[0.2222222222222222,\"#7201a8\"],[0.3333333333333333,\"#9c179e\"],[0.4444444444444444,\"#bd3786\"],[0.5555555555555556,\"#d8576b\"],[0.6666666666666666,\"#ed7953\"],[0.7777777777777778,\"#fb9f3a\"],[0.8888888888888888,\"#fdca26\"],[1.0,\"#f0f921\"]]},\"colorway\":[\"#636efa\",\"#EF553B\",\"#00cc96\",\"#ab63fa\",\"#FFA15A\",\"#19d3f3\",\"#FF6692\",\"#B6E880\",\"#FF97FF\",\"#FECB52\"],\"font\":{\"color\":\"#2a3f5f\"},\"geo\":{\"bgcolor\":\"white\",\"lakecolor\":\"white\",\"landcolor\":\"#E5ECF6\",\"showlakes\":true,\"showland\":true,\"subunitcolor\":\"white\"},\"hoverlabel\":{\"align\":\"left\"},\"hovermode\":\"closest\",\"mapbox\":{\"style\":\"light\"},\"paper_bgcolor\":\"white\",\"plot_bgcolor\":\"#E5ECF6\",\"polar\":{\"angularaxis\":{\"gridcolor\":\"white\",\"linecolor\":\"white\",\"ticks\":\"\"},\"bgcolor\":\"#E5ECF6\",\"radialaxis\":{\"gridcolor\":\"white\",\"linecolor\":\"white\",\"ticks\":\"\"}},\"scene\":{\"xaxis\":{\"backgroundcolor\":\"#E5ECF6\",\"gridcolor\":\"white\",\"gridwidth\":2,\"linecolor\":\"white\",\"showbackground\":true,\"ticks\":\"\",\"zerolinecolor\":\"white\"},\"yaxis\":{\"backgroundcolor\":\"#E5ECF6\",\"gridcolor\":\"white\",\"gridwidth\":2,\"linecolor\":\"white\",\"showbackground\":true,\"ticks\":\"\",\"zerolinecolor\":\"white\"},\"zaxis\":{\"backgroundcolor\":\"#E5ECF6\",\"gridcolor\":\"white\",\"gridwidth\":2,\"linecolor\":\"white\",\"showbackground\":true,\"ticks\":\"\",\"zerolinecolor\":\"white\"}},\"shapedefaults\":{\"line\":{\"color\":\"#2a3f5f\"}},\"ternary\":{\"aaxis\":{\"gridcolor\":\"white\",\"linecolor\":\"white\",\"ticks\":\"\"},\"baxis\":{\"gridcolor\":\"white\",\"linecolor\":\"white\",\"ticks\":\"\"},\"bgcolor\":\"#E5ECF6\",\"caxis\":{\"gridcolor\":\"white\",\"linecolor\":\"white\",\"ticks\":\"\"}},\"title\":{\"x\":0.05},\"xaxis\":{\"automargin\":true,\"gridcolor\":\"white\",\"linecolor\":\"white\",\"ticks\":\"\",\"title\":{\"standoff\":15},\"zerolinecolor\":\"white\",\"zerolinewidth\":2},\"yaxis\":{\"automargin\":true,\"gridcolor\":\"white\",\"linecolor\":\"white\",\"ticks\":\"\",\"title\":{\"standoff\":15},\"zerolinecolor\":\"white\",\"zerolinewidth\":2}}},\"title\":{\"font\":{\"color\":\"#4D5663\"}},\"xaxis\":{\"anchor\":\"y\",\"domain\":[0.0,0.2125],\"gridcolor\":\"#E1E5ED\",\"showgrid\":false,\"tickfont\":{\"color\":\"#4D5663\"},\"title\":{\"font\":{\"color\":\"#4D5663\"},\"text\":\"\"},\"zerolinecolor\":\"#E1E5ED\"},\"yaxis\":{\"anchor\":\"x\",\"domain\":[0.8025,1.0],\"gridcolor\":\"#E1E5ED\",\"showgrid\":false,\"tickfont\":{\"color\":\"#4D5663\"},\"title\":{\"font\":{\"color\":\"#4D5663\"},\"text\":\"\"},\"zerolinecolor\":\"#E1E5ED\"},\"xaxis2\":{\"anchor\":\"y2\",\"domain\":[0.2625,0.475],\"gridcolor\":\"#E1E5ED\",\"showgrid\":false,\"tickfont\":{\"color\":\"#4D5663\"},\"title\":{\"font\":{\"color\":\"#4D5663\"},\"text\":\"\"},\"zerolinecolor\":\"#E1E5ED\"},\"yaxis2\":{\"anchor\":\"x2\",\"domain\":[0.8025,1.0],\"gridcolor\":\"#E1E5ED\",\"showgrid\":false,\"tickfont\":{\"color\":\"#4D5663\"},\"title\":{\"font\":{\"color\":\"#4D5663\"},\"text\":\"\"},\"zerolinecolor\":\"#E1E5ED\"},\"xaxis3\":{\"anchor\":\"y3\",\"domain\":[0.525,0.7375],\"gridcolor\":\"#E1E5ED\",\"showgrid\":false,\"tickfont\":{\"color\":\"#4D5663\"},\"title\":{\"font\":{\"color\":\"#4D5663\"},\"text\":\"\"},\"zerolinecolor\":\"#E1E5ED\"},\"yaxis3\":{\"anchor\":\"x3\",\"domain\":[0.8025,1.0],\"gridcolor\":\"#E1E5ED\",\"showgrid\":false,\"tickfont\":{\"color\":\"#4D5663\"},\"title\":{\"font\":{\"color\":\"#4D5663\"},\"text\":\"\"},\"zerolinecolor\":\"#E1E5ED\"},\"xaxis4\":{\"anchor\":\"y4\",\"domain\":[0.7875,1.0],\"gridcolor\":\"#E1E5ED\",\"showgrid\":false,\"tickfont\":{\"color\":\"#4D5663\"},\"title\":{\"font\":{\"color\":\"#4D5663\"},\"text\":\"\"},\"zerolinecolor\":\"#E1E5ED\"},\"yaxis4\":{\"anchor\":\"x4\",\"domain\":[0.8025,1.0],\"gridcolor\":\"#E1E5ED\",\"showgrid\":false,\"tickfont\":{\"color\":\"#4D5663\"},\"title\":{\"font\":{\"color\":\"#4D5663\"},\"text\":\"\"},\"zerolinecolor\":\"#E1E5ED\"},\"xaxis5\":{\"anchor\":\"y5\",\"domain\":[0.0,0.2125],\"gridcolor\":\"#E1E5ED\",\"showgrid\":false,\"tickfont\":{\"color\":\"#4D5663\"},\"title\":{\"font\":{\"color\":\"#4D5663\"},\"text\":\"\"},\"zerolinecolor\":\"#E1E5ED\"},\"yaxis5\":{\"anchor\":\"x5\",\"domain\":[0.535,0.7325],\"gridcolor\":\"#E1E5ED\",\"showgrid\":false,\"tickfont\":{\"color\":\"#4D5663\"},\"title\":{\"font\":{\"color\":\"#4D5663\"},\"text\":\"\"},\"zerolinecolor\":\"#E1E5ED\"},\"xaxis6\":{\"anchor\":\"y6\",\"domain\":[0.2625,0.475],\"gridcolor\":\"#E1E5ED\",\"showgrid\":false,\"tickfont\":{\"color\":\"#4D5663\"},\"title\":{\"font\":{\"color\":\"#4D5663\"},\"text\":\"\"},\"zerolinecolor\":\"#E1E5ED\"},\"yaxis6\":{\"anchor\":\"x6\",\"domain\":[0.535,0.7325],\"gridcolor\":\"#E1E5ED\",\"showgrid\":false,\"tickfont\":{\"color\":\"#4D5663\"},\"title\":{\"font\":{\"color\":\"#4D5663\"},\"text\":\"\"},\"zerolinecolor\":\"#E1E5ED\"},\"xaxis7\":{\"anchor\":\"y7\",\"domain\":[0.525,0.7375],\"gridcolor\":\"#E1E5ED\",\"showgrid\":false,\"tickfont\":{\"color\":\"#4D5663\"},\"title\":{\"font\":{\"color\":\"#4D5663\"},\"text\":\"\"},\"zerolinecolor\":\"#E1E5ED\"},\"yaxis7\":{\"anchor\":\"x7\",\"domain\":[0.535,0.7325],\"gridcolor\":\"#E1E5ED\",\"showgrid\":false,\"tickfont\":{\"color\":\"#4D5663\"},\"title\":{\"font\":{\"color\":\"#4D5663\"},\"text\":\"\"},\"zerolinecolor\":\"#E1E5ED\"},\"xaxis8\":{\"anchor\":\"y8\",\"domain\":[0.7875,1.0],\"gridcolor\":\"#E1E5ED\",\"showgrid\":false,\"tickfont\":{\"color\":\"#4D5663\"},\"title\":{\"font\":{\"color\":\"#4D5663\"},\"text\":\"\"},\"zerolinecolor\":\"#E1E5ED\"},\"yaxis8\":{\"anchor\":\"x8\",\"domain\":[0.535,0.7325],\"gridcolor\":\"#E1E5ED\",\"showgrid\":false,\"tickfont\":{\"color\":\"#4D5663\"},\"title\":{\"font\":{\"color\":\"#4D5663\"},\"text\":\"\"},\"zerolinecolor\":\"#E1E5ED\"},\"xaxis9\":{\"anchor\":\"y9\",\"domain\":[0.0,0.2125],\"gridcolor\":\"#E1E5ED\",\"showgrid\":false,\"tickfont\":{\"color\":\"#4D5663\"},\"title\":{\"font\":{\"color\":\"#4D5663\"},\"text\":\"\"},\"zerolinecolor\":\"#E1E5ED\"},\"yaxis9\":{\"anchor\":\"x9\",\"domain\":[0.2675,0.465],\"gridcolor\":\"#E1E5ED\",\"showgrid\":false,\"tickfont\":{\"color\":\"#4D5663\"},\"title\":{\"font\":{\"color\":\"#4D5663\"},\"text\":\"\"},\"zerolinecolor\":\"#E1E5ED\"},\"xaxis10\":{\"anchor\":\"y10\",\"domain\":[0.2625,0.475],\"gridcolor\":\"#E1E5ED\",\"showgrid\":false,\"tickfont\":{\"color\":\"#4D5663\"},\"title\":{\"font\":{\"color\":\"#4D5663\"},\"text\":\"\"},\"zerolinecolor\":\"#E1E5ED\"},\"yaxis10\":{\"anchor\":\"x10\",\"domain\":[0.2675,0.465],\"gridcolor\":\"#E1E5ED\",\"showgrid\":false,\"tickfont\":{\"color\":\"#4D5663\"},\"title\":{\"font\":{\"color\":\"#4D5663\"},\"text\":\"\"},\"zerolinecolor\":\"#E1E5ED\"},\"xaxis11\":{\"anchor\":\"y11\",\"domain\":[0.525,0.7375],\"gridcolor\":\"#E1E5ED\",\"showgrid\":false,\"tickfont\":{\"color\":\"#4D5663\"},\"title\":{\"font\":{\"color\":\"#4D5663\"},\"text\":\"\"},\"zerolinecolor\":\"#E1E5ED\"},\"yaxis11\":{\"anchor\":\"x11\",\"domain\":[0.2675,0.465],\"gridcolor\":\"#E1E5ED\",\"showgrid\":false,\"tickfont\":{\"color\":\"#4D5663\"},\"title\":{\"font\":{\"color\":\"#4D5663\"},\"text\":\"\"},\"zerolinecolor\":\"#E1E5ED\"},\"xaxis12\":{\"anchor\":\"y12\",\"domain\":[0.7875,1.0],\"gridcolor\":\"#E1E5ED\",\"showgrid\":false,\"tickfont\":{\"color\":\"#4D5663\"},\"title\":{\"font\":{\"color\":\"#4D5663\"},\"text\":\"\"},\"zerolinecolor\":\"#E1E5ED\"},\"yaxis12\":{\"anchor\":\"x12\",\"domain\":[0.2675,0.465],\"gridcolor\":\"#E1E5ED\",\"showgrid\":false,\"tickfont\":{\"color\":\"#4D5663\"},\"title\":{\"font\":{\"color\":\"#4D5663\"},\"text\":\"\"},\"zerolinecolor\":\"#E1E5ED\"},\"xaxis13\":{\"anchor\":\"y13\",\"domain\":[0.0,0.2125],\"gridcolor\":\"#E1E5ED\",\"showgrid\":false,\"tickfont\":{\"color\":\"#4D5663\"},\"title\":{\"font\":{\"color\":\"#4D5663\"},\"text\":\"\"},\"zerolinecolor\":\"#E1E5ED\"},\"yaxis13\":{\"anchor\":\"x13\",\"domain\":[0.0,0.1975],\"gridcolor\":\"#E1E5ED\",\"showgrid\":false,\"tickfont\":{\"color\":\"#4D5663\"},\"title\":{\"font\":{\"color\":\"#4D5663\"},\"text\":\"\"},\"zerolinecolor\":\"#E1E5ED\"},\"xaxis14\":{\"anchor\":\"y14\",\"domain\":[0.2625,0.475],\"gridcolor\":\"#E1E5ED\",\"showgrid\":false,\"tickfont\":{\"color\":\"#4D5663\"},\"title\":{\"font\":{\"color\":\"#4D5663\"},\"text\":\"\"},\"zerolinecolor\":\"#E1E5ED\"},\"yaxis14\":{\"anchor\":\"x14\",\"domain\":[0.0,0.1975],\"gridcolor\":\"#E1E5ED\",\"showgrid\":false,\"tickfont\":{\"color\":\"#4D5663\"},\"title\":{\"font\":{\"color\":\"#4D5663\"},\"text\":\"\"},\"zerolinecolor\":\"#E1E5ED\"},\"xaxis15\":{\"anchor\":\"y15\",\"domain\":[0.525,0.7375],\"gridcolor\":\"#E1E5ED\",\"showgrid\":false,\"tickfont\":{\"color\":\"#4D5663\"},\"title\":{\"font\":{\"color\":\"#4D5663\"},\"text\":\"\"},\"zerolinecolor\":\"#E1E5ED\"},\"yaxis15\":{\"anchor\":\"x15\",\"domain\":[0.0,0.1975],\"gridcolor\":\"#E1E5ED\",\"showgrid\":false,\"tickfont\":{\"color\":\"#4D5663\"},\"title\":{\"font\":{\"color\":\"#4D5663\"},\"text\":\"\"},\"zerolinecolor\":\"#E1E5ED\"},\"xaxis16\":{\"anchor\":\"y16\",\"domain\":[0.7875,1.0],\"gridcolor\":\"#E1E5ED\",\"showgrid\":false,\"tickfont\":{\"color\":\"#4D5663\"},\"title\":{\"font\":{\"color\":\"#4D5663\"},\"text\":\"\"},\"zerolinecolor\":\"#E1E5ED\"},\"yaxis16\":{\"anchor\":\"x16\",\"domain\":[0.0,0.1975],\"gridcolor\":\"#E1E5ED\",\"showgrid\":false,\"tickfont\":{\"color\":\"#4D5663\"},\"title\":{\"font\":{\"color\":\"#4D5663\"},\"text\":\"\"},\"zerolinecolor\":\"#E1E5ED\"}},                        {\"showLink\": true, \"linkText\": \"Export to plot.ly\", \"plotlyServerURL\": \"https://plot.ly\", \"responsive\": true}                    ).then(function(){\n",
       "                            \n",
       "var gd = document.getElementById('ff499fab-8662-42ca-8bcc-04bb62b65eee');\n",
       "var x = new MutationObserver(function (mutations, observer) {{\n",
       "        var display = window.getComputedStyle(gd).display;\n",
       "        if (!display || display === 'none') {{\n",
       "            console.log([gd, 'removed!']);\n",
       "            Plotly.purge(gd);\n",
       "            observer.disconnect();\n",
       "        }}\n",
       "}});\n",
       "\n",
       "// Listen for the removal of the full notebook cells\n",
       "var notebookContainer = gd.closest('#notebook-container');\n",
       "if (notebookContainer) {{\n",
       "    x.observe(notebookContainer, {childList: true});\n",
       "}}\n",
       "\n",
       "// Listen for the clearing of the current output cell\n",
       "var outputEl = gd.closest('.output');\n",
       "if (outputEl) {{\n",
       "    x.observe(outputEl, {childList: true});\n",
       "}}\n",
       "\n",
       "                        })                };                });            </script>        </div>"
      ]
     },
     "metadata": {},
     "output_type": "display_data"
    }
   ],
   "source": [
    "df.scatter_matrix()"
   ]
  },
  {
   "cell_type": "markdown",
   "metadata": {
    "collapsed": true
   },
   "source": [
    "# Great Job!"
   ]
  }
 ],
 "metadata": {
  "kernelspec": {
   "display_name": "Python 3 (ipykernel)",
   "language": "python",
   "name": "python3"
  },
  "language_info": {
   "codemirror_mode": {
    "name": "ipython",
    "version": 3
   },
   "file_extension": ".py",
   "mimetype": "text/x-python",
   "name": "python",
   "nbconvert_exporter": "python",
   "pygments_lexer": "ipython3",
   "version": "3.7.3"
  }
 },
 "nbformat": 4,
 "nbformat_minor": 1
}
