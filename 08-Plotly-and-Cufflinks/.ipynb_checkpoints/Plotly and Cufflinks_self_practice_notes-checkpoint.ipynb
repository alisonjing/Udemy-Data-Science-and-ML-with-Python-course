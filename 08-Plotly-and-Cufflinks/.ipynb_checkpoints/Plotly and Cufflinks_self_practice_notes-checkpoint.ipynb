{
 "cells": [
  {
   "cell_type": "code",
   "execution_count": 2,
   "id": "9dea74f3",
   "metadata": {},
   "outputs": [],
   "source": [
    "import pandas as pd\n",
    "import numpy as np\n",
    "from plotly import __version__\n",
    "import plotly.offline"
   ]
  },
  {
   "cell_type": "code",
   "execution_count": 3,
   "id": "3877e7a1",
   "metadata": {},
   "outputs": [
    {
     "name": "stdout",
     "output_type": "stream",
     "text": [
      "5.7.0\n"
     ]
    }
   ],
   "source": [
    "print(__version__)"
   ]
  },
  {
   "cell_type": "code",
   "execution_count": 5,
   "id": "f0a95003",
   "metadata": {},
   "outputs": [],
   "source": [
    "import cufflinks as cf\n",
    "from plotly.offline import download_plotlyjs, init_notebook_mode, iplot"
   ]
  },
  {
   "cell_type": "code",
   "execution_count": 6,
   "id": "b71003cb",
   "metadata": {},
   "outputs": [
    {
     "data": {
      "text/html": [
       "        <script type=\"text/javascript\">\n",
       "        window.PlotlyConfig = {MathJaxConfig: 'local'};\n",
       "        if (window.MathJax) {MathJax.Hub.Config({SVG: {font: \"STIX-Web\"}});}\n",
       "        if (typeof require !== 'undefined') {\n",
       "        require.undef(\"plotly\");\n",
       "        requirejs.config({\n",
       "            paths: {\n",
       "                'plotly': ['https://cdn.plot.ly/plotly-2.11.1.min']\n",
       "            }\n",
       "        });\n",
       "        require(['plotly'], function(Plotly) {\n",
       "            window._Plotly = Plotly;\n",
       "        });\n",
       "        }\n",
       "        </script>\n",
       "        "
      ]
     },
     "metadata": {},
     "output_type": "display_data"
    }
   ],
   "source": [
    "init_notebook_mode(connected=True)"
   ]
  },
  {
   "cell_type": "code",
   "execution_count": 7,
   "id": "7a24f74a",
   "metadata": {},
   "outputs": [
    {
     "data": {
      "text/html": [
       "        <script type=\"text/javascript\">\n",
       "        window.PlotlyConfig = {MathJaxConfig: 'local'};\n",
       "        if (window.MathJax) {MathJax.Hub.Config({SVG: {font: \"STIX-Web\"}});}\n",
       "        if (typeof require !== 'undefined') {\n",
       "        require.undef(\"plotly\");\n",
       "        requirejs.config({\n",
       "            paths: {\n",
       "                'plotly': ['https://cdn.plot.ly/plotly-2.11.1.min']\n",
       "            }\n",
       "        });\n",
       "        require(['plotly'], function(Plotly) {\n",
       "            window._Plotly = Plotly;\n",
       "        });\n",
       "        }\n",
       "        </script>\n",
       "        "
      ]
     },
     "metadata": {},
     "output_type": "display_data"
    }
   ],
   "source": [
    "cf.go_offline()"
   ]
  },
  {
   "cell_type": "code",
   "execution_count": 9,
   "id": "2fd6e44c",
   "metadata": {},
   "outputs": [],
   "source": [
    "#Data\n",
    "df = pd.DataFrame(np.random.randn(100,4), columns='A B C D'.split())"
   ]
  },
  {
   "cell_type": "code",
   "execution_count": 10,
   "id": "1232e1fd",
   "metadata": {},
   "outputs": [
    {
     "data": {
      "text/html": [
       "<div>\n",
       "<style scoped>\n",
       "    .dataframe tbody tr th:only-of-type {\n",
       "        vertical-align: middle;\n",
       "    }\n",
       "\n",
       "    .dataframe tbody tr th {\n",
       "        vertical-align: top;\n",
       "    }\n",
       "\n",
       "    .dataframe thead th {\n",
       "        text-align: right;\n",
       "    }\n",
       "</style>\n",
       "<table border=\"1\" class=\"dataframe\">\n",
       "  <thead>\n",
       "    <tr style=\"text-align: right;\">\n",
       "      <th></th>\n",
       "      <th>A</th>\n",
       "      <th>B</th>\n",
       "      <th>C</th>\n",
       "      <th>D</th>\n",
       "    </tr>\n",
       "  </thead>\n",
       "  <tbody>\n",
       "    <tr>\n",
       "      <th>0</th>\n",
       "      <td>-1.092334</td>\n",
       "      <td>-1.719397</td>\n",
       "      <td>-1.367198</td>\n",
       "      <td>-0.399889</td>\n",
       "    </tr>\n",
       "    <tr>\n",
       "      <th>1</th>\n",
       "      <td>-2.078149</td>\n",
       "      <td>-0.136884</td>\n",
       "      <td>1.803863</td>\n",
       "      <td>-0.084278</td>\n",
       "    </tr>\n",
       "    <tr>\n",
       "      <th>2</th>\n",
       "      <td>0.379395</td>\n",
       "      <td>-1.386351</td>\n",
       "      <td>0.851879</td>\n",
       "      <td>-0.855575</td>\n",
       "    </tr>\n",
       "    <tr>\n",
       "      <th>3</th>\n",
       "      <td>-0.719086</td>\n",
       "      <td>0.894072</td>\n",
       "      <td>0.496147</td>\n",
       "      <td>1.211516</td>\n",
       "    </tr>\n",
       "    <tr>\n",
       "      <th>4</th>\n",
       "      <td>-1.306982</td>\n",
       "      <td>-1.276976</td>\n",
       "      <td>0.538529</td>\n",
       "      <td>-0.320426</td>\n",
       "    </tr>\n",
       "  </tbody>\n",
       "</table>\n",
       "</div>"
      ],
      "text/plain": [
       "          A         B         C         D\n",
       "0 -1.092334 -1.719397 -1.367198 -0.399889\n",
       "1 -2.078149 -0.136884  1.803863 -0.084278\n",
       "2  0.379395 -1.386351  0.851879 -0.855575\n",
       "3 -0.719086  0.894072  0.496147  1.211516\n",
       "4 -1.306982 -1.276976  0.538529 -0.320426"
      ]
     },
     "execution_count": 10,
     "metadata": {},
     "output_type": "execute_result"
    }
   ],
   "source": [
    "df.head()"
   ]
  },
  {
   "cell_type": "code",
   "execution_count": 12,
   "id": "fd58498d",
   "metadata": {},
   "outputs": [
    {
     "data": {
      "text/html": [
       "<div>\n",
       "<style scoped>\n",
       "    .dataframe tbody tr th:only-of-type {\n",
       "        vertical-align: middle;\n",
       "    }\n",
       "\n",
       "    .dataframe tbody tr th {\n",
       "        vertical-align: top;\n",
       "    }\n",
       "\n",
       "    .dataframe thead th {\n",
       "        text-align: right;\n",
       "    }\n",
       "</style>\n",
       "<table border=\"1\" class=\"dataframe\">\n",
       "  <thead>\n",
       "    <tr style=\"text-align: right;\">\n",
       "      <th></th>\n",
       "      <th>Category</th>\n",
       "      <th>Value</th>\n",
       "    </tr>\n",
       "  </thead>\n",
       "  <tbody>\n",
       "    <tr>\n",
       "      <th>0</th>\n",
       "      <td>A</td>\n",
       "      <td>32</td>\n",
       "    </tr>\n",
       "    <tr>\n",
       "      <th>1</th>\n",
       "      <td>B</td>\n",
       "      <td>43</td>\n",
       "    </tr>\n",
       "    <tr>\n",
       "      <th>2</th>\n",
       "      <td>C</td>\n",
       "      <td>50</td>\n",
       "    </tr>\n",
       "  </tbody>\n",
       "</table>\n",
       "</div>"
      ],
      "text/plain": [
       "  Category  Value\n",
       "0        A     32\n",
       "1        B     43\n",
       "2        C     50"
      ]
     },
     "execution_count": 12,
     "metadata": {},
     "output_type": "execute_result"
    }
   ],
   "source": [
    "df2 = pd.DataFrame({'Category':['A', 'B', 'C'],'Value':[32,43,50]})\n",
    "df2"
   ]
  },
  {
   "cell_type": "code",
   "execution_count": 15,
   "id": "0f2c2b8e",
   "metadata": {},
   "outputs": [
    {
     "data": {
      "text/plain": [
       "<AxesSubplot:>"
      ]
     },
     "execution_count": 15,
     "metadata": {},
     "output_type": "execute_result"
    },
    {
     "data": {
      "image/png": "[encoded data removed]",
      "text/plain": [
       "<Figure size 432x288 with 1 Axes>"
      ]
     },
     "metadata": {
      "needs_background": "light"
     },
     "output_type": "display_data"
    }
   ],
   "source": [
    "df.plot()"
   ]
  },
  {
   "cell_type": "code",
   "execution_count": 16,
   "id": "145ef9e2",
   "metadata": {},
   "outputs": [
    {
     "data": {
      "application/vnd.plotly.v1+json": {
       "config": {
        "linkText": "Export to plot.ly",
        "plotlyServerURL": "https://plot.ly",
        "showLink": true
       },
       "data": [
        {
         "line": {
          "color": "rgba(255, 153, 51, 1.0)",
          "dash": "solid",
          "shape": "linear",
          "width": 1.3
         },
         "mode": "lines",
         "name": "A",
         "text": "",
         "type": "scatter",
         "x": [
          0,
          1,
          2,
          3,
          4,
          5,
          6,
          7,
          8,
          9,
          10,
          11,
          12,
          13,
          14,
          15,
          16,
          17,
          18,
          19,
          20,
          21,
          22,
          23,
          24,
          25,
          26,
          27,
          28,
          29,
          30,
          31,
          32,
          33,
          34,
          35,
          36,
          37,
          38,
          39,
          40,
          41,
          42,
          43,
          44,
          45,
          46,
          47,
          48,
          49,
          50,
          51,
          52,
          53,
          54,
          55,
          56,
          57,
          58,
          59,
          60,
          61,
          62,
          63,
          64,
          65,
          66,
          67,
          68,
          69,
          70,
          71,
          72,
          73,
          74,
          75,
          76,
          77,
          78,
          79,
          80,
          81,
          82,
          83,
          84,
          85,
          86,
          87,
          88,
          89,
          90,
          91,
          92,
          93,
          94,
          95,
          96,
          97,
          98,
          99
         ],
         "y": [
          -1.0923337293149284,
          -2.0781492118661067,
          0.37939518190692695,
          -0.7190862893057279,
          -1.306981706844912,
          -1.2746452828483765,
          2.0386521509466133,
          0.4571562906085622,
          0.5646674565588324,
          -0.19728746111101933,
          -1.5545237424626082,
          -0.384738118628159,
          -1.7211902708431763,
          -1.0146279914953176,
          -1.20971670319116,
          0.14202250545867826,
          -0.5913702786280065,
          0.34630802640166725,
          0.8724661379660018,
          -1.9726687156537879,
          1.47600345337335,
          -0.6378093357757293,
          0.48556176289761765,
          -1.5793613103729656,
          -0.8488240789561119,
          -2.033197466823189,
          -1.3439532253037423,
          0.4593132281562622,
          1.311394571935037,
          1.6184860243708505,
          0.30076360915832145,
          0.27675074484014095,
          -0.8681400647259297,
          -1.6706517365170381,
          1.981258532086849,
          -0.7247662228417906,
          0.679644123279134,
          0.15172087880432622,
          -1.1055504850749163,
          0.9941760311481035,
          -0.3211597175933281,
          1.6181151288901754,
          0.46785624522330344,
          -1.502595878263109,
          0.37043926030296503,
          0.9416030351944773,
          0.9346452924490035,
          1.5461613045088574,
          -0.06780548978955571,
          -0.6404783886286477,
          -0.41838217836772007,
          -2.007362235839705,
          0.5796833818170262,
          1.5102022098495884,
          -1.4842024209005444,
          0.14145714591268363,
          1.1125417192490477,
          -0.4594756514909543,
          1.4395249370905343,
          -1.7830112967444773,
          1.6176772850550776,
          -0.5429208665594282,
          2.509528902012767,
          -0.6838519964550716,
          0.6564933701013952,
          0.1155899588226904,
          -0.31743405666731844,
          -0.15527308006478074,
          2.4109574343285796,
          -0.2778877093210399,
          1.1826363931873685,
          -0.5947787402094271,
          0.4504168780303436,
          -1.257796017917157,
          1.6779059773217855,
          1.6376902133682731,
          -0.16518410358959518,
          -1.5236646320380554,
          -2.4774568301470743,
          -0.05957565380558088,
          0.5393476784112567,
          -0.08921463694237758,
          -1.6296100629156132,
          -1.5361744245809932,
          0.3700377788287299,
          0.0005175717865556624,
          -0.5209426107947295,
          -0.3149794335859631,
          -1.324730175288288,
          0.2672896099844363,
          0.6791278731082967,
          -0.6163650003691549,
          0.6880624337969236,
          -0.25562893424351874,
          -1.1273699751213366,
          -1.815295977116595,
          -2.0966158917395092,
          -0.6449160154882229,
          0.45601621892721184,
          0.21958108584169653
         ]
        },
        {
         "line": {
          "color": "rgba(55, 128, 191, 1.0)",
          "dash": "solid",
          "shape": "linear",
          "width": 1.3
         },
         "mode": "lines",
         "name": "B",
         "text": "",
         "type": "scatter",
         "x": [
          0,
          1,
          2,
          3,
          4,
          5,
          6,
          7,
          8,
          9,
          10,
          11,
          12,
          13,
          14,
          15,
          16,
          17,
          18,
          19,
          20,
          21,
          22,
          23,
          24,
          25,
          26,
          27,
          28,
          29,
          30,
          31,
          32,
          33,
          34,
          35,
          36,
          37,
          38,
          39,
          40,
          41,
          42,
          43,
          44,
          45,
          46,
          47,
          48,
          49,
          50,
          51,
          52,
          53,
          54,
          55,
          56,
          57,
          58,
          59,
          60,
          61,
          62,
          63,
          64,
          65,
          66,
          67,
          68,
          69,
          70,
          71,
          72,
          73,
          74,
          75,
          76,
          77,
          78,
          79,
          80,
          81,
          82,
          83,
          84,
          85,
          86,
          87,
          88,
          89,
          90,
          91,
          92,
          93,
          94,
          95,
          96,
          97,
          98,
          99
         ],
         "y": [
          -1.7193965681715644,
          -0.1368837700516308,
          -1.3863508732548724,
          0.8940718211430638,
          -1.2769763644204217,
          -0.7238631907575013,
          0.6735413687699853,
          -1.544395586102453,
          0.10316599447042912,
          -0.7587306745548325,
          -0.8846414575052386,
          -1.3904587529355539,
          0.8773638996234677,
          0.8212560699748934,
          0.5554863054924705,
          -0.7664971163652307,
          0.4356394912321261,
          -1.022002375733953,
          -0.4873809030873033,
          0.6364402444810763,
          -0.2835710138103869,
          -0.7322722682810722,
          1.1147826605796656,
          1.0271801835915026,
          -0.6062456074965235,
          0.42405683028592056,
          1.0053329592855356,
          1.226104607895886,
          0.9552639319869569,
          -0.8981980160520491,
          0.5660031815068062,
          0.40994386953910444,
          -0.50068266818782,
          1.12295475536846,
          -0.7462629384634385,
          0.4235023106279353,
          1.0308336376877147,
          1.0045221407523843,
          -0.8640303613435607,
          0.5288649040515808,
          -0.5955471526902085,
          -1.082208704788851,
          -0.7664458058199631,
          -0.6177907812041806,
          0.025684199511414197,
          1.007094271700722,
          0.25212133647926055,
          -0.39915724676718206,
          -1.187177196982634,
          -0.5582658021195958,
          -0.6852210925131491,
          0.8495247928567622,
          0.19208080156890264,
          -0.6604041038306913,
          -0.33832791607885443,
          0.3339456809751132,
          -1.1521330432391648,
          0.7005342060055535,
          1.359324977703213,
          0.5464409439463422,
          -0.5331521450831396,
          -0.04836972831236757,
          -0.502319677601178,
          0.8742645521111125,
          0.11930570427098522,
          0.0274776329550404,
          -0.22917254265300607,
          -0.10231795995401932,
          0.3054420673877523,
          -2.267587930302041,
          0.532456554409428,
          0.09979490656072385,
          0.9497085041225107,
          -0.8344539924246323,
          0.24108859879438588,
          0.10955161192267206,
          0.1621619253533421,
          0.963144066179245,
          1.4456454418439741,
          0.16883069652352514,
          0.27698848246997243,
          -0.4074378447487595,
          -1.4092332138452925,
          -0.19240056920140658,
          0.2552212460704818,
          1.184993511404738,
          1.2498614430595372,
          2.624504136085911,
          -0.557768238696504,
          0.24856073153263092,
          -1.5157975669335049,
          0.35620332524009074,
          0.7738743349962125,
          0.7159810275603783,
          -0.2913519067816197,
          0.808816780792982,
          0.6147435017668949,
          0.3080351297119216,
          -0.2756273887896661,
          -0.8128188788082107
         ]
        },
        {
         "line": {
          "color": "rgba(50, 171, 96, 1.0)",
          "dash": "solid",
          "shape": "linear",
          "width": 1.3
         },
         "mode": "lines",
         "name": "C",
         "text": "",
         "type": "scatter",
         "x": [
          0,
          1,
          2,
          3,
          4,
          5,
          6,
          7,
          8,
          9,
          10,
          11,
          12,
          13,
          14,
          15,
          16,
          17,
          18,
          19,
          20,
          21,
          22,
          23,
          24,
          25,
          26,
          27,
          28,
          29,
          30,
          31,
          32,
          33,
          34,
          35,
          36,
          37,
          38,
          39,
          40,
          41,
          42,
          43,
          44,
          45,
          46,
          47,
          48,
          49,
          50,
          51,
          52,
          53,
          54,
          55,
          56,
          57,
          58,
          59,
          60,
          61,
          62,
          63,
          64,
          65,
          66,
          67,
          68,
          69,
          70,
          71,
          72,
          73,
          74,
          75,
          76,
          77,
          78,
          79,
          80,
          81,
          82,
          83,
          84,
          85,
          86,
          87,
          88,
          89,
          90,
          91,
          92,
          93,
          94,
          95,
          96,
          97,
          98,
          99
         ],
         "y": [
          -1.3671982705139205,
          1.8038634705753702,
          0.8518794089930897,
          0.4961468116612519,
          0.5385286866381881,
          0.5387599300805613,
          2.3393110803847703,
          0.044469795897239206,
          -0.9723630302576085,
          0.06816389650984728,
          -2.3491535356841506,
          0.8299366395308962,
          0.023516488453009098,
          -1.9748636693830517,
          0.7109207798922846,
          1.4802193267279153,
          -0.5906125081744056,
          -0.4913327212070444,
          0.02720747902096856,
          0.024927220827373926,
          -0.3253335010537075,
          0.298954985331685,
          1.1133363660721576,
          0.7859894919091311,
          0.14736771231233772,
          -2.4022824416961384,
          0.4663820635186494,
          0.22479940542551932,
          -1.146491002852046,
          0.5965206609896758,
          0.006147863023429594,
          -1.913185577736801,
          0.5752326683985832,
          -2.1017473662298944,
          0.7921447583818543,
          1.5299880078498058,
          -1.6127618650563116,
          -1.025296672639018,
          0.19069427649673265,
          -0.4242780943029033,
          -1.0024126309186387,
          -0.2784341009220419,
          -0.15336588612352278,
          1.1628063732202638,
          0.537384966621655,
          0.0340563716876641,
          0.8404572466068269,
          -0.10262525512318679,
          0.45831953161583144,
          -0.1594277498264213,
          -1.5415310246151166,
          -1.2940245024685884,
          0.9847379603968551,
          0.31918665408874,
          0.28051709158573207,
          0.2529049143353036,
          -0.10708411581506712,
          2.081124279831631,
          -0.22972304566227697,
          0.7122293834411272,
          0.36067165266692175,
          0.05975349272893051,
          0.9823005409149966,
          -1.5670542931620877,
          -0.7211014139546598,
          0.6571857458450026,
          -1.224813987709555,
          0.6760452284650974,
          0.7468691520740225,
          -0.1064294663329504,
          0.07823003208401025,
          -1.211260786179961,
          -0.2507330963287083,
          -1.0498301393965932,
          -0.4635858188673504,
          -0.44339818253145274,
          0.5991483004348718,
          0.8101064082786154,
          0.6837386870752354,
          1.3789523452711638,
          -0.12508298582270108,
          -0.5194034843459431,
          -0.011442869317453376,
          1.4100528518053705,
          -1.0830506105328965,
          0.8682594104795153,
          0.32923768201341397,
          -2.0274091442234723,
          -0.28865637896908664,
          -1.44879234502546,
          0.808582764828252,
          -0.08441957054856478,
          -0.9652079045250305,
          0.8768242711165376,
          -1.1452356780594415,
          0.5238248226829386,
          1.2717490055551466,
          0.11157070506528344,
          0.5859823196905998,
          -0.02184333297520452
         ]
        },
        {
         "line": {
          "color": "rgba(128, 0, 128, 1.0)",
          "dash": "solid",
          "shape": "linear",
          "width": 1.3
         },
         "mode": "lines",
         "name": "D",
         "text": "",
         "type": "scatter",
         "x": [
          0,
          1,
          2,
          3,
          4,
          5,
          6,
          7,
          8,
          9,
          10,
          11,
          12,
          13,
          14,
          15,
          16,
          17,
          18,
          19,
          20,
          21,
          22,
          23,
          24,
          25,
          26,
          27,
          28,
          29,
          30,
          31,
          32,
          33,
          34,
          35,
          36,
          37,
          38,
          39,
          40,
          41,
          42,
          43,
          44,
          45,
          46,
          47,
          48,
          49,
          50,
          51,
          52,
          53,
          54,
          55,
          56,
          57,
          58,
          59,
          60,
          61,
          62,
          63,
          64,
          65,
          66,
          67,
          68,
          69,
          70,
          71,
          72,
          73,
          74,
          75,
          76,
          77,
          78,
          79,
          80,
          81,
          82,
          83,
          84,
          85,
          86,
          87,
          88,
          89,
          90,
          91,
          92,
          93,
          94,
          95,
          96,
          97,
          98,
          99
         ],
         "y": [
          -0.39988917281411895,
          -0.08427834685558307,
          -0.8555749678640472,
          1.2115164155487135,
          -0.3204263046742039,
          0.9325300138855359,
          0.23823490542560186,
          -0.2817449772808499,
          -2.6837154525972067,
          1.376268660477527,
          0.7044590138860204,
          -0.4143541682304058,
          -0.23892219554863192,
          -0.27293640074320996,
          1.8569043927686038,
          -0.6994641300708796,
          -0.042450037571248454,
          1.0092147025298892,
          0.22530552151285316,
          0.5614788656602961,
          0.8646479525364168,
          -1.4054718540663913,
          -0.020603807649052303,
          0.13573918794148082,
          0.6385600107890124,
          2.305679513693059,
          -1.1647480974083206,
          -1.233446819900803,
          0.1027342245164634,
          0.8966616966747727,
          -0.2740108796144059,
          1.3356493411638928,
          -0.3682828183396071,
          -1.1777597205923491,
          1.6517006846478604,
          -0.9310495663804381,
          -0.1764691619015124,
          -1.82112316367271,
          -1.985920365224456,
          -0.46066578580761425,
          -0.34577078883185164,
          -0.5993915942964207,
          1.2507212354051582,
          -1.286325827700686,
          -0.6191078556005283,
          0.36502426884477984,
          -1.1738852903008543,
          0.743396626800996,
          0.34911049874263733,
          -0.9858861472707343,
          -1.0972696338893668,
          -2.194611027961421,
          0.5805933472434314,
          1.0242278349929632,
          0.3197111673724903,
          0.0006139625049555972,
          -0.1260605955264569,
          1.8442528112882317,
          2.6425574860336907,
          -0.11323637012485127,
          0.13222170448619786,
          -0.6883890450638546,
          -0.8399933313579645,
          0.2576979856645614,
          -0.549418500227889,
          -0.1409206691692825,
          -0.23995167724485023,
          -0.8844065721706169,
          0.1359147505484607,
          -0.2527020500697689,
          -0.22496419501327664,
          -1.6997258928360441,
          -0.09093089700840525,
          0.02991206945741362,
          -2.603375484406349,
          1.5272720407635196,
          -1.036167695601901,
          -1.3852746627259174,
          0.8602732268532293,
          -0.746393872987051,
          -1.654380964454767,
          1.1817477020004798,
          -0.007026857312073789,
          -0.0467914860392762,
          -0.8771525423393569,
          -1.0436052917221854,
          0.5538875479690459,
          -0.19921372871518556,
          -0.145656880402513,
          0.008683346101018435,
          0.5497559503764691,
          1.6110350255442751,
          -0.3084392722253547,
          0.9609274243937833,
          0.5716395630368614,
          -0.9946655477115673,
          -0.46921842211505355,
          0.9207181284807262,
          -0.46332250062491487,
          0.5106644458384013
         ]
        }
       ],
       "layout": {
        "legend": {
         "bgcolor": "#F5F6F9",
         "font": {
          "color": "#4D5663"
         }
        },
        "paper_bgcolor": "#F5F6F9",
        "plot_bgcolor": "#F5F6F9",
        "template": {
         "data": {
          "bar": [
           {
            "error_x": {
             "color": "#2a3f5f"
            },
            "error_y": {
             "color": "#2a3f5f"
            },
            "marker": {
             "line": {
              "color": "#E5ECF6",
              "width": 0.5
             },
             "pattern": {
              "fillmode": "overlay",
              "size": 10,
              "solidity": 0.2
             }
            },
            "type": "bar"
           }
          ],
          "barpolar": [
           {
            "marker": {
             "line": {
              "color": "#E5ECF6",
              "width": 0.5
             },
             "pattern": {
              "fillmode": "overlay",
              "size": 10,
              "solidity": 0.2
             }
            },
            "type": "barpolar"
           }
          ],
          "carpet": [
           {
            "aaxis": {
             "endlinecolor": "#2a3f5f",
             "gridcolor": "white",
             "linecolor": "white",
             "minorgridcolor": "white",
             "startlinecolor": "#2a3f5f"
            },
            "baxis": {
             "endlinecolor": "#2a3f5f",
             "gridcolor": "white",
             "linecolor": "white",
             "minorgridcolor": "white",
             "startlinecolor": "#2a3f5f"
            },
            "type": "carpet"
           }
          ],
          "choropleth": [
           {
            "colorbar": {
             "outlinewidth": 0,
             "ticks": ""
            },
            "type": "choropleth"
           }
          ],
          "contour": [
           {
            "colorbar": {
             "outlinewidth": 0,
             "ticks": ""
            },
            "colorscale": [
             [
              0,
              "#0d0887"
             ],
             [
              0.1111111111111111,
              "#46039f"
             ],
             [
              0.2222222222222222,
              "#7201a8"
             ],
             [
              0.3333333333333333,
              "#9c179e"
             ],
             [
              0.4444444444444444,
              "#bd3786"
             ],
             [
              0.5555555555555556,
              "#d8576b"
             ],
             [
              0.6666666666666666,
              "#ed7953"
             ],
             [
              0.7777777777777778,
              "#fb9f3a"
             ],
             [
              0.8888888888888888,
              "#fdca26"
             ],
             [
              1,
              "#f0f921"
             ]
            ],
            "type": "contour"
           }
          ],
          "contourcarpet": [
           {
            "colorbar": {
             "outlinewidth": 0,
             "ticks": ""
            },
            "type": "contourcarpet"
           }
          ],
          "heatmap": [
           {
            "colorbar": {
             "outlinewidth": 0,
             "ticks": ""
            },
            "colorscale": [
             [
              0,
              "#0d0887"
             ],
             [
              0.1111111111111111,
              "#46039f"
             ],
             [
              0.2222222222222222,
              "#7201a8"
             ],
             [
              0.3333333333333333,
              "#9c179e"
             ],
             [
              0.4444444444444444,
              "#bd3786"
             ],
             [
              0.5555555555555556,
              "#d8576b"
             ],
             [
              0.6666666666666666,
              "#ed7953"
             ],
             [
              0.7777777777777778,
              "#fb9f3a"
             ],
             [
              0.8888888888888888,
              "#fdca26"
             ],
             [
              1,
              "#f0f921"
             ]
            ],
            "type": "heatmap"
           }
          ],
          "heatmapgl": [
           {
            "colorbar": {
             "outlinewidth": 0,
             "ticks": ""
            },
            "colorscale": [
             [
              0,
              "#0d0887"
             ],
             [
              0.1111111111111111,
              "#46039f"
             ],
             [
              0.2222222222222222,
              "#7201a8"
             ],
             [
              0.3333333333333333,
              "#9c179e"
             ],
             [
              0.4444444444444444,
              "#bd3786"
             ],
             [
              0.5555555555555556,
              "#d8576b"
             ],
             [
              0.6666666666666666,
              "#ed7953"
             ],
             [
              0.7777777777777778,
              "#fb9f3a"
             ],
             [
              0.8888888888888888,
              "#fdca26"
             ],
             [
              1,
              "#f0f921"
             ]
            ],
            "type": "heatmapgl"
           }
          ],
          "histogram": [
           {
            "marker": {
             "pattern": {
              "fillmode": "overlay",
              "size": 10,
              "solidity": 0.2
             }
            },
            "type": "histogram"
           }
          ],
          "histogram2d": [
           {
            "colorbar": {
             "outlinewidth": 0,
             "ticks": ""
            },
            "colorscale": [
             [
              0,
              "#0d0887"
             ],
             [
              0.1111111111111111,
              "#46039f"
             ],
             [
              0.2222222222222222,
              "#7201a8"
             ],
             [
              0.3333333333333333,
              "#9c179e"
             ],
             [
              0.4444444444444444,
              "#bd3786"
             ],
             [
              0.5555555555555556,
              "#d8576b"
             ],
             [
              0.6666666666666666,
              "#ed7953"
             ],
             [
              0.7777777777777778,
              "#fb9f3a"
             ],
             [
              0.8888888888888888,
              "#fdca26"
             ],
             [
              1,
              "#f0f921"
             ]
            ],
            "type": "histogram2d"
           }
          ],
          "histogram2dcontour": [
           {
            "colorbar": {
             "outlinewidth": 0,
             "ticks": ""
            },
            "colorscale": [
             [
              0,
              "#0d0887"
             ],
             [
              0.1111111111111111,
              "#46039f"
             ],
             [
              0.2222222222222222,
              "#7201a8"
             ],
             [
              0.3333333333333333,
              "#9c179e"
             ],
             [
              0.4444444444444444,
              "#bd3786"
             ],
             [
              0.5555555555555556,
              "#d8576b"
             ],
             [
              0.6666666666666666,
              "#ed7953"
             ],
             [
              0.7777777777777778,
              "#fb9f3a"
             ],
             [
              0.8888888888888888,
              "#fdca26"
             ],
             [
              1,
              "#f0f921"
             ]
            ],
            "type": "histogram2dcontour"
           }
          ],
          "mesh3d": [
           {
            "colorbar": {
             "outlinewidth": 0,
             "ticks": ""
            },
            "type": "mesh3d"
           }
          ],
          "parcoords": [
           {
            "line": {
             "colorbar": {
              "outlinewidth": 0,
              "ticks": ""
             }
            },
            "type": "parcoords"
           }
          ],
          "pie": [
           {
            "automargin": true,
            "type": "pie"
           }
          ],
          "scatter": [
           {
            "fillpattern": {
             "fillmode": "overlay",
             "size": 10,
             "solidity": 0.2
            },
            "type": "scatter"
           }
          ],
          "scatter3d": [
           {
            "line": {
             "colorbar": {
              "outlinewidth": 0,
              "ticks": ""
             }
            },
            "marker": {
             "colorbar": {
              "outlinewidth": 0,
              "ticks": ""
             }
            },
            "type": "scatter3d"
           }
          ],
          "scattercarpet": [
           {
            "marker": {
             "colorbar": {
              "outlinewidth": 0,
              "ticks": ""
             }
            },
            "type": "scattercarpet"
           }
          ],
          "scattergeo": [
           {
            "marker": {
             "colorbar": {
              "outlinewidth": 0,
              "ticks": ""
             }
            },
            "type": "scattergeo"
           }
          ],
          "scattergl": [
           {
            "marker": {
             "colorbar": {
              "outlinewidth": 0,
              "ticks": ""
             }
            },
            "type": "scattergl"
           }
          ],
          "scattermapbox": [
           {
            "marker": {
             "colorbar": {
              "outlinewidth": 0,
              "ticks": ""
             }
            },
            "type": "scattermapbox"
           }
          ],
          "scatterpolar": [
           {
            "marker": {
             "colorbar": {
              "outlinewidth": 0,
              "ticks": ""
             }
            },
            "type": "scatterpolar"
           }
          ],
          "scatterpolargl": [
           {
            "marker": {
             "colorbar": {
              "outlinewidth": 0,
              "ticks": ""
             }
            },
            "type": "scatterpolargl"
           }
          ],
          "scatterternary": [
           {
            "marker": {
             "colorbar": {
              "outlinewidth": 0,
              "ticks": ""
             }
            },
            "type": "scatterternary"
           }
          ],
          "surface": [
           {
            "colorbar": {
             "outlinewidth": 0,
             "ticks": ""
            },
            "colorscale": [
             [
              0,
              "#0d0887"
             ],
             [
              0.1111111111111111,
              "#46039f"
             ],
             [
              0.2222222222222222,
              "#7201a8"
             ],
             [
              0.3333333333333333,
              "#9c179e"
             ],
             [
              0.4444444444444444,
              "#bd3786"
             ],
             [
              0.5555555555555556,
              "#d8576b"
             ],
             [
              0.6666666666666666,
              "#ed7953"
             ],
             [
              0.7777777777777778,
              "#fb9f3a"
             ],
             [
              0.8888888888888888,
              "#fdca26"
             ],
             [
              1,
              "#f0f921"
             ]
            ],
            "type": "surface"
           }
          ],
          "table": [
           {
            "cells": {
             "fill": {
              "color": "#EBF0F8"
             },
             "line": {
              "color": "white"
             }
            },
            "header": {
             "fill": {
              "color": "#C8D4E3"
             },
             "line": {
              "color": "white"
             }
            },
            "type": "table"
           }
          ]
         },
         "layout": {
          "annotationdefaults": {
           "arrowcolor": "#2a3f5f",
           "arrowhead": 0,
           "arrowwidth": 1
          },
          "autotypenumbers": "strict",
          "coloraxis": {
           "colorbar": {
            "outlinewidth": 0,
            "ticks": ""
           }
          },
          "colorscale": {
           "diverging": [
            [
             0,
             "#8e0152"
            ],
            [
             0.1,
             "#c51b7d"
            ],
            [
             0.2,
             "#de77ae"
            ],
            [
             0.3,
             "#f1b6da"
            ],
            [
             0.4,
             "#fde0ef"
            ],
            [
             0.5,
             "#f7f7f7"
            ],
            [
             0.6,
             "#e6f5d0"
            ],
            [
             0.7,
             "#b8e186"
            ],
            [
             0.8,
             "#7fbc41"
            ],
            [
             0.9,
             "#4d9221"
            ],
            [
             1,
             "#276419"
            ]
           ],
           "sequential": [
            [
             0,
             "#0d0887"
            ],
            [
             0.1111111111111111,
             "#46039f"
            ],
            [
             0.2222222222222222,
             "#7201a8"
            ],
            [
             0.3333333333333333,
             "#9c179e"
            ],
            [
             0.4444444444444444,
             "#bd3786"
            ],
            [
             0.5555555555555556,
             "#d8576b"
            ],
            [
             0.6666666666666666,
             "#ed7953"
            ],
            [
             0.7777777777777778,
             "#fb9f3a"
            ],
            [
             0.8888888888888888,
             "#fdca26"
            ],
            [
             1,
             "#f0f921"
            ]
           ],
           "sequentialminus": [
            [
             0,
             "#0d0887"
            ],
            [
             0.1111111111111111,
             "#46039f"
            ],
            [
             0.2222222222222222,
             "#7201a8"
            ],
            [
             0.3333333333333333,
             "#9c179e"
            ],
            [
             0.4444444444444444,
             "#bd3786"
            ],
            [
             0.5555555555555556,
             "#d8576b"
            ],
            [
             0.6666666666666666,
             "#ed7953"
            ],
            [
             0.7777777777777778,
             "#fb9f3a"
            ],
            [
             0.8888888888888888,
             "#fdca26"
            ],
            [
             1,
             "#f0f921"
            ]
           ]
          },
          "colorway": [
           "#636efa",
           "#EF553B",
           "#00cc96",
           "#ab63fa",
           "#FFA15A",
           "#19d3f3",
           "#FF6692",
           "#B6E880",
           "#FF97FF",
           "#FECB52"
          ],
          "font": {
           "color": "#2a3f5f"
          },
          "geo": {
           "bgcolor": "white",
           "lakecolor": "white",
           "landcolor": "#E5ECF6",
           "showlakes": true,
           "showland": true,
           "subunitcolor": "white"
          },
          "hoverlabel": {
           "align": "left"
          },
          "hovermode": "closest",
          "mapbox": {
           "style": "light"
          },
          "paper_bgcolor": "white",
          "plot_bgcolor": "#E5ECF6",
          "polar": {
           "angularaxis": {
            "gridcolor": "white",
            "linecolor": "white",
            "ticks": ""
           },
           "bgcolor": "#E5ECF6",
           "radialaxis": {
            "gridcolor": "white",
            "linecolor": "white",
            "ticks": ""
           }
          },
          "scene": {
           "xaxis": {
            "backgroundcolor": "#E5ECF6",
            "gridcolor": "white",
            "gridwidth": 2,
            "linecolor": "white",
            "showbackground": true,
            "ticks": "",
            "zerolinecolor": "white"
           },
           "yaxis": {
            "backgroundcolor": "#E5ECF6",
            "gridcolor": "white",
            "gridwidth": 2,
            "linecolor": "white",
            "showbackground": true,
            "ticks": "",
            "zerolinecolor": "white"
           },
           "zaxis": {
            "backgroundcolor": "#E5ECF6",
            "gridcolor": "white",
            "gridwidth": 2,
            "linecolor": "white",
            "showbackground": true,
            "ticks": "",
            "zerolinecolor": "white"
           }
          },
          "shapedefaults": {
           "line": {
            "color": "#2a3f5f"
           }
          },
          "ternary": {
           "aaxis": {
            "gridcolor": "white",
            "linecolor": "white",
            "ticks": ""
           },
           "baxis": {
            "gridcolor": "white",
            "linecolor": "white",
            "ticks": ""
           },
           "bgcolor": "#E5ECF6",
           "caxis": {
            "gridcolor": "white",
            "linecolor": "white",
            "ticks": ""
           }
          },
          "title": {
           "x": 0.05
          },
          "xaxis": {
           "automargin": true,
           "gridcolor": "white",
           "linecolor": "white",
           "ticks": "",
           "title": {
            "standoff": 15
           },
           "zerolinecolor": "white",
           "zerolinewidth": 2
          },
          "yaxis": {
           "automargin": true,
           "gridcolor": "white",
           "linecolor": "white",
           "ticks": "",
           "title": {
            "standoff": 15
           },
           "zerolinecolor": "white",
           "zerolinewidth": 2
          }
         }
        },
        "title": {
         "font": {
          "color": "#4D5663"
         }
        },
        "xaxis": {
         "gridcolor": "#E1E5ED",
         "showgrid": true,
         "tickfont": {
          "color": "#4D5663"
         },
         "title": {
          "font": {
           "color": "#4D5663"
          },
          "text": ""
         },
         "zerolinecolor": "#E1E5ED"
        },
        "yaxis": {
         "gridcolor": "#E1E5ED",
         "showgrid": true,
         "tickfont": {
          "color": "#4D5663"
         },
         "title": {
          "font": {
           "color": "#4D5663"
          },
          "text": ""
         },
         "zerolinecolor": "#E1E5ED"
        }
       }
      },
      "text/html": [
       "<div>                            <div id=\"c240d11b-8da6-41a2-9be5-0caf18148f3a\" class=\"plotly-graph-div\" style=\"height:525px; width:100%;\"></div>            <script type=\"text/javascript\">                require([\"plotly\"], function(Plotly) {                    window.PLOTLYENV=window.PLOTLYENV || {};\n",
       "                    window.PLOTLYENV.BASE_URL='https://plot.ly';                                    if (document.getElementById(\"c240d11b-8da6-41a2-9be5-0caf18148f3a\")) {                    Plotly.newPlot(                        \"c240d11b-8da6-41a2-9be5-0caf18148f3a\",                        [{\"line\":{\"color\":\"rgba(255, 153, 51, 1.0)\",\"dash\":\"solid\",\"shape\":\"linear\",\"width\":1.3},\"mode\":\"lines\",\"name\":\"A\",\"text\":\"\",\"x\":[0,1,2,3,4,5,6,7,8,9,10,11,12,13,14,15,16,17,18,19,20,21,22,23,24,25,26,27,28,29,30,31,32,33,34,35,36,37,38,39,40,41,42,43,44,45,46,47,48,49,50,51,52,53,54,55,56,57,58,59,60,61,62,63,64,65,66,67,68,69,70,71,72,73,74,75,76,77,78,79,80,81,82,83,84,85,86,87,88,89,90,91,92,93,94,95,96,97,98,99],\"y\":[-1.0923337293149284,-2.0781492118661067,0.37939518190692695,-0.7190862893057279,-1.306981706844912,-1.2746452828483765,2.0386521509466133,0.4571562906085622,0.5646674565588324,-0.19728746111101933,-1.5545237424626082,-0.384738118628159,-1.7211902708431763,-1.0146279914953176,-1.20971670319116,0.14202250545867826,-0.5913702786280065,0.34630802640166725,0.8724661379660018,-1.9726687156537879,1.47600345337335,-0.6378093357757293,0.48556176289761765,-1.5793613103729656,-0.8488240789561119,-2.033197466823189,-1.3439532253037423,0.4593132281562622,1.311394571935037,1.6184860243708505,0.30076360915832145,0.27675074484014095,-0.8681400647259297,-1.6706517365170381,1.981258532086849,-0.7247662228417906,0.679644123279134,0.15172087880432622,-1.1055504850749163,0.9941760311481035,-0.3211597175933281,1.6181151288901754,0.46785624522330344,-1.502595878263109,0.37043926030296503,0.9416030351944773,0.9346452924490035,1.5461613045088574,-0.06780548978955571,-0.6404783886286477,-0.41838217836772007,-2.007362235839705,0.5796833818170262,1.5102022098495884,-1.4842024209005444,0.14145714591268363,1.1125417192490477,-0.4594756514909543,1.4395249370905343,-1.7830112967444773,1.6176772850550776,-0.5429208665594282,2.509528902012767,-0.6838519964550716,0.6564933701013952,0.1155899588226904,-0.31743405666731844,-0.15527308006478074,2.4109574343285796,-0.2778877093210399,1.1826363931873685,-0.5947787402094271,0.4504168780303436,-1.257796017917157,1.6779059773217855,1.6376902133682731,-0.16518410358959518,-1.5236646320380554,-2.4774568301470743,-0.05957565380558088,0.5393476784112567,-0.08921463694237758,-1.6296100629156132,-1.5361744245809932,0.3700377788287299,0.0005175717865556624,-0.5209426107947295,-0.3149794335859631,-1.324730175288288,0.2672896099844363,0.6791278731082967,-0.6163650003691549,0.6880624337969236,-0.25562893424351874,-1.1273699751213366,-1.815295977116595,-2.0966158917395092,-0.6449160154882229,0.45601621892721184,0.21958108584169653],\"type\":\"scatter\"},{\"line\":{\"color\":\"rgba(55, 128, 191, 1.0)\",\"dash\":\"solid\",\"shape\":\"linear\",\"width\":1.3},\"mode\":\"lines\",\"name\":\"B\",\"text\":\"\",\"x\":[0,1,2,3,4,5,6,7,8,9,10,11,12,13,14,15,16,17,18,19,20,21,22,23,24,25,26,27,28,29,30,31,32,33,34,35,36,37,38,39,40,41,42,43,44,45,46,47,48,49,50,51,52,53,54,55,56,57,58,59,60,61,62,63,64,65,66,67,68,69,70,71,72,73,74,75,76,77,78,79,80,81,82,83,84,85,86,87,88,89,90,91,92,93,94,95,96,97,98,99],\"y\":[-1.7193965681715644,-0.1368837700516308,-1.3863508732548724,0.8940718211430638,-1.2769763644204217,-0.7238631907575013,0.6735413687699853,-1.544395586102453,0.10316599447042912,-0.7587306745548325,-0.8846414575052386,-1.3904587529355539,0.8773638996234677,0.8212560699748934,0.5554863054924705,-0.7664971163652307,0.4356394912321261,-1.022002375733953,-0.4873809030873033,0.6364402444810763,-0.2835710138103869,-0.7322722682810722,1.1147826605796656,1.0271801835915026,-0.6062456074965235,0.42405683028592056,1.0053329592855356,1.226104607895886,0.9552639319869569,-0.8981980160520491,0.5660031815068062,0.40994386953910444,-0.50068266818782,1.12295475536846,-0.7462629384634385,0.4235023106279353,1.0308336376877147,1.0045221407523843,-0.8640303613435607,0.5288649040515808,-0.5955471526902085,-1.082208704788851,-0.7664458058199631,-0.6177907812041806,0.025684199511414197,1.007094271700722,0.25212133647926055,-0.39915724676718206,-1.187177196982634,-0.5582658021195958,-0.6852210925131491,0.8495247928567622,0.19208080156890264,-0.6604041038306913,-0.33832791607885443,0.3339456809751132,-1.1521330432391648,0.7005342060055535,1.359324977703213,0.5464409439463422,-0.5331521450831396,-0.04836972831236757,-0.502319677601178,0.8742645521111125,0.11930570427098522,0.0274776329550404,-0.22917254265300607,-0.10231795995401932,0.3054420673877523,-2.267587930302041,0.532456554409428,0.09979490656072385,0.9497085041225107,-0.8344539924246323,0.24108859879438588,0.10955161192267206,0.1621619253533421,0.963144066179245,1.4456454418439741,0.16883069652352514,0.27698848246997243,-0.4074378447487595,-1.4092332138452925,-0.19240056920140658,0.2552212460704818,1.184993511404738,1.2498614430595372,2.624504136085911,-0.557768238696504,0.24856073153263092,-1.5157975669335049,0.35620332524009074,0.7738743349962125,0.7159810275603783,-0.2913519067816197,0.808816780792982,0.6147435017668949,0.3080351297119216,-0.2756273887896661,-0.8128188788082107],\"type\":\"scatter\"},{\"line\":{\"color\":\"rgba(50, 171, 96, 1.0)\",\"dash\":\"solid\",\"shape\":\"linear\",\"width\":1.3},\"mode\":\"lines\",\"name\":\"C\",\"text\":\"\",\"x\":[0,1,2,3,4,5,6,7,8,9,10,11,12,13,14,15,16,17,18,19,20,21,22,23,24,25,26,27,28,29,30,31,32,33,34,35,36,37,38,39,40,41,42,43,44,45,46,47,48,49,50,51,52,53,54,55,56,57,58,59,60,61,62,63,64,65,66,67,68,69,70,71,72,73,74,75,76,77,78,79,80,81,82,83,84,85,86,87,88,89,90,91,92,93,94,95,96,97,98,99],\"y\":[-1.3671982705139205,1.8038634705753702,0.8518794089930897,0.4961468116612519,0.5385286866381881,0.5387599300805613,2.3393110803847703,0.044469795897239206,-0.9723630302576085,0.06816389650984728,-2.3491535356841506,0.8299366395308962,0.023516488453009098,-1.9748636693830517,0.7109207798922846,1.4802193267279153,-0.5906125081744056,-0.4913327212070444,0.02720747902096856,0.024927220827373926,-0.3253335010537075,0.298954985331685,1.1133363660721576,0.7859894919091311,0.14736771231233772,-2.4022824416961384,0.4663820635186494,0.22479940542551932,-1.146491002852046,0.5965206609896758,0.006147863023429594,-1.913185577736801,0.5752326683985832,-2.1017473662298944,0.7921447583818543,1.5299880078498058,-1.6127618650563116,-1.025296672639018,0.19069427649673265,-0.4242780943029033,-1.0024126309186387,-0.2784341009220419,-0.15336588612352278,1.1628063732202638,0.537384966621655,0.0340563716876641,0.8404572466068269,-0.10262525512318679,0.45831953161583144,-0.1594277498264213,-1.5415310246151166,-1.2940245024685884,0.9847379603968551,0.31918665408874,0.28051709158573207,0.2529049143353036,-0.10708411581506712,2.081124279831631,-0.22972304566227697,0.7122293834411272,0.36067165266692175,0.05975349272893051,0.9823005409149966,-1.5670542931620877,-0.7211014139546598,0.6571857458450026,-1.224813987709555,0.6760452284650974,0.7468691520740225,-0.1064294663329504,0.07823003208401025,-1.211260786179961,-0.2507330963287083,-1.0498301393965932,-0.4635858188673504,-0.44339818253145274,0.5991483004348718,0.8101064082786154,0.6837386870752354,1.3789523452711638,-0.12508298582270108,-0.5194034843459431,-0.011442869317453376,1.4100528518053705,-1.0830506105328965,0.8682594104795153,0.32923768201341397,-2.0274091442234723,-0.28865637896908664,-1.44879234502546,0.808582764828252,-0.08441957054856478,-0.9652079045250305,0.8768242711165376,-1.1452356780594415,0.5238248226829386,1.2717490055551466,0.11157070506528344,0.5859823196905998,-0.02184333297520452],\"type\":\"scatter\"},{\"line\":{\"color\":\"rgba(128, 0, 128, 1.0)\",\"dash\":\"solid\",\"shape\":\"linear\",\"width\":1.3},\"mode\":\"lines\",\"name\":\"D\",\"text\":\"\",\"x\":[0,1,2,3,4,5,6,7,8,9,10,11,12,13,14,15,16,17,18,19,20,21,22,23,24,25,26,27,28,29,30,31,32,33,34,35,36,37,38,39,40,41,42,43,44,45,46,47,48,49,50,51,52,53,54,55,56,57,58,59,60,61,62,63,64,65,66,67,68,69,70,71,72,73,74,75,76,77,78,79,80,81,82,83,84,85,86,87,88,89,90,91,92,93,94,95,96,97,98,99],\"y\":[-0.39988917281411895,-0.08427834685558307,-0.8555749678640472,1.2115164155487135,-0.3204263046742039,0.9325300138855359,0.23823490542560186,-0.2817449772808499,-2.6837154525972067,1.376268660477527,0.7044590138860204,-0.4143541682304058,-0.23892219554863192,-0.27293640074320996,1.8569043927686038,-0.6994641300708796,-0.042450037571248454,1.0092147025298892,0.22530552151285316,0.5614788656602961,0.8646479525364168,-1.4054718540663913,-0.020603807649052303,0.13573918794148082,0.6385600107890124,2.305679513693059,-1.1647480974083206,-1.233446819900803,0.1027342245164634,0.8966616966747727,-0.2740108796144059,1.3356493411638928,-0.3682828183396071,-1.1777597205923491,1.6517006846478604,-0.9310495663804381,-0.1764691619015124,-1.82112316367271,-1.985920365224456,-0.46066578580761425,-0.34577078883185164,-0.5993915942964207,1.2507212354051582,-1.286325827700686,-0.6191078556005283,0.36502426884477984,-1.1738852903008543,0.743396626800996,0.34911049874263733,-0.9858861472707343,-1.0972696338893668,-2.194611027961421,0.5805933472434314,1.0242278349929632,0.3197111673724903,0.0006139625049555972,-0.1260605955264569,1.8442528112882317,2.6425574860336907,-0.11323637012485127,0.13222170448619786,-0.6883890450638546,-0.8399933313579645,0.2576979856645614,-0.549418500227889,-0.1409206691692825,-0.23995167724485023,-0.8844065721706169,0.1359147505484607,-0.2527020500697689,-0.22496419501327664,-1.6997258928360441,-0.09093089700840525,0.02991206945741362,-2.603375484406349,1.5272720407635196,-1.036167695601901,-1.3852746627259174,0.8602732268532293,-0.746393872987051,-1.654380964454767,1.1817477020004798,-0.007026857312073789,-0.0467914860392762,-0.8771525423393569,-1.0436052917221854,0.5538875479690459,-0.19921372871518556,-0.145656880402513,0.008683346101018435,0.5497559503764691,1.6110350255442751,-0.3084392722253547,0.9609274243937833,0.5716395630368614,-0.9946655477115673,-0.46921842211505355,0.9207181284807262,-0.46332250062491487,0.5106644458384013],\"type\":\"scatter\"}],                        {\"legend\":{\"bgcolor\":\"#F5F6F9\",\"font\":{\"color\":\"#4D5663\"}},\"paper_bgcolor\":\"#F5F6F9\",\"plot_bgcolor\":\"#F5F6F9\",\"template\":{\"data\":{\"barpolar\":[{\"marker\":{\"line\":{\"color\":\"#E5ECF6\",\"width\":0.5},\"pattern\":{\"fillmode\":\"overlay\",\"size\":10,\"solidity\":0.2}},\"type\":\"barpolar\"}],\"bar\":[{\"error_x\":{\"color\":\"#2a3f5f\"},\"error_y\":{\"color\":\"#2a3f5f\"},\"marker\":{\"line\":{\"color\":\"#E5ECF6\",\"width\":0.5},\"pattern\":{\"fillmode\":\"overlay\",\"size\":10,\"solidity\":0.2}},\"type\":\"bar\"}],\"carpet\":[{\"aaxis\":{\"endlinecolor\":\"#2a3f5f\",\"gridcolor\":\"white\",\"linecolor\":\"white\",\"minorgridcolor\":\"white\",\"startlinecolor\":\"#2a3f5f\"},\"baxis\":{\"endlinecolor\":\"#2a3f5f\",\"gridcolor\":\"white\",\"linecolor\":\"white\",\"minorgridcolor\":\"white\",\"startlinecolor\":\"#2a3f5f\"},\"type\":\"carpet\"}],\"choropleth\":[{\"colorbar\":{\"outlinewidth\":0,\"ticks\":\"\"},\"type\":\"choropleth\"}],\"contourcarpet\":[{\"colorbar\":{\"outlinewidth\":0,\"ticks\":\"\"},\"type\":\"contourcarpet\"}],\"contour\":[{\"colorbar\":{\"outlinewidth\":0,\"ticks\":\"\"},\"colorscale\":[[0.0,\"#0d0887\"],[0.1111111111111111,\"#46039f\"],[0.2222222222222222,\"#7201a8\"],[0.3333333333333333,\"#9c179e\"],[0.4444444444444444,\"#bd3786\"],[0.5555555555555556,\"#d8576b\"],[0.6666666666666666,\"#ed7953\"],[0.7777777777777778,\"#fb9f3a\"],[0.8888888888888888,\"#fdca26\"],[1.0,\"#f0f921\"]],\"type\":\"contour\"}],\"heatmapgl\":[{\"colorbar\":{\"outlinewidth\":0,\"ticks\":\"\"},\"colorscale\":[[0.0,\"#0d0887\"],[0.1111111111111111,\"#46039f\"],[0.2222222222222222,\"#7201a8\"],[0.3333333333333333,\"#9c179e\"],[0.4444444444444444,\"#bd3786\"],[0.5555555555555556,\"#d8576b\"],[0.6666666666666666,\"#ed7953\"],[0.7777777777777778,\"#fb9f3a\"],[0.8888888888888888,\"#fdca26\"],[1.0,\"#f0f921\"]],\"type\":\"heatmapgl\"}],\"heatmap\":[{\"colorbar\":{\"outlinewidth\":0,\"ticks\":\"\"},\"colorscale\":[[0.0,\"#0d0887\"],[0.1111111111111111,\"#46039f\"],[0.2222222222222222,\"#7201a8\"],[0.3333333333333333,\"#9c179e\"],[0.4444444444444444,\"#bd3786\"],[0.5555555555555556,\"#d8576b\"],[0.6666666666666666,\"#ed7953\"],[0.7777777777777778,\"#fb9f3a\"],[0.8888888888888888,\"#fdca26\"],[1.0,\"#f0f921\"]],\"type\":\"heatmap\"}],\"histogram2dcontour\":[{\"colorbar\":{\"outlinewidth\":0,\"ticks\":\"\"},\"colorscale\":[[0.0,\"#0d0887\"],[0.1111111111111111,\"#46039f\"],[0.2222222222222222,\"#7201a8\"],[0.3333333333333333,\"#9c179e\"],[0.4444444444444444,\"#bd3786\"],[0.5555555555555556,\"#d8576b\"],[0.6666666666666666,\"#ed7953\"],[0.7777777777777778,\"#fb9f3a\"],[0.8888888888888888,\"#fdca26\"],[1.0,\"#f0f921\"]],\"type\":\"histogram2dcontour\"}],\"histogram2d\":[{\"colorbar\":{\"outlinewidth\":0,\"ticks\":\"\"},\"colorscale\":[[0.0,\"#0d0887\"],[0.1111111111111111,\"#46039f\"],[0.2222222222222222,\"#7201a8\"],[0.3333333333333333,\"#9c179e\"],[0.4444444444444444,\"#bd3786\"],[0.5555555555555556,\"#d8576b\"],[0.6666666666666666,\"#ed7953\"],[0.7777777777777778,\"#fb9f3a\"],[0.8888888888888888,\"#fdca26\"],[1.0,\"#f0f921\"]],\"type\":\"histogram2d\"}],\"histogram\":[{\"marker\":{\"pattern\":{\"fillmode\":\"overlay\",\"size\":10,\"solidity\":0.2}},\"type\":\"histogram\"}],\"mesh3d\":[{\"colorbar\":{\"outlinewidth\":0,\"ticks\":\"\"},\"type\":\"mesh3d\"}],\"parcoords\":[{\"line\":{\"colorbar\":{\"outlinewidth\":0,\"ticks\":\"\"}},\"type\":\"parcoords\"}],\"pie\":[{\"automargin\":true,\"type\":\"pie\"}],\"scatter3d\":[{\"line\":{\"colorbar\":{\"outlinewidth\":0,\"ticks\":\"\"}},\"marker\":{\"colorbar\":{\"outlinewidth\":0,\"ticks\":\"\"}},\"type\":\"scatter3d\"}],\"scattercarpet\":[{\"marker\":{\"colorbar\":{\"outlinewidth\":0,\"ticks\":\"\"}},\"type\":\"scattercarpet\"}],\"scattergeo\":[{\"marker\":{\"colorbar\":{\"outlinewidth\":0,\"ticks\":\"\"}},\"type\":\"scattergeo\"}],\"scattergl\":[{\"marker\":{\"colorbar\":{\"outlinewidth\":0,\"ticks\":\"\"}},\"type\":\"scattergl\"}],\"scattermapbox\":[{\"marker\":{\"colorbar\":{\"outlinewidth\":0,\"ticks\":\"\"}},\"type\":\"scattermapbox\"}],\"scatterpolargl\":[{\"marker\":{\"colorbar\":{\"outlinewidth\":0,\"ticks\":\"\"}},\"type\":\"scatterpolargl\"}],\"scatterpolar\":[{\"marker\":{\"colorbar\":{\"outlinewidth\":0,\"ticks\":\"\"}},\"type\":\"scatterpolar\"}],\"scatter\":[{\"fillpattern\":{\"fillmode\":\"overlay\",\"size\":10,\"solidity\":0.2},\"type\":\"scatter\"}],\"scatterternary\":[{\"marker\":{\"colorbar\":{\"outlinewidth\":0,\"ticks\":\"\"}},\"type\":\"scatterternary\"}],\"surface\":[{\"colorbar\":{\"outlinewidth\":0,\"ticks\":\"\"},\"colorscale\":[[0.0,\"#0d0887\"],[0.1111111111111111,\"#46039f\"],[0.2222222222222222,\"#7201a8\"],[0.3333333333333333,\"#9c179e\"],[0.4444444444444444,\"#bd3786\"],[0.5555555555555556,\"#d8576b\"],[0.6666666666666666,\"#ed7953\"],[0.7777777777777778,\"#fb9f3a\"],[0.8888888888888888,\"#fdca26\"],[1.0,\"#f0f921\"]],\"type\":\"surface\"}],\"table\":[{\"cells\":{\"fill\":{\"color\":\"#EBF0F8\"},\"line\":{\"color\":\"white\"}},\"header\":{\"fill\":{\"color\":\"#C8D4E3\"},\"line\":{\"color\":\"white\"}},\"type\":\"table\"}]},\"layout\":{\"annotationdefaults\":{\"arrowcolor\":\"#2a3f5f\",\"arrowhead\":0,\"arrowwidth\":1},\"autotypenumbers\":\"strict\",\"coloraxis\":{\"colorbar\":{\"outlinewidth\":0,\"ticks\":\"\"}},\"colorscale\":{\"diverging\":[[0,\"#8e0152\"],[0.1,\"#c51b7d\"],[0.2,\"#de77ae\"],[0.3,\"#f1b6da\"],[0.4,\"#fde0ef\"],[0.5,\"#f7f7f7\"],[0.6,\"#e6f5d0\"],[0.7,\"#b8e186\"],[0.8,\"#7fbc41\"],[0.9,\"#4d9221\"],[1,\"#276419\"]],\"sequential\":[[0.0,\"#0d0887\"],[0.1111111111111111,\"#46039f\"],[0.2222222222222222,\"#7201a8\"],[0.3333333333333333,\"#9c179e\"],[0.4444444444444444,\"#bd3786\"],[0.5555555555555556,\"#d8576b\"],[0.6666666666666666,\"#ed7953\"],[0.7777777777777778,\"#fb9f3a\"],[0.8888888888888888,\"#fdca26\"],[1.0,\"#f0f921\"]],\"sequentialminus\":[[0.0,\"#0d0887\"],[0.1111111111111111,\"#46039f\"],[0.2222222222222222,\"#7201a8\"],[0.3333333333333333,\"#9c179e\"],[0.4444444444444444,\"#bd3786\"],[0.5555555555555556,\"#d8576b\"],[0.6666666666666666,\"#ed7953\"],[0.7777777777777778,\"#fb9f3a\"],[0.8888888888888888,\"#fdca26\"],[1.0,\"#f0f921\"]]},\"colorway\":[\"#636efa\",\"#EF553B\",\"#00cc96\",\"#ab63fa\",\"#FFA15A\",\"#19d3f3\",\"#FF6692\",\"#B6E880\",\"#FF97FF\",\"#FECB52\"],\"font\":{\"color\":\"#2a3f5f\"},\"geo\":{\"bgcolor\":\"white\",\"lakecolor\":\"white\",\"landcolor\":\"#E5ECF6\",\"showlakes\":true,\"showland\":true,\"subunitcolor\":\"white\"},\"hoverlabel\":{\"align\":\"left\"},\"hovermode\":\"closest\",\"mapbox\":{\"style\":\"light\"},\"paper_bgcolor\":\"white\",\"plot_bgcolor\":\"#E5ECF6\",\"polar\":{\"angularaxis\":{\"gridcolor\":\"white\",\"linecolor\":\"white\",\"ticks\":\"\"},\"bgcolor\":\"#E5ECF6\",\"radialaxis\":{\"gridcolor\":\"white\",\"linecolor\":\"white\",\"ticks\":\"\"}},\"scene\":{\"xaxis\":{\"backgroundcolor\":\"#E5ECF6\",\"gridcolor\":\"white\",\"gridwidth\":2,\"linecolor\":\"white\",\"showbackground\":true,\"ticks\":\"\",\"zerolinecolor\":\"white\"},\"yaxis\":{\"backgroundcolor\":\"#E5ECF6\",\"gridcolor\":\"white\",\"gridwidth\":2,\"linecolor\":\"white\",\"showbackground\":true,\"ticks\":\"\",\"zerolinecolor\":\"white\"},\"zaxis\":{\"backgroundcolor\":\"#E5ECF6\",\"gridcolor\":\"white\",\"gridwidth\":2,\"linecolor\":\"white\",\"showbackground\":true,\"ticks\":\"\",\"zerolinecolor\":\"white\"}},\"shapedefaults\":{\"line\":{\"color\":\"#2a3f5f\"}},\"ternary\":{\"aaxis\":{\"gridcolor\":\"white\",\"linecolor\":\"white\",\"ticks\":\"\"},\"baxis\":{\"gridcolor\":\"white\",\"linecolor\":\"white\",\"ticks\":\"\"},\"bgcolor\":\"#E5ECF6\",\"caxis\":{\"gridcolor\":\"white\",\"linecolor\":\"white\",\"ticks\":\"\"}},\"title\":{\"x\":0.05},\"xaxis\":{\"automargin\":true,\"gridcolor\":\"white\",\"linecolor\":\"white\",\"ticks\":\"\",\"title\":{\"standoff\":15},\"zerolinecolor\":\"white\",\"zerolinewidth\":2},\"yaxis\":{\"automargin\":true,\"gridcolor\":\"white\",\"linecolor\":\"white\",\"ticks\":\"\",\"title\":{\"standoff\":15},\"zerolinecolor\":\"white\",\"zerolinewidth\":2}}},\"title\":{\"font\":{\"color\":\"#4D5663\"}},\"xaxis\":{\"gridcolor\":\"#E1E5ED\",\"showgrid\":true,\"tickfont\":{\"color\":\"#4D5663\"},\"title\":{\"font\":{\"color\":\"#4D5663\"},\"text\":\"\"},\"zerolinecolor\":\"#E1E5ED\"},\"yaxis\":{\"gridcolor\":\"#E1E5ED\",\"showgrid\":true,\"tickfont\":{\"color\":\"#4D5663\"},\"title\":{\"font\":{\"color\":\"#4D5663\"},\"text\":\"\"},\"zerolinecolor\":\"#E1E5ED\"}},                        {\"showLink\": true, \"linkText\": \"Export to plot.ly\", \"plotlyServerURL\": \"https://plot.ly\", \"responsive\": true}                    ).then(function(){\n",
       "                            \n",
       "var gd = document.getElementById('c240d11b-8da6-41a2-9be5-0caf18148f3a');\n",
       "var x = new MutationObserver(function (mutations, observer) {{\n",
       "        var display = window.getComputedStyle(gd).display;\n",
       "        if (!display || display === 'none') {{\n",
       "            console.log([gd, 'removed!']);\n",
       "            Plotly.purge(gd);\n",
       "            observer.disconnect();\n",
       "        }}\n",
       "}});\n",
       "\n",
       "// Listen for the removal of the full notebook cells\n",
       "var notebookContainer = gd.closest('#notebook-container');\n",
       "if (notebookContainer) {{\n",
       "    x.observe(notebookContainer, {childList: true});\n",
       "}}\n",
       "\n",
       "// Listen for the clearing of the current output cell\n",
       "var outputEl = gd.closest('.output');\n",
       "if (outputEl) {{\n",
       "    x.observe(outputEl, {childList: true});\n",
       "}}\n",
       "\n",
       "                        })                };                });            </script>        </div>"
      ]
     },
     "metadata": {},
     "output_type": "display_data"
    }
   ],
   "source": [
    "df.iplot()"
   ]
  },
  {
   "cell_type": "code",
   "execution_count": null,
   "id": "277ad57f",
   "metadata": {},
   "outputs": [],
   "source": []
  }
 ],
 "metadata": {
  "kernelspec": {
   "display_name": "Python 3 (ipykernel)",
   "language": "python",
   "name": "python3"
  },
  "language_info": {
   "codemirror_mode": {
    "name": "ipython",
    "version": 3
   },
   "file_extension": ".py",
   "mimetype": "text/x-python",
   "name": "python",
   "nbconvert_exporter": "python",
   "pygments_lexer": "ipython3",
   "version": "3.7.3"
  }
 },
 "nbformat": 4,
 "nbformat_minor": 5
}
